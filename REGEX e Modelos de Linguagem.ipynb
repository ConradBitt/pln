{
  "nbformat": 4,
  "nbformat_minor": 5,
  "metadata": {
    "kernelspec": {
      "display_name": "Python 3",
      "language": "python",
      "name": "python3"
    },
    "language_info": {
      "codemirror_mode": {
        "name": "ipython",
        "version": 3
      },
      "file_extension": ".py",
      "mimetype": "text/x-python",
      "name": "python",
      "nbconvert_exporter": "python",
      "pygments_lexer": "ipython3",
      "version": "3.7.6"
    },
    "colab": {
      "name": "REGEX e Modelos de Linguagem.ipynb",
      "provenance": []
    }
  },
  "cells": [
    {
      "cell_type": "markdown",
      "metadata": {
        "id": "assumed-penny"
      },
      "source": [
        "# Introdução\n",
        "\n",
        "O objetivo deste notebook é estudar alguns modelos de linguagem e como usar expressões regulares no NLP. A base de dados que vou utilizar é a do [stackoverflow](https://stackoverflow.com/) com textos em português, inglês e espanhol."
      ],
      "id": "assumed-penny"
    },
    {
      "cell_type": "markdown",
      "metadata": {
        "id": "living-edition"
      },
      "source": [
        "## Importações"
      ],
      "id": "living-edition"
    },
    {
      "cell_type": "code",
      "metadata": {
        "id": "greenhouse-singing"
      },
      "source": [
        "import pandas as pd\n",
        "import numpy as np"
      ],
      "id": "greenhouse-singing",
      "execution_count": 74,
      "outputs": []
    },
    {
      "cell_type": "code",
      "metadata": {
        "id": "IcTqaxiP4ftr"
      },
      "source": [
        "url_stackoverflow_pt = 'https://raw.githubusercontent.com/ConradBitt/processamento_linguagem_natural/master/dados/stackoverflow_portugues.csv'\n",
        "url_stackoverflow_en = 'https://raw.githubusercontent.com/ConradBitt/processamento_linguagem_natural/master/dados/stackoverflow_ingles.csv'\n",
        "url_stackoverflow_es = 'https://raw.githubusercontent.com/ConradBitt/processamento_linguagem_natural/master/dados/stackoverflow_espanhol.csv'"
      ],
      "id": "IcTqaxiP4ftr",
      "execution_count": 75,
      "outputs": []
    },
    {
      "cell_type": "code",
      "metadata": {
        "id": "educated-palmer"
      },
      "source": [
        "stackoverflow_portugues = pd.read_csv(url_stackoverflow_pt)\n",
        "stackoverflow_ingles = pd.read_csv(url_stackoverflow_en)\n",
        "stackoverflow_espanhol = pd.read_csv(url_stackoverflow_es)"
      ],
      "id": "educated-palmer",
      "execution_count": 76,
      "outputs": []
    },
    {
      "cell_type": "code",
      "metadata": {
        "id": "interior-daughter",
        "outputId": "92b465f1-21cc-497b-e7fd-8e4ab72197d2",
        "colab": {
          "base_uri": "https://localhost:8080/",
          "height": 432
        }
      },
      "source": [
        "stackoverflow_portugues.head()"
      ],
      "id": "interior-daughter",
      "execution_count": 77,
      "outputs": [
        {
          "output_type": "execute_result",
          "data": {
            "text/html": [
              "<div>\n",
              "<style scoped>\n",
              "    .dataframe tbody tr th:only-of-type {\n",
              "        vertical-align: middle;\n",
              "    }\n",
              "\n",
              "    .dataframe tbody tr th {\n",
              "        vertical-align: top;\n",
              "    }\n",
              "\n",
              "    .dataframe thead th {\n",
              "        text-align: right;\n",
              "    }\n",
              "</style>\n",
              "<table border=\"1\" class=\"dataframe\">\n",
              "  <thead>\n",
              "    <tr style=\"text-align: right;\">\n",
              "      <th></th>\n",
              "      <th>Id</th>\n",
              "      <th>Título</th>\n",
              "      <th>Questão</th>\n",
              "      <th>Tags</th>\n",
              "      <th>Pontuação</th>\n",
              "      <th>Visualizações</th>\n",
              "    </tr>\n",
              "  </thead>\n",
              "  <tbody>\n",
              "    <tr>\n",
              "      <th>0</th>\n",
              "      <td>2402</td>\n",
              "      <td>Como fazer hash de senhas de forma segura?</td>\n",
              "      <td>&lt;p&gt;Se eu fizer o &lt;em&gt;&lt;a href=\"http://pt.wikipe...</td>\n",
              "      <td>&lt;hash&gt;&lt;segurança&gt;&lt;senhas&gt;&lt;criptografia&gt;</td>\n",
              "      <td>350</td>\n",
              "      <td>22367</td>\n",
              "    </tr>\n",
              "    <tr>\n",
              "      <th>1</th>\n",
              "      <td>6441</td>\n",
              "      <td>Qual é a diferença entre INNER JOIN e OUTER JOIN?</td>\n",
              "      <td>&lt;p&gt;Qual é a diferença entre &lt;code&gt;INNER JOIN&lt;/...</td>\n",
              "      <td>&lt;sql&gt;&lt;join&gt;</td>\n",
              "      <td>276</td>\n",
              "      <td>176953</td>\n",
              "    </tr>\n",
              "    <tr>\n",
              "      <th>2</th>\n",
              "      <td>579</td>\n",
              "      <td>Por que não devemos usar funções do tipo mysql_*?</td>\n",
              "      <td>&lt;p&gt;Uma dúvida muito comum é por que devemos pa...</td>\n",
              "      <td>&lt;php&gt;&lt;mysql&gt;</td>\n",
              "      <td>226</td>\n",
              "      <td>9761</td>\n",
              "    </tr>\n",
              "    <tr>\n",
              "      <th>3</th>\n",
              "      <td>2539</td>\n",
              "      <td>As mensagens de erro devem se desculpar?</td>\n",
              "      <td>&lt;p&gt;É comum encontrar uma mensagem de erro que ...</td>\n",
              "      <td>&lt;aplicação-web&gt;&lt;gui&gt;&lt;console&gt;&lt;ux&gt;</td>\n",
              "      <td>214</td>\n",
              "      <td>5075</td>\n",
              "    </tr>\n",
              "    <tr>\n",
              "      <th>4</th>\n",
              "      <td>17501</td>\n",
              "      <td>Qual é a diferença de API, biblioteca e Framew...</td>\n",
              "      <td>&lt;p&gt;Me parecem termos muito próximos e eventual...</td>\n",
              "      <td>&lt;api&gt;&lt;framework&gt;&lt;terminologia&gt;&lt;biblioteca&gt;</td>\n",
              "      <td>193</td>\n",
              "      <td>54191</td>\n",
              "    </tr>\n",
              "  </tbody>\n",
              "</table>\n",
              "</div>"
            ],
            "text/plain": [
              "      Id  ... Visualizações\n",
              "0   2402  ...         22367\n",
              "1   6441  ...        176953\n",
              "2    579  ...          9761\n",
              "3   2539  ...          5075\n",
              "4  17501  ...         54191\n",
              "\n",
              "[5 rows x 6 columns]"
            ]
          },
          "metadata": {
            "tags": []
          },
          "execution_count": 77
        }
      ]
    },
    {
      "cell_type": "markdown",
      "metadata": {
        "id": "revised-student"
      },
      "source": [
        "Acima temos os 5 primeiros registros da base de dados do stackoverflow. São as perguntas com maiores pontuações e mais visualizações. As variáveis são:\n",
        "\n",
        "* Id: Identificador da questão.\n",
        "* Título: Titulo da questão\n",
        "* Questão: A pergunta efetivamente\n",
        "* Tags: As tags relacionadas à quetão\n",
        "* Pontuação: Pontuação da questão\n",
        "* Visualizações: nº de visualizações"
      ],
      "id": "revised-student"
    },
    {
      "cell_type": "markdown",
      "metadata": {
        "id": "mediterranean-birthday"
      },
      "source": [
        "#### Exemplo de questão\n",
        "\n",
        "Vamos verificar qual conteúdo é armazenado na variável `Questão`"
      ],
      "id": "mediterranean-birthday"
    },
    {
      "cell_type": "code",
      "metadata": {
        "id": "sporting-stuart",
        "outputId": "f738fd9b-38f6-4763-d5b4-3e976b4019ec",
        "colab": {
          "base_uri": "https://localhost:8080/"
        }
      },
      "source": [
        "print(stackoverflow_portugues['Questão'][5])"
      ],
      "id": "sporting-stuart",
      "execution_count": 78,
      "outputs": [
        {
          "output_type": "stream",
          "text": [
            "<p>Desenvolvi uma página em PHP para uso interno da empresa que trabalho e apenas pouquíssimas pessoas a utilizam. Através dessa página é possível fazer algumas consultas, inserções, alterações e remoções de dados de uma tabela em um banco de dados MySQL, porém eu acredito que meu código em PHP não está protegido contra injeção de código SQL, por exemplo:</p>\n",
            "\n",
            "<pre><code>//----CONSULTA SQL----//\n",
            "$busca = mysql_query ('insert into Produtos (coluna) values(' . $valor . ')');\n",
            "</code></pre>\n",
            "\n",
            "<p>Logo, digamos que o usuário usar a sentença: <code>1); DROP TABLE Produtos;</code> para ao campo <code>valor</code> o comando ficaria: </p>\n",
            "\n",
            "<pre><code>insert into Produtos (coluna) values(1); DROP TABLE Produtos;\n",
            "</code></pre>\n",
            "\n",
            "<p>Ele vai inserir um novo registro cujo o campo <code>coluna</code> será <code>1</code> e logo em seguida ele vai deletar a tabela Produtos.</p>\n",
            "\n",
            "<p>Como posso melhorar meu código para prevenir essa situação?</p>\n",
            "\n"
          ],
          "name": "stdout"
        }
      ]
    },
    {
      "cell_type": "markdown",
      "metadata": {
        "id": "particular-dublin"
      },
      "source": [
        "Esse é um exemplo de dados em português que será usado para treinar um modelo de identificação de idiomas. Um ponto importante é que não se tem só texto, também tem tags html então é preciso retirar estas tags. Outra estrutura de texto que tem no dado são códigos por exemplo: \n",
        "\n",
        "```sql\n",
        "$busca = mysql_query ('insert into Produtos (coluna) values(' . $valor . ')');\n",
        "```\n",
        "\n",
        "é preciso retirar também esse tipo de estrutura do dado, isto porque a maioria das linguagens de programação e marcação é em inglês e isso pode gerar um viés do modelo classificar todos os textos com trechos em códigos como um idioma inglês.\n",
        "\n",
        "Além disso a pontuação também precisa ser removida. Tomando a oração como exemplo: \n",
        "\n",
        "> Através dessa página é possível fazer algumas consultas, inserções, alterações e remoções de dados de uma tabela em um banco de dados MySQL.\n",
        "\n",
        "se queremos identificar o idioma em português não faz sentido deixar virgulas e pontos finais."
      ],
      "id": "particular-dublin"
    },
    {
      "cell_type": "markdown",
      "metadata": {
        "id": "restricted-audit"
      },
      "source": [
        "# REGEX\n",
        "\n",
        "Como precisamos fazer várias filtragens em dados textuais, uma forma bem usual de fazer este ofício é através das expressões regulares, ou REGEX. REGEX é similar á uma linguagem de marcação (mas não é) dentro de uma própria linguagem, tipo Java, C ou python, que permite identificar padrões em estruturas de caracters.\n",
        "\n",
        "Por exemplo, imagine que temos a tarefa de identificar um provedor de email e temos uma lista de emaisl:\n",
        "```\n",
        "joao_miguel@gmail.com\n",
        "maria_eduarda@hotmail.com.br\n",
        "alice_124@bol.com\n",
        "```\n",
        "como fazer isso? Bom, é facil ver que o provedor de email tem um padrão no email em si. Geralmente o provedor precede o ($@$) e antecede o ($\\cdot$), ou seja, dado este padrão que identificamos podemos filtrar usando expressão regular. Um excelente site para o estudo de expressões regulares é o https://regex101.com/\n",
        "\n",
        "Para fazer esta filtragem utilizamos os chamados [*Meta Caracteres*](https://tdn.engpro.totvs.com.br/display/tec/RegEx+-+Metacaracteres), que são marcações utilizadas para seleção de certas estruturas num texto. Por exemplo, para captar todos os provedores de email podemos usar a seguinte expressão regular:\n",
        "\n",
        "\n",
        "> `@[a-z]+\\.` se lê como: @[todos alpha] com mais de 1 caracter até o \\. \n",
        "\n",
        "se desejar-mos limitar o provedores com no máximo 5 caracteres substituimos o ($+$) por $\\{5\\}$\n",
        "\n",
        "> `@[a-z]{1,5}\\.` se lê como: @[todos alpha] com no minimo 1 até 5 caracter até o \\. \n",
        "\n",
        "Outro meta caracter muito importante é o circunflexo `(^)`, ele é uma forma de obrigar uma estrutura de caracters a iniciar com uma letra, por exemplo, numa regex da forma `^j.*` aplicada a nossa lista de emails, vai tornar apenas `joao_miguel@gmail.com` porque é o único que começa com a letra *j*.\n",
        "\n",
        "É possível criar grupos de seleção, por exemplo, na expressão regular `^(j|a).*` aplicada a nossa lista de email, vai retornar `joao_miguel@gmail.com` e `alice_124@bol.com`, porque são os dois emails que começam com *j* ou *a*\n",
        "\n",
        "Da mesma forma que o `(^)` para as estruturas que começam obrigatoriamente com os caracteres, temos uma forma de fazer com que a string termine obrigatoriamente com um caracter, para isso usa-se o cifrão, por exemplo, aplicando a expressão `.*br$` o resultado é ``maria_eduarda@hotmail.com.br``, porque é o unico endereço que termina com br.\n"
      ],
      "id": "restricted-audit"
    },
    {
      "cell_type": "markdown",
      "metadata": {
        "id": "rotary-price"
      },
      "source": [
        "#### Exemplo\n",
        "Dado os CEP e suas possíveis estruturas, qual é a REGEX que podemos utilizar?\n",
        "\n",
        "```\n",
        "04567003\n",
        "04567-003\n",
        "04.567-003\n",
        "04.567.003\n",
        "04 567 003\n",
        "04567 003\n",
        "04567.003\n",
        "```\n",
        "\n",
        "bom, os primeiros dois caracteres são sempre os mesmos então podemos utilizar `^{2}`. Depois disso pode ter, ou não, espaço ou ponto, então usamos `[. ]?`, note que tem um espaço dentro do colchete, para ser mais descritivo pode-se usar também o `[.\\s]?`. Em seguida temos novamente mais três algarismos, portanto usamos um `\\d{3}`. Depois disso pode vir ou não, espaço, hífen ou ponto, logo a expressão regular é `[-. ]` ou `[-.\\s]`. Por fim, tem mais três algarismos então a REGEX é `\\d{3}`.\n",
        "\n",
        "Juntando tudo a expressão regular que engloba todos os exemplos é: `^{3}[.\\s]?\\d{3}[-.\\s]\\d{3}`"
      ],
      "id": "rotary-price"
    },
    {
      "cell_type": "markdown",
      "metadata": {
        "id": "empirical-water"
      },
      "source": [
        "# Questões em outras linguas\n",
        "\n",
        "Vamos analisar as questões nos idiomas inglês e espanhol "
      ],
      "id": "empirical-water"
    },
    {
      "cell_type": "markdown",
      "metadata": {
        "id": "genuine-building"
      },
      "source": [
        "## Espanhol"
      ],
      "id": "genuine-building"
    },
    {
      "cell_type": "code",
      "metadata": {
        "id": "dependent-rebate",
        "outputId": "1afca86f-196c-4217-c8cb-ad8ca35e8c2c",
        "colab": {
          "base_uri": "https://localhost:8080/"
        }
      },
      "source": [
        "print(stackoverflow_espanhol['Questão'][5])"
      ],
      "id": "dependent-rebate",
      "execution_count": 79,
      "outputs": [
        {
          "output_type": "stream",
          "text": [
            "<p>Siempre he visto que en <code>JavaScript</code> hay:</p>\n",
            "\n",
            "<ul>\n",
            "<li>asignaciones <code>=</code></li>\n",
            "<li>comparaciones <code>==</code> y <code>===</code></li>\n",
            "</ul>\n",
            "\n",
            "<p>Creo entender que <code>==</code> hace algo parecido a comparar el valor de la variable y el <code>===</code> también compara el tipo (como un equals de java). </p>\n",
            "\n",
            "<p><strong>¿Alguien podría confirmarme este punto y extenderlo?</strong>. Soy javero y el no tipado de javascript a veces me encanta y otras lo odio.</p>\n",
            "\n",
            "<hr>\n",
            "\n",
            "<p>¿Cuál es la manera correcta en javascript de comparar <code>undefined</code>, <code>null</code> y otros valores por defecto? </p>\n",
            "\n",
            "<pre><code>variable == null\n",
            "variable === null\n",
            "</code></pre>\n",
            "\n",
            "<p>¿<strong><code>undefined</code></strong> se usa como cadena de texto o como palabra clave? ¿Cual de las siguientes comparaciones es la correcta para un elemento <code>html</code> sin <code>value</code>? (por ejemplo un label sin contenido)</p>\n",
            "\n",
            "<pre><code>variable == \"undefined\"\n",
            "variable === \"undefined\"\n",
            "variable == undefined\n",
            "variable === undefined\n",
            "</code></pre>\n",
            "\n"
          ],
          "name": "stdout"
        }
      ]
    },
    {
      "cell_type": "markdown",
      "metadata": {
        "id": "constant-chorus"
      },
      "source": [
        "## Inglês\n"
      ],
      "id": "constant-chorus"
    },
    {
      "cell_type": "code",
      "metadata": {
        "id": "duplicate-disaster",
        "outputId": "bba85866-f241-4453-ff9b-e77901b9c86e",
        "colab": {
          "base_uri": "https://localhost:8080/"
        }
      },
      "source": [
        "print(stackoverflow_ingles['Questão'][5])"
      ],
      "id": "duplicate-disaster",
      "execution_count": 80,
      "outputs": [
        {
          "output_type": "stream",
          "text": [
            "<p>What is the use of the <code>yield</code> keyword in Python? What does it do?</p>\n",
            "\n",
            "<p>For example, I'm trying to understand this code<sup><strong>1</strong></sup>:</p>\n",
            "\n",
            "<pre><code>def _get_child_candidates(self, distance, min_dist, max_dist):\n",
            "    if self._leftchild and distance - max_dist &lt; self._median:\n",
            "        yield self._leftchild\n",
            "    if self._rightchild and distance + max_dist &gt;= self._median:\n",
            "        yield self._rightchild  \n",
            "</code></pre>\n",
            "\n",
            "<p>And this is the caller:</p>\n",
            "\n",
            "<pre><code>result, candidates = [], [self]\n",
            "while candidates:\n",
            "    node = candidates.pop()\n",
            "    distance = node._get_dist(obj)\n",
            "    if distance &lt;= max_dist and distance &gt;= min_dist:\n",
            "        result.extend(node._values)\n",
            "    candidates.extend(node._get_child_candidates(distance, min_dist, max_dist))\n",
            "return result\n",
            "</code></pre>\n",
            "\n",
            "<p>What happens when the method <code>_get_child_candidates</code> is called?\n",
            "Is a list returned? A single element? Is it called again? When will subsequent calls stop?</p>\n",
            "\n",
            "<hr>\n",
            "\n",
            "<p><sub>\n",
            "1. This piece of code was written by Jochen Schulz (jrschulz), who made a great Python library for metric spaces. This is the link to the complete source: <a href=\"http://well-adjusted.de/~jrschulz/mspace/\" rel=\"noreferrer\">Module mspace</a>.</sub></p>\n",
            "\n"
          ],
          "name": "stdout"
        }
      ]
    },
    {
      "cell_type": "markdown",
      "metadata": {
        "id": "controversial-status"
      },
      "source": [
        "# Usando REGEX Python\n",
        "\n",
        "O python tem um módulo nativo para manipular expressões regulares, se chamada `re`"
      ],
      "id": "controversial-status"
    },
    {
      "cell_type": "code",
      "metadata": {
        "id": "occasional-discipline"
      },
      "source": [
        "import re"
      ],
      "id": "occasional-discipline",
      "execution_count": 81,
      "outputs": []
    },
    {
      "cell_type": "markdown",
      "metadata": {
        "id": "brief-fellowship"
      },
      "source": [
        "A documentação deste módulo é extremamente detalhada\n",
        "\n",
        "> https://docs.python.org/pt-br/3/library/re.html\n",
        "\n",
        "Além disso tem um artigo na própria documentação chamado [\"HOW TO REGULAR EXPRESSIONS\"](https://docs.python.org/pt-br/3/howto/regex.html#regex-howto) que da vários exemplos e casos onde REGEX são usados."
      ],
      "id": "brief-fellowship"
    },
    {
      "cell_type": "markdown",
      "metadata": {
        "id": "intermediate-bradford"
      },
      "source": [
        "## Aplicando em questões pt-br"
      ],
      "id": "intermediate-bradford"
    },
    {
      "cell_type": "code",
      "metadata": {
        "id": "manufactured-bibliography"
      },
      "source": [
        "questoes_pt = stackoverflow_portugues['Questão']\n",
        "questoes_en = stackoverflow_ingles['Questão']\n",
        "questoes_es = stackoverflow_espanhol['Questão']"
      ],
      "id": "manufactured-bibliography",
      "execution_count": 82,
      "outputs": []
    },
    {
      "cell_type": "markdown",
      "metadata": {
        "id": "sufficient-coach"
      },
      "source": [
        "O módulo `re` tem várias funções, uma delas que é bastante utilizada é o `findall()` que busca no texto todos os caracteres que respeitam a expressão regular passada no parâmetro."
      ],
      "id": "sufficient-coach"
    },
    {
      "cell_type": "code",
      "metadata": {
        "id": "internal-attention",
        "outputId": "9d634c61-0f83-4953-c8af-c9ebd52e371b",
        "colab": {
          "base_uri": "https://localhost:8080/"
        }
      },
      "source": [
        "re.findall(r'<p>', questoes_pt[0])\n"
      ],
      "id": "internal-attention",
      "execution_count": 83,
      "outputs": [
        {
          "output_type": "execute_result",
          "data": {
            "text/plain": [
              "['<p>', '<p>', '<p>', '<p>']"
            ]
          },
          "metadata": {
            "tags": []
          },
          "execution_count": 83
        }
      ]
    },
    {
      "cell_type": "markdown",
      "metadata": {
        "id": "mathematical-pittsburgh"
      },
      "source": [
        "> **obs:** usamos o `r` na frente das aspas simples da string porque quero usar a string pura. Em alguns casos queremos detectar os caracteres \"\\n\" por exemplo, mas ao escrever uma string `\\n` o python irá interpretar como um único caracter que representa a quebra de linha. Para evitar isso, usa-se o `r'\\n'` para indicar que queremos a string pura (raw)"
      ],
      "id": "mathematical-pittsburgh"
    },
    {
      "cell_type": "markdown",
      "metadata": {
        "id": "suburban-pitch"
      },
      "source": [
        "Então podemos usar a função `findall()` para localizar todas as tags html na questão. Para isso precisamos achar todos os caracteres que tem `<` e terminam com `>`, mas entre eles podem ter ou não algum texto, para isso usamos `.*?`"
      ],
      "id": "suburban-pitch"
    },
    {
      "cell_type": "code",
      "metadata": {
        "id": "becoming-abraham",
        "outputId": "fbf99460-457d-4cc3-a00c-ee94b6fc1e50",
        "colab": {
          "base_uri": "https://localhost:8080/"
        }
      },
      "source": [
        "re.findall(r'<.*?>', questoes_pt[0])"
      ],
      "id": "becoming-abraham",
      "execution_count": 84,
      "outputs": [
        {
          "output_type": "execute_result",
          "data": {
            "text/plain": [
              "['<p>',\n",
              " '<em>',\n",
              " '<a href=\"http://pt.wikipedia.org/wiki/Fun%C3%A7%C3%A3o_de_embaralhamento_criptogr%C3%A1fico\" rel=\"noreferrer\">',\n",
              " '</a>',\n",
              " '</em>',\n",
              " '</p>',\n",
              " '<p>',\n",
              " '<a href=\"http://pt.wikipedia.org/wiki/Ataque_de_for%C3%A7a_bruta\" rel=\"noreferrer\">',\n",
              " '</a>',\n",
              " '<em>',\n",
              " '<a href=\"http://pt.wikipedia.org/wiki/Keylogger\" rel=\"noreferrer\">',\n",
              " '</a>',\n",
              " '</em>',\n",
              " '<a href=\"http://pt.wikipedia.org/wiki/Criptoan%C3%A1lise_de_mangueira_de_borracha\" rel=\"noreferrer\">',\n",
              " '<em>',\n",
              " '</em>',\n",
              " '</a>',\n",
              " '<em>',\n",
              " '</em>',\n",
              " '</p>',\n",
              " '<p>',\n",
              " '</p>',\n",
              " '<p>',\n",
              " '<em>',\n",
              " '</em>',\n",
              " '</p>']"
            ]
          },
          "metadata": {
            "tags": []
          },
          "execution_count": 84
        }
      ]
    },
    {
      "cell_type": "markdown",
      "metadata": {
        "id": "informational-criterion"
      },
      "source": [
        "Depois de localizar as tags html no texto precisamos achar um jeito de remove-las ou substituir. O módulo `re` tem a função `re.sub()`\n",
        "\n",
        "``re.sub(pattern, repl, string, count=0, flags=0)``\n",
        "\n",
        "Descrição: \n",
        "> Retorna a string obtida substituindo as ocorrências não sobrepostas da extremidade esquerda do padrão pattern na string pela substituição repl. Se o padrão não for encontrado, string será retornado inalterado. repl pode ser uma string ou uma função; se for uma string, qualquer escape de contrabarra será processado. "
      ],
      "id": "informational-criterion"
    },
    {
      "cell_type": "code",
      "metadata": {
        "id": "peaceful-liberia",
        "outputId": "b625e9c9-3b83-48a0-b432-e3ac92ca4683",
        "colab": {
          "base_uri": "https://localhost:8080/"
        }
      },
      "source": [
        "print(re.sub(r'<.*?>', '   === TESTE SUB ===  ', questoes_pt[5]))"
      ],
      "id": "peaceful-liberia",
      "execution_count": 85,
      "outputs": [
        {
          "output_type": "stream",
          "text": [
            "   === TESTE SUB ===  Desenvolvi uma página em PHP para uso interno da empresa que trabalho e apenas pouquíssimas pessoas a utilizam. Através dessa página é possível fazer algumas consultas, inserções, alterações e remoções de dados de uma tabela em um banco de dados MySQL, porém eu acredito que meu código em PHP não está protegido contra injeção de código SQL, por exemplo:   === TESTE SUB ===  \n",
            "\n",
            "   === TESTE SUB ===     === TESTE SUB ===  //----CONSULTA SQL----//\n",
            "$busca = mysql_query ('insert into Produtos (coluna) values(' . $valor . ')');\n",
            "   === TESTE SUB ===     === TESTE SUB ===  \n",
            "\n",
            "   === TESTE SUB ===  Logo, digamos que o usuário usar a sentença:    === TESTE SUB ===  1); DROP TABLE Produtos;   === TESTE SUB ===   para ao campo    === TESTE SUB ===  valor   === TESTE SUB ===   o comando ficaria:    === TESTE SUB ===  \n",
            "\n",
            "   === TESTE SUB ===     === TESTE SUB ===  insert into Produtos (coluna) values(1); DROP TABLE Produtos;\n",
            "   === TESTE SUB ===     === TESTE SUB ===  \n",
            "\n",
            "   === TESTE SUB ===  Ele vai inserir um novo registro cujo o campo    === TESTE SUB ===  coluna   === TESTE SUB ===   será    === TESTE SUB ===  1   === TESTE SUB ===   e logo em seguida ele vai deletar a tabela Produtos.   === TESTE SUB ===  \n",
            "\n",
            "   === TESTE SUB ===  Como posso melhorar meu código para prevenir essa situação?   === TESTE SUB ===  \n",
            "\n"
          ],
          "name": "stdout"
        }
      ]
    },
    {
      "cell_type": "markdown",
      "metadata": {
        "id": "silent-garage"
      },
      "source": [
        "Note que onde esta o `== TESTE SUB ===` era onde estavam as tags html e a função substituiu. Isto é, para a função ``re.sub(pattern, repl, string, count=0, flags=0)`` passamos o `pattern` que é o padrão regex, o `repl` que é o que será substituido (replace) e a string onde será substituitdo. Então para remover as tags basta colocar um espaço vazio, verifique:"
      ],
      "id": "silent-garage"
    },
    {
      "cell_type": "code",
      "metadata": {
        "id": "lonely-christianity",
        "outputId": "c4355575-d53f-49ae-86dc-d267a568c4bf",
        "colab": {
          "base_uri": "https://localhost:8080/"
        }
      },
      "source": [
        "print(re.sub(r'<.*?>', '', questoes_pt[5]))"
      ],
      "id": "lonely-christianity",
      "execution_count": 86,
      "outputs": [
        {
          "output_type": "stream",
          "text": [
            "Desenvolvi uma página em PHP para uso interno da empresa que trabalho e apenas pouquíssimas pessoas a utilizam. Através dessa página é possível fazer algumas consultas, inserções, alterações e remoções de dados de uma tabela em um banco de dados MySQL, porém eu acredito que meu código em PHP não está protegido contra injeção de código SQL, por exemplo:\n",
            "\n",
            "//----CONSULTA SQL----//\n",
            "$busca = mysql_query ('insert into Produtos (coluna) values(' . $valor . ')');\n",
            "\n",
            "\n",
            "Logo, digamos que o usuário usar a sentença: 1); DROP TABLE Produtos; para ao campo valor o comando ficaria: \n",
            "\n",
            "insert into Produtos (coluna) values(1); DROP TABLE Produtos;\n",
            "\n",
            "\n",
            "Ele vai inserir um novo registro cujo o campo coluna será 1 e logo em seguida ele vai deletar a tabela Produtos.\n",
            "\n",
            "Como posso melhorar meu código para prevenir essa situação?\n",
            "\n"
          ],
          "name": "stdout"
        }
      ]
    },
    {
      "cell_type": "markdown",
      "metadata": {
        "id": "necessary-logic"
      },
      "source": [
        "### Desempenho\n",
        "\n",
        "Existem duas formas de construir uma expressão regular com o `re`. Atraves da passagem da expressão regular, igual fizemos antes:\n",
        "\n",
        "```python\n",
        "re.findall(r'{minha_expressao_regular}', string_a_ser_filtrada)\n",
        "```\n",
        "\n",
        "mas também podemos criar um objeto, que compila a regex e ai só passamos a variável que queremos filtrar. Por exemplo: \n",
        "\n",
        "```python\n",
        "regex = re.compile(r'{minha_expressao_regular}')\n",
        "regex.findall(string_a_ser_filtrada)\n",
        "```\n",
        "\n",
        "Entretanto, qual a diferença entre essas duas formas? Para comparar vamos usar um outro módulo chamado `timeit` nativo do python para calcular o desempenho de uma execução:\n"
      ],
      "id": "necessary-logic"
    },
    {
      "cell_type": "code",
      "metadata": {
        "id": "numeric-flashing"
      },
      "source": [
        "from timeit import timeit"
      ],
      "id": "numeric-flashing",
      "execution_count": 87,
      "outputs": []
    },
    {
      "cell_type": "markdown",
      "metadata": {
        "id": "educational-induction"
      },
      "source": [
        "vamos criar a expressão regular `r'70'` que procura o número setenta em `12345712365123954623469843062370`, ai basicamente passamos um código a ser executado dentro de uma docstring `(\"\"\"codigo\"\"\")`"
      ],
      "id": "educational-induction"
    },
    {
      "cell_type": "code",
      "metadata": {
        "id": "velvet-produce",
        "outputId": "67fa2861-db95-4f03-b8f4-1977ffbe4845",
        "colab": {
          "base_uri": "https://localhost:8080/"
        }
      },
      "source": [
        "setup = \"\"\"import re\"\"\"\n",
        "timeit(\"\"\"re.search(r'70', '12345712365123954623469843062370')\"\"\", setup)"
      ],
      "id": "velvet-produce",
      "execution_count": 88,
      "outputs": [
        {
          "output_type": "execute_result",
          "data": {
            "text/plain": [
              "0.8352540670002782"
            ]
          },
          "metadata": {
            "tags": []
          },
          "execution_count": 88
        }
      ]
    },
    {
      "cell_type": "markdown",
      "metadata": {
        "id": "violent-pride"
      },
      "source": [
        "o tempo de execução do código `re.search(r'70', '12345712365123954623469843062370')` foi de 0.94 segundos. Obviamente não é uma única execução, o módulo timeit executa função 1 milhão de vezes.\n",
        " \n",
        "Agora vamos fazer algo parecido, mas criando um objeto do tipo regex."
      ],
      "id": "violent-pride"
    },
    {
      "cell_type": "code",
      "metadata": {
        "id": "ahead-elder",
        "outputId": "3774a5ed-ee1b-46d8-cfaa-e84d964bc1fb",
        "colab": {
          "base_uri": "https://localhost:8080/"
        }
      },
      "source": [
        "setup = \"\"\"import re\n",
        "regex = re.compile(r'70')\"\"\"\n",
        "\n",
        "timeit(\"\"\"regex.search('12345712365123954623469843062370')\"\"\", setup)"
      ],
      "id": "ahead-elder",
      "execution_count": 89,
      "outputs": [
        {
          "output_type": "execute_result",
          "data": {
            "text/plain": [
              "0.1988046040005429"
            ]
          },
          "metadata": {
            "tags": []
          },
          "execution_count": 89
        }
      ]
    },
    {
      "cell_type": "markdown",
      "metadata": {
        "id": "worthy-ownership"
      },
      "source": [
        "Note que o tempo foi 4x menor para 1 milhão de execuções. Outra forma de analisar isso é usando o `%%time` do próprio notebook para mensurar o tempo de execução de uma célula:"
      ],
      "id": "worthy-ownership"
    },
    {
      "cell_type": "code",
      "metadata": {
        "id": "alike-modeling",
        "outputId": "6ae2f8ca-5dda-4522-a760-afe1ad68e82a",
        "colab": {
          "base_uri": "https://localhost:8080/"
        }
      },
      "source": [
        "%%time\n",
        "for i in range(10**6):\n",
        "    re.search(r'70', '12345712365123954623469843062370')"
      ],
      "id": "alike-modeling",
      "execution_count": 90,
      "outputs": [
        {
          "output_type": "stream",
          "text": [
            "CPU times: user 948 ms, sys: 0 ns, total: 948 ms\n",
            "Wall time: 960 ms\n"
          ],
          "name": "stdout"
        }
      ]
    },
    {
      "cell_type": "code",
      "metadata": {
        "id": "automatic-answer"
      },
      "source": [
        "regex = re.compile(r'70')"
      ],
      "id": "automatic-answer",
      "execution_count": 91,
      "outputs": []
    },
    {
      "cell_type": "code",
      "metadata": {
        "id": "unusual-following",
        "outputId": "d53afb0e-e4da-450b-d60d-a3e19fa2f98c",
        "colab": {
          "base_uri": "https://localhost:8080/"
        }
      },
      "source": [
        "%%time\n",
        "for i in range(10**6):\n",
        "    regex.search('12345712365123954623469843062370')"
      ],
      "id": "unusual-following",
      "execution_count": 92,
      "outputs": [
        {
          "output_type": "stream",
          "text": [
            "CPU times: user 253 ms, sys: 0 ns, total: 253 ms\n",
            "Wall time: 254 ms\n"
          ],
          "name": "stdout"
        }
      ]
    },
    {
      "cell_type": "code",
      "metadata": {
        "id": "amber-explorer",
        "outputId": "bf891fe1-573c-43cd-f148-651e366f0058",
        "colab": {
          "base_uri": "https://localhost:8080/"
        }
      },
      "source": [
        "1.04 / (252*10**(-3))"
      ],
      "id": "amber-explorer",
      "execution_count": 93,
      "outputs": [
        {
          "output_type": "execute_result",
          "data": {
            "text/plain": [
              "4.126984126984127"
            ]
          },
          "metadata": {
            "tags": []
          },
          "execution_count": 93
        }
      ]
    },
    {
      "cell_type": "markdown",
      "metadata": {
        "id": "connected-generation"
      },
      "source": [
        "novamente o resultado é na mesma ordem de grandeza.\n",
        "\n",
        "Concluimos então que criar uma expressão regular (regex) usando o `compile()` tem um desempenho muito maior, por isso é extremamente recomendado criar um objeto em vez de passar a expressão regular como parâmetro de um método do módulo `re`."
      ],
      "id": "connected-generation"
    },
    {
      "cell_type": "markdown",
      "metadata": {
        "id": "functional-poultry"
      },
      "source": [
        "### Removendo tags html "
      ],
      "id": "functional-poultry"
    },
    {
      "cell_type": "code",
      "metadata": {
        "id": "incredible-spell"
      },
      "source": [
        "def filtro_regex(textos, regex):\n",
        "    \"\"\"\n",
        "    Aplica regex em um texto ou em uma estrutura de dados com textos.\n",
        "    Retorna um texto filtrado ou a estrutura de dados com textos filtrados.\n",
        "    \"\"\"\n",
        "    \n",
        "    if type(textos) == str:\n",
        "        return regex.sub('', textos)\n",
        "    elif type(textos) in (list, tuple, set, np.array, pd.Series, pd.DataFrame):\n",
        "        return pd.Series([regex.sub('', texto) for texto in textos])\n",
        "    else:\n",
        "        raise Exception('Não foi possível aplicar o REGEX')\n",
        "    "
      ],
      "id": "incredible-spell",
      "execution_count": 94,
      "outputs": []
    },
    {
      "cell_type": "markdown",
      "metadata": {
        "id": "overall-conjunction"
      },
      "source": [
        "criando `regex`: "
      ],
      "id": "overall-conjunction"
    },
    {
      "cell_type": "code",
      "metadata": {
        "id": "preliminary-production"
      },
      "source": [
        "remove_html = re.compile(r'<.*?>')"
      ],
      "id": "preliminary-production",
      "execution_count": 95,
      "outputs": []
    },
    {
      "cell_type": "markdown",
      "metadata": {
        "id": "matched-trailer"
      },
      "source": [
        "testando:"
      ],
      "id": "matched-trailer"
    },
    {
      "cell_type": "code",
      "metadata": {
        "id": "integrated-thumb",
        "outputId": "8404d3d6-594c-4278-9dc1-f62dc43b8ac8",
        "colab": {
          "base_uri": "https://localhost:8080/",
          "height": 279
        }
      },
      "source": [
        "print('Com tags HTML')\n",
        "display(questoes_pt[:5])\n",
        "\n",
        "print('Sem tags HTML')\n",
        "display(filtro_regex(questoes_pt[:5], remove_html))"
      ],
      "id": "integrated-thumb",
      "execution_count": 96,
      "outputs": [
        {
          "output_type": "stream",
          "text": [
            "Com tags HTML\n"
          ],
          "name": "stdout"
        },
        {
          "output_type": "display_data",
          "data": {
            "text/plain": [
              "0    <p>Se eu fizer o <em><a href=\"http://pt.wikipe...\n",
              "1    <p>Qual é a diferença entre <code>INNER JOIN</...\n",
              "2    <p>Uma dúvida muito comum é por que devemos pa...\n",
              "3    <p>É comum encontrar uma mensagem de erro que ...\n",
              "4    <p>Me parecem termos muito próximos e eventual...\n",
              "Name: Questão, dtype: object"
            ]
          },
          "metadata": {
            "tags": []
          }
        },
        {
          "output_type": "stream",
          "text": [
            "Sem tags HTML\n"
          ],
          "name": "stdout"
        },
        {
          "output_type": "display_data",
          "data": {
            "text/plain": [
              "0    Se eu fizer o hash de senhas antes de armazená...\n",
              "1    Qual é a diferença entre INNER JOIN e OUTER JO...\n",
              "2    Uma dúvida muito comum é por que devemos parar...\n",
              "3    É comum encontrar uma mensagem de erro que diz...\n",
              "4    Me parecem termos muito próximos e eventualmen...\n",
              "dtype: object"
            ]
          },
          "metadata": {
            "tags": []
          }
        }
      ]
    },
    {
      "cell_type": "markdown",
      "metadata": {
        "id": "solid-cookie"
      },
      "source": [
        "### Removendo os códigos,\n",
        "\n",
        "Note que temos alguns códigos nos textos:"
      ],
      "id": "solid-cookie"
    },
    {
      "cell_type": "code",
      "metadata": {
        "id": "green-withdrawal",
        "outputId": "358989e6-6d9a-4f12-fa81-ae85ec9e21f2",
        "colab": {
          "base_uri": "https://localhost:8080/"
        }
      },
      "source": [
        "print(filtro_regex(questoes_en[5], remove_html))"
      ],
      "id": "green-withdrawal",
      "execution_count": 97,
      "outputs": [
        {
          "output_type": "stream",
          "text": [
            "What is the use of the yield keyword in Python? What does it do?\n",
            "\n",
            "For example, I'm trying to understand this code1:\n",
            "\n",
            "def _get_child_candidates(self, distance, min_dist, max_dist):\n",
            "    if self._leftchild and distance - max_dist &lt; self._median:\n",
            "        yield self._leftchild\n",
            "    if self._rightchild and distance + max_dist &gt;= self._median:\n",
            "        yield self._rightchild  \n",
            "\n",
            "\n",
            "And this is the caller:\n",
            "\n",
            "result, candidates = [], [self]\n",
            "while candidates:\n",
            "    node = candidates.pop()\n",
            "    distance = node._get_dist(obj)\n",
            "    if distance &lt;= max_dist and distance &gt;= min_dist:\n",
            "        result.extend(node._values)\n",
            "    candidates.extend(node._get_child_candidates(distance, min_dist, max_dist))\n",
            "return result\n",
            "\n",
            "\n",
            "What happens when the method _get_child_candidates is called?\n",
            "Is a list returned? A single element? Is it called again? When will subsequent calls stop?\n",
            "\n",
            "\n",
            "\n",
            "\n",
            "1. This piece of code was written by Jochen Schulz (jrschulz), who made a great Python library for metric spaces. This is the link to the complete source: Module mspace.\n",
            "\n"
          ],
          "name": "stdout"
        }
      ]
    },
    {
      "cell_type": "markdown",
      "metadata": {
        "id": "heard-literature"
      },
      "source": [
        "O que precisamos fazer é remover esses trechos de código porque dado que a maioria das linguagens de programação são escritas em inglês o modelo pode identificar que o idioma do texto é inglês apenas porquê tem trechos de código.\n",
        "\n",
        "Observando o texto puto vemos que tem uma tag HTML chamada `<code> CÓDIGO AQUI </code>`, podemos aplicar uma expressão regular para remover todos os textos que esta dentro desta tag:"
      ],
      "id": "heard-literature"
    },
    {
      "cell_type": "code",
      "metadata": {
        "id": "short-season",
        "outputId": "d5124bcc-4cc3-4622-9ceb-69e56635d002",
        "colab": {
          "base_uri": "https://localhost:8080/"
        }
      },
      "source": [
        "# começa com \"<code>\" tem um grupo de qualquer caracter e quebras de linha e termina com </code>\n",
        "remove_linguagem_programacao = re.compile(r'<code>(.|(\\n))*?</code>')\n",
        "\n",
        "print(questoes_en[5])\n",
        "print(20*'=')\n",
        "print(remove_linguagem_programacao.sub('CODIGO AQUI',questoes_en[5]))"
      ],
      "id": "short-season",
      "execution_count": 98,
      "outputs": [
        {
          "output_type": "stream",
          "text": [
            "<p>What is the use of the <code>yield</code> keyword in Python? What does it do?</p>\n",
            "\n",
            "<p>For example, I'm trying to understand this code<sup><strong>1</strong></sup>:</p>\n",
            "\n",
            "<pre><code>def _get_child_candidates(self, distance, min_dist, max_dist):\n",
            "    if self._leftchild and distance - max_dist &lt; self._median:\n",
            "        yield self._leftchild\n",
            "    if self._rightchild and distance + max_dist &gt;= self._median:\n",
            "        yield self._rightchild  \n",
            "</code></pre>\n",
            "\n",
            "<p>And this is the caller:</p>\n",
            "\n",
            "<pre><code>result, candidates = [], [self]\n",
            "while candidates:\n",
            "    node = candidates.pop()\n",
            "    distance = node._get_dist(obj)\n",
            "    if distance &lt;= max_dist and distance &gt;= min_dist:\n",
            "        result.extend(node._values)\n",
            "    candidates.extend(node._get_child_candidates(distance, min_dist, max_dist))\n",
            "return result\n",
            "</code></pre>\n",
            "\n",
            "<p>What happens when the method <code>_get_child_candidates</code> is called?\n",
            "Is a list returned? A single element? Is it called again? When will subsequent calls stop?</p>\n",
            "\n",
            "<hr>\n",
            "\n",
            "<p><sub>\n",
            "1. This piece of code was written by Jochen Schulz (jrschulz), who made a great Python library for metric spaces. This is the link to the complete source: <a href=\"http://well-adjusted.de/~jrschulz/mspace/\" rel=\"noreferrer\">Module mspace</a>.</sub></p>\n",
            "\n",
            "====================\n",
            "<p>What is the use of the CODIGO AQUI keyword in Python? What does it do?</p>\n",
            "\n",
            "<p>For example, I'm trying to understand this code<sup><strong>1</strong></sup>:</p>\n",
            "\n",
            "<pre>CODIGO AQUI</pre>\n",
            "\n",
            "<p>And this is the caller:</p>\n",
            "\n",
            "<pre>CODIGO AQUI</pre>\n",
            "\n",
            "<p>What happens when the method CODIGO AQUI is called?\n",
            "Is a list returned? A single element? Is it called again? When will subsequent calls stop?</p>\n",
            "\n",
            "<hr>\n",
            "\n",
            "<p><sub>\n",
            "1. This piece of code was written by Jochen Schulz (jrschulz), who made a great Python library for metric spaces. This is the link to the complete source: <a href=\"http://well-adjusted.de/~jrschulz/mspace/\" rel=\"noreferrer\">Module mspace</a>.</sub></p>\n",
            "\n"
          ],
          "name": "stdout"
        }
      ]
    },
    {
      "cell_type": "markdown",
      "metadata": {
        "id": "applicable-growth"
      },
      "source": [
        "Como foi visto o código foi substituido por `CODIGO AQUI`, vamos criar uma função que remove os código: "
      ],
      "id": "applicable-growth"
    },
    {
      "cell_type": "code",
      "metadata": {
        "id": "emerging-vacuum",
        "outputId": "09c9efc9-b9cb-41d7-810a-6b459acee4bf",
        "colab": {
          "base_uri": "https://localhost:8080/",
          "height": 204
        }
      },
      "source": [
        "print('Com tags CODE')\n",
        "display(questoes_en[3:6])\n",
        "\n",
        "print('Sem tags CODE')\n",
        "display(filtro_regex(questoes_en[3:6], remove_linguagem_programacao))"
      ],
      "id": "emerging-vacuum",
      "execution_count": 99,
      "outputs": [
        {
          "output_type": "stream",
          "text": [
            "Com tags CODE\n"
          ],
          "name": "stdout"
        },
        {
          "output_type": "display_data",
          "data": {
            "text/plain": [
              "3    <blockquote>\\n  <p><strong>Moderator Note:</st...\n",
              "4    <p>I've been messing around with <a href=\"http...\n",
              "5    <p>What is the use of the <code>yield</code> k...\n",
              "Name: Questão, dtype: object"
            ]
          },
          "metadata": {
            "tags": []
          }
        },
        {
          "output_type": "stream",
          "text": [
            "Sem tags CODE\n"
          ],
          "name": "stdout"
        },
        {
          "output_type": "display_data",
          "data": {
            "text/plain": [
              "0    <blockquote>\\n  <p><strong>Moderator Note:</st...\n",
              "1    <p>I've been messing around with <a href=\"http...\n",
              "2    <p>What is the use of the  keyword in Python? ...\n",
              "dtype: object"
            ]
          },
          "metadata": {
            "tags": []
          }
        }
      ]
    },
    {
      "cell_type": "markdown",
      "metadata": {
        "id": "front-hearts"
      },
      "source": [
        "### Aplicando filtragens \n",
        "\n",
        "Vamos aplicar a filtragem que retira os códigos das linguagens de programação das perguntas e em seguida remover as tags HTML. Não podemo remover primeiro o HTML e depois os trechos de código, porque o que identifica o código é justamente a tag HTML"
      ],
      "id": "front-hearts"
    },
    {
      "cell_type": "code",
      "metadata": {
        "id": "fundamental-liquid"
      },
      "source": [
        "def filtro_codigos_html(serie):\n",
        "    \"\"\"\n",
        "    Aplica um filtro pra retirar os códigos das linguagens\n",
        "    em seguida outro filtro pra remover tags HTML\n",
        "    \"\"\"\n",
        "    serie = filtro_regex(serie, remove_linguagem_programacao)\n",
        "    serie = filtro_regex(serie, remove_html)\n",
        "    return serie"
      ],
      "id": "fundamental-liquid",
      "execution_count": 100,
      "outputs": []
    },
    {
      "cell_type": "code",
      "metadata": {
        "id": "representative-ground"
      },
      "source": [
        "stackoverflow_portugues['questao_sem_code_tag'] = filtro_codigos_html(questoes_pt)\n",
        "stackoverflow_espanhol['questao_sem_code_tag'] = filtro_codigos_html(questoes_es)\n",
        "stackoverflow_ingles['questao_sem_code_tag'] = filtro_codigos_html(questoes_en)"
      ],
      "id": "representative-ground",
      "execution_count": 101,
      "outputs": []
    },
    {
      "cell_type": "code",
      "metadata": {
        "id": "optical-publication",
        "outputId": "f908ed1e-41c0-4995-e7e4-0e50d8d72c37",
        "colab": {
          "base_uri": "https://localhost:8080/"
        }
      },
      "source": [
        "print(25*'_', 'QUESTÃO PT-BR', 25*'_','\\n')\n",
        "print(stackoverflow_portugues.questao_sem_code_tag[0],'\\n')\n",
        "print(60*'_','\\n')\n",
        "print(25*'_', 'QUESTÃO ES', 25*'_','\\n')\n",
        "print(stackoverflow_espanhol.questao_sem_code_tag[0],'\\n')\n",
        "print(60*'_','\\n')\n",
        "print(25*'_', 'QUESTÃO EN-EUA', 25*'_','\\n')\n",
        "print(stackoverflow_ingles.questao_sem_code_tag[0], '\\n')\n",
        "print(60*'_','\\n')"
      ],
      "id": "optical-publication",
      "execution_count": 102,
      "outputs": [
        {
          "output_type": "stream",
          "text": [
            "_________________________ QUESTÃO PT-BR _________________________ \n",
            "\n",
            "Se eu fizer o hash de senhas antes de armazená-las em meu banco de dados é suficiente para evitar que elas sejam recuperadas por alguém?\n",
            "\n",
            "Estou falando apenas da recuperação diretamente do banco de dados e não qualquer outro tipo de ataque, como força bruta na página de login da aplicação, keylogger no cliente e criptoanálise rubberhose. Qualquer forma de hash não vai impedir esses ataques.\n",
            "\n",
            "Tenho preocupação em dificultar ou até impossibilitar a obtenção das senhas originais caso o banco de dados seja comprometido. Como dar maior garantia de segurança neste aspecto?\n",
            "\n",
            "Quais preocupações adicionais evitariam o acesso às senhas? Existem formas melhores de fazer esse hash?\n",
            " \n",
            "\n",
            "____________________________________________________________ \n",
            "\n",
            "_________________________ QUESTÃO ES _________________________ \n",
            "\n",
            "Las sentencias dinámicas son sentencias SQL que se crean como cadenas de texto (strings) y en las que se insertan/concatenan valores obtenidos de alguna fuente (normalmente proveniente del usuario), lo que puede hacer que sean vulnerables a inyección SQL si no se sanean las entradas, como por ejemplo:\n",
            "\n",
            "\n",
            "\n",
            "Eso es un ejemplo de una vulnerabilidad grave en la seguridad de una aplicación (web o no) porque si el usuario introdujese un valor como  nos encontraríamos con que la sentencia ejecutada sería:\n",
            "\n",
            "\n",
            "\n",
            "Y se eliminaría la tabla Usuarios con todos los datos contenidos en ella. \n",
            "\n",
            "¿Cómo puedo evitar que la inyección SQL ocurra en PHP?\n",
            " \n",
            "\n",
            "____________________________________________________________ \n",
            "\n",
            "_________________________ QUESTÃO EN-EUA _________________________ \n",
            "\n",
            "Here is a piece of C++ code that seems very peculiar. For some strange reason, sorting the data miraculously makes the code almost six times faster.\n",
            "\n",
            "\n",
            "\n",
            "\n",
            "Without , the code runs in 11.54 seconds.\n",
            "With the sorted data, the code runs in 1.93 seconds.\n",
            "\n",
            "\n",
            "Initially, I thought this might be just a language or compiler anomaly. So I tried it in Java.\n",
            "\n",
            "\n",
            "\n",
            "With a somewhat similar but less extreme result.\n",
            "\n",
            "\n",
            "\n",
            "My first thought was that sorting brings the data into the cache, but then I thought how silly that is because the array was just generated.\n",
            "\n",
            "\n",
            "What is going on?\n",
            "Why is it faster to process a sorted array than an unsorted array?\n",
            "The code is summing up some independent terms, and the order should not matter.\n",
            "\n",
            " \n",
            "\n",
            "____________________________________________________________ \n",
            "\n"
          ],
          "name": "stdout"
        }
      ]
    },
    {
      "cell_type": "markdown",
      "metadata": {
        "id": "through-possession"
      },
      "source": [
        "Note que agora temos as questões sem trechos de códigos e também sem tags, mas falta uma outra modificação: *retirar pontuações e caracteres especiais*, por exemplo: `? , ñ !`"
      ],
      "id": "through-possession"
    },
    {
      "cell_type": "markdown",
      "metadata": {
        "id": "suburban-kansas"
      },
      "source": [
        "### Excluindo caracteres especiais\n",
        "\n",
        "Existe um meta caracter expresso pelo `^` que indica o complementar, por exemplo, `[^5]` irá corresponder a qualquer caractere exceto `'5'`, e `[^^]` irá corresponder a qualquer caractere exceto `'^'`. "
      ],
      "id": "suburban-kansas"
    },
    {
      "cell_type": "code",
      "metadata": {
        "id": "green-reconstruction"
      },
      "source": [
        "remove_pontuacao = re.compile(r'[^\\s\\w]')"
      ],
      "id": "green-reconstruction",
      "execution_count": 103,
      "outputs": []
    },
    {
      "cell_type": "code",
      "metadata": {
        "id": "second-screen",
        "outputId": "cbd8a1d4-ff83-4d02-aaf6-e4f0f7fc0bf8",
        "colab": {
          "base_uri": "https://localhost:8080/"
        }
      },
      "source": [
        "print(stackoverflow_espanhol.questao_sem_code_tag[0])\n",
        "\n",
        "print(remove_pontuacao.sub('',stackoverflow_espanhol.questao_sem_code_tag[0]))"
      ],
      "id": "second-screen",
      "execution_count": 104,
      "outputs": [
        {
          "output_type": "stream",
          "text": [
            "Las sentencias dinámicas son sentencias SQL que se crean como cadenas de texto (strings) y en las que se insertan/concatenan valores obtenidos de alguna fuente (normalmente proveniente del usuario), lo que puede hacer que sean vulnerables a inyección SQL si no se sanean las entradas, como por ejemplo:\n",
            "\n",
            "\n",
            "\n",
            "Eso es un ejemplo de una vulnerabilidad grave en la seguridad de una aplicación (web o no) porque si el usuario introdujese un valor como  nos encontraríamos con que la sentencia ejecutada sería:\n",
            "\n",
            "\n",
            "\n",
            "Y se eliminaría la tabla Usuarios con todos los datos contenidos en ella. \n",
            "\n",
            "¿Cómo puedo evitar que la inyección SQL ocurra en PHP?\n",
            "\n",
            "Las sentencias dinámicas son sentencias SQL que se crean como cadenas de texto strings y en las que se insertanconcatenan valores obtenidos de alguna fuente normalmente proveniente del usuario lo que puede hacer que sean vulnerables a inyección SQL si no se sanean las entradas como por ejemplo\n",
            "\n",
            "\n",
            "\n",
            "Eso es un ejemplo de una vulnerabilidad grave en la seguridad de una aplicación web o no porque si el usuario introdujese un valor como  nos encontraríamos con que la sentencia ejecutada sería\n",
            "\n",
            "\n",
            "\n",
            "Y se eliminaría la tabla Usuarios con todos los datos contenidos en ella \n",
            "\n",
            "Cómo puedo evitar que la inyección SQL ocurra en PHP\n",
            "\n"
          ],
          "name": "stdout"
        }
      ]
    },
    {
      "cell_type": "markdown",
      "metadata": {
        "id": "front-precipitation"
      },
      "source": [
        "Através da regex `[^\\s\\w]`, isto é \"*remova tudo que não for \\s (espaço) e alphanumérico*\", agora precisamos de uma função que faça isso:"
      ],
      "id": "front-precipitation"
    },
    {
      "cell_type": "code",
      "metadata": {
        "id": "recent-marijuana"
      },
      "source": [
        "def filtro_codigos_html(serie):\n",
        "    \"\"\"\n",
        "    Aplica um filtro pra retirar os códigos das linguagens\n",
        "    em seguida outro filtro pra remover tags HTML\n",
        "    \"\"\"\n",
        "    serie = filtro_regex(serie, remove_linguagem_programacao)\n",
        "    serie = filtro_regex(serie, remove_html)\n",
        "    serie = filtro_regex(serie, remove_pontuacao)\n",
        "    return serie"
      ],
      "id": "recent-marijuana",
      "execution_count": 105,
      "outputs": []
    },
    {
      "cell_type": "code",
      "metadata": {
        "id": "personal-bride"
      },
      "source": [
        "stackoverflow_portugues['questao_sem_code_tag'] = filtro_codigos_html(questoes_pt)\n",
        "stackoverflow_espanhol['questao_sem_code_tag'] = filtro_codigos_html(questoes_es)\n",
        "stackoverflow_ingles['questao_sem_code_tag'] = filtro_codigos_html(questoes_en)"
      ],
      "id": "personal-bride",
      "execution_count": 106,
      "outputs": []
    },
    {
      "cell_type": "code",
      "metadata": {
        "id": "impressive-dynamics",
        "outputId": "984d0b57-3927-4a57-a672-97c45005e7a8",
        "colab": {
          "base_uri": "https://localhost:8080/"
        }
      },
      "source": [
        "print(stackoverflow_espanhol.questao_sem_code_tag[0])"
      ],
      "id": "impressive-dynamics",
      "execution_count": 107,
      "outputs": [
        {
          "output_type": "stream",
          "text": [
            "Las sentencias dinámicas son sentencias SQL que se crean como cadenas de texto strings y en las que se insertanconcatenan valores obtenidos de alguna fuente normalmente proveniente del usuario lo que puede hacer que sean vulnerables a inyección SQL si no se sanean las entradas como por ejemplo\n",
            "\n",
            "\n",
            "\n",
            "Eso es un ejemplo de una vulnerabilidad grave en la seguridad de una aplicación web o no porque si el usuario introdujese un valor como  nos encontraríamos con que la sentencia ejecutada sería\n",
            "\n",
            "\n",
            "\n",
            "Y se eliminaría la tabla Usuarios con todos los datos contenidos en ella \n",
            "\n",
            "Cómo puedo evitar que la inyección SQL ocurra en PHP\n",
            "\n"
          ],
          "name": "stdout"
        }
      ]
    },
    {
      "cell_type": "markdown",
      "metadata": {
        "id": "external-momentum"
      },
      "source": [
        "### Deixando tudo em minusculo"
      ],
      "id": "external-momentum"
    },
    {
      "cell_type": "code",
      "metadata": {
        "id": "sapphire-approval"
      },
      "source": [
        "def minusculo(textos):\n",
        "    if type(textos) == str:\n",
        "        return textos.lower()\n",
        "    elif type(textos) in (list, tuple, np.array, pd.Series, pd.DataFrame):\n",
        "        if type(textos[0]) == str:\n",
        "            return pd.Series([texto.lower() for texto in textos])\n",
        "        else:\n",
        "            raise Exception('Não foi possível aplicar .lower()')\n",
        "    else:\n",
        "        raise Exception('Não foi possível identificar o tipo')\n",
        "    "
      ],
      "id": "sapphire-approval",
      "execution_count": 108,
      "outputs": []
    },
    {
      "cell_type": "code",
      "metadata": {
        "id": "brief-theme",
        "outputId": "f96531df-1b8e-4c7c-83f7-dea374a2938d",
        "colab": {
          "base_uri": "https://localhost:8080/",
          "height": 691
        }
      },
      "source": [
        "display(minusculo(stackoverflow_portugues.questao_sem_code_tag))\n",
        "display(minusculo(stackoverflow_espanhol.questao_sem_code_tag))\n",
        "display(minusculo(stackoverflow_ingles.questao_sem_code_tag))"
      ],
      "id": "brief-theme",
      "execution_count": 109,
      "outputs": [
        {
          "output_type": "display_data",
          "data": {
            "text/plain": [
              "0      se eu fizer o hash de senhas antes de armazená...\n",
              "1      qual é a diferença entre  e  podem me dar algu...\n",
              "2      uma dúvida muito comum é por que devemos parar...\n",
              "3      é comum encontrar uma mensagem de erro que diz...\n",
              "4      me parecem termos muito próximos e eventualmen...\n",
              "                             ...                        \n",
              "495    já vi esse termo polyfill sendo utilizado vári...\n",
              "496    esses dias me deparei com um trecho de um sql ...\n",
              "497    por vezes vejo em documentações ou especificaç...\n",
              "498    na especificação do protocolo http mais precis...\n",
              "499    eu preciso fazer o upload de uma foto e em seg...\n",
              "Length: 500, dtype: object"
            ]
          },
          "metadata": {
            "tags": []
          }
        },
        {
          "output_type": "display_data",
          "data": {
            "text/plain": [
              "0      las sentencias dinámicas son sentencias sql qu...\n",
              "1      unas veces los cálculos funcionan correctament...\n",
              "2      cuál es la diferencia entre un  y un \\n\\ny cuá...\n",
              "3      la mayoría de nosotros decimos muchas veces si...\n",
              "4      pregunta\\n\\ncómo validar un email que acepte t...\n",
              "                             ...                        \n",
              "495    para escribir una respuesta a 191c243mo funcio...\n",
              "496    estoy empezando a estudiar e investigar un poc...\n",
              "497    estoy empezando con c y tengo la siguiente dud...\n",
              "498    cuál es la diferencia entre interfaz y clase a...\n",
              "499    necesito agregarle un estilo a mi checkbox par...\n",
              "Length: 500, dtype: object"
            ]
          },
          "metadata": {
            "tags": []
          }
        },
        {
          "output_type": "display_data",
          "data": {
            "text/plain": [
              "0      here is a piece of c code that seems very pecu...\n",
              "1      i accidentally committed the wrong files to gi...\n",
              "2      i want to delete a branch both locally and rem...\n",
              "3      \\n  moderator note given that this question ha...\n",
              "4      ive been messing around with json for some tim...\n",
              "                             ...                        \n",
              "495    i just installed  and  for additional modules\\...\n",
              "496    this came to my mind after i learned the follo...\n",
              "497    is it possible to set up a basic html page to ...\n",
              "498    i have a repository in git i made a branch the...\n",
              "499    i came across some java code that had the foll...\n",
              "Length: 500, dtype: object"
            ]
          },
          "metadata": {
            "tags": []
          }
        }
      ]
    },
    {
      "cell_type": "code",
      "metadata": {
        "id": "grave-scottish"
      },
      "source": [
        "def filtro_codigos_html(serie):\n",
        "    \"\"\"\n",
        "    Aplica um filtro pra retirar os códigos das linguagens\n",
        "    em seguida outro filtro pra remover tags HTML\n",
        "    \"\"\"\n",
        "    serie = filtro_regex(serie, remove_linguagem_programacao)\n",
        "    serie = filtro_regex(serie, remove_html)\n",
        "    serie = filtro_regex(serie, remove_pontuacao)\n",
        "    serie = minusculo(serie)\n",
        "    return serie"
      ],
      "id": "grave-scottish",
      "execution_count": 110,
      "outputs": []
    },
    {
      "cell_type": "code",
      "metadata": {
        "id": "directed-marijuana"
      },
      "source": [
        "stackoverflow_portugues['questao_sem_code_tag'] = filtro_codigos_html(questoes_pt)\n",
        "stackoverflow_espanhol['questao_sem_code_tag'] = filtro_codigos_html(questoes_es)\n",
        "stackoverflow_ingles['questao_sem_code_tag'] = filtro_codigos_html(questoes_en)"
      ],
      "id": "directed-marijuana",
      "execution_count": 111,
      "outputs": []
    },
    {
      "cell_type": "code",
      "metadata": {
        "id": "fatty-rocket",
        "outputId": "a1615d71-fc6e-4387-f7b8-9aaf3b80f82c",
        "colab": {
          "base_uri": "https://localhost:8080/",
          "height": 691
        }
      },
      "source": [
        "display(stackoverflow_portugues.questao_sem_code_tag)\n",
        "display(stackoverflow_espanhol.questao_sem_code_tag)\n",
        "display(stackoverflow_ingles.questao_sem_code_tag)"
      ],
      "id": "fatty-rocket",
      "execution_count": 112,
      "outputs": [
        {
          "output_type": "display_data",
          "data": {
            "text/plain": [
              "0      se eu fizer o hash de senhas antes de armazená...\n",
              "1      qual é a diferença entre  e  podem me dar algu...\n",
              "2      uma dúvida muito comum é por que devemos parar...\n",
              "3      é comum encontrar uma mensagem de erro que diz...\n",
              "4      me parecem termos muito próximos e eventualmen...\n",
              "                             ...                        \n",
              "495    já vi esse termo polyfill sendo utilizado vári...\n",
              "496    esses dias me deparei com um trecho de um sql ...\n",
              "497    por vezes vejo em documentações ou especificaç...\n",
              "498    na especificação do protocolo http mais precis...\n",
              "499    eu preciso fazer o upload de uma foto e em seg...\n",
              "Name: questao_sem_code_tag, Length: 500, dtype: object"
            ]
          },
          "metadata": {
            "tags": []
          }
        },
        {
          "output_type": "display_data",
          "data": {
            "text/plain": [
              "0      las sentencias dinámicas son sentencias sql qu...\n",
              "1      unas veces los cálculos funcionan correctament...\n",
              "2      cuál es la diferencia entre un  y un \\n\\ny cuá...\n",
              "3      la mayoría de nosotros decimos muchas veces si...\n",
              "4      pregunta\\n\\ncómo validar un email que acepte t...\n",
              "                             ...                        \n",
              "495    para escribir una respuesta a 191c243mo funcio...\n",
              "496    estoy empezando a estudiar e investigar un poc...\n",
              "497    estoy empezando con c y tengo la siguiente dud...\n",
              "498    cuál es la diferencia entre interfaz y clase a...\n",
              "499    necesito agregarle un estilo a mi checkbox par...\n",
              "Name: questao_sem_code_tag, Length: 500, dtype: object"
            ]
          },
          "metadata": {
            "tags": []
          }
        },
        {
          "output_type": "display_data",
          "data": {
            "text/plain": [
              "0      here is a piece of c code that seems very pecu...\n",
              "1      i accidentally committed the wrong files to gi...\n",
              "2      i want to delete a branch both locally and rem...\n",
              "3      \\n  moderator note given that this question ha...\n",
              "4      ive been messing around with json for some tim...\n",
              "                             ...                        \n",
              "495    i just installed  and  for additional modules\\...\n",
              "496    this came to my mind after i learned the follo...\n",
              "497    is it possible to set up a basic html page to ...\n",
              "498    i have a repository in git i made a branch the...\n",
              "499    i came across some java code that had the foll...\n",
              "Name: questao_sem_code_tag, Length: 500, dtype: object"
            ]
          },
          "metadata": {
            "tags": []
          }
        }
      ]
    },
    {
      "cell_type": "code",
      "metadata": {
        "id": "aggressive-stylus",
        "outputId": "f6537574-bd04-48e7-f2c3-bde7f93fbd96",
        "colab": {
          "base_uri": "https://localhost:8080/",
          "height": 167
        }
      },
      "source": [
        "stackoverflow_espanhol.questao_sem_code_tag[0]"
      ],
      "id": "aggressive-stylus",
      "execution_count": 113,
      "outputs": [
        {
          "output_type": "execute_result",
          "data": {
            "application/vnd.google.colaboratory.intrinsic+json": {
              "type": "string"
            },
            "text/plain": [
              "'las sentencias dinámicas son sentencias sql que se crean como cadenas de texto strings y en las que se insertanconcatenan valores obtenidos de alguna fuente normalmente proveniente del usuario lo que puede hacer que sean vulnerables a inyección sql si no se sanean las entradas como por ejemplo\\n\\n\\n\\neso es un ejemplo de una vulnerabilidad grave en la seguridad de una aplicación web o no porque si el usuario introdujese un valor como  nos encontraríamos con que la sentencia ejecutada sería\\n\\n\\n\\ny se eliminaría la tabla usuarios con todos los datos contenidos en ella \\n\\ncómo puedo evitar que la inyección sql ocurra en php\\n'"
            ]
          },
          "metadata": {
            "tags": []
          },
          "execution_count": 113
        }
      ]
    },
    {
      "cell_type": "markdown",
      "metadata": {
        "id": "nG8Io7Ef8Q5x"
      },
      "source": [
        "Perceba acima que agora temos duas palavras \"las\" sem distinção, antes uma era maiuscula e outra minuscula"
      ],
      "id": "nG8Io7Ef8Q5x"
    },
    {
      "cell_type": "markdown",
      "metadata": {
        "id": "xPLAsa4z8ufZ"
      },
      "source": [
        "### Remove dígitos\n",
        "\n",
        "Agora precisamos remover todos os possíveis digitos que estão nos textos"
      ],
      "id": "xPLAsa4z8ufZ"
    },
    {
      "cell_type": "code",
      "metadata": {
        "id": "HlkPmZx_8W1n"
      },
      "source": [
        "remove_digitos = re.compile(r'\\d+')"
      ],
      "id": "HlkPmZx_8W1n",
      "execution_count": 114,
      "outputs": []
    },
    {
      "cell_type": "code",
      "metadata": {
        "id": "hP8-kyHd9P-k",
        "outputId": "090cd6b4-1f0e-45d3-b493-c1b81fbd045f",
        "colab": {
          "base_uri": "https://localhost:8080/",
          "height": 36
        }
      },
      "source": [
        "filtro_regex('OL4 MUND0', remove_digitos)"
      ],
      "id": "hP8-kyHd9P-k",
      "execution_count": 115,
      "outputs": [
        {
          "output_type": "execute_result",
          "data": {
            "application/vnd.google.colaboratory.intrinsic+json": {
              "type": "string"
            },
            "text/plain": [
              "'OL MUND'"
            ]
          },
          "metadata": {
            "tags": []
          },
          "execution_count": 115
        }
      ]
    },
    {
      "cell_type": "code",
      "metadata": {
        "id": "N6r7cSkd9qYq"
      },
      "source": [
        "def filtro_codigos_html(serie):\n",
        "    \"\"\"\n",
        "    Aplica um filtro pra retirar os códigos das linguagens\n",
        "    em seguida outro filtro pra remover tags HTML\n",
        "    \"\"\"\n",
        "    serie = filtro_regex(serie, remove_linguagem_programacao)\n",
        "    serie = filtro_regex(serie, remove_html)\n",
        "    serie = filtro_regex(serie, remove_pontuacao)\n",
        "    serie = minusculo(serie)\n",
        "    serie = filtro_regex(serie, remove_digitos)\n",
        "    return serie\n",
        "\n",
        "stackoverflow_portugues['questao_sem_code_tag'] = filtro_codigos_html(questoes_pt)\n",
        "stackoverflow_espanhol['questao_sem_code_tag'] = filtro_codigos_html(questoes_es)\n",
        "stackoverflow_ingles['questao_sem_code_tag'] = filtro_codigos_html(questoes_en)"
      ],
      "id": "N6r7cSkd9qYq",
      "execution_count": 116,
      "outputs": []
    },
    {
      "cell_type": "markdown",
      "metadata": {
        "id": "LnQ4k-pL-NRK"
      },
      "source": [
        "### Removendo excesso de espaços\n",
        "\n",
        "Geralmente quando usamos o filtro de digitos os espaços são duplicados, vamos criar um filtro pra eliminar os espaços duplos:"
      ],
      "id": "LnQ4k-pL-NRK"
    },
    {
      "cell_type": "code",
      "metadata": {
        "id": "0wOpSkRp-H0C"
      },
      "source": [
        "remove_espacos = re.compile(r' +') #"
      ],
      "id": "0wOpSkRp-H0C",
      "execution_count": 117,
      "outputs": []
    },
    {
      "cell_type": "code",
      "metadata": {
        "id": "2UFZd5u_-rXv",
        "outputId": "63eb8ce5-a439-4ba5-bf18-7fa2cd33630d",
        "colab": {
          "base_uri": "https://localhost:8080/",
          "height": 36
        }
      },
      "source": [
        "filtro_regex('teste              espaços', remove_espacos)"
      ],
      "id": "2UFZd5u_-rXv",
      "execution_count": 118,
      "outputs": [
        {
          "output_type": "execute_result",
          "data": {
            "application/vnd.google.colaboratory.intrinsic+json": {
              "type": "string"
            },
            "text/plain": [
              "'testeespaços'"
            ]
          },
          "metadata": {
            "tags": []
          },
          "execution_count": 118
        }
      ]
    },
    {
      "cell_type": "markdown",
      "metadata": {
        "id": "kvU0ga-I_GNq"
      },
      "source": [
        "note que ele removeu todos os espaços, por isso o que precisamos fazer é modificar a função `filtro_regex()`"
      ],
      "id": "kvU0ga-I_GNq"
    },
    {
      "cell_type": "code",
      "metadata": {
        "id": "zKHImByg_ZNq"
      },
      "source": [
        "def filtro_regex(textos, regex, subs=''):\n",
        "    \"\"\"\n",
        "    Aplica regex em um texto ou em uma estrutura de dados com textos.\n",
        "    Retorna um texto filtrado ou a estrutura de dados com textos filtrados.\n",
        "    Parametro opcional: subs é o que deve ser substituido\n",
        "     no lugar o texto filtrado\n",
        "    \"\"\"\n",
        "    \n",
        "    if type(textos) == str:\n",
        "        return regex.sub(subs, textos)\n",
        "    elif type(textos) in (list, tuple, set, np.array, pd.Series, pd.DataFrame):\n",
        "        return pd.Series([regex.sub(subs, texto) for texto in textos])\n",
        "    else:\n",
        "        raise Exception('Não foi possível aplicar o REGEX')\n",
        "    "
      ],
      "id": "zKHImByg_ZNq",
      "execution_count": 119,
      "outputs": []
    },
    {
      "cell_type": "code",
      "metadata": {
        "id": "C7dkqeIM_tr-",
        "outputId": "6eaa85ba-78d0-4d0d-b52b-6a2aa0583d70",
        "colab": {
          "base_uri": "https://localhost:8080/"
        }
      },
      "source": [
        "print(filtro_regex('teste      \\n        espaços', remove_espacos, ' '))"
      ],
      "id": "C7dkqeIM_tr-",
      "execution_count": 120,
      "outputs": [
        {
          "output_type": "stream",
          "text": [
            "teste \n",
            " espaços\n"
          ],
          "name": "stdout"
        }
      ]
    },
    {
      "cell_type": "markdown",
      "metadata": {
        "id": "28A4uLfCAApS"
      },
      "source": [
        "note que o `remove_espacos`  não retira os `\\n`.\n",
        "\n",
        "Vamos testar na frase `0` da base em espanhol, note que ela tem várias quebras de linha"
      ],
      "id": "28A4uLfCAApS"
    },
    {
      "cell_type": "code",
      "metadata": {
        "id": "MJN8D8js_v4t",
        "outputId": "65e05189-1f45-4ee2-cd17-400d144ecc65",
        "colab": {
          "base_uri": "https://localhost:8080/"
        }
      },
      "source": [
        "print(stackoverflow_espanhol.questao_sem_code_tag[0])"
      ],
      "id": "MJN8D8js_v4t",
      "execution_count": 121,
      "outputs": [
        {
          "output_type": "stream",
          "text": [
            "las sentencias dinámicas son sentencias sql que se crean como cadenas de texto strings y en las que se insertanconcatenan valores obtenidos de alguna fuente normalmente proveniente del usuario lo que puede hacer que sean vulnerables a inyección sql si no se sanean las entradas como por ejemplo\n",
            "\n",
            "\n",
            "\n",
            "eso es un ejemplo de una vulnerabilidad grave en la seguridad de una aplicación web o no porque si el usuario introdujese un valor como  nos encontraríamos con que la sentencia ejecutada sería\n",
            "\n",
            "\n",
            "\n",
            "y se eliminaría la tabla usuarios con todos los datos contenidos en ella \n",
            "\n",
            "cómo puedo evitar que la inyección sql ocurra en php\n",
            "\n"
          ],
          "name": "stdout"
        }
      ]
    },
    {
      "cell_type": "markdown",
      "metadata": {
        "id": "fvYGgS1DBbOT"
      },
      "source": [
        "vou criar um filtro pra substituir os `\\n` por um único `\\n`"
      ],
      "id": "fvYGgS1DBbOT"
    },
    {
      "cell_type": "code",
      "metadata": {
        "id": "9txOKr3VBCpQ"
      },
      "source": [
        "remove_quebra_linha = re.compile(r'(\\n)')"
      ],
      "id": "9txOKr3VBCpQ",
      "execution_count": 122,
      "outputs": []
    },
    {
      "cell_type": "code",
      "metadata": {
        "id": "Q5ytykdEBrzS",
        "outputId": "3c419ed5-1d40-4a38-d17e-06e29b2e3226",
        "colab": {
          "base_uri": "https://localhost:8080/"
        }
      },
      "source": [
        "print(filtro_regex(\n",
        "    stackoverflow_espanhol.questao_sem_code_tag[0],\n",
        "    remove_quebra_linha\n",
        "))"
      ],
      "id": "Q5ytykdEBrzS",
      "execution_count": 123,
      "outputs": [
        {
          "output_type": "stream",
          "text": [
            "las sentencias dinámicas son sentencias sql que se crean como cadenas de texto strings y en las que se insertanconcatenan valores obtenidos de alguna fuente normalmente proveniente del usuario lo que puede hacer que sean vulnerables a inyección sql si no se sanean las entradas como por ejemploeso es un ejemplo de una vulnerabilidad grave en la seguridad de una aplicación web o no porque si el usuario introdujese un valor como  nos encontraríamos con que la sentencia ejecutada seríay se eliminaría la tabla usuarios con todos los datos contenidos en ella cómo puedo evitar que la inyección sql ocurra en php\n"
          ],
          "name": "stdout"
        }
      ]
    },
    {
      "cell_type": "markdown",
      "metadata": {
        "id": "XxEYuSURCJ4a"
      },
      "source": [
        "Agora o texto não tem quebra de linha."
      ],
      "id": "XxEYuSURCJ4a"
    },
    {
      "cell_type": "code",
      "metadata": {
        "id": "mar0dKOuBRYY"
      },
      "source": [
        "def filtro_codigos_html(serie):\n",
        "    \"\"\"\n",
        "    Aplica um filtro pra retirar os códigos das linguagens\n",
        "    em seguida outro filtro pra remover tags HTML\n",
        "    \"\"\"\n",
        "    serie = filtro_regex(serie, remove_linguagem_programacao)\n",
        "    serie = filtro_regex(serie, remove_html)\n",
        "    serie = filtro_regex(serie, remove_pontuacao)\n",
        "    serie = minusculo(serie)\n",
        "    serie = filtro_regex(serie, remove_digitos)\n",
        "    serie = filtro_regex(serie, remove_espacos, ' ')\n",
        "    serie = filtro_regex(serie, remove_quebra_linha, ' ')\n",
        "    \n",
        "    return serie\n",
        "\n",
        "stackoverflow_portugues['questao_sem_code_tag'] = filtro_codigos_html(questoes_pt)\n",
        "stackoverflow_espanhol['questao_sem_code_tag'] = filtro_codigos_html(questoes_es)\n",
        "stackoverflow_ingles['questao_sem_code_tag'] = filtro_codigos_html(questoes_en)"
      ],
      "id": "mar0dKOuBRYY",
      "execution_count": 124,
      "outputs": []
    },
    {
      "cell_type": "code",
      "metadata": {
        "id": "azNtyPFbCekI"
      },
      "source": [
        ""
      ],
      "id": "azNtyPFbCekI",
      "execution_count": 124,
      "outputs": []
    }
  ]
}