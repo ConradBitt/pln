{
 "cells": [
  {
   "cell_type": "markdown",
   "id": "assumed-penny",
   "metadata": {},
   "source": [
    "# Introdução\n",
    "\n",
    "O objetivo deste notebook é estudar alguns modelos de linguagem e como usar expressões regulares no NLP. A base de dados que vou utilizar é a do [stackoverflow](https://stackoverflow.com/) com textos em português, inglês e espanhol."
   ]
  },
  {
   "cell_type": "markdown",
   "id": "double-lottery",
   "metadata": {},
   "source": [
    "## Importações"
   ]
  },
  {
   "cell_type": "code",
   "execution_count": 2,
   "id": "neither-holder",
   "metadata": {},
   "outputs": [],
   "source": [
    "import pandas as pd"
   ]
  },
  {
   "cell_type": "code",
   "execution_count": 12,
   "id": "mysterious-continuity",
   "metadata": {},
   "outputs": [],
   "source": [
    "stackoverflow_portugues = pd.read_csv('dados/stackoverflow_portugues.csv')\n",
    "stackoverflow_ingles = pd.read_csv('dados/stackoverflow_ingles.csv')\n",
    "stackoverflow_espanhol = pd.read_csv('dados/stackoverflow_espanhol.csv')"
   ]
  },
  {
   "cell_type": "code",
   "execution_count": 13,
   "id": "different-darkness",
   "metadata": {},
   "outputs": [
    {
     "data": {
      "text/html": [
       "<div>\n",
       "<style scoped>\n",
       "    .dataframe tbody tr th:only-of-type {\n",
       "        vertical-align: middle;\n",
       "    }\n",
       "\n",
       "    .dataframe tbody tr th {\n",
       "        vertical-align: top;\n",
       "    }\n",
       "\n",
       "    .dataframe thead th {\n",
       "        text-align: right;\n",
       "    }\n",
       "</style>\n",
       "<table border=\"1\" class=\"dataframe\">\n",
       "  <thead>\n",
       "    <tr style=\"text-align: right;\">\n",
       "      <th></th>\n",
       "      <th>Id</th>\n",
       "      <th>Título</th>\n",
       "      <th>Questão</th>\n",
       "      <th>Tags</th>\n",
       "      <th>Pontuação</th>\n",
       "      <th>Visualizações</th>\n",
       "    </tr>\n",
       "  </thead>\n",
       "  <tbody>\n",
       "    <tr>\n",
       "      <th>0</th>\n",
       "      <td>2402</td>\n",
       "      <td>Como fazer hash de senhas de forma segura?</td>\n",
       "      <td>&lt;p&gt;Se eu fizer o &lt;em&gt;&lt;a href=\"http://pt.wikipe...</td>\n",
       "      <td>&lt;hash&gt;&lt;segurança&gt;&lt;senhas&gt;&lt;criptografia&gt;</td>\n",
       "      <td>350</td>\n",
       "      <td>22367</td>\n",
       "    </tr>\n",
       "    <tr>\n",
       "      <th>1</th>\n",
       "      <td>6441</td>\n",
       "      <td>Qual é a diferença entre INNER JOIN e OUTER JOIN?</td>\n",
       "      <td>&lt;p&gt;Qual é a diferença entre &lt;code&gt;INNER JOIN&lt;/...</td>\n",
       "      <td>&lt;sql&gt;&lt;join&gt;</td>\n",
       "      <td>276</td>\n",
       "      <td>176953</td>\n",
       "    </tr>\n",
       "    <tr>\n",
       "      <th>2</th>\n",
       "      <td>579</td>\n",
       "      <td>Por que não devemos usar funções do tipo mysql_*?</td>\n",
       "      <td>&lt;p&gt;Uma dúvida muito comum é por que devemos pa...</td>\n",
       "      <td>&lt;php&gt;&lt;mysql&gt;</td>\n",
       "      <td>226</td>\n",
       "      <td>9761</td>\n",
       "    </tr>\n",
       "    <tr>\n",
       "      <th>3</th>\n",
       "      <td>2539</td>\n",
       "      <td>As mensagens de erro devem se desculpar?</td>\n",
       "      <td>&lt;p&gt;É comum encontrar uma mensagem de erro que ...</td>\n",
       "      <td>&lt;aplicação-web&gt;&lt;gui&gt;&lt;console&gt;&lt;ux&gt;</td>\n",
       "      <td>214</td>\n",
       "      <td>5075</td>\n",
       "    </tr>\n",
       "    <tr>\n",
       "      <th>4</th>\n",
       "      <td>17501</td>\n",
       "      <td>Qual é a diferença de API, biblioteca e Framew...</td>\n",
       "      <td>&lt;p&gt;Me parecem termos muito próximos e eventual...</td>\n",
       "      <td>&lt;api&gt;&lt;framework&gt;&lt;terminologia&gt;&lt;biblioteca&gt;</td>\n",
       "      <td>193</td>\n",
       "      <td>54191</td>\n",
       "    </tr>\n",
       "  </tbody>\n",
       "</table>\n",
       "</div>"
      ],
      "text/plain": [
       "      Id                                             Título  \\\n",
       "0   2402         Como fazer hash de senhas de forma segura?   \n",
       "1   6441  Qual é a diferença entre INNER JOIN e OUTER JOIN?   \n",
       "2    579  Por que não devemos usar funções do tipo mysql_*?   \n",
       "3   2539           As mensagens de erro devem se desculpar?   \n",
       "4  17501  Qual é a diferença de API, biblioteca e Framew...   \n",
       "\n",
       "                                             Questão  \\\n",
       "0  <p>Se eu fizer o <em><a href=\"http://pt.wikipe...   \n",
       "1  <p>Qual é a diferença entre <code>INNER JOIN</...   \n",
       "2  <p>Uma dúvida muito comum é por que devemos pa...   \n",
       "3  <p>É comum encontrar uma mensagem de erro que ...   \n",
       "4  <p>Me parecem termos muito próximos e eventual...   \n",
       "\n",
       "                                         Tags  Pontuação  Visualizações  \n",
       "0     <hash><segurança><senhas><criptografia>        350          22367  \n",
       "1                                 <sql><join>        276         176953  \n",
       "2                                <php><mysql>        226           9761  \n",
       "3           <aplicação-web><gui><console><ux>        214           5075  \n",
       "4  <api><framework><terminologia><biblioteca>        193          54191  "
      ]
     },
     "execution_count": 13,
     "metadata": {},
     "output_type": "execute_result"
    }
   ],
   "source": [
    "stackoverflow_portugues.head()"
   ]
  },
  {
   "cell_type": "markdown",
   "id": "unique-thing",
   "metadata": {},
   "source": [
    "Acima temos os 5 primeiros registros da base de dados do stackoverflow. São as perguntas com maiores pontuações e mais visualizações. As variáveis são:\n",
    "\n",
    "* Id: Identificador da questão.\n",
    "* Título: Titulo da questão\n",
    "* Questão: A pergunta efetivamente\n",
    "* Tags: As tags relacionadas à quetão\n",
    "* Pontuação: Pontuação da questão\n",
    "* Visualizações: nº de visualizações"
   ]
  },
  {
   "cell_type": "markdown",
   "id": "direct-retrieval",
   "metadata": {},
   "source": [
    "#### Exemplo de questão\n",
    "\n",
    "Vamos verificar qual conteúdo é armazenado na variável `Questão`"
   ]
  },
  {
   "cell_type": "code",
   "execution_count": 11,
   "id": "speaking-burner",
   "metadata": {},
   "outputs": [
    {
     "name": "stdout",
     "output_type": "stream",
     "text": [
      "<p>Desenvolvi uma página em PHP para uso interno da empresa que trabalho e apenas pouquíssimas pessoas a utilizam. Através dessa página é possível fazer algumas consultas, inserções, alterações e remoções de dados de uma tabela em um banco de dados MySQL, porém eu acredito que meu código em PHP não está protegido contra injeção de código SQL, por exemplo:</p>\n",
      "\n",
      "<pre><code>//----CONSULTA SQL----//\n",
      "$busca = mysql_query ('insert into Produtos (coluna) values(' . $valor . ')');\n",
      "</code></pre>\n",
      "\n",
      "<p>Logo, digamos que o usuário usar a sentença: <code>1); DROP TABLE Produtos;</code> para ao campo <code>valor</code> o comando ficaria: </p>\n",
      "\n",
      "<pre><code>insert into Produtos (coluna) values(1); DROP TABLE Produtos;\n",
      "</code></pre>\n",
      "\n",
      "<p>Ele vai inserir um novo registro cujo o campo <code>coluna</code> será <code>1</code> e logo em seguida ele vai deletar a tabela Produtos.</p>\n",
      "\n",
      "<p>Como posso melhorar meu código para prevenir essa situação?</p>\n",
      "\n"
     ]
    }
   ],
   "source": [
    "print(stackoverflow_portugues['Questão'][5])"
   ]
  },
  {
   "cell_type": "markdown",
   "id": "endangered-movement",
   "metadata": {},
   "source": [
    "Esse é um exemplo de dados em português que será usado para treinar um modelo de identificação de idiomas. Um ponto importante é que não se tem só texto, também tem tags html então é preciso retirar estas tags. Outra estrutura de texto que tem no dado são códigos por exemplo: \n",
    "\n",
    "```sql\n",
    "$busca = mysql_query ('insert into Produtos (coluna) values(' . $valor . ')');\n",
    "```\n",
    "\n",
    "é preciso retirar também esse tipo de estrutura do dado, isto porque a maioria das linguagens de programação e marcação é em inglês e isso pode gerar um viés do modelo classificar todos os textos com trechos em códigos como um idioma inglês.\n",
    "\n",
    "Além disso a pontuação também precisa ser removida. Tomando a oração como exemplo: \n",
    "\n",
    "> Através dessa página é possível fazer algumas consultas, inserções, alterações e remoções de dados de uma tabela em um banco de dados MySQL.\n",
    "\n",
    "se queremos identificar o idioma em português não faz sentido deixar virgulas e pontos finais."
   ]
  },
  {
   "cell_type": "markdown",
   "id": "blank-recipe",
   "metadata": {},
   "source": [
    "# REGEX\n",
    "\n",
    "Como precisamos fazer várias filtragens em dados textuais, uma forma bem usual de fazer este ofício é através das expressões regulares, ou REGEX. REGEX é similar á uma linguagem de marcação (mas não é) dentro de uma própria linguagem, tipo Java, C ou python, que permite identificar padrões em estruturas de caracters.\n",
    "\n",
    "Por exemplo, imagine que temos a tarefa de identificar um provedor de email e temos uma lista de emaisl:\n",
    "```\n",
    "joao_miguel@gmail.com\n",
    "maria_eduarda@hotmail.com.br\n",
    "alice_124@bol.com\n",
    "```\n",
    "como fazer isso? Bom, é facil ver que o provedor de email tem um padrão no email em si. Geralmente o provedor precede o ($@$) e antecede o ($\\cdot$), ou seja, dado este padrão que identificamos podemos filtrar usando expressão regular. Um excelente site para o estudo de expressões regulares é o https://regex101.com/\n",
    "\n",
    "Para fazer esta filtragem utilizamos os chamados [*Meta Caracteres*](https://tdn.engpro.totvs.com.br/display/tec/RegEx+-+Metacaracteres), que são marcações utilizadas para seleção de certas estruturas num texto. Por exemplo, para captar todos os provedores de email podemos usar a seguinte expressão regular:\n",
    "\n",
    "\n",
    "> `@[a-z]+\\.` se lê como: @[todos alpha] com mais de 1 caracter até o \\. \n",
    "\n",
    "se desejar-mos limitar o provedores com no máximo 5 caracteres substituimos o ($+$) por $\\{5\\}$\n",
    "\n",
    "> `@[a-z]{1,5}\\.` se lê como: @[todos alpha] com no minimo 1 até 5 caracter até o \\. \n",
    "\n",
    "Outro meta caracter muito importante é o circunflexo `(^)`, ele é uma forma de obrigar uma estrutura de caracters a iniciar com uma letra, por exemplo, numa regex da forma `^j.*` aplicada a nossa lista de emails, vai tornar apenas `joao_miguel@gmail.com` porque é o único que começa com a letra *j*.\n",
    "\n",
    "É possível criar grupos de seleção, por exemplo, na expressão regular `^(j|a).*` aplicada a nossa lista de email, vai retornar `joao_miguel@gmail.com` e `alice_124@bol.com`, porque são os dois emails que começam com *j* ou *a*\n",
    "\n",
    "Da mesma forma que o `(^)` para as estruturas que começam obrigatoriamente com os caracteres, temos uma forma de fazer com que a string termine obrigatoriamente com um caracter, para isso usa-se o cifrão, por exemplo, aplicando a expressão `.*br$` o resultado é ``maria_eduarda@hotmail.com.br``, porque é o unico endereço que termina com br.\n"
   ]
  },
  {
   "cell_type": "markdown",
   "id": "suspended-fleet",
   "metadata": {},
   "source": [
    "#### Exemplo\n",
    "Dado os CEP e suas possíveis estruturas, qual é a REGEX que podemos utilizar?\n",
    "\n",
    "```\n",
    "04567003\n",
    "04567-003\n",
    "04.567-003\n",
    "04.567.003\n",
    "04 567 003\n",
    "04567 003\n",
    "04567.003\n",
    "```\n",
    "\n",
    "bom, os primeiros dois caracteres são sempre os mesmos então podemos utilizar `^{2}`. Depois disso pode ter, ou não, espaço ou ponto, então usamos `[. ]?`, note que tem um espaço dentro do colchete, para ser mais descritivo pode-se usar também o `[.\\s]?`. Em seguida temos novamente mais três algarismos, portanto usamos um `\\d{3}`. Depois disso pode vir ou não, espaço, hífen ou ponto, logo a expressão regular é `[-. ]` ou `[-.\\s]`. Por fim, tem mais três algarismos então a REGEX é `\\d{3}`.\n",
    "\n",
    "Juntando tudo a expressão regular que engloba todos os exemplos é: `^{3}[.\\s]?\\d{3}[-.\\s]\\d{3}`"
   ]
  },
  {
   "cell_type": "markdown",
   "id": "driving-paraguay",
   "metadata": {},
   "source": [
    "# Questões em outras linguas\n",
    "\n",
    "Vamos analisar as questões nos idiomas inglês e espanhol "
   ]
  },
  {
   "cell_type": "markdown",
   "id": "understood-antarctica",
   "metadata": {},
   "source": [
    "## Espanhol"
   ]
  },
  {
   "cell_type": "code",
   "execution_count": 16,
   "id": "proved-column",
   "metadata": {},
   "outputs": [
    {
     "name": "stdout",
     "output_type": "stream",
     "text": [
      "<p>Siempre he visto que en <code>JavaScript</code> hay:</p>\n",
      "\n",
      "<ul>\n",
      "<li>asignaciones <code>=</code></li>\n",
      "<li>comparaciones <code>==</code> y <code>===</code></li>\n",
      "</ul>\n",
      "\n",
      "<p>Creo entender que <code>==</code> hace algo parecido a comparar el valor de la variable y el <code>===</code> también compara el tipo (como un equals de java). </p>\n",
      "\n",
      "<p><strong>¿Alguien podría confirmarme este punto y extenderlo?</strong>. Soy javero y el no tipado de javascript a veces me encanta y otras lo odio.</p>\n",
      "\n",
      "<hr>\n",
      "\n",
      "<p>¿Cuál es la manera correcta en javascript de comparar <code>undefined</code>, <code>null</code> y otros valores por defecto? </p>\n",
      "\n",
      "<pre><code>variable == null\n",
      "variable === null\n",
      "</code></pre>\n",
      "\n",
      "<p>¿<strong><code>undefined</code></strong> se usa como cadena de texto o como palabra clave? ¿Cual de las siguientes comparaciones es la correcta para un elemento <code>html</code> sin <code>value</code>? (por ejemplo un label sin contenido)</p>\n",
      "\n",
      "<pre><code>variable == \"undefined\"\n",
      "variable === \"undefined\"\n",
      "variable == undefined\n",
      "variable === undefined\n",
      "</code></pre>\n",
      "\n"
     ]
    }
   ],
   "source": [
    "print(stackoverflow_espanhol['Questão'][5])"
   ]
  },
  {
   "cell_type": "markdown",
   "id": "straight-bridges",
   "metadata": {},
   "source": [
    "## Inglês\n"
   ]
  },
  {
   "cell_type": "code",
   "execution_count": 17,
   "id": "arranged-employer",
   "metadata": {},
   "outputs": [
    {
     "name": "stdout",
     "output_type": "stream",
     "text": [
      "<p>What is the use of the <code>yield</code> keyword in Python? What does it do?</p>\n",
      "\n",
      "<p>For example, I'm trying to understand this code<sup><strong>1</strong></sup>:</p>\n",
      "\n",
      "<pre><code>def _get_child_candidates(self, distance, min_dist, max_dist):\n",
      "    if self._leftchild and distance - max_dist &lt; self._median:\n",
      "        yield self._leftchild\n",
      "    if self._rightchild and distance + max_dist &gt;= self._median:\n",
      "        yield self._rightchild  \n",
      "</code></pre>\n",
      "\n",
      "<p>And this is the caller:</p>\n",
      "\n",
      "<pre><code>result, candidates = [], [self]\n",
      "while candidates:\n",
      "    node = candidates.pop()\n",
      "    distance = node._get_dist(obj)\n",
      "    if distance &lt;= max_dist and distance &gt;= min_dist:\n",
      "        result.extend(node._values)\n",
      "    candidates.extend(node._get_child_candidates(distance, min_dist, max_dist))\n",
      "return result\n",
      "</code></pre>\n",
      "\n",
      "<p>What happens when the method <code>_get_child_candidates</code> is called?\n",
      "Is a list returned? A single element? Is it called again? When will subsequent calls stop?</p>\n",
      "\n",
      "<hr>\n",
      "\n",
      "<p><sub>\n",
      "1. This piece of code was written by Jochen Schulz (jrschulz), who made a great Python library for metric spaces. This is the link to the complete source: <a href=\"http://well-adjusted.de/~jrschulz/mspace/\" rel=\"noreferrer\">Module mspace</a>.</sub></p>\n",
      "\n"
     ]
    }
   ],
   "source": [
    "print(stackoverflow_ingles['Questão'][5])"
   ]
  },
  {
   "cell_type": "markdown",
   "id": "absent-prompt",
   "metadata": {},
   "source": [
    "# Usando REGEX Python\n",
    "\n",
    "O python tem um módulo nativo para manipular expressões regulares, se chamada `re`"
   ]
  },
  {
   "cell_type": "code",
   "execution_count": 19,
   "id": "tough-scenario",
   "metadata": {},
   "outputs": [],
   "source": [
    "import re"
   ]
  },
  {
   "cell_type": "markdown",
   "id": "educational-result",
   "metadata": {},
   "source": [
    "A documentação deste módulo é extremamente detalhada\n",
    "\n",
    "> https://docs.python.org/pt-br/3/library/re.html\n",
    "\n",
    "Além disso tem um artigo na própria documentação chamado [\"HOW TO REGULAR EXPRESSIONS\"](https://docs.python.org/pt-br/3/howto/regex.html#regex-howto) que da vários exemplos e casos onde REGEX são usados."
   ]
  },
  {
   "cell_type": "markdown",
   "id": "played-partition",
   "metadata": {},
   "source": [
    "## Aplicando em questões pt-br"
   ]
  },
  {
   "cell_type": "code",
   "execution_count": 20,
   "id": "italian-islam",
   "metadata": {},
   "outputs": [],
   "source": [
    "questoes_pt = stackoverflow_portugues['Questão']"
   ]
  },
  {
   "cell_type": "markdown",
   "id": "aquatic-citizen",
   "metadata": {},
   "source": [
    "O módulo `re` tem várias funções, uma delas que é bastante utilizada é o `findall()` que busca no texto todos os caracteres que respeitam a expressão regular passada no parâmetro."
   ]
  },
  {
   "cell_type": "code",
   "execution_count": 25,
   "id": "nervous-salem",
   "metadata": {},
   "outputs": [
    {
     "data": {
      "text/plain": [
       "['<p>', '<p>', '<p>', '<p>']"
      ]
     },
     "execution_count": 25,
     "metadata": {},
     "output_type": "execute_result"
    }
   ],
   "source": [
    "re.findall(r'<p>', questoes_pt[0])\n"
   ]
  },
  {
   "cell_type": "markdown",
   "id": "dramatic-sleep",
   "metadata": {},
   "source": [
    "> **obs:** usamos o `r` na frente das aspas simples da string porque quero usar a string pura. Em alguns casos queremos detectar os caracteres \"\\n\" por exemplo, mas ao escrever uma string `\\n` o python irá interpretar como um único caracter que representa a quebra de linha. Para evitar isso, usa-se o `r'\\n'` para indicar que queremos a string pura (raw)"
   ]
  },
  {
   "cell_type": "markdown",
   "id": "alternative-gasoline",
   "metadata": {},
   "source": [
    "Então podemos usar a função `findall()` para localizar todas as tags html na questão. Para isso precisamos achar todos os caracteres que tem `<` e terminam com `>`, mas entre eles podem ter ou não algum texto, para isso usamos `.*?`"
   ]
  },
  {
   "cell_type": "code",
   "execution_count": 31,
   "id": "classical-africa",
   "metadata": {},
   "outputs": [
    {
     "data": {
      "text/plain": [
       "['<p>',\n",
       " '<em>',\n",
       " '<a href=\"http://pt.wikipedia.org/wiki/Fun%C3%A7%C3%A3o_de_embaralhamento_criptogr%C3%A1fico\" rel=\"noreferrer\">',\n",
       " '</a>',\n",
       " '</em>',\n",
       " '</p>',\n",
       " '<p>',\n",
       " '<a href=\"http://pt.wikipedia.org/wiki/Ataque_de_for%C3%A7a_bruta\" rel=\"noreferrer\">',\n",
       " '</a>',\n",
       " '<em>',\n",
       " '<a href=\"http://pt.wikipedia.org/wiki/Keylogger\" rel=\"noreferrer\">',\n",
       " '</a>',\n",
       " '</em>',\n",
       " '<a href=\"http://pt.wikipedia.org/wiki/Criptoan%C3%A1lise_de_mangueira_de_borracha\" rel=\"noreferrer\">',\n",
       " '<em>',\n",
       " '</em>',\n",
       " '</a>',\n",
       " '<em>',\n",
       " '</em>',\n",
       " '</p>',\n",
       " '<p>',\n",
       " '</p>',\n",
       " '<p>',\n",
       " '<em>',\n",
       " '</em>',\n",
       " '</p>']"
      ]
     },
     "execution_count": 31,
     "metadata": {},
     "output_type": "execute_result"
    }
   ],
   "source": [
    "re.findall(r'<.*?>', questoes_pt[0])"
   ]
  },
  {
   "cell_type": "markdown",
   "id": "blank-ontario",
   "metadata": {},
   "source": [
    "Depois de localizar as tags html no texto precisamos achar um jeito de remove-las ou substituir. O módulo `re` tem a função `re.sub()`\n",
    "\n",
    "``re.sub(pattern, repl, string, count=0, flags=0)``\n",
    "\n",
    "Descrição: \n",
    "> Retorna a string obtida substituindo as ocorrências não sobrepostas da extremidade esquerda do padrão pattern na string pela substituição repl. Se o padrão não for encontrado, string será retornado inalterado. repl pode ser uma string ou uma função; se for uma string, qualquer escape de contrabarra será processado. "
   ]
  },
  {
   "cell_type": "code",
   "execution_count": 34,
   "id": "requested-chest",
   "metadata": {},
   "outputs": [
    {
     "name": "stdout",
     "output_type": "stream",
     "text": [
      "   === TESTE SUB ===  Desenvolvi uma página em PHP para uso interno da empresa que trabalho e apenas pouquíssimas pessoas a utilizam. Através dessa página é possível fazer algumas consultas, inserções, alterações e remoções de dados de uma tabela em um banco de dados MySQL, porém eu acredito que meu código em PHP não está protegido contra injeção de código SQL, por exemplo:   === TESTE SUB ===  \n",
      "\n",
      "   === TESTE SUB ===     === TESTE SUB ===  //----CONSULTA SQL----//\n",
      "$busca = mysql_query ('insert into Produtos (coluna) values(' . $valor . ')');\n",
      "   === TESTE SUB ===     === TESTE SUB ===  \n",
      "\n",
      "   === TESTE SUB ===  Logo, digamos que o usuário usar a sentença:    === TESTE SUB ===  1); DROP TABLE Produtos;   === TESTE SUB ===   para ao campo    === TESTE SUB ===  valor   === TESTE SUB ===   o comando ficaria:    === TESTE SUB ===  \n",
      "\n",
      "   === TESTE SUB ===     === TESTE SUB ===  insert into Produtos (coluna) values(1); DROP TABLE Produtos;\n",
      "   === TESTE SUB ===     === TESTE SUB ===  \n",
      "\n",
      "   === TESTE SUB ===  Ele vai inserir um novo registro cujo o campo    === TESTE SUB ===  coluna   === TESTE SUB ===   será    === TESTE SUB ===  1   === TESTE SUB ===   e logo em seguida ele vai deletar a tabela Produtos.   === TESTE SUB ===  \n",
      "\n",
      "   === TESTE SUB ===  Como posso melhorar meu código para prevenir essa situação?   === TESTE SUB ===  \n",
      "\n"
     ]
    }
   ],
   "source": [
    "print(re.sub(r'<.*?>', '   === TESTE SUB ===  ', questoes_pt[5]))"
   ]
  },
  {
   "cell_type": "markdown",
   "id": "sacred-radius",
   "metadata": {},
   "source": [
    "Note que onde esta o `== TESTE SUB ===` era onde estavam as tags html e a função substituiu. Isto é, para a função ``re.sub(pattern, repl, string, count=0, flags=0)`` passamos o `pattern` que é o padrão regex, o `repl` que é o que será substituido (replace) e a string onde será substituitdo. Então para remover as tags basta colocar um espaço vazio, verifique:"
   ]
  },
  {
   "cell_type": "code",
   "execution_count": 35,
   "id": "resident-purple",
   "metadata": {},
   "outputs": [
    {
     "name": "stdout",
     "output_type": "stream",
     "text": [
      "Desenvolvi uma página em PHP para uso interno da empresa que trabalho e apenas pouquíssimas pessoas a utilizam. Através dessa página é possível fazer algumas consultas, inserções, alterações e remoções de dados de uma tabela em um banco de dados MySQL, porém eu acredito que meu código em PHP não está protegido contra injeção de código SQL, por exemplo:\n",
      "\n",
      "//----CONSULTA SQL----//\n",
      "$busca = mysql_query ('insert into Produtos (coluna) values(' . $valor . ')');\n",
      "\n",
      "\n",
      "Logo, digamos que o usuário usar a sentença: 1); DROP TABLE Produtos; para ao campo valor o comando ficaria: \n",
      "\n",
      "insert into Produtos (coluna) values(1); DROP TABLE Produtos;\n",
      "\n",
      "\n",
      "Ele vai inserir um novo registro cujo o campo coluna será 1 e logo em seguida ele vai deletar a tabela Produtos.\n",
      "\n",
      "Como posso melhorar meu código para prevenir essa situação?\n",
      "\n"
     ]
    }
   ],
   "source": [
    "print(re.sub(r'<.*?>', '', questoes_pt[5]))"
   ]
  },
  {
   "cell_type": "markdown",
   "id": "becoming-revision",
   "metadata": {},
   "source": [
    "### Desempenho\n",
    "\n",
    "Existem duas formas de construir uma expressão regular com o `re`. Atraves da passagem da expressão regular, igual fizemos antes:\n",
    "\n",
    "```python\n",
    "re.findall(r'{minha_expressao_regular}', string_a_ser_filtrada)\n",
    "```\n",
    "\n",
    "mas também podemos criar um objeto, que compila a regex e ai só passamos a variável que queremos filtrar. Por exemplo: \n",
    "\n",
    "```python\n",
    "regex = re.compile(r'{minha_expressao_regular}')\n",
    "regex.findall(string_a_ser_filtrada)\n",
    "```\n",
    "\n",
    "Entretanto, qual a diferença entre essas duas formas? Para comparar vamos usar um outro módulo chamado `timeit` nativo do python para calcular o desempenho de uma execução:\n"
   ]
  },
  {
   "cell_type": "code",
   "execution_count": 37,
   "id": "informal-batch",
   "metadata": {},
   "outputs": [],
   "source": [
    "from timeit import timeit"
   ]
  },
  {
   "cell_type": "markdown",
   "id": "plastic-console",
   "metadata": {},
   "source": [
    "vamos criar a expressão regular `r'70'` que procura o número setenta em `12345712365123954623469843062370`, ai basicamente passamos um código a ser executado dentro de uma docstring `(\"\"\"codigo\"\"\")`"
   ]
  },
  {
   "cell_type": "code",
   "execution_count": 38,
   "id": "excited-speech",
   "metadata": {},
   "outputs": [
    {
     "data": {
      "text/plain": [
       "0.9344663369993214"
      ]
     },
     "execution_count": 38,
     "metadata": {},
     "output_type": "execute_result"
    }
   ],
   "source": [
    "setup = \"\"\"import re\"\"\"\n",
    "timeit(\"\"\"re.search(r'70', '12345712365123954623469843062370')\"\"\", setup)"
   ]
  },
  {
   "cell_type": "markdown",
   "id": "lovely-gazette",
   "metadata": {},
   "source": [
    "o tempo de execução do código `re.search(r'70', '12345712365123954623469843062370')` foi de 0.94 segundos. Obviamente não é uma única execução, o módulo timeit executa função 1 milhão de vezes.\n",
    " \n",
    "Agora vamos fazer algo parecido, mas criando um objeto do tipo regex."
   ]
  },
  {
   "cell_type": "code",
   "execution_count": 39,
   "id": "received-joseph",
   "metadata": {},
   "outputs": [
    {
     "data": {
      "text/plain": [
       "0.22177490399917588"
      ]
     },
     "execution_count": 39,
     "metadata": {},
     "output_type": "execute_result"
    }
   ],
   "source": [
    "setup = \"\"\"import re\n",
    "regex = re.compile(r'70')\"\"\"\n",
    "\n",
    "timeit(\"\"\"regex.search('12345712365123954623469843062370')\"\"\", setup)"
   ]
  },
  {
   "cell_type": "markdown",
   "id": "settled-cutting",
   "metadata": {},
   "source": [
    "Note que o tempo foi 4x menor para 1 milhão de execuções. Outra forma de analisar isso é usando o `%%time` do próprio notebook para mensurar o tempo de execução de uma célula:"
   ]
  },
  {
   "cell_type": "code",
   "execution_count": 44,
   "id": "facial-adult",
   "metadata": {},
   "outputs": [
    {
     "name": "stdout",
     "output_type": "stream",
     "text": [
      "CPU times: user 1.04 s, sys: 0 ns, total: 1.04 s\n",
      "Wall time: 1.04 s\n"
     ]
    }
   ],
   "source": [
    "%%time\n",
    "for i in range(10**6):\n",
    "    re.search(r'70', '12345712365123954623469843062370')"
   ]
  },
  {
   "cell_type": "code",
   "execution_count": 45,
   "id": "constant-straight",
   "metadata": {},
   "outputs": [],
   "source": [
    "regex = re.compile(r'70')"
   ]
  },
  {
   "cell_type": "code",
   "execution_count": 46,
   "id": "southern-costs",
   "metadata": {},
   "outputs": [
    {
     "name": "stdout",
     "output_type": "stream",
     "text": [
      "CPU times: user 254 ms, sys: 0 ns, total: 254 ms\n",
      "Wall time: 252 ms\n"
     ]
    }
   ],
   "source": [
    "%%time\n",
    "for i in range(10**6):\n",
    "    regex.search('12345712365123954623469843062370')"
   ]
  },
  {
   "cell_type": "code",
   "execution_count": 47,
   "id": "acknowledged-allen",
   "metadata": {},
   "outputs": [
    {
     "data": {
      "text/plain": [
       "4.126984126984127"
      ]
     },
     "execution_count": 47,
     "metadata": {},
     "output_type": "execute_result"
    }
   ],
   "source": [
    "1.04 / (252*10**(-3))"
   ]
  },
  {
   "cell_type": "markdown",
   "id": "sustainable-bikini",
   "metadata": {},
   "source": [
    "novamente o resultado é na mesma ordem de grandeza.\n",
    "\n",
    "Concluimos então que criar uma expressão regular (regex) usando o `compile()` tem um desempenho muito maior, por isso é extremamente recomendado criar um objeto em vez de passar a expressão regular como parâmetro de um método do módulo `re`."
   ]
  },
  {
   "cell_type": "code",
   "execution_count": null,
   "id": "hollow-apparatus",
   "metadata": {},
   "outputs": [],
   "source": []
  }
 ],
 "metadata": {
  "kernelspec": {
   "display_name": "Python 3",
   "language": "python",
   "name": "python3"
  },
  "language_info": {
   "codemirror_mode": {
    "name": "ipython",
    "version": 3
   },
   "file_extension": ".py",
   "mimetype": "text/x-python",
   "name": "python",
   "nbconvert_exporter": "python",
   "pygments_lexer": "ipython3",
   "version": "3.7.6"
  }
 },
 "nbformat": 4,
 "nbformat_minor": 5
}
