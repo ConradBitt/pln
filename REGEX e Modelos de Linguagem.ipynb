{
 "cells": [
  {
   "cell_type": "markdown",
   "id": "assumed-penny",
   "metadata": {
    "id": "assumed-penny"
   },
   "source": [
    "# Introdução\n",
    "\n",
    "O objetivo deste notebook é estudar alguns modelos de linguagem e como usar expressões regulares no NLP. A base de dados que vou utilizar é a do [stackoverflow](https://stackoverflow.com/) com textos em português, inglês e espanhol."
   ]
  },
  {
   "cell_type": "markdown",
   "id": "living-edition",
   "metadata": {
    "id": "living-edition"
   },
   "source": [
    "## Importações"
   ]
  },
  {
   "cell_type": "code",
   "execution_count": 1,
   "id": "greenhouse-singing",
   "metadata": {
    "id": "greenhouse-singing"
   },
   "outputs": [],
   "source": [
    "import pandas as pd\n",
    "import numpy as np\n",
    "\n",
    "import seaborn as sns\n",
    "from matplotlib import pyplot as plt\n"
   ]
  },
  {
   "cell_type": "markdown",
   "id": "ignored-niger",
   "metadata": {},
   "source": [
    "```python\n",
    ">>> np.random.randint(0, 2**32)\n",
    "4078293638\n",
    "```"
   ]
  },
  {
   "cell_type": "code",
   "execution_count": 2,
   "id": "israeli-bristol",
   "metadata": {},
   "outputs": [],
   "source": [
    "seed = 4078293638"
   ]
  },
  {
   "cell_type": "code",
   "execution_count": 3,
   "id": "IcTqaxiP4ftr",
   "metadata": {
    "id": "IcTqaxiP4ftr"
   },
   "outputs": [],
   "source": [
    "url_stackoverflow_pt = 'https://raw.githubusercontent.com/ConradBitt/processamento_linguagem_natural/master/dados/stackoverflow_portugues.csv'\n",
    "url_stackoverflow_en = 'https://raw.githubusercontent.com/ConradBitt/processamento_linguagem_natural/master/dados/stackoverflow_ingles.csv'\n",
    "url_stackoverflow_es = 'https://raw.githubusercontent.com/ConradBitt/processamento_linguagem_natural/master/dados/stackoverflow_espanhol.csv'"
   ]
  },
  {
   "cell_type": "code",
   "execution_count": 4,
   "id": "educated-palmer",
   "metadata": {
    "id": "educated-palmer"
   },
   "outputs": [],
   "source": [
    "stackoverflow_portugues = pd.read_csv(url_stackoverflow_pt)\n",
    "stackoverflow_ingles = pd.read_csv(url_stackoverflow_en)\n",
    "stackoverflow_espanhol = pd.read_csv(url_stackoverflow_es)"
   ]
  },
  {
   "cell_type": "code",
   "execution_count": 5,
   "id": "interior-daughter",
   "metadata": {
    "colab": {
     "base_uri": "https://localhost:8080/",
     "height": 432
    },
    "id": "interior-daughter",
    "outputId": "92b465f1-21cc-497b-e7fd-8e4ab72197d2"
   },
   "outputs": [
    {
     "data": {
      "text/html": [
       "<div>\n",
       "<style scoped>\n",
       "    .dataframe tbody tr th:only-of-type {\n",
       "        vertical-align: middle;\n",
       "    }\n",
       "\n",
       "    .dataframe tbody tr th {\n",
       "        vertical-align: top;\n",
       "    }\n",
       "\n",
       "    .dataframe thead th {\n",
       "        text-align: right;\n",
       "    }\n",
       "</style>\n",
       "<table border=\"1\" class=\"dataframe\">\n",
       "  <thead>\n",
       "    <tr style=\"text-align: right;\">\n",
       "      <th></th>\n",
       "      <th>Id</th>\n",
       "      <th>Título</th>\n",
       "      <th>Questão</th>\n",
       "      <th>Tags</th>\n",
       "      <th>Pontuação</th>\n",
       "      <th>Visualizações</th>\n",
       "    </tr>\n",
       "  </thead>\n",
       "  <tbody>\n",
       "    <tr>\n",
       "      <th>0</th>\n",
       "      <td>2402</td>\n",
       "      <td>Como fazer hash de senhas de forma segura?</td>\n",
       "      <td>&lt;p&gt;Se eu fizer o &lt;em&gt;&lt;a href=\"http://pt.wikipe...</td>\n",
       "      <td>&lt;hash&gt;&lt;segurança&gt;&lt;senhas&gt;&lt;criptografia&gt;</td>\n",
       "      <td>350</td>\n",
       "      <td>22367</td>\n",
       "    </tr>\n",
       "    <tr>\n",
       "      <th>1</th>\n",
       "      <td>6441</td>\n",
       "      <td>Qual é a diferença entre INNER JOIN e OUTER JOIN?</td>\n",
       "      <td>&lt;p&gt;Qual é a diferença entre &lt;code&gt;INNER JOIN&lt;/...</td>\n",
       "      <td>&lt;sql&gt;&lt;join&gt;</td>\n",
       "      <td>276</td>\n",
       "      <td>176953</td>\n",
       "    </tr>\n",
       "    <tr>\n",
       "      <th>2</th>\n",
       "      <td>579</td>\n",
       "      <td>Por que não devemos usar funções do tipo mysql_*?</td>\n",
       "      <td>&lt;p&gt;Uma dúvida muito comum é por que devemos pa...</td>\n",
       "      <td>&lt;php&gt;&lt;mysql&gt;</td>\n",
       "      <td>226</td>\n",
       "      <td>9761</td>\n",
       "    </tr>\n",
       "    <tr>\n",
       "      <th>3</th>\n",
       "      <td>2539</td>\n",
       "      <td>As mensagens de erro devem se desculpar?</td>\n",
       "      <td>&lt;p&gt;É comum encontrar uma mensagem de erro que ...</td>\n",
       "      <td>&lt;aplicação-web&gt;&lt;gui&gt;&lt;console&gt;&lt;ux&gt;</td>\n",
       "      <td>214</td>\n",
       "      <td>5075</td>\n",
       "    </tr>\n",
       "    <tr>\n",
       "      <th>4</th>\n",
       "      <td>17501</td>\n",
       "      <td>Qual é a diferença de API, biblioteca e Framew...</td>\n",
       "      <td>&lt;p&gt;Me parecem termos muito próximos e eventual...</td>\n",
       "      <td>&lt;api&gt;&lt;framework&gt;&lt;terminologia&gt;&lt;biblioteca&gt;</td>\n",
       "      <td>193</td>\n",
       "      <td>54191</td>\n",
       "    </tr>\n",
       "  </tbody>\n",
       "</table>\n",
       "</div>"
      ],
      "text/plain": [
       "      Id                                             Título  \\\n",
       "0   2402         Como fazer hash de senhas de forma segura?   \n",
       "1   6441  Qual é a diferença entre INNER JOIN e OUTER JOIN?   \n",
       "2    579  Por que não devemos usar funções do tipo mysql_*?   \n",
       "3   2539           As mensagens de erro devem se desculpar?   \n",
       "4  17501  Qual é a diferença de API, biblioteca e Framew...   \n",
       "\n",
       "                                             Questão  \\\n",
       "0  <p>Se eu fizer o <em><a href=\"http://pt.wikipe...   \n",
       "1  <p>Qual é a diferença entre <code>INNER JOIN</...   \n",
       "2  <p>Uma dúvida muito comum é por que devemos pa...   \n",
       "3  <p>É comum encontrar uma mensagem de erro que ...   \n",
       "4  <p>Me parecem termos muito próximos e eventual...   \n",
       "\n",
       "                                         Tags  Pontuação  Visualizações  \n",
       "0     <hash><segurança><senhas><criptografia>        350          22367  \n",
       "1                                 <sql><join>        276         176953  \n",
       "2                                <php><mysql>        226           9761  \n",
       "3           <aplicação-web><gui><console><ux>        214           5075  \n",
       "4  <api><framework><terminologia><biblioteca>        193          54191  "
      ]
     },
     "execution_count": 5,
     "metadata": {},
     "output_type": "execute_result"
    }
   ],
   "source": [
    "stackoverflow_portugues.head()"
   ]
  },
  {
   "cell_type": "markdown",
   "id": "revised-student",
   "metadata": {
    "id": "revised-student"
   },
   "source": [
    "Acima temos os 5 primeiros registros da base de dados do stackoverflow. São as perguntas com maiores pontuações e mais visualizações. As variáveis são:\n",
    "\n",
    "* Id: Identificador da questão.\n",
    "* Título: Titulo da questão\n",
    "* Questão: A pergunta efetivamente\n",
    "* Tags: As tags relacionadas à quetão\n",
    "* Pontuação: Pontuação da questão\n",
    "* Visualizações: nº de visualizações"
   ]
  },
  {
   "cell_type": "markdown",
   "id": "mediterranean-birthday",
   "metadata": {
    "id": "mediterranean-birthday"
   },
   "source": [
    "#### Exemplo de questão\n",
    "\n",
    "Vamos verificar qual conteúdo é armazenado na variável `Questão`"
   ]
  },
  {
   "cell_type": "code",
   "execution_count": 6,
   "id": "sporting-stuart",
   "metadata": {
    "colab": {
     "base_uri": "https://localhost:8080/"
    },
    "id": "sporting-stuart",
    "outputId": "f738fd9b-38f6-4763-d5b4-3e976b4019ec"
   },
   "outputs": [
    {
     "name": "stdout",
     "output_type": "stream",
     "text": [
      "<p>Desenvolvi uma página em PHP para uso interno da empresa que trabalho e apenas pouquíssimas pessoas a utilizam. Através dessa página é possível fazer algumas consultas, inserções, alterações e remoções de dados de uma tabela em um banco de dados MySQL, porém eu acredito que meu código em PHP não está protegido contra injeção de código SQL, por exemplo:</p>\n",
      "\n",
      "<pre><code>//----CONSULTA SQL----//\n",
      "$busca = mysql_query ('insert into Produtos (coluna) values(' . $valor . ')');\n",
      "</code></pre>\n",
      "\n",
      "<p>Logo, digamos que o usuário usar a sentença: <code>1); DROP TABLE Produtos;</code> para ao campo <code>valor</code> o comando ficaria: </p>\n",
      "\n",
      "<pre><code>insert into Produtos (coluna) values(1); DROP TABLE Produtos;\n",
      "</code></pre>\n",
      "\n",
      "<p>Ele vai inserir um novo registro cujo o campo <code>coluna</code> será <code>1</code> e logo em seguida ele vai deletar a tabela Produtos.</p>\n",
      "\n",
      "<p>Como posso melhorar meu código para prevenir essa situação?</p>\n",
      "\n"
     ]
    }
   ],
   "source": [
    "print(stackoverflow_portugues['Questão'][5])"
   ]
  },
  {
   "cell_type": "markdown",
   "id": "particular-dublin",
   "metadata": {
    "id": "particular-dublin"
   },
   "source": [
    "Esse é um exemplo de dados em português que será usado para treinar um modelo de identificação de idiomas. Um ponto importante é que não se tem só texto, também tem tags html então é preciso retirar estas tags. Outra estrutura de texto que tem no dado são códigos por exemplo: \n",
    "\n",
    "```sql\n",
    "$busca = mysql_query ('insert into Produtos (coluna) values(' . $valor . ')');\n",
    "```\n",
    "\n",
    "é preciso retirar também esse tipo de estrutura do dado, isto porque a maioria das linguagens de programação e marcação é em inglês e isso pode gerar um viés do modelo classificar todos os textos com trechos em códigos como um idioma inglês.\n",
    "\n",
    "Além disso a pontuação também precisa ser removida. Tomando a oração como exemplo: \n",
    "\n",
    "> Através dessa página é possível fazer algumas consultas, inserções, alterações e remoções de dados de uma tabela em um banco de dados MySQL.\n",
    "\n",
    "se queremos identificar o idioma em português não faz sentido deixar virgulas e pontos finais."
   ]
  },
  {
   "cell_type": "markdown",
   "id": "restricted-audit",
   "metadata": {
    "id": "restricted-audit"
   },
   "source": [
    "# REGEX\n",
    "\n",
    "Como precisamos fazer várias filtragens em dados textuais, uma forma bem usual de fazer este ofício é através das expressões regulares, ou REGEX. REGEX é similar á uma linguagem de marcação (mas não é) dentro de uma própria linguagem, tipo Java, C ou python, que permite identificar padrões em estruturas de caracters.\n",
    "\n",
    "Por exemplo, imagine que temos a tarefa de identificar um provedor de email e temos uma lista de emaisl:\n",
    "```\n",
    "joao_miguel@gmail.com\n",
    "maria_eduarda@hotmail.com.br\n",
    "alice_124@bol.com\n",
    "```\n",
    "como fazer isso? Bom, é facil ver que o provedor de email tem um padrão no email em si. Geralmente o provedor precede o ($@$) e antecede o ($\\cdot$), ou seja, dado este padrão que identificamos podemos filtrar usando expressão regular. Um excelente site para o estudo de expressões regulares é o https://regex101.com/\n",
    "\n",
    "Para fazer esta filtragem utilizamos os chamados [*Meta Caracteres*](https://tdn.engpro.totvs.com.br/display/tec/RegEx+-+Metacaracteres), que são marcações utilizadas para seleção de certas estruturas num texto. Por exemplo, para captar todos os provedores de email podemos usar a seguinte expressão regular:\n",
    "\n",
    "\n",
    "> `@[a-z]+\\.` se lê como: @[todos alpha] com mais de 1 caracter até o \\. \n",
    "\n",
    "se desejar-mos limitar o provedores com no máximo 5 caracteres substituimos o ($+$) por $\\{5\\}$\n",
    "\n",
    "> `@[a-z]{1,5}\\.` se lê como: @[todos alpha] com no minimo 1 até 5 caracter até o \\. \n",
    "\n",
    "Outro meta caracter muito importante é o circunflexo `(^)`, ele é uma forma de obrigar uma estrutura de caracters a iniciar com uma letra, por exemplo, numa regex da forma `^j.*` aplicada a nossa lista de emails, vai tornar apenas `joao_miguel@gmail.com` porque é o único que começa com a letra *j*.\n",
    "\n",
    "É possível criar grupos de seleção, por exemplo, na expressão regular `^(j|a).*` aplicada a nossa lista de email, vai retornar `joao_miguel@gmail.com` e `alice_124@bol.com`, porque são os dois emails que começam com *j* ou *a*\n",
    "\n",
    "Da mesma forma que o `(^)` para as estruturas que começam obrigatoriamente com os caracteres, temos uma forma de fazer com que a string termine obrigatoriamente com um caracter, para isso usa-se o cifrão, por exemplo, aplicando a expressão `.*br$` o resultado é ``maria_eduarda@hotmail.com.br``, porque é o unico endereço que termina com br.\n"
   ]
  },
  {
   "cell_type": "markdown",
   "id": "rotary-price",
   "metadata": {
    "id": "rotary-price"
   },
   "source": [
    "#### Exemplo\n",
    "Dado os CEP e suas possíveis estruturas, qual é a REGEX que podemos utilizar?\n",
    "\n",
    "```\n",
    "04567003\n",
    "04567-003\n",
    "04.567-003\n",
    "04.567.003\n",
    "04 567 003\n",
    "04567 003\n",
    "04567.003\n",
    "```\n",
    "\n",
    "bom, os primeiros dois caracteres são sempre os mesmos então podemos utilizar `^{2}`. Depois disso pode ter, ou não, espaço ou ponto, então usamos `[. ]?`, note que tem um espaço dentro do colchete, para ser mais descritivo pode-se usar também o `[.\\s]?`. Em seguida temos novamente mais três algarismos, portanto usamos um `\\d{3}`. Depois disso pode vir ou não, espaço, hífen ou ponto, logo a expressão regular é `[-. ]` ou `[-.\\s]`. Por fim, tem mais três algarismos então a REGEX é `\\d{3}`.\n",
    "\n",
    "Juntando tudo a expressão regular que engloba todos os exemplos é: `^{3}[.\\s]?\\d{3}[-.\\s]\\d{3}`"
   ]
  },
  {
   "cell_type": "markdown",
   "id": "empirical-water",
   "metadata": {
    "id": "empirical-water"
   },
   "source": [
    "# Questões em outras linguas\n",
    "\n",
    "Vamos analisar as questões nos idiomas inglês e espanhol "
   ]
  },
  {
   "cell_type": "markdown",
   "id": "genuine-building",
   "metadata": {
    "id": "genuine-building"
   },
   "source": [
    "## Espanhol"
   ]
  },
  {
   "cell_type": "code",
   "execution_count": 7,
   "id": "dependent-rebate",
   "metadata": {
    "colab": {
     "base_uri": "https://localhost:8080/"
    },
    "id": "dependent-rebate",
    "outputId": "1afca86f-196c-4217-c8cb-ad8ca35e8c2c"
   },
   "outputs": [
    {
     "name": "stdout",
     "output_type": "stream",
     "text": [
      "<p>Siempre he visto que en <code>JavaScript</code> hay:</p>\n",
      "\n",
      "<ul>\n",
      "<li>asignaciones <code>=</code></li>\n",
      "<li>comparaciones <code>==</code> y <code>===</code></li>\n",
      "</ul>\n",
      "\n",
      "<p>Creo entender que <code>==</code> hace algo parecido a comparar el valor de la variable y el <code>===</code> también compara el tipo (como un equals de java). </p>\n",
      "\n",
      "<p><strong>¿Alguien podría confirmarme este punto y extenderlo?</strong>. Soy javero y el no tipado de javascript a veces me encanta y otras lo odio.</p>\n",
      "\n",
      "<hr>\n",
      "\n",
      "<p>¿Cuál es la manera correcta en javascript de comparar <code>undefined</code>, <code>null</code> y otros valores por defecto? </p>\n",
      "\n",
      "<pre><code>variable == null\n",
      "variable === null\n",
      "</code></pre>\n",
      "\n",
      "<p>¿<strong><code>undefined</code></strong> se usa como cadena de texto o como palabra clave? ¿Cual de las siguientes comparaciones es la correcta para un elemento <code>html</code> sin <code>value</code>? (por ejemplo un label sin contenido)</p>\n",
      "\n",
      "<pre><code>variable == \"undefined\"\n",
      "variable === \"undefined\"\n",
      "variable == undefined\n",
      "variable === undefined\n",
      "</code></pre>\n",
      "\n"
     ]
    }
   ],
   "source": [
    "print(stackoverflow_espanhol['Questão'][5])"
   ]
  },
  {
   "cell_type": "markdown",
   "id": "constant-chorus",
   "metadata": {
    "id": "constant-chorus"
   },
   "source": [
    "## Inglês\n"
   ]
  },
  {
   "cell_type": "code",
   "execution_count": 8,
   "id": "duplicate-disaster",
   "metadata": {
    "colab": {
     "base_uri": "https://localhost:8080/"
    },
    "id": "duplicate-disaster",
    "outputId": "bba85866-f241-4453-ff9b-e77901b9c86e"
   },
   "outputs": [
    {
     "name": "stdout",
     "output_type": "stream",
     "text": [
      "<p>What is the use of the <code>yield</code> keyword in Python? What does it do?</p>\n",
      "\n",
      "<p>For example, I'm trying to understand this code<sup><strong>1</strong></sup>:</p>\n",
      "\n",
      "<pre><code>def _get_child_candidates(self, distance, min_dist, max_dist):\n",
      "    if self._leftchild and distance - max_dist &lt; self._median:\n",
      "        yield self._leftchild\n",
      "    if self._rightchild and distance + max_dist &gt;= self._median:\n",
      "        yield self._rightchild  \n",
      "</code></pre>\n",
      "\n",
      "<p>And this is the caller:</p>\n",
      "\n",
      "<pre><code>result, candidates = [], [self]\n",
      "while candidates:\n",
      "    node = candidates.pop()\n",
      "    distance = node._get_dist(obj)\n",
      "    if distance &lt;= max_dist and distance &gt;= min_dist:\n",
      "        result.extend(node._values)\n",
      "    candidates.extend(node._get_child_candidates(distance, min_dist, max_dist))\n",
      "return result\n",
      "</code></pre>\n",
      "\n",
      "<p>What happens when the method <code>_get_child_candidates</code> is called?\n",
      "Is a list returned? A single element? Is it called again? When will subsequent calls stop?</p>\n",
      "\n",
      "<hr>\n",
      "\n",
      "<p><sub>\n",
      "1. This piece of code was written by Jochen Schulz (jrschulz), who made a great Python library for metric spaces. This is the link to the complete source: <a href=\"http://well-adjusted.de/~jrschulz/mspace/\" rel=\"noreferrer\">Module mspace</a>.</sub></p>\n",
      "\n"
     ]
    }
   ],
   "source": [
    "print(stackoverflow_ingles['Questão'][5])"
   ]
  },
  {
   "cell_type": "markdown",
   "id": "controversial-status",
   "metadata": {
    "id": "controversial-status"
   },
   "source": [
    "# Usando REGEX Python\n",
    "\n",
    "O python tem um módulo nativo para manipular expressões regulares, se chamada `re`"
   ]
  },
  {
   "cell_type": "code",
   "execution_count": 9,
   "id": "occasional-discipline",
   "metadata": {
    "id": "occasional-discipline"
   },
   "outputs": [],
   "source": [
    "import re"
   ]
  },
  {
   "cell_type": "markdown",
   "id": "brief-fellowship",
   "metadata": {
    "id": "brief-fellowship"
   },
   "source": [
    "A documentação deste módulo é extremamente detalhada\n",
    "\n",
    "> https://docs.python.org/pt-br/3/library/re.html\n",
    "\n",
    "Além disso tem um artigo na própria documentação chamado [\"HOW TO REGULAR EXPRESSIONS\"](https://docs.python.org/pt-br/3/howto/regex.html#regex-howto) que da vários exemplos e casos onde REGEX são usados."
   ]
  },
  {
   "cell_type": "markdown",
   "id": "intermediate-bradford",
   "metadata": {
    "id": "intermediate-bradford"
   },
   "source": [
    "## Aplicando em questões pt-br"
   ]
  },
  {
   "cell_type": "code",
   "execution_count": 10,
   "id": "manufactured-bibliography",
   "metadata": {
    "id": "manufactured-bibliography"
   },
   "outputs": [],
   "source": [
    "questoes_pt = stackoverflow_portugues['Questão']\n",
    "questoes_en = stackoverflow_ingles['Questão']\n",
    "questoes_es = stackoverflow_espanhol['Questão']"
   ]
  },
  {
   "cell_type": "markdown",
   "id": "sufficient-coach",
   "metadata": {
    "id": "sufficient-coach"
   },
   "source": [
    "O módulo `re` tem várias funções, uma delas que é bastante utilizada é o `findall()` que busca no texto todos os caracteres que respeitam a expressão regular passada no parâmetro."
   ]
  },
  {
   "cell_type": "code",
   "execution_count": 11,
   "id": "internal-attention",
   "metadata": {
    "colab": {
     "base_uri": "https://localhost:8080/"
    },
    "id": "internal-attention",
    "outputId": "9d634c61-0f83-4953-c8af-c9ebd52e371b"
   },
   "outputs": [
    {
     "data": {
      "text/plain": [
       "['<p>', '<p>', '<p>', '<p>']"
      ]
     },
     "execution_count": 11,
     "metadata": {},
     "output_type": "execute_result"
    }
   ],
   "source": [
    "re.findall(r'<p>', questoes_pt[0])\n"
   ]
  },
  {
   "cell_type": "markdown",
   "id": "mathematical-pittsburgh",
   "metadata": {
    "id": "mathematical-pittsburgh"
   },
   "source": [
    "> **obs:** usamos o `r` na frente das aspas simples da string porque quero usar a string pura. Em alguns casos queremos detectar os caracteres \"\\n\" por exemplo, mas ao escrever uma string `\\n` o python irá interpretar como um único caracter que representa a quebra de linha. Para evitar isso, usa-se o `r'\\n'` para indicar que queremos a string pura (raw)"
   ]
  },
  {
   "cell_type": "markdown",
   "id": "suburban-pitch",
   "metadata": {
    "id": "suburban-pitch"
   },
   "source": [
    "Então podemos usar a função `findall()` para localizar todas as tags html na questão. Para isso precisamos achar todos os caracteres que tem `<` e terminam com `>`, mas entre eles podem ter ou não algum texto, para isso usamos `.*?`"
   ]
  },
  {
   "cell_type": "code",
   "execution_count": 12,
   "id": "becoming-abraham",
   "metadata": {
    "colab": {
     "base_uri": "https://localhost:8080/"
    },
    "id": "becoming-abraham",
    "outputId": "fbf99460-457d-4cc3-a00c-ee94b6fc1e50"
   },
   "outputs": [
    {
     "data": {
      "text/plain": [
       "['<p>',\n",
       " '<em>',\n",
       " '<a href=\"http://pt.wikipedia.org/wiki/Fun%C3%A7%C3%A3o_de_embaralhamento_criptogr%C3%A1fico\" rel=\"noreferrer\">',\n",
       " '</a>',\n",
       " '</em>',\n",
       " '</p>',\n",
       " '<p>',\n",
       " '<a href=\"http://pt.wikipedia.org/wiki/Ataque_de_for%C3%A7a_bruta\" rel=\"noreferrer\">',\n",
       " '</a>',\n",
       " '<em>',\n",
       " '<a href=\"http://pt.wikipedia.org/wiki/Keylogger\" rel=\"noreferrer\">',\n",
       " '</a>',\n",
       " '</em>',\n",
       " '<a href=\"http://pt.wikipedia.org/wiki/Criptoan%C3%A1lise_de_mangueira_de_borracha\" rel=\"noreferrer\">',\n",
       " '<em>',\n",
       " '</em>',\n",
       " '</a>',\n",
       " '<em>',\n",
       " '</em>',\n",
       " '</p>',\n",
       " '<p>',\n",
       " '</p>',\n",
       " '<p>',\n",
       " '<em>',\n",
       " '</em>',\n",
       " '</p>']"
      ]
     },
     "execution_count": 12,
     "metadata": {},
     "output_type": "execute_result"
    }
   ],
   "source": [
    "re.findall(r'<.*?>', questoes_pt[0])"
   ]
  },
  {
   "cell_type": "markdown",
   "id": "informational-criterion",
   "metadata": {
    "id": "informational-criterion"
   },
   "source": [
    "Depois de localizar as tags html no texto precisamos achar um jeito de remove-las ou substituir. O módulo `re` tem a função `re.sub()`\n",
    "\n",
    "``re.sub(pattern, repl, string, count=0, flags=0)``\n",
    "\n",
    "Descrição: \n",
    "> Retorna a string obtida substituindo as ocorrências não sobrepostas da extremidade esquerda do padrão pattern na string pela substituição repl. Se o padrão não for encontrado, string será retornado inalterado. repl pode ser uma string ou uma função; se for uma string, qualquer escape de contrabarra será processado. "
   ]
  },
  {
   "cell_type": "code",
   "execution_count": 13,
   "id": "peaceful-liberia",
   "metadata": {
    "colab": {
     "base_uri": "https://localhost:8080/"
    },
    "id": "peaceful-liberia",
    "outputId": "b625e9c9-3b83-48a0-b432-e3ac92ca4683"
   },
   "outputs": [
    {
     "name": "stdout",
     "output_type": "stream",
     "text": [
      "   === TESTE SUB ===  Desenvolvi uma página em PHP para uso interno da empresa que trabalho e apenas pouquíssimas pessoas a utilizam. Através dessa página é possível fazer algumas consultas, inserções, alterações e remoções de dados de uma tabela em um banco de dados MySQL, porém eu acredito que meu código em PHP não está protegido contra injeção de código SQL, por exemplo:   === TESTE SUB ===  \n",
      "\n",
      "   === TESTE SUB ===     === TESTE SUB ===  //----CONSULTA SQL----//\n",
      "$busca = mysql_query ('insert into Produtos (coluna) values(' . $valor . ')');\n",
      "   === TESTE SUB ===     === TESTE SUB ===  \n",
      "\n",
      "   === TESTE SUB ===  Logo, digamos que o usuário usar a sentença:    === TESTE SUB ===  1); DROP TABLE Produtos;   === TESTE SUB ===   para ao campo    === TESTE SUB ===  valor   === TESTE SUB ===   o comando ficaria:    === TESTE SUB ===  \n",
      "\n",
      "   === TESTE SUB ===     === TESTE SUB ===  insert into Produtos (coluna) values(1); DROP TABLE Produtos;\n",
      "   === TESTE SUB ===     === TESTE SUB ===  \n",
      "\n",
      "   === TESTE SUB ===  Ele vai inserir um novo registro cujo o campo    === TESTE SUB ===  coluna   === TESTE SUB ===   será    === TESTE SUB ===  1   === TESTE SUB ===   e logo em seguida ele vai deletar a tabela Produtos.   === TESTE SUB ===  \n",
      "\n",
      "   === TESTE SUB ===  Como posso melhorar meu código para prevenir essa situação?   === TESTE SUB ===  \n",
      "\n"
     ]
    }
   ],
   "source": [
    "print(re.sub(r'<.*?>', '   === TESTE SUB ===  ', questoes_pt[5]))"
   ]
  },
  {
   "cell_type": "markdown",
   "id": "silent-garage",
   "metadata": {
    "id": "silent-garage"
   },
   "source": [
    "Note que onde esta o `== TESTE SUB ===` era onde estavam as tags html e a função substituiu. Isto é, para a função ``re.sub(pattern, repl, string, count=0, flags=0)`` passamos o `pattern` que é o padrão regex, o `repl` que é o que será substituido (replace) e a string onde será substituitdo. Então para remover as tags basta colocar um espaço vazio, verifique:"
   ]
  },
  {
   "cell_type": "code",
   "execution_count": 14,
   "id": "lonely-christianity",
   "metadata": {
    "colab": {
     "base_uri": "https://localhost:8080/"
    },
    "id": "lonely-christianity",
    "outputId": "c4355575-d53f-49ae-86dc-d267a568c4bf"
   },
   "outputs": [
    {
     "name": "stdout",
     "output_type": "stream",
     "text": [
      "Desenvolvi uma página em PHP para uso interno da empresa que trabalho e apenas pouquíssimas pessoas a utilizam. Através dessa página é possível fazer algumas consultas, inserções, alterações e remoções de dados de uma tabela em um banco de dados MySQL, porém eu acredito que meu código em PHP não está protegido contra injeção de código SQL, por exemplo:\n",
      "\n",
      "//----CONSULTA SQL----//\n",
      "$busca = mysql_query ('insert into Produtos (coluna) values(' . $valor . ')');\n",
      "\n",
      "\n",
      "Logo, digamos que o usuário usar a sentença: 1); DROP TABLE Produtos; para ao campo valor o comando ficaria: \n",
      "\n",
      "insert into Produtos (coluna) values(1); DROP TABLE Produtos;\n",
      "\n",
      "\n",
      "Ele vai inserir um novo registro cujo o campo coluna será 1 e logo em seguida ele vai deletar a tabela Produtos.\n",
      "\n",
      "Como posso melhorar meu código para prevenir essa situação?\n",
      "\n"
     ]
    }
   ],
   "source": [
    "print(re.sub(r'<.*?>', '', questoes_pt[5]))"
   ]
  },
  {
   "cell_type": "markdown",
   "id": "necessary-logic",
   "metadata": {
    "id": "necessary-logic"
   },
   "source": [
    "### Desempenho\n",
    "\n",
    "Existem duas formas de construir uma expressão regular com o `re`. Atraves da passagem da expressão regular, igual fizemos antes:\n",
    "\n",
    "```python\n",
    "re.findall(r'{minha_expressao_regular}', string_a_ser_filtrada)\n",
    "```\n",
    "\n",
    "mas também podemos criar um objeto, que compila a regex e ai só passamos a variável que queremos filtrar. Por exemplo: \n",
    "\n",
    "```python\n",
    "regex = re.compile(r'{minha_expressao_regular}')\n",
    "regex.findall(string_a_ser_filtrada)\n",
    "```\n",
    "\n",
    "Entretanto, qual a diferença entre essas duas formas? Para comparar vamos usar um outro módulo chamado `timeit` nativo do python para calcular o desempenho de uma execução:\n"
   ]
  },
  {
   "cell_type": "code",
   "execution_count": 15,
   "id": "numeric-flashing",
   "metadata": {
    "id": "numeric-flashing"
   },
   "outputs": [],
   "source": [
    "from timeit import timeit"
   ]
  },
  {
   "cell_type": "markdown",
   "id": "educational-induction",
   "metadata": {
    "id": "educational-induction"
   },
   "source": [
    "vamos criar a expressão regular `r'70'` que procura o número setenta em `12345712365123954623469843062370`, ai basicamente passamos um código a ser executado dentro de uma docstring `(\"\"\"codigo\"\"\")`"
   ]
  },
  {
   "cell_type": "code",
   "execution_count": 16,
   "id": "velvet-produce",
   "metadata": {
    "colab": {
     "base_uri": "https://localhost:8080/"
    },
    "id": "velvet-produce",
    "outputId": "67fa2861-db95-4f03-b8f4-1977ffbe4845"
   },
   "outputs": [
    {
     "data": {
      "text/plain": [
       "0.8919158310163766"
      ]
     },
     "execution_count": 16,
     "metadata": {},
     "output_type": "execute_result"
    }
   ],
   "source": [
    "setup = \"\"\"import re\"\"\"\n",
    "timeit(\"\"\"re.search(r'70', '12345712365123954623469843062370')\"\"\", setup)"
   ]
  },
  {
   "cell_type": "markdown",
   "id": "violent-pride",
   "metadata": {
    "id": "violent-pride"
   },
   "source": [
    "o tempo de execução do código `re.search(r'70', '12345712365123954623469843062370')` foi de 0.94 segundos. Obviamente não é uma única execução, o módulo timeit executa função 1 milhão de vezes.\n",
    " \n",
    "Agora vamos fazer algo parecido, mas criando um objeto do tipo regex."
   ]
  },
  {
   "cell_type": "code",
   "execution_count": 17,
   "id": "ahead-elder",
   "metadata": {
    "colab": {
     "base_uri": "https://localhost:8080/"
    },
    "id": "ahead-elder",
    "outputId": "3774a5ed-ee1b-46d8-cfaa-e84d964bc1fb"
   },
   "outputs": [
    {
     "data": {
      "text/plain": [
       "0.19929643301293254"
      ]
     },
     "execution_count": 17,
     "metadata": {},
     "output_type": "execute_result"
    }
   ],
   "source": [
    "setup = \"\"\"import re\n",
    "regex = re.compile(r'70')\"\"\"\n",
    "\n",
    "timeit(\"\"\"regex.search('12345712365123954623469843062370')\"\"\", setup)"
   ]
  },
  {
   "cell_type": "markdown",
   "id": "worthy-ownership",
   "metadata": {
    "id": "worthy-ownership"
   },
   "source": [
    "Note que o tempo foi 4x menor para 1 milhão de execuções. Outra forma de analisar isso é usando o `%%time` do próprio notebook para mensurar o tempo de execução de uma célula:"
   ]
  },
  {
   "cell_type": "code",
   "execution_count": 18,
   "id": "alike-modeling",
   "metadata": {
    "colab": {
     "base_uri": "https://localhost:8080/"
    },
    "id": "alike-modeling",
    "outputId": "6ae2f8ca-5dda-4522-a760-afe1ad68e82a"
   },
   "outputs": [
    {
     "name": "stdout",
     "output_type": "stream",
     "text": [
      "CPU times: user 994 ms, sys: 51 µs, total: 994 ms\n",
      "Wall time: 993 ms\n"
     ]
    }
   ],
   "source": [
    "%%time\n",
    "for i in range(10**6):\n",
    "    re.search(r'70', '12345712365123954623469843062370')"
   ]
  },
  {
   "cell_type": "code",
   "execution_count": 19,
   "id": "automatic-answer",
   "metadata": {
    "id": "automatic-answer"
   },
   "outputs": [],
   "source": [
    "regex = re.compile(r'70')"
   ]
  },
  {
   "cell_type": "code",
   "execution_count": 20,
   "id": "unusual-following",
   "metadata": {
    "colab": {
     "base_uri": "https://localhost:8080/"
    },
    "id": "unusual-following",
    "outputId": "d53afb0e-e4da-450b-d60d-a3e19fa2f98c"
   },
   "outputs": [
    {
     "name": "stdout",
     "output_type": "stream",
     "text": [
      "CPU times: user 247 ms, sys: 0 ns, total: 247 ms\n",
      "Wall time: 246 ms\n"
     ]
    }
   ],
   "source": [
    "%%time\n",
    "for i in range(10**6):\n",
    "    regex.search('12345712365123954623469843062370')"
   ]
  },
  {
   "cell_type": "code",
   "execution_count": 21,
   "id": "amber-explorer",
   "metadata": {
    "colab": {
     "base_uri": "https://localhost:8080/"
    },
    "id": "amber-explorer",
    "outputId": "bf891fe1-573c-43cd-f148-651e366f0058"
   },
   "outputs": [
    {
     "data": {
      "text/plain": [
       "4.126984126984127"
      ]
     },
     "execution_count": 21,
     "metadata": {},
     "output_type": "execute_result"
    }
   ],
   "source": [
    "1.04 / (252*10**(-3))"
   ]
  },
  {
   "cell_type": "markdown",
   "id": "connected-generation",
   "metadata": {
    "id": "connected-generation"
   },
   "source": [
    "novamente o resultado é na mesma ordem de grandeza.\n",
    "\n",
    "Concluimos então que criar uma expressão regular (regex) usando o `compile()` tem um desempenho muito maior, por isso é extremamente recomendado criar um objeto em vez de passar a expressão regular como parâmetro de um método do módulo `re`."
   ]
  },
  {
   "cell_type": "markdown",
   "id": "functional-poultry",
   "metadata": {
    "id": "functional-poultry"
   },
   "source": [
    "### Removendo tags html "
   ]
  },
  {
   "cell_type": "code",
   "execution_count": 22,
   "id": "incredible-spell",
   "metadata": {
    "id": "incredible-spell"
   },
   "outputs": [],
   "source": [
    "def filtro_regex(textos, regex):\n",
    "    \"\"\"\n",
    "    Aplica regex em um texto ou em uma estrutura de dados com textos.\n",
    "    Retorna um texto filtrado ou a estrutura de dados com textos filtrados.\n",
    "    \"\"\"\n",
    "    \n",
    "    if type(textos) == str:\n",
    "        return regex.sub('', textos)\n",
    "    elif type(textos) in (list, tuple, set, np.array, pd.Series, pd.DataFrame):\n",
    "        return pd.Series([regex.sub('', texto) for texto in textos])\n",
    "    else:\n",
    "        raise Exception('Não foi possível aplicar o REGEX')\n",
    "    "
   ]
  },
  {
   "cell_type": "markdown",
   "id": "overall-conjunction",
   "metadata": {
    "id": "overall-conjunction"
   },
   "source": [
    "criando `regex`: "
   ]
  },
  {
   "cell_type": "code",
   "execution_count": 23,
   "id": "preliminary-production",
   "metadata": {
    "id": "preliminary-production"
   },
   "outputs": [],
   "source": [
    "remove_html = re.compile(r'<.*?>')"
   ]
  },
  {
   "cell_type": "markdown",
   "id": "matched-trailer",
   "metadata": {
    "id": "matched-trailer"
   },
   "source": [
    "testando:"
   ]
  },
  {
   "cell_type": "code",
   "execution_count": 24,
   "id": "integrated-thumb",
   "metadata": {
    "colab": {
     "base_uri": "https://localhost:8080/",
     "height": 279
    },
    "id": "integrated-thumb",
    "outputId": "8404d3d6-594c-4278-9dc1-f62dc43b8ac8"
   },
   "outputs": [
    {
     "name": "stdout",
     "output_type": "stream",
     "text": [
      "Com tags HTML\n"
     ]
    },
    {
     "data": {
      "text/plain": [
       "0    <p>Se eu fizer o <em><a href=\"http://pt.wikipe...\n",
       "1    <p>Qual é a diferença entre <code>INNER JOIN</...\n",
       "2    <p>Uma dúvida muito comum é por que devemos pa...\n",
       "3    <p>É comum encontrar uma mensagem de erro que ...\n",
       "4    <p>Me parecem termos muito próximos e eventual...\n",
       "Name: Questão, dtype: object"
      ]
     },
     "metadata": {},
     "output_type": "display_data"
    },
    {
     "name": "stdout",
     "output_type": "stream",
     "text": [
      "Sem tags HTML\n"
     ]
    },
    {
     "data": {
      "text/plain": [
       "0    Se eu fizer o hash de senhas antes de armazená...\n",
       "1    Qual é a diferença entre INNER JOIN e OUTER JO...\n",
       "2    Uma dúvida muito comum é por que devemos parar...\n",
       "3    É comum encontrar uma mensagem de erro que diz...\n",
       "4    Me parecem termos muito próximos e eventualmen...\n",
       "dtype: object"
      ]
     },
     "metadata": {},
     "output_type": "display_data"
    }
   ],
   "source": [
    "print('Com tags HTML')\n",
    "display(questoes_pt[:5])\n",
    "\n",
    "print('Sem tags HTML')\n",
    "display(filtro_regex(questoes_pt[:5], remove_html))"
   ]
  },
  {
   "cell_type": "markdown",
   "id": "solid-cookie",
   "metadata": {
    "id": "solid-cookie"
   },
   "source": [
    "### Removendo os códigos,\n",
    "\n",
    "Note que temos alguns códigos nos textos:"
   ]
  },
  {
   "cell_type": "code",
   "execution_count": 25,
   "id": "green-withdrawal",
   "metadata": {
    "colab": {
     "base_uri": "https://localhost:8080/"
    },
    "id": "green-withdrawal",
    "outputId": "358989e6-6d9a-4f12-fa81-ae85ec9e21f2"
   },
   "outputs": [
    {
     "name": "stdout",
     "output_type": "stream",
     "text": [
      "What is the use of the yield keyword in Python? What does it do?\n",
      "\n",
      "For example, I'm trying to understand this code1:\n",
      "\n",
      "def _get_child_candidates(self, distance, min_dist, max_dist):\n",
      "    if self._leftchild and distance - max_dist &lt; self._median:\n",
      "        yield self._leftchild\n",
      "    if self._rightchild and distance + max_dist &gt;= self._median:\n",
      "        yield self._rightchild  \n",
      "\n",
      "\n",
      "And this is the caller:\n",
      "\n",
      "result, candidates = [], [self]\n",
      "while candidates:\n",
      "    node = candidates.pop()\n",
      "    distance = node._get_dist(obj)\n",
      "    if distance &lt;= max_dist and distance &gt;= min_dist:\n",
      "        result.extend(node._values)\n",
      "    candidates.extend(node._get_child_candidates(distance, min_dist, max_dist))\n",
      "return result\n",
      "\n",
      "\n",
      "What happens when the method _get_child_candidates is called?\n",
      "Is a list returned? A single element? Is it called again? When will subsequent calls stop?\n",
      "\n",
      "\n",
      "\n",
      "\n",
      "1. This piece of code was written by Jochen Schulz (jrschulz), who made a great Python library for metric spaces. This is the link to the complete source: Module mspace.\n",
      "\n"
     ]
    }
   ],
   "source": [
    "print(filtro_regex(questoes_en[5], remove_html))"
   ]
  },
  {
   "cell_type": "markdown",
   "id": "heard-literature",
   "metadata": {
    "id": "heard-literature"
   },
   "source": [
    "O que precisamos fazer é remover esses trechos de código porque dado que a maioria das linguagens de programação são escritas em inglês o modelo pode identificar que o idioma do texto é inglês apenas porquê tem trechos de código.\n",
    "\n",
    "Observando o texto puto vemos que tem uma tag HTML chamada `<code> CÓDIGO AQUI </code>`, podemos aplicar uma expressão regular para remover todos os textos que esta dentro desta tag:"
   ]
  },
  {
   "cell_type": "code",
   "execution_count": 26,
   "id": "short-season",
   "metadata": {
    "colab": {
     "base_uri": "https://localhost:8080/"
    },
    "id": "short-season",
    "outputId": "d5124bcc-4cc3-4622-9ceb-69e56635d002"
   },
   "outputs": [
    {
     "name": "stdout",
     "output_type": "stream",
     "text": [
      "<p>What is the use of the <code>yield</code> keyword in Python? What does it do?</p>\n",
      "\n",
      "<p>For example, I'm trying to understand this code<sup><strong>1</strong></sup>:</p>\n",
      "\n",
      "<pre><code>def _get_child_candidates(self, distance, min_dist, max_dist):\n",
      "    if self._leftchild and distance - max_dist &lt; self._median:\n",
      "        yield self._leftchild\n",
      "    if self._rightchild and distance + max_dist &gt;= self._median:\n",
      "        yield self._rightchild  \n",
      "</code></pre>\n",
      "\n",
      "<p>And this is the caller:</p>\n",
      "\n",
      "<pre><code>result, candidates = [], [self]\n",
      "while candidates:\n",
      "    node = candidates.pop()\n",
      "    distance = node._get_dist(obj)\n",
      "    if distance &lt;= max_dist and distance &gt;= min_dist:\n",
      "        result.extend(node._values)\n",
      "    candidates.extend(node._get_child_candidates(distance, min_dist, max_dist))\n",
      "return result\n",
      "</code></pre>\n",
      "\n",
      "<p>What happens when the method <code>_get_child_candidates</code> is called?\n",
      "Is a list returned? A single element? Is it called again? When will subsequent calls stop?</p>\n",
      "\n",
      "<hr>\n",
      "\n",
      "<p><sub>\n",
      "1. This piece of code was written by Jochen Schulz (jrschulz), who made a great Python library for metric spaces. This is the link to the complete source: <a href=\"http://well-adjusted.de/~jrschulz/mspace/\" rel=\"noreferrer\">Module mspace</a>.</sub></p>\n",
      "\n",
      "====================\n",
      "<p>What is the use of the CODIGO AQUI keyword in Python? What does it do?</p>\n",
      "\n",
      "<p>For example, I'm trying to understand this code<sup><strong>1</strong></sup>:</p>\n",
      "\n",
      "<pre>CODIGO AQUI</pre>\n",
      "\n",
      "<p>And this is the caller:</p>\n",
      "\n",
      "<pre>CODIGO AQUI</pre>\n",
      "\n",
      "<p>What happens when the method CODIGO AQUI is called?\n",
      "Is a list returned? A single element? Is it called again? When will subsequent calls stop?</p>\n",
      "\n",
      "<hr>\n",
      "\n",
      "<p><sub>\n",
      "1. This piece of code was written by Jochen Schulz (jrschulz), who made a great Python library for metric spaces. This is the link to the complete source: <a href=\"http://well-adjusted.de/~jrschulz/mspace/\" rel=\"noreferrer\">Module mspace</a>.</sub></p>\n",
      "\n"
     ]
    }
   ],
   "source": [
    "# começa com \"<code>\" tem um grupo de qualquer caracter e quebras de linha e termina com </code>\n",
    "remove_linguagem_programacao = re.compile(r'<code>(.|(\\n))*?</code>')\n",
    "\n",
    "print(questoes_en[5])\n",
    "print(20*'=')\n",
    "print(remove_linguagem_programacao.sub('CODIGO AQUI',questoes_en[5]))"
   ]
  },
  {
   "cell_type": "markdown",
   "id": "applicable-growth",
   "metadata": {
    "id": "applicable-growth"
   },
   "source": [
    "Como foi visto o código foi substituido por `CODIGO AQUI`, vamos criar uma função que remove os código: "
   ]
  },
  {
   "cell_type": "code",
   "execution_count": 27,
   "id": "emerging-vacuum",
   "metadata": {
    "colab": {
     "base_uri": "https://localhost:8080/",
     "height": 204
    },
    "id": "emerging-vacuum",
    "outputId": "09c9efc9-b9cb-41d7-810a-6b459acee4bf"
   },
   "outputs": [
    {
     "name": "stdout",
     "output_type": "stream",
     "text": [
      "Com tags CODE\n"
     ]
    },
    {
     "data": {
      "text/plain": [
       "3    <blockquote>\\n  <p><strong>Moderator Note:</st...\n",
       "4    <p>I've been messing around with <a href=\"http...\n",
       "5    <p>What is the use of the <code>yield</code> k...\n",
       "Name: Questão, dtype: object"
      ]
     },
     "metadata": {},
     "output_type": "display_data"
    },
    {
     "name": "stdout",
     "output_type": "stream",
     "text": [
      "Sem tags CODE\n"
     ]
    },
    {
     "data": {
      "text/plain": [
       "0    <blockquote>\\n  <p><strong>Moderator Note:</st...\n",
       "1    <p>I've been messing around with <a href=\"http...\n",
       "2    <p>What is the use of the  keyword in Python? ...\n",
       "dtype: object"
      ]
     },
     "metadata": {},
     "output_type": "display_data"
    }
   ],
   "source": [
    "print('Com tags CODE')\n",
    "display(questoes_en[3:6])\n",
    "\n",
    "print('Sem tags CODE')\n",
    "display(filtro_regex(questoes_en[3:6], remove_linguagem_programacao))"
   ]
  },
  {
   "cell_type": "markdown",
   "id": "front-hearts",
   "metadata": {
    "id": "front-hearts"
   },
   "source": [
    "### Aplicando filtragens \n",
    "\n",
    "Vamos aplicar a filtragem que retira os códigos das linguagens de programação das perguntas e em seguida remover as tags HTML. Não podemo remover primeiro o HTML e depois os trechos de código, porque o que identifica o código é justamente a tag HTML"
   ]
  },
  {
   "cell_type": "code",
   "execution_count": 28,
   "id": "fundamental-liquid",
   "metadata": {
    "id": "fundamental-liquid"
   },
   "outputs": [],
   "source": [
    "def filtro_codigos_html(serie):\n",
    "    \"\"\"\n",
    "    Aplica um filtro pra retirar os códigos das linguagens\n",
    "    em seguida outro filtro pra remover tags HTML\n",
    "    \"\"\"\n",
    "    serie = filtro_regex(serie, remove_linguagem_programacao)\n",
    "    serie = filtro_regex(serie, remove_html)\n",
    "    return serie"
   ]
  },
  {
   "cell_type": "code",
   "execution_count": 29,
   "id": "representative-ground",
   "metadata": {
    "id": "representative-ground"
   },
   "outputs": [],
   "source": [
    "stackoverflow_portugues['questao_sem_code_tag'] = filtro_codigos_html(questoes_pt)\n",
    "stackoverflow_espanhol['questao_sem_code_tag'] = filtro_codigos_html(questoes_es)\n",
    "stackoverflow_ingles['questao_sem_code_tag'] = filtro_codigos_html(questoes_en)"
   ]
  },
  {
   "cell_type": "code",
   "execution_count": 30,
   "id": "optical-publication",
   "metadata": {
    "colab": {
     "base_uri": "https://localhost:8080/"
    },
    "id": "optical-publication",
    "outputId": "f908ed1e-41c0-4995-e7e4-0e50d8d72c37"
   },
   "outputs": [
    {
     "name": "stdout",
     "output_type": "stream",
     "text": [
      "_________________________ QUESTÃO PT-BR _________________________ \n",
      "\n",
      "Se eu fizer o hash de senhas antes de armazená-las em meu banco de dados é suficiente para evitar que elas sejam recuperadas por alguém?\n",
      "\n",
      "Estou falando apenas da recuperação diretamente do banco de dados e não qualquer outro tipo de ataque, como força bruta na página de login da aplicação, keylogger no cliente e criptoanálise rubberhose. Qualquer forma de hash não vai impedir esses ataques.\n",
      "\n",
      "Tenho preocupação em dificultar ou até impossibilitar a obtenção das senhas originais caso o banco de dados seja comprometido. Como dar maior garantia de segurança neste aspecto?\n",
      "\n",
      "Quais preocupações adicionais evitariam o acesso às senhas? Existem formas melhores de fazer esse hash?\n",
      " \n",
      "\n",
      "____________________________________________________________ \n",
      "\n",
      "_________________________ QUESTÃO ES _________________________ \n",
      "\n",
      "Las sentencias dinámicas son sentencias SQL que se crean como cadenas de texto (strings) y en las que se insertan/concatenan valores obtenidos de alguna fuente (normalmente proveniente del usuario), lo que puede hacer que sean vulnerables a inyección SQL si no se sanean las entradas, como por ejemplo:\n",
      "\n",
      "\n",
      "\n",
      "Eso es un ejemplo de una vulnerabilidad grave en la seguridad de una aplicación (web o no) porque si el usuario introdujese un valor como  nos encontraríamos con que la sentencia ejecutada sería:\n",
      "\n",
      "\n",
      "\n",
      "Y se eliminaría la tabla Usuarios con todos los datos contenidos en ella. \n",
      "\n",
      "¿Cómo puedo evitar que la inyección SQL ocurra en PHP?\n",
      " \n",
      "\n",
      "____________________________________________________________ \n",
      "\n",
      "_________________________ QUESTÃO EN-EUA _________________________ \n",
      "\n",
      "Here is a piece of C++ code that seems very peculiar. For some strange reason, sorting the data miraculously makes the code almost six times faster.\n",
      "\n",
      "\n",
      "\n",
      "\n",
      "Without , the code runs in 11.54 seconds.\n",
      "With the sorted data, the code runs in 1.93 seconds.\n",
      "\n",
      "\n",
      "Initially, I thought this might be just a language or compiler anomaly. So I tried it in Java.\n",
      "\n",
      "\n",
      "\n",
      "With a somewhat similar but less extreme result.\n",
      "\n",
      "\n",
      "\n",
      "My first thought was that sorting brings the data into the cache, but then I thought how silly that is because the array was just generated.\n",
      "\n",
      "\n",
      "What is going on?\n",
      "Why is it faster to process a sorted array than an unsorted array?\n",
      "The code is summing up some independent terms, and the order should not matter.\n",
      "\n",
      " \n",
      "\n",
      "____________________________________________________________ \n",
      "\n"
     ]
    }
   ],
   "source": [
    "print(25*'_', 'QUESTÃO PT-BR', 25*'_','\\n')\n",
    "print(stackoverflow_portugues.questao_sem_code_tag[0],'\\n')\n",
    "print(60*'_','\\n')\n",
    "print(25*'_', 'QUESTÃO ES', 25*'_','\\n')\n",
    "print(stackoverflow_espanhol.questao_sem_code_tag[0],'\\n')\n",
    "print(60*'_','\\n')\n",
    "print(25*'_', 'QUESTÃO EN-EUA', 25*'_','\\n')\n",
    "print(stackoverflow_ingles.questao_sem_code_tag[0], '\\n')\n",
    "print(60*'_','\\n')"
   ]
  },
  {
   "cell_type": "markdown",
   "id": "through-possession",
   "metadata": {
    "id": "through-possession"
   },
   "source": [
    "Note que agora temos as questões sem trechos de códigos e também sem tags, mas falta uma outra modificação: *retirar pontuações e caracteres especiais*, por exemplo: `? , ñ !`"
   ]
  },
  {
   "cell_type": "markdown",
   "id": "suburban-kansas",
   "metadata": {
    "id": "suburban-kansas"
   },
   "source": [
    "### Excluindo caracteres especiais\n",
    "\n",
    "Existe um meta caracter expresso pelo `^` que indica o complementar, por exemplo, `[^5]` irá corresponder a qualquer caractere exceto `'5'`, e `[^^]` irá corresponder a qualquer caractere exceto `'^'`. "
   ]
  },
  {
   "cell_type": "code",
   "execution_count": 31,
   "id": "green-reconstruction",
   "metadata": {
    "id": "green-reconstruction"
   },
   "outputs": [],
   "source": [
    "remove_pontuacao = re.compile(r'[^\\s\\w]')"
   ]
  },
  {
   "cell_type": "code",
   "execution_count": 32,
   "id": "second-screen",
   "metadata": {
    "colab": {
     "base_uri": "https://localhost:8080/"
    },
    "id": "second-screen",
    "outputId": "cbd8a1d4-ff83-4d02-aaf6-e4f0f7fc0bf8"
   },
   "outputs": [
    {
     "name": "stdout",
     "output_type": "stream",
     "text": [
      "Las sentencias dinámicas son sentencias SQL que se crean como cadenas de texto (strings) y en las que se insertan/concatenan valores obtenidos de alguna fuente (normalmente proveniente del usuario), lo que puede hacer que sean vulnerables a inyección SQL si no se sanean las entradas, como por ejemplo:\n",
      "\n",
      "\n",
      "\n",
      "Eso es un ejemplo de una vulnerabilidad grave en la seguridad de una aplicación (web o no) porque si el usuario introdujese un valor como  nos encontraríamos con que la sentencia ejecutada sería:\n",
      "\n",
      "\n",
      "\n",
      "Y se eliminaría la tabla Usuarios con todos los datos contenidos en ella. \n",
      "\n",
      "¿Cómo puedo evitar que la inyección SQL ocurra en PHP?\n",
      "\n",
      "Las sentencias dinámicas son sentencias SQL que se crean como cadenas de texto strings y en las que se insertanconcatenan valores obtenidos de alguna fuente normalmente proveniente del usuario lo que puede hacer que sean vulnerables a inyección SQL si no se sanean las entradas como por ejemplo\n",
      "\n",
      "\n",
      "\n",
      "Eso es un ejemplo de una vulnerabilidad grave en la seguridad de una aplicación web o no porque si el usuario introdujese un valor como  nos encontraríamos con que la sentencia ejecutada sería\n",
      "\n",
      "\n",
      "\n",
      "Y se eliminaría la tabla Usuarios con todos los datos contenidos en ella \n",
      "\n",
      "Cómo puedo evitar que la inyección SQL ocurra en PHP\n",
      "\n"
     ]
    }
   ],
   "source": [
    "print(stackoverflow_espanhol.questao_sem_code_tag[0])\n",
    "\n",
    "print(remove_pontuacao.sub('',stackoverflow_espanhol.questao_sem_code_tag[0]))"
   ]
  },
  {
   "cell_type": "markdown",
   "id": "front-precipitation",
   "metadata": {
    "id": "front-precipitation"
   },
   "source": [
    "Através da regex `[^\\s\\w]`, isto é \"*remova tudo que não for \\s (espaço) e alphanumérico*\", agora precisamos de uma função que faça isso:"
   ]
  },
  {
   "cell_type": "code",
   "execution_count": 33,
   "id": "recent-marijuana",
   "metadata": {
    "id": "recent-marijuana"
   },
   "outputs": [],
   "source": [
    "def filtro_codigos_html(serie):\n",
    "    \"\"\"\n",
    "    Aplica um filtro pra retirar os códigos das linguagens\n",
    "    em seguida outro filtro pra remover tags HTML\n",
    "    \"\"\"\n",
    "    serie = filtro_regex(serie, remove_linguagem_programacao)\n",
    "    serie = filtro_regex(serie, remove_html)\n",
    "    serie = filtro_regex(serie, remove_pontuacao)\n",
    "    return serie"
   ]
  },
  {
   "cell_type": "code",
   "execution_count": 34,
   "id": "personal-bride",
   "metadata": {
    "id": "personal-bride"
   },
   "outputs": [],
   "source": [
    "stackoverflow_portugues['questao_sem_code_tag'] = filtro_codigos_html(questoes_pt)\n",
    "stackoverflow_espanhol['questao_sem_code_tag'] = filtro_codigos_html(questoes_es)\n",
    "stackoverflow_ingles['questao_sem_code_tag'] = filtro_codigos_html(questoes_en)"
   ]
  },
  {
   "cell_type": "code",
   "execution_count": 35,
   "id": "impressive-dynamics",
   "metadata": {
    "colab": {
     "base_uri": "https://localhost:8080/"
    },
    "id": "impressive-dynamics",
    "outputId": "984d0b57-3927-4a57-a672-97c45005e7a8"
   },
   "outputs": [
    {
     "name": "stdout",
     "output_type": "stream",
     "text": [
      "Las sentencias dinámicas son sentencias SQL que se crean como cadenas de texto strings y en las que se insertanconcatenan valores obtenidos de alguna fuente normalmente proveniente del usuario lo que puede hacer que sean vulnerables a inyección SQL si no se sanean las entradas como por ejemplo\n",
      "\n",
      "\n",
      "\n",
      "Eso es un ejemplo de una vulnerabilidad grave en la seguridad de una aplicación web o no porque si el usuario introdujese un valor como  nos encontraríamos con que la sentencia ejecutada sería\n",
      "\n",
      "\n",
      "\n",
      "Y se eliminaría la tabla Usuarios con todos los datos contenidos en ella \n",
      "\n",
      "Cómo puedo evitar que la inyección SQL ocurra en PHP\n",
      "\n"
     ]
    }
   ],
   "source": [
    "print(stackoverflow_espanhol.questao_sem_code_tag[0])"
   ]
  },
  {
   "cell_type": "markdown",
   "id": "external-momentum",
   "metadata": {
    "id": "external-momentum"
   },
   "source": [
    "### Deixando tudo em minusculo"
   ]
  },
  {
   "cell_type": "code",
   "execution_count": 36,
   "id": "sapphire-approval",
   "metadata": {
    "id": "sapphire-approval"
   },
   "outputs": [],
   "source": [
    "def minusculo(textos):\n",
    "    if type(textos) == str:\n",
    "        return textos.lower()\n",
    "    elif type(textos) in (list, tuple, np.array, pd.Series, pd.DataFrame):\n",
    "        if type(textos[0]) == str:\n",
    "            return pd.Series([texto.lower() for texto in textos])\n",
    "        else:\n",
    "            raise Exception('Não foi possível aplicar .lower()')\n",
    "    else:\n",
    "        raise Exception('Não foi possível identificar o tipo')\n",
    "    "
   ]
  },
  {
   "cell_type": "code",
   "execution_count": 37,
   "id": "brief-theme",
   "metadata": {
    "colab": {
     "base_uri": "https://localhost:8080/",
     "height": 691
    },
    "id": "brief-theme",
    "outputId": "f96531df-1b8e-4c7c-83f7-dea374a2938d"
   },
   "outputs": [
    {
     "data": {
      "text/plain": [
       "0      se eu fizer o hash de senhas antes de armazená...\n",
       "1      qual é a diferença entre  e  podem me dar algu...\n",
       "2      uma dúvida muito comum é por que devemos parar...\n",
       "3      é comum encontrar uma mensagem de erro que diz...\n",
       "4      me parecem termos muito próximos e eventualmen...\n",
       "                             ...                        \n",
       "495    já vi esse termo polyfill sendo utilizado vári...\n",
       "496    esses dias me deparei com um trecho de um sql ...\n",
       "497    por vezes vejo em documentações ou especificaç...\n",
       "498    na especificação do protocolo http mais precis...\n",
       "499    eu preciso fazer o upload de uma foto e em seg...\n",
       "Length: 500, dtype: object"
      ]
     },
     "metadata": {},
     "output_type": "display_data"
    },
    {
     "data": {
      "text/plain": [
       "0      las sentencias dinámicas son sentencias sql qu...\n",
       "1      unas veces los cálculos funcionan correctament...\n",
       "2      cuál es la diferencia entre un  y un \\n\\ny cuá...\n",
       "3      la mayoría de nosotros decimos muchas veces si...\n",
       "4      pregunta\\n\\ncómo validar un email que acepte t...\n",
       "                             ...                        \n",
       "495    para escribir una respuesta a 191c243mo funcio...\n",
       "496    estoy empezando a estudiar e investigar un poc...\n",
       "497    estoy empezando con c y tengo la siguiente dud...\n",
       "498    cuál es la diferencia entre interfaz y clase a...\n",
       "499    necesito agregarle un estilo a mi checkbox par...\n",
       "Length: 500, dtype: object"
      ]
     },
     "metadata": {},
     "output_type": "display_data"
    },
    {
     "data": {
      "text/plain": [
       "0      here is a piece of c code that seems very pecu...\n",
       "1      i accidentally committed the wrong files to gi...\n",
       "2      i want to delete a branch both locally and rem...\n",
       "3      \\n  moderator note given that this question ha...\n",
       "4      ive been messing around with json for some tim...\n",
       "                             ...                        \n",
       "495    i just installed  and  for additional modules\\...\n",
       "496    this came to my mind after i learned the follo...\n",
       "497    is it possible to set up a basic html page to ...\n",
       "498    i have a repository in git i made a branch the...\n",
       "499    i came across some java code that had the foll...\n",
       "Length: 500, dtype: object"
      ]
     },
     "metadata": {},
     "output_type": "display_data"
    }
   ],
   "source": [
    "display(minusculo(stackoverflow_portugues.questao_sem_code_tag))\n",
    "display(minusculo(stackoverflow_espanhol.questao_sem_code_tag))\n",
    "display(minusculo(stackoverflow_ingles.questao_sem_code_tag))"
   ]
  },
  {
   "cell_type": "code",
   "execution_count": 38,
   "id": "grave-scottish",
   "metadata": {
    "id": "grave-scottish"
   },
   "outputs": [],
   "source": [
    "def filtro_codigos_html(serie):\n",
    "    \"\"\"\n",
    "    Aplica um filtro pra retirar os códigos das linguagens\n",
    "    em seguida outro filtro pra remover tags HTML\n",
    "    \"\"\"\n",
    "    serie = filtro_regex(serie, remove_linguagem_programacao)\n",
    "    serie = filtro_regex(serie, remove_html)\n",
    "    serie = filtro_regex(serie, remove_pontuacao)\n",
    "    serie = minusculo(serie)\n",
    "    return serie"
   ]
  },
  {
   "cell_type": "code",
   "execution_count": 39,
   "id": "directed-marijuana",
   "metadata": {
    "id": "directed-marijuana"
   },
   "outputs": [],
   "source": [
    "stackoverflow_portugues['questao_sem_code_tag'] = filtro_codigos_html(questoes_pt)\n",
    "stackoverflow_espanhol['questao_sem_code_tag'] = filtro_codigos_html(questoes_es)\n",
    "stackoverflow_ingles['questao_sem_code_tag'] = filtro_codigos_html(questoes_en)"
   ]
  },
  {
   "cell_type": "code",
   "execution_count": 40,
   "id": "fatty-rocket",
   "metadata": {
    "colab": {
     "base_uri": "https://localhost:8080/",
     "height": 691
    },
    "id": "fatty-rocket",
    "outputId": "a1615d71-fc6e-4387-f7b8-9aaf3b80f82c"
   },
   "outputs": [
    {
     "data": {
      "text/plain": [
       "0      se eu fizer o hash de senhas antes de armazená...\n",
       "1      qual é a diferença entre  e  podem me dar algu...\n",
       "2      uma dúvida muito comum é por que devemos parar...\n",
       "3      é comum encontrar uma mensagem de erro que diz...\n",
       "4      me parecem termos muito próximos e eventualmen...\n",
       "                             ...                        \n",
       "495    já vi esse termo polyfill sendo utilizado vári...\n",
       "496    esses dias me deparei com um trecho de um sql ...\n",
       "497    por vezes vejo em documentações ou especificaç...\n",
       "498    na especificação do protocolo http mais precis...\n",
       "499    eu preciso fazer o upload de uma foto e em seg...\n",
       "Name: questao_sem_code_tag, Length: 500, dtype: object"
      ]
     },
     "metadata": {},
     "output_type": "display_data"
    },
    {
     "data": {
      "text/plain": [
       "0      las sentencias dinámicas son sentencias sql qu...\n",
       "1      unas veces los cálculos funcionan correctament...\n",
       "2      cuál es la diferencia entre un  y un \\n\\ny cuá...\n",
       "3      la mayoría de nosotros decimos muchas veces si...\n",
       "4      pregunta\\n\\ncómo validar un email que acepte t...\n",
       "                             ...                        \n",
       "495    para escribir una respuesta a 191c243mo funcio...\n",
       "496    estoy empezando a estudiar e investigar un poc...\n",
       "497    estoy empezando con c y tengo la siguiente dud...\n",
       "498    cuál es la diferencia entre interfaz y clase a...\n",
       "499    necesito agregarle un estilo a mi checkbox par...\n",
       "Name: questao_sem_code_tag, Length: 500, dtype: object"
      ]
     },
     "metadata": {},
     "output_type": "display_data"
    },
    {
     "data": {
      "text/plain": [
       "0      here is a piece of c code that seems very pecu...\n",
       "1      i accidentally committed the wrong files to gi...\n",
       "2      i want to delete a branch both locally and rem...\n",
       "3      \\n  moderator note given that this question ha...\n",
       "4      ive been messing around with json for some tim...\n",
       "                             ...                        \n",
       "495    i just installed  and  for additional modules\\...\n",
       "496    this came to my mind after i learned the follo...\n",
       "497    is it possible to set up a basic html page to ...\n",
       "498    i have a repository in git i made a branch the...\n",
       "499    i came across some java code that had the foll...\n",
       "Name: questao_sem_code_tag, Length: 500, dtype: object"
      ]
     },
     "metadata": {},
     "output_type": "display_data"
    }
   ],
   "source": [
    "display(stackoverflow_portugues.questao_sem_code_tag)\n",
    "display(stackoverflow_espanhol.questao_sem_code_tag)\n",
    "display(stackoverflow_ingles.questao_sem_code_tag)"
   ]
  },
  {
   "cell_type": "code",
   "execution_count": 41,
   "id": "aggressive-stylus",
   "metadata": {
    "colab": {
     "base_uri": "https://localhost:8080/",
     "height": 167
    },
    "id": "aggressive-stylus",
    "outputId": "f6537574-bd04-48e7-f2c3-bde7f93fbd96"
   },
   "outputs": [
    {
     "data": {
      "text/plain": [
       "'las sentencias dinámicas son sentencias sql que se crean como cadenas de texto strings y en las que se insertanconcatenan valores obtenidos de alguna fuente normalmente proveniente del usuario lo que puede hacer que sean vulnerables a inyección sql si no se sanean las entradas como por ejemplo\\n\\n\\n\\neso es un ejemplo de una vulnerabilidad grave en la seguridad de una aplicación web o no porque si el usuario introdujese un valor como  nos encontraríamos con que la sentencia ejecutada sería\\n\\n\\n\\ny se eliminaría la tabla usuarios con todos los datos contenidos en ella \\n\\ncómo puedo evitar que la inyección sql ocurra en php\\n'"
      ]
     },
     "execution_count": 41,
     "metadata": {},
     "output_type": "execute_result"
    }
   ],
   "source": [
    "stackoverflow_espanhol.questao_sem_code_tag[0]"
   ]
  },
  {
   "cell_type": "markdown",
   "id": "nG8Io7Ef8Q5x",
   "metadata": {
    "id": "nG8Io7Ef8Q5x"
   },
   "source": [
    "Perceba acima que agora temos duas palavras \"las\" sem distinção, antes uma era maiuscula e outra minuscula"
   ]
  },
  {
   "cell_type": "markdown",
   "id": "xPLAsa4z8ufZ",
   "metadata": {
    "id": "xPLAsa4z8ufZ"
   },
   "source": [
    "### Remove dígitos\n",
    "\n",
    "Agora precisamos remover todos os possíveis digitos que estão nos textos"
   ]
  },
  {
   "cell_type": "code",
   "execution_count": 42,
   "id": "HlkPmZx_8W1n",
   "metadata": {
    "id": "HlkPmZx_8W1n"
   },
   "outputs": [],
   "source": [
    "remove_digitos = re.compile(r'\\d+')"
   ]
  },
  {
   "cell_type": "code",
   "execution_count": 43,
   "id": "hP8-kyHd9P-k",
   "metadata": {
    "colab": {
     "base_uri": "https://localhost:8080/",
     "height": 36
    },
    "id": "hP8-kyHd9P-k",
    "outputId": "090cd6b4-1f0e-45d3-b493-c1b81fbd045f"
   },
   "outputs": [
    {
     "data": {
      "text/plain": [
       "'OL MUND'"
      ]
     },
     "execution_count": 43,
     "metadata": {},
     "output_type": "execute_result"
    }
   ],
   "source": [
    "filtro_regex('OL4 MUND0', remove_digitos)"
   ]
  },
  {
   "cell_type": "code",
   "execution_count": 44,
   "id": "N6r7cSkd9qYq",
   "metadata": {
    "id": "N6r7cSkd9qYq"
   },
   "outputs": [],
   "source": [
    "def filtro_codigos_html(serie):\n",
    "    \"\"\"\n",
    "    Aplica um filtro pra retirar os códigos das linguagens\n",
    "    em seguida outro filtro pra remover tags HTML\n",
    "    \"\"\"\n",
    "    serie = filtro_regex(serie, remove_linguagem_programacao)\n",
    "    serie = filtro_regex(serie, remove_html)\n",
    "    serie = filtro_regex(serie, remove_pontuacao)\n",
    "    serie = minusculo(serie)\n",
    "    serie = filtro_regex(serie, remove_digitos)\n",
    "    return serie\n",
    "\n",
    "stackoverflow_portugues['questao_sem_code_tag'] = filtro_codigos_html(questoes_pt)\n",
    "stackoverflow_espanhol['questao_sem_code_tag'] = filtro_codigos_html(questoes_es)\n",
    "stackoverflow_ingles['questao_sem_code_tag'] = filtro_codigos_html(questoes_en)"
   ]
  },
  {
   "cell_type": "markdown",
   "id": "LnQ4k-pL-NRK",
   "metadata": {
    "id": "LnQ4k-pL-NRK"
   },
   "source": [
    "### Removendo excesso de espaços\n",
    "\n",
    "Geralmente quando usamos o filtro de digitos os espaços são duplicados, vamos criar um filtro pra eliminar os espaços duplos:"
   ]
  },
  {
   "cell_type": "code",
   "execution_count": 45,
   "id": "0wOpSkRp-H0C",
   "metadata": {
    "id": "0wOpSkRp-H0C"
   },
   "outputs": [],
   "source": [
    "remove_espacos = re.compile(r' +') #"
   ]
  },
  {
   "cell_type": "code",
   "execution_count": 46,
   "id": "2UFZd5u_-rXv",
   "metadata": {
    "colab": {
     "base_uri": "https://localhost:8080/",
     "height": 36
    },
    "id": "2UFZd5u_-rXv",
    "outputId": "63eb8ce5-a439-4ba5-bf18-7fa2cd33630d"
   },
   "outputs": [
    {
     "data": {
      "text/plain": [
       "'testeespaços'"
      ]
     },
     "execution_count": 46,
     "metadata": {},
     "output_type": "execute_result"
    }
   ],
   "source": [
    "filtro_regex('teste              espaços', remove_espacos)"
   ]
  },
  {
   "cell_type": "markdown",
   "id": "kvU0ga-I_GNq",
   "metadata": {
    "id": "kvU0ga-I_GNq"
   },
   "source": [
    "note que ele removeu todos os espaços, por isso o que precisamos fazer é modificar a função `filtro_regex()`"
   ]
  },
  {
   "cell_type": "code",
   "execution_count": 47,
   "id": "zKHImByg_ZNq",
   "metadata": {
    "id": "zKHImByg_ZNq"
   },
   "outputs": [],
   "source": [
    "def filtro_regex(textos, regex, subs=''):\n",
    "    \"\"\"\n",
    "    Aplica regex em um texto ou em uma estrutura de dados com textos.\n",
    "    Retorna um texto filtrado ou a estrutura de dados com textos filtrados.\n",
    "    Parametro opcional: subs é o que deve ser substituido\n",
    "     no lugar o texto filtrado\n",
    "    \"\"\"\n",
    "    \n",
    "    if type(textos) == str:\n",
    "        return regex.sub(subs, textos)\n",
    "    elif type(textos) in (list, tuple, set, np.array, pd.Series, pd.DataFrame):\n",
    "        return pd.Series([regex.sub(subs, texto) for texto in textos])\n",
    "    else:\n",
    "        raise Exception('Não foi possível aplicar o REGEX')\n",
    "    "
   ]
  },
  {
   "cell_type": "code",
   "execution_count": 48,
   "id": "C7dkqeIM_tr-",
   "metadata": {
    "colab": {
     "base_uri": "https://localhost:8080/"
    },
    "id": "C7dkqeIM_tr-",
    "outputId": "6eaa85ba-78d0-4d0d-b52b-6a2aa0583d70"
   },
   "outputs": [
    {
     "name": "stdout",
     "output_type": "stream",
     "text": [
      "teste \n",
      " espaços\n"
     ]
    }
   ],
   "source": [
    "print(filtro_regex('teste      \\n        espaços', remove_espacos, ' '))"
   ]
  },
  {
   "cell_type": "markdown",
   "id": "28A4uLfCAApS",
   "metadata": {
    "id": "28A4uLfCAApS"
   },
   "source": [
    "note que o `remove_espacos`  não retira os `\\n`.\n",
    "\n",
    "Vamos testar na frase `0` da base em espanhol, note que ela tem várias quebras de linha"
   ]
  },
  {
   "cell_type": "code",
   "execution_count": 49,
   "id": "MJN8D8js_v4t",
   "metadata": {
    "colab": {
     "base_uri": "https://localhost:8080/"
    },
    "id": "MJN8D8js_v4t",
    "outputId": "65e05189-1f45-4ee2-cd17-400d144ecc65"
   },
   "outputs": [
    {
     "name": "stdout",
     "output_type": "stream",
     "text": [
      "las sentencias dinámicas son sentencias sql que se crean como cadenas de texto strings y en las que se insertanconcatenan valores obtenidos de alguna fuente normalmente proveniente del usuario lo que puede hacer que sean vulnerables a inyección sql si no se sanean las entradas como por ejemplo\n",
      "\n",
      "\n",
      "\n",
      "eso es un ejemplo de una vulnerabilidad grave en la seguridad de una aplicación web o no porque si el usuario introdujese un valor como  nos encontraríamos con que la sentencia ejecutada sería\n",
      "\n",
      "\n",
      "\n",
      "y se eliminaría la tabla usuarios con todos los datos contenidos en ella \n",
      "\n",
      "cómo puedo evitar que la inyección sql ocurra en php\n",
      "\n"
     ]
    }
   ],
   "source": [
    "print(stackoverflow_espanhol.questao_sem_code_tag[0])"
   ]
  },
  {
   "cell_type": "markdown",
   "id": "fvYGgS1DBbOT",
   "metadata": {
    "id": "fvYGgS1DBbOT"
   },
   "source": [
    "vou criar um filtro pra substituir os `\\n` por um único `\\n`"
   ]
  },
  {
   "cell_type": "code",
   "execution_count": 50,
   "id": "9txOKr3VBCpQ",
   "metadata": {
    "id": "9txOKr3VBCpQ"
   },
   "outputs": [],
   "source": [
    "remove_quebra_linha = re.compile(r'(\\n)')"
   ]
  },
  {
   "cell_type": "code",
   "execution_count": 51,
   "id": "Q5ytykdEBrzS",
   "metadata": {
    "colab": {
     "base_uri": "https://localhost:8080/"
    },
    "id": "Q5ytykdEBrzS",
    "outputId": "3c419ed5-1d40-4a38-d17e-06e29b2e3226"
   },
   "outputs": [
    {
     "name": "stdout",
     "output_type": "stream",
     "text": [
      "las sentencias dinámicas son sentencias sql que se crean como cadenas de texto strings y en las que se insertanconcatenan valores obtenidos de alguna fuente normalmente proveniente del usuario lo que puede hacer que sean vulnerables a inyección sql si no se sanean las entradas como por ejemploeso es un ejemplo de una vulnerabilidad grave en la seguridad de una aplicación web o no porque si el usuario introdujese un valor como  nos encontraríamos con que la sentencia ejecutada seríay se eliminaría la tabla usuarios con todos los datos contenidos en ella cómo puedo evitar que la inyección sql ocurra en php\n"
     ]
    }
   ],
   "source": [
    "print(filtro_regex(\n",
    "    stackoverflow_espanhol.questao_sem_code_tag[0],\n",
    "    remove_quebra_linha\n",
    "))"
   ]
  },
  {
   "cell_type": "markdown",
   "id": "XxEYuSURCJ4a",
   "metadata": {
    "id": "XxEYuSURCJ4a"
   },
   "source": [
    "Agora o texto não tem quebra de linha."
   ]
  },
  {
   "cell_type": "code",
   "execution_count": 52,
   "id": "mar0dKOuBRYY",
   "metadata": {
    "id": "mar0dKOuBRYY"
   },
   "outputs": [],
   "source": [
    "def filtros_pre_processamento(serie):\n",
    "    \"\"\"\n",
    "    Aplica uma série de iltros\n",
    "    \"\"\"\n",
    "    serie = filtro_regex(serie, remove_linguagem_programacao)\n",
    "    serie = filtro_regex(serie, remove_html)\n",
    "    serie = filtro_regex(serie, remove_pontuacao)\n",
    "    serie = minusculo(serie)\n",
    "    serie = filtro_regex(serie, remove_digitos)\n",
    "    serie = filtro_regex(serie, remove_quebra_linha, ' ')\n",
    "    serie = filtro_regex(serie, remove_espacos, ' ')\n",
    "    \n",
    "    return serie\n",
    "\n",
    "stackoverflow_portugues['questao_tratada'] = filtros_pre_processamento(questoes_pt)\n",
    "stackoverflow_espanhol['questao_tratada'] = filtros_pre_processamento(questoes_es)\n",
    "stackoverflow_ingles['questao_tratada'] = filtros_pre_processamento(questoes_en)"
   ]
  },
  {
   "cell_type": "markdown",
   "id": "cardiac-expense",
   "metadata": {
    "id": "azNtyPFbCekI"
   },
   "source": [
    "aqui finalizamos o tratamento dos dados textuais, isto é: aplicamos:\n",
    "\n",
    "* filtro de código\n",
    "* filtro de tags HTML\n",
    "* filtro de pontuações (`. ? !`)\n",
    "* filtro pra converção em minusculo\n",
    "* filtro de digitos\n",
    "* filtro de espaços\n",
    "* filtros de quebra linha"
   ]
  },
  {
   "cell_type": "markdown",
   "id": "laden-transparency",
   "metadata": {},
   "source": [
    "# Modelos de Linguagem \n",
    "\n",
    "Nesta etapa famos falar brevemente sobre teorias da linguagem e como podem ser abordadas para definir o que é uma lingua. Vale ressaltar que linguagem é um assunto extremamente amplo e complexo, tratado de difrentes perspectivas, desde os cursos de letras, filosofia, sociologia, psicologia, medicina (neurolinguística) entre outros campos. \n",
    "\n",
    "Por exemplo, vamos analisar a seguinte frase e qual a resposta correta \n",
    "\n",
    "> Com grandes poderes vêm grandes * * * * *\n",
    "    \n",
    "    a. Amigos\n",
    "    b. Problemas \n",
    "    c. Responsabilidades\n",
    "    d. Crushs\n",
    "    \n",
    "Bom, caso você viva no planeta Terra provavelmente sabe a resposta, porque é uma frase marcante do Ben Parker (Tio do Homem-Aranha), mas não só por isso, algumas pessoas nunca viram o filme ou leram os quadrinhos, esta frase é tão marcante que extrapola para varias outras formas de comunicação. Na sua cabeça o que aconteceu quase de forma instantânea foi calcular as probabilidades condicionais $P(\\text{respota }|\\text{ Pergunta})$:\n",
    "\n",
    "$$P(\\text{Amigos} | \\text{Com grandes poderes vêm grandes}) = P_1$$\n",
    "\n",
    "$$P(\\text{Problemas} | \\text{Com grandes poderes vêm grandes}) = P_2$$\n",
    "\n",
    "$$P(\\text{Responsabilidades} | \\text{Com grandes poderes vêm grandes}) = P_3$$\n",
    "\n",
    "$$P(\\text{Cruchs} | \\text{Com grandes poderes vêm grandes}) = P_4$$\n",
    "\n",
    "\n",
    "A linguagem, como sistema de comunicação, gera línguas humanas que são naturais e socioculturais que produzem frases, palavras compreendem textos e se desenvolvem de maneira expontânea. Segundo Chomsky, a lingua pode ser externa ou interna. A lingua interna é individual, cognitiva, mental e psicológica, aspectos intrínsecos ao humano. Já a lingua externa é sociocultural, compreendem os sons, palavras, regras, gramaticais, escrita, gerando comunicação e interpretação, perpassando pelos aspectos cognitivos e psicológicos de natureza sociocultura. Nosso objetivo aqui é se concentrar na lingua-E (externa, que diz respeito aos conteúdos semânticos). Ou seja, o nosso objetivo aqui não é estudar semântica de uma lingua.\n",
    "\n",
    "\n",
    "Voltando ao exemplo das possíveis respostas para a frase, caso você não seja desse planeta as alternativas que completam a frase seriam equiprováveis pra você. O ponto é que estudar semantica outra etapa bem complicada, mas o que vamos fazer aqui é tentar calcular algo mais simples, por exemplo, dada a palavra `grandes` qual a probabilidade da palavra posterior ser `responsabilidades`?\n",
    "\n",
    "Note que essa probabilidade é dita uma \"probabilidade de passado recente\" porque é a palavra que veio literalmente antes da resposta, ou seja, nosso modelo envolve a probabilidade entre duas palavras, ou probabilidade de um *bigrama*. Existem modelos de trigramas, tetragramas, $n$-grama.\n",
    "\n"
   ]
  },
  {
   "cell_type": "markdown",
   "id": "understood-agriculture",
   "metadata": {},
   "source": [
    "## NLTK \n",
    "\n",
    "O modulo NLTK extremamente utilizado em processamento de linguagem natural, a descrição desta ferramenta é:\n",
    "\n",
    "> NLTK is a leading platform for building Python programs to work with human language data. It provides easy-to-use interfaces to over 50 corpora and lexical resources such as WordNet, along with a suite of text processing libraries for classification, tokenization, stemming, tagging, parsing, and semantic reasoning, wrappers for industrial-strength NLP libraries.\n",
    "\n",
    "Fonte: https://www.nltk.org/api/nltk.html\n",
    "\n",
    "vamos dar um exemplo de uso:"
   ]
  },
  {
   "cell_type": "code",
   "execution_count": 53,
   "id": "liberal-springer",
   "metadata": {},
   "outputs": [],
   "source": [
    "from nltk.util import bigrams"
   ]
  },
  {
   "cell_type": "code",
   "execution_count": 54,
   "id": "developed-shopping",
   "metadata": {},
   "outputs": [
    {
     "name": "stdout",
     "output_type": "stream",
     "text": [
      "<generator object bigrams at 0x7f72a64f0450>\n"
     ]
    }
   ],
   "source": [
    "texto_para_teste = 'Ola mundo'\n",
    "print(bigrams(texto_para_teste))"
   ]
  },
  {
   "cell_type": "markdown",
   "id": "noticed-error",
   "metadata": {},
   "source": [
    "Note que ao passar um texto para o `bigrams()` o resultado é um objeto do tipo `generator`, para entender o que é este objeto podemos passa-lo para uma lista:"
   ]
  },
  {
   "cell_type": "code",
   "execution_count": 55,
   "id": "static-designation",
   "metadata": {},
   "outputs": [
    {
     "name": "stdout",
     "output_type": "stream",
     "text": [
      "[('O', 'l'), ('l', 'a'), ('a', ' '), (' ', 'm'), ('m', 'u'), ('u', 'n'), ('n', 'd'), ('d', 'o')]\n"
     ]
    }
   ],
   "source": [
    "print(list(bigrams(texto_para_teste)))"
   ]
  },
  {
   "cell_type": "markdown",
   "id": "recent-proxy",
   "metadata": {},
   "source": [
    "Note que um **bigrama um par ordenado de caracteres**, não de letras mas de caracteres, um $n$-grama é uma sequencia $n$, ordenada, de caracteres.\n",
    "\n",
    "É possível notar que a frequência de cada caracter é diferente, por exemplo o caracter `O`, aparece apenas no primeiro par e o caracter `o` (letra o minuscula) só aparece no ultimo bigrama, já os caracteres `a`,`m`,`n` e ` ` aparecem com mais frequência. O fato do primeiro e ultimo bigrama terem caracteres que diferem da frequência dos demais faz com que a probabilidade deles ocorrerem em um texto seja menor, mas não porque são menos frequentes, simplesmente pela contrução do modelo. Este problema deve ser contornado através dos chamados **caracteres falsos**."
   ]
  },
  {
   "cell_type": "markdown",
   "id": "alternate-preference",
   "metadata": {},
   "source": [
    "### Caracteres Falsos\n",
    "\n",
    "Suponha o seguinte problema \"Qual a probabilidade de encontrar a letra 'é' no poema de Camões?\", geralmente o que se faz é contar quantos caracteres `é` tem no texto e dividir pela quantidade de todoas as outras palavras que podem ser sorteadas ao acaso. \n",
    "\n",
    "<b>\"O amor <font color='red'>é</font> fogo que arde sem se ver, \n",
    "\n",
    "<font color='red'>é</font> ferida que dói, e não se sente;\n",
    "\n",
    "<font color='red'>é</font> um contentamento descontente, \n",
    "\n",
    "<font color='red'>é</font> dor que desatina sem doer\"\n",
    "</b>\n",
    "\n",
    "(Luíz Vaz de Camões)\n",
    "    \n",
    "$$P(\\text{ é }| \\text{ Poema Camões}) = 4 / 27$$\n",
    "\n",
    "Agora suponha que o problema é outro \"Qual a probabilidade de encontrar a letra `é` no inicio de uma frase?\""
   ]
  },
  {
   "cell_type": "markdown",
   "id": "integral-alloy",
   "metadata": {},
   "source": [
    "\n",
    "<b>\"O amor é fogo que arde sem se ver, \n",
    "\n",
    "<font color='red'>é</font> ferida que dói, e não se sente;\n",
    "\n",
    "<font color='red'>é</font> um contentamento descontente, \n",
    "\n",
    "<font color='red'>é</font> dor que desatina sem doer\"\n",
    "</b>\n",
    "\n",
    "(Luíz Vaz de Camões)\n",
    "\n",
    "$$P(\\text{ é}| \\text{ Inicio de uma frase }) = 3 / 27$$\n",
    "\n",
    "Note que neste exemplo é simples, você também consegue contar quantas vezes a letra `é` inicia uma frase e calcula a frequencia dela pelo número de palavras que podem ser sorteadas ao acaso. Entretanto, o modelo precisa saber o que é o \"início de uma frase/palavra\".\n",
    "\n",
    "O NLTK já tem uma função que faz a inserção deste caracter falso:\n",
    "\n",
    "https://www.nltk.org/api/nltk.lm.html#nltk.lm.preprocessing.padded_everygrams"
   ]
  },
  {
   "cell_type": "code",
   "execution_count": 56,
   "id": "sought-graph",
   "metadata": {},
   "outputs": [],
   "source": [
    "from nltk.lm.preprocessing import pad_both_ends"
   ]
  },
  {
   "cell_type": "code",
   "execution_count": 57,
   "id": "tropical-holmes",
   "metadata": {},
   "outputs": [
    {
     "name": "stdout",
     "output_type": "stream",
     "text": [
      "[('<s>', 'O'), ('O', 'l'), ('l', 'a'), ('a', ' '), (' ', 'm'), ('m', 'u'), ('u', 'n'), ('n', 'd'), ('d', 'o'), ('o', '</s>')]\n"
     ]
    }
   ],
   "source": [
    "texto_teste_com_fake_char = pad_both_ends(texto_para_teste, n=2)\n",
    "\n",
    "bigramas_teste = list(bigrams(texto_teste_com_fake_char))\n",
    "\n",
    "print(bigramas_teste) # n é que tipo de grama é, no caso 2 pq é um bigrama"
   ]
  },
  {
   "cell_type": "markdown",
   "id": "crazy-adult",
   "metadata": {},
   "source": [
    "Note agora que o que se tem um caracter falso no inico de cada frase, como o texto de exemplo é `Ola mundo` no caso apenas uma oração, então o caracter falso aparece no inicio e no final. Agora perceba que o *fake char* ajuda a manter a frequência das letras, agora o `O` e `o` aparecem duas vezes, igual qualquer outra letra."
   ]
  },
  {
   "cell_type": "markdown",
   "id": "alike-antibody",
   "metadata": {},
   "source": [
    "# Criando Rotulos para treino e teste"
   ]
  },
  {
   "cell_type": "markdown",
   "id": "hollywood-vietnam",
   "metadata": {},
   "source": [
    "Temos as variáveis que basicamente são questões em diferentes linguas, entretanto não temos uma variável que classifique qual questão é qual, por exemplo, temos o dataframe `stackoverflow_espanhol` mas não existe uma variável que qualifique que os dados deste dataframe seja espanhol.\n",
    "\n",
    "\n",
    "## Rotulos\n",
    "Vamos criar esta variável:"
   ]
  },
  {
   "cell_type": "code",
   "execution_count": 58,
   "id": "australian-invite",
   "metadata": {},
   "outputs": [],
   "source": [
    "stackoverflow_espanhol['Idioma'] = 'espanhol'\n",
    "stackoverflow_portugues['Idioma'] = 'portugues'\n",
    "stackoverflow_ingles['Idioma'] = 'ingles'"
   ]
  },
  {
   "cell_type": "markdown",
   "id": "bored-distribution",
   "metadata": {},
   "source": [
    "Agora temos uma coluna que indica qual idioma o texto pertence."
   ]
  },
  {
   "cell_type": "code",
   "execution_count": 59,
   "id": "minimal-explanation",
   "metadata": {},
   "outputs": [
    {
     "data": {
      "text/html": [
       "<div>\n",
       "<style scoped>\n",
       "    .dataframe tbody tr th:only-of-type {\n",
       "        vertical-align: middle;\n",
       "    }\n",
       "\n",
       "    .dataframe tbody tr th {\n",
       "        vertical-align: top;\n",
       "    }\n",
       "\n",
       "    .dataframe thead th {\n",
       "        text-align: right;\n",
       "    }\n",
       "</style>\n",
       "<table border=\"1\" class=\"dataframe\">\n",
       "  <thead>\n",
       "    <tr style=\"text-align: right;\">\n",
       "      <th></th>\n",
       "      <th>Id</th>\n",
       "      <th>Título</th>\n",
       "      <th>Questão</th>\n",
       "      <th>Tags</th>\n",
       "      <th>Pontuação</th>\n",
       "      <th>Visualizações</th>\n",
       "      <th>questao_sem_code_tag</th>\n",
       "      <th>questao_tratada</th>\n",
       "      <th>Idioma</th>\n",
       "    </tr>\n",
       "  </thead>\n",
       "  <tbody>\n",
       "    <tr>\n",
       "      <th>0</th>\n",
       "      <td>2402</td>\n",
       "      <td>Como fazer hash de senhas de forma segura?</td>\n",
       "      <td>&lt;p&gt;Se eu fizer o &lt;em&gt;&lt;a href=\"http://pt.wikipe...</td>\n",
       "      <td>&lt;hash&gt;&lt;segurança&gt;&lt;senhas&gt;&lt;criptografia&gt;</td>\n",
       "      <td>350</td>\n",
       "      <td>22367</td>\n",
       "      <td>se eu fizer o hash de senhas antes de armazená...</td>\n",
       "      <td>se eu fizer o hash de senhas antes de armazená...</td>\n",
       "      <td>portugues</td>\n",
       "    </tr>\n",
       "  </tbody>\n",
       "</table>\n",
       "</div>"
      ],
      "text/plain": [
       "     Id                                      Título  \\\n",
       "0  2402  Como fazer hash de senhas de forma segura?   \n",
       "\n",
       "                                             Questão  \\\n",
       "0  <p>Se eu fizer o <em><a href=\"http://pt.wikipe...   \n",
       "\n",
       "                                      Tags  Pontuação  Visualizações  \\\n",
       "0  <hash><segurança><senhas><criptografia>        350          22367   \n",
       "\n",
       "                                questao_sem_code_tag  \\\n",
       "0  se eu fizer o hash de senhas antes de armazená...   \n",
       "\n",
       "                                     questao_tratada     Idioma  \n",
       "0  se eu fizer o hash de senhas antes de armazená...  portugues  "
      ]
     },
     "execution_count": 59,
     "metadata": {},
     "output_type": "execute_result"
    }
   ],
   "source": [
    "stackoverflow_portugues.head(1)"
   ]
  },
  {
   "cell_type": "markdown",
   "id": "superb-length",
   "metadata": {},
   "source": [
    "## Treino e Teste"
   ]
  },
  {
   "cell_type": "markdown",
   "id": "conceptual-identification",
   "metadata": {},
   "source": [
    "Agora precisamos reservar parte dos dados para treinar o modelo e parte para testar em dados que ele nunca viu. É importante saber qual o tamanho do dataset:"
   ]
  },
  {
   "cell_type": "code",
   "execution_count": 60,
   "id": "vulnerable-workplace",
   "metadata": {},
   "outputs": [
    {
     "data": {
      "text/plain": [
       "(500, 9)"
      ]
     },
     "execution_count": 60,
     "metadata": {},
     "output_type": "execute_result"
    }
   ],
   "source": [
    "stackoverflow_portugues.shape"
   ]
  },
  {
   "cell_type": "markdown",
   "id": "special-study",
   "metadata": {},
   "source": [
    "vamos reservar a separação em: \n",
    "\n",
    "* 400 dados de treino\n",
    "* 100 dados de teste\n",
    "\n",
    "para cada dataset, vamos fazer isso utilizando o módulo sci-kit learn:"
   ]
  },
  {
   "cell_type": "code",
   "execution_count": 61,
   "id": "pointed-greece",
   "metadata": {},
   "outputs": [],
   "source": [
    "from sklearn.model_selection import train_test_split"
   ]
  },
  {
   "cell_type": "code",
   "execution_count": 62,
   "id": "adopted-invite",
   "metadata": {},
   "outputs": [],
   "source": [
    "pt_treino, pt_teste = train_test_split(stackoverflow_portugues.questao_tratada,\n",
    "                                       test_size=0.2,\n",
    "                                       random_state=seed\n",
    "                                      )\n",
    "\n",
    "es_treino, es_teste = train_test_split(stackoverflow_espanhol.questao_tratada,\n",
    "                                       test_size=0.2,\n",
    "                                       random_state=seed\n",
    "                                      )\n",
    "\n",
    "\n",
    "in_treino, in_teste = train_test_split(stackoverflow_ingles.questao_tratada,\n",
    "                                       test_size=0.2,\n",
    "                                       random_state=seed\n",
    "                                      )"
   ]
  },
  {
   "cell_type": "code",
   "execution_count": 63,
   "id": "bridal-syndrome",
   "metadata": {},
   "outputs": [
    {
     "data": {
      "text/plain": [
       "400"
      ]
     },
     "execution_count": 63,
     "metadata": {},
     "output_type": "execute_result"
    }
   ],
   "source": [
    "len(pt_treino)"
   ]
  },
  {
   "cell_type": "markdown",
   "id": "racial-jonathan",
   "metadata": {},
   "source": [
    "Agora o próximo passo é adicionar os *fakechar*, mas para isso precisamos das palavras que no neste caso são os elementos das variáveis criadas com dados de treino e teste são uma frase. O que vai ser necessário é juntar todas as frases em uma única variável para que seja possível criar os bigramas das palavras de cada frase."
   ]
  },
  {
   "cell_type": "code",
   "execution_count": 64,
   "id": "organic-gauge",
   "metadata": {},
   "outputs": [
    {
     "data": {
      "text/plain": [
       "'acho que todo mundo com o mínimo de conhecimento sabe quando escolher c ou c no lugar de outras linguagens existem casos claros em que estas linguagens são mais adequadas e outros que não faz tanta diferença mas pode haver situação em que se sabe que uma das duas seja ideal mas não se sabe qual das duas quais elementos concretos devemos analisar e em que situações podemos ter certeza que o c é mais indicado que c ou c é o mais adequado os motivos não precisam ser essencialmente técnicos mas eles precisam ser objetivos precisa ser algo que os profissionais experientes nas duas linguagens costumam concordar em outras palavras quais problemas o c lida melhor e quais o c costuma se sair bem é claro que ambas podem ser usadas para qualquer projeto mas nem sempre é a ferramenta mais adequada existem casos que alguns requisitos podem inviabilizar uma escolha que requisitos podem dificultar tanto o uso de uma linguagem que é melhor usar a outra considere pontos políticos como não requisitos fundamentais só a parte técnica importa mesmo recentemente enquanto estudava alguns códigos em javascript me deparei com o seguinte código sei que e consequentemente então fiquei na dúvida qual a lógica de se fazer esse tipo de operação estou fazendo uma implementação de um jogo em assembly no proteus eu sorteio dois números aleatórios de até e preciso gerar no lcd uma imagem referente aos números que eu gerei exemplo se eu gerar o número a imagem que vai aparecer no display é se eu gerar o número a imagem que vai aparecer no display é implementação foi feita da seguinte maneira no código escrevi assim para gerar o número aleatório e guardar nas variáveis auxiliares para comparação no final do jogo eu tenho number e number os valores dos números aleatórios gerados eu fiz da seguinte maneira para buscar o número gerado e armazenar a posição de memória da imagem referente ao número armazeno em bl antes de chamar o valor para buscar a imagem do number e para a number em ax contém o valor do number para cada just equals eu chamo assim mas não acho que é a melhor solução alguém saberia um método mais prático criar uma nova variável e armazenar como fosse um array de posições de memória se eu querer a imagem eu somente iria fazer ou imagem algo assim obs sim atualmente eu gerei variáveis para armazenar cada imagem referente a cada número meu editor está até travando pela quantidade de informações no código escrevi linhas só para comparar qual é o número gerado e tive que escrever linhas referente as imagens de cada número ds significa data segment entre os estudos de javascript encontrei em alguns lugares muita gente sugerindo o uso de coffeescript ou typescript para acelerar o processo desenvolvimento se entendi bem ambos são como uma metalinguagem uma maquiagem que melhora a sintaxe convoluta do javascript e depois reescreve o seu código em js este entendimento está certo como funcionam o coffeescript e typescript o que eles são de fato qual sua relação com o javascript e como eles podem ser usados no desenvolvimento web em lugar do javascript em um tabuleiro de xadrez em qualquer casa possuo um cavalo representado em vermelho e terei somente uma outra peça representada em verde que o cavalo deve ir até ela devo utilizar o caminho mais simples e levar em consideração o movimento do cavalo em l e contabilizar os movimentos até chegar no ponto determinado como no exemplo abaixo como posso fazer isso usando python tenho em mente que tenho que usar matriz e uma lista como entrada de posição mas não sei como continuar supondo uma condição onde eu tenho um projeto com commits e decido por razões inexplicáveis voltar alguns commits independente se quero voltar ou supondo que a descrição de meus commits são bem claros visualizo meus últimos commits usando o comando e depois de localizado como faço pra reverter pra um específico commit quais os possíveis problemas que posso encontrar e como sanálos sempre quis saber como funcionam closures em javascript já li algumas definições mas nunca entendi muito bem vocês poderiam me dar uma explicação simples objetiva mas com conteúdo desenvolvo um sistema de gerenciamento empresarial há algum tempo estou precisando adicionar ao mesmo a funcionalidade de emissão de nota fiscal eletrônica no padrão brasileiro existe alguma biblioteca java bem testada e de preferência livre e de código aberto que me ajude com isso já vi programas assim e outros assim o segundo código vai consumir mais processamento estou tentando centralizar verticalmente o conteúdo de um elemento que tem consegui fazer o conteúdo se posicionar da metade para baixo do container no entanto da metade para cima o espaço fica sobrando como posso resolver isso apenas utilizando css eis o meu código até o momento \\r \\r \\r \\r \\r \\r a ideia é que o elemento sobreponha o elementopai como se fosse um indicador de loading em cima de apenas um elemento na página me parecem termos muito próximos e eventualmente vejo textos que trocam um pelo outro como se em algumas determinadas situações suas definições se sobreponham quais seriam as definições técnicas que permitem distinguir o que é api biblioteca e framework em quais situações é permitido intercambiar os termos sem ferir sua definição técnica no qual é a diferença entre um e uma algum tempo atrás o facebook lançou sua própria linguagem de programação baseada no php veja tecnoblog facebook anuncia hack sua própria linguagem de programação o tecnoblog explica da seguinte maneira a diferença entre o php e o hack ênfase adicionada o objetivo principal sempre foi o de atacar os erros no comunicado oficial os desenvolvedores explicam que linguagens dinâmicas como o php facilitam o desenvolvimento rápido mas geralmente tornam a detecção de erros mais difícil uma vez que as falhas só são percebidas quando o programa está em execução o que é particularmente preocupante em projetos muito grandes por sua vez usando linguagens do tipo estática como c os desenvolvedores podem encontrar erros antes da efetiva execução do código com a possível desvantagem de linguagens como esta não serem tão práticas quanto às mais atuais como consequência o hack foi criado para unir o melhor dos mundos aparentemente isso significa que o hack suporta declarar o tipo de retorno das funçõesmétodos permitindo que as ides identifiquem antecipadamente erros de compilação qual a diferença entre uma linguagem estática e dinâmica existem outras diferenças além da que eu consegui identificar acima vantagens e desvantagens podese dizer que as linguagens de script são sempre dinâmicas e viceversa veja o que uma linguagem de script usando ruby a divisão de dois números inteiros é uma divisão inteira isso é o resultado é um número inteiro por exemplo se desejo que o resultado seja um numero decimal posso utilizar um numero flutuante ao invés de um inteiro como posso fazer uma divisão inteira que funcione parecida com a de ruby em javascript alguém pode me explicar de forma clara e objetiva eu li alguns artigos mais ainda não ficou muito claro qual é a diferença entre e podem me dar alguns exemplos geralmente ambos possuem comportamentos similares quando renderizados no navegador se eu abrir um html com isto ambos não permitem que o usuário altere o texto vejo o exemplo abaixo \\r \\r \\r \\r \\r então qual a diferença de fato entre os dois tipos de estados e quando eu devo usar cada um deles o que é importante saber antes de licenciar um programa de computador no brasil eu realmente preciso utilizar uma licença o que é e como funciona o sistema de software livre vejo pela internet uma série de artigos com títulos como setinterval is bad que traduzindo seria setinterval é ruím vi recomendações de usar uma função anônima recursiva com um por ser aparentemente melhor que o uso de exemplificando com exemplificando com função recursiva e por que dizem isso exemplo no jsfiddle em geral classes possuem métodos construtores qual a utilidade do método construtor de uma classe por que devemos criálo dá para trabalhar sem ele  o que são os path parameters de uma uri e qual sua função uma uri que define os parâmetros representa um recurso diferente da uri que não possui os parâmetros isto é é um recurso diferente de se possível dê exemplos de sua aplicaçãofunção pois até então o formato da uri que eu conhecia era mas hoje acabei percebendo a existência de mais um item onde a rfc recomenda utilizar o caractere para separar os parâmetros o caractere para separar o nome do valor e o caractere para separar múltiplos valores de um mesmo parâmetro como posso implementar um sistema de internacionalização utilizando a tecnologia mvc da microsoft existe algo semelhante ao android para que meu website possa suportar diversas línguas existe também algum modo de obter a linguagem do navegador que o usuário está acessando para configurar o idioma padrão deste ponto de partida quando estudei java aprendi que exceções somente deveriam ser usadas em situações bem excepcionais ie um erro uma condição não prevista etc jamais para controle de fluxo normal não só por ser menos performático criar uma exceção envolve montar um stack trace dentre outras coisas mas por ser menos elegante e correto o ideal sendo testar as précondições antes de se fazer uma operação ou chamar um método ou para sinalizar um erro ao chamador usar um código de erro ou similar somente nos casos realmente imprevisíveis é que seria adequado se usar um entretanto ao aprender python me deparei com uma filosofia bastante diferente nessa linguagem há muitos casos em que o modo recomendado e às vezes o único modo de se tratar uma condição indesejada é tentar executála e se algo der errado capturar a exceção não há menção a performance e muitas vezes justificase essa abordagem para se prevenir condições de corrida ex em vez de testar se um arquivo existe antes de abrilo simplesmente abrao de uma vez afinal ele poderia ser apagado entre o teste e o uso e se o programa não está preparado para isso seu comportamento nessa situação pode ficar incorreto entendo que se uma linguagemplataforma segue um determinado paradigma é aconselhável se ater a ele nem que seja por questões de consistência mas assumindose que não só linguagens novas possam ser criadas como as existentes possam ser aprimoradas pergunto existem vantagens claras de um desses paradigmas sobre o outro ou talvez situações específicas em que se justifique usar um ou outro padrão mesmo que contrarie as recomendações oficiais que parâmetros eu devo observar ao decidir entre uma abordagem e outra a título de exemplo há muitas situações em que o argumento da condição de corrida não se aplica quando os dados envolvidos na operação são imutáveis por exemplo por fim há algum meio termo razoável que combine os benefícios de ambos sem que o ônus caia no programador por exemplo poderia testar se o arquivo existe e usar um em seguida mas isso seria redundante nota peço que esse último ponto caso abordado na resposta venha acompanhado de fontes confiáveis para evitar mera especulação ps algumas referências demonstrando que esse uso corriqueiro de exceções é de fato bastante recomendado na comunidade python em oposição à maioria das outras better to try something and catch the exception or test if its possible first to avoid an exception is it a good practice to use tryexceptelse in python how do i check if a string is a number in python python exception handling techniques look before you leap vs easier to ask for forgiveness than permission exceptions and file handling dive into python eu tenho uma que eu quero converter para como eu removo os acentos preciso para guardar no banco de dados como uma url sei que e são bibliotecas a primeira é dinâmica e a segunda é estática mas o que isso realmente quer dizer como cada uma funciona se eu tiver que gerar uma biblioteca a partir de um código o que eu devo ter em mente para decidir se eu faço uma ou uma eu estava vendo alguns métodos das classes do pacote e alguns deles possuem assinatura semelhantes a esta o que significa esse afinal como funciona esse padrão de arquitetura seguindo as camadas model view e controller no mundo acadêmico o plágio e a referenciação são levados a sério e quando se trata da nossa criação intelectual até que ponto seria plágio copiar e colar trechos de outro código disponível na internet no meu particularmente nunca referenciei os trechos de código que eu copiei isso é plágio a punição legal é a mesma para o plágio do mundo acadêmico como remover acentos e outros sinais gráficos de uma string em java ex hoje um dos sites da empresa na qual trabalho foi hackeado assim como vários outros que estão com métodos arcaicos de desenvolvimento e cheios de falhas de segurança a pessoa que invadiu deixou além de uma index modificada o seguinte código em um outro arquivo e me interessei em entender o por que alguem tem ideia da utilidade disso quando eu estava usando o sublime text para editar um arquivo percebi que ele me sugeriu uma tag com o nome de eu nunca tinha visto sobre essa tag antes mas parece que realmente existe como não vi nenhum explicação em português sobre o assunto resolvi fazer essa pergunta aqui para que serve a tag essa tag é nova de alguma forma ela pode substituir a funcionalidade de autocomplemento que existem atualmente em várias bibliotecasframeworks em  a ª imagem utilizo o charsetiso nesta ª imagem utilizo o utf tenho um sistema de notícias em que é possível colar html ou texto de outras páginas na página em que as noticias são apresentadas utilizo o por causa da acentuação mas ao utilizar este charset os menus e restantes títulos ficam alterados devido à acentuçao precisava da vossa ajuda para saber se é possivel ter dois metas charset na mesma página ou numa parte da página ou outra forma de contornar a situção para além disso tenho dois ficheiros de conexao mysqlphp normalmente utilizo mas vejo na maioria dos formulários o uso do existe alguma diferença qual é o ideal tenho dúvidas a respeito do uso do em funções exemplo eu sei que esta função irá me retornar um inteiro que é a soma dos dois parâmetros na função e exemplo eu vi em um programa que continha uma implementação parecida como a do segundo exemplo acima que usei para ilustrar a situação que testemunhei do uso do eu testei a função e ela retorna a soma dos dois parâmetros mesmo tendo o especificado como retorno ou seja vazio isto me deixou confuso em relação ao uso do eu pensava que servia somente para dizer que uma função não vai ter retorno nenhum ou não irá receber nenhum parâmetro como este exemplo afinal de contas qual é a finalidade deste comando em c o uso do especificado como ponteiro pode retornar valores mesmo sendo na pergunta do meta tags diferentes para quottestesquot eu notei que tenho alguma dificuldade para entender todos estes termos sobre testes certamente testes passaram ser muito importantes ao longo da trajetória do desenvolvimento de software com isto proliferam conceitos e a sopa de letrinhas está cada vez maior o que diferencia os conceitos envolvidos em testes as siglas e as definições formais são fácil de descobrir teste de software testes unitários ou unidade de testes há diferença testes funcionais tdd quality assurance acceptance testing existe algum outro termo relacionado que seja muito importante para ser destacado estou realizando alguns testes e pelo que me parece object e dynamic realizam a mesma tarefa ao contrário de var que depois de atribuído é impossível mudar seu tipo qual a diferença entre eles reconheço que é comum que cada linguagem utilize um padrão para compor seus identificadores variáveis constantes objetos controles etc no caso do c quais seriam as boas práticas com relação à maiúsculasminúsculas tamanho e utilização de caracteres especiais em c quando preciso verificar se uma variável é de determinado tipo normalmente uso o operador sei que também é possível verificar o tipo de uma variável de outras formas uma delas é usando qual a diferença entre esses dois operadores existem outros que façam a mesma coisa mas com uma pequena diferença quando devo usar um arquivo javascript ou jquery com arquivo e puro tipo  o que seria esse como evitálo talvez eu me integre a uma equipe para desenvolver um novo projeto o líder já tomou algumas decisões entre elas que as regras de negócio estarão no banco de dados em procedures e views triggers etc ao tomar conhecimento disto minha primeira reação foi negativa estou acostumado com regras de negócio na camada de aplicação e não me parece uma boa ideia que fiquem no banco de dados porém o fato é que eu realmente não sei tampouco tenho experiência com essa arquitetura por isso pergunto quais as vantagens quais as desvantagens é uma boa prática é uma má ideia estou querendo desenvolver um site que rode todo no mesmo arquivo mas não sei bem como procurar material de estudo para isso assim site normalestou na página indexphp quando clico no menu portfólio por exemplo ele vai e carrega o arquivo porfoliophp site que eu quero fazerestou na página indexphp quando eu clico no menu portfólio o site faz uma animação fade sidescroll etc e mostra o conteúdo do portfólio sem a necessidade de carregar outro arquivo alguém pode me dar uma luz já trabalhei com sites feitos em uma página só mas são no modelo one page scroll website acredito que eu precise trabalhar com o ajax mas não tenho certeza ainda recentemente houve uma pergunta aqui no stack overflow sobre alterar o comportamento padrão do para atuar na página como um isto é ao ser selecionado um item os outros deveriam ser desmarcados mantendo a seleção única as respostas foram dadas utilizando javascript basicamente alterando o comportamento natural do tratando os eventos nesse elemento eu sempre acreditei que fazêlo não era recomendado e que o ideal mesmo seria utilizar o próprio elemento por questões de semântica eu cheguei a comentar a possível solução utilizando a propriedade do css pois mantém a semântica do código alterando apenas a aparência do elemento sem necessitar de javascript \\r \\r \\r \\r \\r \\r porém pesquisando vi que tal propriedade foi removida do css então mesmo que os navegadores ainda suportam tal propriedade acredito que seu uso deve ser evitado e que a abordagem utilizando javascript é comumente discutida em fóruns mas são poucos os lugares que discutem se de fato é apropriado fazêlo a conclusão que chego é que não se deve alterar o comportamento de um elemento enquanto semanticamente é apropriado utilizar outro mas não consigo afirmar canonicamente qual é o impacto tanto de desempenho se houver quanto na usabilidade da página então é permitido utilizar javascript para alterar o comportamento natural de um elemento para agir como outro qual é o impacto gerado por esta abordagem existe uma diferença de desempenho na renderização da página e como isso pode afetar a usabilidade se a usabilidade for diretamente afetada é possível corrigir utilizando o atributo nota o exemplo dado entre e foi mais para contextualização do problema e as respostas podem preferencialmente abordar outros exemplos se necessário a foto original do feijão é essa diminui a resolução da foto já apliquei um filtro para ficar em escala de cinza e aumentei o contraste ao máximo para ficar preto e branco depois examinei a cor de cada um dos pixels e montei uma array matriz se eu iterar sobre essa array e escrever um para os pixels brancos e um x para os pretos eu consigo o seguinte a partir daí estou tentando encontrar uma maneira de contar quantas porções de x tem nessa matriz alguém pode me ajudar com isso minha dúvida é bem objetiva tratandose de seletores css tenho o seguinte código e \\r \\r \\r \\r \\r \\r sei que já há uma pergunta relacionada mas nesse caso estou tratando com uma série de seletores e não somente e porque é aplicado o estilo do seletor porque o tem prioridade em cima dos outros tantos seletores já que os demais vem depois dele na última linha de estilo eu tenho um caminho com seletores e mesmo assim o tem prioridade porquê começarei um projeto em c que terá como uma placa colibri t com processador nvidia tegra arm rodando uma versão leve de linux gostaria de saber se além de ter que utilizar um compilador cruzado compatível com o processador eu preciso me preocupar com algum outro detalhe específico da arquitetura arm pelo que li parece que a arquitetura do processador só importa se eu estiver programando em assembly estou errado não sei se é relevante mas meu é ubuntu linux como posso calcular a idade de uma pessoa em javascript a partir da data de nascimento tentei algo do tipo tenho um código em c que por algum motivo inexplicável parece ser executado muito mais rapidamente quando os meus dados estão previamente ordenados consegui reproduzir o comportamento com o seguinte código tenho o seguinte resultado compilado com o g sem otimizações um aumento de velocidade de quase vezes inicialmente suspeitei que fosse algum tipo de otimização que o compilador pudesse estar fazendo com o meu código se aproveitando de alguma forma do fato de minha lista estar ordenada então decidi implementar a mesma ideia em uma linguagem completamente diferente e que não fosse otimizavél escolhi o ruby o resultado rodando com o ruby executando vezes a menos por ser mais lento aqui o ganho de perfomance é bastante menor pouco mais de x mas claramente significativo o que exatamente está acontecendo aqui de onde vem esse efeito e como eu posso me aproveitar dele baseado em uma pergunta famosa do so tentei procurar pelo google e no soen mas não encontrei nenhuma referência ao operador descobri que ele existe pois estava lendo um livro sobre javascript e tinha um exemplo utilizando ele mas o autor também não havia feito nenhuma referência ao til antes qual a função do operador e quando ele é geralmente utilizado contexto quando faço um sql e desejo por um alias especifico devo por entre aspas duplas quando quero fazer um de um campo os valores devem estar em aspa simples pergunta qual a diferença entre aspa simples e aspa dupla no sql adendo se eu fizer um de de campos que tem alias em o meu mais externo também deve ter estou trabalhando em um sistema muito grande utilizando net aspnet mvc a aplicação requer um nível crítico de desempenho até que ponto vale ou não a pena utilizar uma orm existe alguma ferramenta que eu possa comparar em termos de desempenho os orms e sql puro eu sei que existe uma diferença de desempenho entre sql puro e orm não sei se é os activerecords ou os orms em gerais são mais lentos em comparação com sql puro caso considere usar um orm qual deles provavelmente tem o melhor desempenho ef ou nhibernate sei que tudo também depende da estrutura do banco e das boas práticas mas de modo geral para um sistema muito grande considero uma orm já que o custo beneficio em relação manutenção do sistema é muito mais alto do que não utilizando qual a grande diferença sobre o aspnet e o c eu programo em c pra desktop mas não consigo compreender c pra desktop windows forms application é idêntico ao c utilizado na programação web e o c usado na programação web é igual ao asp eu tenho visto que bibliotecas de software escritas em c no geral costumam usar números hexadecimais e programadores assembly também precisam ser ninjas com este sistema numérico não é em qualquer lugar que se acha um programador que saiba ler hexadecimal decentemente e muito menos fazer uso dos números mas hexadecimais são bastante comuns principalmente em programação de sistemas programação de baixo nível e segurança da informação payloads de exploits precisam dos opcodes em hexadecimal hexdumps o nome já diz tudo eu não sei porquê mas hexadecimais também estão bastante presente em macros de c considerando a importância desse sistema eu pergunto como funcionam os números em hexadecimal os conceitos de erro sintático e semântico são encontrados em livros e outros materiais sobre programação no entanto sempre geram dúvidas para quem está iniciando de forma prática qual a diferença entre erro sintático e semântico cenário estou montando um layout que será utilizado por terceiros e não sei qual será a linguagem utilizada tenho duas divs um será o menu esquerdo e outro o conteúdo eles são separados por um splitter minhas dúvidas são esse menu esquerdo quero desenvolver um a parte e chamalo por qual a melhor forma de fazer se eu fizer chamada via javascript será que terei problemas com javascript contido nessa página que será inserida existe algum padrão desse tipo no html css ou alguma forma simples de implementar em javascript sei que iframe não é uma boa solução através de funciona mas creio que não seja uma boa solução também quero colocar no meu site um sistema igual o do gag onde as pessoas podem pausar e dar play em um eu sei que tenho que usar duas imagens um e um mas tentei algumas funções e não consegui achei essa função mas eu não sei o que passar por parâmetro e nem como usálas no html qual a diferença da declaração para para como essas declarações podem influenciar no meu algoritmo ultimamente ouvi muito a respeito de web service web service é uma solução utilizada na integração de sistemas e na comunicação entre aplicações diferentes permitem às aplicações enviar e receber dados em formato xml web service é uma solução utilizada na integração de sistemas e na comunicação entre aplicações diferentes com esta tecnologia é possível que novas aplicações possam interagir com aquelas que já existem e que sistemas desenvolvidos em plataformas diferentes sejam compatíveis os web services são componentes que permitem às aplicações enviar e receber dados em formato xml cada aplicação pode ter a sua própria linguagem que é traduzida para uma linguagem universal o formato xml fonte httpswwwoficinadanetcombrartigoo_que_e_web_service eu não consegui visualizar o que seria um web service mas afinal o que ele é alguém poderia elucidar com alguma aplicação que ele possa ser utilizado talvez isso melhore no meu entendimento sei que em no primeiro o objeto passado como argumento para uma função é copiado e no segundo não também sei que é extremamente incomum em linguagens modernas a passagem de objetos complexos por valor enquanto tipos primitivos números caracteres booleanos frequentemente o são mas o que exatamente são esses modos de passagem leio muito que em java as referências são passadas por valor e vejo também que há linguagens modernas como c que dão mais opções de passagem de parâmetros que a maioria das linguagens orientadas por objeto o que gostaria que fosse explicado é na passagem por valor o argumento é copiado ok mas o que exatamente é copiado o objeto inteiro inclusive todas as suas referências o que constitui uma passagem por referência se a linguagem possui ponteiros passar um ponteiro para um objeto como argumento significa que se está passando o objeto por referência o que significa exatamente passar uma referência por valor volta aqui o primeiro item o que da referência está sendo copiado já que a passagem é por valor para não ficar muito amplo se é que já não está peço que as respostas se foquem nas linguagens cc tradicionais que introduziram a muitos de nós os conceitos envolvidos java que pelo menos pra mim marcou a mudança de paradigma entre raciocinar em termos de ponteiros e em termos de referências e talvez c linguagem moderna que se não me engano trouxe mais flexibilidade nas formas de manipular objetos sempre quando tenho problema de permissões de pastas no meu sistema operacional ubuntu eu costumo dar a permissão para a determinada pasta costumo fazer isso no ambiente de desenvolvimento em algumas situações já dei esse tipo de permissão em ambiente de produção em um servidor linux onde rodo minhas aplicações escritas em php por exemplo quando tive um problema específico de escrita de arquivos de upload na pasta de um determinado sistema eu dei a permissão nesta pasta porém vejo sempre recomendações de que devemos usar a permissão ou porque usar é perigoso mas em que sentido isso seria perigoso por que os programadores mais experientes sempre recomendam a utilização de outros valores para permissões de pasta em produção ao invés de por exemplo já ouvi dizer que uma pessoa pode ter problemas com ataques a uma aplicação web caso haja uma permissão de escrita em determinada pasta isso é verdade seria legal também se a resposta pudesse explicar melhor sobre as diferenças entre e quais as vantagens e desvantagens do uso de índices em base de dados sempre usei o independente da situação e sempre funcionou raras vezes que tive que usar um dos outros e nessas vezes fiz por orientação de alguém e não por saber exatamente o que eu tinha que fazer então qual a diferença entre os tipo de this quando devo usar um e quando devo usar outro muda de alguma forma a performance do código já vi gente recomendando nunca usar underscore em html e css ao invés disso deveríamos dar preferência para exemplo por que existe essa recomendação estou desenvolvendo este programinha que deve receber uma expressão do usuário e fazer o cálculo ex insira uma expressão o meu problema é como tratar a expressão enviada pelo usuário me foi recomendado usar algo como o mas não achei nada equivalente na linguagem c alguém tem algo equivalente para medir a performance e comparar dois códigos em eu faço da seguinte maneira no console do navegador explicação rápida basta iniciar um contador em milissegundos rodar o código que eu quero testar várias vezes etc dentro de um loop e anotar o tempo depois é só fazer o mesmo procedimento para o outro código a ser testado e comparar os tempos para ver quem tem o melhor desempenho para o navegador em questão mas e em php será que o método a seguir é o mais recomendado baseado em httpphpdzonecomarticlesthingsyoushouldchecknow em c temos propriedades com getters e setters o que facilita a inserção e leitura de dados em um objeto quando alguma lógica deve ser realizada em outras linguagens como o java essas tarefas são feitas com métodos quando precisamos de lógica para ler um campo ou para escrever nele usamos métodos e coisas do tipo essa abordagem com métodos também pode ser feita no c e é ai que ta minha dúvida quais são as vantagens e desvantagens no c dessas duas abordagens minha preocupação com essa questão é a seguinte estive resolvendo exercícios de orientação a objetos e notei que a grande maioria dos métodos que os exercícios pedem pra codificar podem se tornar propriedades no c o problema é que isso faz a classe parecer anêmica ou seja tendo só propriedades e sem lógica dessa forma existem diferenças entre as duas abordagens existe algum tipo de recomendação sobre qual técnica usar edição a resposta do maniero é muito boa e esclarece algumas coisas com relação a esse tipo de decisão mas vou adicionar alguns exemplos para ilustar o que estou falando só pra completar um ponto os exemplos são de exercícios em java um dos exercícios que resolvi pedia uma classe com métodos e para decidir se o ano é bissexto os métodos claramente em c poderiam ser implementados como getters acontece que o também poderia afinal ele devolve uma característica do objeto invés de executar um comportamento claro que existe uma lógica pra verificar isso mas me pergunto se isso não seria uma propriedade outro exercício pede uma classe que deve ter métodos para inserir a alternativa da próxima questão para retornar o número de acertos para retornar a nota e para comparar com outra prova novamente os métodos e me parecem naturalmente propriedades eles são características da prova existe novamente uma lógica pra verificar isso basicamente é preciso comparar cada questão com os dados provenientes de um gabarito informado no construtor mas por conta de parecerem características achei que deveriam ser propriedades acontece que tirando esses métodos e transformando em propriedades essas classes ficam quase sem funcionalidades e não só elas mas muitas outras que já vi por ai isso indicaria o problema que ouvi dizer se chama modelo anêmico dessa forma a decisão de algo como propriedade não depende somente de ser uma característica do objeto depende também de haver ou não uma lógica a ser utilizada para ler ou escrever aquele dado em casos então como esses que citei é mais interessante então realmente utilizar métodos gostaria de saber se existe alguma forma simples de realizar um upload de arquivos via ajax json se houver qual seria quais são os principais motivos na prática que levam desenvolvedores a aplicar a prática de desenvolver voltado para interface e não para implementação eu já ouvi esse termo da boca de algumas pessoas mas não costumo ser bom com esses termos técnicos o que seria um código legado está relacionado a código ultrapassado tenho uma tabela com uma coluna não posso definir como chave primária em um sistema que recebe muitas notificações antes verifica com um para ver se aquele código já existe na tabela se não existir ele dá o e se existir ele faz o acontece que esse sistema recebe muitas notificações via onde muitas delas acontecem ao mesmo tempo para o mesmo código muitas vezes o sistema mesmo dando o antes acaba inserindo códigos duplicados na tabela não sei como é que o mysql trata isto pelo que não sei se é seguro fazer um verificador antes do presumo que exista uma espécie de fila de consultas e que a mesma vai sendo processanda uma a uma como que um código acima poderia permitir inserir dois registros com códigos iguais imagina uma requisição com uma notificação acontecendo ao mesmo tempo exatamente ao mesmo tempo qual a melhor maneira de contornar isso sem uso de chave primária tenho uma página e nela o conteúdo que quero imprimir criei um comando em javascript porém esse comando faz imprimir a página inteira existe alguma forma de ser impresso apenas o conteúdo de uma  o que é oauth qual sua finalidade o que ele faz existe outras tecnologias alternativas a ele já ouvi falar sobre uma técnica assim chamada e qualquer coisa sobre explorar colisões de hashes mas como funciona essa técnica e onde ela pode ser aplicada é comum encontrar uma mensagem de erro que diz desculpe você não tem permissão para acessar esta função entre em contato com o administrador para obter ajuda é apropriado um pedido de desculpas neste caso é um caso claro que o problema não é culpa do sistemaplataformaprovedor do serviço então por que deveria existir esse pedido de desculpas isso é importante tem alguma fonte de informação autoritativa que justifique o seu uso note que não estou perguntando se você usa de um jeito ou de outro e o que você acha que é certo respostas com opiniões sem base são inválidas e devem ser votadas negativamente informações que indiquem com clareza e justificativa de qual o motivo do uso ou não são construtivas o que são esses tais de stack e heap que tanto se fala em gerenciamento de memória isso realmente são porções da memória como algumas pessoas falam ou é apenas um conceito abstrato para facilitar o entendimento da forma como se gerencia a memória algum deles é mais rápido que o outro se um é claramente mais rápido por que existe o outro faz diferença se estou usando por exemplo assembly c java ou javascript windows ou linux isso é controlado pela linguagem ou pelo sistema operacional enfim queria entender melhor esse conceito que parece ser mal compreendido pelos programadores seria muito útil uma explicação para quem está começando ou aprendeu isso de forma errada nunca tinha visto antes a utilização desta diretiva mas os plugins jquery mais maduros quase todos usam gostaria de saber quando usar o mesmo qual a finalidade dele e como esses dias me deparei com um trecho de um sql que tinha o comando eu nunca tinha visto isso antes e pelo pouco que pude ver pareceme que isso seria para travar a tabela durante a inserção ou atualização mas eu queria poder entender melhor o funcionamento como funciona gostaria de alguns exemplos quando eu devo usar esse comando devo evitar usar esse comando em alguns casos existe algum risco eu geralmente uso porque aprendi que era o mais correto a atribuição de eventos da seguinte forma no entanto vejo muitos desenvolvedores utilizando a seguinte sintaxe apesar de terem me falado que o é o mais recomendado eu não entendi direito o porquê então na prática qual a diferença de usar um ou outro dúvidas como é feita a randomização pelo computador qual algorítimo ou qual base matemática o computador usa para gerar esses números por exemplo no javascript utilizo o ele me retorna diferentes números todas as vezes como por exemplo e etc é possível observar em alguns casos que a separação de tarefas em múltiplas threads não dá ganho e até torna uma aplicação mais lenta que o uso em thread única não deveria sempre ter ganho de performance quando tem vários processadores não necessariamente chips o ganho ocorre em alguma situação quando só existe um processador ou core na máquina é possível paralelizar qualquer tarefa e obter ganho de performance qual a diferença entre e que tipo de situação devo utilizar uma invés de uma cada módulo do projeto possui um e um quais são as funções desse artifacts nesse processo de deploy e qual a função do jenkins nesse contexto entendo que deploy é um processo de montar esse war pois toda vez que algo está errado recebo um build failed in jenkins sei que essa pergunta é bastante corriqueira e é fácil encontrar a resposta porém eu gostaria de uma resposta funcional eu já vi bastante coisa sobre mas nada entra na minha cachola gostaria de algo mais prático algo que realmente faça sentido sempre que busco estudar sobre me deparo com um monte de fórmulas doidas e explicações superficiais poderiam por favor me explicar como implementar isto na prática ou pelo menos um link com um exemplo funcional sem aquele monte de fórmulas doidas que sei que é necessário mas que não ajuda muito de início quero uma explicação simples de como funciona na prática e não esse monte de o neurônio x faz isso o evento de ativação de onde vem o neurônio como implementar o que é esse tal evento de ativação onde são guardados os dados obtido tem um banco de dados especial isso que eu não consigo entender parece que já começam explicando do final  quais as principais diferenças entre esses tipos de web service em quais casos se aplicam existe alguma diferença de performance ou será que isto é apenas gosto não quero se você gosta mais de um do que outro não quero saber porque as pessoas gostam mais de uma ou outra não quero achismos ou respostas rasas não quero saber razões históricas quero saber de forma fundamentada o que se ganha ou se perde em cada uma das abordagens exemplos de linguagens sensíveis c c c java javascript python ruby objective c exemplos de linguagens insensíveis sql cobol basic acho que todos os dialetos php bom sei lá em parte e clipper e dialetos esta pergunta tem relação com essa outra só para deixar claro para quem não entende do assunto estou falando da sintaxe da linguagem falo das palavraschave dos identificadores alguém sabe relacionar as diferenças entre mysql e sql server inclusive usando ou se tiverem algum link que liste as diferenças seria legal exemplo como seria o equivalente em sql server estou aprendendo php e pelos exemplo que tenho visto na internet existe uma mistura na codificação dos programas de orientação a objeto e procedimentos estruturados isso é mesmo comum ou estou equivocado se php é uma linguagem orientada a objetos até que ponto é interessante ou não essa mistura quando estou escrevendo programas normalmente eu escrevo os nomes de variáveis em inglês por exemplo por vários motivos nomes em inglês não têm acentos então não fica um negócio estranho como os nomes normalmente são menores ref o código poderá um dia ser mantido por alguém que não fala a língua portuguesa as apis quase sempre são todas em inglês porém há outras coisas que eu prefiro manter em português principalmente se for do contexto do sistema comentários nomes de classes ou tabelas por exemplo por esse motivo algumas vezes os nomes em português se misturam com inglês por exemplo pode haver uma enquanto é perfeitamente compreensível isso me parece estranho levandose também em consideração que todo programador deve ter noções básicas de inglês qual é o método preferido para a escolha do idioma que eu devo usar ao programar quais as vantagens de escolher um método ou o outro eu estava dando uma olhada no códigofonte de uma library conhecida do php chamada tratase de um template engine com sintaxe própria e me deparei com classes interfaces e métodos como e dei uma pesquisada e percebi que se tratava do termo análise léxica apesar de ter entendido algumas coisas fiquei confuso em outras por exemplo estou acostumado a ver o termo ou quando se trata em transformação de um determinado dado em outro dado o que seria a análise léxica análise léxica e parsingparser se trata das mesmas coisas ou na verdade são coisas diferentes desculpem se estou confuso na pergunta mas creio que a comunidade me ajudará com uma boa e esclarecedora resposta alguém poderia me ajudar a entender porque o postgresql errou varias estimativas de custos em um experimento que fiz estou fazendo um experimento com queries do benchmark tpch para verificar o desempenho de índices nas consultas de consultas somente consultas foi verificado que o otimizador utilizou índices secundários em um outro experimento foram executados as queries citadas num banco de dados sem a presença de índices visando identificar se o tempo de execução aumentaria devido a ausência de índices mas para minha surpresa o experimento sem a presença de índices na base de dados foi mais rápido do que utilizando os índices para as consultas gostaria de entender porque o parametro custo total errou em todos os casos ou seja todas as consultas que gastaram mais tempo indicou um custo menor em todos os casos que esta incorreto na minha opiniao vejam abaixo que a primeira linha referese a query que utilizou índice o custo foi menor do que o custo da mesma query que não utilizou índice também vejam o tempo gasto a query que utilizou índice gastou minutos enquanto sem o uso de índices demorou segundos esse comportamento se estendeu aos outros casos minha pergunta é porque o custo total execution plan calcula incorretamente o custo para todos os casos em que se tem índices por questoes de uso de um patch especifico do meu projeto de pesquisa estou utilizando uma versao antiga do ano eu não modifiquei os parâmetros padroes somente o random_page_cost para pois estou utilizando um disco ssd onde o custo de acesso aleatório é menor que em um hdd segue o que esta no meu postgresqlconf será que algum destes parâmetros interferiram para acontecer esse erro nas estatísticas de custos segue a query e o seu explain analyse com e sem índices qualquer dica é bem vinda o código de endereçamento postal cep ou zip code dos endereços de uma cidade garantem maior confiabilidade aos dados de endereço e à resolução de geolocalização por endereço lembrando que endereço não se presta somente ao envio de carta pelo correio é um complemento essencial ao cadastro de uma pessoa física localização mesmo que aproximada de onde reside ou jurídica endereço da sede da empresa presente em bases de dados de crms erps etc e padrões tais como vcard schema e centenas de outros a pergunta é onde estão os dados da minha cidade e pode ter uma resposta específica para cada país da língua portuguesa assim como eventualmente para cada cidade pois as cidades tem certa autonomia sobre o tema como tomei como exemplo a cidade de campinas fica a sugestão de restringirmos discussões a campinas no caso do brasil os dados não estão nem sob a responsabilidade do ibge nem sob a responsabilidade da prefeitura apesar da prefeitura ser a responsável pelas leis de batismo de cada nome de rua da cidade exemplo de rua de campinas notas o geonames tem se empenhado em construir um esboço dessa base de dados mas não resolve o openstreetmap parece ter uma parte dos dados de fato o ideal para o cep é telo espacializado dada uma coordenada geográfica da cidade retornar o cep da coordenada o diretório nacional de endereços dne é a base de dados mantida pela empresa brasileira de correios e telegrafos ect mais conhecida como correios do brasil para validar endereços postais e determinar ceps ela não pode estar numa base apoiada pelo ckan ou qualquer outra iniciativa de dados abertos como faço um javascript que mostreesconda uma div em html tentei tipo mas isso não funcionou estou lendo um livro de javascript chamado javascript the good parts e nele em vários momentos o autor fala que não se deve utilizar variáveis globais porque elas são do mal por que elas são consideradas do mal que tipo de problemas elas podem causar vejo em muitos códigos e até mesmo arquiteturas a palavra callback vejo que é em funções javascript mas o que é como é usada por que gostaria de um exemplo de uso real eu sei tem a pergunta qual a diferena de arquitetura e engenharia de software ali já responde em parte ainda que eu não tenha ficado satisfeito com as respostas que até são boas se puder fazer algo melhor ajudará caso contrário deixa o que já tem lá especificamente a arquitetura define o que mas acho que o que separa cada função destas disciplinas do título não fica claro por exemplo do que trata a ciência da computação que não trata na engenharia de software ou viceversa programação e codificação parecem a mesma coisa mas é mesmo o mesmo pode ser dito de análise e design pra mim parecem coisas diferentes análise talvez seja um estranho nisso ficaadicapraresponder eu vejo estas coisas como uma hierarquia ou fases do processo de desenvolvimento de software como um todo por isso acho que todas estão relacionadas diretamente por isso fiz em uma pergunta só então quero entender a linha que determina onde começa uma e outra o que cada uma define não quero detalhes só linhas gerais se for necessário detalhes de cada função farei perguntas específicas note que quero saber sobre as funções efetivamente exercidas não sobre cargos eu sei que uma mesma pessoa pode ter mais de uma função e que o cargo que ela ocupa não indica nada que ela pode ou não fazer já conheço a wikipedia pode colocar links para complementar mas uma resposta boa vai além do que está lá inclusive não sei se é uma fonte tão confiável assim nesse assunto não quero opiniões precisa de algum fundamento caso contrário considerarei a resposta errada estou começando a tentar usar o kanban na prática no caso eu trabaho sozinho então estou tentando buscar essa resposta em um contexto no qual não há equipe disponível muito menos processos mais formais encontrados em empresas maiores ao utilizar metodologias ágeis é comum tentar fazer estimativas uma técnica que recentemente conheci é utilizar pomodoros e a sequencia de fibonacci com essa técnica estimamos o tempo em pomodoros um pomodoro se refere a minutos de trabalho e minutos de descanso para estimar uma tarefa usamos os números da sequência de fibonacci uma tarefa pode ser estimada em pomodoros e assim por diante o problema que eu vejo é nesse caso temos uma unidade de tempo específica para usar e temos uma sequência de números permitidos para essa unidade de tempo a nossa disposição de qualquer forma é necessário ainda olhar para cada tarefa e dizer essa tarefa requer x unidades de tempo isso parece ser realmente muito complicado por vários fatores certas vezes pode se tratar de algo que nunca fizemos antes e não temos ideia de quanto tempo aquilo demora as vezes achamos que algo é fácil e rápido e no fim não era tão simples quanto pensávamos podem ocorrer imprevistos e fazer demorar mais isso se não aparecer uma complicação tão grande no meio do caminho que acabe emperrando o desenvolvimento esses são só alguns fatores que eu pensei que complicam isso para mim que estou começando agora com as metodologias ágeis em prática mesmo eu realmente não consigo ter a menor ideia de como atribuir x unidades de tempo para cada tarefa na teoria parece simples na prática não é tão simples assim dessa forma como fazer estimativas de forma correta ao utilizar metodologias ágeis como contornar essas complicações que eu citei qual é a métrica usada para atribuir um certo número de unidades de tempo a uma tarefa o que significam e quais as melhores práticas para usálos o que é a complexidade de um algoritmo e quais as formas de medila big o big theta estou estudando programação de nodejs realtime e me surgiram algumas dúvidas a respeito de sockets de rede não achei nada detalhadamente explicado dai resolvi abrir a questão o que é um socket de rede e um websocket qual a diferença entre os dois uma comunicação http baseada em requisiçãoresposta sem ser em tempo real é dada através de um socket qual é o papel do protocolo tcp nos sockets e websockets precisei desenvolver uma rotina que pegasse a cotação de venda do dólar e inserisse em uma tabela no banco o banco central disponibiliza um webservice onde é possível fazer as consultas para isso basta informar um código e ele tornar a cotação para você o problema que tenho é em conseguir a documentação que informe o que cada código retorna não encontrei nada no site do banco central quais códigos de moeda esse serviço aceita onde conseguir essa documentação eu já li o que reactive programming programao reativa a resposta parece boa mas é teórica entendi o que é mas com aquilo não sei o que fazer onde deve ser usada tem um exemplo simples qual é o mecanismo concreto usado para isto funcionar concreto até onde pode ser entendo que em programação tudo é abstração a não ser os elétrons excitados só funciona entre agentes locais ou um deles pode ser remoto é por causa da internet só funciona se for algo inteligente interligada em paralelo não linear se for o que é esse inteligente aparentemente tem que ter robustez para ser classificada assim precisa rodar em vários servidores ou é uma opção é um paradigma é um framework posso usar em net no contexto do desenvolvimento de software o que é um jitter cada vez se fala mais nisso e várias linguagens estão usando a tão falada compilação jit no que ele difere de um compilador o que acontece quando se faz um rebase na seguinte situação branch master com commits a b e c após fazer o commit c criei um novo branch com o nome design fiz um commit d no branch design e voltei ao branch master fiz um commit e no branch master atualmente o meu histórico de commits é master a b c e design a b c d após fazer o rebase no branch master o histórico ficará da seguinte forma master a b c d e design a b c d se a resposta é sim qual o objetivo de refazer o histórico quando uma das vantagens do git é poder ver o histórico tal como ele é se posso manipular o histórico então posso não ver o que realmente aconteceu frequentemente é dito que pegar todas as colunas de uma tabela através do comando é uma má prática qualquer recomendação sem explicação não é útil então se é uma má prática deve haver um jeito de usálo adequadamente deve haver uma situação em que não cause problemas se fosse sempre ruim provavelmente nem existiria a possibilidade de uso quais problemas são causados pelo seu uso estes problemas ocorrem sempre há como contornar ou há situações que não faz diferença as recomendações são válidas para qualquer banco de dados quero entender o que significa cada item de no java e quando devem ser usadas um compilador é programado em qual linguagem todos os compiladores de uma linguagem são iguais ou pode existir um melhor que outro com o entrando no estado deprecated a documentação php recomenda o uso do pdo e mysqli qual vocês recomendam para o uso pdo parece ser mais indicado para trabalhar com orientado a objetos só que ao mesmo tempo vi benchmarks que mostram que a performance usando o mysqli teria uma performance maior a performance poderia impactar muito se comparar ao uso com o pdo desde que lançou o html tenho notado que diversas tags diferentes começaram a surgir em todo lugar que tentei estudar sobre o assunto sempre via a tal da expressão semântica entendi que essas tags na verdade não têm uma habilidade especial mas é apenas como um contexto de organização me surgiram algumas dúvidas e preocupação quanto a essas tags pois como eu não tive paciência de aprender o que cada tag significava eu continuei a usar a boa e velha essas tags semânticas ajudam a melhorar o seo de um site usar somente divs como eu costumo fazer sempre é prejudicial ao seo do site há ainda uma outra dúvida que gostaria de esclarecer é em relação à algumas tags que não são tão óbvias para mim por exemplo olhando a tag ou parece que é obvio que se trata do cabecalho e rodapé do site porém algumas vezes já vi um e um em cada por sua vez não entendi para que serve pois cada tutorial que vi explica uma coisa de um jeito diferente talvez para mim a única tag que ficou óbvia o seu uso é a então vou fazer mais alguma perguntas qual é a finalidade semântica das tags e posso usar um e um por página ou posso usálos dentro de cada e se sim por quê existem diferentes métodos para concatenar strings como concatenando com o operador formatando utilizando o stringbuilder utilizando o método concat de string em que situação eu devo utilizar cada uma o que pode ser mais eficiente em cada caso wikipedia sistema de computadores interligados em rede através da internet que cooperam de modo transparente para fornecer conteúdo cdn são geralmente implantados em vários locais os benefícios incluem a redução dos custos de largura de banda melhorando os tempos de carregamento da página ou aumentando disponibilidade global de conteúdo baboo uma cdn é uma rede de distribuição de informação e dados que permite fornecer conteúdo na web de forma rápida para vários usuários independentemente de onde essa pessoa se encontra o que o sistema faz é distribuir um mesmo conteúdo em diversos servidores para direcionar esses dados de acordo com a proximidade de servidor do usuário o serviço funciona como um cache dos arquivos não dinâmicos do site em diferentes datacenters de localidades dispersas em todo o mundo stackoverflow cdn é simplesmente uma rede de servidores que replicam seus arquivos binários de modo que eles são servidos a partir de locais geograficamente próximos cdn é simplesmente um bando de discos que estão espalhados por todo o mundo em diferentes datacenters você envia o seu arquivo a um desses discos e depois diz de onde seus clientes estão vindo ela irá então copiar o mesmo arquivo para outros discos que estão mais perto de seus clientes distribuição de servidor único vs cdn wikipedia dito isso vamos às questões tem um bom tempo que venho pesquisando sobre cdns para um projeto com grande demanda de conteúdo estático não queria recorrer a nenhum cdn free tão pouco contratar um akamai então pensei em me aprofundar no assunto para pesar o custo benefício de montar algo próprio supondo que eu escolha um dc no brasil e um nos eua para um cdn nas américas a identificação da requisição para buscar o dc mais próximo é feita no server ou no php feito o upload de uma imagem ela é replicada instantaneamente para os dc ou somente quando houver demanda local apache e linux bastam ou há necessidade de instalação de outras ferramentas próprias para um cdn tendo meu domínio principal com links para neste posso ter o php trabalhando com o geoip para saber a localização da requisição mas como demandar o dc correto me parece que dessa forma o processo é mais dispendioso há ferramentas próprias não espero um tutorial só uma luz sobre alguns pontos eu realmente já procurei bastante mas tudo é muito superficial não encontrei nada que se aprofunde na criação de um cdn a maioria explica como funciona ou explana as diferenças entre cdn e um cloud alguém que esteja a aprender a linguagem novato ou experiente pode nunca se ter cruzado com enumerações de java já li por várias vezes que são úteis por exemplo para implementar os padrões singleton com mais garantias de visibilidade entre threads qual é a utilidade de se aprender e usar as na programação do diaadia no jep vem se discutindo a definição do g garbage first collector como o garbage collector padrão no java nesse período venho ouvindo muitas citações sobre o g mas muito pouco material tem detalhes mais profundos ou comparações como por exemplo com o cms concurrent mark and sweep o qual seria hoje o gc padrão em aplicações em produção com requerimentos mínimos de performance visto que o gerenciamento de memória automático provido pela jvm é um dos pontos cruciais da plataforma gostaria de uma visão mais profunda do porquê prós e contras da adoção desse novo garbage collector além de um paralelo com as implementações existentes o que é memoization em quais circunstâncias pode ser útil e como utilizar se possível ilustrar com um exemplo simples iniciar em programação nem sempre é fácil além de termos que aprender a escrever o código existem dezenas de termos tecnologias entre outras coisas que precisam ser estudadas visando ajudar quem está começando minha pergunta é o que é uma linguagem de programação uma ide e um compilador qual a relação entre esses itens hoje é comum os compiladores das linguagens de programação permitirem que o arquivo de código de seus programas aceitem código com caracteres unicode isto é útil especialmente para quem usa o português e outras línguas que fogem do ascii para criar strings com acentos e melhorar os comentários em nossa língua mas é incomum o uso de identificadores com acentos no código há até mesmo quem recomende que não seja usado eu mesmo não costumo usar mas me parece que dar um sentido melhor nestes casos só um exemplo isolado sem definição de linguagem existe algum motivo técnico para evitar acentos e outros caracteres unicode em identificadores se não existe problema técnico existe algum motivo prático para evitálos depende da linguagem de programação considerando que ela suporte bem acentuação em plenitude importa se o código é proprietário e desenvolvido por uma equipe pequena e fechada ou se é desenvolvido amplamente possivelmente de forma aberta existe algum cuidado específico que devemos tomar quando usamos acentos em identificadores quando a utilização de caracteres além do ascii é abuso estou a usar uma development board da microchip explorer com o como master e o arduino como slave o pic está a enviar tudo direitinho mas por alguma razão o arduino envia para todos os data apenas manda no início quando se envia o address código pic master código arduino slave estou fazendo essa pergunta porque eu já cansei de ver coisas como requisitos para determinado cargo de programação é necessários saber as linguagens php javascript css e ajax já aprendi que não é uma linguagem de programação é claro porque ninguém programa em ajax mas se tratando da questão dos termos como deveríamos classificar o recurso tecnologia como deveria ser denominado eu gostaria de saber qual é a diferença entre os comandos e no software de versionamento git quais as principais diferenças entre as engines e e qual a situação mais apropriada para o uso de cada sei que não suporta mas suporta enquanto no é o contrário pelo menos até a versão do mysql por que um sgbdr rdbms tem como padrão uma engine que não oferece meios para relacionar as tabelas eu vejo cada um usando de um jeito eu mesmo vario a forma em alguns momentos e todos funcionam mas qual é o certo depende de versão do html ou do browser sendo um programador net mas com uma antiga paixão por c que cresceu desde o c estive com essa curiosidade eu sei que o net pode ser extendido com o ccli mas eu gostaria de saber o que o c puro não consegue fazer enquanto o c consegue nota eu não quero opiniões aqui e também não quero iniciar uma guerra das chamas eu quero fatos eu só quero saber o que o título da pergunta diz não quero saber se você prefere uma linguagem ou outra porque é mais fácil fazer x nela atualização depois de respostas e algumas horas estou julgando a do utluiz como a que melhor respondeu a minha pergunta portanto estou marcando como aceita a do fláviogranato também é boa mas achei a do utluiz mais correta as duas outras respostas falam principalmente sobre o framework e a performance que são óbvios para quem não é novato no assunto não estou dizendo que foram más respostas só não foram respostas boas para essa pergunta fora o fato que o framework é bem estável e performance não é um assunto crítico por exemplo estou fazendo um efeito aqui mas não estou entendendo esse sinal de que tem no framework resultado final \\r \\r \\r \\r \\r \\r \\r o que é url o que é uri são sinônimos em geral as pessoas usam quase sempre url são a mesma coisa tem mais alguma coisa relacionada eu preciso fazer o upload de uma foto e em seguida colocala em um modal para o usuario fazer um recorte proporcional uma breve pesquisa na web encontrei este plugin jquery jcrop ele parece me fornecer as coordenadas para recortar a imagens mas não faço ideia de como integrálo com php se alguém tiver um exemplo pratico sera muito bem vindo existe uma forma clara de determinar quando um projeto de desenvolvimento de software deve ser conduzido usando uma metodologia waterfall ou usar scrum quais os critérios devem ser observados para escolher um ou outro creio que a maioria aqui conhece a diferença entre e select readonly o não se aplica corretamente para o \\r \\r \\r \\r \\r como podem ver eu ainda consigo alterar o valor do select disabled o que não ocorre com o que de fato bloqueia o select \\r \\r \\r \\r \\r aqui eu não consigo editar mas ele também são é enviado pelo formulário objetivo eu necessito enviar o conteúdo do select pelo formulário mas o usuário não pode editálo seu conteúdo é auto selecionado por outros fatores duvida como bloquear o mas ainda enviar seu valor pelo seria possível sem uso de js adendo desta forma eu tenho o que quero mas gostaria de um método mais elegante aqui ele ainda consegue ver as opções \\r \\r \\r \\r \\r estive me questionando porque alguns sistemas exigirem senhas tão fortes exemplo minimo de caracteres maiúsculas e minusculas números caracteres especiais em vários locais dizem que senhas fortes garantem uma maior segurança do sistema e que ajudam a prevenir ataques de algorítimo como o algoritmo capaz de detectar senhas curtas em contrapartida descobrir o algoritmo bancos por exemplo usam senhas com dígitos e essa senha são números penso que senhas fortes e complexas dificultam e muito o usuário no login pela dificuldade em lembrar qual senha criou porque usar senhas tão complexas isso não dificultaria o usuário a lembrar essa senha em uma possível volta ao sistema porque uma senha sem esses critérios mencionados acima são consideradas fracas estou desenvolvendo uma aplicação onde a partir de uma senha fornecida pelo usuário um par de chaves autenticação e criptografia é derivado a senha em si nunca é enviada ao servidor somente a chave de autenticação gostaria de oferecer ao usuário a opção do navegador lembrar sua senha é possível fazer isso via javascript e de forma segura li diversas referências por exemplo essa pergunta no soen e pelo jeito não há um meio consistente entre os diversos browsers ex o chrome só oferece para salvar a senha no retorno da submissão do formulário e só se a própria senha tiver sido submetida o que não é o caso aqui pois a senha não deve nunca sair do browser estou procurando por alternativas é possível forçar o browser a salvar um campo arbitrário com o mesmo nível de segurança que ele salvaria uma senha submetida ainda que essa segurança não seja assim tão elevada de preferência satisfazendo essa restrição adicional de não enviála ao servidor se não dá para salvar junto com as senhas haveria uma solução igualmente boa considerei por exemplo a opção de usar apesar dos avisos enfáticos que não se deve armazenar informações confidenciais no entretanto não vejo como usálo possa ser pior do que salvar a senha no browser uma vez que alguém com acesso local ao computador também poderá ler essas senhas a única desvantagem que vejo é que ele é mais vulnerável a xss o que acredito não ser necessariamente o caso com as senhas salvas do jeito normal sem envolver javascript ou estou enganado nota conheço a webcrypto api sendo desenvolvida no futuro quando a mesma estiver consolidada e amplamente suportada ela pode vir a se tornar a solução ideal entretanto estou analisando alternativas a curto prazo e não a de criptografia toda a criptografia ocorre no lado cliente de modo que nem o servidor tem acesso aos dados do usuário por essa razão a senha original deve ser mantida confidencial inclusive do servidor mais detalhes do meu caso particular aqui assuma como premissa que o usuário optou por armazenar a senha tenho consciência que esse é um tradeoff segurança vs conveniência e gostaria de oferecer ao usuário diferentes opções a respeito em vez de impor isso a ele uma discussão aprofundada sobre segurança seria offtopic aqui mais apropriada para securityse por exemplo essa pergunta referese somente a um problema de programação comandar o browser para salvar uma senha através dos seus mecanismos usuais atualização por exigência popular aqui vai o meu threat model modelo de ameaças e outros requisitos particulares a principal preocupação é confidencialidade na nuvem ou seja ainda que o código da minha aplicação javascript tenha de vir necessariamente de uma fonte confiável caso contrário nada do que eu fizesse iria garantir a segurança o servidor onde os dados são armazenados é menosqueconfiável ie há o interesse de se esconder a infomação confidencial mesmo dele ainda que não se presuma malícia a priori a resistência contra acesso local não autorizado não é uma preocupação assumese que qualquer um com acesso físico à máquina está autorizado a acessar esses dados e se pra um usuário particular isso não for verdadeiro ele será instruído a não salvar sua senha dessa maneira a facilidade de uso é um requisito de extrema importância instalar plugins java webpg etc gerenciadores de senha lastpass keepass etc usar um browser ou so particular muitos tem integração nativa com chaveiros seguros ou mesmo um servidor proxy local poderão ser oferecidos como opção para os indivíduos mais conscientes em segurança mas não devem ser obrigatórios o sistema deve ser usável somente com os recursos nativos do navegador independente de plataforma estou postando isso aqui porque tenho recebido demasiadas sugestões de não fazer isso ou fazer aquilo em vez disso mas minha pergunta original não é sobre segurança e sim programação se é ou não possível usar o mecanismo nativo do browser de lembrar as senhas cada um tem um mas a funcionalidade é equivalente programaticamente tenho percebido o uso frequente do termo em alguns fóruns e fiquei me perguntando qual o seu significado e de onde surgiu tal expressão tenho um problema de maratona de programação e quero saber se a minha solução está certa assim como sugestões de melhoria problema um grupo de formigas é realmente orgulhoso porque elas construíram uma magnifica e grande colônia no entanto o enorme tamanho tornouse um problema porque muitas formigas não sabem o caminho entre algumas partes da colônia elas precisam desesperadamente da sua ajuda a colônia de formigas foi feita como uma série de formigueiros ligados por túneis as formigas obsessivas como elas são contaram os formigueiros sequencialmente como elas construíramlos o primeiro formigueiro numerado de não requer qualquer túnel mas para cada um dos formigueiros subseqüentes de a as formigas também construiram um único túnel que ligava o novo formigueiro para um dos formigueiros existentes claro este túnel foi suficiente para permitir que qualquer formiga fosse a qualquer formigueiro previamente construído possivelmente passando por outros formigueiros em seu caminho mas elas não se incomodaram em fazer túneis extras e continuaram construindo mais formigueiros seu trabalho é dada a estrutura da colônia e um conjunto de consultas calcular para cada consulta o caminho mais curto entre pares de formigueiros o comprimento de um caminho é a soma dos comprimentos de todos os túneis que precisam ser explorada entrada cada caso de teste se estende por várias linhas a primeira linha contém um inteiro representa o número de formigueiros na colónia cada uma das linhas seguintes contém dois inteiros que descrevem um túnel linha para contém e indicando que o formigueiro i estava conectado diretamente ao formigueiro com um túnel de comprimento a próxima linha contém um inteiro representando o número de consultas que se seguem q cada uma das próximas linhas descreve uma consulta e contém dois inteiros e distintas que representam respectivamente os formigueiros origem e de destino o último caso de teste é seguido por uma linha contendo um zero saída para cada caso a saída de teste com uma única linha números inteiros cada um deles sendo o comprimento de um caminho mais curto entre o par de formigueiros de uma consulta escrever os resultados para cada comando na mesma ordem em que foram dadas as consultas no input minha solução atual suponha a tabela e o campo em uma consulta sql qual a melhor forma de se calcular a idade de uma pessoa em formato inteiro na linguagem tsql do sql server ao fazer um select reparei que os dados com campo não são recuperados usando o operador por que isso acontece é igual a um vejam que na consulta abaixo só a primeira linha é retornada sqlfiddle já encontrei em vários lugares este termo vanilla js ele parece ser citado como um framework mas nos códigos onde ele é citado e no próprio site o código apresentado é puro javascript qual diferença de linguagem compilada para linguagem interpretada e quais as vantagens de uma para outra nesta pergunta aqui eu cito que java é uma linguagem interpretada pois sempre entendi dessa maneira mas fui corrigido neste comentário de que java não é mais interpretado assim fiquei com algumas dúvidas o que é uma linguagem interpretada então java já foi interpretado mas não é mais é isso mesmo acabei de ler esse artigo e nele há esta expressão avaliando isso no interpretador bom por que vejo muita confusão no site sobre os termos no contexto de segurança de dados o que seria encoding encrypting e hashing e em que contextos devem ser usados cada um em especial codificar serve como medida de segurança ou é usada para outra coisa exemplo usar base por favor leia e entenda a pergunta o assunto tem um contexto específico em php quando possuo um com valores duplicados é possível obter apenas valores únicos através da função exemplo porém eu precisei fazer algo parecido em javascript mas não encontrei uma função que fizesse isso nativamente qual é o meio mais simples em javascript de se obter os valores únicos de um vou deixar esse array de exemplo \\r \\r \\r \\r \\r gostaria de saber o que são e como funcionam os número das versões de softwares como por exemplo o que significa existe algum padrão ou recomendação para versões de aplicações web uma das primeiras coisas que aprendi sobre java é que essa linguagem não possui ponteiros somente referências seguida de algumas afirmações genéricas de como o primeiro é complexo e o segundo é mais simples mas nunca entendi exatamente qual a diferença de um para o outro há alguma diferença ou conceitualmente eles são a mesma coisa esclarecendo eu sei que nem java nem a maioria das linguagens que só suporta referências permite que seja feita aritmética com essas referências algo como não é permitido mas seria isso apenas uma restrição às operações que a linguagem deixa fazer ao mesmo tipo ponteiro ou são de fato conceitos diferentes estou estudando rest e desenvolvimento de web apis e ouvi falar sobre hateoas hypertext as the engine of application state eu entendi a ideia ao responder uma requisição além do que normalmente retornamos a ideia é também retornar dados sobre o que pode ser feito em seguida um exemplo que vi na internet foi esse além disso já li várias vezes que fazer isso é muito importante pra várias coisas entre elas pra permitir que a api consiga evoluir facilmente sem quebrar clients antigos acontece que eu não consigo entender quais são os reais benefícios de fazer isso basicamente o client não vai decidir por si só quais chamadas fazer baseado nesses links de qualquer forma temos que colocar hardcoded lá o que pode ser feito em seguida assim qual a real importância de usar hateoas e quais benefícios temos a partir do seu uso em orientação a objetos qual é o significado de uma classe abstrata qual é a sua finalidade ultimamente tenho vários exemplos de repository pattern homemade nas questões sobre entity framework porém o entity framework já implementa um repository pattern que no caso é o unit of work muitos destes repositórios atuam como um falso repositório que encapsula o repositório verdadedbcontent para executar operações básicas como getall atualizar inserir etc desta forma não consigo ver benefícios neste tipo de implementação podendo até trazer uma complexibilidade maior ao projeto em si seria repository pattern um novo hungarian notation onde muitos programadores ainda colocam abreviações do type como prefixo da variável em linguagens com oo quando este tipo de notação deveria mencionar a natureza da variável como prefixo e é desnecessária em linguagens oo talvez eu não esteja conseguindo ver fora da caixa então gostaria de exemplos com repository pattern que agregem valor preciso criar um executável c e ficou a duvida fazer com ou fazer com na prática existe alguma diferença entre usar e o tradicional é verdade que uma pode ter várias basicamente meu executável terá chamadas diferentes que podem ser executadas ao mesmo tempo como tratamse de chamadas individuais eu quero evitar que uma execute somente quando a outra termine e simplesmente executar todas ao mesmo tempo eu andei pesquisando bastante na web e nas comunidades stackoverflow e estou chegando no ponto de acreditar que spas não tiram quase nenhuma vantagem do algoritmo gc dos navegadores atuais nossa equipe de desenvolvimento se preocupou em destruir objetos inúteis em transições de estado que poderiam estar causando algum memoryleakremover listeners eventos atrelados a doms destruídos e todas as possibilidades que encontramos na internet mas ainda assim tem um tipo de memoryleak na nossa plataforma de spa que pode ser usado por várias horas continuamente o gráfico abaixo representa o uso de memória em horas de navegação spa foi um salto de mb para mb em horas obviamente há realmente alguns recursos como mapas e gráficos que justificam o consumo elevado de memória porém mesmo retornando para tarefas mais simples a memória continua lá por muito tempo até que o gc venha e remova a memória não utilizada existem alguma coisa além das coisas que listei acima que podem melhorar o gc em uma singlepage application sabemos que o gc não pode ser controlado pelo cliente javascript embora existam alguns eventos que acionam esta condição algumas ações do usuário como navegação troca de páginas fechamento de janelas e abas entre outros que em alguns casos não acontecem em um spa como posso obter um resultado satisfatório com o gerenciamento de memória em um spa sendo que não tenho tantos gatilhos para ativação do gc como numa aplicação multipage estou procurando por maneiras de se copiar um texto pra área de transferência clipboard via javascript que funcione na maioria dos browsers modernos mas há informação demais e me parece desatualizada sei que há a clipboard api e que ela é parcialmente suportada por todos exceto o firefox que a implementa totalmete gostaria de utilizála mas só encontro exemplos que usam o que é justamente a parte ainda não amplamente suportada montei um jsfiddle de exemplo que não funciona nem no firefox recursão infinita no evento nem no chrome não suportado segue o código gostaria de um exemplo que evitasse essa recursão infinita ela é causada porque o handler que cria o acaba capturando o evento que ele mesmo criou e que oferecesse um workaround pro caso do browser não dar suporte ao preciso fazer uma barra de progresso que inicie do e vá ao porém preciso fazer somente com css e além disso necessito que quando ela chegar ao iniciar novamente do apesar de existirem algumas informações sobre essa barra de progresso eu preciso que ela dure exatamente segundos e quando chegar ao pule para o alguém já precisou fazer algo semelhante um problema pode ser resolvido e obter o mesmo resultado utilizado um loop ou através de chamadas recursivas a uma função considerando que a linguagem de programação sendo usada possua os dois recursos como saber quando um é melhor que o outro vi em algum comentário aqui no site em alguma pergunta falando sobre para resolver um problema de autenticação já tinha visto o termo vagamente anteriormente e eu pensava que se tratava de alguma coisa do java hehehe porém dando uma olhada em jwtio percebi que se tratava de uma coisa bem diferente então vou perguntar o que é jwt é uma biblioteca uma especificação para que serve vejo que alguns sites ao definir o utilizam a unidade em uma breve pesquisa eu li que é recomendado usar em fontes por ser melhor do que a unidade afinal qual seria a unidade certa ao definir o tamanho da fonte e por que criptografia é algo fundamental na web pois nos fornece privacidade e segurança é até possível que isso seja padrão no http minha dúvida é como a criptografia via http funciona creio que exista uma chave que seja única para cada conexão entre servidor e cliente caso contrário se a chave fosse sempre a mesma alguém poderia interceptar a conexão facilmente já ouvi falar em certificados necessários para a coisa funcionar mas não sei como funciona executo uma rotina diariamente de acessar o site do serasa e fazer a consulta de cnpj preciso desenvolver uma macro para acessar esse site do serasa efetuar o login e depois a consulta e em seguida jogar as informações no excel detalhe já consegui desenvolver a macro pra acessar o site mas na hora da consulta de cnpj da erro de script e não deixa copiar as informações alguém sabe me dizer se é possível que a macro execute todas essas atividades o operador diz que as strings são diferentes sendo que elas armazenam o mesmo valor literal veja o exemplo resultado como fazer para comparar o valor literal das strings é mais vantajoso utilizar um tipo ansi ao invés de um tipo utf ou viceversa existe algum ganho em performance ou armazenamento entre os tipos sempre tenho visto em alguns frameworks que trabalham com rest ou com envio de dados em formato json numa requisição o uso da expressão payload o que significa esse nome em requisições http o que é especificamente um payload é um corpo de uma requisição em formato json um exemplo do termo sendo usado pelo google chrome exemplo exemplo tenho ouvido falar muito de kotlin o que é isso é uma linguagem de programação se sim quais as principais características posso programar em qualquer sistema operacional e executar como funcionam os tipos nela não quero saber tudo mas uma informação básica sobre o que é isso eu sempre usei endpoint e api como sinônimos hoje descobri que eles não querem dizer a mesma coisa embora estejam relacionados afinal qual a diferença entre esses dois costumo sempre dizer que não me dou muito bem com termos esses dias atrás precisei fazer uma operação num determinado framework em php chamado laravel onde eu precisava encontrar um recurso que me permitiria usar um banco já existente e fazer com que ele gerasse automaticamente os models e migrations da aplicação através das tabelas desse banco geralmente o que ocorre é o contrário você gera models e migrations que por sua vez geram o banco de dados fiz várias pesquisas na internet em inglês para poder encontrar o que eu queria porém não encontrava até que eu usei o termo database reverse engine for laravel e encontrei o que procurava até então eu não estava tão familiarizado com o termo por pensar em se tratar em algo muito distante do meu diaadia de programação mas parece que não era verdade o que eu entendo pela experiência que tive é que engenharia reversa está relacionado a usar o que foi gerado para criar o gerador me corrijam se eu estiver errado é por isso que venho aqui perguntar o que é exatamente a engenharia reversa nota não vou incluir a tag ou pois não se trata do assunto foi apenas um exemplo ao pesquisar um pouco sobre plataformas para o desenvolvimento de apps mobile acabei me deparando com o xamarin e o cordova ambos tem como proposta desenvolver uma única base de código para aplicativos que rodam em android ios e windows phone como não sou expert em desenvolvimento mobile me surgiram as seguintes dúvidas quais as principais diferenças entre essas plataformas é possível utilizar os recursos nativos que são exclusivos de determinado sistema operacional as plataformas são compatíveis entre si como pegar os nomes de todas as tabelas do banco de dados mysql como pegar os atributos nome tipo etc de uma determinada tabela no banco de dados mysql estou trabalhando em um site com característica responsiva e nele tenho uma página de promoções e gostaria que as imagens acompanhassem a mudança de tamanho do navegador o tamanho máximo da largura da imagem é px seguindo algumas dicas de companheiros refiz o css e exemplo exibido isoladamente funciona corretamente mas ao inserilo em minhas tabs o mesmo não funciona ficou assim divpage width auto textalign center padding px px img maxwidth o código para exibição a página pode ser vista aqui página de promoções o código da minha tab está assim tabs uitabs fontfamily open sans sansserif fontsize px lineheight em px marginbottom px padding border none background none widthpx uitabs uihelperreset lineheight em px uitabs uiwidgetcontent color uitabs uitabshide position absolute left em uitabs uitabsnav padding border none uitabs uiwidgetheader uitabs uistateactive background none uitabs uitabsnav li uitabs uitabsnav liuitabsactive float left margin px px padding position relative zindex border none uitabs uitabsnav li a display block padding px px color backgroundcolor fff border px solid eee borderbottom none uitabs uitabsnav liuistateactive a backgroundcolor fff paddingbottom px makes the unselected tabs appear above the border uitabs uitabsnav liuistatedisabled a color important cursor default uitabs uitabspanel padding px px backgroundcolor fff border px solid eee borderradius overflow hidden vejam no tamanho da tab coloquei esse valor para que ela possa ficar expandida ainda não consegui deixar a imagem responsiva dentro das tabs mesmo seguindo a dica de deixar a div pai com percentagem sou iniciante em php e gostaria de saber se pdophp data objects é a maneira mais segura de se conectar a um banco de dados preciso também de um exemplo de como fazer esta conexão e inserirselecionar dados o que é paradigma existe algum mais importante que outro é a mesma coisa que design pattern padrão de projeto é o mesmo que idioma como inverter uma string em javascript por exemplo entrada alguma coisa aqui saída iuqa asioc amugla qual é o termo correto para uma linguagem totalmente baseada em objetos c e uma linguagem que usa objetos mas não é completamente baseada neles exemplo o vb tem tinha diversas funções que não estavam em objetos e um suporte limitado a oop acho que o c é assim também existem termos certos para isso eu me lembro de ver essa diferença de classificação entre linguagens objectenabled vb e linguagens baseadas em objeto c mas não onde nem quais eram os termos específicos na documentação do php sobre o diz nota note que o switchcase faz comparação frouxa o que é uma comparação frouxa e qual a diferença entre uma comparação frouxa e uma rígida sempre fico em dúvida nos projetos se coloco antes de dar um valor a uma variavel ou não pois ambos funcionam eu acho alguém sabe explicar o motivo de usar ou não qual a convenção ou boa prática a ser seguida é uma pergunta boba eu acho mas como nunca estudei javascript gostaria de saber estou iniciando meus estudos na área de engenharia de software ouvi muito a respeito do termo design patterns e sua aplicabilidade e importância em projetos de software segue abaixo uma definição em engenharia de software um padrão de projeto ou padrão de desenho do inglês design pattern é uma solução geral reutilizável para um problema que ocorre com frequência dentro de um determinado contexto no projeto de software fonte wikipédia eu não consegui visualizar o que seriam mas afinal o que ele é alguém poderia elucidar o que devemos levar em consideração para buscarmos aplicar estes conceitos em um projeto de software talvez isso melhore no meu entendimento quando eu estava lendo sobre alguns frameworks javascript como por exemplo o react li algumas vezes a expressão shadow dom em alguns artigos parece inclusive que é possível nas configurações de console do chrome ativar esse tal de shadow dom mas o que é shadow dom e pra que serve tem alguma coisa a ver apenas com o framework citado acima ou não quando comecei a usar linq vi que poderia usar as famosas lambda expressions até sei que é uma lambda expression mas não consegui explicar para um colega o que realmente são e qual a vantagem em usálas então vos pergunto o que são lambda expressions e qual a sacada em usálas tenho um site onde controlamos os usuários pelo numero de cpf acredito ser a melhor forma pois é um dado único que todo mundo sabe e é checavel porem o cliente tem agora usuários estrangeiros que não tem cpf como lidar com isso pelo que sei não é possível controlar número de passaporte não existe nada que seja igual ao cpf mais detalhes como chave primaria é usado um userid o cpf é o login no sistema quem acessa são vendedores de lojas que vendem o produto e o site é uma área do lojista onde é feito promoções internas pedir o cpf é um esforço de prevenir mais de um cadastro por pessoa já que o site cria campanhas onde o usuário pode receber prêmios por responder questionários ex uma das acoes feitas foi ganhe um par de ingressos para assistir a final da copa no maracana ele responde o questionário com perguntas sobre o produto técnica de vendas etc e quem acertar mais ganha o premio cada um pode fazer x temos um banco de questões o questionário pede no banco tem que são randomizadas mas de qualquer modo quanto mais cadastros um usuário tem mais chances ele forjará para si eu sempre faço confusão com aplicação web e aplicação desktop não consigo entender muito bem a diferenças de ambas perguntas quais são as diferenças entre aplicação web e aplicação desktop quais são as principais característica de cada um estou com o seguinte código em javascript por que a expressão com o operador retorna e com o operador retorna qual é a diferença entre os dois operadores eu estava estudando essa documentação sobre aspnet identity e nos exemplos em c tem uma palavrachave que eu desconheço que é a exemplo para que serve essa palavrachave durante meus trabalhos eu aprendi uma forma de lidar com mas não sei se é muito boa aqui vai um exemplo do código a minha ideia é mapear os erros e jogar a responsabilidade de seu tratamento para o método principal para ser mais objetivo vou direto as perguntas gostaria de saber a opnião de vocês existe uma forma melhor correta de propagar e exibir as exceções de forma simples essa é uma boa forma de lidar com exceptions qual a importância de capturar mais especificas por exemplo dividebyzeroexception tenho receio de estar me preocupando demais com testes já que estou gastando atualmente cerca de do tempo do meu projeto apenas na criação deles eu sei que quanto mais tempo eu gastar com testes menos eu vou gastar para corrigir bugs mas assim como existe a curva abc para definir os itens de maior impacto em pesquisas econômicas e estratégias de negócio talvez exista algum estudo análogo na área de desenvolvimento de softwares que calcule uma quantidade ideal de tempo que deva ser gasta com testes já que assim como apontado pela curva abc a partir de um certo ponto o teste vai custar mais caro do que o próprio código que ele testa pergunta qual é a fração de tempo ideal de um projeto que deveria ser reservada para o desenvolvimento de testes até a época em que os computadores eram puramente mecânicos e eram programados por cartões perfurados eu entendo como funciona depois quando surgiram os primeiros computadores digitais operados com válvulas e relés fica mais complicado de compreender como eram feitas as programações imagino que deveria haver algo semelhante a um compartimento com uma matriz de relés semelhante aos cartões perfurados pré programada que continha um programa fixo e único a ser executado pela máquina quando fosse preciso trocar o programa os programadores apenas rearranjavam as válvulas e a máquina continuava a trabalhar como surgiu essa noção que temos de programação hoje que o programador digita códigos em um editor de texto e compila eu não consigo imaginar como chegou a esse ponto por exemplo o assembly ele é apenas traduzido de textos para binário pelo assembler mas poxa seria preciso ter outra linguagem de programação para se criar o assembler suponha que só existam os computadores controlados por relés e válvulas como que alguém conseguiria escrever um código em assembly sendo que não existia editor de textos nem nada o resultado de uma montagem é outro arquivo no formato texto com s e s apenas ou são impulsos elétricos enviados para a máquina valvulada ainda uso apenas o mas procurei e não encontrei um exemplo mesmo que mínimo em português que fale sobre o aspnet identity para o mvc estou usando o aspnet mvc e o entityframework gostaria de aprender sobre o aspnet identity mas estou tendo dificuldade em enteder o template mvc com alguém poderia dar um exemplo básico para não ser amplo e não fugir do escopo do sopt partindo do template web mvc sem autenticação quero saber qual é a maneira mais simples possível de se descobrir se a data de hoje é sábado ou domingo em php quais são as maneiras possíveis de se fazer isso quando se fala em programação concorrente sempre citam problemas clássicosmodelos de concorrência produtores e consumidores leitores e escritores filósofos glutões ou jantar dos filósofos procurei aqui no site porém em nenhum momento achei explicando o que é esse problema minhas dúvidas então são o que é o problema dos filósofos glutões mais focado no enunciadometáfora do problema o que o jantar dos filósofos modela de fato mais focado na coisa técnica do que é esse problema deixando a metáfora de lado qual a importância dele para um programador quando um programador deve se preocupar diretamente com esse problema existe alguma coisa real e cotidiana que nos esbarremos com esse problema sem termos conhecimento sei lá num banco de dados dentro do contexto do desenvolvimento de software o que significa algo ser ortogonal por que é importante seguilo nesta outra pergunta eu perguntei a mesma coisa mas em relação a java agora pergunto sobre o javascript pelo que eu saiba historicamente o javascript sempre foi interpretado mas o google mudou isso com o v no chromium estou certo ou errado e em relação aos outros browsers como o firefox e ie ainda é interpretado  qual a definição de inteligência artificial a pergunta à primeira vista parece falta de vontade de pesquisar por aí afora mas uma lida nos primeiros links que encontrei no google me deixaram com mais dúvidas do que eu tinha antes de começar a estudar sobre o assunto a wikipédia me deu algumas definições e o tecmundo que foi o primeiro link que o buscador me retornou não me passou credibilidade por não citar fontes partindo de uma definição como esta sistemas que pensam como um humano seria correto dizer que todo sistema que afirme que é um sistema com inteligência artificial conforme a especificação do java grande parte da api do swing não é threadsafe e deve rodar na event dispatch thread como após inicializar o gui os eventos são disparados de dentro da própria edt a não ser que você esteja usando threads em background que precisam atualizar a ui isso não costuma ser um problema porém como o método roda em sua própria thread inicial é comum o uso de para despachar a exibição da gui para a edt veja que após exibir a tela o método não executa mais nada na teoria nenhum código concorrente à edt parece ser executado na thread principal minha dúvida é existe um motivo para termos que despachar a criação da tela para a edt na stack overflow em inglês encontrei uma referência que aponta para a documentação dizendo que a thread inicial não deve criar o gui pois quase todo o código que cria ou interage com componentes swing deve rodar na edt esse dias porém vi o código de uma aplicação que está rodando a quase anos em produção esse código cria e exibe a principal diretamente do nunca houve nenhum problema reportado sobre o funcionamento dessa aplicação nesse sentido quais seriam os problemas de concorrência possíveis se não usarmos o que ficará rodando na thread principal e o que ficará rodando na edt eg a principal fica na thread principal mas seus eventos vão para a edt sempre utilizei os termos parâmetro e argumento como se fossem sinônimos aquilo que é passado para uma função eou que a função recebe como entrada da mesma forma tenho lido um e outro termo em inglês e português ora sendo usado um ora outro mas não consegui perceber nenhum critério na escolha entre um e outro há diferença entre eles ou são sinônimos mesmo já cheguei a pensar que parâmetro era o único termo correto pois é usado na matemática e que argumento era algum erro de tradução mas depois percebi que não é o caso em inglês também temos parameter e argument qual a forma correta de se usar esses termos temos alguns paradigmas de programação bem conhecidos porém bati de frente com esse paradigma e me surgiu algumas dúvidas onde é aplicado existe algum exemplo de onde já foi utilizado com sucesso qual a diferença da orientação a objetos x orientação a agentes vejo algumas pessoas do meio da programação se referindo a esse termo sempre que aparece um código com uma solução estranha ou meio engambiarrada dando uma pesquisada rápida no google eu cheguei a conclusão de que realmente é isso achei os termos go horse process e extreme go horse o que achei estranho é que em alguns artigos que falam sobre go horse process apareceu também vários tópicos de como fazer itens e ainda foi chamado de metodologia mas do que realmente isso se trata é realmente uma metodologia ou uma piada ou uma forma hilária de se listar aquilo que deve ser evitado na programação por que a formação de cores no rgb não segue o mesmo padrão da natureza e mesmo assim dá certo por exemplo no rgb amarelo vemelho e verde ff ff ffff mas se pegarmos um lápis de cor amarelo e outro azul ou tintas pincéis etc e pintar uma mesma área ela se torna verde ou pelo menos algo parecido os tons não são os mesmos até porque depende da quantidade de amarelo ou azul para formar o verde isto é o amarelo depende do verde e em outro o verde depende do amarelo nota entendo que as respostas irão pender para o lado da física e biologia mas sempre tive essa dúvida porque além de trabalhar com backend trabalho com frontend e isso me ocorre muito frequentemente isso porque o sistema rgb não fecha muito o que aprendemos com a tia de artes na escola então não fica muito intuitivo na hora de chegar em uma cor ao desenhar uma página estou atrás do porque do sistema rgb ser diferente do outro e ele ser o escolhido para ser aplicado em imagens e desenhos de aplicações se não estou enganado é estudado em processamento de imagens desde os tempos de faculdade não consigo entender a real diferença entre o tipo e acabei encontrando o tipo que também trata valores reais sobre o tipo encontrei a seguinte afirmação para qualquer cálculo que envolva dinheiro ou finanças o tipo deve ser sempre utilizado só este tipo tem a precisão adequada para evitar os erros críticos de arredondamento por quê o tipo de dados decimal é simplesmente um tipo de ponto flutuante que é representado internamente como base ao invés de base dois em quais situações esses tipos devem ser usados de forma correta poderiam me explicar o porquê do tipo decimal ser o ideal quando se tem dinheiro envolvido qual a diferença entre ambos sempre ouço falar de e mas não sei diferenciar um do outro nem para que servem me pareceu algo com padrão de arquitetura de aplicação estilo commonjs pense em uma classe grande um cadastro completo de cliente por exemplo tem uma quantidade enorme de atributos nele muitos deles precisam ser inicializados na construção do objeto para o objeto ser válido e de antemão não sabe se todos estão válidos ou se o uso conjunto deles torna o objeto válido o objeto pode ser usado em diversos contextos da aplicação poderíamos fazer um construtor com todos os parâmetros necessários e ele valida tudo e decide se conclui a construção ou não um construtor só com o básico para criar o objeto e depois deixar colocar valor em outros atributos validando individualmente como deve proceder com a invalidade temporária ter um método estático que valide tudo antes de chamar o construtor para saber que vai construir corretamente criar um objeto temporário de um tipo definido para este propósito e usálo como base para criar o objeto definitivo provavelmente com um construtor que aceite este objeto e saiba o que fazer este objeto aceitaria os atributos incrementalmente e poderia validar em determinado momento para poder ser usado no objeto real alguma outra forma eu imagino que todas podem ser úteis em alguma situação específica ainda que algumas de forma bem rara e praticamente para contornar alguma outra deficiência quais as vantagens e desvantagens de cada abordagem e em que cenário escolher cada uma referência para que serve um construtor qual a diferença entre uma classe abstrata e uma interface não entendo quando eu deveria utilizar uma ou outra ao se criar um site ou aplicação web sempre há o problema do que fazer quando nem todos os browsers implementam todas as funcionalidades desejáveis pelo que tenho lido há duas principais maneiras de se lidar com isso graceful degradation degradação suave desenvolvese pensando num ambiente o mais completo possível mas assegurandose que se a funcionalidade x ou y estiver ausente o site ainda funcione da melhor forma possível sem ela progressive enhancement enriquecimento progressivo desenvolvese pensando num ambiente o mais básico possível e acrescentase características extra caso a presença da funcionalidade x ou y seja detectada quais as vantagens e desvantagens de cada uma delas há situações em que uma é mais adequada que a outra ou é apenas questão de preferência estou interessado principalmente no aspecto da manutenabilidade à medida que características novas vão sendo introduzidas aos browsers e versões antigas dos mesmos caem em desuso quais as implicações disso num siteaplicação desenvolvido segundo essas estratégias é comum dizer que devese evitar retornar códigos de erro em uma função quando alguma operação falha não é difícil perceber que códigos de erros são confusos é um valor válido ou um erro e não fornecem informação relevante a recomendação é utilizar o lançamento de exceções ao invés de códigos de erro por que as exceções são melhores que o retorno de códigos de erro há casos onde esta solução é pior o título obviamente não implica que uma afirmação ou outra esteja correta a dúvida é esta eu já li em vários artigos e livros de designer patterns a expressão acredito que é um tema bastante polêmico devido aos pontos de vista discutidos a meu ver composição e herança são usadas para resolver problemas diferentes certo o exemplo acima é bem coerente pois um carro deve ter um motor entretanto se substituirmos a herança por composição em alguns casos a estrutura fica um pouco estranha por exemplo é estranho pensar que veiculo virá um atributo de carro nesse contexto veiculo serve apenas para a reutilização de código pois não segue uma hierarquia e não agrega polimorfismo desculpem minha ignorância mas as classes herdadas mantém o acoplamento que é necessário entre elas a herança em si certo quais as vantagens de se usar composição em vez de herança é possível especificar um momento certo de usálas seguindo a opinião do título a melhor combinação seria composição interface estou a desenvolver uma aplicação em php e gostaria de saber quando e porque utilizar ou ou ou reparei também que dá para fazer destas formas e funciona qualquer uma das formas está correta estão todas  é recomendável usar em projetos em quais situações reflection pode ser usado em c há uma diferença entre a forma que a memória é alocada pelo clr para tipos referência classes e tipos valor estruturas a diferença pelo que sempre ouvi falar seria o fato de tipos valor serem armazenados na pilha e tipos referência no heap ocorre porém que tipos valor também podem ser armazenados no heap através de boxing ou sendo membros de um tipo referência dessa forma a distinção entre tipos valor e tipos referência passa a ser não exatamente o local onde cada qual está armazenado dessa forma como se diferencia de forma mais correta tipos valor e tipos referência como realmente o clr gerencia a alocação de memória para instâncias e classes e estruturas separadamente além disso por quê existe essa distinção afinal classes e estruturas apesar de possuirem diferenças são bem parecidos um com o outro acredito que a maioria dos softwares padronizam o uso da palavra cancelar para um botão cuja a ação é cancelar a operação que está em curso claro que a operação em curso é a mais próxima que está ocorrendo provavelmente é aquela operação responsável pelo mecanismo de confirmação de uma outra operação que provavelmente faz parte de uma regra de negócio por exemplo se você vai cancelar o pagamento já efetuado de um boleto esta operação usa exatamente o termo cancelar porque os usuários do software estão acostumados com ele faz parte do domínio deles e antes de concluir o cancelamento o software pergunta se é isto mesmo que o usuário quer fazer é muito comum o uso de dois botões nesta confirmação um ok e outro cancelar neste caso é para cancelar o o processo de cancelamento e provavelmente isto é o padrão para todo o software mudar isto seria despadronizar o funcionamento todo mundo está acostumado com o ok e cancela para cancelar operações em processo de confirmação mas é bem claro que isto não é intuitivo é fácil cometer um erro confundindo o que você está efetivamente cancelando este problema é bem mais comum do que parece o que fazer nestes casos a intenção da pergunta é ter um conteúdo em português sobre o assunto já que eu tenho informações em inglês se possível gostaria de novas informações também além das contidas lá nem vou pedir um estudo específico sobre o assunto porque não é fácil ter algo assim mas qualquer informação deve ser minimamente fundamentada pode parecer óbvio o que fazer mas em ux todo cuidado é pouco bonus point muitas vezes isto só ocorre por causa de traduções sem contexto ou seja o problema podia não ocorrer no original além de simplesmente testar tudo antes de liberar que é a solução óbvia tem algo a mais que pode ser feito para garantir que o texto não seja confuso tenho lido sobre sass há algum tempo e ele fornece um poderoso conjunto de funcionalidades para o css como variáveis mixins e afins e ao mesmo tempo vejo o termo scss qual a diferença entre ambos são a mesma coisa e possuem as mesmas funcionalidades e apenas recebem nomes diferentes em alguns casos ou são coisas diferentes suponha que implementei uma nova linguagem e que tenho um interpretador funcional escrito em javascript algo como agora gostaria de criar uma interface na qual eu posso inserir o código da minha linguagem em tags de forma que ele funcione exatamente igual a como o javascript opera ou seja ou seja as tags seria executada sequencialmente e poderia intercalar com o javascript sei que posso por um evento no para executar todos os scripts com a minha linguagem já que eles são ignorados pelo navegador mas isso não teria o comportamento que espero do exemplo acima outro caso é se o elemento for inserido via javascript existe como ter um callback que seja chamado sempre que um elemento aparecer no dom outro problema é com o carregamento se a tag vier com o atributo imaginei em carregar via ajax mas com isso os scripts serão executados fora de ordem e não estritamente na ordem em que aparecem como garantir essa ordem se eu tenho o seguinte código e mando para o banco de dados deveria ser possível recuperar esse no banco e mostrar senha de volta num formulário de atualização de informações não isso é possível ou uma string criptografada em não tem pode ser descriptografada onde o código javascript deve ser colocado em um documento html no elemento ou no início ou no final de cada um existe alguma diferença de performance ou qualquer outra relacionada a isso fiz essa pergunta algoritmo para detectar nudez com boa precisão aqui no site e algumas pessoas citaram algumas coisas sobre aprendizado de máquina machine learning pelo que foi dito entre um comentário e outro a respeito do assunto deu a entender bem superficialmente que é uma forma de uma máquina aprender a ter um comportamento a partir de dados prédefinidos gostaria de uma explanação mais detalhada a respeito do assunto o que seria o aprendizado de máquina machine learning ele está relacionado à ou é uma forma de inteligência artificial que exemplo mais simples podemos citar a respeito desse assunto qual a utilidade da palavrachave reservada quando e onde é usada certa vez eu vi um código em c com a seguinte linha o que significa em linguagem c uma dúvida muito comum é por que devemos parar de usar funções do tipo mysql_ por exemplo ou vejo que muitas pessoas as usam ou param de usar mas não sabem o real motivo por que elas deveriam parar de ser usadas uma vez que funcionam suponha que eu tenha uma base de dados enorme que não caiba na memória ram quais estratégias para analisar esta base de dados no r uma vez que não posso carregála inteiramente na memória ps a pergunta não trata somente de como fazer o r conversar com uma base de dados relacionalnãorelacional se por exemplo os seus dados estiverem em uma base de dados relacional você ainda assim não pode carregálos todos de uma vez no r para rodar um random forest ou uma regressão por exemplo quais são as características de um código com coesão ou acoplamento até que ponto isso pode gerar problemas futuros bom comecei a desenvolver web a pouco tempo digamos ano e aqui na empresa utilizamos muito e sei que na visão de html os frames estão obsoletos mas ainda vejo muita gente defendendo o uso deles gostaria muito de saber o por que deles serem motivo de tanto debate quais seus benefícios e malefícios na hora de se desenvolver se o está obsoleto qual é o seu substituto na visão de html se para o html os frames estão obsoletos deve ter uma resposta plausível do porque segundo esta definição de dado dados são um conjunto de informações quantitativas qualitativas categóricas ou indefinidas podendo ser organizadas ou não wikipédia seguindo esta linha eu posso assumir que dados e informação são as mesmas coisas entretanto na faculdade meu professor disse que dado não é informação quando o mesmo não é tratado ou quando ele não possui algum significado por exemplo este é um dado e também é um dado porem eu não sei o que esses dados representam como eles poderiam ser considerados informação e é neste ponto que surgi minha dúvida que vem logo abaixo dúvida eu gostaria de saber qual é a diferença entre dado e informação e o que faz com que dados se torne informação quem já criou grandes programas em java sabe de uma dordecabeça muito comum não saber pra onde jogar o fluxo das exceptions muitos resolvem fazer coisas como tratar tudo como exception a superclasse de qualquer exception e quando uma vir dar uma mensagem qualquer ao usuário e jogar a stacktrace num arquivo de log tratar tudo como exception mas dessa vez já que o programa é realmente muito grande e o cliente provavelmente não está olhando para o console imprimir a stacktrace e continuar normalmente avisar o usuário que um erro aconteceu e dar um tratamento genérico entre outros apesar do que eu disse acima estar muito presente no meio profissional essas abordagens acima soam muito pog se essas exceções foram lançadas é porque algo deu errado mas o problema é que numa simples operação pode acontecer tanta coisa que é realmente tedioso dar conta de tudo além do que boa parte dos possíveis erros são extremamente improváveis além do mais o mecanismo de erros do java não é nada preciso uma ioexception foi lançada sim mas na realidade há tantas subclasses que fica difícil saber o que fazer filenotfoundexception eofexception etc se uma ioexception foi lançada como propriamente tratar o erro sem nenhuma especificação do que precisamente aconteceu dentro de tudo isso eu pergunto qual a maneira mais eficiente e elegante de tratar exceptions em java eu estou trabalhando em uma solução que envolve determinar a rota de menor esforço entre dois pontos de um prédio imagine estudantes em seu primeiro dia de universidade e que precisam saber onde fica e como chegar a uma dada sala de aula em um prédio ou como ir da sala atual para a próxima aula basicamente eu tenho uma estrutura cartesiana onde cada andar está mapeado eu também tenho indicadores de pontos de acesso portas rampas para deficientes escadarias e os pontos onde estes pontos se conectam escadaria do térreo se conecta com escadaria do º andar em x y por exemplo mais ou menos como a imagem abaixo onde ciano indica uma escadaria e azulestranho elevadores entre outros marcadores não exibidos para os daltônicos minhas sinceras desculpas e algumas informações adicionais as escadarias estão localizadas na parte superior direita dos mapas os elevadores próximos ao centro eu comecei meu código baseado em uma variante do algoritmo de dijkstra chamado aestrela a que é basicamente o problema do caminho mais curto com algumas otimizações curiosidade vários jogos implementam variantes do a para determinar a rota de personagens em um mapa a é perfeito para determinar rotas em um mesmo andar porém eu tenho que levar em consideração os vários andares cada um com um layout diferente pergunta existe alguma maneira mais apropriada para solucionar este problema ou de forma mais clara obrigado bfavaretto dado o fator adicional de n andares existe algum algoritmo que seja mais indicado do que o a disclaimer imagem isométrica original de dougillustrationscom o que é como se usa e porque usar em vez de encontrei no so en essa pergunta creating meta language with java no qual o usuário tem interesse em criar uma meta linguagem usando java fiz uma breve pesquisa e encontrei no site da microsoft um tópico falando sobre gramáticas linguagens e compiladores um retorno às bases onde fala que em computação uma metalinguagem muito conhecida é a bnf ou backusnaur form o que é uma meta linguagem estou com essa dúvida faz um bom tempo vejo algumas pessoas recomendando o uso do postgresql mas não fica claro as vantagens e desvantagens em relação ao mysql quero definir o banco que irei utilizar em meu projeto e gostaria de saber qual o melhor ao implementar um software de faturação online questionei a empresa responsável se existia a versão rest da api a resposta foi que não utilizavam rest devido a segurança que soap seria mais seguro por se tratar de um software que manipula informações financeiras seria essa uma informação verdadeira se sim em que contexto soap é mais seguro que rest e viceversa uma de uma classe não é a mesma coisa que um qual a real diferença entre eles ou é um sinônimo para ou viceversa ou varia conforme a linguagem de programação o dry significa dont repeat yourself então toda vez que eu ver uma repetição no código não estou fazendo dry o dry é sobre não ter redundâncias como ele deve ser aplicado de forma a podermos ter a administração de um website a ser realizada a partir de um servidor diferente daquele onde o website está alojado surgiu o problema de lidar com imagens remotas problemas comuns verificar se a imagem efectivamente existe antes de criar links para a mesma ao substituir determinada imagem verificar se a anterior existe para que seja eliminada verificar se a imagem carregada para o servidor não está com o mesmo nome de uma imagem já existente normalmente este tipo de operações é realizado com o mas como o mesmo não suporta url apenas caminhos absolutos ou relativos do próprio servidor fica assim inviabilizado para este cenário pergunta utilizando php como posso verificar se uma imagem remota existe já vi esse termo polyfill sendo utilizado várias vezes quando se trata de uma nova função que não está disponível em versões antigas de determinadas linguagens e afins mas afinal polyfill é simplesmente isso ou é mais abrangente qual é o significado da palavra polyfill e a que se refere dentro do diaadia da programação especificamente nota aparentemente esse termo está relacionado diretamente à linguagem javascript mas já vi sendo utilizado em outras linguagens também tenho uma listagem de status que é exibida e cada status tem uma cor atribuída essas cores estão salvas no meu banco de dados em formato hexadecimal exemplo eu estou com um pequeno problema se a cor for escura demais pelo fato da mesma ser usada para a cor do texto tornase ilegível então eu queria saber se tem alguma forma de descobrir se a cor é escura para quando for escura eu determinar que a cor do texto será branco e se for clara preto tem como fazer isso nota a solução pode ser tanto em javascript como em php após muito tempo utilizando a implementação serializable nas minhas classes na plataforma javaandroid descobri o parcelable mas fiquei na dúvida em relação as seguintes questões abaixo quando utilizar escolher entre o parcelable vs serializable como implementar o parcelable e serializable quais são as diferenças de performance das duas implementações sou iniciante no js e procuro entender a teoria só que todos os artigos que encontro sobre dom são demasiadamente científicos não haveria uma forma mais simples de explicar isso para um leigo tenho um objeto chamado e gostaria de criar e armazenar uma cópia desse objeto como objetos vetores funções e expressões regulares são considerados objetos não consigo fazer uma cópia apenas atribuindo esse objeto a uma outra variável ex pois por serem objetos apenas uma referência é passada para a outra variável gostaria de saber se existe algum jeito de fazer um cópia de um objeto seja lá qual for o seu tipo objetos vetores funções ou expressões regulares frequentemente precisamos aceitar a entrada de senhas por parte dos usuários em geral não podemos aceitar uma senha qualquer que pode ser facilmente atacada provavelmente por brute force força bruta ou técnicas semelhantes é óbvio que a senha deveria ter um tamanho mínimo deveria ter variedade de caracteres não pode ser semelhante ao nome de usuário e quem sabe outros dados eu imagino que a força da senha não é medida por uma simples verificação se existe todos esses critérios todos juntos podem tornar a senha muito segura mas excessivamente difícil de ser determinada por um humano mas como calcular a força existe algum algoritmo padrão conhecido que estabeleça isto se não existe o que deve ser observado por que criar parâmetros para cada campo que será atualizado ajuda a evitar sql injection exemplo pergunta gostaria de saber como transformar dígitos numéricos em números por extenso da seguinte maneira como demonstra o exemplo abaixo exemplo retorna zero retorna cinco retorna dois mil e quatorze retorna mil e trinta e quatro retorna dois mil quinhentos e sessenta e seis retorna setenta e oito mil trezentos e noventa e um retorna novecentos e noventa e nove mil novecentos e noventa e nove retorna um bilhão estou estudando javascript e vi algumas explicações que me deixaram com dúvidas aqui no stackoverflow vi várias perguntas sobre a possibilidade de se criar um classe abstrata em javascript porém minha dúvida é a seguinte é possível criar uma classe em javascript estou perguntando isso porque estou usando como guia o site developermozilla encontrei a seguinte informação a javascript é uma linguagem dinâmica orientada a objetos tem tipos e operadores objetos e métodos sua sintaxe vem das linguagens java e c por isso tantas estruturas dessas linguagens se aplicam a javascript também uma das principais diferenças é que o javascript não tem classes em vez disso a funcionalidade de classe é realizada por protótipos de objetos a outra diferença principal é que as funções são objetos dando as funções a capacidade para armazenar código executável e serem passadas como parâmetro para qualquer outro objeto a afirmação em negrito me deixou com essa dúvida pois se trata de uma fonte confiável para estudos o que entendi é que não existem classes mas existem elementos que podem ser usados como classes não sei se essa é a interpretação correta e mais esse mesmo texto diz que o javascript é orientado a objetos então tentei entender o porque da afirmação da não existência de classes estaria por ali vejo muitos colegas de trabalho e profissionais afora que dizem que instanciaram classes em javascript usaram tal classe para tal propósito em javascript com isso quero entender é correto afirmar que existem classes em javascript ou não venho navegando em vários sites que em seus cabeçalhos mostram mensagens como este site utiliza cookies para melhorar a sua navegação ao navegar no site estará a consentir a sua utilização tudo bem que os cookies são armazenados na máquina do usuário mas é realmente necessário esses avisos existe outro motivo por trás não achei quase nada relacionado na internet gostaria de saber qual a diferença e quando devo utilizar stateful stateless a microsoft anunciou um novo net core que raios é isto dizem que o elemento deve ser usado para ênfase e o para ênfases ainda mais intensas isso parece bastante confuso quando e por que usar cada um deles e e ainda devem ser usados em alguma situação eles foram substituídos por e estou tentando implementar o da google no meu site e não consigo fazer a integração utilizo a linguagem como posso fazer para que o funcione e realize a validação antes enviar os dados do meu formulário fonte e documentação do google recaptcha olá busquei por essa dúvida nas perguntas porém não a consegui encontrar pois bem gostaria de fazer com que um campo tivesse as máscaras de cpf e cnpj dependendo da quantidade de caracteres digitados aqui não dá totalmente certo pois com vários testes que fiz aqui esse meu código não deu resultado que preciso não sei se devo apenas alterar ou se preciso fazer outro segue o código obs estou usando esse plugin na empresa onde trabalho atualmente somos fortemente encorajados a evitar programação orientada a objetos tanto para projetos antigos como para projetos novos para projetos antigos concordo que seja uma má pratica começar a inserir orientação a objetos em um projeto totalmente estrutural porém para projetos novos acredito ser mais produtivo utilizar oop questionando a situação recebi como resposta da empresa orientação a objetos é pesada e lenta portanto recomendamos não utilizar qual o overhead de se utilizar orientação a objetos vs programação procedural considerando que boas práticas de programação são seguidas é mais produtivo utilizar orientação a objetos ou programação procedural na especificação do protocolo http mais precisamente na rfc é previsto a possibilidade de existir entidades intermediárias entre o user agent ua entidade que efetua a requisição http e o origin server o entidade que responderá à requisição as setas para a direita indicam o trajeto da requisição http e as setas para a esquerda indicam o trajeto da resposta http as entidades a b e c são as entidades intermediárias que se comunicam entre si com o user agent ou origin server através de quatro conexões http as três entidades intermediárias descritas são proxy gateway tunnel sendo que cada entidade intermediária pode operar como um origin server proxy gateway ou tunnel dependendo da natureza da requisição http que será por ela tratada o que eu gostaria de saber é qual a diferença entre os três tipos de entidades intermediárias e quando cada um é utilizado na prática também se é possível a existência de apenas uma entidade intermediária ou se são relacionadas a ponto de só existirem mutuamente pergunta de escovação de bit mas estava eu lendo um artigo sobre javascript em que diz que divisão é mais lenta que fazer multiplicações e por exemplo recomendava mudar o código abaixo por esse que seria mais rápido isso acontece em qualquer linguagem e por que multiplicar é mais performático que dividir eis o link do artigo em inglês que mencionei na seção math httpjessefreemancomgamedevintrotoprogrammingforgameswithjavascript estou tentando aplicar um estilo ao meu elemento e definir a importância dele desta maneira porém não funciona qual seria a maneira correta vejam esses testes que fiz no console do navegador porque exatamente isso acontece segundo esta definição do priberampt um número capicua é número que se lê igualmente da direita para a esquerda ou viceversa e ao qual se atribui boa sorte seguindo esse raciocínio capicua seriam etc como descobrir entre números de dígitos os que são capicua apenas utilizando cálculos matemáticos removendo números que possuam todos os dígitos idênticos como etc ps não importa a linguagem somente a lógica para se desenvolver uma forma de resolver isso qual a diferença entre e ambas são muito parecidas mas em qual caso é melhor usar uma ou a outra gostaria de código de exemplos durante a manutenção de um sistema legado reparei na seguinte procedure a primeira coisa que me chamou atenção foi a condição where por que o programador que escreveu essa procedure usou essa condição o que nos ensinam sobre herança a esmagadora maioria dos materiais que tratam sobre herança de classes a exemplificam como um mero mecanismo de agrupamento de atributos ou ações comuns no máximo como um meio de representar uma hierarquia análoga a algo que observamos na vida real como amostra veja esta apostila da unicamp e esta outra da caelum o mesmo se aplica às aulas que assisti sobre o assunto ainda lembro quando aprendi que a orientação a objetos possibilita representarmos o que vemos na vida real a herança é comumente definida como um relacionamento do tipo é um exemplos clássicos como e estendem ilustram isso o problema é que quando aprendemos dessa forma a nossa preocupação recai em classificar os objetos da vida real para agrupar em hierarquias e então procurar atributos e ações comuns para colocarmos na superclasse posso dizer que passei muito tempo usando herança como forma de agrupar coisas parecidas e evitar repetição de código não considerando pontos importantes como acoplamento e coesão herança na prática contudo parece que na prática isso simplesmente não funciona tão bem como na teoria como exemplificado na questão prefira composição em vez de herança a excelente resposta aceita diz somente use herança se o subtipo puder perfeitamente substituir o tipo base essa afirmação que considero correta nos leva à consequência lógica que de que o exemplo dos bichos não representa adequadamente o modo como devemos encarar a herança é um mas cada exibe um comportamento muito distinto dos demais não é exatamente uma especialização de ou seja um que tem alguma coisa a mais ele é um tipo único de que dificilmente pode ser substituído por outro sem impacto como foi explicado na resposta citada usar a herança simplesmente para exibir um comportamento comum ou reaproveitar código não é em geral uma solução adequada para isso existem interfaces e delegação conclusão enfim minha dúvida é existem situações onde seria apropriado usar a herança simplesmente para agrupar objetos com comportamentos e atributos comuns ou ainda para criar hierarquias de objetos que representam a vida real se possível dê um exemplo pergunta bônus será que vale a pena começar a utilizar outros exemplos para herança e não deixar que as pessoas descubram por si mesmas que na prática a coisa não é bem assim atualização considere apropriado ou certo o uso da herança que beneficie o sistema a longo prazo isto é evite problemas de manutenção e evolução do produto por exemplo usar herança para uma hierarquia pode causar um grande problema se os filhos dessa hierarquia passarem a ter características diferentes dos pais e o código polimórfico começar a quebrar ou ficar com vários s para tratar casos específicos por esmagadora maioria quero dizer quase todos os livros apostilas e aulas que conheço note que não estou dizendo que elas estão totalmente erradas mas que transmitem um aspecto de forma equivocada observação eu entendo que muitos podem considerar esta questão baseada em opiniões se acharem que ela não é adequada ao formato do site comentem que eu ajustarei ou excluirei conforme o caso dizem que a computação quântica irá revolucionar a computação caso seja implementada de maneira bem sucedida por que isso quais as principais diferenças entre um computador quântico e um computador convencional que tornariam o primeiro muito mais rápido às vezes parece que estamos falamos da mesma coisa claro não é quando estes conceitos estão sendo utilizados qual é a real diferença entre eles quando utilizar um ou outro para um único script a ordem de cargaexecução na presença ou não dos atributos e é clara sem nada carrega e executa imediatamente com carrega em paralelo e executa ao final da carga com carrega em paralelo e executa ao final da renderização minha dúvida é o que acontece quando há mais de um script na página em especial se o uso ou não dos atributos acima for combinado pelo meu entendimento podese fazer algumas afirmações com certa segurança corrijamme se eu estiver enganado e executará antes de f a e b executarão depois de e e f c e d podem executar antes ou depois de e e f inclusive entre um e outro d pode executar antes de c se sua carga for mais rápida mas para outras eu não sei a resposta b pode executar antes de a se sua carga for mais rápida ou o impõe uma ordem aos demais scripts também com se d for carregado enquanto e está carregando mas não executando ele executará antes de e ou não ie quando a carga de um script síncrono começou é preciso esperar sua execução terminar para executar um script assíncrono c e d podem executar depois de a e b em outras palavras se a carga de c por exemplo demorar demais e tanto a renderização da página quanto a carga de a e b concluírem primeiro estes podem executar imediatamente ou é necessário que todos os scripts executem antes que qualquer script execute gostaria de saber se possível o que está especificado em relação à ordem de execução dos scripts e o que pode variar com a implementação sem necessidade de fazer testes embora estes sejam bemvindos como complemento como exportar uma página html para um ficheiro pdf tendo um documento padrão onde possa mudar variáveis dentro desse template para depois exportar essa página para um ficheiro pdf em formato a sem estragar o layout exemplo de código eu estava conversando com alguns amigos programadores quando eu ouvi o termo normalização de banco de dados embora eu já tenha ouvido esse termo algumas vezes antes não consegui compreender do que se tratava surgiram algumas dúvidas o que significa esse termo qualquer tipo de banco de dados seja sql ou nosql pode usar essa tal normalização outra coisa é que ao pesquisar na internet encontrei os termos normalização de dados e normalização de banco dados existe alguma diferença entre as duas coisas normalização de dados e normalização de banco dados existe o termo correto ou pode ser falado das duas formas não quero mais passar vergonha ao ouvir um termo desses numa reunião e ficar sem entender a ideia dos microsserviços é boa mas não entendo bem como resolver certos problemas talvez o problema seja como ela é vendida não vejo muito se falar quando usar ou quando evitar parece que tudo pode usar a tecnologia sem muitos sobressaltos mas nada é simples e universal assim a aplicação em si é tranquilo entender mas queria entender sobre banco de dados em leitura não parece muito complicado é possível pedir dados de bases diferentes e juntar tudo dá para questionar se isto é o mais eficiente mas não vejo complicadores muito fortes pelo menos não mais que os complicadores que microsserviços trazem eu entendo que certas atividades de uma solução são isoladas e podem ser um microsserviço fácil mas outras me parecem integradas demais para poderem ser separadas mais ainda o que pode parecer se mostrar ótimo isoladamente mas depois parece um caso que precisa de uma integração especificamente penso em transações qual é a solução quando você faz uma venda e deve atualizar diversas tabelas de dados tudo tem que estar em um microsserviço único mas aí tem uma série de tabelas que precisam estar em uma outra transação que envolve outras tabelas aí me parece que todas as tabelas deveriam estar juntas mesmo que nem todas se relacionem diretamente ou seja você quebra a aplicação em serviços específicos mas continua tendo um ponto único de falha e manutenção tem suas vantagens mas não é tão grande assim uma solução seria criar um sistema de transações na aplicação que garante o acid em diversas bases de dados mas isto é bem complicado será que só funciona onde o cap é admitidamente viável enfim tem alguma solução para micronizar o banco de dados quando o acid é necessário só funciona com algumas tecnologias de banco de dados que suportem isso estou enganado em alguma suposição minha  o que são exceções quais são suas principais causas que métodospráticas podem ser utilizadas para se prevenir estou interessado em criar sites com animação comandada pelo scroll ex kano onde os conteúdos vão sendo animados e substituídos conforme o rolamento da página quais são as técnicas para facilitar esse tipo de programação quando escrevo código em java e tento tratar excepções costumo usar simplesmente a superclasse não ligando à classe específica e costuma resultar há algum inconveniente em fazer isto tenho uma tabela por exemplo e gostaria de deletar todas as pessoas acima de anos com o script abaixo faço isso o problema que existe mais de milhões de registro na tabela com pessoas acima de anos e como o banco esta em produção ao fazer isso vou travar todos os usuários existe uma forma mais eficiente de resolver este problema estava estudando alguns exemplos do mysql com php e me deparei como seguinte trecho de código pelo que pude perceber ao pesquisar os métodos chamase mas eu não consegui entender porque isto é utilizado gostaria de saber como funciona e alguns exemplos de situações reais em que isto poderia ser útil clipper foi uma linguagem muita usada nos anos e até boa parte dos anos especialmente em alguns países como o brasil de fato muitos sistemas administrativos ainda usados hoje foram feitos nele mas ainda é possível desenvolver softwares modernos usando ele a maioria dos programas se encaixam bem em espaço de endereço de menor que gb mas em alguns casos o programa pode precisar usar os novos recursosinstruções do processador que só estão disponíveis na arquitetura x infelizmente o procedimento normal seria gerar um executável bits e ganhando o custo dos ponteiros terem o dobro do tamanho há aplicações específicas em que a maioria das estruturas de dados tem grande parte de seus elementos compostos por ponteiros ponteiros grandes produzirão cache missen com mais frequência e se você não vai usar memória além dos gb ponteiros de bits são puro desperdício existem compiladores onde eu possa usar registradores e instruções específicas x mas preservando os ponteiros de bits para economizar a memória em quais plataformas é possível fazer isso de forma transparente em código legado há um switchflag para ligar isso no compilador caso não seja possível trabalhar com código legado o que é necessário mudar no código para obter os recursos de bits enquanto mantêm ponteiros de bits eu sei que isto só é vantajoso se essa economia de memória realmente é importante  arquitetura de software engenharia de software aparentemente esses dois conceitos são relacionados mas qual a diferença entre eles tenho um layout com uma barra de navegação horizontal na parte superior do site ele está com quando rolar a página o menu deve ser fixado no topo da janela mas com qual a melhor forma de realizar isso é uma questão bem básica porém que me intriga bastante vejam o código abaixo agora vejam o mesmo com e ou seja o mesmo fim pode ser obtido de ambas as maneiras o e não teriam apenas efeito semântico muitos sites do governo brasileiro costumam não ter certificados de segurança válidos exemplos httpswwwibamagovbr validade expirada httpswwwibgegovbr autoassinado url inválida httpswwwfunaigovbr autoassinado httpswwwbrasilgovbr ca desconhecido icpbrasil httpswwwsenadogovbr ca desconhecido icpbrasil url inválida na maioria dos casos o browser diz que o certificado raiz da autoridade de certificação não é confiável e outros ainda estão simplesmente com a validade expirada essa situação é incomum em sites comerciais mas de vez em quando também topo com um desses e naturalmente eu próprio tenho certa dificuldade de manter os sites que gerencio sempre com certificados válidos é necessário que um site tenha certificado válido para que a comunicação com ele seja segura por que alguns desses sites do governo têm funções muito importantes ex receita federal ministério do trabalho siape é seguro continuar utilizandoos apesar do alerta de segurança apresentado alguns chegam mesmo a instruir o usuário a ignorar esses alertas já me foi sugerido pelo meu antigo provedor de hospedagem usar certificados do cacertorg em vez de um autoassinado pois eles ainda não são reconhecidos pelos principais browsers mas muitos sistemas já aceitam ou seja ainda é invalido seria essa uma prática aceitável posso simplesmente dizer pros meus usuários ingnorarem o alerta de segurança e pronto tal como esses sites do governo fazem que impactos um certificado inválido tem na segurança de um site  atenção não estou procurando por pedaços de código prontos quero apenas que alguém me ajude a pensar em alguma forma de gerar esses primos da forma mais eficiente possível em python estou resolvendo a questão do codeabbey mas não estou conseguindo pensar em como gerar os primos que o exercício pede o enunciado basicamente considera que existe uma list que contém todos os números primos do mundo a começar pelo com base nessa list o enunciado dá uma série de índices índices dessa list e o programa tem que retornar o primo que ocupa esse índice nessa list imaginária ex na list o índice é o é o enunciado garante que a série de índices que ele vai fornecer aleatoriamente não possui nenhum índice superior a por isso primos no máximo exemplo de input e output no final do enunciado o codeabbey avisa que existe uma forma de gerar o resultado em segundo eu poderia deixar o meu código do jeito que está agora esperar dois dias e dar a resposta hahaha mas isso seria trapaça e eu não teria aprendido nada com o exercício deixei o meu programa rodando por minutos e não gerou resultado talvez um segundo seja muito pouco tempo mas com certeza tem como resolver em hm menos de segundos para tentar resolver estou implantando o sieve of eratosthene ou crivo de eratóstenes segue meu código atual faz um tempo estou tentando aprender a usar promessas e programação assíncrona em javascript mas até agora não tive muito sucesso nisso já entendi que existem funções que retornam as tais promessas e que então é possível encaixar um callback no método do objeto retornado também sei construir funções que retornam promessas usando a biblioteca meu problema é que não sei como usar as promessas na prática sempre que tento vira uma confusão e acabo tendo um monte de s aninhados e na maioria das vezes nada funciona sem falar que é extremamente comum que eu caia em situações do seguinte tipo preciso de certos dados que são carregados do servidor essa chamada retorna uma promessa mas eu preciso dos dados em uma função que é executada logo em seguida na verdade não estou conseguindo pensar do jeito certo com programação assincrona e promessas é muito natural pensar daquela forma primeiro acontece isso e em seguida tem que acontecer aquilo mas parece muito estranho pensar alguma hora vai acontecer isso e nem sabemos quando vai acabar e precisa acontecer uma outra coisa que depende da primeira alguém poderia dar algumas dicasreferências pra pegar o jeito mesmo disso distinct a instrução select distinct é usada para retornar apenas valores distintos diferentes dentro de uma tabela uma coluna geralmente contém muitos valores duplicados e às vezes você só deseja listar os diferentes valores distintos sintaxe group by a instrução group by geralmente é usada com funções agregadas count max min sum avg para agrupar o conjunto de resultados por uma ou mais colunas sintaxe retorna valores diferentes valores agrupados também ficam distintosdiferentes para demonstrar que os mesmo resultados são retornados usando ambas as declarações eu fiz um teste sql fiddle algumas dúvidas qual a diferença entre ambas as declarações além da sintaxe em relação ao desempenho existem diferenças existe alguma possibilidadeexemplo na prática em que o uso das declarações é necessária poderiam dar exemplos de uso ideal de cada uma das declarações pode parecer bobagem mas esses tipos de declarações confundem as pessoas e apesar de não parecerem o uso de ambos trazem resultados iguais eu preciso do regex para detectar quando a bandeira do cartão de crédito é hipercard aura e elo eu já possuo regexes para amex martercard diners club visa discover and jcb tem um jogo de tanque d usando a unityengine em c em que é jogado na lateral da tela vendo apenas os lados dos tanques em que tem o tanque verde e o vermelho o verde precisa atirar e acertar o alvo vermelho o jogo lhe dá a força e ângulo ambos variam de acordo com sua mira em alguns turnos é definido um tempo aleatório que varia de à mas nesse aplicativo que estou criando é possível manualmente você pode definir o vento e sua direção não querendo dizer que é alterado o vento do jogo mas sim da trajetória que o aplicativo está calculando nota o vento já é gerado de uma forma aleatória de para com esse aplicativo que estou criando você apenas calcula a trajetória para te ajudar no jogo notem que o ângulo é espelhado mas já implementei uma função que nos dá o ângulo exato o jogo é dividido por turnos em todo turno o vento muda junto com sua direção o vento varia de para na direção direita ou esquerda nunca maior ou menor que isso a trajetória pontilhada é o que é projetado nesse aplicativo o processo está pronto a trajetória está sendo exibida o problema é que ela não é influenciada pelo vento qualquer mudança no vento ela irá permanecer sendo influenciada apenas por ângulo e a força não por vento eis o problema grande atualização da pergunta coloquei uma parte importante que estava faltando na pergunta o calculo horizontal resuminho básico o valor é calculado em base do tempo de voo para cada x basicamente entre à como mostrado na declaração do lopping acima que são os limites horizontais do jogo o valor representa o tempo de voo de para a posição i x como a trajetória é afetada com o vento abaixo está a minha trajetória a linha contínua e a trajetória do tiro a linha pontilhada o vento que estava presente no jogo era é percebível que além da altura o formato e a distância da trajetória também foram alterados com o vento brevemente minha dúvida é como implemento vento nessas formulas o seguinte código imprime vezes o texto mensagem em um veja o exemplo no jsfiddle eu entendo que isso ocorre porque o valor de é atualizado na função externa e no momento da execução da função interna a referência aponta para o valor atualizado como fazer para imprimir o valor da variável correspondente ao número da iteração ou seja o valor de no momento em que a função interna foi criada na chamado do resultando em textos de mensagem a mensagem estou criando meu primeiro aplicativo na plataforma android e até onde eu sei um dos pontos negativos dessa plataforma é que os dispositivos existentes no mercado possuem diferentes tamanhos de telas eu criei um projeto no eclipse e verifiquei que ele cria tipos de pastas para adicionar as imagens e a minha dúvida é a seguinte como saber qual o tamanho das imagens referente a cada tipo de tela eu tenho uma imagem com o tamanho de x e funciona corretamente para a tela do s mas em outros celulares com telas menores fica bastante diferente o que tenho que fazer para deixar todos de acordo indiferente do tamanho da tela qual o tamanho das imagens para cada pasta se tenho uma imagem para s no tamanho x vejo algumas perguntas no site com a tag ux sobre posicionamento de controles cores etc isso normalmente me parece fazer parte das escolhas do designer ou até mesmo do usuário o que é ux e como isso pode me ajudar a desenvolver aplicações melhores ou mais agradáveis para os usuários recebe como parâmetro um valor numérico por exemplo ou e tenho uma função que retorna um valor um booleano se todos os números forem iguais ou se forem diferentes como procedo com o algoritmo quando se lê sobre arquitetura de software na web às vezes é usado o termo código spaghetti se referindo a algo que deve ser evitado porém nunca consegui entender com clareza o que código spaghetti significa o que são escopo léxico e escopo dinâmico e quais são suas principais diferenças bom eu estava pensando como sites com grande acesso usuários fazem testes em seu software e os testam para lançamento final por que qualquer coisa ou erro de código pode ocasionar em falha bruta do sistema é interrupção em nível geral o que ocasionaria um prejuízo feio eu li um pouco sobre automação de testes no php com o phpunit entretanto fiquei em aberto com a seguintes dúvidas no geral qual seria uma boa forma de testar o software seria interessante usar processos de testes manuais ou automáticos existem critérios para realização de tal como definir que aquele software está apto para o usuário final sei que srp significa princípio da responsabilidade única cada classe deve ser responsável por tal coisa o que devo fazer pra detectar que estou violando o srp o que devo levar em consideração para aplicálo corretamente uso com moderação uma dúvida de como exemplo estou desenvolvendo o framework na parte referente à biblioteca da sempre considero esses fatores carrega um arquivo para view carrega os dados da view possibilidade de estender essa view possibilidade de criar blocos para a view em cada um desses casos devo me preocupar em criar uma classe que faça o que é pretendido ou jogo tudo na classe se considerar jogar tudo na classe estaria violando o srp em c variáveis locais no escopo de um método podem ser declaradas com tipo implícito usando e o tipo é resolvido em tempo de compilação exemplo da msdn casos de uso de tipos anônimos chegam a exigir o como já mencionado numa resposta aqui do site porém nos casos em que ele é opcional a escolha é puramente uma questão de estilo existem recomendações oficiais ou não contanto que justificadas para se utilizar ou evitar o em determinadas situações como eu posso centralizar horizontalmente uma que está dentro de outra utilizando apenas css no caso podemos assumir que externa tem a largura de esses dias vi nosso colega maniero comentando sobre a existência do net native em uma resposta sobre c e c vi que a microsoft anunciou em abril de o preview do net native e pesquisando sobre o assunto encontrei essa página explicando httpmsdnmicrosoftcomptbrvstudiodotnetnativeaspx pelo o que entendi a ideia é permitir que código escritos em c sejam compilados para código nativo da máquina isso deixaria os aplicativos mais rápidos e usando menos memória como o assunto é novo e estou cheio de perguntas eis algumas delas por que a microsoft está fazendo isso não será mais necessário ter o net framework instalado nas máquinas vamos ter que compilar nossos códigos para tipos diferentes de arquiteturas x x programas que usam o net native vão poder rodar em qualquer tipo de dispositivo e sistema operacional vou poder desenvolver um driver ou um sistema operacional com isso isso é só para apps da windows store terá alguma diferença em como desenvolvemos hoje quem puder compartilhar um pouco sobre o assunto é muito bem vindo inclusive se quiserem editar algo na pergunta afim de enriquecer a questão encontrei em um arquivo minificado do bootstrap o seguinte o operador parece estar sendo aplicado entre duas strings o que significa isso quero jogar a data atual num input mas no formato brasileiro ddmmyyyy meu código estava olhando uns códigos e me deparei com o operador qual a diferença do primeiro código para o segundo qual a forma correta de se fazer uma substituição regular em javascript para todas as ocorrências encontradas a forma como faço atualmente ou até não me parecem ser as mais adequadas utilizar validações em javascript é suficiente para uma validação eficiente exemplo validação de datas é necessário verificar também no código quais as desvantagens de só realizar validações via clienteside podem causar para que serve o no javascript ele funciona apenas para obter os valores do objeto como se fosse uma variável ou também é possível definir ou alterar propriedades através dele exemplo se tenho uma imagem horizontal x e coloco a regra css a redução não fica proporcional e se coloco dá errado com imagens horizontais e verticais como acertar isso \\r \\r \\r \\r \\r \\r eu tive uma aula na faculdade que me deixou meio intrigado meu professor estava falando das diferenças das linguagens interpretadas e das linguagens compiladas e destacou que as linguagens interpretadas poderiam ter seu código roubado quando nas compiladas isso não acontece aí abriu uma série de dúvidas onde a principal é se meu código é compilado e não dá pra saber como foi escrito como os antivírus sabem que ele pode ser perigoso pelo que eu andei lendo os três conceitos são bastante parecidos mas eu fiquei confuso quanto a definição clara e exata deles pelo que eu sei uma expressão lambda por ser entendida como uma função inline ou um procedimento que se passa para outro procedimento como no pseudocódigo abaixo entretanto o conceito que eu tenho de closure é exatamente o mesmo de cima com duas diferenças por alguma razão parece importante destacar que um closure referencia uma variável fora de seu escopo closures podem ser atribuídos a variáveis e manipulados como se fossem objetos entretanto recentemente andei aprendendo groovy que me apresentou um conceito de closure ligeiramente diferente a groovy closure is like a code block or a method pointer it is a piece of code that is defined and then executed at a later point it has some special properties like implicit variables support for currying and support for free variables which well see later on well ignore the nitty gritty details for now see the formal definition if you want those and look at some simple examples fonte em palavras mais simples um closure é um objeto groovy aliás é um objeto java que se comporta como um bloco de código e um cidadão de primeira classe que pode ser passado como parâmetro para métodos atribuído a variáveis e ter sua assinatura de método redefinida coincidentemente o c apresenta exatamente o mesmo conceito que ele chama de delegate no entanto a descrição dessa feature destaca que um delegate pode ser atribuído a outro método já existente que se conforme com sua assinatura a delegate is a type that safely encapsulates a method similar to a function pointer in c and c unlike c function pointers delegates are objectoriented type safe and secure the type of a delegate is defined by the name of the delegate the following example declares a delegate named del that can encapsulate a method that takes a string as an argument and returns void fonte quais as diferenças entre uma expressão lambda um closure e um delegate como uma música é interpretada pelo computador entendo que uma imagem é uma matriz de pixels em que cada elemento é uma cor quando abro uma música no ele a apresenta como duas sequências left e right de frequências conforme a imagem será que é correto afirmar que uma música é uma matriz com duas colunas e o número de linhas sendo alguma unidade de tempo como realizar o procedimento de captura de imagem da webcam do usuário em um formulário de cadastro para enviar via busco por uma solução que seja compatível com a maioria dos navegadores e que seja de simples implementação é possível fazer um tooltip com css puro ou seja sem jquery sem javascript mas somente com css por exemplo quero fazer isso baseando no seguinte elemento preciso mudar a posição do na máscara com esta solução o resultado é o seguinte para celulares e para fixos porém gostaria de deixar para celulares e enquanto desenvolvia vi que em grande parte das minhas classes continham uma certa quantidade de que não estavam sendo utilizados e me veio a dúvida do título using não utilizado afeta o desempenho da aplicação de alguma forma é preciso sempre remover os não utilizados ou isso não fará diferença vejo grandes conhecedores aqui do sopt dizerem a frase quer desempenho esqueça o php por exemplo perguntas sobre php como posso melhorar o desempenho disso claro que sabemos que desempenho vem muito da estrutura do código mas essa afirmação esqueça desempenho no php não seria pelo php não ter desempenho mas sim porque é um fator a não ser considerado quando o cenário é o php em comparação de sua tecnologia com uma outra correto então gostaria de saber acredito eu que quando dizem que o php não se foca em seu desempenho seria em comparação a outras linguagenstecnologias isso seria sobre o php ser uma linguagem interpretada somente o php ou todas as linguagens interpretadas ou correlacionadas entendendo melhor o tipo de resposta que eu gostaria como no comentário feito é dito isso porque o php não foi feito para ser rápido simples assim php foi criado para ser fácil e ter entrega rápida abrindo mão da performance que em aplicações web não é crítica se precisa de performance não use php assim como se precisar martelar um prego não use um alicate anderson carlos woss antes de comentar ou responder entenda não é comparar qual a melhor linguagem ou opinião mas sim sobre a diferença entre as tecnologias eou seus limites estou fazendo um pequeno sistema e para acessálo o usuário digita o login e senha qual a melhor forma segura e simples de fazer o sistema de login e senha trabalhando em um projeto aqui na empresa me deparei com alguns comandos que estão agora sendo mais utilizados mas até que entendi porém um que me chamou a atenção por desconhecer o que é alguém já viu o seguinte exemplo quem já viu e sabe a respeito poderia passar uma breve explicação é apenas curiosidade para entender melhor existem outros similares existe alguma diferença entre e eu sei que os dois retornam o mesmo resultado tem algum tipo de convenção adotada para usar sempre o desde que abri um projeto online estou tendo problemas com invasão onde alguém está fazendo inserções diretas no banco de dados foi o que me deu iniciativa para por em todas as variáveis recebidas através do método e as funções utilizei dois programas para fazer scanner para analisar o site acunetix e scrawlr onde na primeira vez retornou variáveis vulneráveis mas agora fiz todo o procedimento nas mesma e agora não da mais sinal de problema porém mesmo assim o atacante ainda consegue invadir o servidor mesmo tendo a certeza depois de ter verificado todas as linhas de código do projeto um heisenbug é um bug que muda seu comportamento ao ser estudado ele tem seu nome derivado devido ao princípio que heisenberg detectou que a simples observação passiva de processos quânticos alteram o resultado final heisenbugs típicos acontecem com condições de corrida pois qualquer tipo de medição que você faça como trace debugging ou break points acaba por sincronizar os processos concorrentes de uma forma ou de outra o andré lfs bacci indicou que usar ponto flutuante para fins monetários podem causar heisenbugs na física quântica não existem observações puramente passivas mas isso são detalhes então imaginem que estou numa situação complicada tentando resolver um problema no sistema e até consigo reproduzir o bug mas quando eu tento ver mais coisas sobre o bug colocando um break point estratégico esse bug deixa de acontecer nesse momento me deparo com aquela situação omg um heisenbug o phb me pergunta o que está acontecendo o suporte está com o cliente na linha preciso dar uma resposta sobre como está o andamento do estudo desse problema preciso pedir mais tempo para tentar sanar porque não é um bug simples mas um heisenbug como consigo explicar para o chefe e para o suporte sobre o heisenbug eles não são os mais profundos conhecedores da programação acham que só por um resolve o problema magicamente de preferência explicações que não resultem na minha demissão como posso declarar uma constante em javascript procuro o equivalente ao menos semanticamente de em c tenho ouvido falar bastante sobre injeção de dependência a pergunta é como quando e para que usar estou pensando em fazer uma aplicação para vender gostaria de saber como proteger meu código fonte para manter meu software seguro eu vi que os bytecodes do java armazenados no arquivo são facilmente convertidos de volta para usando a ferramenta java decompiler os podem ser facilmente encontrados dentro de um para o caso dos desktops ou até mesmo em um conforme mostrado nesse post como fazem os milhões de aplicativos no google play para protegerem seus códigos fontes pois deixálos expostos me parece meio inseguro ou não é se sim se é inseguro tem como eu desenvolver aplicações que mantenham escondido o código fonte em java para desktop e android edição a resposta do mgibsonbr me convenceu de não ser paranoico e querer proteger todo o código fonte entretanto existem alguns pontos da aplicação que não podem ser revelados por motivo de segurança dos dados por exemplo imaginem o estrago se alguém tiver o endereço o usuário e a senha do seu banco de dados nos comentários o mgibsonbr tentou responder essa minha dúvida mas eu não entendi ou talvez eu não tenha deixado a dúvida clara enfim sobre o ofuscador através de testes pude ver que ele funciona entretanto tenho dúvidas se ele é mesmo a solução que eu procuro ou se a solução na verdade é remodelar o meu software de uma maneira que não guarde no código fonte nenhum tipo de informações que exijam segredo como por exemplo usuário senhas e endereços de bd se a solução for remodelar o software por favor me expliquem como manter um arquivo externo ao código fonte de uma maneira que não seja possível o hacker copiar a parte do meu código fonte que faz a leitura desse arquivo externo tendo então o código que consegue ler o arquivo da mesma maneira que meu software faz é comum que se ensine que o certo é deixar os atributos da classe privados e criar e para eles tudo por causa do encapsulamento isso não é a mesma coisa que deixar tudo público já que você pode alterar e obter o valor livremente isso não cria apenas uma ilusão de encapsulamento é recomendado ou não o seu uso por quê li em alguns lugares que não é recomendado o uso exagerado do pois ele torna seu código difícil de ler e de dar manutenção logo não é uma boa prática o que seria o uso exagerado de em um código quais são as boas práticas em um código para evitar muitos s edit a idéia da campanha anti if na verdade não é exterminar o if e sim estimular o uso correto da programação orientada a objetos que deixa o código mais limpo e de fácil manutenção a minha pergunta é na verdade saber como eu devo substituir os zilhões de if s por uma boa diagramação de classes que conceitos da programação orientada a objetos são utilizados para atingir tal objetivo entre outras palavras porque trocar o condicional imperativo pelo polimorfismo ou outra forma que facilite o entendimento e organização do código fontes de motivação leitura campanha anti if anti if campaigninglês eu estudei java há bastante tempo e estou bem familiarizado com o funcionamento de tipos genéricos nessa linguagem sei que só existem em tempo de compilação que sofrem type erasure ao final da mesma de modo que no tempo de execução essas informações não estão disponíveis e tenho uma certa noção das dificuldades ao se aplicar polimorfismo em tipos genéricos agora estou aprendendo c e reparei que embora essa linguagem use notação semelhante a semântica não parece ser a mesma por exemplo ao ver essa pergunta entendi que o runtime do c guarda a informação dos tipos genéricos em vez de descartála diferentemente do java isso está correto além disso nunca vi um exemplo em c que utilizasse coringas wildcards como isso é possível ou mesmo necessário nessa linguagem por fim c suporta métodos individuais e não somente classes genéricos se sim qual a sintaxe equivalente dessa construção em java se houver algum detalhe adicional que mereça destaque ou talvez algum material de referência para aprender mais também será bemvindo em javascript podemos declarar uma matriz de duas maneiras e qual é a diferença entre as duas e que consequências dai advêm esta pergunta está a ser colocada com o propósito de documentar em português a sua versão original que pode ser vista no soen whats the difference between array and while declaring a javascript array sempre achei que o operador funcionava apenas como uma forma mais curta para o incremento tradicional por exemplo ao invés de mas ao realizar o seguinte experimento então quando executo resulta em erro enquanto compila normalmente diante disso será que é possível afirmar que na verdade é semelhante a tenho essa dúvida qual a diferença entre e e entre e qual deles devo usar como saber se o código é de fácil leitura e manutenção costumo abstrair grande parte dos meus códigos tenho costume de usar muito funções lambda no c como essa função para validação de cpf nesse exemplo comentei para facilitar quem for realizar leitura ou alteração no código a solução seria comentar eou utilizar a quantidade mínima possível de funções prontas que agilizam muito desenvolvimento quais outras técnicas podem ser usadas para melhorar a legibilidade do código eu tenho duas aplicações em domínios diferentes e preciso realizar uma requisição ajax entre elas via ou de forma crossdomain qual seria a maneira mais segura de implementar isto em javascript sem fazer uso de nenhuma api ou framework de uma forma que funcione em todos os navegadores crossbrowser quando estudei mvc pela primeira vez no livro falava muito sobre ddd domaindriven design pelo que eu entendi na época a ideia do ddd era simplesmente programar o software com foco no desenvolvimento da camada de domínio depois disso lendo sobre o processo de análise e projeto em orientação a objetos tive a impressão de que sempre que programamos um software orientado a objetos damos essa ênfase na camada de domínio começando por ela e usando os requisitos pra montar ela corretamente isso faz parecer que o ddd prega basicamente a mesma coisa que o processo de análise e projeto em orientação a objetos dessa forma o que realmente é o ddd e quando ele se aplica de verdade quais as vantagens de se usar ddd em um projeto eu sei que existe um livro chamado domaindriven design tackling complexity in the heart of software mas por ser um livro muito extenso nunca consegui parar pra ler ele existe alguma referência mais resumida sobre o assunto vejo isso em várias classes de terceiros lembrando que o fechamento geralmente é o mas sem é muito comum falarse sobre o padrão mvc modelviewcontroller mas as siglas mvp modelviewpresenter e mvvm modelviewviewmodel são bem pouco citadas o que eles são e qual a relação deles com o mvc qual a melhor forma por melhor eu quero dizer com maior compatibilidade possível entre browsers e o mais simples possível de posicionar um elemento no centro da página vertical e horizontalmente e independentemente de resolução utilizando somente css é comum vermos em softwares para qualquer plataforma alguns lugares onde o usuário pode selecionar uma opção e para identificar lá o que é esta opção pode haver um ícone ou pode haver um texto curto ou ainda podemos encontrar ambos imagino que existam contextos onde uma opção é mais adequada que outra ou será que só uma delas é adequada e as outras são usadas erroneamente por contexto falo da plataforma do tipo de aplicação do tipo de operação onde tem esta representação tipo de audiência etc alguns softwares adotam um default mas deixam escolher isto existe alguma desvantagem em dar esta escolha para o usuário obviamente não estou buscando opiniões nem quero saber o que você usa preciso de justificativa clara e tão fundamentada quanto possível eu sei que idealmente testes devem ser feitos com a audiência nem sempre isto é possível por um motivo ou outro você encontra na internet a afirmação que singletons são ruins isto é verdade por quê o problema seria generalizado para quaisquer objetos com instância única ou para qualquer coisa que tenha estado global se é tão ruim pra que foi inventado ou seja que problema ele queria resolver quais os problemas que terei se usálo existe alternativa viável recentemente em meus estudo notei um objeto que manipulava o dom do elemento que tinha o mesmo nome em seu id \\r \\r \\r \\r \\r \\r dúvida por que os ids vão para o global space se eu posso acessar o elemento direto por seu id por que usar getelementbyid nota objetos de nome composto são acessíveis no window \\r \\r \\r \\r \\r \\r  em quais situações devem ser usados qual a diferença entre eles para aceder a uma área em particular do site tenho que indicar de um a três parâmetros no url url normal através do htaccess estou a tentar permitir acesso aos módulos submódulos e conteúdos específicos da seguinte forma até ao momento tenho o seguinte o código em baixo permiteme aceder ao módulo mas tenho que o repetir por cada módulo existente faltando ainda lidar com submódulos e conteúdos específicos pergunta como é que consigo através do ler os endereços para que possam ser utilizados de ambas as maneiras em cima apresentadas tendo em conta os três possíveis parâmetros sou estudante em sistemas de informação e estou modelando um jogo um pet virtual que tem suas necessidades e conversa com seu dono abaixo segue a modelagem das classes e interfaces mostrei para um amigo formado em ciência da computação ele achou que tem muitas interfaces que não era necessário eu argumentei que caso no futuro eu poderia dar manutenção e implementar pets da forma que eu quisesse sem muito esforço podendo criar um pet híbrido entre animal e robo e atribuindo a ele seus comportamentos através das interfaces mas enfim ele veio com argumentos de desempenho da aplicação minha dúvida é se minha modelagem que não está pronta apenas um esboço com tantas interfaces é uma má prática de programação quando devo utilizar uma interface link da imagem preciso colocar um com aquele olho do revelar senha porém tem que funcionar da seguinte maneira usuário clica no olho e ao soltar esconde os caracteres novamente segue uma foto de exemplo atualmente temos percebido que muita gente vem utilizando a tag para ícones e não para itálico se ainda estivéssemos na era préhtml isso estaria totalmente errado segundo especificação da tag do html agora ela é utilizada para o texto de uma voz alternativa como palavras estrangeiras transliteradas termos técnicos e tipografias então se utilizarmos icon fonts que são tipografias de imagens o código continuará semanticamente correto certo no wikipédia possui a seguinte afirmação na teoria de linguagens formais uma linguagem livre de contexto llc é uma linguagem gerada por alguma gramática livre de contexto glc diferentes gramáticas livres de contexto podem gerar a mesma linguagem livre de contexto ou inversamente uma dada linguagem livre de contexto pode ser gerada por diferentes gramáticas livres de contexto oh god no entanto achei a explicação um pouco confusa embaralhada e sendo assim ainda pergunto o que é uma linguagem livre de contexto como é possível se é possível definir se uma linguagem é livre de contexto ou não comecei a estudar aspnet mvc e me deparei com o termo scaffold não entendi muito bem por isso as perguntas º o que é º qual sua utilização dentro do aspnet mvc pelo que sei programação assíncrona em c por exemplo se usa da ideia de threads as tarefas a serem executadas podem ser divididas nas threads e então podem ser executadas paralelamente sempre imaginei que javascript fosse igual e que por exemplo quando chamamos a função estamos instruindo que aquele código deve ser transferido para outra thread acontece que depois descobri que javascript não tem isso ele roda em uma thread só e não tem como distribuir as tarefas em threads mas ainda assim a programação assíncrona é um dos pontos principais da linguagem como que isso é feito no javascript e qual a relação disso com promessas e callbacks pelas pesquisas tive o conhecimento que as views em sql são como tabelas virtuais resultados de pesquisas armazenadas de acesso frequente a ws define essencialmente como tabela virtual há que diga que views são pesquisas armazenadas dúvidas o que são views quais vantagens e desvantagens em utilizar assumindo que são tabelas virtuais eu gostaria de saber se elas são sempre carregadas na altura em que o servidor de base de dados arranca e sempre que alguma das tabelas envolvidasrelacionadas a esta view sofrer uma atualização a view sofre de igual modo se for apenas uma consulta que diferença terá com storedprocedure se eu fizer o hash de senhas antes de armazenálas em meu banco de dados é suficiente para evitar que elas sejam recuperadas por alguém estou falando apenas da recuperação diretamente do banco de dados e não qualquer outro tipo de ataque como força bruta na página de login da aplicação keylogger no cliente e criptoanálise rubberhose qualquer forma de hash não vai impedir esses ataques tenho preocupação em dificultar ou até impossibilitar a obtenção das senhas originais caso o banco de dados seja comprometido como dar maior garantia de segurança neste aspecto quais preocupações adicionais evitariam o acesso às senhas existem formas melhores de fazer esse hash qual a diferença entre e quando devo usar cada um especificamente vejo como uma dúvida muito frequente quando devemos usar o ou o no php qual forma é mais adequada para o uso e qual a diferença das situações sei que são funções que não tem o nome especificado mas qual a finalidade é possível recursividade com funções anônimas ex sequência de fibonacci \\r \\r \\r \\r \\r num handler de evento do jquery podese usar e ou combinações desses para cancelar a ação do evento sei que tem diferença no comportamento deles mas sinceramente sempre que preciso fazer algo do tipo começo com e vou na tentativa e erro porque ainda não compreendo muito bem a diferença já li em algum lugar que é a mesma coisa que acionar e ambos e já li gente dizendo que não é bem assim alguém pode explicar melhor como devo fazer pra decidir qual desses caras eu preciso com exemplos boa noite estou tentando fazer um acesso de minha máquina local a um servidor e estou recebendo esta resposta no accesscontrolalloworigin header is present on the requested resource origin httplocalhost is therefore not allowed access porém usando o postman eu consigo este são os requisitos do servidor meu código alguem me da uma luz ok já li o que uma arquitetura de microservios e artigos sobre o assunto sei o que é e como funciona mas ainda não sei que problema ele tenta resolver quais as vantagens de usálo do ponto de vista do desenvolvimento e manutenção de software e do funcionamento da solução e as desvantagens me parece que ele gera um overhead dá a impressão que a solução se torna mais complexa e quais minificadores posso usar existe diferença entre além de um ser javascript e o outro ser jquery vejo que ambos os eventos são disparados assim que o dom modelo de objetos do documento é carregado na prática como são escritos estou desenvolvendo um projeto para automação comercial utilizando pafecf e tudo o mais aual seria o melhor tipo de dados para trabalhar com sql server e c para questões de dinheiro principalmente em relação a arredondamentos e truncamentos imagino que as melhores opções sejam ou mas não consigo encontrar boas fontes confiáveis que se adaptam ao meu caso para que eu possa implementar com segurança existe diferença de performance entre utilizar um if e um operador ternário em c utilizo resharper ferramenta de produtividade para o vs ele insiste que o operador ternário é melhor mas não me explica o porque código antes do refactoring depois achei engraçado o exemplo mas é válida a pergunta no sentido de entender o porquê de o php se comportar dessa forma quando fazemos a soma exemplificada abaixo uma inteiro somado a uma string o resultado é porém nesse caso ele retorna apenas por que o interpretador do php se comporta dessa forma como busco nos correios os detalhes de um endereço utilizando seu cep similar aos cadastros de endereço que vemos nos sites de ecommerce até o java tínhamos as classes e para representar datas para convertêlas para s a forma mais fácil era com o uso do o java introduziu uma nova api de datas como é que ela pode ser usada como faço para integrar ela com as e que são usadas em código já existente e legados qual é a relação dele com o jodatime me parece que o conceito de protótipo é fundamental em javascript e inclusive em vários lugares tenho lido que é um de seus pontos fortes entretanto este não parece um conceito tão simples de entender para quem vem de outras linguagens assim pergunto como funcionam protótipos em javascript estou começando a estudar composer e estou desenvolvendo um sistema onde separo arquivos do core de arquivos da aplicação da seguinte forma root src app dbconfig controller model core helper controller model então para setar esta configuração no arquivo composerjson e conseguir ter acesso a todas as classes tanto de app quanto de core seria desta forma autoload psrx app src core src ou há uma forma mais correta tenho lido também sobre psr vs psr e ainda estou um pouco em dúvidas de qual utilizar neste meu caso qual devo implementar psr ou psr por que é obrigatório implementar esse método em uma aplicação java tenho usado uma biblioteca de javascript para fazer iconessimbolos de uma app de metereologia queria agora fazer em svg o simbolo da nuvem céu nublado e questionome sobre qual a melhor abordagem fiz um svg com a linha da nuvem estática jsfiddle e uma rotação básica que não é o efeito pretendido uma vez que a nuvem original na animação com o canvasjs tem arcos que expandem e contraem à medida que rotacionam possiveis abordagens que pensei fazer circulos usando dash para ter só arcos e depois tentar animar esse valor e fazer tudo rodar à volta de um eixo fazer path e depois tentar animar esse valor e fazer tudo rodar à volta de um eixo haverá uma maneira melhor e que funcione em browsers modernos de maneira a recriar a animação mas com svg o exemplo de js como no jsfiddle em cima \\r \\r \\r \\r \\r \\r ao criar um componente usamos para identificálo por exemplo qual é a diferença de usar sem o no lugar do é correto usar um ou outro otimização prematura é quando há uma preocupação excessiva por parte do programador com o desempenho da aplicação ela é normalmente condenada por alguns programadores por motivos como isso pode deixar o código mais complexo sua produtividade cai você perde tempo há uma grande chance de você se preocupar muito com otimizações que não trarão uma melhora perceptível pelo usuário a recomendação seria que você primeiro fizesse funcionar e só depois identificasse os gargalos de desempenhos e os corrigisse porém há certas otimizações que devem ser levadas em conta desde o início pois depois pode se tornar mais difícil otimizar até que ponto devemos nos preocupar com o desempenho sem que isso cause uma perda considerável na produtividade existe alguma situação em que ter o banco de dados desnormalizado é mais interessante que têlo normalizado por exemplo normalizado desnormalizado em algum momento o segundo caso é mais apropriado que o primeiro qual a melhor forma de se representar unidades monetárias ie dinheiro em javascript sei que não é bom usar ponto flutuante dado o problema de arredondamento mas não sei qual seria a melhor alternativa outras linguagens têm tipos como builtins mas até onde eu saiba não tem nada padronizado ou amplamente utilizado para esse propósito em javascript até o momento tenho usado inteiros para representar centavos e feito toda formataçãoconversão na mão há uma maneira melhor ou mais limpa detalhes adicionais estou buscando uma resposta canônica haja vista que esse é um requisito comum com o qual muitos de nós precisamos lidar e que frequentemente é feito de forma incorreta uma boa resposta pode tanto ser uma indicação de biblioteca desde que bem embasada quanto um guideline para se implementar manualmente caso a resposta certa seja depende ie não exista uma forma canônica para isso exemplos de critérios a serem considerados não exaustivo confiabilidade essa representação produz resultados corretos em operações matemáticas envolvendo unidades monetárias ex arredondamento correto se comporta bem em casos limite interoperabilidade é simples converter de e para um formato aceito pelo servidor eou sistemas externos em geral um decimal sem separador de milhar e usando o ponto para separar a parte inteira da fracionária robustez se o usuário entrar com os dados incorretamente ex usando o ponto ou a vírgula de forma incorretainconsistente colocando ou não o cifrão etc a conversão para esse formato interpreta a entrada corretamente eou falha consistentemente apresentação é simples formatar esse tipo de dados para ser apresentado ao usuário no meu projeto estou a usar a função no entanto gostaria que fosse em português a saída da data de momento é gostaria que ficasse no mesmo modelo mas em português este é o meu código li essa semana que agora existe uma edição do vs chamada visual studio community já tem a versão pra baixar e vai ter a também assim que sair pelo que estava lendo a partir do vs não vai existir mais o express e só vai ter essa versão community o que não entendi muito bem foi a limitação imposta nessa versão community ela é muito mais completa do que as versões express antigas li nesse artigo que a nova versão community pode ser usada em quaisquer projetos comerciais e não comerciais desde que não seja por uma empresa e seja uma equipe de no máximo programadores já no site da microsoft diz isso download visual studio community for a free fullfeatured ide with powerful coding productivity features crossplatform mobile development tools for windows ios and android and access to thousands of extensions this edition of visual studio is available at no cost for nonenterprise application development mas fiquei em dúvida se esse nonenterprise application development significa desenvolvimento fora de empresas como diz no artigo ou se significa desenvolvimento de aplicações que não sejam para empresas dessa forma minha pergunta é a seguinte um programador que trabalha sozinho ou com uma equipe de no máximo programadores desde que trabalhe por conta própria fora de uma empresa poderá usar o vs community em qualquer projeto seja ele comercial ou não comercial e seja ele código aberto ou fechado estou percebendo a adesão do angularjs e o abandono do jquery por parte de alguns desenvolvedores no entanto não conheço as vantagens do angularjs pois nunca trabalhei com este framework visto que alguns blogs ex jeremyzerr paulhammant encorajam o uso do angularjs gostaria de saber quais as diferenças entre esses frameworks e se vale a pena a troca alguns tópicos tudo que é feito no jquery pode ser feito no angularjs qual utiliza menos código qual é o mais rápido no processamento qual o mais leve qual é o de mais fácil manutenção como é a curva de aprendizado para cada um quais são as limitações de cada um o que um faz melhor do que o outro é legal utilizar ambos ao mesmo tempo obs exemplos são bemvindos comecei em a usar padrão mvc o conceito de model e controller entendo perfeitamente mas a questão de view me intriga o que é a view em um modelo mvc sei que é o que o cliente vê representação dos dados mas o que pode ser entendido como parte de uma view e no caso de uma aplicação separada para a interface do cliente posso considerar essa como a camada de view em outras palavras o que faz parte da view no lado do servidor falando em desenvolvimento web  o que é programação orientada a eventos o que difere entre a programação orientada a eventos e programação orientada a objeto que linguagens podemos citar que são orientada a eventos tenho um textbox queria que quando uma pessoa digitasse uma vírgula nesse textbox ela fosse bloqueada e não aparecesse no textbox como fazer isso da melhor maneira não gostaria que se a pessoa mantivesse pressionada a virgula ela fosse aparecendo no textbox e só depois fosse apagada foi o máximo que eu consegui fazer é apenas conveniência digo é desnecessário instanciar um objeto para utilizar uma função que não utiliza os dados do mesmo há diferença na execução memória processamento recursos em geral eu vejo uma tendência cada vez maior embora isto já existisse antes de criar várias telas vários passos para executar uma única ação claro que o advento de telas menores incentiva isto mas estou falando de desktop normal o mesmo vale para aplicações web normais que não são feitas para rodar em mobile também entendo que telas superpopuladas de informação que permitem fazer várias coisas muitas vezes não relacionadas não fazem sentido mas percebo que antes o que você fazia em um click em interfaces modernizadas acabam exigindo dois três ou mais clicks para se alcançar o mesmo propósito muitas vezes você limpa a tela mas dificulta o acesso à operação desejada este tipo de filosofia me parece prejudica a descoberta da operação realmente atrapalha ter muita informação por que existem estudos ou pelo menos informações consistentes que mostram que um realmente é melhor que outro por que esconder operações é melhor e se não é por que estão adotando isto seria interessante ver um comparação entre as duas situações para entender as vantagens e desvantagens de cada uma e com isto ajudar a entender quando e optar por um mais que o outro existe alguma forma de facilitar a descoberta facilitar o acesso às operações sem sujar a tela há exceções onde não devemos aplicar uma destas filosofias numa discussão com experientes programadores aqui do site a respeito de controle de concorrência surgiram os termos semáforos mutex memória compartilhada monitor e ainda outros os quais estou começando a entender agora toda essas minhas dúvidas começaram quando perguntei sobre processos assíncronos onde percebi que eu não estava entendendo muito bem sobre o termo assíncrono e acabei aprendendo sobre bifurcação de processos no meio disso tudo comecei a pesquisar muitas coisas a respeito de processos de sistemas operacionais e foi aí que aprendi mais um termo ipc que disseram que significa inter process communication mas o que é ipc mais detalhadamente de que forma ele se relaciona com os termos que eu citei acima sobre os quais disse que eu estava discutindo desde que foi introduzida a palavra no ecmascript eu só tenho ouvido falar a respeito até então não vi nenhum exemplo prático e para ser sincero não sei muito bem o que é uma variável e como ela se comporta a única coisa que entendi e bem superficialmente é que ela serve para declarar uma variável local algo relacionado a escopo o que são variáveis para que elas servem quando utilizálas ao invés de quais as vantagens limitações e principais diferenças entre esses sistemas de versionamento git svn e cvs eu já li e reli no wikipédia já assisti uns videos em inglês e em português sobre esse assunto já li vários artigos no google mas não consigo entender por que ela entraria num loop infinito ou por que ela pararia todas as explicações usando a contradição não fazem sentido na minha cabeça por favor sem termos técnicos me ajude com lógica simples a entender estou trabalhando com mas imagino que isso possa ser feito só com quando faço um upload o navegador mostra na barra de status a porcentagem eu gostaria de pegar esse valor e criar a partir dele uma barra de progresso personalizada a barra eu sei fazer só não sei como pegar o valor atual da porcentagem como obtêlo no java o conceito do trywithresources foi adicionado na linguagem o que é o trywithresources como ele funciona para que ele serve como é que ele é usado que problema ele visa resolver algumas linguagens como c ainda possuem a instrução sempre ouvi que utilizála não é uma boa prática eu gostaria de saber quais seriam as razões para evitar o e quais os problemas causados por sua utilização ainda existe por compatibilidade ou para casos muito restritos de utilização quais são os métodos de requisição http entre os quais estão e para que se deve usar cada um deles e qual é a diferença entre eles contexto fui educado na metodologia do processo unificado sei que agile é muito popular hoje em dia mas tenho pouquíssimo conhecimento do processo entendo a filosofia que mudanças são inevitáveis é melhor se preparar pra lidar bem com elas do que tentar evitálas mas isso não é muito consolo quando sou cobrado a apresentar um orçamento mesmo que inicial para um projeto de desenvolvimento pelo up primeiro se orça a elaboração do projeto conceitual que é uma simples questão de estimar o número de horas necessárias para se levantar e analisar todos os requisitos e com poucas consequências negativas caso se erre no julgamento e com base neste se orça o projeto de implementação na teoria parece tudo muito bom mas me falta experiência prática para corroborar essa afirmação problema sei que a resposta correta para como orçar um projeto de software é depende depende do escopo depende dos requisitos específicos depende do cliente mas o fato é que clientes em potencial demandam no mínimo uma previsão preliminar de prazos e custos e às vezes plataforma antes mesmo dos requisitos serem detalhados minha dificuldade é em estabelecer esses parâmetros iniciais ou mesmo ajustar minhas expectativas sobre o que é ou não realizável na prática pergunta quais parâmetros devo observar para fazer um orçamento inicial ou preliminar para um projeto arbitrário de desenvolvimento mais especificamente devo cobrar pelo levantamento inicial de requisitosdefinição do escopo ou esse é um ônus que terei de assumir e se a resposta for não cobrar devo insistir com o cliente que não é possível orçar nada antes de fazer esse levantamento o cliente não vai gostar uma vez que levantar requisitos exige envolvimento de sua equipe também o que lhe traz custos indiretos antes mesmo de ter a certeza que vai mesmo fechar contrato conosco no caso de um projeto de grande escopo embora ainda bastante indefinido devo separálo em um projeto conceitual e um projeto de implementação ou isso é contraproducente esclarecendo projeto conceitual é aquele em que eu faço levantamento e análise de requisitos sendo que o deliverable é uma especificação mais orçamento para a fase de implementação o projeto de implementação esse já feito com bases mais sólidas pode sim ser flexível em relação a mudanças não precisando seguir a especificação a ferro e fogo mas ainda precisa de uma base para ser orçado e essa base seria conseguida através do projeto conceitual por que seria contraproducente não sei apenas é o que sempre ouço dos proponentes do agile que é besteira fazer projeto de grande escala antes de se começar a implementar ao menos um sprint deveria estar previsto que os requisitos mudam o tempo todo e no final pouco do que foi projetado no início será implementado de fato etc em que termos deve ser feito esse orçamento idealmente mudanças nos requisitos deveriam refletir em mudanças nos prazos e custos nisso a turma do up e a turma do agile concordam mas se contratualmente estou obrigado a entregar x no prazo y mediante pagamento de z não me parece viável haver uma mudança contratual toda vez que se fizer uma renegociação de prazos e custos questões jurídicas à parte já que isso está obviamente fora do escopo do site o que eu pergunto é se é melhor fazer um guesstimate de preferência por cima do custo e ir refinando com o passar do tempo porém comprometido com a conclusão do projeto a todo custo ou se devo estabelecer condições para que na impossibilidade de se continuar o projeto dentro dos prazos e custos estabelecidos o mesmo seja encerrado de comum acordo por ambas as partes como fazer isso é claro é responsabilidade do nosso advogado de preferência gostaria de respostas embasadas em experiência pregressa sei que nem todo desenvolvedor está diretamente envolvido com esse tipo de questão mas ao menos os que ocupam uma posição de liderança já devem ter tido que fazer estimativas sob bases incertas e para não ficar muito amplo o ponto central da pergunta é o quanto eu devo assumir de ônus ao estabelecer um escopopreparar uma proposta de graça e quais são os parâmetros mínimos que eu preciso coletar antes de dizer a partir daqui só me pagando estava lendo as respostas da pergunta quando usar waterfall e quando usar scrum e me deparei com algo citado pelo usuário utluiz que me deixou com dúvida que é a sequência de desenvolvimento de software requisito análise design implementação teste integração dúvida eu gostaria de uma explicação a respeito de cada passo desta sequência e qual é a finalidade de cada um dos passos qual a diferença entre ienumerable iqueryable e list no net quando é melhor usar uma ou outra por que o resharper me sugere modificar o retorno dessa função por exemplo de para falam muito mal do mas as vezes me pergunto se ele realmente é o problema ou é a pessoa que está sentada na frente do computador o suporto programador minha vida inteira na programação tenho ouvido críticas piadinhas zoeiras em cima dessa função mas o curioso é que mesmo aqueles que zoam acabam por usar bibliotecas que a utilizam internamente sem saber um exemplo disso é que no sistema de views utiliza exemplo removi os comentários do código original github viewphp linha é verdade o mesmo já está descontinuado mas não está numa era tão distante assim a versão dele é para php porém não seria surpresa se um dos críticos de tivesse utilizando esse framework sem saber dessa informação e ainda eu dou outro exemplo que muitos programadores também usam mas sem saber o superclosure que é utilizado no laravel e laravel essa biblioteca tem como finalidade prover uma possibilidade de serializar closures no php já que nativamente as closures no php não têm suporte a serialização essa biblioteca se torna útil para quem precisa utilizar sistemas de filas como o beanstalkd onde as informações passadas geralmente são uma string e portanto os dados em php precisam ser serializados exemplo github serializableclosurephp linha pensando na utilidade das classes das bibliotecas apresentadas acima lembrando que são só dois exemplos mas deve haver outros casos fiquei me questionando se eu deveria ainda continuar falando mau do ou simplesmente fazer uma análise e avaliar quando é bom ou ruim usálo por outro lado se eu pensar que todo eval independente de como é implementado é um risco provavelmente vou ter que parar de usar as bibliotecas que citei acima e fazer um trabalho todo manual quais são os riscos de usar num projeto devo sempre evitálo se a resposta for sim para devo evitálo então eu também deveria deixar de usar bibliotecas que o implementam afinal de contas isso não pode pôr meu código em risco o deve ser utilizado em alguns casos bem específicos como por exemplo somente em geração de código ou posso utilizálo livremente desde que eu tenha consciência do que estou fazendo nota favor não editar e colocar tags como php ou laravel pois os exemplos foram apenas para mostrar casos onde foi bem recebido se houver exemplos de outras linguagens que o usem será bemvindo quais as diferenças prós e contras entre e qual é a diferença entre aspas simples e aspas duplas em php ontem estava a trabalhar com uma string de um json do google calendar usei para separar uma string quando usei o explode em com deume quando usei o explode em com deume o descrito em cima foi só um exemplo prático com que me deparei seria interessante saber quais são as diferenças em php entre e os métodos http são utilizados para enviar e receber dados do servidor tais como o recupera dados e o envia os dados seguindo a definição acima da para entender muito bem a finalidade do e do porem eu tenho uma dúvida pertinente a respeito de como o http processa a requisição de acordo com o verbo http dúvida como o protocolo http processa por baixo dos panos as requisições ou seja como ocorre a comunicação cliente e servidor através dos métodos de requisição no fim das contas em c um array se torna um ponteiro se não o que são arrays quais as diferenças entre eles como os arrays funcionam internamente de que forma números primos são uma parte importante em alguns sistemas de criptografia como funciona esse processo e em que parte entram os números primos estou estudando javascript e tenho dúvidas quanto às diferentes formas de se fazer um por exemplo isto como exatamente funciona recentemente estou criando muita coisa de html dinamicamente exemplo \\r \\r \\r \\r \\r duvida vendo algumas perguntas sobre js vi que na grande maioria o pessoal monta por string \\r \\r \\r \\r \\r quais a diferenças entre estes métodos tirando o fato de um ser por objeto e o outro string algum deles é melhor que o outro ou são equivalentes tirando eu prefiro assim pois existe algum algoritmo para checar a validade de um número de rg no brasil usando dígitos verificadores como acontece com o cpf caso afirmativo como é esse algoritmo não é minha intenção trazer a confusão dos outros para o site porém ficou uma dúvida minha interna daquelas coisas que se tem certeza e depois vem alguém e faz uma pergunta que mexe com as certezas antigas vi neste site a classificação do top das linguagens de programação e notei que para algumas pessoas html é uma linguagem de programação e para outras não dúvida html é uma linguagem de programação ou não no método da classe eu tenho configurado um isso faz com que os dados recebidos ou enviados por json sejam convertidos de padrão do client javascript para padrão que uso nas propriedades no server e viceversa ex de json que a api recebe num método normal sem usar o isso é traduzido para até aí tudo bem o problema é que eu tenho uma em um que faz uso do e as requisições que são enviadas para este método acabam não passando por esta tradução eu li em alguns lugares que o odata usa um serializador e um deserializador próprio e este deve ser o problema método do existe alguma forma de tratar o casing dos dados recebidos em que usam odata eu vou precisar escrever um novo serializador ou já tem algo pronto que possa me ajudar com isso se for necessário escrever um serializador é possível me ajudar com pelo menos a implementação básica do mesmo exemplo do json que recebo no método com se eu enviar o json como o abaixo funciona normal obs estou usando owin mas a aplicação está sendo hospedada no iis usando o pacote estou com duvidas sobre uma certa questão em javascript suponha o seguinte cenário abaixo \\r \\r \\r \\r \\r nesse caso eu percebi que o meu método foi meio que sobrescrito não sei se é realmente isso que acontece quando chamamos o mesmo só o teste que é exibido agora as duvidas em relação a isso esse é realmente o comportamento esperado quando declaramos métodos com o mesmo nome e parâmetros no js ele irá sempre sobrescrever e vai prevalecer o último declarado existe alguma explicação para esse comportamento se sim qual é essa explicação existe alguma forma de fazer que gere algum erro ou algo do tipo caso alguém cometa esse equivoco e declare métodos com o mesmo nome e parâmetros caso a tenha alguma maneira de fazer o que fazer caso as funções estejam em arquivos js diferentes é comum vermos a recomendação de usar apenas um por funçãométodo mas isso parece algo sem sentido e deixa o código mais confuso em muitos casos veja os exemplos forma como eu costumo fazer forma como é recomendado por que há essa recomendação o que se ganha em usar um único desenvolvi uma página em php para uso interno da empresa que trabalho e apenas pouquíssimas pessoas a utilizam através dessa página é possível fazer algumas consultas inserções alterações e remoções de dados de uma tabela em um banco de dados mysql porém eu acredito que meu código em php não está protegido contra injeção de código sql por exemplo logo digamos que o usuário usar a sentença para ao campo o comando ficaria ele vai inserir um novo registro cujo o campo será e logo em seguida ele vai deletar a tabela produtos como posso melhorar meu código para prevenir essa situação estou com algumas dúvidas quanto ao li em algum lugar e me lembro vagamente sobre a questão da reescrita mas o que é isso e para que serve como se aplica em um código java existe em alguma outra linguagem estou com dúvida na utilização do e atualmente ao criar uma query no sql server fiquei com dúvida sobre e realizei algumas pesquisas e consegui descobrir a diferença de ambos só que me surgiu algumas duvidas que não consegui encontrar realizei a seguinte query dúvidas ao ler em alguns sites vi que o ou tem alguma diferença na hora do em banco só que não consegui descobrir qual deles pois os dois tem o mesmo comportamento ao realizar a seguinte query só que em alguns sites diziam ou quando string ficaria da seguinte forma ex se a coluna tiver o tamanho foi isso que pude entender mais nenhum site mostrava exemplos para melhor entendimento queria saber qual a diferença de ambos na questão em banco ficou um pouco difícil descrever minha dúvida como há uma obsessão por perguntas com acentos aqui vai a minha o sqlite permite fazer comparações diretas ou através do com qualquer encodingcharset desde que seja feito byte a byte ele só permite fazer a comparação desconsiderando a sensibilidade de caixa case insensitive com caracteres ascii eu tenho algumas situações que preciso usar o sqlite com case insensitive e consequentemente accent insensitive também para caracteres latinos iso ou latin não preciso e não uso encoding utf ou utf até porque e não só falta implementação dos devidos tratamentos desses encodings no sqlite a resposta padrão dos desenvolvedores do sqlite que é english centric é que se você precisa de tratamento extra ao ascii você deve providenciar isso eles afirmam que você já terá isso disponível na sua aplicação o que não é verdade no meu caso muitas vezes uso o sqlite em linguagens que não têm o tratamento adequado para normalizar a caixa dos caracteres levando em consideração caracteres latinos pelo menos não de uma forma que podem ser chamadas pelo sqlite se usasse utf ainda não usaria a icuen pelo seu peso em memória e processamento é canhão para matar passarinho e em alguns casos me traria complicações indesejáveis precisaria ser em c para se comunicar diretamente com a api do sqlite sem overhead e para ser portável para qualquer linguagem usada na aplicação e também para o sistema operacional que é outro requisito os principais requisitos normalizar o case tratando caracteres principais desconsiderando acentos do iso leveza memória e processamento simplicidade que permite fácil implantação e manutenção portabilidade de linguagem e sistema operacional evitar duplicação de dados nas tabelas criar coluna normalizada inexistência de dependência externa ou de licença que me permita compilar junto com minha aplicaçãosqlite pode ser uma biblioteca simples ou uma função para inscrever na api do sqlite preferencialmente que também funcione com o e e etc já pesquisei e não resolve meu problema httpsstackoverflowcomquestionshowtosetsqlitetobecaseinsensitivewhenstringcomparinglq só trata ascii httpsstackoverflowcomquestionslocalizedcollateonasqlitestringcomparison exige a icu httpsstackoverflowcomquestionshowdoicomparecharactersincustomsqlitecollationinobjectivec exige linguagem não disponível e nem sei se resolve todo problema httpsstackoverflowcomquestionssqlitepythonunicodeandnonutfdata depende do python httpsstackoverflowcomquestionsusingonlyutfencodinginsqlitewhatcanitrimoutoftheicudataset promissor mas não resolve ou não funciona como o esperado referência api sqlite estou desenvolvendo uma ferramenta para reconhecimento biométrico usando o sdk fornecido em formato dll desenvolvido em delphi para o acesso à dll a partir do java estou usando jna o template da digital a parte mais importante é um objeto que se refere a este trecho em delphi como desenvolver algo equivalente em java basicamente preciso chamar as seguintes funções da dll olhando o exemplo fornecido desenvolvido em delphi vi que o objeto que é passado nas funções e é do tipo declarado no trecho de código mais acima no mesmo exemplo antes de chamar o método o objeto é instanciado e vai vazio onde então é preenchido através da função o leitor é o techmag bioflex que é baseado nos leitores futronic fs pesquisando vi que o objeto do trecho de código faz acesso à memória para ler as informações que o leitor grava nela escreve depois de muitas pesquisa acho que devo desenvolver algum objeto equivalente em java estendendo das classes ou do jna atualização informações sobre meu código leio e armazeno duas vezes a minha digital utilizando o método depois comparo as duas utilizando o método que sempre retorna comando não executado printei os objetos e após ler a digital retorna e retorna interface com os métodos da dll classe que estende structure referente ao objeto cis_digital método responsável por ler duas vezes qualquer digital e comparálas tenho em minha aplicação nomes próprios em maiúsculo por exemplo josé da silva gostaria de formatar da seguinte maneira josé da silva como fazer caso alguém não saiba hoje teremos um segundo a mais ou seja hoje depois das teremos isso para fazer a correção do tempo atômico internacional sei que existem vários serviços que são sincronizados com relógios atômicos como o que fica no observatório nacional que podem ter problemas com esse segundo a mais que tipos de problemas podemos esperar em nossos sistemasservidores e aplicações quando ocorre um evento como esse caso você não esteja sabendo de nada veja algumas matérias falando disso radioagência nacional relógios terão um segundo extra por alterações gravitacionais tecmundo dia de junho terá segundo a mais mas o que isso pode causar como regra geral é considerada má pratica de programação usar métodos estáticos mas em que situações ela se justifica ou não se justifica por exemplo se eu fosse criar um método simples para ler um arquivo de texto criando esse método no tipo de instância eu teria que instanciar a classe apenas para poder executálo o que não faz muito sentido código em portugol já na forma estática eu chamaria o método diretamente recentemente fiz a pergunta porque devemos usar anonymous functions com jquery ao invés da função diretamente e junto com a resposta aceita veio uma segunda pergunta como passar argumentos pra uma função js que estamos invocando por referência como seria a chamada à se esta função recebesse parâmetros simples como um número ou mais complexos como um objeto propriamente dito estou começando a ler sobre desenvolvimento java em camadas e li alguma coisa a respeito sobre o bean uma classe encapsulada mas não encontrei nenhum conteúdo que realmente explicasse a finalidade e um exemplo então o que é e para que serve um bean o que é o cgi common gateway interface e o que ele faz é uma tecnologia antiga existem outras alternativas a ele se sim quais geralmente quando precisamos recorrer à requisições ajax usando javascript temos à mão apis que nos auxiliam com isso ex jquery porém qual seria a maneira mais segura e crossbrowser de realizar essas requisições post e get usando javascript puro sei que é possível executar um com dados de outra tabela mas gostaria de fazer o mesmo com um algo equivalente à isso é possível como hoje vi o seguinte vídeo httpswwwyoutubecomwatchvjgpvqcfms mostra um bracelete que projeta a tela de um celular android pareado no braço do usuário este então pode manipular o celular movendo o dedo em seu braço o vídeo me parece claramente uma montagem em vários momentos a projeção da tela não acompanha corretamente o movimento da câmera e o aparelho responde excessivamente rápido às entradas mas a empresa existe e está arrecadando fundos para lançar um protótipo então é possível que meramente tenham feito um vídeo promocional sem ter o protótipo pronto o que me deixou em dúvida é assumindo que seja tudo real como eles fariam um aplicativo que faz streaming da tela do android e permite disparar eventos de gesture no aparelho isso é mesmo possível ou seria uma solução apenas para aparelhos com root e que tenham sido modificados de alguma forma se isso é possível por que empresas como o teamviewer ainda não fizeram um cliente de controle remoto para o android em programação python é comum ouvir o termo pythônico ou pythonic veja sopt entendendo o modo pythônico de lidar com propriedades sopt passar parâmetros de forma pythônica wikipedia python programming language pythonnet code like a pythonista idiomatic python o que significa o termo pythônico e o que diferencia um código nãopythônico de um código pythônico vi esse termo sendo empregado diversas vezes muitas pessoas e empresas querem que seus códigos sejam limpos vi também o livro código limpo habilidades práticas do agile software mas eu queria saber o que define um código ser limpo ou não quais os pontos são avaliados uma vez que o conhecimento e o domínio sobre uma determinada linguagem pode influenciar na avaliação de quem está lendo na pergunta como escrever um código legível e de fácil manutenção temos alguns exemplos de um código que aparentemente está bem escrito porém o domínio da linguagem é que faz bastante diferença na hora de interpretálo então focando bem a pergunta quais o pontos que são avaliados qual a importância e o peso de cada um desses pontos dentro da avaliação gostaria principalmente das referências para estudar um pouco mais a fundo e que não fosse limitado a um paradigma ex orientação a objeto e sim num contexto geral eu comecei a ler um artigo sobre ecmascript e me deparei com o termo transpilation que em português seria transpilação além desse percebi que outros artigos usam esse termo é a primeira vez na minha vida de programação que me deparo com esse termo o que isso significa esse trans tem a ver com traduzir código ou algo do tipo tenho a seguinte string qual a função do na frente da string em primeiro lugar peço desculpas pelo texto longo e pelos vários pontos perguntados achei melhor lançar todos em uma pergunta só porque são interrelacionados e porque penso que qualquer pessoa com experiência no tipo de aplicativo descrito um cliente android que mantém uma conexão socket contínua recebendo e enviando dados é capaz de dar sua opinião a respeito de todos ou maioria desses pontos basicamente estou precisando tomar decisões de design e tenho dúvidas sobre como seria a maneira recomendada android de fazer estou tentando definir qual seria o esqueleto mínimo necessário para se ter um aplicativo dsse tipo isto é que se conecte a um servidor via socket websocket socketio tcp etc e possa trocar mensagens com ele não tenho um exemplo de uso específico chat não é um desses exemplos porque nesse caso o ideal seria usar push notification essa conexão não deve estar atrelada às do aplicativo isto é as mensagens podem ser recebidas mesmo depois do usuário ter saído do aplicativo perguntas que estou tentando responder é recomendado delegar o gerenciamento da conexão conectar desconectar e o envio de mensagens para uma classe separada por exemplo um singleton o uso de broadcasts para passar uma mensagem recebida para a atual parece ser a escolha apropriada no caso de uma arquitetura de aplicativo relativamente simples alguém discorda seria preferível um event bus ou então acoplamento bind a um serviço é esperado que o sistema mate o processo do aplicativo para liberar memória mas a conexão deve ser reestabelecida assim que houver memória disponível para isso qual a melhor forma de fazer isso agendar checagens periódicas da conexão via não me parece apropriado e nem usar que além de não garantir que o processo seja morto apenas torna isso menos provável de acontecer ainda exibe ao usuário uma incômoda notificação de que o aplicativo está em execução que ainda por cima se for clicada leva a uma tela oferecendo a opção de encerrar o aplicativo achei que retornar no método poderia ajudar nesse sentido mas ele não parece ser feito para isso não estou certo de como deve funcionar o reestabelecimento de conexão a fim de processar a fila de mensagens a enviar suponho que envolve ouvir o broadcast ou então um evento de conexão reestabelecida qual a melhor forma de fazer isso garantindo que o aplicativo tente enviar as mensagens quando possível após haver consenso a respeito da modelagem do aplicativo creio que será necessário incluir wake locks ao código para evitar que o aparelho entre em sleep mode enquanto processa mensagens recebidas ou colocadas na fila de envio porém não tenho certeza de em qual parte do código incluilas e gostaria de recomendações para isso tenho também as seguintes considerações adicionais a uma vez a conexão estabelecida o aparelho pode entrar em sleep mode tranquilamente que a chegada de dados irá acordálo porém não é garantido que esses dados sejam processados em sua completude sem uma wake lock antes do aparelho voltar a dormir b se o aplicativo estiver adormecido e a conexão se tornar disponível um requisito desejável pode ser que a fila de mensagens a enviar seja processada em sua completude antes do aparelho voltar a dormir não tenho a certeza de onde devo adicionar a wake lock nesse caso c mesmo que a biblioteca que trabalha com o protocolo de comunicação escolhido esteja preparada para funcionar com android isto é gerencie a entradasaída em um ou mais threads secundários e não no thread de ui pode ser que ela esteja programada para executar seus callbacks em particular o callback que recebe mensagens no thread de ui isso pode afetar a maneira como disponho as wake locks no meu código há a necessidade de manter um thread ativo em loop contínuo para manter a conexão aberta como posso evitar isso agradeço a qualquer feedback lancei essa pergunta também no so em inglês com o advento dos layouts responsivosadaptativofluidos está cada vez menos comum o uso do para definir espaçamentos no layout o uso dele não é recomendado nesses layouts modernos ou é só uma questão de prática de programação de separar a responsabilidade para o css estava lendo um livro sobre orientação a objetos e essas duas entidades são tradadas de modo diferente qual a diferença entre ambas eu já vi muita gente defendendo o uso dos métodos http corretamente ou seja respeitando a semântica dos métodos definidos na especificação ao fazer uma requisição só deve ser utilizado para recuperar dados e nunca para ações que causem efeitos colaterais os métodos e muitas vezes devem ser utilizados no lugar do porém é um fato óbvio que muito pouca gente na web faz isso na prática e são utilizados quase que exclusivamente por diversos motivos que não vêm ao caso gostaria de saber quais as vantagens do uso correto e as desvantagens do que é feito na prática para além do dogma do certo e errado e da questão semântica '"
      ]
     },
     "execution_count": 64,
     "metadata": {},
     "output_type": "execute_result"
    }
   ],
   "source": [
    "todas_as_questoes_pt = ''.join(pt_treino)\n",
    "todas_as_questoes_pt"
   ]
  },
  {
   "cell_type": "markdown",
   "id": "crazy-rainbow",
   "metadata": {},
   "source": [
    "Note que temos todas as questões separadas por espaço, agora podemos realizar o processo de \"*tokenização*\" que é seprar as palavras, isso é feito usando o módulo nltk:"
   ]
  },
  {
   "cell_type": "code",
   "execution_count": 65,
   "id": "romantic-darkness",
   "metadata": {},
   "outputs": [],
   "source": [
    "from nltk.tokenize import WhitespaceTokenizer"
   ]
  },
  {
   "cell_type": "code",
   "execution_count": 66,
   "id": "spectacular-trainer",
   "metadata": {},
   "outputs": [],
   "source": [
    "todas_palavras_pt = WhitespaceTokenizer().tokenize(todas_as_questoes_pt)"
   ]
  },
  {
   "cell_type": "code",
   "execution_count": 67,
   "id": "polish-dependence",
   "metadata": {},
   "outputs": [
    {
     "name": "stdout",
     "output_type": "stream",
     "text": [
      "['acho', 'que', 'todo', 'mundo', 'com', 'o', 'mínimo', 'de', 'conhecimento', 'sabe', 'quando', 'escolher', 'c', 'ou', 'c', 'no', 'lugar', 'de', 'outras', 'linguagens', 'existem', 'casos', 'claros', 'em', 'que', 'estas', 'linguagens', 'são', 'mais', 'adequadas', 'e', 'outros', 'que', 'não', 'faz', 'tanta', 'diferença', 'mas', 'pode', 'haver', 'situação', 'em', 'que', 'se', 'sabe', 'que', 'uma', 'das', 'duas', 'seja', 'ideal', 'mas', 'não', 'se', 'sabe', 'qual', 'das', 'duas', 'quais', 'elementos', 'concretos', 'devemos', 'analisar', 'e', 'em', 'que', 'situações', 'podemos', 'ter', 'certeza', 'que', 'o', 'c', 'é', 'mais', 'indicado', 'que', 'c', 'ou', 'c', 'é', 'o', 'mais', 'adequado', 'os', 'motivos', 'não', 'precisam', 'ser', 'essencialmente', 'técnicos', 'mas', 'eles', 'precisam', 'ser', 'objetivos', 'precisa', 'ser', 'algo', 'que', 'os', 'profissionais', 'experientes', 'nas', 'duas', 'linguagens', 'costumam', 'concordar', 'em', 'outras', 'palavras', 'quais', 'problemas', 'o', 'c', 'lida', 'melhor', 'e', 'quais', 'o', 'c', 'costuma', 'se', 'sair', 'bem', 'é', 'claro', 'que', 'ambas', 'podem', 'ser', 'usadas', 'para', 'qualquer', 'projeto', 'mas', 'nem', 'sempre', 'é', 'a', 'ferramenta', 'mais', 'adequada', 'existem', 'casos', 'que', 'alguns', 'requisitos', 'podem', 'inviabilizar', 'uma', 'escolha', 'que', 'requisitos', 'podem', 'dificultar', 'tanto', 'o', 'uso', 'de', 'uma', 'linguagem', 'que', 'é', 'melhor', 'usar', 'a', 'outra', 'considere', 'pontos', 'políticos', 'como', 'não', 'requisitos', 'fundamentais', 'só', 'a', 'parte', 'técnica', 'importa', 'mesmo', 'recentemente', 'enquanto', 'estudava', 'alguns', 'códigos', 'em', 'javascript', 'me', 'deparei', 'com', 'o', 'seguinte', 'código', 'sei', 'que', 'e', 'consequentemente', 'então', 'fiquei', 'na', 'dúvida', 'qual', 'a', 'lógica', 'de', 'se', 'fazer', 'esse', 'tipo', 'de', 'operação', 'estou', 'fazendo', 'uma', 'implementação', 'de', 'um', 'jogo', 'em', 'assembly', 'no', 'proteus', 'eu', 'sorteio', 'dois', 'números', 'aleatórios', 'de', 'até', 'e', 'preciso', 'gerar', 'no', 'lcd', 'uma', 'imagem', 'referente', 'aos', 'números', 'que', 'eu', 'gerei', 'exemplo', 'se', 'eu', 'gerar', 'o', 'número', 'a', 'imagem', 'que', 'vai', 'aparecer', 'no', 'display', 'é', 'se', 'eu', 'gerar', 'o', 'número', 'a', 'imagem', 'que', 'vai', 'aparecer', 'no', 'display', 'é', 'implementação', 'foi', 'feita', 'da', 'seguinte', 'maneira', 'no', 'código', 'escrevi', 'assim', 'para', 'gerar', 'o', 'número', 'aleatório', 'e', 'guardar', 'nas', 'variáveis', 'auxiliares', 'para', 'comparação', 'no', 'final', 'do', 'jogo', 'eu', 'tenho', 'number', 'e', 'number', 'os', 'valores', 'dos', 'números', 'aleatórios', 'gerados', 'eu', 'fiz', 'da', 'seguinte', 'maneira', 'para', 'buscar', 'o', 'número', 'gerado', 'e', 'armazenar', 'a', 'posição', 'de', 'memória', 'da', 'imagem', 'referente', 'ao', 'número', 'armazeno', 'em', 'bl', 'antes', 'de', 'chamar', 'o', 'valor', 'para', 'buscar', 'a', 'imagem', 'do', 'number', 'e', 'para', 'a', 'number', 'em', 'ax', 'contém', 'o', 'valor', 'do', 'number', 'para', 'cada', 'just', 'equals', 'eu', 'chamo', 'assim', 'mas', 'não', 'acho', 'que', 'é', 'a', 'melhor', 'solução', 'alguém', 'saberia', 'um', 'método', 'mais', 'prático', 'criar', 'uma', 'nova', 'variável', 'e', 'armazenar', 'como', 'fosse', 'um', 'array', 'de', 'posições', 'de', 'memória', 'se', 'eu', 'querer', 'a', 'imagem', 'eu', 'somente', 'iria', 'fazer', 'ou', 'imagem', 'algo', 'assim', 'obs', 'sim', 'atualmente', 'eu', 'gerei', 'variáveis', 'para', 'armazenar', 'cada', 'imagem', 'referente', 'a', 'cada', 'número', 'meu', 'editor', 'está', 'até', 'travando', 'pela', 'quantidade', 'de', 'informações', 'no', 'código', 'escrevi', 'linhas', 'só', 'para', 'comparar', 'qual', 'é', 'o', 'número', 'gerado', 'e', 'tive', 'que', 'escrever', 'linhas', 'referente', 'as', 'imagens', 'de', 'cada', 'número', 'ds', 'significa', 'data', 'segment', 'entre', 'os', 'estudos', 'de', 'javascript', 'encontrei', 'em', 'alguns', 'lugares', 'muita', 'gente', 'sugerindo', 'o', 'uso', 'de', 'coffeescript', 'ou', 'typescript', 'para', 'acelerar', 'o', 'processo', 'desenvolvimento', 'se', 'entendi', 'bem', 'ambos', 'são', 'como', 'uma', 'metalinguagem', 'uma', 'maquiagem', 'que', 'melhora', 'a', 'sintaxe', 'convoluta', 'do', 'javascript', 'e', 'depois', 'reescreve', 'o', 'seu', 'código', 'em', 'js', 'este', 'entendimento', 'está', 'certo', 'como', 'funcionam', 'o', 'coffeescript', 'e', 'typescript', 'o', 'que', 'eles', 'são', 'de', 'fato', 'qual', 'sua', 'relação', 'com', 'o', 'javascript', 'e', 'como', 'eles', 'podem', 'ser', 'usados', 'no', 'desenvolvimento', 'web', 'em', 'lugar', 'do', 'javascript', 'em', 'um', 'tabuleiro', 'de', 'xadrez', 'em', 'qualquer', 'casa', 'possuo', 'um', 'cavalo', 'representado', 'em', 'vermelho', 'e', 'terei', 'somente', 'uma', 'outra', 'peça', 'representada', 'em', 'verde', 'que', 'o', 'cavalo', 'deve', 'ir', 'até', 'ela', 'devo', 'utilizar', 'o', 'caminho', 'mais', 'simples', 'e', 'levar', 'em', 'consideração', 'o', 'movimento', 'do', 'cavalo', 'em', 'l', 'e', 'contabilizar', 'os', 'movimentos', 'até', 'chegar', 'no', 'ponto', 'determinado', 'como', 'no', 'exemplo', 'abaixo', 'como', 'posso', 'fazer', 'isso', 'usando', 'python', 'tenho', 'em', 'mente', 'que', 'tenho', 'que', 'usar', 'matriz', 'e', 'uma', 'lista', 'como', 'entrada', 'de', 'posição', 'mas', 'não', 'sei', 'como', 'continuar', 'supondo', 'uma', 'condição', 'onde', 'eu', 'tenho', 'um', 'projeto', 'com', 'commits', 'e', 'decido', 'por', 'razões', 'inexplicáveis', 'voltar', 'alguns', 'commits', 'independente', 'se', 'quero', 'voltar', 'ou', 'supondo', 'que', 'a', 'descrição', 'de', 'meus', 'commits', 'são', 'bem', 'claros', 'visualizo', 'meus', 'últimos', 'commits', 'usando', 'o', 'comando', 'e', 'depois', 'de', 'localizado', 'como', 'faço', 'pra', 'reverter', 'pra', 'um', 'específico', 'commit', 'quais', 'os', 'possíveis', 'problemas', 'que', 'posso', 'encontrar', 'e', 'como', 'sanálos', 'sempre', 'quis', 'saber', 'como', 'funcionam', 'closures', 'em', 'javascript', 'já', 'li', 'algumas', 'definições', 'mas', 'nunca', 'entendi', 'muito', 'bem', 'vocês', 'poderiam', 'me', 'dar', 'uma', 'explicação', 'simples', 'objetiva', 'mas', 'com', 'conteúdo', 'desenvolvo', 'um', 'sistema', 'de', 'gerenciamento', 'empresarial', 'há', 'algum', 'tempo', 'estou', 'precisando', 'adicionar', 'ao', 'mesmo', 'a', 'funcionalidade', 'de', 'emissão', 'de', 'nota', 'fiscal', 'eletrônica', 'no', 'padrão', 'brasileiro', 'existe', 'alguma', 'biblioteca', 'java', 'bem', 'testada', 'e', 'de', 'preferência', 'livre', 'e', 'de', 'código', 'aberto', 'que', 'me', 'ajude', 'com', 'isso', 'já', 'vi', 'programas', 'assim', 'e', 'outros', 'assim', 'o', 'segundo', 'código', 'vai', 'consumir', 'mais', 'processamento', 'estou', 'tentando', 'centralizar', 'verticalmente', 'o', 'conteúdo', 'de', 'um', 'elemento', 'que', 'tem', 'consegui', 'fazer', 'o', 'conteúdo', 'se', 'posicionar', 'da', 'metade', 'para', 'baixo', 'do', 'container', 'no', 'entanto', 'da', 'metade', 'para', 'cima', 'o', 'espaço', 'fica', 'sobrando', 'como', 'posso', 'resolver', 'isso', 'apenas', 'utilizando', 'css', 'eis', 'o', 'meu', 'código', 'até', 'o', 'momento', 'a', 'ideia', 'é', 'que', 'o', 'elemento', 'sobreponha', 'o', 'elementopai', 'como', 'se', 'fosse', 'um', 'indicador', 'de', 'loading', 'em', 'cima', 'de', 'apenas', 'um', 'elemento', 'na', 'página', 'me', 'parecem', 'termos', 'muito', 'próximos', 'e', 'eventualmente', 'vejo', 'textos', 'que', 'trocam', 'um', 'pelo', 'outro', 'como', 'se', 'em', 'algumas', 'determinadas', 'situações', 'suas', 'definições', 'se', 'sobreponham', 'quais', 'seriam', 'as', 'definições', 'técnicas', 'que', 'permitem', 'distinguir', 'o', 'que', 'é', 'api', 'biblioteca', 'e', 'framework', 'em', 'quais', 'situações', 'é', 'permitido', 'intercambiar', 'os', 'termos', 'sem', 'ferir', 'sua', 'definição', 'técnica', 'no', 'qual', 'é', 'a', 'diferença', 'entre', 'um', 'e', 'uma', 'algum', 'tempo', 'atrás', 'o', 'facebook', 'lançou', 'sua', 'própria', 'linguagem', 'de', 'programação', 'baseada', 'no', 'php', 'veja', 'tecnoblog', 'facebook', 'anuncia', 'hack', 'sua', 'própria', 'linguagem', 'de', 'programação', 'o', 'tecnoblog', 'explica', 'da', 'seguinte', 'maneira', 'a', 'diferença', 'entre', 'o', 'php', 'e', 'o', 'hack', 'ênfase', 'adicionada', 'o', 'objetivo', 'principal', 'sempre', 'foi', 'o', 'de', 'atacar', 'os', 'erros', 'no', 'comunicado', 'oficial', 'os', 'desenvolvedores', 'explicam', 'que', 'linguagens', 'dinâmicas', 'como', 'o', 'php', 'facilitam', 'o', 'desenvolvimento', 'rápido', 'mas', 'geralmente', 'tornam', 'a', 'detecção', 'de', 'erros', 'mais', 'difícil', 'uma', 'vez', 'que', 'as', 'falhas', 'só', 'são', 'percebidas', 'quando', 'o', 'programa', 'está', 'em', 'execução', 'o', 'que', 'é', 'particularmente', 'preocupante', 'em', 'projetos', 'muito', 'grandes', 'por', 'sua', 'vez', 'usando', 'linguagens', 'do', 'tipo', 'estática', 'como', 'c', 'os', 'desenvolvedores', 'podem', 'encontrar', 'erros', 'antes', 'da', 'efetiva', 'execução', 'do', 'código', 'com', 'a', 'possível', 'desvantagem', 'de', 'linguagens', 'como', 'esta', 'não', 'serem', 'tão', 'práticas', 'quanto', 'às', 'mais', 'atuais', 'como', 'consequência', 'o', 'hack', 'foi', 'criado', 'para', 'unir', 'o', 'melhor', 'dos', 'mundos', 'aparentemente', 'isso', 'significa', 'que', 'o', 'hack', 'suporta', 'declarar', 'o', 'tipo', 'de', 'retorno', 'das', 'funçõesmétodos', 'permitindo', 'que', 'as', 'ides', 'identifiquem', 'antecipadamente', 'erros', 'de', 'compilação', 'qual', 'a', 'diferença', 'entre', 'uma', 'linguagem', 'estática', 'e', 'dinâmica', 'existem', 'outras', 'diferenças', 'além', 'da', 'que', 'eu', 'consegui', 'identificar', 'acima', 'vantagens', 'e', 'desvantagens', 'podese', 'dizer', 'que', 'as', 'linguagens', 'de', 'script', 'são', 'sempre', 'dinâmicas', 'e', 'viceversa', 'veja', 'o', 'que', 'uma', 'linguagem', 'de', 'script', 'usando', 'ruby', 'a', 'divisão', 'de', 'dois', 'números', 'inteiros', 'é', 'uma', 'divisão', 'inteira', 'isso', 'é', 'o', 'resultado', 'é', 'um', 'número', 'inteiro', 'por', 'exemplo', 'se', 'desejo', 'que', 'o', 'resultado', 'seja', 'um', 'numero', 'decimal', 'posso', 'utilizar', 'um', 'numero', 'flutuante', 'ao', 'invés', 'de', 'um', 'inteiro', 'como', 'posso', 'fazer', 'uma', 'divisão', 'inteira', 'que', 'funcione', 'parecida', 'com', 'a', 'de', 'ruby', 'em', 'javascript', 'alguém', 'pode', 'me', 'explicar', 'de', 'forma', 'clara', 'e', 'objetiva', 'eu', 'li', 'alguns', 'artigos', 'mais', 'ainda', 'não', 'ficou', 'muito', 'claro', 'qual', 'é', 'a', 'diferença', 'entre', 'e', 'podem', 'me', 'dar', 'alguns', 'exemplos', 'geralmente', 'ambos', 'possuem', 'comportamentos', 'similares', 'quando', 'renderizados', 'no', 'navegador', 'se', 'eu', 'abrir', 'um', 'html', 'com', 'isto', 'ambos', 'não', 'permitem', 'que', 'o', 'usuário', 'altere', 'o', 'texto', 'vejo', 'o', 'exemplo', 'abaixo', 'então', 'qual', 'a', 'diferença', 'de', 'fato', 'entre', 'os', 'dois', 'tipos', 'de', 'estados', 'e', 'quando', 'eu', 'devo', 'usar', 'cada', 'um', 'deles', 'o', 'que', 'é', 'importante', 'saber', 'antes', 'de', 'licenciar', 'um', 'programa', 'de', 'computador', 'no', 'brasil', 'eu', 'realmente', 'preciso', 'utilizar', 'uma', 'licença', 'o', 'que', 'é', 'e', 'como', 'funciona', 'o', 'sistema', 'de', 'software', 'livre', 'vejo', 'pela', 'internet', 'uma', 'série', 'de', 'artigos', 'com', 'títulos', 'como', 'setinterval', 'is', 'bad', 'que', 'traduzindo', 'seria', 'setinterval', 'é', 'ruím', 'vi', 'recomendações', 'de', 'usar', 'uma', 'função', 'anônima', 'recursiva', 'com', 'um', 'por', 'ser', 'aparentemente', 'melhor', 'que', 'o', 'uso', 'de', 'exemplificando', 'com', 'exemplificando', 'com', 'função', 'recursiva', 'e', 'por', 'que', 'dizem', 'isso', 'exemplo', 'no', 'jsfiddle', 'em', 'geral', 'classes', 'possuem', 'métodos', 'construtores', 'qual', 'a', 'utilidade', 'do', 'método', 'construtor', 'de', 'uma', 'classe', 'por', 'que', 'devemos', 'criálo', 'dá', 'para', 'trabalhar', 'sem', 'ele', 'o', 'que', 'são', 'os', 'path', 'parameters', 'de', 'uma', 'uri', 'e', 'qual', 'sua', 'função', 'uma', 'uri', 'que', 'define', 'os', 'parâmetros', 'representa', 'um', 'recurso', 'diferente', 'da', 'uri', 'que', 'não', 'possui', 'os', 'parâmetros', 'isto', 'é', 'é', 'um', 'recurso', 'diferente', 'de', 'se', 'possível', 'dê', 'exemplos', 'de', 'sua', 'aplicaçãofunção', 'pois', 'até', 'então', 'o', 'formato', 'da', 'uri', 'que', 'eu', 'conhecia', 'era', 'mas', 'hoje', 'acabei', 'percebendo', 'a', 'existência', 'de', 'mais', 'um', 'item', 'onde', 'a', 'rfc', 'recomenda', 'utilizar', 'o', 'caractere', 'para', 'separar', 'os', 'parâmetros', 'o', 'caractere', 'para', 'separar', 'o', 'nome', 'do', 'valor', 'e', 'o', 'caractere', 'para', 'separar', 'múltiplos', 'valores', 'de', 'um', 'mesmo', 'parâmetro', 'como', 'posso', 'implementar', 'um', 'sistema', 'de', 'internacionalização', 'utilizando', 'a', 'tecnologia', 'mvc', 'da', 'microsoft', 'existe', 'algo', 'semelhante', 'ao', 'android', 'para', 'que', 'meu', 'website', 'possa', 'suportar', 'diversas', 'línguas', 'existe', 'também', 'algum', 'modo', 'de', 'obter', 'a', 'linguagem', 'do', 'navegador', 'que', 'o', 'usuário', 'está', 'acessando', 'para', 'configurar', 'o', 'idioma', 'padrão', 'deste', 'ponto', 'de', 'partida', 'quando', 'estudei', 'java', 'aprendi', 'que', 'exceções', 'somente', 'deveriam', 'ser', 'usadas', 'em', 'situações', 'bem', 'excepcionais', 'ie', 'um', 'erro', 'uma', 'condição', 'não', 'prevista', 'etc', 'jamais', 'para', 'controle', 'de', 'fluxo', 'normal', 'não', 'só', 'por', 'ser', 'menos', 'performático', 'criar', 'uma', 'exceção', 'envolve', 'montar', 'um', 'stack', 'trace', 'dentre', 'outras', 'coisas', 'mas', 'por', 'ser', 'menos', 'elegante', 'e', 'correto', 'o', 'ideal', 'sendo', 'testar', 'as', 'précondições', 'antes', 'de', 'se', 'fazer', 'uma', 'operação', 'ou', 'chamar', 'um', 'método', 'ou', 'para', 'sinalizar', 'um', 'erro', 'ao', 'chamador', 'usar', 'um', 'código', 'de', 'erro', 'ou', 'similar', 'somente', 'nos', 'casos', 'realmente', 'imprevisíveis', 'é', 'que', 'seria', 'adequado', 'se', 'usar', 'um', 'entretanto', 'ao', 'aprender', 'python', 'me', 'deparei', 'com', 'uma', 'filosofia', 'bastante', 'diferente', 'nessa', 'linguagem', 'há', 'muitos', 'casos', 'em', 'que', 'o', 'modo', 'recomendado', 'e', 'às', 'vezes', 'o', 'único', 'modo', 'de', 'se', 'tratar', 'uma', 'condição', 'indesejada', 'é', 'tentar', 'executála', 'e', 'se', 'algo', 'der', 'errado', 'capturar', 'a', 'exceção', 'não', 'há', 'menção', 'a', 'performance', 'e', 'muitas', 'vezes', 'justificase', 'essa', 'abordagem', 'para', 'se', 'prevenir', 'condições', 'de', 'corrida', 'ex', 'em', 'vez', 'de', 'testar', 'se', 'um', 'arquivo', 'existe', 'antes', 'de', 'abrilo', 'simplesmente', 'abrao', 'de', 'uma', 'vez', 'afinal', 'ele', 'poderia', 'ser', 'apagado', 'entre', 'o', 'teste', 'e', 'o', 'uso', 'e', 'se', 'o', 'programa', 'não', 'está', 'preparado', 'para', 'isso', 'seu', 'comportamento', 'nessa', 'situação', 'pode', 'ficar', 'incorreto', 'entendo', 'que', 'se', 'uma', 'linguagemplataforma', 'segue', 'um', 'determinado', 'paradigma', 'é', 'aconselhável', 'se', 'ater', 'a', 'ele', 'nem', 'que', 'seja', 'por', 'questões', 'de', 'consistência', 'mas', 'assumindose', 'que', 'não', 'só', 'linguagens', 'novas', 'possam', 'ser', 'criadas', 'como', 'as', 'existentes', 'possam', 'ser', 'aprimoradas', 'pergunto', 'existem', 'vantagens', 'claras', 'de', 'um', 'desses', 'paradigmas', 'sobre', 'o', 'outro', 'ou', 'talvez', 'situações', 'específicas', 'em', 'que', 'se', 'justifique', 'usar', 'um', 'ou', 'outro', 'padrão', 'mesmo', 'que', 'contrarie', 'as', 'recomendações', 'oficiais', 'que', 'parâmetros', 'eu', 'devo', 'observar', 'ao', 'decidir', 'entre', 'uma', 'abordagem', 'e', 'outra', 'a', 'título', 'de', 'exemplo', 'há', 'muitas', 'situações', 'em', 'que', 'o', 'argumento', 'da', 'condição', 'de', 'corrida', 'não', 'se', 'aplica', 'quando', 'os', 'dados', 'envolvidos', 'na', 'operação', 'são', 'imutáveis', 'por', 'exemplo', 'por', 'fim', 'há', 'algum', 'meio', 'termo', 'razoável', 'que', 'combine', 'os', 'benefícios', 'de', 'ambos', 'sem', 'que', 'o', 'ônus', 'caia', 'no', 'programador', 'por', 'exemplo', 'poderia', 'testar', 'se', 'o', 'arquivo', 'existe', 'e', 'usar', 'um', 'em', 'seguida', 'mas', 'isso', 'seria', 'redundante', 'nota', 'peço', 'que', 'esse', 'último', 'ponto', 'caso', 'abordado', 'na', 'resposta', 'venha', 'acompanhado', 'de', 'fontes', 'confiáveis', 'para', 'evitar', 'mera', 'especulação', 'ps', 'algumas', 'referências', 'demonstrando', 'que', 'esse', 'uso', 'corriqueiro', 'de', 'exceções', 'é', 'de', 'fato', 'bastante', 'recomendado', 'na', 'comunidade', 'python', 'em', 'oposição', 'à', 'maioria', 'das', 'outras', 'better', 'to', 'try', 'something', 'and', 'catch', 'the', 'exception', 'or', 'test', 'if', 'its', 'possible', 'first', 'to', 'avoid', 'an', 'exception', 'is', 'it', 'a', 'good', 'practice', 'to', 'use', 'tryexceptelse', 'in', 'python', 'how', 'do', 'i', 'check', 'if', 'a', 'string', 'is', 'a', 'number', 'in', 'python', 'python', 'exception', 'handling', 'techniques', 'look', 'before', 'you', 'leap', 'vs', 'easier', 'to', 'ask', 'for', 'forgiveness', 'than', 'permission', 'exceptions', 'and', 'file', 'handling', 'dive', 'into', 'python', 'eu', 'tenho', 'uma', 'que', 'eu', 'quero', 'converter', 'para', 'como', 'eu', 'removo', 'os', 'acentos', 'preciso', 'para', 'guardar', 'no', 'banco', 'de', 'dados', 'como', 'uma', 'url', 'sei', 'que', 'e', 'são', 'bibliotecas', 'a', 'primeira', 'é', 'dinâmica', 'e', 'a', 'segunda', 'é', 'estática', 'mas', 'o', 'que', 'isso', 'realmente', 'quer', 'dizer', 'como', 'cada', 'uma', 'funciona', 'se', 'eu', 'tiver', 'que', 'gerar', 'uma', 'biblioteca', 'a', 'partir', 'de', 'um', 'código', 'o', 'que', 'eu', 'devo', 'ter', 'em', 'mente', 'para', 'decidir', 'se', 'eu', 'faço', 'uma', 'ou', 'uma', 'eu', 'estava', 'vendo', 'alguns', 'métodos', 'das', 'classes', 'do', 'pacote', 'e', 'alguns', 'deles', 'possuem', 'assinatura', 'semelhantes', 'a', 'esta', 'o', 'que', 'significa', 'esse', 'afinal', 'como', 'funciona', 'esse', 'padrão', 'de', 'arquitetura', 'seguindo', 'as', 'camadas', 'model', 'view', 'e', 'controller', 'no', 'mundo', 'acadêmico', 'o', 'plágio', 'e', 'a', 'referenciação', 'são', 'levados', 'a', 'sério', 'e', 'quando', 'se', 'trata', 'da', 'nossa', 'criação', 'intelectual', 'até', 'que', 'ponto', 'seria', 'plágio', 'copiar', 'e', 'colar', 'trechos', 'de', 'outro', 'código', 'disponível', 'na', 'internet', 'no', 'meu', 'particularmente', 'nunca', 'referenciei', 'os', 'trechos', 'de', 'código', 'que', 'eu', 'copiei', 'isso', 'é', 'plágio', 'a', 'punição', 'legal', 'é', 'a', 'mesma', 'para', 'o', 'plágio', 'do', 'mundo', 'acadêmico', 'como', 'remover', 'acentos', 'e', 'outros', 'sinais', 'gráficos', 'de', 'uma', 'string', 'em', 'java', 'ex', 'hoje', 'um', 'dos', 'sites', 'da', 'empresa', 'na', 'qual', 'trabalho', 'foi', 'hackeado', 'assim', 'como', 'vários', 'outros', 'que', 'estão', 'com', 'métodos', 'arcaicos', 'de', 'desenvolvimento', 'e', 'cheios', 'de', 'falhas', 'de', 'segurança', 'a', 'pessoa', 'que', 'invadiu', 'deixou', 'além', 'de', 'uma', 'index', 'modificada', 'o', 'seguinte', 'código', 'em', 'um', 'outro', 'arquivo', 'e', 'me', 'interessei', 'em', 'entender', 'o', 'por', 'que', 'alguem', 'tem', 'ideia', 'da', 'utilidade', 'disso', 'quando', 'eu', 'estava', 'usando', 'o', 'sublime', 'text', 'para', 'editar', 'um', 'arquivo', 'percebi', 'que', 'ele', 'me', 'sugeriu', 'uma', 'tag', 'com', 'o', 'nome', 'de', 'eu', 'nunca', 'tinha', 'visto', 'sobre', 'essa', 'tag', 'antes', 'mas', 'parece', 'que', 'realmente', 'existe', 'como', 'não', 'vi', 'nenhum', 'explicação', 'em', 'português', 'sobre', 'o', 'assunto', 'resolvi', 'fazer', 'essa', 'pergunta', 'aqui', 'para', 'que', 'serve', 'a', 'tag', 'essa', 'tag', 'é', 'nova', 'de', 'alguma', 'forma', 'ela', 'pode', 'substituir', 'a', 'funcionalidade', 'de', 'autocomplemento', 'que', 'existem', 'atualmente', 'em', 'várias', 'bibliotecasframeworks', 'em', 'a', 'ª', 'imagem', 'utilizo', 'o', 'charsetiso', 'nesta', 'ª', 'imagem', 'utilizo', 'o', 'utf', 'tenho', 'um', 'sistema', 'de', 'notícias', 'em', 'que', 'é', 'possível', 'colar', 'html', 'ou', 'texto', 'de', 'outras', 'páginas', 'na', 'página', 'em', 'que', 'as', 'noticias', 'são', 'apresentadas', 'utilizo', 'o', 'por', 'causa', 'da', 'acentuação', 'mas', 'ao', 'utilizar', 'este', 'charset', 'os', 'menus', 'e', 'restantes', 'títulos', 'ficam', 'alterados', 'devido', 'à', 'acentuçao', 'precisava', 'da', 'vossa', 'ajuda', 'para', 'saber', 'se', 'é', 'possivel', 'ter', 'dois', 'metas', 'charset', 'na', 'mesma', 'página', 'ou', 'numa', 'parte', 'da', 'página', 'ou', 'outra', 'forma', 'de', 'contornar', 'a', 'situção', 'para', 'além', 'disso', 'tenho', 'dois', 'ficheiros', 'de', 'conexao', 'mysqlphp', 'normalmente', 'utilizo', 'mas', 'vejo', 'na', 'maioria', 'dos', 'formulários', 'o', 'uso', 'do', 'existe', 'alguma', 'diferença', 'qual', 'é', 'o', 'ideal', 'tenho', 'dúvidas', 'a', 'respeito', 'do', 'uso', 'do', 'em', 'funções', 'exemplo', 'eu', 'sei', 'que', 'esta', 'função', 'irá', 'me', 'retornar', 'um', 'inteiro', 'que', 'é', 'a', 'soma', 'dos', 'dois', 'parâmetros', 'na', 'função', 'e', 'exemplo', 'eu', 'vi', 'em', 'um', 'programa', 'que', 'continha', 'uma', 'implementação', 'parecida', 'como', 'a', 'do', 'segundo', 'exemplo', 'acima', 'que', 'usei', 'para', 'ilustrar', 'a', 'situação', 'que', 'testemunhei', 'do', 'uso', 'do', 'eu', 'testei', 'a', 'função', 'e', 'ela', 'retorna', 'a', 'soma', 'dos', 'dois', 'parâmetros', 'mesmo', 'tendo', 'o', 'especificado', 'como', 'retorno', 'ou', 'seja', 'vazio', 'isto', 'me', 'deixou', 'confuso', 'em', 'relação', 'ao', 'uso', 'do', 'eu', 'pensava', 'que', 'servia', 'somente', 'para', 'dizer', 'que', 'uma', 'função', 'não', 'vai', 'ter', 'retorno', 'nenhum', 'ou', 'não', 'irá', 'receber', 'nenhum', 'parâmetro', 'como', 'este', 'exemplo', 'afinal', 'de', 'contas', 'qual', 'é', 'a', 'finalidade', 'deste', 'comando', 'em', 'c', 'o', 'uso', 'do', 'especificado', 'como', 'ponteiro', 'pode', 'retornar', 'valores', 'mesmo', 'sendo', 'na', 'pergunta', 'do', 'meta', 'tags', 'diferentes', 'para', 'quottestesquot', 'eu', 'notei', 'que', 'tenho', 'alguma', 'dificuldade', 'para', 'entender', 'todos', 'estes', 'termos', 'sobre', 'testes', 'certamente', 'testes', 'passaram', 'ser', 'muito', 'importantes', 'ao', 'longo', 'da', 'trajetória', 'do', 'desenvolvimento', 'de', 'software', 'com', 'isto', 'proliferam', 'conceitos', 'e', 'a', 'sopa', 'de', 'letrinhas', 'está', 'cada', 'vez', 'maior', 'o', 'que', 'diferencia', 'os', 'conceitos', 'envolvidos', 'em', 'testes', 'as', 'siglas', 'e', 'as', 'definições', 'formais', 'são', 'fácil', 'de', 'descobrir', 'teste', 'de', 'software', 'testes', 'unitários', 'ou', 'unidade', 'de', 'testes', 'há', 'diferença', 'testes', 'funcionais', 'tdd', 'quality', 'assurance', 'acceptance', 'testing', 'existe', 'algum', 'outro', 'termo', 'relacionado', 'que', 'seja', 'muito', 'importante', 'para', 'ser', 'destacado', 'estou', 'realizando', 'alguns', 'testes', 'e', 'pelo', 'que', 'me', 'parece', 'object', 'e', 'dynamic', 'realizam', 'a', 'mesma', 'tarefa', 'ao', 'contrário', 'de', 'var', 'que', 'depois', 'de', 'atribuído', 'é', 'impossível', 'mudar', 'seu', 'tipo', 'qual', 'a', 'diferença', 'entre', 'eles', 'reconheço', 'que', 'é', 'comum', 'que', 'cada', 'linguagem', 'utilize', 'um', 'padrão', 'para', 'compor', 'seus', 'identificadores', 'variáveis', 'constantes', 'objetos', 'controles', 'etc', 'no', 'caso', 'do', 'c', 'quais', 'seriam', 'as', 'boas', 'práticas', 'com', 'relação', 'à', 'maiúsculasminúsculas', 'tamanho', 'e', 'utilização', 'de', 'caracteres', 'especiais', 'em', 'c', 'quando', 'preciso', 'verificar', 'se', 'uma', 'variável', 'é', 'de', 'determinado', 'tipo', 'normalmente', 'uso', 'o', 'operador', 'sei', 'que', 'também', 'é', 'possível', 'verificar', 'o', 'tipo', 'de', 'uma', 'variável', 'de', 'outras', 'formas', 'uma', 'delas', 'é', 'usando', 'qual', 'a', 'diferença', 'entre', 'esses', 'dois', 'operadores', 'existem', 'outros', 'que', 'façam', 'a', 'mesma', 'coisa', 'mas', 'com', 'uma', 'pequena', 'diferença', 'quando', 'devo', 'usar', 'um', 'arquivo', 'javascript', 'ou', 'jquery', 'com', 'arquivo', 'e', 'puro', 'tipo', 'o', 'que', 'seria', 'esse', 'como', 'evitálo', 'talvez', 'eu', 'me', 'integre', 'a', 'uma', 'equipe', 'para', 'desenvolver', 'um', 'novo', 'projeto', 'o', 'líder', 'já', 'tomou', 'algumas', 'decisões', 'entre', 'elas', 'que', 'as', 'regras', 'de', 'negócio', 'estarão', 'no', 'banco', 'de', 'dados', 'em', 'procedures', 'e', 'views', 'triggers', 'etc', 'ao', 'tomar', 'conhecimento', 'disto', 'minha', 'primeira', 'reação', 'foi', 'negativa', 'estou', 'acostumado', 'com', 'regras', 'de', 'negócio', 'na', 'camada', 'de', 'aplicação', 'e', 'não', 'me', 'parece', 'uma', 'boa', 'ideia', 'que', 'fiquem', 'no', 'banco', 'de', 'dados', 'porém', 'o', 'fato', 'é', 'que', 'eu', 'realmente', 'não', 'sei', 'tampouco', 'tenho', 'experiência', 'com', 'essa', 'arquitetura', 'por', 'isso', 'pergunto', 'quais', 'as', 'vantagens', 'quais', 'as', 'desvantagens', 'é', 'uma', 'boa', 'prática', 'é', 'uma', 'má', 'ideia', 'estou', 'querendo', 'desenvolver', 'um', 'site', 'que', 'rode', 'todo', 'no', 'mesmo', 'arquivo', 'mas', 'não', 'sei', 'bem', 'como', 'procurar', 'material', 'de', 'estudo', 'para', 'isso', 'assim', 'site', 'normalestou', 'na', 'página', 'indexphp', 'quando', 'clico', 'no', 'menu', 'portfólio', 'por', 'exemplo', 'ele', 'vai', 'e', 'carrega', 'o', 'arquivo', 'porfoliophp', 'site', 'que', 'eu', 'quero', 'fazerestou', 'na', 'página', 'indexphp', 'quando', 'eu', 'clico', 'no', 'menu', 'portfólio', 'o', 'site', 'faz', 'uma', 'animação', 'fade', 'sidescroll', 'etc', 'e', 'mostra', 'o', 'conteúdo', 'do', 'portfólio', 'sem', 'a', 'necessidade', 'de', 'carregar', 'outro', 'arquivo', 'alguém', 'pode', 'me', 'dar', 'uma', 'luz', 'já', 'trabalhei', 'com', 'sites', 'feitos', 'em', 'uma', 'página', 'só', 'mas', 'são', 'no', 'modelo', 'one', 'page', 'scroll', 'website', 'acredito', 'que', 'eu', 'precise', 'trabalhar', 'com', 'o', 'ajax', 'mas', 'não', 'tenho', 'certeza', 'ainda', 'recentemente', 'houve', 'uma', 'pergunta', 'aqui', 'no', 'stack', 'overflow', 'sobre', 'alterar', 'o', 'comportamento', 'padrão', 'do', 'para', 'atuar', 'na', 'página', 'como', 'um', 'isto', 'é', 'ao', 'ser', 'selecionado', 'um', 'item', 'os', 'outros', 'deveriam', 'ser', 'desmarcados', 'mantendo', 'a', 'seleção', 'única', 'as', 'respostas', 'foram', 'dadas', 'utilizando', 'javascript', 'basicamente', 'alterando', 'o', 'comportamento', 'natural', 'do', 'tratando', 'os', 'eventos', 'nesse', 'elemento', 'eu', 'sempre', 'acreditei', 'que', 'fazêlo', 'não', 'era', 'recomendado', 'e', 'que', 'o', 'ideal', 'mesmo', 'seria', 'utilizar', 'o', 'próprio', 'elemento', 'por', 'questões', 'de', 'semântica', 'eu', 'cheguei', 'a', 'comentar', 'a', 'possível', 'solução', 'utilizando', 'a', 'propriedade', 'do', 'css', 'pois', 'mantém', 'a', 'semântica', 'do', 'código', 'alterando', 'apenas', 'a', 'aparência', 'do', 'elemento', 'sem', 'necessitar', 'de', 'javascript', 'porém', 'pesquisando', 'vi', 'que', 'tal', 'propriedade', 'foi', 'removida', 'do', 'css', 'então', 'mesmo', 'que', 'os', 'navegadores', 'ainda', 'suportam', 'tal', 'propriedade', 'acredito', 'que', 'seu', 'uso', 'deve', 'ser', 'evitado', 'e', 'que', 'a', 'abordagem', 'utilizando', 'javascript', 'é', 'comumente', 'discutida', 'em', 'fóruns', 'mas', 'são', 'poucos', 'os', 'lugares', 'que', 'discutem', 'se', 'de', 'fato', 'é', 'apropriado', 'fazêlo', 'a', 'conclusão', 'que', 'chego', 'é', 'que', 'não', 'se', 'deve', 'alterar', 'o', 'comportamento', 'de', 'um', 'elemento', 'enquanto', 'semanticamente', 'é', 'apropriado', 'utilizar', 'outro', 'mas', 'não', 'consigo', 'afirmar', 'canonicamente', 'qual', 'é', 'o', 'impacto', 'tanto', 'de', 'desempenho', 'se', 'houver', 'quanto', 'na', 'usabilidade', 'da', 'página', 'então', 'é', 'permitido', 'utilizar', 'javascript', 'para', 'alterar', 'o', 'comportamento', 'natural', 'de', 'um', 'elemento', 'para', 'agir', 'como', 'outro', 'qual', 'é', 'o', 'impacto', 'gerado', 'por', 'esta', 'abordagem', 'existe', 'uma', 'diferença', 'de', 'desempenho', 'na', 'renderização', 'da', 'página', 'e', 'como', 'isso', 'pode', 'afetar', 'a', 'usabilidade', 'se', 'a', 'usabilidade', 'for', 'diretamente', 'afetada', 'é', 'possível', 'corrigir', 'utilizando', 'o', 'atributo', 'nota', 'o', 'exemplo', 'dado', 'entre', 'e', 'foi', 'mais', 'para', 'contextualização', 'do', 'problema', 'e', 'as', 'respostas', 'podem', 'preferencialmente', 'abordar', 'outros', 'exemplos', 'se', 'necessário', 'a', 'foto', 'original', 'do', 'feijão', 'é', 'essa', 'diminui', 'a', 'resolução', 'da', 'foto', 'já', 'apliquei', 'um', 'filtro', 'para', 'ficar', 'em', 'escala', 'de', 'cinza', 'e', 'aumentei', 'o', 'contraste', 'ao', 'máximo', 'para', 'ficar', 'preto', 'e', 'branco', 'depois', 'examinei', 'a', 'cor', 'de', 'cada', 'um', 'dos', 'pixels', 'e', 'montei', 'uma', 'array', 'matriz', 'se', 'eu', 'iterar', 'sobre', 'essa', 'array', 'e', 'escrever', 'um', 'para', 'os', 'pixels', 'brancos', 'e', 'um', 'x', 'para', 'os', 'pretos', 'eu', 'consigo', 'o', 'seguinte', 'a', 'partir', 'daí', 'estou', 'tentando', 'encontrar', 'uma', 'maneira', 'de', 'contar', 'quantas', 'porções', 'de', 'x', 'tem', 'nessa', 'matriz', 'alguém', 'pode', 'me', 'ajudar', 'com', 'isso', 'minha', 'dúvida', 'é', 'bem', 'objetiva', 'tratandose', 'de', 'seletores', 'css', 'tenho', 'o', 'seguinte', 'código', 'e', 'sei', 'que', 'já', 'há', 'uma', 'pergunta', 'relacionada', 'mas', 'nesse', 'caso', 'estou', 'tratando', 'com', 'uma', 'série', 'de', 'seletores', 'e', 'não', 'somente', 'e', 'porque', 'é', 'aplicado', 'o', 'estilo', 'do', 'seletor', 'porque', 'o', 'tem', 'prioridade', 'em', 'cima', 'dos', 'outros', 'tantos', 'seletores', 'já', 'que', 'os', 'demais', 'vem', 'depois', 'dele', 'na', 'última', 'linha', 'de', 'estilo', 'eu', 'tenho', 'um', 'caminho', 'com', 'seletores', 'e', 'mesmo', 'assim', 'o', 'tem', 'prioridade', 'porquê', 'começarei', 'um', 'projeto', 'em', 'c', 'que', 'terá', 'como', 'uma', 'placa', 'colibri', 't', 'com', 'processador', 'nvidia', 'tegra', 'arm', 'rodando', 'uma', 'versão', 'leve', 'de', 'linux', 'gostaria', 'de', 'saber', 'se', 'além', 'de', 'ter', 'que', 'utilizar', 'um', 'compilador', 'cruzado', 'compatível', 'com', 'o', 'processador', 'eu', 'preciso', 'me', 'preocupar', 'com', 'algum', 'outro', 'detalhe', 'específico', 'da', 'arquitetura', 'arm', 'pelo', 'que', 'li', 'parece', 'que', 'a', 'arquitetura', 'do', 'processador', 'só', 'importa', 'se', 'eu', 'estiver', 'programando', 'em', 'assembly', 'estou', 'errado', 'não', 'sei', 'se', 'é', 'relevante', 'mas', 'meu', 'é', 'ubuntu', 'linux', 'como', 'posso', 'calcular', 'a', 'idade', 'de', 'uma', 'pessoa', 'em', 'javascript', 'a', 'partir', 'da', 'data', 'de', 'nascimento', 'tentei', 'algo', 'do', 'tipo', 'tenho', 'um', 'código', 'em', 'c', 'que', 'por', 'algum', 'motivo', 'inexplicável', 'parece', 'ser', 'executado', 'muito', 'mais', 'rapidamente', 'quando', 'os', 'meus', 'dados', 'estão', 'previamente', 'ordenados', 'consegui', 'reproduzir', 'o', 'comportamento', 'com', 'o', 'seguinte', 'código', 'tenho', 'o', 'seguinte', 'resultado', 'compilado', 'com', 'o', 'g', 'sem', 'otimizações', 'um', 'aumento', 'de', 'velocidade', 'de', 'quase', 'vezes', 'inicialmente', 'suspeitei', 'que', 'fosse', 'algum', 'tipo', 'de', 'otimização', 'que', 'o', 'compilador', 'pudesse', 'estar', 'fazendo', 'com', 'o', 'meu', 'código', 'se', 'aproveitando', 'de', 'alguma', 'forma', 'do', 'fato', 'de', 'minha', 'lista', 'estar', 'ordenada', 'então', 'decidi', 'implementar', 'a', 'mesma', 'ideia', 'em', 'uma', 'linguagem', 'completamente', 'diferente', 'e', 'que', 'não', 'fosse', 'otimizavél', 'escolhi', 'o', 'ruby', 'o', 'resultado', 'rodando', 'com', 'o', 'ruby', 'executando', 'vezes', 'a', 'menos', 'por', 'ser', 'mais', 'lento', 'aqui', 'o', 'ganho', 'de', 'perfomance', 'é', 'bastante', 'menor', 'pouco', 'mais', 'de', 'x', 'mas', 'claramente', 'significativo', 'o', 'que', 'exatamente', 'está', 'acontecendo', 'aqui', 'de', 'onde', 'vem', 'esse', 'efeito', 'e', 'como', 'eu', 'posso', 'me', 'aproveitar', 'dele', 'baseado', 'em', 'uma', 'pergunta', 'famosa', 'do', 'so', 'tentei', 'procurar', 'pelo', 'google', 'e', 'no', 'soen', 'mas', 'não', 'encontrei', 'nenhuma', 'referência', 'ao', 'operador', 'descobri', 'que', 'ele', 'existe', 'pois', 'estava', 'lendo', 'um', 'livro', 'sobre', 'javascript', 'e', 'tinha', 'um', 'exemplo', 'utilizando', 'ele', 'mas', 'o', 'autor', 'também', 'não', 'havia', 'feito', 'nenhuma', 'referência', 'ao', 'til', 'antes', 'qual', 'a', 'função', 'do', 'operador', 'e', 'quando', 'ele', 'é', 'geralmente', 'utilizado', 'contexto', 'quando', 'faço', 'um', 'sql', 'e', 'desejo', 'por', 'um', 'alias', 'especifico', 'devo', 'por', 'entre', 'aspas', 'duplas', 'quando', 'quero', 'fazer', 'um', 'de', 'um', 'campo', 'os', 'valores', 'devem', 'estar', 'em', 'aspa', 'simples', 'pergunta', 'qual', 'a', 'diferença', 'entre', 'aspa', 'simples', 'e', 'aspa', 'dupla', 'no', 'sql', 'adendo', 'se', 'eu', 'fizer', 'um', 'de', 'de', 'campos', 'que', 'tem', 'alias', 'em', 'o', 'meu', 'mais', 'externo', 'também', 'deve', 'ter', 'estou', 'trabalhando', 'em', 'um', 'sistema', 'muito', 'grande', 'utilizando', 'net', 'aspnet', 'mvc', 'a', 'aplicação', 'requer', 'um', 'nível', 'crítico', 'de', 'desempenho', 'até', 'que', 'ponto', 'vale', 'ou', 'não', 'a', 'pena', 'utilizar', 'uma', 'orm', 'existe', 'alguma', 'ferramenta', 'que', 'eu', 'possa', 'comparar', 'em', 'termos', 'de', 'desempenho', 'os', 'orms', 'e', 'sql', 'puro', 'eu', 'sei', 'que', 'existe', 'uma', 'diferença', 'de', 'desempenho', 'entre', 'sql', 'puro', 'e', 'orm', 'não', 'sei', 'se', 'é', 'os', 'activerecords', 'ou', 'os', 'orms', 'em', 'gerais', 'são', 'mais', 'lentos', 'em', 'comparação', 'com', 'sql', 'puro', 'caso', 'considere', 'usar', 'um', 'orm', 'qual', 'deles', 'provavelmente', 'tem', 'o', 'melhor', 'desempenho', 'ef', 'ou', 'nhibernate', 'sei', 'que', 'tudo', 'também', 'depende', 'da', 'estrutura', 'do', 'banco', 'e', 'das', 'boas', 'práticas', 'mas', 'de', 'modo', 'geral', 'para', 'um', 'sistema', 'muito', 'grande', 'considero', 'uma', 'orm', 'já', 'que', 'o', 'custo', 'beneficio', 'em', 'relação', 'manutenção', 'do', 'sistema', 'é', 'muito', 'mais', 'alto', 'do', 'que', 'não', 'utilizando', 'qual', 'a', 'grande', 'diferença', 'sobre', 'o', 'aspnet', 'e', 'o', 'c', 'eu', 'programo', 'em', 'c', 'pra', 'desktop', 'mas', 'não', 'consigo', 'compreender', 'c', 'pra', 'desktop', 'windows', 'forms', 'application', 'é', 'idêntico', 'ao', 'c', 'utilizado', 'na', 'programação', 'web', 'e', 'o', 'c', 'usado', 'na', 'programação', 'web', 'é', 'igual', 'ao', 'asp', 'eu', 'tenho', 'visto', 'que', 'bibliotecas', 'de', 'software', 'escritas', 'em', 'c', 'no', 'geral', 'costumam', 'usar', 'números', 'hexadecimais', 'e', 'programadores', 'assembly', 'também', 'precisam', 'ser', 'ninjas', 'com', 'este', 'sistema', 'numérico', 'não', 'é', 'em', 'qualquer', 'lugar', 'que', 'se', 'acha', 'um', 'programador', 'que', 'saiba', 'ler', 'hexadecimal', 'decentemente', 'e', 'muito', 'menos', 'fazer', 'uso', 'dos', 'números', 'mas', 'hexadecimais', 'são', 'bastante', 'comuns', 'principalmente', 'em', 'programação', 'de', 'sistemas', 'programação', 'de', 'baixo', 'nível', 'e', 'segurança', 'da', 'informação', 'payloads', 'de', 'exploits', 'precisam', 'dos', 'opcodes', 'em', 'hexadecimal', 'hexdumps', 'o', 'nome', 'já', 'diz', 'tudo', 'eu', 'não', 'sei', 'porquê', 'mas', 'hexadecimais', 'também', 'estão', 'bastante', 'presente', 'em', 'macros', 'de', 'c', 'considerando', 'a', 'importância', 'desse', 'sistema', 'eu', 'pergunto', 'como', 'funcionam', 'os', 'números', 'em', 'hexadecimal', 'os', 'conceitos', 'de', 'erro', 'sintático', 'e', 'semântico', 'são', 'encontrados', 'em', 'livros', 'e', 'outros', 'materiais', 'sobre', 'programação', 'no', 'entanto', 'sempre', 'geram', 'dúvidas', 'para', 'quem', 'está', 'iniciando', 'de', 'forma', 'prática', 'qual', 'a', 'diferença', 'entre', 'erro', 'sintático', 'e', 'semântico', 'cenário', 'estou', 'montando', 'um', 'layout', 'que', 'será', 'utilizado', 'por', 'terceiros', 'e', 'não', 'sei', 'qual', 'será', 'a', 'linguagem', 'utilizada', 'tenho', 'duas', 'divs', 'um', 'será', 'o', 'menu', 'esquerdo', 'e', 'outro', 'o', 'conteúdo', 'eles', 'são', 'separados', 'por', 'um', 'splitter', 'minhas', 'dúvidas', 'são', 'esse', 'menu', 'esquerdo', 'quero', 'desenvolver', 'um', 'a', 'parte', 'e', 'chamalo', 'por', 'qual', 'a', 'melhor', 'forma', 'de', 'fazer', 'se', 'eu', 'fizer', 'chamada', 'via', 'javascript', 'será', 'que', 'terei', 'problemas', 'com', 'javascript', 'contido', 'nessa', 'página', 'que', 'será', 'inserida', 'existe', 'algum', 'padrão', 'desse', 'tipo', 'no', 'html', 'css', 'ou', 'alguma', 'forma', 'simples', 'de', 'implementar', 'em', 'javascript', 'sei', 'que', 'iframe', 'não', 'é', 'uma', 'boa', 'solução', 'através', 'de', 'funciona', 'mas', 'creio', 'que', 'não', 'seja', 'uma', 'boa', 'solução', 'também', 'quero', 'colocar', 'no', 'meu', 'site', 'um', 'sistema', 'igual', 'o', 'do', 'gag', 'onde', 'as', 'pessoas', 'podem', 'pausar', 'e', 'dar', 'play', 'em', 'um', 'eu', 'sei', 'que', 'tenho', 'que', 'usar', 'duas', 'imagens', 'um', 'e', 'um', 'mas', 'tentei', 'algumas', 'funções', 'e', 'não', 'consegui', 'achei', 'essa', 'função', 'mas', 'eu', 'não', 'sei', 'o', 'que', 'passar', 'por', 'parâmetro', 'e', 'nem', 'como', 'usálas', 'no', 'html', 'qual', 'a', 'diferença', 'da', 'declaração', 'para', 'para', 'como', 'essas', 'declarações', 'podem', 'influenciar', 'no', 'meu', 'algoritmo', 'ultimamente', 'ouvi', 'muito', 'a', 'respeito', 'de', 'web', 'service', 'web', 'service', 'é', 'uma', 'solução', 'utilizada', 'na', 'integração', 'de', 'sistemas', 'e', 'na', 'comunicação', 'entre', 'aplicações', 'diferentes', 'permitem', 'às', 'aplicações', 'enviar', 'e', 'receber', 'dados', 'em', 'formato', 'xml', 'web', 'service', 'é', 'uma', 'solução', 'utilizada', 'na', 'integração', 'de', 'sistemas', 'e', 'na', 'comunicação', 'entre', 'aplicações', 'diferentes', 'com', 'esta', 'tecnologia', 'é', 'possível', 'que', 'novas', 'aplicações', 'possam', 'interagir', 'com', 'aquelas', 'que', 'já', 'existem', 'e', 'que', 'sistemas', 'desenvolvidos', 'em', 'plataformas', 'diferentes', 'sejam', 'compatíveis', 'os', 'web', 'services', 'são', 'componentes', 'que', 'permitem', 'às', 'aplicações', 'enviar', 'e', 'receber', 'dados', 'em', 'formato', 'xml', 'cada', 'aplicação', 'pode', 'ter', 'a', 'sua', 'própria', 'linguagem', 'que', 'é', 'traduzida', 'para', 'uma', 'linguagem', 'universal', 'o', 'formato', 'xml', 'fonte', 'httpswwwoficinadanetcombrartigoo_que_e_web_service', 'eu', 'não', 'consegui', 'visualizar', 'o', 'que', 'seria', 'um', 'web', 'service', 'mas', 'afinal', 'o', 'que', 'ele', 'é', 'alguém', 'poderia', 'elucidar', 'com', 'alguma', 'aplicação', 'que', 'ele', 'possa', 'ser', 'utilizado', 'talvez', 'isso', 'melhore', 'no', 'meu', 'entendimento', 'sei', 'que', 'em', 'no', 'primeiro', 'o', 'objeto', 'passado', 'como', 'argumento', 'para', 'uma', 'função', 'é', 'copiado', 'e', 'no', 'segundo', 'não', 'também', 'sei', 'que', 'é', 'extremamente', 'incomum', 'em', 'linguagens', 'modernas', 'a', 'passagem', 'de', 'objetos', 'complexos', 'por', 'valor', 'enquanto', 'tipos', 'primitivos', 'números', 'caracteres', 'booleanos', 'frequentemente', 'o', 'são', 'mas', 'o', 'que', 'exatamente', 'são', 'esses', 'modos', 'de', 'passagem', 'leio', 'muito', 'que', 'em', 'java', 'as', 'referências', 'são', 'passadas', 'por', 'valor', 'e', 'vejo', 'também', 'que', 'há', 'linguagens', 'modernas', 'como', 'c', 'que', 'dão', 'mais', 'opções', 'de', 'passagem', 'de', 'parâmetros', 'que', 'a', 'maioria', 'das', 'linguagens', 'orientadas', 'por', 'objeto', 'o', 'que', 'gostaria', 'que', 'fosse', 'explicado', 'é', 'na', 'passagem', 'por', 'valor', 'o', 'argumento', 'é', 'copiado', 'ok', 'mas', 'o', 'que', 'exatamente', 'é', 'copiado', 'o', 'objeto', 'inteiro', 'inclusive', 'todas', 'as', 'suas', 'referências', 'o', 'que', 'constitui', 'uma', 'passagem', 'por', 'referência', 'se', 'a', 'linguagem', 'possui', 'ponteiros', 'passar', 'um', 'ponteiro', 'para', 'um', 'objeto', 'como', 'argumento', 'significa', 'que', 'se', 'está', 'passando', 'o', 'objeto', 'por', 'referência', 'o', 'que', 'significa', 'exatamente', 'passar', 'uma', 'referência', 'por', 'valor', 'volta', 'aqui', 'o', 'primeiro', 'item', 'o', 'que', 'da', 'referência', 'está', 'sendo', 'copiado', 'já', 'que', 'a', 'passagem', 'é', 'por', 'valor', 'para', 'não', 'ficar', 'muito', 'amplo', 'se', 'é', 'que', 'já', 'não', 'está', 'peço', 'que', 'as', 'respostas', 'se', 'foquem', 'nas', 'linguagens', 'cc', 'tradicionais', 'que', 'introduziram', 'a', 'muitos', 'de', 'nós', 'os', 'conceitos', 'envolvidos', 'java', 'que', 'pelo', 'menos', 'pra', 'mim', 'marcou', 'a', 'mudança', 'de', 'paradigma', 'entre', 'raciocinar', 'em', 'termos', 'de', 'ponteiros', 'e', 'em', 'termos', 'de', 'referências', 'e', 'talvez', 'c', 'linguagem', 'moderna', 'que', 'se', 'não', 'me', 'engano', 'trouxe', 'mais', 'flexibilidade', 'nas', 'formas', 'de', 'manipular', 'objetos', 'sempre', 'quando', 'tenho', 'problema', 'de', 'permissões', 'de', 'pastas', 'no', 'meu', 'sistema', 'operacional', 'ubuntu', 'eu', 'costumo', 'dar', 'a', 'permissão', 'para', 'a', 'determinada', 'pasta', 'costumo', 'fazer', 'isso', 'no', 'ambiente', 'de', 'desenvolvimento', 'em', 'algumas', 'situações', 'já', 'dei', 'esse', 'tipo', 'de', 'permissão', 'em', 'ambiente', 'de', 'produção', 'em', 'um', 'servidor', 'linux', 'onde', 'rodo', 'minhas', 'aplicações', 'escritas', 'em', 'php', 'por', 'exemplo', 'quando', 'tive', 'um', 'problema', 'específico', 'de', 'escrita', 'de', 'arquivos', 'de', 'upload', 'na', 'pasta', 'de', 'um', 'determinado', 'sistema', 'eu', 'dei', 'a', 'permissão', 'nesta', 'pasta', 'porém', 'vejo', 'sempre', 'recomendações', 'de', 'que', 'devemos', 'usar', 'a', 'permissão', 'ou', 'porque', 'usar', 'é', 'perigoso', 'mas', 'em', 'que', 'sentido', 'isso', 'seria', 'perigoso', 'por', 'que', 'os', 'programadores', 'mais', 'experientes', 'sempre', 'recomendam', 'a', 'utilização', 'de', 'outros', 'valores', 'para', 'permissões', 'de', 'pasta', 'em', 'produção', 'ao', 'invés', 'de', 'por', 'exemplo', 'já', 'ouvi', 'dizer', 'que', 'uma', 'pessoa', 'pode', 'ter', 'problemas', 'com', 'ataques', 'a', 'uma', 'aplicação', 'web', 'caso', 'haja', 'uma', 'permissão', 'de', 'escrita', 'em', 'determinada', 'pasta', 'isso', 'é', 'verdade', 'seria', 'legal', 'também', 'se', 'a', 'resposta', 'pudesse', 'explicar', 'melhor', 'sobre', 'as', 'diferenças', 'entre', 'e', 'quais', 'as', 'vantagens', 'e', 'desvantagens', 'do', 'uso', 'de', 'índices', 'em', 'base', 'de', 'dados', 'sempre', 'usei', 'o', 'independente', 'da', 'situação', 'e', 'sempre', 'funcionou', 'raras', 'vezes', 'que', 'tive', 'que', 'usar', 'um', 'dos', 'outros', 'e', 'nessas', 'vezes', 'fiz', 'por', 'orientação', 'de', 'alguém', 'e', 'não', 'por', 'saber', 'exatamente', 'o', 'que', 'eu', 'tinha', 'que', 'fazer', 'então', 'qual', 'a', 'diferença', 'entre', 'os', 'tipo', 'de', 'this', 'quando', 'devo', 'usar', 'um', 'e', 'quando', 'devo', 'usar', 'outro', 'muda', 'de', 'alguma', 'forma', 'a', 'performance', 'do', 'código', 'já', 'vi', 'gente', 'recomendando', 'nunca', 'usar', 'underscore', 'em', 'html', 'e', 'css', 'ao', 'invés', 'disso', 'deveríamos', 'dar', 'preferência', 'para', 'exemplo', 'por', 'que', 'existe', 'essa', 'recomendação', 'estou', 'desenvolvendo', 'este', 'programinha', 'que', 'deve', 'receber', 'uma', 'expressão', 'do', 'usuário', 'e', 'fazer', 'o', 'cálculo', 'ex', 'insira', 'uma', 'expressão', 'o', 'meu', 'problema', 'é', 'como', 'tratar', 'a', 'expressão', 'enviada', 'pelo', 'usuário', 'me', 'foi', 'recomendado', 'usar', 'algo', 'como', 'o', 'mas', 'não', 'achei', 'nada', 'equivalente', 'na', 'linguagem', 'c', 'alguém', 'tem', 'algo', 'equivalente', 'para', 'medir', 'a', 'performance', 'e', 'comparar', 'dois', 'códigos', 'em', 'eu', 'faço', 'da', 'seguinte', 'maneira', 'no', 'console', 'do', 'navegador', 'explicação', 'rápida', 'basta', 'iniciar', 'um', 'contador', 'em', 'milissegundos', 'rodar', 'o', 'código', 'que', 'eu', 'quero', 'testar', 'várias', 'vezes', 'etc', 'dentro', 'de', 'um', 'loop', 'e', 'anotar', 'o', 'tempo', 'depois', 'é', 'só', 'fazer', 'o', 'mesmo', 'procedimento', 'para', 'o', 'outro', 'código', 'a', 'ser', 'testado', 'e', 'comparar', 'os', 'tempos', 'para', 'ver', 'quem', 'tem', 'o', 'melhor', 'desempenho', 'para', 'o', 'navegador', 'em', 'questão', 'mas', 'e', 'em', 'php', 'será', 'que', 'o', 'método', 'a', 'seguir', 'é', 'o', 'mais', 'recomendado', 'baseado', 'em', 'httpphpdzonecomarticlesthingsyoushouldchecknow', 'em', 'c', 'temos', 'propriedades', 'com', 'getters', 'e', 'setters', 'o', 'que', 'facilita', 'a', 'inserção', 'e', 'leitura', 'de', 'dados', 'em', 'um', 'objeto', 'quando', 'alguma', 'lógica', 'deve', 'ser', 'realizada', 'em', 'outras', 'linguagens', 'como', 'o', 'java', 'essas', 'tarefas', 'são', 'feitas', 'com', 'métodos', 'quando', 'precisamos', 'de', 'lógica', 'para', 'ler', 'um', 'campo', 'ou', 'para', 'escrever', 'nele', 'usamos', 'métodos', 'e', 'coisas', 'do', 'tipo', 'essa', 'abordagem', 'com', 'métodos', 'também', 'pode', 'ser', 'feita', 'no', 'c', 'e', 'é', 'ai', 'que', 'ta', 'minha', 'dúvida', 'quais', 'são', 'as', 'vantagens', 'e', 'desvantagens', 'no', 'c', 'dessas', 'duas', 'abordagens', 'minha', 'preocupação', 'com', 'essa', 'questão', 'é', 'a', 'seguinte', 'estive', 'resolvendo', 'exercícios', 'de', 'orientação', 'a', 'objetos', 'e', 'notei', 'que', 'a', 'grande', 'maioria', 'dos', 'métodos', 'que', 'os', 'exercícios', 'pedem', 'pra', 'codificar', 'podem', 'se', 'tornar', 'propriedades', 'no', 'c', 'o', 'problema', 'é', 'que', 'isso', 'faz', 'a', 'classe', 'parecer', 'anêmica', 'ou', 'seja', 'tendo', 'só', 'propriedades', 'e', 'sem', 'lógica', 'dessa', 'forma', 'existem', 'diferenças', 'entre', 'as', 'duas', 'abordagens', 'existe', 'algum', 'tipo', 'de', 'recomendação', 'sobre', 'qual', 'técnica', 'usar', 'edição', 'a', 'resposta', 'do', 'maniero', 'é', 'muito', 'boa', 'e', 'esclarece', 'algumas', 'coisas', 'com', 'relação', 'a', 'esse', 'tipo', 'de', 'decisão', 'mas', 'vou', 'adicionar', 'alguns', 'exemplos', 'para', 'ilustar', 'o', 'que', 'estou', 'falando', 'só', 'pra', 'completar', 'um', 'ponto', 'os', 'exemplos', 'são', 'de', 'exercícios', 'em', 'java', 'um', 'dos', 'exercícios', 'que', 'resolvi', 'pedia', 'uma', 'classe', 'com', 'métodos', 'e', 'para', 'decidir', 'se', 'o', 'ano', 'é', 'bissexto', 'os', 'métodos', 'claramente', 'em', 'c', 'poderiam', 'ser', 'implementados', 'como', 'getters', 'acontece', 'que', 'o', 'também', 'poderia', 'afinal', 'ele', 'devolve', 'uma', 'característica', 'do', 'objeto', 'invés', 'de', 'executar', 'um', 'comportamento', 'claro', 'que', 'existe', 'uma', 'lógica', 'pra', 'verificar', 'isso', 'mas', 'me', 'pergunto', 'se', 'isso', 'não', 'seria', 'uma', 'propriedade', 'outro', 'exercício', 'pede', 'uma', 'classe', 'que', 'deve', 'ter', 'métodos', 'para', 'inserir', 'a', 'alternativa', 'da', 'próxima', 'questão', 'para', 'retornar', 'o', 'número', 'de', 'acertos', 'para', 'retornar', 'a', 'nota', 'e', 'para', 'comparar', 'com', 'outra', 'prova', 'novamente', 'os', 'métodos', 'e', 'me', 'parecem', 'naturalmente', 'propriedades', 'eles', 'são', 'características', 'da', 'prova', 'existe', 'novamente', 'uma', 'lógica', 'pra', 'verificar', 'isso', 'basicamente', 'é', 'preciso', 'comparar', 'cada', 'questão', 'com', 'os', 'dados', 'provenientes', 'de', 'um', 'gabarito', 'informado', 'no', 'construtor', 'mas', 'por', 'conta', 'de', 'parecerem', 'características', 'achei', 'que', 'deveriam', 'ser', 'propriedades', 'acontece', 'que', 'tirando', 'esses', 'métodos', 'e', 'transformando', 'em', 'propriedades', 'essas', 'classes', 'ficam', 'quase', 'sem', 'funcionalidades', 'e', 'não', 'só', 'elas', 'mas', 'muitas', 'outras', 'que', 'já', 'vi', 'por', 'ai', 'isso', 'indicaria', 'o', 'problema', 'que', 'ouvi', 'dizer', 'se', 'chama', 'modelo', 'anêmico', 'dessa', 'forma', 'a', 'decisão', 'de', 'algo', 'como', 'propriedade', 'não', 'depende', 'somente', 'de', 'ser', 'uma', 'característica', 'do', 'objeto', 'depende', 'também', 'de', 'haver', 'ou', 'não', 'uma', 'lógica', 'a', 'ser', 'utilizada', 'para', 'ler', 'ou', 'escrever', 'aquele', 'dado', 'em', 'casos', 'então', 'como', 'esses', 'que', 'citei', 'é', 'mais', 'interessante', 'então', 'realmente', 'utilizar', 'métodos', 'gostaria', 'de', 'saber', 'se', 'existe', 'alguma', 'forma', 'simples', 'de', 'realizar', 'um', 'upload', 'de', 'arquivos', 'via', 'ajax', 'json', 'se', 'houver', 'qual', 'seria', 'quais', 'são', 'os', 'principais', 'motivos', 'na', 'prática', 'que', 'levam', 'desenvolvedores', 'a', 'aplicar', 'a', 'prática', 'de', 'desenvolver', 'voltado', 'para', 'interface', 'e', 'não', 'para', 'implementação', 'eu', 'já', 'ouvi', 'esse', 'termo', 'da', 'boca', 'de', 'algumas', 'pessoas', 'mas', 'não', 'costumo', 'ser', 'bom', 'com', 'esses', 'termos', 'técnicos', 'o', 'que', 'seria', 'um', 'código', 'legado', 'está', 'relacionado', 'a', 'código', 'ultrapassado', 'tenho', 'uma', 'tabela', 'com', 'uma', 'coluna', 'não', 'posso', 'definir', 'como', 'chave', 'primária', 'em', 'um', 'sistema', 'que', 'recebe', 'muitas', 'notificações', 'antes', 'verifica', 'com', 'um', 'para', 'ver', 'se', 'aquele', 'código', 'já', 'existe', 'na', 'tabela', 'se', 'não', 'existir', 'ele', 'dá', 'o', 'e', 'se', 'existir', 'ele', 'faz', 'o', 'acontece', 'que', 'esse', 'sistema', 'recebe', 'muitas', 'notificações', 'via', 'onde', 'muitas', 'delas', 'acontecem', 'ao', 'mesmo', 'tempo', 'para', 'o', 'mesmo', 'código', 'muitas', 'vezes', 'o', 'sistema', 'mesmo', 'dando', 'o', 'antes', 'acaba', 'inserindo', 'códigos', 'duplicados', 'na', 'tabela', 'não', 'sei', 'como', 'é', 'que', 'o', 'mysql', 'trata', 'isto', 'pelo', 'que', 'não', 'sei', 'se', 'é', 'seguro', 'fazer', 'um', 'verificador', 'antes', 'do', 'presumo', 'que', 'exista', 'uma', 'espécie', 'de', 'fila', 'de', 'consultas', 'e', 'que', 'a', 'mesma', 'vai', 'sendo', 'processanda', 'uma', 'a', 'uma', 'como', 'que', 'um', 'código', 'acima', 'poderia', 'permitir', 'inserir', 'dois', 'registros', 'com', 'códigos', 'iguais', 'imagina', 'uma', 'requisição', 'com', 'uma', 'notificação', 'acontecendo', 'ao', 'mesmo', 'tempo', 'exatamente', 'ao', 'mesmo', 'tempo', 'qual', 'a', 'melhor', 'maneira', 'de', 'contornar', 'isso', 'sem', 'uso', 'de', 'chave', 'primária', 'tenho', 'uma', 'página', 'e', 'nela', 'o', 'conteúdo', 'que', 'quero', 'imprimir', 'criei', 'um', 'comando', 'em', 'javascript', 'porém', 'esse', 'comando', 'faz', 'imprimir', 'a', 'página', 'inteira', 'existe', 'alguma', 'forma', 'de', 'ser', 'impresso', 'apenas', 'o', 'conteúdo', 'de', 'uma', 'o', 'que', 'é', 'oauth', 'qual', 'sua', 'finalidade', 'o', 'que', 'ele', 'faz', 'existe', 'outras', 'tecnologias', 'alternativas', 'a', 'ele', 'já', 'ouvi', 'falar', 'sobre', 'uma', 'técnica', 'assim', 'chamada', 'e', 'qualquer', 'coisa', 'sobre', 'explorar', 'colisões', 'de', 'hashes', 'mas', 'como', 'funciona', 'essa', 'técnica', 'e', 'onde', 'ela', 'pode', 'ser', 'aplicada', 'é', 'comum', 'encontrar', 'uma', 'mensagem', 'de', 'erro', 'que', 'diz', 'desculpe', 'você', 'não', 'tem', 'permissão', 'para', 'acessar', 'esta', 'função', 'entre', 'em', 'contato', 'com', 'o', 'administrador', 'para', 'obter', 'ajuda', 'é', 'apropriado', 'um', 'pedido', 'de', 'desculpas', 'neste', 'caso', 'é', 'um', 'caso', 'claro', 'que', 'o', 'problema', 'não', 'é', 'culpa', 'do', 'sistemaplataformaprovedor', 'do', 'serviço', 'então', 'por', 'que', 'deveria', 'existir', 'esse', 'pedido', 'de', 'desculpas', 'isso', 'é', 'importante', 'tem', 'alguma', 'fonte', 'de', 'informação', 'autoritativa', 'que', 'justifique', 'o', 'seu', 'uso', 'note', 'que', 'não', 'estou', 'perguntando', 'se', 'você', 'usa', 'de', 'um', 'jeito', 'ou', 'de', 'outro', 'e', 'o', 'que', 'você', 'acha', 'que', 'é', 'certo', 'respostas', 'com', 'opiniões', 'sem', 'base', 'são', 'inválidas', 'e', 'devem', 'ser', 'votadas', 'negativamente', 'informações', 'que', 'indiquem', 'com', 'clareza', 'e', 'justificativa', 'de', 'qual', 'o', 'motivo', 'do', 'uso', 'ou', 'não', 'são', 'construtivas', 'o', 'que', 'são', 'esses', 'tais', 'de', 'stack', 'e', 'heap', 'que', 'tanto', 'se', 'fala', 'em', 'gerenciamento', 'de', 'memória', 'isso', 'realmente', 'são', 'porções', 'da', 'memória', 'como', 'algumas', 'pessoas', 'falam', 'ou', 'é', 'apenas', 'um', 'conceito', 'abstrato', 'para', 'facilitar', 'o', 'entendimento', 'da', 'forma', 'como', 'se', 'gerencia', 'a', 'memória', 'algum', 'deles', 'é', 'mais', 'rápido', 'que', 'o', 'outro', 'se', 'um', 'é', 'claramente', 'mais', 'rápido', 'por', 'que', 'existe', 'o', 'outro', 'faz', 'diferença', 'se', 'estou', 'usando', 'por', 'exemplo', 'assembly', 'c', 'java', 'ou', 'javascript', 'windows', 'ou', 'linux', 'isso', 'é', 'controlado', 'pela', 'linguagem', 'ou', 'pelo', 'sistema', 'operacional', 'enfim', 'queria', 'entender', 'melhor', 'esse', 'conceito', 'que', 'parece', 'ser', 'mal', 'compreendido', 'pelos', 'programadores', 'seria', 'muito', 'útil', 'uma', 'explicação', 'para', 'quem', 'está', 'começando', 'ou', 'aprendeu', 'isso', 'de', 'forma', 'errada', 'nunca', 'tinha', 'visto', 'antes', 'a', 'utilização', 'desta', 'diretiva', 'mas', 'os', 'plugins', 'jquery', 'mais', 'maduros', 'quase', 'todos', 'usam', 'gostaria', 'de', 'saber', 'quando', 'usar', 'o', 'mesmo', 'qual', 'a', 'finalidade', 'dele', 'e', 'como', 'esses', 'dias', 'me', 'deparei', 'com', 'um', 'trecho', 'de', 'um', 'sql', 'que', 'tinha', 'o', 'comando', 'eu', 'nunca', 'tinha', 'visto', 'isso', 'antes', 'e', 'pelo', 'pouco', 'que', 'pude', 'ver', 'pareceme', 'que', 'isso', 'seria', 'para', 'travar', 'a', 'tabela', 'durante', 'a', 'inserção', 'ou', 'atualização', 'mas', 'eu', 'queria', 'poder', 'entender', 'melhor', 'o', 'funcionamento', 'como', 'funciona', 'gostaria', 'de', 'alguns', 'exemplos', 'quando', 'eu', 'devo', 'usar', 'esse', 'comando', 'devo', 'evitar', 'usar', 'esse', 'comando', 'em', 'alguns', 'casos', 'existe', 'algum', 'risco', 'eu', 'geralmente', 'uso', 'porque', 'aprendi', 'que', 'era', 'o', 'mais', 'correto', 'a', 'atribuição', 'de', 'eventos', 'da', 'seguinte', 'forma', 'no', 'entanto', 'vejo', 'muitos', 'desenvolvedores', 'utilizando', 'a', 'seguinte', 'sintaxe', 'apesar', 'de', 'terem', 'me', 'falado', 'que', 'o', 'é', 'o', 'mais', 'recomendado', 'eu', 'não', 'entendi', 'direito', 'o', 'porquê', 'então', 'na', 'prática', 'qual', 'a', 'diferença', 'de', 'usar', 'um', 'ou', 'outro', 'dúvidas', 'como', 'é', 'feita', 'a', 'randomização', 'pelo', 'computador', 'qual', 'algorítimo', 'ou', 'qual', 'base', 'matemática', 'o', 'computador', 'usa', 'para', 'gerar', 'esses', 'números', 'por', 'exemplo', 'no', 'javascript', 'utilizo', 'o', 'ele', 'me', 'retorna', 'diferentes', 'números', 'todas', 'as', 'vezes', 'como', 'por', 'exemplo', 'e', 'etc', 'é', 'possível', 'observar', 'em', 'alguns', 'casos', 'que', 'a', 'separação', 'de', 'tarefas', 'em', 'múltiplas', 'threads', 'não', 'dá', 'ganho', 'e', 'até', 'torna', 'uma', 'aplicação', 'mais', 'lenta', 'que', 'o', 'uso', 'em', 'thread', 'única', 'não', 'deveria', 'sempre', 'ter', 'ganho', 'de', 'performance', 'quando', 'tem', 'vários', 'processadores', 'não', 'necessariamente', 'chips', 'o', 'ganho', 'ocorre', 'em', 'alguma', 'situação', 'quando', 'só', 'existe', 'um', 'processador', 'ou', 'core', 'na', 'máquina', 'é', 'possível', 'paralelizar', 'qualquer', 'tarefa', 'e', 'obter', 'ganho', 'de', 'performance', 'qual', 'a', 'diferença', 'entre', 'e', 'que', 'tipo', 'de', 'situação', 'devo', 'utilizar', 'uma', 'invés', 'de', 'uma', 'cada', 'módulo', 'do', 'projeto', 'possui', 'um', 'e', 'um', 'quais', 'são', 'as', 'funções', 'desse', 'artifacts', 'nesse', 'processo', 'de', 'deploy', 'e', 'qual', 'a', 'função', 'do', 'jenkins', 'nesse', 'contexto', 'entendo', 'que', 'deploy', 'é', 'um', 'processo', 'de', 'montar', 'esse', 'war', 'pois', 'toda', 'vez', 'que', 'algo', 'está', 'errado', 'recebo', 'um', 'build', 'failed', 'in', 'jenkins', 'sei', 'que', 'essa', 'pergunta', 'é', 'bastante', 'corriqueira', 'e', 'é', 'fácil', 'encontrar', 'a', 'resposta', 'porém', 'eu', 'gostaria', 'de', 'uma', 'resposta', 'funcional', 'eu', 'já', 'vi', 'bastante', 'coisa', 'sobre', 'mas', 'nada', 'entra', 'na', 'minha', 'cachola', 'gostaria', 'de', 'algo', 'mais', 'prático', 'algo', 'que', 'realmente', 'faça', 'sentido', 'sempre', 'que', 'busco', 'estudar', 'sobre', 'me', 'deparo', 'com', 'um', 'monte', 'de', 'fórmulas', 'doidas', 'e', 'explicações', 'superficiais', 'poderiam', 'por', 'favor', 'me', 'explicar', 'como', 'implementar', 'isto', 'na', 'prática', 'ou', 'pelo', 'menos', 'um', 'link', 'com', 'um', 'exemplo', 'funcional', 'sem', 'aquele', 'monte', 'de', 'fórmulas', 'doidas', 'que', 'sei', 'que', 'é', 'necessário', 'mas', 'que', 'não', 'ajuda', 'muito', 'de', 'início', 'quero', 'uma', 'explicação', 'simples', 'de', 'como', 'funciona', 'na', 'prática', 'e', 'não', 'esse', 'monte', 'de', 'o', 'neurônio', 'x', 'faz', 'isso', 'o', 'evento', 'de', 'ativação', 'de', 'onde', 'vem', 'o', 'neurônio', 'como', 'implementar', 'o', 'que', 'é', 'esse', 'tal', 'evento', 'de', 'ativação', 'onde', 'são', 'guardados', 'os', 'dados', 'obtido', 'tem', 'um', 'banco', 'de', 'dados', 'especial', 'isso', 'que', 'eu', 'não', 'consigo', 'entender', 'parece', 'que', 'já', 'começam', 'explicando', 'do', 'final', 'quais', 'as', 'principais', 'diferenças', 'entre', 'esses', 'tipos', 'de', 'web', 'service', 'em', 'quais', 'casos', 'se', 'aplicam', 'existe', 'alguma', 'diferença', 'de', 'performance', 'ou', 'será', 'que', 'isto', 'é', 'apenas', 'gosto', 'não', 'quero', 'se', 'você', 'gosta', 'mais', 'de', 'um', 'do', 'que', 'outro', 'não', 'quero', 'saber', 'porque', 'as', 'pessoas', 'gostam', 'mais', 'de', 'uma', 'ou', 'outra', 'não', 'quero', 'achismos', 'ou', 'respostas', 'rasas', 'não', 'quero', 'saber', 'razões', 'históricas', 'quero', 'saber', 'de', 'forma', 'fundamentada', 'o', 'que', 'se', 'ganha', 'ou', 'se', 'perde', 'em', 'cada', 'uma', 'das', 'abordagens', 'exemplos', 'de', 'linguagens', 'sensíveis', 'c', 'c', 'c', 'java', 'javascript', 'python', 'ruby', 'objective', 'c', 'exemplos', 'de', 'linguagens', 'insensíveis', 'sql', 'cobol', 'basic', 'acho', 'que', 'todos', 'os', 'dialetos', 'php', 'bom', 'sei', 'lá', 'em', 'parte', 'e', 'clipper', 'e', 'dialetos', 'esta', 'pergunta', 'tem', 'relação', 'com', 'essa', 'outra', 'só', 'para', 'deixar', 'claro', 'para', 'quem', 'não', 'entende', 'do', 'assunto', 'estou', 'falando', 'da', 'sintaxe', 'da', 'linguagem', 'falo', 'das', 'palavraschave', 'dos', 'identificadores', 'alguém', 'sabe', 'relacionar', 'as', 'diferenças', 'entre', 'mysql', 'e', 'sql', 'server', 'inclusive', 'usando', 'ou', 'se', 'tiverem', 'algum', 'link', 'que', 'liste', 'as', 'diferenças', 'seria', 'legal', 'exemplo', 'como', 'seria', 'o', 'equivalente', 'em', 'sql', 'server', 'estou', 'aprendendo', 'php', 'e', 'pelos', 'exemplo', 'que', 'tenho', 'visto', 'na', 'internet', 'existe', 'uma', 'mistura', 'na', 'codificação', 'dos', 'programas', 'de', 'orientação', 'a', 'objeto', 'e', 'procedimentos', 'estruturados', 'isso', 'é', 'mesmo', 'comum', 'ou', 'estou', 'equivocado', 'se', 'php', 'é', 'uma', 'linguagem', 'orientada', 'a', 'objetos', 'até', 'que', 'ponto', 'é', 'interessante', 'ou', 'não', 'essa', 'mistura', 'quando', 'estou', 'escrevendo', 'programas', 'normalmente', 'eu', 'escrevo', 'os', 'nomes', 'de', 'variáveis', 'em', 'inglês', 'por', 'exemplo', 'por', 'vários', 'motivos', 'nomes', 'em', 'inglês', 'não', 'têm', 'acentos', 'então', 'não', 'fica', 'um', 'negócio', 'estranho', 'como', 'os', 'nomes', 'normalmente', 'são', 'menores', 'ref', 'o', 'código', 'poderá', 'um', 'dia', 'ser', 'mantido', 'por', 'alguém', 'que', 'não', 'fala', 'a', 'língua', 'portuguesa', 'as', 'apis', 'quase', 'sempre', 'são', 'todas', 'em', 'inglês', 'porém', 'há', 'outras', 'coisas', 'que', 'eu', 'prefiro', 'manter', 'em', 'português', 'principalmente', 'se', 'for', 'do', 'contexto', 'do', 'sistema', 'comentários', 'nomes', 'de', 'classes', 'ou', 'tabelas', 'por', 'exemplo', 'por', 'esse', 'motivo', 'algumas', 'vezes', 'os', 'nomes', 'em', 'português', 'se', 'misturam', 'com', 'inglês', 'por', 'exemplo', 'pode', 'haver', 'uma', 'enquanto', 'é', 'perfeitamente', 'compreensível', 'isso', 'me', 'parece', 'estranho', 'levandose', 'também', 'em', 'consideração', 'que', 'todo', 'programador', 'deve', 'ter', 'noções', 'básicas', 'de', 'inglês', 'qual', 'é', 'o', 'método', 'preferido', 'para', 'a', 'escolha', 'do', 'idioma', 'que', 'eu', 'devo', 'usar', 'ao', 'programar', 'quais', 'as', 'vantagens', 'de', 'escolher', 'um', 'método', 'ou', 'o', 'outro', 'eu', 'estava', 'dando', 'uma', 'olhada', 'no', 'códigofonte', 'de', 'uma', 'library', 'conhecida', 'do', 'php', 'chamada', 'tratase', 'de', 'um', 'template', 'engine', 'com', 'sintaxe', 'própria', 'e', 'me', 'deparei', 'com', 'classes', 'interfaces', 'e', 'métodos', 'como', 'e', 'dei', 'uma', 'pesquisada', 'e', 'percebi', 'que', 'se', 'tratava', 'do', 'termo', 'análise', 'léxica', 'apesar', 'de', 'ter', 'entendido', 'algumas', 'coisas', 'fiquei', 'confuso', 'em', 'outras', 'por', 'exemplo', 'estou', 'acostumado', 'a', 'ver', 'o', 'termo', 'ou', 'quando', 'se', 'trata', 'em', 'transformação', 'de', 'um', 'determinado', 'dado', 'em', 'outro', 'dado', 'o', 'que', 'seria', 'a', 'análise', 'léxica', 'análise', 'léxica', 'e', 'parsingparser', 'se', 'trata', 'das', 'mesmas', 'coisas', 'ou', 'na', 'verdade', 'são', 'coisas', 'diferentes', 'desculpem', 'se', 'estou', 'confuso', 'na', 'pergunta', 'mas', 'creio', 'que', 'a', 'comunidade', 'me', 'ajudará', 'com', 'uma', 'boa', 'e', 'esclarecedora', 'resposta', 'alguém', 'poderia', 'me', 'ajudar', 'a', 'entender', 'porque', 'o', 'postgresql', 'errou', 'varias', 'estimativas', 'de', 'custos', 'em', 'um', 'experimento', 'que', 'fiz', 'estou', 'fazendo', 'um', 'experimento', 'com', 'queries', 'do', 'benchmark', 'tpch', 'para', 'verificar', 'o', 'desempenho', 'de', 'índices', 'nas', 'consultas', 'de', 'consultas', 'somente', 'consultas', 'foi', 'verificado', 'que', 'o', 'otimizador', 'utilizou', 'índices', 'secundários', 'em', 'um', 'outro', 'experimento', 'foram', 'executados', 'as', 'queries', 'citadas', 'num', 'banco', 'de', 'dados', 'sem', 'a', 'presença', 'de', 'índices', 'visando', 'identificar', 'se', 'o', 'tempo', 'de', 'execução', 'aumentaria', 'devido', 'a', 'ausência', 'de', 'índices', 'mas', 'para', 'minha', 'surpresa', 'o', 'experimento', 'sem', 'a', 'presença', 'de', 'índices', 'na', 'base', 'de', 'dados', 'foi', 'mais', 'rápido', 'do', 'que', 'utilizando', 'os', 'índices', 'para', 'as', 'consultas', 'gostaria', 'de', 'entender', 'porque', 'o', 'parametro', 'custo', 'total', 'errou', 'em', 'todos', 'os', 'casos', 'ou', 'seja', 'todas', 'as', 'consultas', 'que', 'gastaram', 'mais', 'tempo', 'indicou', 'um', 'custo', 'menor', 'em', 'todos', 'os', 'casos', 'que', 'esta', 'incorreto', 'na', 'minha', 'opiniao', 'vejam', 'abaixo', 'que', 'a', 'primeira', 'linha', 'referese', 'a', 'query', 'que', 'utilizou', 'índice', 'o', 'custo', 'foi', 'menor', 'do', 'que', 'o', 'custo', 'da', 'mesma', 'query', 'que', 'não', 'utilizou', 'índice', 'também', 'vejam', 'o', 'tempo', 'gasto', 'a', 'query', 'que', 'utilizou', 'índice', 'gastou', 'minutos', 'enquanto', 'sem', 'o', 'uso', 'de', 'índices', 'demorou', 'segundos', 'esse', 'comportamento', 'se', 'estendeu', 'aos', 'outros', 'casos', 'minha', 'pergunta', 'é', 'porque', 'o', 'custo', 'total', 'execution', 'plan', 'calcula', 'incorretamente', 'o', 'custo', 'para', 'todos', 'os', 'casos', 'em', 'que', 'se', 'tem', 'índices', 'por', 'questoes', 'de', 'uso', 'de', 'um', 'patch', 'especifico', 'do', 'meu', 'projeto', 'de', 'pesquisa', 'estou', 'utilizando', 'uma', 'versao', 'antiga', 'do', 'ano', 'eu', 'não', 'modifiquei', 'os', 'parâmetros', 'padroes', 'somente', 'o', 'random_page_cost', 'para', 'pois', 'estou', 'utilizando', 'um', 'disco', 'ssd', 'onde', 'o', 'custo', 'de', 'acesso', 'aleatório', 'é', 'menor', 'que', 'em', 'um', 'hdd', 'segue', 'o', 'que', 'esta', 'no', 'meu', 'postgresqlconf', 'será', 'que', 'algum', 'destes', 'parâmetros', 'interferiram', 'para', 'acontecer', 'esse', 'erro', 'nas', 'estatísticas', 'de', 'custos', 'segue', 'a', 'query', 'e', 'o', 'seu', 'explain', 'analyse', 'com', 'e', 'sem', 'índices', 'qualquer', 'dica', 'é', 'bem', 'vinda', 'o', 'código', 'de', 'endereçamento', 'postal', 'cep', 'ou', 'zip', 'code', 'dos', 'endereços', 'de', 'uma', 'cidade', 'garantem', 'maior', 'confiabilidade', 'aos', 'dados', 'de', 'endereço', 'e', 'à', 'resolução', 'de', 'geolocalização', 'por', 'endereço', 'lembrando', 'que', 'endereço', 'não', 'se', 'presta', 'somente', 'ao', 'envio', 'de', 'carta', 'pelo', 'correio', 'é', 'um', 'complemento', 'essencial', 'ao', 'cadastro', 'de', 'uma', 'pessoa', 'física', 'localização', 'mesmo', 'que', 'aproximada', 'de', 'onde', 'reside', 'ou', 'jurídica', 'endereço', 'da', 'sede', 'da', 'empresa', 'presente', 'em', 'bases', 'de', 'dados', 'de', 'crms', 'erps', 'etc', 'e', 'padrões', 'tais', 'como', 'vcard', 'schema', 'e', 'centenas', 'de', 'outros', 'a', 'pergunta', 'é', 'onde', 'estão', 'os', 'dados', 'da', 'minha', 'cidade', 'e', 'pode', 'ter', 'uma', 'resposta', 'específica', 'para', 'cada', 'país', 'da', 'língua', 'portuguesa', 'assim', 'como', 'eventualmente', 'para', 'cada', 'cidade', 'pois', 'as', 'cidades', 'tem', 'certa', 'autonomia', 'sobre', 'o', 'tema', 'como', 'tomei', 'como', 'exemplo', 'a', 'cidade', 'de', 'campinas', 'fica', 'a', 'sugestão', 'de', 'restringirmos', 'discussões', 'a', 'campinas', 'no', 'caso', 'do', 'brasil', 'os', 'dados', 'não', 'estão', 'nem', 'sob', 'a', 'responsabilidade', 'do', 'ibge', 'nem', 'sob', 'a', 'responsabilidade', 'da', 'prefeitura', 'apesar', 'da', 'prefeitura', 'ser', 'a', 'responsável', 'pelas', 'leis', 'de', 'batismo', 'de', 'cada', 'nome', 'de', 'rua', 'da', 'cidade', 'exemplo', 'de', 'rua', 'de', 'campinas', 'notas', 'o', 'geonames', 'tem', 'se', 'empenhado', 'em', 'construir', 'um', 'esboço', 'dessa', 'base', 'de', 'dados', 'mas', 'não', 'resolve', 'o', 'openstreetmap', 'parece', 'ter', 'uma', 'parte', 'dos', 'dados', 'de', 'fato', 'o', 'ideal', 'para', 'o', 'cep', 'é', 'telo', 'espacializado', 'dada', 'uma', 'coordenada', 'geográfica', 'da', 'cidade', 'retornar', 'o', 'cep', 'da', 'coordenada', 'o', 'diretório', 'nacional', 'de', 'endereços', 'dne', 'é', 'a', 'base', 'de', 'dados', 'mantida', 'pela', 'empresa', 'brasileira', 'de', 'correios', 'e', 'telegrafos', 'ect', 'mais', 'conhecida', 'como', 'correios', 'do', 'brasil', 'para', 'validar', 'endereços', 'postais', 'e', 'determinar', 'ceps', 'ela', 'não', 'pode', 'estar', 'numa', 'base', 'apoiada', 'pelo', 'ckan', 'ou', 'qualquer', 'outra', 'iniciativa', 'de', 'dados', 'abertos', 'como', 'faço', 'um', 'javascript', 'que', 'mostreesconda', 'uma', 'div', 'em', 'html', 'tentei', 'tipo', 'mas', 'isso', 'não', 'funcionou', 'estou', 'lendo', 'um', 'livro', 'de', 'javascript', 'chamado', 'javascript', 'the', 'good', 'parts', 'e', 'nele', 'em', 'vários', 'momentos', 'o', 'autor', 'fala', 'que', 'não', 'se', 'deve', 'utilizar', 'variáveis', 'globais', 'porque', 'elas', 'são', 'do', 'mal', 'por', 'que', 'elas', 'são', 'consideradas', 'do', 'mal', 'que', 'tipo', 'de', 'problemas', 'elas', 'podem', 'causar', 'vejo', 'em', 'muitos', 'códigos', 'e', 'até', 'mesmo', 'arquiteturas', 'a', 'palavra', 'callback', 'vejo', 'que', 'é', 'em', 'funções', 'javascript', 'mas', 'o', 'que', 'é', 'como', 'é', 'usada', 'por', 'que', 'gostaria', 'de', 'um', 'exemplo', 'de', 'uso', 'real', 'eu', 'sei', 'tem', 'a', 'pergunta', 'qual', 'a', 'diferena', 'de', 'arquitetura', 'e', 'engenharia', 'de', 'software', 'ali', 'já', 'responde', 'em', 'parte', 'ainda', 'que', 'eu', 'não', 'tenha', 'ficado', 'satisfeito', 'com', 'as', 'respostas', 'que', 'até', 'são', 'boas', 'se', 'puder', 'fazer', 'algo', 'melhor', 'ajudará', 'caso', 'contrário', 'deixa', 'o', 'que', 'já', 'tem', 'lá', 'especificamente', 'a', 'arquitetura', 'define', 'o', 'que', 'mas', 'acho', 'que', 'o', 'que', 'separa', 'cada', 'função', 'destas', 'disciplinas', 'do', 'título', 'não', 'fica', 'claro', 'por', 'exemplo', 'do', 'que', 'trata', 'a', 'ciência', 'da', 'computação', 'que', 'não', 'trata', 'na', 'engenharia', 'de', 'software', 'ou', 'viceversa', 'programação', 'e', 'codificação', 'parecem', 'a', 'mesma', 'coisa', 'mas', 'é', 'mesmo', 'o', 'mesmo', 'pode', 'ser', 'dito', 'de', 'análise', 'e', 'design', 'pra', 'mim', 'parecem', 'coisas', 'diferentes', 'análise', 'talvez', 'seja', 'um', 'estranho', 'nisso', 'ficaadicapraresponder', 'eu', 'vejo', 'estas', 'coisas', 'como', 'uma', 'hierarquia', 'ou', 'fases', 'do', 'processo', 'de', 'desenvolvimento', 'de', 'software', 'como', 'um', 'todo', 'por', 'isso', 'acho', 'que', 'todas', 'estão', 'relacionadas', 'diretamente', 'por', 'isso', 'fiz', 'em', 'uma', 'pergunta', 'só', 'então', 'quero', 'entender', 'a', 'linha', 'que', 'determina', 'onde', 'começa', 'uma', 'e', 'outra', 'o', 'que', 'cada', 'uma', 'define', 'não', 'quero', 'detalhes', 'só', 'linhas', 'gerais', 'se', 'for', 'necessário', 'detalhes', 'de', 'cada', 'função', 'farei', 'perguntas', 'específicas', 'note', 'que', 'quero', 'saber', 'sobre', 'as', 'funções', 'efetivamente', 'exercidas', 'não', 'sobre', 'cargos', 'eu', 'sei', 'que', 'uma', 'mesma', 'pessoa', 'pode', 'ter', 'mais', 'de', 'uma', 'função', 'e', 'que', 'o', 'cargo', 'que', 'ela', 'ocupa', 'não', 'indica', 'nada', 'que', 'ela', 'pode', 'ou', 'não', 'fazer', 'já', 'conheço', 'a', 'wikipedia', 'pode', 'colocar', 'links', 'para', 'complementar', 'mas', 'uma', 'resposta', 'boa', 'vai', 'além', 'do', 'que', 'está', 'lá', 'inclusive', 'não', 'sei', 'se', 'é', 'uma', 'fonte', 'tão', 'confiável', 'assim', 'nesse', 'assunto', 'não', 'quero', 'opiniões', 'precisa', 'de', 'algum', 'fundamento', 'caso', 'contrário', 'considerarei', 'a', 'resposta', 'errada', 'estou', 'começando', 'a', 'tentar', 'usar', 'o', 'kanban', 'na', 'prática', 'no', 'caso', 'eu', 'trabaho', 'sozinho', 'então', 'estou', 'tentando', 'buscar', 'essa', 'resposta', 'em', 'um', 'contexto', 'no', 'qual', 'não', 'há', 'equipe', 'disponível', 'muito', 'menos', 'processos', 'mais', 'formais', 'encontrados', 'em', 'empresas', 'maiores', 'ao', 'utilizar', 'metodologias', 'ágeis', 'é', 'comum', 'tentar', 'fazer', 'estimativas', 'uma', 'técnica', 'que', 'recentemente', 'conheci', 'é', 'utilizar', 'pomodoros', 'e', 'a', 'sequencia', 'de', 'fibonacci', 'com', 'essa', 'técnica', 'estimamos', 'o', 'tempo', 'em', 'pomodoros', 'um', 'pomodoro', 'se', 'refere', 'a', 'minutos', 'de', 'trabalho', 'e', 'minutos', 'de', 'descanso', 'para', 'estimar', 'uma', 'tarefa', 'usamos', 'os', 'números', 'da', 'sequência', 'de', 'fibonacci', 'uma', 'tarefa', 'pode', 'ser', 'estimada', 'em', 'pomodoros', 'e', 'assim', 'por', 'diante', 'o', 'problema', 'que', 'eu', 'vejo', 'é', 'nesse', 'caso', 'temos', 'uma', 'unidade', 'de', 'tempo', 'específica', 'para', 'usar', 'e', 'temos', 'uma', 'sequência', 'de', 'números', 'permitidos', 'para', 'essa', 'unidade', 'de', 'tempo', 'a', 'nossa', 'disposição', 'de', 'qualquer', 'forma', 'é', 'necessário', 'ainda', 'olhar', 'para', 'cada', 'tarefa', 'e', 'dizer', 'essa', 'tarefa', 'requer', 'x', 'unidades', 'de', 'tempo', 'isso', 'parece', 'ser', 'realmente', 'muito', 'complicado', 'por', 'vários', 'fatores', 'certas', 'vezes', 'pode', 'se', 'tratar', 'de', 'algo', 'que', 'nunca', 'fizemos', 'antes', 'e', 'não', 'temos', 'ideia', 'de', 'quanto', 'tempo', 'aquilo', 'demora', 'as', 'vezes', 'achamos', 'que', 'algo', 'é', 'fácil', 'e', 'rápido', 'e', 'no', 'fim', 'não', 'era', 'tão', 'simples', 'quanto', 'pensávamos', 'podem', 'ocorrer', 'imprevistos', 'e', 'fazer', 'demorar', 'mais', 'isso', 'se', 'não', 'aparecer', 'uma', 'complicação', 'tão', 'grande', 'no', 'meio', 'do', 'caminho', 'que', 'acabe', 'emperrando', 'o', 'desenvolvimento', 'esses', 'são', 'só', 'alguns', 'fatores', 'que', 'eu', 'pensei', 'que', 'complicam', 'isso', 'para', 'mim', 'que', 'estou', 'começando', 'agora', 'com', 'as', 'metodologias', 'ágeis', 'em', 'prática', 'mesmo', 'eu', 'realmente', 'não', 'consigo', 'ter', 'a', 'menor', 'ideia', 'de', 'como', 'atribuir', 'x', 'unidades', 'de', 'tempo', 'para', 'cada', 'tarefa', 'na', 'teoria', 'parece', 'simples', 'na', 'prática', 'não', 'é', 'tão', 'simples', 'assim', 'dessa', 'forma', 'como', 'fazer', 'estimativas', 'de', 'forma', 'correta', 'ao', 'utilizar', 'metodologias', 'ágeis', 'como', 'contornar', 'essas', 'complicações', 'que', 'eu', 'citei', 'qual', 'é', 'a', 'métrica', 'usada', 'para', 'atribuir', 'um', 'certo', 'número', 'de', 'unidades', 'de', 'tempo', 'a', 'uma', 'tarefa', 'o', 'que', 'significam', 'e', 'quais', 'as', 'melhores', 'práticas', 'para', 'usálos', 'o', 'que', 'é', 'a', 'complexidade', 'de', 'um', 'algoritmo', 'e', 'quais', 'as', 'formas', 'de', 'medila', 'big', 'o', 'big', 'theta', 'estou', 'estudando', 'programação', 'de', 'nodejs', 'realtime', 'e', 'me', 'surgiram', 'algumas', 'dúvidas', 'a', 'respeito', 'de', 'sockets', 'de', 'rede', 'não', 'achei', 'nada', 'detalhadamente', 'explicado', 'dai', 'resolvi', 'abrir', 'a', 'questão', 'o', 'que', 'é', 'um', 'socket', 'de', 'rede', 'e', 'um', 'websocket', 'qual', 'a', 'diferença', 'entre', 'os', 'dois', 'uma', 'comunicação', 'http', 'baseada', 'em', 'requisiçãoresposta', 'sem', 'ser', 'em', 'tempo', 'real', 'é', 'dada', 'através', 'de', 'um', 'socket', 'qual', 'é', 'o', 'papel', 'do', 'protocolo', 'tcp', 'nos', 'sockets', 'e', 'websockets', 'precisei', 'desenvolver', 'uma', 'rotina', 'que', 'pegasse', 'a', 'cotação', 'de', 'venda', 'do', 'dólar', 'e', 'inserisse', 'em', 'uma', 'tabela', 'no', 'banco', 'o', 'banco', 'central', 'disponibiliza', 'um', 'webservice', 'onde', 'é', 'possível', 'fazer', 'as', 'consultas', 'para', 'isso', 'basta', 'informar', 'um', 'código', 'e', 'ele', 'tornar', 'a', 'cotação', 'para', 'você', 'o', 'problema', 'que', 'tenho', 'é', 'em', 'conseguir', 'a', 'documentação', 'que', 'informe', 'o', 'que', 'cada', 'código', 'retorna', 'não', 'encontrei', 'nada', 'no', 'site', 'do', 'banco', 'central', 'quais', 'códigos', 'de', 'moeda', 'esse', 'serviço', 'aceita', 'onde', 'conseguir', 'essa', 'documentação', 'eu', 'já', 'li', 'o', 'que', 'reactive', 'programming', 'programao', 'reativa', 'a', 'resposta', 'parece', 'boa', 'mas', 'é', 'teórica', 'entendi', 'o', 'que', 'é', 'mas', 'com', 'aquilo', 'não', 'sei', 'o', 'que', 'fazer', 'onde', 'deve', 'ser', 'usada', 'tem', 'um', 'exemplo', 'simples', 'qual', 'é', 'o', 'mecanismo', 'concreto', 'usado', 'para', 'isto', 'funcionar', 'concreto', 'até', 'onde', 'pode', 'ser', 'entendo', 'que', 'em', 'programação', 'tudo', 'é', 'abstração', 'a', 'não', 'ser', 'os', 'elétrons', 'excitados', 'só', 'funciona', 'entre', 'agentes', 'locais', 'ou', 'um', 'deles', 'pode', 'ser', 'remoto', 'é', 'por', 'causa', 'da', 'internet', 'só', 'funciona', 'se', 'for', 'algo', 'inteligente', 'interligada', 'em', 'paralelo', 'não', 'linear', 'se', 'for', 'o', 'que', 'é', 'esse', 'inteligente', 'aparentemente', 'tem', 'que', 'ter', 'robustez', 'para', 'ser', 'classificada', 'assim', 'precisa', 'rodar', 'em', 'vários', 'servidores', 'ou', 'é', 'uma', 'opção', 'é', 'um', 'paradigma', 'é', 'um', 'framework', 'posso', 'usar', 'em', 'net', 'no', 'contexto', 'do', 'desenvolvimento', 'de', 'software', 'o', 'que', 'é', 'um', 'jitter', 'cada', 'vez', 'se', 'fala', 'mais', 'nisso', 'e', 'várias', 'linguagens', 'estão', 'usando', 'a', 'tão', 'falada', 'compilação', 'jit', 'no', 'que', 'ele', 'difere', 'de', 'um', 'compilador', 'o', 'que', 'acontece', 'quando', 'se', 'faz', 'um', 'rebase', 'na', 'seguinte', 'situação', 'branch', 'master', 'com', 'commits', 'a', 'b', 'e', 'c', 'após', 'fazer', 'o', 'commit', 'c', 'criei', 'um', 'novo', 'branch', 'com', 'o', 'nome', 'design', 'fiz', 'um', 'commit', 'd', 'no', 'branch', 'design', 'e', 'voltei', 'ao', 'branch', 'master', 'fiz', 'um', 'commit', 'e', 'no', 'branch', 'master', 'atualmente', 'o', 'meu', 'histórico', 'de', 'commits', 'é', 'master', 'a', 'b', 'c', 'e', 'design', 'a', 'b', 'c', 'd', 'após', 'fazer', 'o', 'rebase', 'no', 'branch', 'master', 'o', 'histórico', 'ficará', 'da', 'seguinte', 'forma', 'master', 'a', 'b', 'c', 'd', 'e', 'design', 'a', 'b', 'c', 'd', 'se', 'a', 'resposta', 'é', 'sim', 'qual', 'o', 'objetivo', 'de', 'refazer', 'o', 'histórico', 'quando', 'uma', 'das', 'vantagens', 'do', 'git', 'é', 'poder', 'ver', 'o', 'histórico', 'tal', 'como', 'ele', 'é', 'se', 'posso', 'manipular', 'o', 'histórico', 'então', 'posso', 'não', 'ver', 'o', 'que', 'realmente', 'aconteceu', 'frequentemente', 'é', 'dito', 'que', 'pegar', 'todas', 'as', 'colunas', 'de', 'uma', 'tabela', 'através', 'do', 'comando', 'é', 'uma', 'má', 'prática', 'qualquer', 'recomendação', 'sem', 'explicação', 'não', 'é', 'útil', 'então', 'se', 'é', 'uma', 'má', 'prática', 'deve', 'haver', 'um', 'jeito', 'de', 'usálo', 'adequadamente', 'deve', 'haver', 'uma', 'situação', 'em', 'que', 'não', 'cause', 'problemas', 'se', 'fosse', 'sempre', 'ruim', 'provavelmente', 'nem', 'existiria', 'a', 'possibilidade', 'de', 'uso', 'quais', 'problemas', 'são', 'causados', 'pelo', 'seu', 'uso', 'estes', 'problemas', 'ocorrem', 'sempre', 'há', 'como', 'contornar', 'ou', 'há', 'situações', 'que', 'não', 'faz', 'diferença', 'as', 'recomendações', 'são', 'válidas', 'para', 'qualquer', 'banco', 'de', 'dados', 'quero', 'entender', 'o', 'que', 'significa', 'cada', 'item', 'de', 'no', 'java', 'e', 'quando', 'devem', 'ser', 'usadas', 'um', 'compilador', 'é', 'programado', 'em', 'qual', 'linguagem', 'todos', 'os', 'compiladores', 'de', 'uma', 'linguagem', 'são', 'iguais', 'ou', 'pode', 'existir', 'um', 'melhor', 'que', 'outro', 'com', 'o', 'entrando', 'no', 'estado', 'deprecated', 'a', 'documentação', 'php', 'recomenda', 'o', 'uso', 'do', 'pdo', 'e', 'mysqli', 'qual', 'vocês', 'recomendam', 'para', 'o', 'uso', 'pdo', 'parece', 'ser', 'mais', 'indicado', 'para', 'trabalhar', 'com', 'orientado', 'a', 'objetos', 'só', 'que', 'ao', 'mesmo', 'tempo', 'vi', 'benchmarks', 'que', 'mostram', 'que', 'a', 'performance', 'usando', 'o', 'mysqli', 'teria', 'uma', 'performance', 'maior', 'a', 'performance', 'poderia', 'impactar', 'muito', 'se', 'comparar', 'ao', 'uso', 'com', 'o', 'pdo', 'desde', 'que', 'lançou', 'o', 'html', 'tenho', 'notado', 'que', 'diversas', 'tags', 'diferentes', 'começaram', 'a', 'surgir', 'em', 'todo', 'lugar', 'que', 'tentei', 'estudar', 'sobre', 'o', 'assunto', 'sempre', 'via', 'a', 'tal', 'da', 'expressão', 'semântica', 'entendi', 'que', 'essas', 'tags', 'na', 'verdade', 'não', 'têm', 'uma', 'habilidade', 'especial', 'mas', 'é', 'apenas', 'como', 'um', 'contexto', 'de', 'organização', 'me', 'surgiram', 'algumas', 'dúvidas', 'e', 'preocupação', 'quanto', 'a', 'essas', 'tags', 'pois', 'como', 'eu', 'não', 'tive', 'paciência', 'de', 'aprender', 'o', 'que', 'cada', 'tag', 'significava', 'eu', 'continuei', 'a', 'usar', 'a', 'boa', 'e', 'velha', 'essas', 'tags', 'semânticas', 'ajudam', 'a', 'melhorar', 'o', 'seo', 'de', 'um', 'site', 'usar', 'somente', 'divs', 'como', 'eu', 'costumo', 'fazer', 'sempre', 'é', 'prejudicial', 'ao', 'seo', 'do', 'site', 'há', 'ainda', 'uma', 'outra', 'dúvida', 'que', 'gostaria', 'de', 'esclarecer', 'é', 'em', 'relação', 'à', 'algumas', 'tags', 'que', 'não', 'são', 'tão', 'óbvias', 'para', 'mim', 'por', 'exemplo', 'olhando', 'a', 'tag', 'ou', 'parece', 'que', 'é', 'obvio', 'que', 'se', 'trata', 'do', 'cabecalho', 'e', 'rodapé', 'do', 'site', 'porém', 'algumas', 'vezes', 'já', 'vi', 'um', 'e', 'um', 'em', 'cada', 'por', 'sua', 'vez', 'não', 'entendi', 'para', 'que', 'serve', 'pois', 'cada', 'tutorial', 'que', 'vi', 'explica', 'uma', 'coisa', 'de', 'um', 'jeito', 'diferente', 'talvez', 'para', 'mim', 'a', 'única', 'tag', 'que', 'ficou', 'óbvia', 'o', 'seu', 'uso', 'é', 'a', 'então', 'vou', 'fazer', 'mais', 'alguma', 'perguntas', 'qual', 'é', 'a', 'finalidade', 'semântica', 'das', 'tags', 'e', 'posso', 'usar', 'um', 'e', 'um', 'por', 'página', 'ou', 'posso', 'usálos', 'dentro', 'de', 'cada', 'e', 'se', 'sim', 'por', 'quê', 'existem', 'diferentes', 'métodos', 'para', 'concatenar', 'strings', 'como', 'concatenando', 'com', 'o', 'operador', 'formatando', 'utilizando', 'o', 'stringbuilder', 'utilizando', 'o', 'método', 'concat', 'de', 'string', 'em', 'que', 'situação', 'eu', 'devo', 'utilizar', 'cada', 'uma', 'o', 'que', 'pode', 'ser', 'mais', 'eficiente', 'em', 'cada', 'caso', 'wikipedia', 'sistema', 'de', 'computadores', 'interligados', 'em', 'rede', 'através', 'da', 'internet', 'que', 'cooperam', 'de', 'modo', 'transparente', 'para', 'fornecer', 'conteúdo', 'cdn', 'são', 'geralmente', 'implantados', 'em', 'vários', 'locais', 'os', 'benefícios', 'incluem', 'a', 'redução', 'dos', 'custos', 'de', 'largura', 'de', 'banda', 'melhorando', 'os', 'tempos', 'de', 'carregamento', 'da', 'página', 'ou', 'aumentando', 'disponibilidade', 'global', 'de', 'conteúdo', 'baboo', 'uma', 'cdn', 'é', 'uma', 'rede', 'de', 'distribuição', 'de', 'informação', 'e', 'dados', 'que', 'permite', 'fornecer', 'conteúdo', 'na', 'web', 'de', 'forma', 'rápida', 'para', 'vários', 'usuários', 'independentemente', 'de', 'onde', 'essa', 'pessoa', 'se', 'encontra', 'o', 'que', 'o', 'sistema', 'faz', 'é', 'distribuir', 'um', 'mesmo', 'conteúdo', 'em', 'diversos', 'servidores', 'para', 'direcionar', 'esses', 'dados', 'de', 'acordo', 'com', 'a', 'proximidade', 'de', 'servidor', 'do', 'usuário', 'o', 'serviço', 'funciona', 'como', 'um', 'cache', 'dos', 'arquivos', 'não', 'dinâmicos', 'do', 'site', 'em', 'diferentes', 'datacenters', 'de', 'localidades', 'dispersas', 'em', 'todo', 'o', 'mundo', 'stackoverflow', 'cdn', 'é', 'simplesmente', 'uma', 'rede', 'de', 'servidores', 'que', 'replicam', 'seus', 'arquivos', 'binários', 'de', 'modo', 'que', 'eles', 'são', 'servidos', 'a', 'partir', 'de', 'locais', 'geograficamente', 'próximos', 'cdn', 'é', 'simplesmente', 'um', 'bando', 'de', 'discos', 'que', 'estão', 'espalhados', 'por', 'todo', 'o', 'mundo', 'em', 'diferentes', 'datacenters', 'você', 'envia', 'o', 'seu', 'arquivo', 'a', 'um', 'desses', 'discos', 'e', 'depois', 'diz', 'de', 'onde', 'seus', 'clientes', 'estão', 'vindo', 'ela', 'irá', 'então', 'copiar', 'o', 'mesmo', 'arquivo', 'para', 'outros', 'discos', 'que', 'estão', 'mais', 'perto', 'de', 'seus', 'clientes', 'distribuição', 'de', 'servidor', 'único', 'vs', 'cdn', 'wikipedia', 'dito', 'isso', 'vamos', 'às', 'questões', 'tem', 'um', 'bom', 'tempo', 'que', 'venho', 'pesquisando', 'sobre', 'cdns', 'para', 'um', 'projeto', 'com', 'grande', 'demanda', 'de', 'conteúdo', 'estático', 'não', 'queria', 'recorrer', 'a', 'nenhum', 'cdn', 'free', 'tão', 'pouco', 'contratar', 'um', 'akamai', 'então', 'pensei', 'em', 'me', 'aprofundar', 'no', 'assunto', 'para', 'pesar', 'o', 'custo', 'benefício', 'de', 'montar', 'algo', 'próprio', 'supondo', 'que', 'eu', 'escolha', 'um', 'dc', 'no', 'brasil', 'e', 'um', 'nos', 'eua', 'para', 'um', 'cdn', 'nas', 'américas', 'a', 'identificação', 'da', 'requisição', 'para', 'buscar', 'o', 'dc', 'mais', 'próximo', 'é', 'feita', 'no', 'server', 'ou', 'no', 'php', 'feito', 'o', 'upload', 'de', 'uma', 'imagem', 'ela', 'é', 'replicada', 'instantaneamente', 'para', 'os', 'dc', 'ou', 'somente', 'quando', 'houver', 'demanda', 'local', 'apache', 'e', 'linux', 'bastam', 'ou', 'há', 'necessidade', 'de', 'instalação', 'de', 'outras', 'ferramentas', 'próprias', 'para', 'um', 'cdn', 'tendo', 'meu', 'domínio', 'principal', 'com', 'links', 'para', 'neste', 'posso', 'ter', 'o', 'php', 'trabalhando', 'com', 'o', 'geoip', 'para', 'saber', 'a', 'localização', 'da', 'requisição', 'mas', 'como', 'demandar', 'o', 'dc', 'correto', 'me', 'parece', 'que', 'dessa', 'forma', 'o', 'processo', 'é', 'mais', 'dispendioso', 'há', 'ferramentas', 'próprias', 'não', 'espero', 'um', 'tutorial', 'só', 'uma', 'luz', 'sobre', 'alguns', 'pontos', 'eu', 'realmente', 'já', 'procurei', 'bastante', 'mas', 'tudo', 'é', 'muito', 'superficial', 'não', 'encontrei', 'nada', 'que', 'se', 'aprofunde', 'na', 'criação', 'de', 'um', 'cdn', 'a', 'maioria', 'explica', 'como', 'funciona', 'ou', 'explana', 'as', 'diferenças', 'entre', 'cdn', 'e', 'um', 'cloud', 'alguém', 'que', 'esteja', 'a', 'aprender', 'a', 'linguagem', 'novato', 'ou', 'experiente', 'pode', 'nunca', 'se', 'ter', 'cruzado', 'com', 'enumerações', 'de', 'java', 'já', 'li', 'por', 'várias', 'vezes', 'que', 'são', 'úteis', 'por', 'exemplo', 'para', 'implementar', 'os', 'padrões', 'singleton', 'com', 'mais', 'garantias', 'de', 'visibilidade', 'entre', 'threads', 'qual', 'é', 'a', 'utilidade', 'de', 'se', 'aprender', 'e', 'usar', 'as', 'na', 'programação', 'do', 'diaadia', 'no', 'jep', 'vem', 'se', 'discutindo', 'a', 'definição', 'do', 'g', 'garbage', 'first', 'collector', 'como', 'o', 'garbage', 'collector', 'padrão', 'no', 'java', 'nesse', 'período', 'venho', 'ouvindo', 'muitas', 'citações', 'sobre', 'o', 'g', 'mas', 'muito', 'pouco', 'material', 'tem', 'detalhes', 'mais', 'profundos', 'ou', 'comparações', 'como', 'por', 'exemplo', 'com', 'o', 'cms', 'concurrent', 'mark', 'and', 'sweep', 'o', 'qual', 'seria', 'hoje', 'o', 'gc', 'padrão', 'em', 'aplicações', 'em', 'produção', 'com', 'requerimentos', 'mínimos', 'de', 'performance', 'visto', 'que', 'o', 'gerenciamento', 'de', 'memória', 'automático', 'provido', 'pela', 'jvm', 'é', 'um', 'dos', 'pontos', 'cruciais', 'da', 'plataforma', 'gostaria', 'de', 'uma', 'visão', 'mais', 'profunda', 'do', 'porquê', 'prós', 'e', 'contras', 'da', 'adoção', 'desse', 'novo', 'garbage', 'collector', 'além', 'de', 'um', 'paralelo', 'com', 'as', 'implementações', 'existentes', 'o', 'que', 'é', 'memoization', 'em', 'quais', 'circunstâncias', 'pode', 'ser', 'útil', 'e', 'como', 'utilizar', 'se', 'possível', 'ilustrar', 'com', 'um', 'exemplo', 'simples', 'iniciar', 'em', 'programação', 'nem', 'sempre', 'é', 'fácil', 'além', 'de', 'termos', 'que', 'aprender', 'a', 'escrever', 'o', 'código', 'existem', 'dezenas', 'de', 'termos', 'tecnologias', 'entre', 'outras', 'coisas', 'que', 'precisam', 'ser', 'estudadas', 'visando', 'ajudar', 'quem', 'está', 'começando', 'minha', 'pergunta', 'é', 'o', 'que', 'é', 'uma', 'linguagem', 'de', 'programação', 'uma', 'ide', 'e', 'um', 'compilador', 'qual', 'a', 'relação', 'entre', 'esses', 'itens', 'hoje', 'é', 'comum', 'os', 'compiladores', 'das', 'linguagens', 'de', 'programação', 'permitirem', 'que', 'o', 'arquivo', 'de', 'código', 'de', 'seus', 'programas', 'aceitem', 'código', 'com', 'caracteres', 'unicode', 'isto', 'é', 'útil', 'especialmente', 'para', 'quem', 'usa', 'o', 'português', 'e', 'outras', 'línguas', 'que', 'fogem', 'do', 'ascii', 'para', 'criar', 'strings', 'com', 'acentos', 'e', 'melhorar', 'os', 'comentários', 'em', 'nossa', 'língua', 'mas', 'é', 'incomum', 'o', 'uso', 'de', 'identificadores', 'com', 'acentos', 'no', 'código', 'há', 'até', 'mesmo', 'quem', 'recomende', 'que', 'não', 'seja', 'usado', 'eu', 'mesmo', 'não', 'costumo', 'usar', 'mas', 'me', 'parece', 'que', 'dar', 'um', 'sentido', 'melhor', 'nestes', 'casos', 'só', 'um', 'exemplo', 'isolado', 'sem', 'definição', 'de', 'linguagem', 'existe', 'algum', 'motivo', 'técnico', 'para', 'evitar', 'acentos', 'e', 'outros', 'caracteres', 'unicode', 'em', 'identificadores', 'se', 'não', 'existe', 'problema', 'técnico', 'existe', 'algum', 'motivo', 'prático', 'para', 'evitálos', 'depende', 'da', 'linguagem', 'de', 'programação', 'considerando', 'que', 'ela', 'suporte', 'bem', 'acentuação', 'em', 'plenitude', 'importa', 'se', 'o', 'código', 'é', 'proprietário', 'e', 'desenvolvido', 'por', 'uma', 'equipe', 'pequena', 'e', 'fechada', 'ou', 'se', 'é', 'desenvolvido', 'amplamente', 'possivelmente', 'de', 'forma', 'aberta', 'existe', 'algum', 'cuidado', 'específico', 'que', 'devemos', 'tomar', 'quando', 'usamos', 'acentos', 'em', 'identificadores', 'quando', 'a', 'utilização', 'de', 'caracteres', 'além', 'do', 'ascii', 'é', 'abuso', 'estou', 'a', 'usar', 'uma', 'development', 'board', 'da', 'microchip', 'explorer', 'com', 'o', 'como', 'master', 'e', 'o', 'arduino', 'como', 'slave', 'o', 'pic', 'está', 'a', 'enviar', 'tudo', 'direitinho', 'mas', 'por', 'alguma', 'razão', 'o', 'arduino', 'envia', 'para', 'todos', 'os', 'data', 'apenas', 'manda', 'no', 'início', 'quando', 'se', 'envia', 'o', 'address', 'código', 'pic', 'master', 'código', 'arduino', 'slave', 'estou', 'fazendo', 'essa', 'pergunta', 'porque', 'eu', 'já', 'cansei', 'de', 'ver', 'coisas', 'como', 'requisitos', 'para', 'determinado', 'cargo', 'de', 'programação', 'é', 'necessários', 'saber', 'as', 'linguagens', 'php', 'javascript', 'css', 'e', 'ajax', 'já', 'aprendi', 'que', 'não', 'é', 'uma', 'linguagem', 'de', 'programação', 'é', 'claro', 'porque', 'ninguém', 'programa', 'em', 'ajax', 'mas', 'se', 'tratando', 'da', 'questão', 'dos', 'termos', 'como', 'deveríamos', 'classificar', 'o', 'recurso', 'tecnologia', 'como', 'deveria', 'ser', 'denominado', 'eu', 'gostaria', 'de', 'saber', 'qual', 'é', 'a', 'diferença', 'entre', 'os', 'comandos', 'e', 'no', 'software', 'de', 'versionamento', 'git', 'quais', 'as', 'principais', 'diferenças', 'entre', 'as', 'engines', 'e', 'e', 'qual', 'a', 'situação', 'mais', 'apropriada', 'para', 'o', 'uso', 'de', 'cada', 'sei', 'que', 'não', 'suporta', 'mas', 'suporta', 'enquanto', 'no', 'é', 'o', 'contrário', 'pelo', 'menos', 'até', 'a', 'versão', 'do', 'mysql', 'por', 'que', 'um', 'sgbdr', 'rdbms', 'tem', 'como', 'padrão', 'uma', 'engine', 'que', 'não', 'oferece', 'meios', 'para', 'relacionar', 'as', 'tabelas', 'eu', 'vejo', 'cada', 'um', 'usando', 'de', 'um', 'jeito', 'eu', 'mesmo', 'vario', 'a', 'forma', 'em', 'alguns', 'momentos', 'e', 'todos', 'funcionam', 'mas', 'qual', 'é', 'o', 'certo', 'depende', 'de', 'versão', 'do', 'html', 'ou', 'do', 'browser', 'sendo', 'um', 'programador', 'net', 'mas', 'com', 'uma', 'antiga', 'paixão', 'por', 'c', 'que', 'cresceu', 'desde', 'o', 'c', 'estive', 'com', 'essa', 'curiosidade', 'eu', 'sei', 'que', 'o', 'net', 'pode', 'ser', 'extendido', 'com', 'o', 'ccli', 'mas', 'eu', 'gostaria', 'de', 'saber', 'o', 'que', 'o', 'c', 'puro', 'não', 'consegue', 'fazer', 'enquanto', 'o', 'c', 'consegue', 'nota', 'eu', 'não', 'quero', 'opiniões', 'aqui', 'e', 'também', 'não', 'quero', 'iniciar', 'uma', 'guerra', 'das', 'chamas', 'eu', 'quero', 'fatos', 'eu', 'só', 'quero', 'saber', 'o', 'que', 'o', 'título', 'da', 'pergunta', 'diz', 'não', 'quero', 'saber', 'se', 'você', 'prefere', 'uma', 'linguagem', 'ou', 'outra', 'porque', 'é', 'mais', 'fácil', 'fazer', 'x', 'nela', 'atualização', 'depois', 'de', 'respostas', 'e', 'algumas', 'horas', 'estou', 'julgando', 'a', 'do', 'utluiz', 'como', 'a', 'que', 'melhor', 'respondeu', 'a', 'minha', 'pergunta', 'portanto', 'estou', 'marcando', 'como', 'aceita', 'a', 'do', 'fláviogranato', 'também', 'é', 'boa', 'mas', 'achei', 'a', 'do', 'utluiz', 'mais', 'correta', 'as', 'duas', 'outras', 'respostas', 'falam', 'principalmente', 'sobre', 'o', 'framework', 'e', 'a', 'performance', 'que', 'são', 'óbvios', 'para', 'quem', 'não', 'é', 'novato', 'no', 'assunto', 'não', 'estou', 'dizendo', 'que', 'foram', 'más', 'respostas', 'só', 'não', 'foram', 'respostas', 'boas', 'para', 'essa', 'pergunta', 'fora', 'o', 'fato', 'que', 'o', 'framework', 'é', 'bem', 'estável', 'e', 'performance', 'não', 'é', 'um', 'assunto', 'crítico', 'por', 'exemplo', 'estou', 'fazendo', 'um', 'efeito', 'aqui', 'mas', 'não', 'estou', 'entendendo', 'esse', 'sinal', 'de', 'que', 'tem', 'no', 'framework', 'resultado', 'final', 'o', 'que', 'é', 'url', 'o', 'que', 'é', 'uri', 'são', 'sinônimos', 'em', 'geral', 'as', 'pessoas', 'usam', 'quase', 'sempre', 'url', 'são', 'a', 'mesma', 'coisa', 'tem', 'mais', 'alguma', 'coisa', 'relacionada', 'eu', 'preciso', 'fazer', 'o', 'upload', 'de', 'uma', 'foto', 'e', 'em', 'seguida', 'colocala', 'em', 'um', 'modal', 'para', 'o', 'usuario', 'fazer', 'um', 'recorte', 'proporcional', 'uma', 'breve', 'pesquisa', 'na', 'web', 'encontrei', 'este', 'plugin', 'jquery', 'jcrop', 'ele', 'parece', 'me', 'fornecer', 'as', 'coordenadas', 'para', 'recortar', 'a', 'imagens', 'mas', 'não', 'faço', 'ideia', 'de', 'como', 'integrálo', 'com', 'php', 'se', 'alguém', 'tiver', 'um', 'exemplo', 'pratico', 'sera', 'muito', 'bem', 'vindo', 'existe', 'uma', 'forma', 'clara', 'de', 'determinar', 'quando', 'um', 'projeto', 'de', 'desenvolvimento', 'de', 'software', 'deve', 'ser', 'conduzido', 'usando', 'uma', 'metodologia', 'waterfall', 'ou', 'usar', 'scrum', 'quais', 'os', 'critérios', 'devem', 'ser', 'observados', 'para', 'escolher', 'um', 'ou', 'outro', 'creio', 'que', 'a', 'maioria', 'aqui', 'conhece', 'a', 'diferença', 'entre', 'e', 'select', 'readonly', 'o', 'não', 'se', 'aplica', 'corretamente', 'para', 'o', 'como', 'podem', 'ver', 'eu', 'ainda', 'consigo', 'alterar', 'o', 'valor', 'do', 'select', 'disabled', 'o', 'que', 'não', 'ocorre', 'com', 'o', 'que', 'de', 'fato', 'bloqueia', 'o', 'select', 'aqui', 'eu', 'não', 'consigo', 'editar', 'mas', 'ele', 'também', 'são', 'é', 'enviado', 'pelo', 'formulário', 'objetivo', 'eu', 'necessito', 'enviar', 'o', 'conteúdo', 'do', 'select', 'pelo', 'formulário', 'mas', 'o', 'usuário', 'não', 'pode', 'editálo', 'seu', 'conteúdo', 'é', 'auto', 'selecionado', 'por', 'outros', 'fatores', 'duvida', 'como', 'bloquear', 'o', 'mas', 'ainda', 'enviar', 'seu', 'valor', 'pelo', 'seria', 'possível', 'sem', 'uso', 'de', 'js', 'adendo', 'desta', 'forma', 'eu', 'tenho', 'o', 'que', 'quero', 'mas', 'gostaria', 'de', 'um', 'método', 'mais', 'elegante', 'aqui', 'ele', 'ainda', 'consegue', 'ver', 'as', 'opções', 'estive', 'me', 'questionando', 'porque', 'alguns', 'sistemas', 'exigirem', 'senhas', 'tão', 'fortes', 'exemplo', 'minimo', 'de', 'caracteres', 'maiúsculas', 'e', 'minusculas', 'números', 'caracteres', 'especiais', 'em', 'vários', 'locais', 'dizem', 'que', 'senhas', 'fortes', 'garantem', 'uma', 'maior', 'segurança', 'do', 'sistema', 'e', 'que', 'ajudam', 'a', 'prevenir', 'ataques', 'de', 'algorítimo', 'como', 'o', 'algoritmo', 'capaz', 'de', 'detectar', 'senhas', 'curtas', 'em', 'contrapartida', 'descobrir', 'o', 'algoritmo', 'bancos', 'por', 'exemplo', 'usam', 'senhas', 'com', 'dígitos', 'e', 'essa', 'senha', 'são', 'números', 'penso', 'que', 'senhas', 'fortes', 'e', 'complexas', 'dificultam', 'e', 'muito', 'o', 'usuário', 'no', 'login', 'pela', 'dificuldade', 'em', 'lembrar', 'qual', 'senha', 'criou', 'porque', 'usar', 'senhas', 'tão', 'complexas', 'isso', 'não', 'dificultaria', 'o', 'usuário', 'a', 'lembrar', 'essa', 'senha', 'em', 'uma', 'possível', 'volta', 'ao', 'sistema', 'porque', 'uma', 'senha', 'sem', 'esses', 'critérios', 'mencionados', 'acima', 'são', 'consideradas', 'fracas', 'estou', 'desenvolvendo', 'uma', 'aplicação', 'onde', 'a', 'partir', 'de', 'uma', 'senha', 'fornecida', 'pelo', 'usuário', 'um', 'par', 'de', 'chaves', 'autenticação', 'e', 'criptografia', 'é', 'derivado', 'a', 'senha', 'em', 'si', 'nunca', 'é', 'enviada', 'ao', 'servidor', 'somente', 'a', 'chave', 'de', 'autenticação', 'gostaria', 'de', 'oferecer', 'ao', 'usuário', 'a', 'opção', 'do', 'navegador', 'lembrar', 'sua', 'senha', 'é', 'possível', 'fazer', 'isso', 'via', 'javascript', 'e', 'de', 'forma', 'segura', 'li', 'diversas', 'referências', 'por', 'exemplo', 'essa', 'pergunta', 'no', 'soen', 'e', 'pelo', 'jeito', 'não', 'há', 'um', 'meio', 'consistente', 'entre', 'os', 'diversos', 'browsers', 'ex', 'o', 'chrome', 'só', 'oferece', 'para', 'salvar', 'a', 'senha', 'no', 'retorno', 'da', 'submissão', 'do', 'formulário', 'e', 'só', 'se', 'a', 'própria', 'senha', 'tiver', 'sido', 'submetida', 'o', 'que', 'não', 'é', 'o', 'caso', 'aqui', 'pois', 'a', 'senha', 'não', 'deve', 'nunca', 'sair', 'do', 'browser', 'estou', 'procurando', 'por', 'alternativas', 'é', 'possível', 'forçar', 'o', 'browser', 'a', 'salvar', 'um', 'campo', 'arbitrário', 'com', 'o', 'mesmo', 'nível', 'de', 'segurança', 'que', 'ele', 'salvaria', 'uma', 'senha', 'submetida', 'ainda', 'que', 'essa', 'segurança', 'não', 'seja', 'assim', 'tão', 'elevada', 'de', 'preferência', 'satisfazendo', 'essa', 'restrição', 'adicional', 'de', 'não', 'enviála', 'ao', 'servidor', 'se', 'não', 'dá', 'para', 'salvar', 'junto', 'com', 'as', 'senhas', 'haveria', 'uma', 'solução', 'igualmente', 'boa', 'considerei', 'por', 'exemplo', 'a', 'opção', 'de', 'usar', 'apesar', 'dos', 'avisos', 'enfáticos', 'que', 'não', 'se', 'deve', 'armazenar', 'informações', 'confidenciais', 'no', 'entretanto', 'não', 'vejo', 'como', 'usálo', 'possa', 'ser', 'pior', 'do', 'que', 'salvar', 'a', 'senha', 'no', 'browser', 'uma', 'vez', 'que', 'alguém', 'com', 'acesso', 'local', 'ao', 'computador', 'também', 'poderá', 'ler', 'essas', 'senhas', 'a', 'única', 'desvantagem', 'que', 'vejo', 'é', 'que', 'ele', 'é', 'mais', 'vulnerável', 'a', 'xss', 'o', 'que', 'acredito', 'não', 'ser', 'necessariamente', 'o', 'caso', 'com', 'as', 'senhas', 'salvas', 'do', 'jeito', 'normal', 'sem', 'envolver', 'javascript', 'ou', 'estou', 'enganado', 'nota', 'conheço', 'a', 'webcrypto', 'api', 'sendo', 'desenvolvida', 'no', 'futuro', 'quando', 'a', 'mesma', 'estiver', 'consolidada', 'e', 'amplamente', 'suportada', 'ela', 'pode', 'vir', 'a', 'se', 'tornar', 'a', 'solução', 'ideal', 'entretanto', 'estou', 'analisando', 'alternativas', 'a', 'curto', 'prazo', 'e', 'não', 'a', 'de', 'criptografia', 'toda', 'a', 'criptografia', 'ocorre', 'no', 'lado', 'cliente', 'de', 'modo', 'que', 'nem', 'o', 'servidor', 'tem', 'acesso', 'aos', 'dados', 'do', 'usuário', 'por', 'essa', 'razão', 'a', 'senha', 'original', 'deve', 'ser', 'mantida', 'confidencial', 'inclusive', 'do', 'servidor', 'mais', 'detalhes', 'do', 'meu', 'caso', 'particular', 'aqui', 'assuma', 'como', 'premissa', 'que', 'o', 'usuário', 'optou', 'por', 'armazenar', 'a', 'senha', 'tenho', 'consciência', 'que', 'esse', 'é', 'um', 'tradeoff', 'segurança', 'vs', 'conveniência', 'e', 'gostaria', 'de', 'oferecer', 'ao', 'usuário', 'diferentes', 'opções', 'a', 'respeito', 'em', 'vez', 'de', 'impor', 'isso', 'a', 'ele', 'uma', 'discussão', 'aprofundada', 'sobre', 'segurança', 'seria', 'offtopic', 'aqui', 'mais', 'apropriada', 'para', 'securityse', 'por', 'exemplo', 'essa', 'pergunta', 'referese', 'somente', 'a', 'um', 'problema', 'de', 'programação', 'comandar', 'o', 'browser', 'para', 'salvar', 'uma', 'senha', 'através', 'dos', 'seus', 'mecanismos', 'usuais', 'atualização', 'por', 'exigência', 'popular', 'aqui', 'vai', 'o', 'meu', 'threat', 'model', 'modelo', 'de', 'ameaças', 'e', 'outros', 'requisitos', 'particulares', 'a', 'principal', 'preocupação', 'é', 'confidencialidade', 'na', 'nuvem', 'ou', 'seja', 'ainda', 'que', 'o', 'código', 'da', 'minha', 'aplicação', 'javascript', 'tenha', 'de', 'vir', 'necessariamente', 'de', 'uma', 'fonte', 'confiável', 'caso', 'contrário', 'nada', 'do', 'que', 'eu', 'fizesse', 'iria', 'garantir', 'a', 'segurança', 'o', 'servidor', 'onde', 'os', 'dados', 'são', 'armazenados', 'é', 'menosqueconfiável', 'ie', 'há', 'o', 'interesse', 'de', 'se', 'esconder', 'a', 'infomação', 'confidencial', 'mesmo', 'dele', 'ainda', 'que', 'não', 'se', 'presuma', 'malícia', 'a', 'priori', 'a', 'resistência', 'contra', 'acesso', 'local', 'não', 'autorizado', 'não', 'é', 'uma', 'preocupação', 'assumese', 'que', 'qualquer', 'um', 'com', 'acesso', 'físico', 'à', 'máquina', 'está', 'autorizado', 'a', 'acessar', 'esses', 'dados', 'e', 'se', 'pra', 'um', 'usuário', 'particular', 'isso', 'não', 'for', 'verdadeiro', 'ele', 'será', 'instruído', 'a', 'não', 'salvar', 'sua', 'senha', 'dessa', 'maneira', 'a', 'facilidade', 'de', 'uso', 'é', 'um', 'requisito', 'de', 'extrema', 'importância', 'instalar', 'plugins', 'java', 'webpg', 'etc', 'gerenciadores', 'de', 'senha', 'lastpass', 'keepass', 'etc', 'usar', 'um', 'browser', 'ou', 'so', 'particular', 'muitos', 'tem', 'integração', 'nativa', 'com', 'chaveiros', 'seguros', 'ou', 'mesmo', 'um', 'servidor', 'proxy', 'local', 'poderão', 'ser', 'oferecidos', 'como', 'opção', 'para', 'os', 'indivíduos', 'mais', 'conscientes', 'em', 'segurança', 'mas', 'não', 'devem', 'ser', 'obrigatórios', 'o', 'sistema', 'deve', 'ser', 'usável', 'somente', 'com', 'os', 'recursos', 'nativos', 'do', 'navegador', 'independente', 'de', 'plataforma', 'estou', 'postando', 'isso', 'aqui', 'porque', 'tenho', 'recebido', 'demasiadas', 'sugestões', 'de', 'não', 'fazer', 'isso', 'ou', 'fazer', 'aquilo', 'em', 'vez', 'disso', 'mas', 'minha', 'pergunta', 'original', 'não', 'é', 'sobre', 'segurança', 'e', 'sim', 'programação', 'se', 'é', 'ou', 'não', 'possível', 'usar', 'o', 'mecanismo', 'nativo', 'do', 'browser', 'de', 'lembrar', 'as', 'senhas', 'cada', 'um', 'tem', 'um', 'mas', 'a', 'funcionalidade', 'é', 'equivalente', 'programaticamente', 'tenho', 'percebido', 'o', 'uso', 'frequente', 'do', 'termo', 'em', 'alguns', 'fóruns', 'e', 'fiquei', 'me', 'perguntando', 'qual', 'o', 'seu', 'significado', 'e', 'de', 'onde', 'surgiu', 'tal', 'expressão', 'tenho', 'um', 'problema', 'de', 'maratona', 'de', 'programação', 'e', 'quero', 'saber', 'se', 'a', 'minha', 'solução', 'está', 'certa', 'assim', 'como', 'sugestões', 'de', 'melhoria', 'problema', 'um', 'grupo', 'de', 'formigas', 'é', 'realmente', 'orgulhoso', 'porque', 'elas', 'construíram', 'uma', 'magnifica', 'e', 'grande', 'colônia', 'no', 'entanto', 'o', 'enorme', 'tamanho', 'tornouse', 'um', 'problema', 'porque', 'muitas', 'formigas', 'não', 'sabem', 'o', 'caminho', 'entre', 'algumas', 'partes', 'da', 'colônia', 'elas', 'precisam', 'desesperadamente', 'da', 'sua', 'ajuda', 'a', 'colônia', 'de', 'formigas', 'foi', 'feita', 'como', 'uma', 'série', 'de', 'formigueiros', 'ligados', 'por', 'túneis', 'as', 'formigas', 'obsessivas', 'como', 'elas', 'são', 'contaram', 'os', 'formigueiros', 'sequencialmente', 'como', 'elas', 'construíramlos', 'o', 'primeiro', 'formigueiro', 'numerado', 'de', 'não', 'requer', 'qualquer', 'túnel', 'mas', 'para', 'cada', 'um', 'dos', 'formigueiros', 'subseqüentes', 'de', 'a', 'as', 'formigas', 'também', 'construiram', 'um', 'único', 'túnel', 'que', 'ligava', 'o', 'novo', 'formigueiro', 'para', 'um', 'dos', 'formigueiros', 'existentes', 'claro', 'este', 'túnel', 'foi', 'suficiente', 'para', 'permitir', 'que', 'qualquer', 'formiga', 'fosse', 'a', 'qualquer', 'formigueiro', 'previamente', 'construído', 'possivelmente', 'passando', 'por', 'outros', 'formigueiros', 'em', 'seu', 'caminho', 'mas', 'elas', 'não', 'se', 'incomodaram', 'em', 'fazer', 'túneis', 'extras', 'e', 'continuaram', 'construindo', 'mais', 'formigueiros', 'seu', 'trabalho', 'é', 'dada', 'a', 'estrutura', 'da', 'colônia', 'e', 'um', 'conjunto', 'de', 'consultas', 'calcular', 'para', 'cada', 'consulta', 'o', 'caminho', 'mais', 'curto', 'entre', 'pares', 'de', 'formigueiros', 'o', 'comprimento', 'de', 'um', 'caminho', 'é', 'a', 'soma', 'dos', 'comprimentos', 'de', 'todos', 'os', 'túneis', 'que', 'precisam', 'ser', 'explorada', 'entrada', 'cada', 'caso', 'de', 'teste', 'se', 'estende', 'por', 'várias', 'linhas', 'a', 'primeira', 'linha', 'contém', 'um', 'inteiro', 'representa', 'o', 'número', 'de', 'formigueiros', 'na', 'colónia', 'cada', 'uma', 'das', 'linhas', 'seguintes', 'contém', 'dois', 'inteiros', 'que', 'descrevem', 'um', 'túnel', 'linha', 'para', 'contém', 'e', 'indicando', 'que', 'o', 'formigueiro', 'i', 'estava', 'conectado', 'diretamente', 'ao', 'formigueiro', 'com', 'um', 'túnel', 'de', 'comprimento', 'a', 'próxima', 'linha', 'contém', 'um', 'inteiro', 'representando', 'o', 'número', 'de', 'consultas', 'que', 'se', 'seguem', 'q', 'cada', 'uma', 'das', 'próximas', 'linhas', 'descreve', 'uma', 'consulta', 'e', 'contém', 'dois', 'inteiros', 'e', 'distintas', 'que', 'representam', 'respectivamente', 'os', 'formigueiros', 'origem', 'e', 'de', 'destino', 'o', 'último', 'caso', 'de', 'teste', 'é', 'seguido', 'por', 'uma', 'linha', 'contendo', 'um', 'zero', 'saída', 'para', 'cada', 'caso', 'a', 'saída', 'de', 'teste', 'com', 'uma', 'única', 'linha', 'números', 'inteiros', 'cada', 'um', 'deles', 'sendo', 'o', 'comprimento', 'de', 'um', 'caminho', 'mais', 'curto', 'entre', 'o', 'par', 'de', 'formigueiros', 'de', 'uma', 'consulta', 'escrever', 'os', 'resultados', 'para', 'cada', 'comando', 'na', 'mesma', 'ordem', 'em', 'que', 'foram', 'dadas', 'as', 'consultas', 'no', 'input', 'minha', 'solução', 'atual', 'suponha', 'a', 'tabela', 'e', 'o', 'campo', 'em', 'uma', 'consulta', 'sql', 'qual', 'a', 'melhor', 'forma', 'de', 'se', 'calcular', 'a', 'idade', 'de', 'uma', 'pessoa', 'em', 'formato', 'inteiro', 'na', 'linguagem', 'tsql', 'do', 'sql', 'server', 'ao', 'fazer', 'um', 'select', 'reparei', 'que', 'os', 'dados', 'com', 'campo', 'não', 'são', 'recuperados', 'usando', 'o', 'operador', 'por', 'que', 'isso', 'acontece', 'é', 'igual', 'a', 'um', 'vejam', 'que', 'na', 'consulta', 'abaixo', 'só', 'a', 'primeira', 'linha', 'é', 'retornada', 'sqlfiddle', 'já', 'encontrei', 'em', 'vários', 'lugares', 'este', 'termo', 'vanilla', 'js', 'ele', 'parece', 'ser', 'citado', 'como', 'um', 'framework', 'mas', 'nos', 'códigos', 'onde', 'ele', 'é', 'citado', 'e', 'no', 'próprio', 'site', 'o', 'código', 'apresentado', 'é', 'puro', 'javascript', 'qual', 'diferença', 'de', 'linguagem', 'compilada', 'para', 'linguagem', 'interpretada', 'e', 'quais', 'as', 'vantagens', 'de', 'uma', 'para', 'outra', 'nesta', 'pergunta', 'aqui', 'eu', 'cito', 'que', 'java', 'é', 'uma', 'linguagem', 'interpretada', 'pois', 'sempre', 'entendi', 'dessa', 'maneira', 'mas', 'fui', 'corrigido', 'neste', 'comentário', 'de', 'que', 'java', 'não', 'é', 'mais', 'interpretado', 'assim', 'fiquei', 'com', 'algumas', 'dúvidas', 'o', 'que', 'é', 'uma', 'linguagem', 'interpretada', 'então', 'java', 'já', 'foi', 'interpretado', 'mas', 'não', 'é', 'mais', 'é', 'isso', 'mesmo', 'acabei', 'de', 'ler', 'esse', 'artigo', 'e', 'nele', 'há', 'esta', 'expressão', 'avaliando', 'isso', 'no', 'interpretador', 'bom', 'por', 'que', 'vejo', 'muita', 'confusão', 'no', 'site', 'sobre', 'os', 'termos', 'no', 'contexto', 'de', 'segurança', 'de', 'dados', 'o', 'que', 'seria', 'encoding', 'encrypting', 'e', 'hashing', 'e', 'em', 'que', 'contextos', 'devem', 'ser', 'usados', 'cada', 'um', 'em', 'especial', 'codificar', 'serve', 'como', 'medida', 'de', 'segurança', 'ou', 'é', 'usada', 'para', 'outra', 'coisa', 'exemplo', 'usar', 'base', 'por', 'favor', 'leia', 'e', 'entenda', 'a', 'pergunta', 'o', 'assunto', 'tem', 'um', 'contexto', 'específico', 'em', 'php', 'quando', 'possuo', 'um', 'com', 'valores', 'duplicados', 'é', 'possível', 'obter', 'apenas', 'valores', 'únicos', 'através', 'da', 'função', 'exemplo', 'porém', 'eu', 'precisei', 'fazer', 'algo', 'parecido', 'em', 'javascript', 'mas', 'não', 'encontrei', 'uma', 'função', 'que', 'fizesse', 'isso', 'nativamente', 'qual', 'é', 'o', 'meio', 'mais', 'simples', 'em', 'javascript', 'de', 'se', 'obter', 'os', 'valores', 'únicos', 'de', 'um', 'vou', 'deixar', 'esse', 'array', 'de', 'exemplo', 'gostaria', 'de', 'saber', 'o', 'que', 'são', 'e', 'como', 'funcionam', 'os', 'número', 'das', 'versões', 'de', 'softwares', 'como', 'por', 'exemplo', 'o', 'que', 'significa', 'existe', 'algum', 'padrão', 'ou', 'recomendação', 'para', 'versões', 'de', 'aplicações', 'web', 'uma', 'das', 'primeiras', 'coisas', 'que', 'aprendi', 'sobre', 'java', 'é', 'que', 'essa', 'linguagem', 'não', 'possui', 'ponteiros', 'somente', 'referências', 'seguida', 'de', 'algumas', 'afirmações', 'genéricas', 'de', 'como', 'o', 'primeiro', 'é', 'complexo', 'e', 'o', 'segundo', 'é', 'mais', 'simples', 'mas', 'nunca', 'entendi', 'exatamente', 'qual', 'a', 'diferença', 'de', 'um', 'para', 'o', 'outro', 'há', 'alguma', 'diferença', 'ou', 'conceitualmente', 'eles', 'são', 'a', 'mesma', 'coisa', 'esclarecendo', 'eu', 'sei', 'que', 'nem', 'java', 'nem', 'a', 'maioria', 'das', 'linguagens', 'que', 'só', 'suporta', 'referências', 'permite', 'que', 'seja', 'feita', 'aritmética', 'com', 'essas', 'referências', 'algo', 'como', 'não', 'é', 'permitido', 'mas', 'seria', 'isso', 'apenas', 'uma', 'restrição', 'às', 'operações', 'que', 'a', 'linguagem', 'deixa', 'fazer', 'ao', 'mesmo', 'tipo', 'ponteiro', 'ou', 'são', 'de', 'fato', 'conceitos', 'diferentes', 'estou', 'estudando', 'rest', 'e', 'desenvolvimento', 'de', 'web', 'apis', 'e', 'ouvi', 'falar', 'sobre', 'hateoas', 'hypertext', 'as', 'the', 'engine', 'of', 'application', 'state', 'eu', 'entendi', 'a', 'ideia', 'ao', 'responder', 'uma', 'requisição', 'além', 'do', 'que', 'normalmente', 'retornamos', 'a', 'ideia', 'é', 'também', 'retornar', 'dados', 'sobre', 'o', 'que', 'pode', 'ser', 'feito', 'em', 'seguida', 'um', 'exemplo', 'que', 'vi', 'na', 'internet', 'foi', 'esse', 'além', 'disso', 'já', 'li', 'várias', 'vezes', 'que', 'fazer', 'isso', 'é', 'muito', 'importante', 'pra', 'várias', 'coisas', 'entre', 'elas', 'pra', 'permitir', 'que', 'a', 'api', 'consiga', 'evoluir', 'facilmente', 'sem', 'quebrar', 'clients', 'antigos', 'acontece', 'que', 'eu', 'não', 'consigo', 'entender', 'quais', 'são', 'os', 'reais', 'benefícios', 'de', 'fazer', 'isso', 'basicamente', 'o', 'client', 'não', 'vai', 'decidir', 'por', 'si', 'só', 'quais', 'chamadas', 'fazer', 'baseado', 'nesses', 'links', 'de', 'qualquer', 'forma', 'temos', 'que', 'colocar', 'hardcoded', 'lá', 'o', 'que', 'pode', 'ser', 'feito', 'em', 'seguida', 'assim', 'qual', 'a', 'real', 'importância', 'de', 'usar', 'hateoas', 'e', 'quais', 'benefícios', 'temos', 'a', 'partir', 'do', 'seu', 'uso', 'em', 'orientação', 'a', 'objetos', 'qual', 'é', 'o', 'significado', 'de', 'uma', 'classe', 'abstrata', 'qual', 'é', 'a', 'sua', 'finalidade', 'ultimamente', 'tenho', 'vários', 'exemplos', 'de', 'repository', 'pattern', 'homemade', 'nas', 'questões', 'sobre', 'entity', 'framework', 'porém', 'o', 'entity', 'framework', 'já', 'implementa', 'um', 'repository', 'pattern', 'que', 'no', 'caso', 'é', 'o', 'unit', 'of', 'work', 'muitos', 'destes', 'repositórios', 'atuam', 'como', 'um', 'falso', 'repositório', 'que', 'encapsula', 'o', 'repositório', 'verdadedbcontent', 'para', 'executar', 'operações', 'básicas', 'como', 'getall', 'atualizar', 'inserir', 'etc', 'desta', 'forma', 'não', 'consigo', 'ver', 'benefícios', 'neste', 'tipo', 'de', 'implementação', 'podendo', 'até', 'trazer', 'uma', 'complexibilidade', 'maior', 'ao', 'projeto', 'em', 'si', 'seria', 'repository', 'pattern', 'um', 'novo', 'hungarian', 'notation', 'onde', 'muitos', 'programadores', 'ainda', 'colocam', 'abreviações', 'do', 'type', 'como', 'prefixo', 'da', 'variável', 'em', 'linguagens', 'com', 'oo', 'quando', 'este', 'tipo', 'de', 'notação', 'deveria', 'mencionar', 'a', 'natureza', 'da', 'variável', 'como', 'prefixo', 'e', 'é', 'desnecessária', 'em', 'linguagens', 'oo', 'talvez', 'eu', 'não', 'esteja', 'conseguindo', 'ver', 'fora', 'da', 'caixa', 'então', 'gostaria', 'de', 'exemplos', 'com', 'repository', 'pattern', 'que', 'agregem', 'valor', 'preciso', 'criar', 'um', 'executável', 'c', 'e', 'ficou', 'a', 'duvida', 'fazer', 'com', 'ou', 'fazer', 'com', 'na', 'prática', 'existe', 'alguma', 'diferença', 'entre', 'usar', 'e', 'o', 'tradicional', 'é', 'verdade', 'que', 'uma', 'pode', 'ter', 'várias', 'basicamente', 'meu', 'executável', 'terá', 'chamadas', 'diferentes', 'que', 'podem', 'ser', 'executadas', 'ao', 'mesmo', 'tempo', 'como', 'tratamse', 'de', 'chamadas', 'individuais', 'eu', 'quero', 'evitar', 'que', 'uma', 'execute', 'somente', 'quando', 'a', 'outra', 'termine', 'e', 'simplesmente', 'executar', 'todas', 'ao', 'mesmo', 'tempo', 'eu', 'andei', 'pesquisando', 'bastante', 'na', 'web', 'e', 'nas', 'comunidades', 'stackoverflow', 'e', 'estou', 'chegando', 'no', 'ponto', 'de', 'acreditar', 'que', 'spas', 'não', 'tiram', 'quase', 'nenhuma', 'vantagem', 'do', 'algoritmo', 'gc', 'dos', 'navegadores', 'atuais', 'nossa', 'equipe', 'de', 'desenvolvimento', 'se', 'preocupou', 'em', 'destruir', 'objetos', 'inúteis', 'em', 'transições', 'de', 'estado', 'que', 'poderiam', 'estar', 'causando', 'algum', 'memoryleakremover', 'listeners', 'eventos', 'atrelados', 'a', 'doms', 'destruídos', 'e', 'todas', 'as', 'possibilidades', 'que', 'encontramos', 'na', 'internet', 'mas', 'ainda', 'assim', 'tem', 'um', 'tipo', 'de', 'memoryleak', 'na', 'nossa', 'plataforma', 'de', 'spa', 'que', 'pode', 'ser', 'usado', 'por', 'várias', 'horas', 'continuamente', 'o', 'gráfico', 'abaixo', 'representa', 'o', 'uso', 'de', 'memória', 'em', 'horas', 'de', 'navegação', 'spa', 'foi', 'um', 'salto', 'de', 'mb', 'para', 'mb', 'em', 'horas', 'obviamente', 'há', 'realmente', 'alguns', 'recursos', 'como', 'mapas', 'e', 'gráficos', 'que', 'justificam', 'o', 'consumo', 'elevado', 'de', 'memória', 'porém', 'mesmo', 'retornando', 'para', 'tarefas', 'mais', 'simples', 'a', 'memória', 'continua', 'lá', 'por', 'muito', 'tempo', 'até', 'que', 'o', 'gc', 'venha', 'e', 'remova', 'a', 'memória', 'não', 'utilizada', 'existem', 'alguma', 'coisa', 'além', 'das', 'coisas', 'que', 'listei', 'acima', 'que', 'podem', 'melhorar', 'o', 'gc', 'em', 'uma', 'singlepage', 'application', 'sabemos', 'que', 'o', 'gc', 'não', 'pode', 'ser', 'controlado', 'pelo', 'cliente', 'javascript', 'embora', 'existam', 'alguns', 'eventos', 'que', 'acionam', 'esta', 'condição', 'algumas', 'ações', 'do', 'usuário', 'como', 'navegação', 'troca', 'de', 'páginas', 'fechamento', 'de', 'janelas', 'e', 'abas', 'entre', 'outros', 'que', 'em', 'alguns', 'casos', 'não', 'acontecem', 'em', 'um', 'spa', 'como', 'posso', 'obter', 'um', 'resultado', 'satisfatório', 'com', 'o', 'gerenciamento', 'de', 'memória', 'em', 'um', 'spa', 'sendo', 'que', 'não', 'tenho', 'tantos', 'gatilhos', 'para', 'ativação', 'do', 'gc', 'como', 'numa', 'aplicação', 'multipage', 'estou', 'procurando', 'por', 'maneiras', 'de', 'se', 'copiar', 'um', 'texto', 'pra', 'área', 'de', 'transferência', 'clipboard', 'via', 'javascript', 'que', 'funcione', 'na', 'maioria', 'dos', 'browsers', 'modernos', 'mas', 'há', 'informação', 'demais', 'e', 'me', 'parece', 'desatualizada', 'sei', 'que', 'há', 'a', 'clipboard', 'api', 'e', 'que', 'ela', 'é', 'parcialmente', 'suportada', 'por', 'todos', 'exceto', 'o', 'firefox', 'que', 'a', 'implementa', 'totalmete', 'gostaria', 'de', 'utilizála', 'mas', 'só', 'encontro', 'exemplos', 'que', 'usam', 'o', 'que', 'é', 'justamente', 'a', 'parte', 'ainda', 'não', 'amplamente', 'suportada', 'montei', 'um', 'jsfiddle', 'de', 'exemplo', 'que', 'não', 'funciona', 'nem', 'no', 'firefox', 'recursão', 'infinita', 'no', 'evento', 'nem', 'no', 'chrome', 'não', 'suportado', 'segue', 'o', 'código', 'gostaria', 'de', 'um', 'exemplo', 'que', 'evitasse', 'essa', 'recursão', 'infinita', 'ela', 'é', 'causada', 'porque', 'o', 'handler', 'que', 'cria', 'o', 'acaba', 'capturando', 'o', 'evento', 'que', 'ele', 'mesmo', 'criou', 'e', 'que', 'oferecesse', 'um', 'workaround', 'pro', 'caso', 'do', 'browser', 'não', 'dar', 'suporte', 'ao', 'preciso', 'fazer', 'uma', 'barra', 'de', 'progresso', 'que', 'inicie', 'do', 'e', 'vá', 'ao', 'porém', 'preciso', 'fazer', 'somente', 'com', 'css', 'e', 'além', 'disso', 'necessito', 'que', 'quando', 'ela', 'chegar', 'ao', 'iniciar', 'novamente', 'do', 'apesar', 'de', 'existirem', 'algumas', 'informações', 'sobre', 'essa', 'barra', 'de', 'progresso', 'eu', 'preciso', 'que', 'ela', 'dure', 'exatamente', 'segundos', 'e', 'quando', 'chegar', 'ao', 'pule', 'para', 'o', 'alguém', 'já', 'precisou', 'fazer', 'algo', 'semelhante', 'um', 'problema', 'pode', 'ser', 'resolvido', 'e', 'obter', 'o', 'mesmo', 'resultado', 'utilizado', 'um', 'loop', 'ou', 'através', 'de', 'chamadas', 'recursivas', 'a', 'uma', 'função', 'considerando', 'que', 'a', 'linguagem', 'de', 'programação', 'sendo', 'usada', 'possua', 'os', 'dois', 'recursos', 'como', 'saber', 'quando', 'um', 'é', 'melhor', 'que', 'o', 'outro', 'vi', 'em', 'algum', 'comentário', 'aqui', 'no', 'site', 'em', 'alguma', 'pergunta', 'falando', 'sobre', 'para', 'resolver', 'um', 'problema', 'de', 'autenticação', 'já', 'tinha', 'visto', 'o', 'termo', 'vagamente', 'anteriormente', 'e', 'eu', 'pensava', 'que', 'se', 'tratava', 'de', 'alguma', 'coisa', 'do', 'java', 'hehehe', 'porém', 'dando', 'uma', 'olhada', 'em', 'jwtio', 'percebi', 'que', 'se', 'tratava', 'de', 'uma', 'coisa', 'bem', 'diferente', 'então', 'vou', 'perguntar', 'o', 'que', 'é', 'jwt', 'é', 'uma', 'biblioteca', 'uma', 'especificação', 'para', 'que', 'serve', 'vejo', 'que', 'alguns', 'sites', 'ao', 'definir', 'o', 'utilizam', 'a', 'unidade', 'em', 'uma', 'breve', 'pesquisa', 'eu', 'li', 'que', 'é', 'recomendado', 'usar', 'em', 'fontes', 'por', 'ser', 'melhor', 'do', 'que', 'a', 'unidade', 'afinal', 'qual', 'seria', 'a', 'unidade', 'certa', 'ao', 'definir', 'o', 'tamanho', 'da', 'fonte', 'e', 'por', 'que', 'criptografia', 'é', 'algo', 'fundamental', 'na', 'web', 'pois', 'nos', 'fornece', 'privacidade', 'e', 'segurança', 'é', 'até', 'possível', 'que', 'isso', 'seja', 'padrão', 'no', 'http', 'minha', 'dúvida', 'é', 'como', 'a', 'criptografia', 'via', 'http', 'funciona', 'creio', 'que', 'exista', 'uma', 'chave', 'que', 'seja', 'única', 'para', 'cada', 'conexão', 'entre', 'servidor', 'e', 'cliente', 'caso', 'contrário', 'se', 'a', 'chave', 'fosse', 'sempre', 'a', 'mesma', 'alguém', 'poderia', 'interceptar', 'a', 'conexão', 'facilmente', 'já', 'ouvi', 'falar', 'em', 'certificados', 'necessários', 'para', 'a', 'coisa', 'funcionar', 'mas', 'não', 'sei', 'como', 'funciona', 'executo', 'uma', 'rotina', 'diariamente', 'de', 'acessar', 'o', 'site', 'do', 'serasa', 'e', 'fazer', 'a', 'consulta', 'de', 'cnpj', 'preciso', 'desenvolver', 'uma', 'macro', 'para', 'acessar', 'esse', 'site', 'do', 'serasa', 'efetuar', 'o', 'login', 'e', 'depois', 'a', 'consulta', 'e', 'em', 'seguida', 'jogar', 'as', 'informações', 'no', 'excel', 'detalhe', 'já', 'consegui', 'desenvolver', 'a', 'macro', 'pra', 'acessar', 'o', 'site', 'mas', 'na', 'hora', 'da', 'consulta', 'de', 'cnpj', 'da', 'erro', 'de', 'script', 'e', 'não', 'deixa', 'copiar', 'as', 'informações', 'alguém', 'sabe', 'me', 'dizer', 'se', 'é', 'possível', 'que', 'a', 'macro', 'execute', 'todas', 'essas', 'atividades', 'o', 'operador', 'diz', 'que', 'as', 'strings', 'são', 'diferentes', 'sendo', 'que', 'elas', 'armazenam', 'o', 'mesmo', 'valor', 'literal', 'veja', 'o', 'exemplo', 'resultado', 'como', 'fazer', 'para', 'comparar', 'o', 'valor', 'literal', 'das', 'strings', 'é', 'mais', 'vantajoso', 'utilizar', 'um', 'tipo', 'ansi', 'ao', 'invés', 'de', 'um', 'tipo', 'utf', 'ou', 'viceversa', 'existe', 'algum', 'ganho', 'em', 'performance', 'ou', 'armazenamento', 'entre', 'os', 'tipos', 'sempre', 'tenho', 'visto', 'em', 'alguns', 'frameworks', 'que', 'trabalham', 'com', 'rest', 'ou', 'com', 'envio', 'de', 'dados', 'em', 'formato', 'json', 'numa', 'requisição', 'o', 'uso', 'da', 'expressão', 'payload', 'o', 'que', 'significa', 'esse', 'nome', 'em', 'requisições', 'http', 'o', 'que', 'é', 'especificamente', 'um', 'payload', 'é', 'um', 'corpo', 'de', 'uma', 'requisição', 'em', 'formato', 'json', 'um', 'exemplo', 'do', 'termo', 'sendo', 'usado', 'pelo', 'google', 'chrome', 'exemplo', 'exemplo', 'tenho', 'ouvido', 'falar', 'muito', 'de', 'kotlin', 'o', 'que', 'é', 'isso', 'é', 'uma', 'linguagem', 'de', 'programação', 'se', 'sim', 'quais', 'as', 'principais', 'características', 'posso', 'programar', 'em', 'qualquer', 'sistema', 'operacional', 'e', 'executar', 'como', 'funcionam', 'os', 'tipos', 'nela', 'não', 'quero', 'saber', 'tudo', 'mas', 'uma', 'informação', 'básica', 'sobre', 'o', 'que', 'é', 'isso', 'eu', 'sempre', 'usei', 'endpoint', 'e', 'api', 'como', 'sinônimos', 'hoje', 'descobri', 'que', 'eles', 'não', 'querem', 'dizer', 'a', 'mesma', 'coisa', 'embora', 'estejam', 'relacionados', 'afinal', 'qual', 'a', 'diferença', 'entre', 'esses', 'dois', 'costumo', 'sempre', 'dizer', 'que', 'não', 'me', 'dou', 'muito', 'bem', 'com', 'termos', 'esses', 'dias', 'atrás', 'precisei', 'fazer', 'uma', 'operação', 'num', 'determinado', 'framework', 'em', 'php', 'chamado', 'laravel', 'onde', 'eu', 'precisava', 'encontrar', 'um', 'recurso', 'que', 'me', 'permitiria', 'usar', 'um', 'banco', 'já', 'existente', 'e', 'fazer', 'com', 'que', 'ele', 'gerasse', 'automaticamente', 'os', 'models', 'e', 'migrations', 'da', 'aplicação', 'através', 'das', 'tabelas', 'desse', 'banco', 'geralmente', 'o', 'que', 'ocorre', 'é', 'o', 'contrário', 'você', 'gera', 'models', 'e', 'migrations', 'que', 'por', 'sua', 'vez', 'geram', 'o', 'banco', 'de', 'dados', 'fiz', 'várias', 'pesquisas', 'na', 'internet', 'em', 'inglês', 'para', 'poder', 'encontrar', 'o', 'que', 'eu', 'queria', 'porém', 'não', 'encontrava', 'até', 'que', 'eu', 'usei', 'o', 'termo', 'database', 'reverse', 'engine', 'for', 'laravel', 'e', 'encontrei', 'o', 'que', 'procurava', 'até', 'então', 'eu', 'não', 'estava', 'tão', 'familiarizado', 'com', 'o', 'termo', 'por', 'pensar', 'em', 'se', 'tratar', 'em', 'algo', 'muito', 'distante', 'do', 'meu', 'diaadia', 'de', 'programação', 'mas', 'parece', 'que', 'não', 'era', 'verdade', 'o', 'que', 'eu', 'entendo', 'pela', 'experiência', 'que', 'tive', 'é', 'que', 'engenharia', 'reversa', 'está', 'relacionado', 'a', 'usar', 'o', 'que', 'foi', 'gerado', 'para', 'criar', 'o', 'gerador', 'me', 'corrijam', 'se', 'eu', 'estiver', 'errado', 'é', 'por', 'isso', 'que', 'venho', 'aqui', 'perguntar', 'o', 'que', 'é', 'exatamente', 'a', 'engenharia', 'reversa', 'nota', 'não', 'vou', 'incluir', 'a', 'tag', 'ou', 'pois', 'não', 'se', 'trata', 'do', 'assunto', 'foi', 'apenas', 'um', 'exemplo', 'ao', 'pesquisar', 'um', 'pouco', 'sobre', 'plataformas', 'para', 'o', 'desenvolvimento', 'de', 'apps', 'mobile', 'acabei', 'me', 'deparando', 'com', 'o', 'xamarin', 'e', 'o', 'cordova', 'ambos', 'tem', 'como', 'proposta', 'desenvolver', 'uma', 'única', 'base', 'de', 'código', 'para', 'aplicativos', 'que', 'rodam', 'em', 'android', 'ios', 'e', 'windows', 'phone', 'como', 'não', 'sou', 'expert', 'em', 'desenvolvimento', 'mobile', 'me', 'surgiram', 'as', 'seguintes', 'dúvidas', 'quais', 'as', 'principais', 'diferenças', 'entre', 'essas', 'plataformas', 'é', 'possível', 'utilizar', 'os', 'recursos', 'nativos', 'que', 'são', 'exclusivos', 'de', 'determinado', 'sistema', 'operacional', 'as', 'plataformas', 'são', 'compatíveis', 'entre', 'si', 'como', 'pegar', 'os', 'nomes', 'de', 'todas', 'as', 'tabelas', 'do', 'banco', 'de', 'dados', 'mysql', 'como', 'pegar', 'os', 'atributos', 'nome', 'tipo', 'etc', 'de', 'uma', 'determinada', 'tabela', 'no', 'banco', 'de', 'dados', 'mysql', 'estou', 'trabalhando', 'em', 'um', 'site', 'com', 'característica', 'responsiva', 'e', 'nele', 'tenho', 'uma', 'página', 'de', 'promoções', 'e', 'gostaria', 'que', 'as', 'imagens', 'acompanhassem', 'a', 'mudança', 'de', 'tamanho', 'do', 'navegador', 'o', 'tamanho', 'máximo', 'da', 'largura', 'da', 'imagem', 'é', 'px', 'seguindo', 'algumas', 'dicas', 'de', 'companheiros', 'refiz', 'o', 'css', 'e', 'exemplo', 'exibido', 'isoladamente', 'funciona', 'corretamente', 'mas', 'ao', 'inserilo', 'em', 'minhas', 'tabs', 'o', 'mesmo', 'não', 'funciona', 'ficou', 'assim', 'divpage', 'width', 'auto', 'textalign', 'center', 'padding', 'px', 'px', 'img', 'maxwidth', 'o', 'código', 'para', 'exibição', 'a', 'página', 'pode', 'ser', 'vista', 'aqui', 'página', 'de', 'promoções', 'o', 'código', 'da', 'minha', 'tab', 'está', 'assim', 'tabs', 'uitabs', 'fontfamily', 'open', 'sans', 'sansserif', 'fontsize', 'px', 'lineheight', 'em', 'px', 'marginbottom', 'px', 'padding', 'border', 'none', 'background', 'none', 'widthpx', 'uitabs', 'uihelperreset', 'lineheight', 'em', 'px', 'uitabs', 'uiwidgetcontent', 'color', 'uitabs', 'uitabshide', 'position', 'absolute', 'left', 'em', 'uitabs', 'uitabsnav', 'padding', 'border', 'none', 'uitabs', 'uiwidgetheader', 'uitabs', 'uistateactive', 'background', 'none', 'uitabs', 'uitabsnav', 'li', 'uitabs', 'uitabsnav', 'liuitabsactive', 'float', 'left', 'margin', 'px', 'px', 'padding', 'position', 'relative', 'zindex', 'border', 'none', 'uitabs', 'uitabsnav', 'li', 'a', 'display', 'block', 'padding', 'px', 'px', 'color', 'backgroundcolor', 'fff', 'border', 'px', 'solid', 'eee', 'borderbottom', 'none', 'uitabs', 'uitabsnav', 'liuistateactive', 'a', 'backgroundcolor', 'fff', 'paddingbottom', 'px', 'makes', 'the', 'unselected', 'tabs', 'appear', 'above', 'the', 'border', 'uitabs', 'uitabsnav', 'liuistatedisabled', 'a', 'color', 'important', 'cursor', 'default', 'uitabs', 'uitabspanel', 'padding', 'px', 'px', 'backgroundcolor', 'fff', 'border', 'px', 'solid', 'eee', 'borderradius', 'overflow', 'hidden', 'vejam', 'no', 'tamanho', 'da', 'tab', 'coloquei', 'esse', 'valor', 'para', 'que', 'ela', 'possa', 'ficar', 'expandida', 'ainda', 'não', 'consegui', 'deixar', 'a', 'imagem', 'responsiva', 'dentro', 'das', 'tabs', 'mesmo', 'seguindo', 'a', 'dica', 'de', 'deixar', 'a', 'div', 'pai', 'com', 'percentagem', 'sou', 'iniciante', 'em', 'php', 'e', 'gostaria', 'de', 'saber', 'se', 'pdophp', 'data', 'objects', 'é', 'a', 'maneira', 'mais', 'segura', 'de', 'se', 'conectar', 'a', 'um', 'banco', 'de', 'dados', 'preciso', 'também', 'de', 'um', 'exemplo', 'de', 'como', 'fazer', 'esta', 'conexão', 'e', 'inserirselecionar', 'dados', 'o', 'que', 'é', 'paradigma', 'existe', 'algum', 'mais', 'importante', 'que', 'outro', 'é', 'a', 'mesma', 'coisa', 'que', 'design', 'pattern', 'padrão', 'de', 'projeto', 'é', 'o', 'mesmo', 'que', 'idioma', 'como', 'inverter', 'uma', 'string', 'em', 'javascript', 'por', 'exemplo', 'entrada', 'alguma', 'coisa', 'aqui', 'saída', 'iuqa', 'asioc', 'amugla', 'qual', 'é', 'o', 'termo', 'correto', 'para', 'uma', 'linguagem', 'totalmente', 'baseada', 'em', 'objetos', 'c', 'e', 'uma', 'linguagem', 'que', 'usa', 'objetos', 'mas', 'não', 'é', 'completamente', 'baseada', 'neles', 'exemplo', 'o', 'vb', 'tem', 'tinha', 'diversas', 'funções', 'que', 'não', 'estavam', 'em', 'objetos', 'e', 'um', 'suporte', 'limitado', 'a', 'oop', 'acho', 'que', 'o', 'c', 'é', 'assim', 'também', 'existem', 'termos', 'certos', 'para', 'isso', 'eu', 'me', 'lembro', 'de', 'ver', 'essa', 'diferença', 'de', 'classificação', 'entre', 'linguagens', 'objectenabled', 'vb', 'e', 'linguagens', 'baseadas', 'em', 'objeto', 'c', 'mas', 'não', 'onde', 'nem', 'quais', 'eram', 'os', 'termos', 'específicos', 'na', 'documentação', 'do', 'php', 'sobre', 'o', 'diz', 'nota', 'note', 'que', 'o', 'switchcase', 'faz', 'comparação', 'frouxa', 'o', 'que', 'é', 'uma', 'comparação', 'frouxa', 'e', 'qual', 'a', 'diferença', 'entre', 'uma', 'comparação', 'frouxa', 'e', 'uma', 'rígida', 'sempre', 'fico', 'em', 'dúvida', 'nos', 'projetos', 'se', 'coloco', 'antes', 'de', 'dar', 'um', 'valor', 'a', 'uma', 'variavel', 'ou', 'não', 'pois', 'ambos', 'funcionam', 'eu', 'acho', 'alguém', 'sabe', 'explicar', 'o', 'motivo', 'de', 'usar', 'ou', 'não', 'qual', 'a', 'convenção', 'ou', 'boa', 'prática', 'a', 'ser', 'seguida', 'é', 'uma', 'pergunta', 'boba', 'eu', 'acho', 'mas', 'como', 'nunca', 'estudei', 'javascript', 'gostaria', 'de', 'saber', 'estou', 'iniciando', 'meus', 'estudos', 'na', 'área', 'de', 'engenharia', 'de', 'software', 'ouvi', 'muito', 'a', 'respeito', 'do', 'termo', 'design', 'patterns', 'e', 'sua', 'aplicabilidade', 'e', 'importância', 'em', 'projetos', 'de', 'software', 'segue', 'abaixo', 'uma', 'definição', 'em', 'engenharia', 'de', 'software', 'um', 'padrão', 'de', 'projeto', 'ou', 'padrão', 'de', 'desenho', 'do', 'inglês', 'design', 'pattern', 'é', 'uma', 'solução', 'geral', 'reutilizável', 'para', 'um', 'problema', 'que', 'ocorre', 'com', 'frequência', 'dentro', 'de', 'um', 'determinado', 'contexto', 'no', 'projeto', 'de', 'software', 'fonte', 'wikipédia', 'eu', 'não', 'consegui', 'visualizar', 'o', 'que', 'seriam', 'mas', 'afinal', 'o', 'que', 'ele', 'é', 'alguém', 'poderia', 'elucidar', 'o', 'que', 'devemos', 'levar', 'em', 'consideração', 'para', 'buscarmos', 'aplicar', 'estes', 'conceitos', 'em', 'um', 'projeto', 'de', 'software', 'talvez', 'isso', 'melhore', 'no', 'meu', 'entendimento', 'quando', 'eu', 'estava', 'lendo', 'sobre', 'alguns', 'frameworks', 'javascript', 'como', 'por', 'exemplo', 'o', 'react', 'li', 'algumas', 'vezes', 'a', 'expressão', 'shadow', 'dom', 'em', 'alguns', 'artigos', 'parece', 'inclusive', 'que', 'é', 'possível', 'nas', 'configurações', 'de', 'console', 'do', 'chrome', 'ativar', 'esse', 'tal', 'de', 'shadow', 'dom', 'mas', 'o', 'que', 'é', 'shadow', 'dom', 'e', 'pra', 'que', 'serve', 'tem', 'alguma', 'coisa', 'a', 'ver', 'apenas', 'com', 'o', 'framework', 'citado', 'acima', 'ou', 'não', 'quando', 'comecei', 'a', 'usar', 'linq', 'vi', 'que', 'poderia', 'usar', 'as', 'famosas', 'lambda', 'expressions', 'até', 'sei', 'que', 'é', 'uma', 'lambda', 'expression', 'mas', 'não', 'consegui', 'explicar', 'para', 'um', 'colega', 'o', 'que', 'realmente', 'são', 'e', 'qual', 'a', 'vantagem', 'em', 'usálas', 'então', 'vos', 'pergunto', 'o', 'que', 'são', 'lambda', 'expressions', 'e', 'qual', 'a', 'sacada', 'em', 'usálas', 'tenho', 'um', 'site', 'onde', 'controlamos', 'os', 'usuários', 'pelo', 'numero', 'de', 'cpf', 'acredito', 'ser', 'a', 'melhor', 'forma', 'pois', 'é', 'um', 'dado', 'único', 'que', 'todo', 'mundo', 'sabe', 'e', 'é', 'checavel', 'porem', 'o', 'cliente', 'tem', 'agora', 'usuários', 'estrangeiros', 'que', 'não', 'tem', 'cpf', 'como', 'lidar', 'com', 'isso', 'pelo', 'que', 'sei', 'não', 'é', 'possível', 'controlar', 'número', 'de', 'passaporte', 'não', 'existe', 'nada', 'que', 'seja', 'igual', 'ao', 'cpf', 'mais', 'detalhes', 'como', 'chave', 'primaria', 'é', 'usado', 'um', 'userid', 'o', 'cpf', 'é', 'o', 'login', 'no', 'sistema', 'quem', 'acessa', 'são', 'vendedores', 'de', 'lojas', 'que', 'vendem', 'o', 'produto', 'e', 'o', 'site', 'é', 'uma', 'área', 'do', 'lojista', 'onde', 'é', 'feito', 'promoções', 'internas', 'pedir', 'o', 'cpf', 'é', 'um', 'esforço', 'de', 'prevenir', 'mais', 'de', 'um', 'cadastro', 'por', 'pessoa', 'já', 'que', 'o', 'site', 'cria', 'campanhas', 'onde', 'o', 'usuário', 'pode', 'receber', 'prêmios', 'por', 'responder', 'questionários', 'ex', 'uma', 'das', 'acoes', 'feitas', 'foi', 'ganhe', 'um', 'par', 'de', 'ingressos', 'para', 'assistir', 'a', 'final', 'da', 'copa', 'no', 'maracana', 'ele', 'responde', 'o', 'questionário', 'com', 'perguntas', 'sobre', 'o', 'produto', 'técnica', 'de', 'vendas', 'etc', 'e', 'quem', 'acertar', 'mais', 'ganha', 'o', 'premio', 'cada', 'um', 'pode', 'fazer', 'x', 'temos', 'um', 'banco', 'de', 'questões', 'o', 'questionário', 'pede', 'no', 'banco', 'tem', 'que', 'são', 'randomizadas', 'mas', 'de', 'qualquer', 'modo', 'quanto', 'mais', 'cadastros', 'um', 'usuário', 'tem', 'mais', 'chances', 'ele', 'forjará', 'para', 'si', 'eu', 'sempre', 'faço', 'confusão', 'com', 'aplicação', 'web', 'e', 'aplicação', 'desktop', 'não', 'consigo', 'entender', 'muito', 'bem', 'a', 'diferenças', 'de', 'ambas', 'perguntas', 'quais', 'são', 'as', 'diferenças', 'entre', 'aplicação', 'web', 'e', 'aplicação', 'desktop', 'quais', 'são', 'as', 'principais', 'característica', 'de', 'cada', 'um', 'estou', 'com', 'o', 'seguinte', 'código', 'em', 'javascript', 'por', 'que', 'a', 'expressão', 'com', 'o', 'operador', 'retorna', 'e', 'com', 'o', 'operador', 'retorna', 'qual', 'é', 'a', 'diferença', 'entre', 'os', 'dois', 'operadores', 'eu', 'estava', 'estudando', 'essa', 'documentação', 'sobre', 'aspnet', 'identity', 'e', 'nos', 'exemplos', 'em', 'c', 'tem', 'uma', 'palavrachave', 'que', 'eu', 'desconheço', 'que', 'é', 'a', 'exemplo', 'para', 'que', 'serve', 'essa', 'palavrachave', 'durante', 'meus', 'trabalhos', 'eu', 'aprendi', 'uma', 'forma', 'de', 'lidar', 'com', 'mas', 'não', 'sei', 'se', 'é', 'muito', 'boa', 'aqui', 'vai', 'um', 'exemplo', 'do', 'código', 'a', 'minha', 'ideia', 'é', 'mapear', 'os', 'erros', 'e', 'jogar', 'a', 'responsabilidade', 'de', 'seu', 'tratamento', 'para', 'o', 'método', 'principal', 'para', 'ser', 'mais', 'objetivo', 'vou', 'direto', 'as', 'perguntas', 'gostaria', 'de', 'saber', 'a', 'opnião', 'de', 'vocês', 'existe', 'uma', 'forma', 'melhor', 'correta', 'de', 'propagar', 'e', 'exibir', 'as', 'exceções', 'de', 'forma', 'simples', 'essa', 'é', 'uma', 'boa', 'forma', 'de', 'lidar', 'com', 'exceptions', 'qual', 'a', 'importância', 'de', 'capturar', 'mais', 'especificas', 'por', 'exemplo', 'dividebyzeroexception', 'tenho', 'receio', 'de', 'estar', 'me', 'preocupando', 'demais', 'com', 'testes', 'já', 'que', 'estou', 'gastando', 'atualmente', 'cerca', 'de', 'do', 'tempo', 'do', 'meu', 'projeto', 'apenas', 'na', 'criação', 'deles', 'eu', 'sei', 'que', 'quanto', 'mais', 'tempo', 'eu', 'gastar', 'com', 'testes', 'menos', 'eu', 'vou', 'gastar', 'para', 'corrigir', 'bugs', 'mas', 'assim', 'como', 'existe', 'a', 'curva', 'abc', 'para', 'definir', 'os', 'itens', 'de', 'maior', 'impacto', 'em', 'pesquisas', 'econômicas', 'e', 'estratégias', 'de', 'negócio', 'talvez', 'exista', 'algum', 'estudo', 'análogo', 'na', 'área', 'de', 'desenvolvimento', 'de', 'softwares', 'que', 'calcule', 'uma', 'quantidade', 'ideal', 'de', 'tempo', 'que', 'deva', 'ser', 'gasta', 'com', 'testes', 'já', 'que', 'assim', 'como', 'apontado', 'pela', 'curva', 'abc', 'a', 'partir', 'de', 'um', 'certo', 'ponto', 'o', 'teste', 'vai', 'custar', 'mais', 'caro', 'do', 'que', 'o', 'próprio', 'código', 'que', 'ele', 'testa', 'pergunta', 'qual', 'é', 'a', 'fração', 'de', 'tempo', 'ideal', 'de', 'um', 'projeto', 'que', 'deveria', 'ser', 'reservada', 'para', 'o', 'desenvolvimento', 'de', 'testes', 'até', 'a', 'época', 'em', 'que', 'os', 'computadores', 'eram', 'puramente', 'mecânicos', 'e', 'eram', 'programados', 'por', 'cartões', 'perfurados', 'eu', 'entendo', 'como', 'funciona', 'depois', 'quando', 'surgiram', 'os', 'primeiros', 'computadores', 'digitais', 'operados', 'com', 'válvulas', 'e', 'relés', 'fica', 'mais', 'complicado', 'de', 'compreender', 'como', 'eram', 'feitas', 'as', 'programações', 'imagino', 'que', 'deveria', 'haver', 'algo', 'semelhante', 'a', 'um', 'compartimento', 'com', 'uma', 'matriz', 'de', 'relés', 'semelhante', 'aos', 'cartões', 'perfurados', 'pré', 'programada', 'que', 'continha', 'um', 'programa', 'fixo', 'e', 'único', 'a', 'ser', 'executado', 'pela', 'máquina', 'quando', 'fosse', 'preciso', 'trocar', 'o', 'programa', 'os', 'programadores', 'apenas', 'rearranjavam', 'as', 'válvulas', 'e', 'a', 'máquina', 'continuava', 'a', 'trabalhar', 'como', 'surgiu', 'essa', 'noção', 'que', 'temos', 'de', 'programação', 'hoje', 'que', 'o', 'programador', 'digita', 'códigos', 'em', 'um', 'editor', 'de', 'texto', 'e', 'compila', 'eu', 'não', 'consigo', 'imaginar', 'como', 'chegou', 'a', 'esse', 'ponto', 'por', 'exemplo', 'o', 'assembly', 'ele', 'é', 'apenas', 'traduzido', 'de', 'textos', 'para', 'binário', 'pelo', 'assembler', 'mas', 'poxa', 'seria', 'preciso', 'ter', 'outra', 'linguagem', 'de', 'programação', 'para', 'se', 'criar', 'o', 'assembler', 'suponha', 'que', 'só', 'existam', 'os', 'computadores', 'controlados', 'por', 'relés', 'e', 'válvulas', 'como', 'que', 'alguém', 'conseguiria', 'escrever', 'um', 'código', 'em', 'assembly', 'sendo', 'que', 'não', 'existia', 'editor', 'de', 'textos', 'nem', 'nada', 'o', 'resultado', 'de', 'uma', 'montagem', 'é', 'outro', 'arquivo', 'no', 'formato', 'texto', 'com', 's', 'e', 's', 'apenas', 'ou', 'são', 'impulsos', 'elétricos', 'enviados', 'para', 'a', 'máquina', 'valvulada', 'ainda', 'uso', 'apenas', 'o', 'mas', 'procurei', 'e', 'não', 'encontrei', 'um', 'exemplo', 'mesmo', 'que', 'mínimo', 'em', 'português', 'que', 'fale', 'sobre', 'o', 'aspnet', 'identity', 'para', 'o', 'mvc', 'estou', 'usando', 'o', 'aspnet', 'mvc', 'e', 'o', 'entityframework', 'gostaria', 'de', 'aprender', 'sobre', 'o', 'aspnet', 'identity', 'mas', 'estou', 'tendo', 'dificuldade', 'em', 'enteder', 'o', 'template', 'mvc', 'com', 'alguém', 'poderia', 'dar', 'um', 'exemplo', 'básico', 'para', 'não', 'ser', 'amplo', 'e', 'não', 'fugir', 'do', 'escopo', 'do', 'sopt', 'partindo', 'do', 'template', 'web', 'mvc', 'sem', 'autenticação', 'quero', 'saber', 'qual', 'é', 'a', 'maneira', 'mais', 'simples', 'possível', 'de', 'se', 'descobrir', 'se', 'a', 'data', 'de', 'hoje', 'é', 'sábado', 'ou', 'domingo', 'em', 'php', 'quais', 'são', 'as', 'maneiras', 'possíveis', 'de', 'se', 'fazer', 'isso', 'quando', 'se', 'fala', 'em', 'programação', 'concorrente', 'sempre', 'citam', 'problemas', 'clássicosmodelos', 'de', 'concorrência', 'produtores', 'e', 'consumidores', 'leitores', 'e', 'escritores', 'filósofos', 'glutões', 'ou', 'jantar', 'dos', 'filósofos', 'procurei', 'aqui', 'no', 'site', 'porém', 'em', 'nenhum', 'momento', 'achei', 'explicando', 'o', 'que', 'é', 'esse', 'problema', 'minhas', 'dúvidas', 'então', 'são', 'o', 'que', 'é', 'o', 'problema', 'dos', 'filósofos', 'glutões', 'mais', 'focado', 'no', 'enunciadometáfora', 'do', 'problema', 'o', 'que', 'o', 'jantar', 'dos', 'filósofos', 'modela', 'de', 'fato', 'mais', 'focado', 'na', 'coisa', 'técnica', 'do', 'que', 'é', 'esse', 'problema', 'deixando', 'a', 'metáfora', 'de', 'lado', 'qual', 'a', 'importância', 'dele', 'para', 'um', 'programador', 'quando', 'um', 'programador', 'deve', 'se', 'preocupar', 'diretamente', 'com', 'esse', 'problema', 'existe', 'alguma', 'coisa', 'real', 'e', 'cotidiana', 'que', 'nos', 'esbarremos', 'com', 'esse', 'problema', 'sem', 'termos', 'conhecimento', 'sei', 'lá', 'num', 'banco', 'de', 'dados', 'dentro', 'do', 'contexto', 'do', 'desenvolvimento', 'de', 'software', 'o', 'que', 'significa', 'algo', 'ser', 'ortogonal', 'por', 'que', 'é', 'importante', 'seguilo', 'nesta', 'outra', 'pergunta', 'eu', 'perguntei', 'a', 'mesma', 'coisa', 'mas', 'em', 'relação', 'a', 'java', 'agora', 'pergunto', 'sobre', 'o', 'javascript', 'pelo', 'que', 'eu', 'saiba', 'historicamente', 'o', 'javascript', 'sempre', 'foi', 'interpretado', 'mas', 'o', 'google', 'mudou', 'isso', 'com', 'o', 'v', 'no', 'chromium', 'estou', 'certo', 'ou', 'errado', 'e', 'em', 'relação', 'aos', 'outros', 'browsers', 'como', 'o', 'firefox', 'e', 'ie', 'ainda', 'é', 'interpretado', 'qual', 'a', 'definição', 'de', 'inteligência', 'artificial', 'a', 'pergunta', 'à', 'primeira', 'vista', 'parece', 'falta', 'de', 'vontade', 'de', 'pesquisar', 'por', 'aí', 'afora', 'mas', 'uma', 'lida', 'nos', 'primeiros', 'links', 'que', 'encontrei', 'no', 'google', 'me', 'deixaram', 'com', 'mais', 'dúvidas', 'do', 'que', 'eu', 'tinha', 'antes', 'de', 'começar', 'a', 'estudar', 'sobre', 'o', 'assunto', 'a', 'wikipédia', 'me', 'deu', 'algumas', 'definições', 'e', 'o', 'tecmundo', 'que', 'foi', 'o', 'primeiro', 'link', 'que', 'o', 'buscador', 'me', 'retornou', 'não', 'me', 'passou', 'credibilidade', 'por', 'não', 'citar', 'fontes', 'partindo', 'de', 'uma', 'definição', 'como', 'esta', 'sistemas', 'que', 'pensam', 'como', 'um', 'humano', 'seria', 'correto', 'dizer', 'que', 'todo', 'sistema', 'que', 'afirme', 'que', 'é', 'um', 'sistema', 'com', 'inteligência', 'artificial', 'conforme', 'a', 'especificação', 'do', 'java', 'grande', 'parte', 'da', 'api', 'do', 'swing', 'não', 'é', 'threadsafe', 'e', 'deve', 'rodar', 'na', 'event', 'dispatch', 'thread', 'como', 'após', 'inicializar', 'o', 'gui', 'os', 'eventos', 'são', 'disparados', 'de', 'dentro', 'da', 'própria', 'edt', 'a', 'não', 'ser', 'que', 'você', 'esteja', 'usando', 'threads', 'em', 'background', 'que', 'precisam', 'atualizar', 'a', 'ui', 'isso', 'não', 'costuma', 'ser', 'um', 'problema', 'porém', 'como', 'o', 'método', 'roda', 'em', 'sua', 'própria', 'thread', 'inicial', 'é', 'comum', 'o', 'uso', 'de', 'para', 'despachar', 'a', 'exibição', 'da', 'gui', 'para', 'a', 'edt', 'veja', 'que', 'após', 'exibir', 'a', 'tela', 'o', 'método', 'não', 'executa', 'mais', 'nada', 'na', 'teoria', 'nenhum', 'código', 'concorrente', 'à', 'edt', 'parece', 'ser', 'executado', 'na', 'thread', 'principal', 'minha', 'dúvida', 'é', 'existe', 'um', 'motivo', 'para', 'termos', 'que', 'despachar', 'a', 'criação', 'da', 'tela', 'para', 'a', 'edt', 'na', 'stack', 'overflow', 'em', 'inglês', 'encontrei', 'uma', 'referência', 'que', 'aponta', 'para', 'a', 'documentação', 'dizendo', 'que', 'a', 'thread', 'inicial', 'não', 'deve', 'criar', 'o', 'gui', 'pois', 'quase', 'todo', 'o', 'código', 'que', 'cria', 'ou', 'interage', 'com', 'componentes', 'swing', 'deve', 'rodar', 'na', 'edt', 'esse', 'dias', 'porém', 'vi', 'o', 'código', 'de', 'uma', 'aplicação', 'que', 'está', 'rodando', 'a', 'quase', 'anos', 'em', 'produção', 'esse', 'código', 'cria', 'e', 'exibe', 'a', 'principal', 'diretamente', 'do', 'nunca', 'houve', 'nenhum', 'problema', 'reportado', 'sobre', 'o', 'funcionamento', 'dessa', 'aplicação', 'nesse', 'sentido', 'quais', 'seriam', 'os', 'problemas', 'de', 'concorrência', 'possíveis', 'se', 'não', 'usarmos', 'o', 'que', 'ficará', 'rodando', 'na', 'thread', 'principal', 'e', 'o', 'que', 'ficará', 'rodando', 'na', 'edt', 'eg', 'a', 'principal', 'fica', 'na', 'thread', 'principal', 'mas', 'seus', 'eventos', 'vão', 'para', 'a', 'edt', 'sempre', 'utilizei', 'os', 'termos', 'parâmetro', 'e', 'argumento', 'como', 'se', 'fossem', 'sinônimos', 'aquilo', 'que', 'é', 'passado', 'para', 'uma', 'função', 'eou', 'que', 'a', 'função', 'recebe', 'como', 'entrada', 'da', 'mesma', 'forma', 'tenho', 'lido', 'um', 'e', 'outro', 'termo', 'em', 'inglês', 'e', 'português', 'ora', 'sendo', 'usado', 'um', 'ora', 'outro', 'mas', 'não', 'consegui', 'perceber', 'nenhum', 'critério', 'na', 'escolha', 'entre', 'um', 'e', 'outro', 'há', 'diferença', 'entre', 'eles', 'ou', 'são', 'sinônimos', 'mesmo', 'já', 'cheguei', 'a', 'pensar', 'que', 'parâmetro', 'era', 'o', 'único', 'termo', 'correto', 'pois', 'é', 'usado', 'na', 'matemática', 'e', 'que', 'argumento', 'era', 'algum', 'erro', 'de', 'tradução', 'mas', 'depois', 'percebi', 'que', 'não', 'é', 'o', 'caso', 'em', 'inglês', 'também', 'temos', 'parameter', 'e', 'argument', 'qual', 'a', 'forma', 'correta', 'de', 'se', 'usar', 'esses', 'termos', 'temos', 'alguns', 'paradigmas', 'de', 'programação', 'bem', 'conhecidos', 'porém', 'bati', 'de', 'frente', 'com', 'esse', 'paradigma', 'e', 'me', 'surgiu', 'algumas', 'dúvidas', 'onde', 'é', 'aplicado', 'existe', 'algum', 'exemplo', 'de', 'onde', 'já', 'foi', 'utilizado', 'com', 'sucesso', 'qual', 'a', 'diferença', 'da', 'orientação', 'a', 'objetos', 'x', 'orientação', 'a', 'agentes', 'vejo', 'algumas', 'pessoas', 'do', 'meio', 'da', 'programação', 'se', 'referindo', 'a', 'esse', 'termo', 'sempre', 'que', 'aparece', 'um', 'código', 'com', 'uma', 'solução', 'estranha', 'ou', 'meio', 'engambiarrada', 'dando', 'uma', 'pesquisada', 'rápida', 'no', 'google', 'eu', 'cheguei', 'a', 'conclusão', 'de', 'que', 'realmente', 'é', 'isso', 'achei', 'os', 'termos', 'go', 'horse', 'process', 'e', 'extreme', 'go', 'horse', 'o', 'que', 'achei', 'estranho', 'é', 'que', 'em', 'alguns', 'artigos', 'que', 'falam', 'sobre', 'go', 'horse', 'process', 'apareceu', 'também', 'vários', 'tópicos', 'de', 'como', 'fazer', 'itens', 'e', 'ainda', 'foi', 'chamado', 'de', 'metodologia', 'mas', 'do', 'que', 'realmente', 'isso', 'se', 'trata', 'é', 'realmente', 'uma', 'metodologia', 'ou', 'uma', 'piada', 'ou', 'uma', 'forma', 'hilária', 'de', 'se', 'listar', 'aquilo', 'que', 'deve', 'ser', 'evitado', 'na', 'programação', 'por', 'que', 'a', 'formação', 'de', 'cores', 'no', 'rgb', 'não', 'segue', 'o', 'mesmo', 'padrão', 'da', 'natureza', 'e', 'mesmo', 'assim', 'dá', 'certo', 'por', 'exemplo', 'no', 'rgb', 'amarelo', 'vemelho', 'e', 'verde', 'ff', 'ff', 'ffff', 'mas', 'se', 'pegarmos', 'um', 'lápis', 'de', 'cor', 'amarelo', 'e', 'outro', 'azul', 'ou', 'tintas', 'pincéis', 'etc', 'e', 'pintar', 'uma', 'mesma', 'área', 'ela', 'se', 'torna', 'verde', 'ou', 'pelo', 'menos', 'algo', 'parecido', 'os', 'tons', 'não', 'são', 'os', 'mesmos', 'até', 'porque', 'depende', 'da', 'quantidade', 'de', 'amarelo', 'ou', 'azul', 'para', 'formar', 'o', 'verde', 'isto', 'é', 'o', 'amarelo', 'depende', 'do', 'verde', 'e', 'em', 'outro', 'o', 'verde', 'depende', 'do', 'amarelo', 'nota', 'entendo', 'que', 'as', 'respostas', 'irão', 'pender', 'para', 'o', 'lado', 'da', 'física', 'e', 'biologia', 'mas', 'sempre', 'tive', 'essa', 'dúvida', 'porque', 'além', 'de', 'trabalhar', 'com', 'backend', 'trabalho', 'com', 'frontend', 'e', 'isso', 'me', 'ocorre', 'muito', 'frequentemente', 'isso', 'porque', 'o', 'sistema', 'rgb', 'não', 'fecha', 'muito', 'o', 'que', 'aprendemos', 'com', 'a', 'tia', 'de', 'artes', 'na', 'escola', 'então', 'não', 'fica', 'muito', 'intuitivo', 'na', 'hora', 'de', 'chegar', 'em', 'uma', 'cor', 'ao', 'desenhar', 'uma', 'página', 'estou', 'atrás', 'do', 'porque', 'do', 'sistema', 'rgb', 'ser', 'diferente', 'do', 'outro', 'e', 'ele', 'ser', 'o', 'escolhido', 'para', 'ser', 'aplicado', 'em', 'imagens', 'e', 'desenhos', 'de', 'aplicações', 'se', 'não', 'estou', 'enganado', 'é', 'estudado', 'em', 'processamento', 'de', 'imagens', 'desde', 'os', 'tempos', 'de', 'faculdade', 'não', 'consigo', 'entender', 'a', 'real', 'diferença', 'entre', 'o', 'tipo', 'e', 'acabei', 'encontrando', 'o', 'tipo', 'que', 'também', 'trata', 'valores', 'reais', 'sobre', 'o', 'tipo', 'encontrei', 'a', 'seguinte', 'afirmação', 'para', 'qualquer', 'cálculo', 'que', 'envolva', 'dinheiro', 'ou', 'finanças', 'o', 'tipo', 'deve', 'ser', 'sempre', 'utilizado', 'só', 'este', 'tipo', 'tem', 'a', 'precisão', 'adequada', 'para', 'evitar', 'os', 'erros', 'críticos', 'de', 'arredondamento', 'por', 'quê', 'o', 'tipo', 'de', 'dados', 'decimal', 'é', 'simplesmente', 'um', 'tipo', 'de', 'ponto', 'flutuante', 'que', 'é', 'representado', 'internamente', 'como', 'base', 'ao', 'invés', 'de', 'base', 'dois', 'em', 'quais', 'situações', 'esses', 'tipos', 'devem', 'ser', 'usados', 'de', 'forma', 'correta', 'poderiam', 'me', 'explicar', 'o', 'porquê', 'do', 'tipo', 'decimal', 'ser', 'o', 'ideal', 'quando', 'se', 'tem', 'dinheiro', 'envolvido', 'qual', 'a', 'diferença', 'entre', 'ambos', 'sempre', 'ouço', 'falar', 'de', 'e', 'mas', 'não', 'sei', 'diferenciar', 'um', 'do', 'outro', 'nem', 'para', 'que', 'servem', 'me', 'pareceu', 'algo', 'com', 'padrão', 'de', 'arquitetura', 'de', 'aplicação', 'estilo', 'commonjs', 'pense', 'em', 'uma', 'classe', 'grande', 'um', 'cadastro', 'completo', 'de', 'cliente', 'por', 'exemplo', 'tem', 'uma', 'quantidade', 'enorme', 'de', 'atributos', 'nele', 'muitos', 'deles', 'precisam', 'ser', 'inicializados', 'na', 'construção', 'do', 'objeto', 'para', 'o', 'objeto', 'ser', 'válido', 'e', 'de', 'antemão', 'não', 'sabe', 'se', 'todos', 'estão', 'válidos', 'ou', 'se', 'o', 'uso', 'conjunto', 'deles', 'torna', 'o', 'objeto', 'válido', 'o', 'objeto', 'pode', 'ser', 'usado', 'em', 'diversos', 'contextos', 'da', 'aplicação', 'poderíamos', 'fazer', 'um', 'construtor', 'com', 'todos', 'os', 'parâmetros', 'necessários', 'e', 'ele', 'valida', 'tudo', 'e', 'decide', 'se', 'conclui', 'a', 'construção', 'ou', 'não', 'um', 'construtor', 'só', 'com', 'o', 'básico', 'para', 'criar', 'o', 'objeto', 'e', 'depois', 'deixar', 'colocar', 'valor', 'em', 'outros', 'atributos', 'validando', 'individualmente', 'como', 'deve', 'proceder', 'com', 'a', 'invalidade', 'temporária', 'ter', 'um', 'método', 'estático', 'que', 'valide', 'tudo', 'antes', 'de', 'chamar', 'o', 'construtor', 'para', 'saber', 'que', 'vai', 'construir', 'corretamente', 'criar', 'um', 'objeto', 'temporário', 'de', 'um', 'tipo', 'definido', 'para', 'este', 'propósito', 'e', 'usálo', 'como', 'base', 'para', 'criar', 'o', 'objeto', 'definitivo', 'provavelmente', 'com', 'um', 'construtor', 'que', 'aceite', 'este', 'objeto', 'e', 'saiba', 'o', 'que', 'fazer', 'este', 'objeto', 'aceitaria', 'os', 'atributos', 'incrementalmente', 'e', 'poderia', 'validar', 'em', 'determinado', 'momento', 'para', 'poder', 'ser', 'usado', 'no', 'objeto', 'real', 'alguma', 'outra', 'forma', 'eu', 'imagino', 'que', 'todas', 'podem', 'ser', 'úteis', 'em', 'alguma', 'situação', 'específica', 'ainda', 'que', 'algumas', 'de', 'forma', 'bem', 'rara', 'e', 'praticamente', 'para', 'contornar', 'alguma', 'outra', 'deficiência', 'quais', 'as', 'vantagens', 'e', 'desvantagens', 'de', 'cada', 'abordagem', 'e', 'em', 'que', 'cenário', 'escolher', 'cada', 'uma', 'referência', 'para', 'que', 'serve', 'um', 'construtor', 'qual', 'a', 'diferença', 'entre', 'uma', 'classe', 'abstrata', 'e', 'uma', 'interface', 'não', 'entendo', 'quando', 'eu', 'deveria', 'utilizar', 'uma', 'ou', 'outra', 'ao', 'se', 'criar', 'um', 'site', 'ou', 'aplicação', 'web', 'sempre', 'há', 'o', 'problema', 'do', 'que', 'fazer', 'quando', 'nem', 'todos', 'os', 'browsers', 'implementam', 'todas', 'as', 'funcionalidades', 'desejáveis', 'pelo', 'que', 'tenho', 'lido', 'há', 'duas', 'principais', 'maneiras', 'de', 'se', 'lidar', 'com', 'isso', 'graceful', 'degradation', 'degradação', 'suave', 'desenvolvese', 'pensando', 'num', 'ambiente', 'o', 'mais', 'completo', 'possível', 'mas', 'assegurandose', 'que', 'se', 'a', 'funcionalidade', 'x', 'ou', 'y', 'estiver', 'ausente', 'o', 'site', 'ainda', 'funcione', 'da', 'melhor', 'forma', 'possível', 'sem', 'ela', 'progressive', 'enhancement', 'enriquecimento', 'progressivo', 'desenvolvese', 'pensando', 'num', 'ambiente', 'o', 'mais', 'básico', 'possível', 'e', 'acrescentase', 'características', 'extra', 'caso', 'a', 'presença', 'da', 'funcionalidade', 'x', 'ou', 'y', 'seja', 'detectada', 'quais', 'as', 'vantagens', 'e', 'desvantagens', 'de', 'cada', 'uma', 'delas', 'há', 'situações', 'em', 'que', 'uma', 'é', 'mais', 'adequada', 'que', 'a', 'outra', 'ou', 'é', 'apenas', 'questão', 'de', 'preferência', 'estou', 'interessado', 'principalmente', 'no', 'aspecto', 'da', 'manutenabilidade', 'à', 'medida', 'que', 'características', 'novas', 'vão', 'sendo', 'introduzidas', 'aos', 'browsers', 'e', 'versões', 'antigas', 'dos', 'mesmos', 'caem', 'em', 'desuso', 'quais', 'as', 'implicações', 'disso', 'num', 'siteaplicação', 'desenvolvido', 'segundo', 'essas', 'estratégias', 'é', 'comum', 'dizer', 'que', 'devese', 'evitar', 'retornar', 'códigos', 'de', 'erro', 'em', 'uma', 'função', 'quando', 'alguma', 'operação', 'falha', 'não', 'é', 'difícil', 'perceber', 'que', 'códigos', 'de', 'erros', 'são', 'confusos', 'é', 'um', 'valor', 'válido', 'ou', 'um', 'erro', 'e', 'não', 'fornecem', 'informação', 'relevante', 'a', 'recomendação', 'é', 'utilizar', 'o', 'lançamento', 'de', 'exceções', 'ao', 'invés', 'de', 'códigos', 'de', 'erro', 'por', 'que', 'as', 'exceções', 'são', 'melhores', 'que', 'o', 'retorno', 'de', 'códigos', 'de', 'erro', 'há', 'casos', 'onde', 'esta', 'solução', 'é', 'pior', 'o', 'título', 'obviamente', 'não', 'implica', 'que', 'uma', 'afirmação', 'ou', 'outra', 'esteja', 'correta', 'a', 'dúvida', 'é', 'esta', 'eu', 'já', 'li', 'em', 'vários', 'artigos', 'e', 'livros', 'de', 'designer', 'patterns', 'a', 'expressão', 'acredito', 'que', 'é', 'um', 'tema', 'bastante', 'polêmico', 'devido', 'aos', 'pontos', 'de', 'vista', 'discutidos', 'a', 'meu', 'ver', 'composição', 'e', 'herança', 'são', 'usadas', 'para', 'resolver', 'problemas', 'diferentes', 'certo', 'o', 'exemplo', 'acima', 'é', 'bem', 'coerente', 'pois', 'um', 'carro', 'deve', 'ter', 'um', 'motor', 'entretanto', 'se', 'substituirmos', 'a', 'herança', 'por', 'composição', 'em', 'alguns', 'casos', 'a', 'estrutura', 'fica', 'um', 'pouco', 'estranha', 'por', 'exemplo', 'é', 'estranho', 'pensar', 'que', 'veiculo', 'virá', 'um', 'atributo', 'de', 'carro', 'nesse', 'contexto', 'veiculo', 'serve', 'apenas', 'para', 'a', 'reutilização', 'de', 'código', 'pois', 'não', 'segue', 'uma', 'hierarquia', 'e', 'não', 'agrega', 'polimorfismo', 'desculpem', 'minha', 'ignorância', 'mas', 'as', 'classes', 'herdadas', 'mantém', 'o', 'acoplamento', 'que', 'é', 'necessário', 'entre', 'elas', 'a', 'herança', 'em', 'si', 'certo', 'quais', 'as', 'vantagens', 'de', 'se', 'usar', 'composição', 'em', 'vez', 'de', 'herança', 'é', 'possível', 'especificar', 'um', 'momento', 'certo', 'de', 'usálas', 'seguindo', 'a', 'opinião', 'do', 'título', 'a', 'melhor', 'combinação', 'seria', 'composição', 'interface', 'estou', 'a', 'desenvolver', 'uma', 'aplicação', 'em', 'php', 'e', 'gostaria', 'de', 'saber', 'quando', 'e', 'porque', 'utilizar', 'ou', 'ou', 'ou', 'reparei', 'também', 'que', 'dá', 'para', 'fazer', 'destas', 'formas', 'e', 'funciona', 'qualquer', 'uma', 'das', 'formas', 'está', 'correta', 'estão', 'todas', 'é', 'recomendável', 'usar', 'em', 'projetos', 'em', 'quais', 'situações', 'reflection', 'pode', 'ser', 'usado', 'em', 'c', 'há', 'uma', 'diferença', 'entre', 'a', 'forma', 'que', 'a', 'memória', 'é', 'alocada', 'pelo', 'clr', 'para', 'tipos', 'referência', 'classes', 'e', 'tipos', 'valor', 'estruturas', 'a', 'diferença', 'pelo', 'que', 'sempre', 'ouvi', 'falar', 'seria', 'o', 'fato', 'de', 'tipos', 'valor', 'serem', 'armazenados', 'na', 'pilha', 'e', 'tipos', 'referência', 'no', 'heap', 'ocorre', 'porém', 'que', 'tipos', 'valor', 'também', 'podem', 'ser', 'armazenados', 'no', 'heap', 'através', 'de', 'boxing', 'ou', 'sendo', 'membros', 'de', 'um', 'tipo', 'referência', 'dessa', 'forma', 'a', 'distinção', 'entre', 'tipos', 'valor', 'e', 'tipos', 'referência', 'passa', 'a', 'ser', 'não', 'exatamente', 'o', 'local', 'onde', 'cada', 'qual', 'está', 'armazenado', 'dessa', 'forma', 'como', 'se', 'diferencia', 'de', 'forma', 'mais', 'correta', 'tipos', 'valor', 'e', 'tipos', 'referência', 'como', 'realmente', 'o', 'clr', 'gerencia', 'a', 'alocação', 'de', 'memória', 'para', 'instâncias', 'e', 'classes', 'e', 'estruturas', 'separadamente', 'além', 'disso', 'por', 'quê', 'existe', 'essa', 'distinção', 'afinal', 'classes', 'e', 'estruturas', 'apesar', 'de', 'possuirem', 'diferenças', 'são', 'bem', 'parecidos', 'um', 'com', 'o', 'outro', 'acredito', 'que', 'a', 'maioria', 'dos', 'softwares', 'padronizam', 'o', 'uso', 'da', 'palavra', 'cancelar', 'para', 'um', 'botão', 'cuja', 'a', 'ação', 'é', 'cancelar', 'a', 'operação', 'que', 'está', 'em', 'curso', 'claro', 'que', 'a', 'operação', 'em', 'curso', 'é', 'a', 'mais', 'próxima', 'que', 'está', 'ocorrendo', 'provavelmente', 'é', 'aquela', 'operação', 'responsável', 'pelo', 'mecanismo', 'de', 'confirmação', 'de', 'uma', 'outra', 'operação', 'que', 'provavelmente', 'faz', 'parte', 'de', 'uma', 'regra', 'de', 'negócio', 'por', 'exemplo', 'se', 'você', 'vai', 'cancelar', 'o', 'pagamento', 'já', 'efetuado', 'de', 'um', 'boleto', 'esta', 'operação', 'usa', 'exatamente', 'o', 'termo', 'cancelar', 'porque', 'os', 'usuários', 'do', 'software', 'estão', 'acostumados', 'com', 'ele', 'faz', 'parte', 'do', 'domínio', 'deles', 'e', 'antes', 'de', 'concluir', 'o', 'cancelamento', 'o', 'software', 'pergunta', 'se', 'é', 'isto', 'mesmo', 'que', 'o', 'usuário', 'quer', 'fazer', 'é', 'muito', 'comum', 'o', 'uso', 'de', 'dois', 'botões', 'nesta', 'confirmação', 'um', 'ok', 'e', 'outro', 'cancelar', 'neste', 'caso', 'é', 'para', 'cancelar', 'o', 'o', 'processo', 'de', 'cancelamento', 'e', 'provavelmente', 'isto', 'é', 'o', 'padrão', 'para', 'todo', 'o', 'software', 'mudar', 'isto', 'seria', 'despadronizar', 'o', 'funcionamento', 'todo', 'mundo', 'está', 'acostumado', 'com', 'o', 'ok', 'e', 'cancela', 'para', 'cancelar', 'operações', 'em', 'processo', 'de', 'confirmação', 'mas', 'é', 'bem', 'claro', 'que', 'isto', 'não', 'é', 'intuitivo', 'é', 'fácil', 'cometer', 'um', 'erro', 'confundindo', 'o', 'que', 'você', 'está', 'efetivamente', 'cancelando', 'este', 'problema', 'é', 'bem', 'mais', 'comum', 'do', 'que', 'parece', 'o', 'que', 'fazer', 'nestes', 'casos', 'a', 'intenção', 'da', 'pergunta', 'é', 'ter', 'um', 'conteúdo', 'em', 'português', 'sobre', 'o', 'assunto', 'já', 'que', 'eu', 'tenho', 'informações', 'em', 'inglês', 'se', 'possível', 'gostaria', 'de', 'novas', 'informações', 'também', 'além', 'das', 'contidas', 'lá', 'nem', 'vou', 'pedir', 'um', 'estudo', 'específico', 'sobre', 'o', 'assunto', 'porque', 'não', 'é', 'fácil', 'ter', 'algo', 'assim', 'mas', 'qualquer', 'informação', 'deve', 'ser', 'minimamente', 'fundamentada', 'pode', 'parecer', 'óbvio', 'o', 'que', 'fazer', 'mas', 'em', 'ux', 'todo', 'cuidado', 'é', 'pouco', 'bonus', 'point', 'muitas', 'vezes', 'isto', 'só', 'ocorre', 'por', 'causa', 'de', 'traduções', 'sem', 'contexto', 'ou', 'seja', 'o', 'problema', 'podia', 'não', 'ocorrer', 'no', 'original', 'além', 'de', 'simplesmente', 'testar', 'tudo', 'antes', 'de', 'liberar', 'que', 'é', 'a', 'solução', 'óbvia', 'tem', 'algo', 'a', 'mais', 'que', 'pode', 'ser', 'feito', 'para', 'garantir', 'que', 'o', 'texto', 'não', 'seja', 'confuso', 'tenho', 'lido', 'sobre', 'sass', 'há', 'algum', 'tempo', 'e', 'ele', 'fornece', 'um', 'poderoso', 'conjunto', 'de', 'funcionalidades', 'para', 'o', 'css', 'como', 'variáveis', 'mixins', 'e', 'afins', 'e', 'ao', 'mesmo', 'tempo', 'vejo', 'o', 'termo', 'scss', 'qual', 'a', 'diferença', 'entre', 'ambos', 'são', 'a', 'mesma', 'coisa', 'e', 'possuem', 'as', 'mesmas', 'funcionalidades', 'e', 'apenas', 'recebem', 'nomes', 'diferentes', 'em', 'alguns', 'casos', 'ou', 'são', 'coisas', 'diferentes', 'suponha', 'que', 'implementei', 'uma', 'nova', 'linguagem', 'e', 'que', 'tenho', 'um', 'interpretador', 'funcional', 'escrito', 'em', 'javascript', 'algo', 'como', 'agora', 'gostaria', 'de', 'criar', 'uma', 'interface', 'na', 'qual', 'eu', 'posso', 'inserir', 'o', 'código', 'da', 'minha', 'linguagem', 'em', 'tags', 'de', 'forma', 'que', 'ele', 'funcione', 'exatamente', 'igual', 'a', 'como', 'o', 'javascript', 'opera', 'ou', 'seja', 'ou', 'seja', 'as', 'tags', 'seria', 'executada', 'sequencialmente', 'e', 'poderia', 'intercalar', 'com', 'o', 'javascript', 'sei', 'que', 'posso', 'por', 'um', 'evento', 'no', 'para', 'executar', 'todos', 'os', 'scripts', 'com', 'a', 'minha', 'linguagem', 'já', 'que', 'eles', 'são', 'ignorados', 'pelo', 'navegador', 'mas', 'isso', 'não', 'teria', 'o', 'comportamento', 'que', 'espero', 'do', 'exemplo', 'acima', 'outro', 'caso', 'é', 'se', 'o', 'elemento', 'for', 'inserido', 'via', 'javascript', 'existe', 'como', 'ter', 'um', 'callback', 'que', 'seja', 'chamado', 'sempre', 'que', 'um', 'elemento', 'aparecer', 'no', 'dom', 'outro', 'problema', 'é', 'com', 'o', 'carregamento', 'se', 'a', 'tag', 'vier', 'com', 'o', 'atributo', 'imaginei', 'em', 'carregar', 'via', 'ajax', 'mas', 'com', 'isso', 'os', 'scripts', 'serão', 'executados', 'fora', 'de', 'ordem', 'e', 'não', 'estritamente', 'na', 'ordem', 'em', 'que', 'aparecem', 'como', 'garantir', 'essa', 'ordem', 'se', 'eu', 'tenho', 'o', 'seguinte', 'código', 'e', 'mando', 'para', 'o', 'banco', 'de', 'dados', 'deveria', 'ser', 'possível', 'recuperar', 'esse', 'no', 'banco', 'e', 'mostrar', 'senha', 'de', 'volta', 'num', 'formulário', 'de', 'atualização', 'de', 'informações', 'não', 'isso', 'é', 'possível', 'ou', 'uma', 'string', 'criptografada', 'em', 'não', 'tem', 'pode', 'ser', 'descriptografada', 'onde', 'o', 'código', 'javascript', 'deve', 'ser', 'colocado', 'em', 'um', 'documento', 'html', 'no', 'elemento', 'ou', 'no', 'início', 'ou', 'no', 'final', 'de', 'cada', 'um', 'existe', 'alguma', 'diferença', 'de', 'performance', 'ou', 'qualquer', 'outra', 'relacionada', 'a', 'isso', 'fiz', 'essa', 'pergunta', 'algoritmo', 'para', 'detectar', 'nudez', 'com', 'boa', 'precisão', 'aqui', 'no', 'site', 'e', 'algumas', 'pessoas', 'citaram', 'algumas', 'coisas', 'sobre', 'aprendizado', 'de', 'máquina', 'machine', 'learning', 'pelo', 'que', 'foi', 'dito', 'entre', 'um', 'comentário', 'e', 'outro', 'a', 'respeito', 'do', 'assunto', 'deu', 'a', 'entender', 'bem', 'superficialmente', 'que', 'é', 'uma', 'forma', 'de', 'uma', 'máquina', 'aprender', 'a', 'ter', 'um', 'comportamento', 'a', 'partir', 'de', 'dados', 'prédefinidos', 'gostaria', 'de', 'uma', 'explanação', 'mais', 'detalhada', 'a', 'respeito', 'do', 'assunto', 'o', 'que', 'seria', 'o', 'aprendizado', 'de', 'máquina', 'machine', 'learning', 'ele', 'está', 'relacionado', 'à', 'ou', 'é', 'uma', 'forma', 'de', 'inteligência', 'artificial', 'que', 'exemplo', 'mais', 'simples', 'podemos', 'citar', 'a', 'respeito', 'desse', 'assunto', 'qual', 'a', 'utilidade', 'da', 'palavrachave', 'reservada', 'quando', 'e', 'onde', 'é', 'usada', 'certa', 'vez', 'eu', 'vi', 'um', 'código', 'em', 'c', 'com', 'a', 'seguinte', 'linha', 'o', 'que', 'significa', 'em', 'linguagem', 'c', 'uma', 'dúvida', 'muito', 'comum', 'é', 'por', 'que', 'devemos', 'parar', 'de', 'usar', 'funções', 'do', 'tipo', 'mysql_', 'por', 'exemplo', 'ou', 'vejo', 'que', 'muitas', 'pessoas', 'as', 'usam', 'ou', 'param', 'de', 'usar', 'mas', 'não', 'sabem', 'o', 'real', 'motivo', 'por', 'que', 'elas', 'deveriam', 'parar', 'de', 'ser', 'usadas', 'uma', 'vez', 'que', 'funcionam', 'suponha', 'que', 'eu', 'tenha', 'uma', 'base', 'de', 'dados', 'enorme', 'que', 'não', 'caiba', 'na', 'memória', 'ram', 'quais', 'estratégias', 'para', 'analisar', 'esta', 'base', 'de', 'dados', 'no', 'r', 'uma', 'vez', 'que', 'não', 'posso', 'carregála', 'inteiramente', 'na', 'memória', 'ps', 'a', 'pergunta', 'não', 'trata', 'somente', 'de', 'como', 'fazer', 'o', 'r', 'conversar', 'com', 'uma', 'base', 'de', 'dados', 'relacionalnãorelacional', 'se', 'por', 'exemplo', 'os', 'seus', 'dados', 'estiverem', 'em', 'uma', 'base', 'de', 'dados', 'relacional', 'você', 'ainda', 'assim', 'não', 'pode', 'carregálos', 'todos', 'de', 'uma', 'vez', 'no', 'r', 'para', 'rodar', 'um', 'random', 'forest', 'ou', 'uma', 'regressão', 'por', 'exemplo', 'quais', 'são', 'as', 'características', 'de', 'um', 'código', 'com', 'coesão', 'ou', 'acoplamento', 'até', 'que', 'ponto', 'isso', 'pode', 'gerar', 'problemas', 'futuros', 'bom', 'comecei', 'a', 'desenvolver', 'web', 'a', 'pouco', 'tempo', 'digamos', 'ano', 'e', 'aqui', 'na', 'empresa', 'utilizamos', 'muito', 'e', 'sei', 'que', 'na', 'visão', 'de', 'html', 'os', 'frames', 'estão', 'obsoletos', 'mas', 'ainda', 'vejo', 'muita', 'gente', 'defendendo', 'o', 'uso', 'deles', 'gostaria', 'muito', 'de', 'saber', 'o', 'por', 'que', 'deles', 'serem', 'motivo', 'de', 'tanto', 'debate', 'quais', 'seus', 'benefícios', 'e', 'malefícios', 'na', 'hora', 'de', 'se', 'desenvolver', 'se', 'o', 'está', 'obsoleto', 'qual', 'é', 'o', 'seu', 'substituto', 'na', 'visão', 'de', 'html', 'se', 'para', 'o', 'html', 'os', 'frames', 'estão', 'obsoletos', 'deve', 'ter', 'uma', 'resposta', 'plausível', 'do', 'porque', 'segundo', 'esta', 'definição', 'de', 'dado', 'dados', 'são', 'um', 'conjunto', 'de', 'informações', 'quantitativas', 'qualitativas', 'categóricas', 'ou', 'indefinidas', 'podendo', 'ser', 'organizadas', 'ou', 'não', 'wikipédia', 'seguindo', 'esta', 'linha', 'eu', 'posso', 'assumir', 'que', 'dados', 'e', 'informação', 'são', 'as', 'mesmas', 'coisas', 'entretanto', 'na', 'faculdade', 'meu', 'professor', 'disse', 'que', 'dado', 'não', 'é', 'informação', 'quando', 'o', 'mesmo', 'não', 'é', 'tratado', 'ou', 'quando', 'ele', 'não', 'possui', 'algum', 'significado', 'por', 'exemplo', 'este', 'é', 'um', 'dado', 'e', 'também', 'é', 'um', 'dado', 'porem', 'eu', 'não', 'sei', 'o', 'que', 'esses', 'dados', 'representam', 'como', 'eles', 'poderiam', 'ser', 'considerados', 'informação', 'e', 'é', 'neste', 'ponto', 'que', 'surgi', 'minha', 'dúvida', 'que', 'vem', 'logo', 'abaixo', 'dúvida', 'eu', 'gostaria', 'de', 'saber', 'qual', 'é', 'a', 'diferença', 'entre', 'dado', 'e', 'informação', 'e', 'o', 'que', 'faz', 'com', 'que', 'dados', 'se', 'torne', 'informação', 'quem', 'já', 'criou', 'grandes', 'programas', 'em', 'java', 'sabe', 'de', 'uma', 'dordecabeça', 'muito', 'comum', 'não', 'saber', 'pra', 'onde', 'jogar', 'o', 'fluxo', 'das', 'exceptions', 'muitos', 'resolvem', 'fazer', 'coisas', 'como', 'tratar', 'tudo', 'como', 'exception', 'a', 'superclasse', 'de', 'qualquer', 'exception', 'e', 'quando', 'uma', 'vir', 'dar', 'uma', 'mensagem', 'qualquer', 'ao', 'usuário', 'e', 'jogar', 'a', 'stacktrace', 'num', 'arquivo', 'de', 'log', 'tratar', 'tudo', 'como', 'exception', 'mas', 'dessa', 'vez', 'já', 'que', 'o', 'programa', 'é', 'realmente', 'muito', 'grande', 'e', 'o', 'cliente', 'provavelmente', 'não', 'está', 'olhando', 'para', 'o', 'console', 'imprimir', 'a', 'stacktrace', 'e', 'continuar', 'normalmente', 'avisar', 'o', 'usuário', 'que', 'um', 'erro', 'aconteceu', 'e', 'dar', 'um', 'tratamento', 'genérico', 'entre', 'outros', 'apesar', 'do', 'que', 'eu', 'disse', 'acima', 'estar', 'muito', 'presente', 'no', 'meio', 'profissional', 'essas', 'abordagens', 'acima', 'soam', 'muito', 'pog', 'se', 'essas', 'exceções', 'foram', 'lançadas', 'é', 'porque', 'algo', 'deu', 'errado', 'mas', 'o', 'problema', 'é', 'que', 'numa', 'simples', 'operação', 'pode', 'acontecer', 'tanta', 'coisa', 'que', 'é', 'realmente', 'tedioso', 'dar', 'conta', 'de', 'tudo', 'além', 'do', 'que', 'boa', 'parte', 'dos', 'possíveis', 'erros', 'são', 'extremamente', 'improváveis', 'além', 'do', 'mais', 'o', 'mecanismo', 'de', 'erros', 'do', 'java', 'não', 'é', 'nada', 'preciso', 'uma', 'ioexception', 'foi', 'lançada', 'sim', 'mas', 'na', 'realidade', 'há', 'tantas', 'subclasses', 'que', 'fica', 'difícil', 'saber', 'o', 'que', 'fazer', 'filenotfoundexception', 'eofexception', 'etc', 'se', 'uma', 'ioexception', 'foi', 'lançada', 'como', 'propriamente', 'tratar', 'o', 'erro', 'sem', 'nenhuma', 'especificação', 'do', 'que', 'precisamente', 'aconteceu', 'dentro', 'de', 'tudo', 'isso', 'eu', 'pergunto', 'qual', 'a', 'maneira', 'mais', 'eficiente', 'e', 'elegante', 'de', 'tratar', 'exceptions', 'em', 'java', 'eu', 'estou', 'trabalhando', 'em', 'uma', 'solução', 'que', 'envolve', 'determinar', 'a', 'rota', 'de', 'menor', 'esforço', 'entre', 'dois', 'pontos', 'de', 'um', 'prédio', 'imagine', 'estudantes', 'em', 'seu', 'primeiro', 'dia', 'de', 'universidade', 'e', 'que', 'precisam', 'saber', 'onde', 'fica', 'e', 'como', 'chegar', 'a', 'uma', 'dada', 'sala', 'de', 'aula', 'em', 'um', 'prédio', 'ou', 'como', 'ir', 'da', 'sala', 'atual', 'para', 'a', 'próxima', 'aula', 'basicamente', 'eu', 'tenho', 'uma', 'estrutura', 'cartesiana', 'onde', 'cada', 'andar', 'está', 'mapeado', 'eu', 'também', 'tenho', 'indicadores', 'de', 'pontos', 'de', 'acesso', 'portas', 'rampas', 'para', 'deficientes', 'escadarias', 'e', 'os', 'pontos', 'onde', 'estes', 'pontos', 'se', 'conectam', 'escadaria', 'do', 'térreo', 'se', 'conecta', 'com', 'escadaria', 'do', 'º', 'andar', 'em', 'x', 'y', 'por', 'exemplo', 'mais', 'ou', 'menos', 'como', 'a', 'imagem', 'abaixo', 'onde', 'ciano', 'indica', 'uma', 'escadaria', 'e', 'azulestranho', 'elevadores', 'entre', 'outros', 'marcadores', 'não', 'exibidos', 'para', 'os', 'daltônicos', 'minhas', 'sinceras', 'desculpas', 'e', 'algumas', 'informações', 'adicionais', 'as', 'escadarias', 'estão', 'localizadas', 'na', 'parte', 'superior', 'direita', 'dos', 'mapas', 'os', 'elevadores', 'próximos', 'ao', 'centro', 'eu', 'comecei', 'meu', 'código', 'baseado', 'em', 'uma', 'variante', 'do', 'algoritmo', 'de', 'dijkstra', 'chamado', 'aestrela', 'a', 'que', 'é', 'basicamente', 'o', 'problema', 'do', 'caminho', 'mais', 'curto', 'com', 'algumas', 'otimizações', 'curiosidade', 'vários', 'jogos', 'implementam', 'variantes', 'do', 'a', 'para', 'determinar', 'a', 'rota', 'de', 'personagens', 'em', 'um', 'mapa', 'a', 'é', 'perfeito', 'para', 'determinar', 'rotas', 'em', 'um', 'mesmo', 'andar', 'porém', 'eu', 'tenho', 'que', 'levar', 'em', 'consideração', 'os', 'vários', 'andares', 'cada', 'um', 'com', 'um', 'layout', 'diferente', 'pergunta', 'existe', 'alguma', 'maneira', 'mais', 'apropriada', 'para', 'solucionar', 'este', 'problema', 'ou', 'de', 'forma', 'mais', 'clara', 'obrigado', 'bfavaretto', 'dado', 'o', 'fator', 'adicional', 'de', 'n', 'andares', 'existe', 'algum', 'algoritmo', 'que', 'seja', 'mais', 'indicado', 'do', 'que', 'o', 'a', 'disclaimer', 'imagem', 'isométrica', 'original', 'de', 'dougillustrationscom', 'o', 'que', 'é', 'como', 'se', 'usa', 'e', 'porque', 'usar', 'em', 'vez', 'de', 'encontrei', 'no', 'so', 'en', 'essa', 'pergunta', 'creating', 'meta', 'language', 'with', 'java', 'no', 'qual', 'o', 'usuário', 'tem', 'interesse', 'em', 'criar', 'uma', 'meta', 'linguagem', 'usando', 'java', 'fiz', 'uma', 'breve', 'pesquisa', 'e', 'encontrei', 'no', 'site', 'da', 'microsoft', 'um', 'tópico', 'falando', 'sobre', 'gramáticas', 'linguagens', 'e', 'compiladores', 'um', 'retorno', 'às', 'bases', 'onde', 'fala', 'que', 'em', 'computação', 'uma', 'metalinguagem', 'muito', 'conhecida', 'é', 'a', 'bnf', 'ou', 'backusnaur', 'form', 'o', 'que', 'é', 'uma', 'meta', 'linguagem', 'estou', 'com', 'essa', 'dúvida', 'faz', 'um', 'bom', 'tempo', 'vejo', 'algumas', 'pessoas', 'recomendando', 'o', 'uso', 'do', 'postgresql', 'mas', 'não', 'fica', 'claro', 'as', 'vantagens', 'e', 'desvantagens', 'em', 'relação', 'ao', 'mysql', 'quero', 'definir', 'o', 'banco', 'que', 'irei', 'utilizar', 'em', 'meu', 'projeto', 'e', 'gostaria', 'de', 'saber', 'qual', 'o', 'melhor', 'ao', 'implementar', 'um', 'software', 'de', 'faturação', 'online', 'questionei', 'a', 'empresa', 'responsável', 'se', 'existia', 'a', 'versão', 'rest', 'da', 'api', 'a', 'resposta', 'foi', 'que', 'não', 'utilizavam', 'rest', 'devido', 'a', 'segurança', 'que', 'soap', 'seria', 'mais', 'seguro', 'por', 'se', 'tratar', 'de', 'um', 'software', 'que', 'manipula', 'informações', 'financeiras', 'seria', 'essa', 'uma', 'informação', 'verdadeira', 'se', 'sim', 'em', 'que', 'contexto', 'soap', 'é', 'mais', 'seguro', 'que', 'rest', 'e', 'viceversa', 'uma', 'de', 'uma', 'classe', 'não', 'é', 'a', 'mesma', 'coisa', 'que', 'um', 'qual', 'a', 'real', 'diferença', 'entre', 'eles', 'ou', 'é', 'um', 'sinônimo', 'para', 'ou', 'viceversa', 'ou', 'varia', 'conforme', 'a', 'linguagem', 'de', 'programação', 'o', 'dry', 'significa', 'dont', 'repeat', 'yourself', 'então', 'toda', 'vez', 'que', 'eu', 'ver', 'uma', 'repetição', 'no', 'código', 'não', 'estou', 'fazendo', 'dry', 'o', 'dry', 'é', 'sobre', 'não', 'ter', 'redundâncias', 'como', 'ele', 'deve', 'ser', 'aplicado', 'de', 'forma', 'a', 'podermos', 'ter', 'a', 'administração', 'de', 'um', 'website', 'a', 'ser', 'realizada', 'a', 'partir', 'de', 'um', 'servidor', 'diferente', 'daquele', 'onde', 'o', 'website', 'está', 'alojado', 'surgiu', 'o', 'problema', 'de', 'lidar', 'com', 'imagens', 'remotas', 'problemas', 'comuns', 'verificar', 'se', 'a', 'imagem', 'efectivamente', 'existe', 'antes', 'de', 'criar', 'links', 'para', 'a', 'mesma', 'ao', 'substituir', 'determinada', 'imagem', 'verificar', 'se', 'a', 'anterior', 'existe', 'para', 'que', 'seja', 'eliminada', 'verificar', 'se', 'a', 'imagem', 'carregada', 'para', 'o', 'servidor', 'não', 'está', 'com', 'o', 'mesmo', 'nome', 'de', 'uma', 'imagem', 'já', 'existente', 'normalmente', 'este', 'tipo', 'de', 'operações', 'é', 'realizado', 'com', 'o', 'mas', 'como', 'o', 'mesmo', 'não', 'suporta', 'url', 'apenas', 'caminhos', 'absolutos', 'ou', 'relativos', 'do', 'próprio', 'servidor', 'fica', 'assim', 'inviabilizado', 'para', 'este', 'cenário', 'pergunta', 'utilizando', 'php', 'como', 'posso', 'verificar', 'se', 'uma', 'imagem', 'remota', 'existe', 'já', 'vi', 'esse', 'termo', 'polyfill', 'sendo', 'utilizado', 'várias', 'vezes', 'quando', 'se', 'trata', 'de', 'uma', 'nova', 'função', 'que', 'não', 'está', 'disponível', 'em', 'versões', 'antigas', 'de', 'determinadas', 'linguagens', 'e', 'afins', 'mas', 'afinal', 'polyfill', 'é', 'simplesmente', 'isso', 'ou', 'é', 'mais', 'abrangente', 'qual', 'é', 'o', 'significado', 'da', 'palavra', 'polyfill', 'e', 'a', 'que', 'se', 'refere', 'dentro', 'do', 'diaadia', 'da', 'programação', 'especificamente', 'nota', 'aparentemente', 'esse', 'termo', 'está', 'relacionado', 'diretamente', 'à', 'linguagem', 'javascript', 'mas', 'já', 'vi', 'sendo', 'utilizado', 'em', 'outras', 'linguagens', 'também', 'tenho', 'uma', 'listagem', 'de', 'status', 'que', 'é', 'exibida', 'e', 'cada', 'status', 'tem', 'uma', 'cor', 'atribuída', 'essas', 'cores', 'estão', 'salvas', 'no', 'meu', 'banco', 'de', 'dados', 'em', 'formato', 'hexadecimal', 'exemplo', 'eu', 'estou', 'com', 'um', 'pequeno', 'problema', 'se', 'a', 'cor', 'for', 'escura', 'demais', 'pelo', 'fato', 'da', 'mesma', 'ser', 'usada', 'para', 'a', 'cor', 'do', 'texto', 'tornase', 'ilegível', 'então', 'eu', 'queria', 'saber', 'se', 'tem', 'alguma', 'forma', 'de', 'descobrir', 'se', 'a', 'cor', 'é', 'escura', 'para', 'quando', 'for', 'escura', 'eu', 'determinar', 'que', 'a', 'cor', 'do', 'texto', 'será', 'branco', 'e', 'se', 'for', 'clara', 'preto', 'tem', 'como', 'fazer', 'isso', 'nota', 'a', 'solução', 'pode', 'ser', 'tanto', 'em', 'javascript', 'como', 'em', 'php', 'após', 'muito', 'tempo', 'utilizando', 'a', 'implementação', 'serializable', 'nas', 'minhas', 'classes', 'na', 'plataforma', 'javaandroid', 'descobri', 'o', 'parcelable', 'mas', 'fiquei', 'na', 'dúvida', 'em', 'relação', 'as', 'seguintes', 'questões', 'abaixo', 'quando', 'utilizar', 'escolher', 'entre', 'o', 'parcelable', 'vs', 'serializable', 'como', 'implementar', 'o', 'parcelable', 'e', 'serializable', 'quais', 'são', 'as', 'diferenças', 'de', 'performance', 'das', 'duas', 'implementações', 'sou', 'iniciante', 'no', 'js', 'e', 'procuro', 'entender', 'a', 'teoria', 'só', 'que', 'todos', 'os', 'artigos', 'que', 'encontro', 'sobre', 'dom', 'são', 'demasiadamente', 'científicos', 'não', 'haveria', 'uma', 'forma', 'mais', 'simples', 'de', 'explicar', 'isso', 'para', 'um', 'leigo', 'tenho', 'um', 'objeto', 'chamado', 'e', 'gostaria', 'de', 'criar', 'e', 'armazenar', 'uma', 'cópia', 'desse', 'objeto', 'como', 'objetos', 'vetores', 'funções', 'e', 'expressões', 'regulares', 'são', 'considerados', 'objetos', 'não', 'consigo', 'fazer', 'uma', 'cópia', 'apenas', 'atribuindo', 'esse', 'objeto', 'a', 'uma', 'outra', 'variável', 'ex', 'pois', 'por', 'serem', 'objetos', 'apenas', 'uma', 'referência', 'é', 'passada', 'para', 'a', 'outra', 'variável', 'gostaria', 'de', 'saber', 'se', 'existe', 'algum', 'jeito', 'de', 'fazer', 'um', 'cópia', 'de', 'um', 'objeto', 'seja', 'lá', 'qual', 'for', 'o', 'seu', 'tipo', 'objetos', 'vetores', 'funções', 'ou', 'expressões', 'regulares', 'frequentemente', 'precisamos', 'aceitar', 'a', 'entrada', 'de', 'senhas', 'por', 'parte', 'dos', 'usuários', 'em', 'geral', 'não', 'podemos', 'aceitar', 'uma', 'senha', 'qualquer', 'que', 'pode', 'ser', 'facilmente', 'atacada', 'provavelmente', 'por', 'brute', 'force', 'força', 'bruta', 'ou', 'técnicas', 'semelhantes', 'é', 'óbvio', 'que', 'a', 'senha', 'deveria', 'ter', 'um', 'tamanho', 'mínimo', 'deveria', 'ter', 'variedade', 'de', 'caracteres', 'não', 'pode', 'ser', 'semelhante', 'ao', 'nome', 'de', 'usuário', 'e', 'quem', 'sabe', 'outros', 'dados', 'eu', 'imagino', 'que', 'a', 'força', 'da', 'senha', 'não', 'é', 'medida', 'por', 'uma', 'simples', 'verificação', 'se', 'existe', 'todos', 'esses', 'critérios', 'todos', 'juntos', 'podem', 'tornar', 'a', 'senha', 'muito', 'segura', 'mas', 'excessivamente', 'difícil', 'de', 'ser', 'determinada', 'por', 'um', 'humano', 'mas', 'como', 'calcular', 'a', 'força', 'existe', 'algum', 'algoritmo', 'padrão', 'conhecido', 'que', 'estabeleça', 'isto', 'se', 'não', 'existe', 'o', 'que', 'deve', 'ser', 'observado', 'por', 'que', 'criar', 'parâmetros', 'para', 'cada', 'campo', 'que', 'será', 'atualizado', 'ajuda', 'a', 'evitar', 'sql', 'injection', 'exemplo', 'pergunta', 'gostaria', 'de', 'saber', 'como', 'transformar', 'dígitos', 'numéricos', 'em', 'números', 'por', 'extenso', 'da', 'seguinte', 'maneira', 'como', 'demonstra', 'o', 'exemplo', 'abaixo', 'exemplo', 'retorna', 'zero', 'retorna', 'cinco', 'retorna', 'dois', 'mil', 'e', 'quatorze', 'retorna', 'mil', 'e', 'trinta', 'e', 'quatro', 'retorna', 'dois', 'mil', 'quinhentos', 'e', 'sessenta', 'e', 'seis', 'retorna', 'setenta', 'e', 'oito', 'mil', 'trezentos', 'e', 'noventa', 'e', 'um', 'retorna', 'novecentos', 'e', 'noventa', 'e', 'nove', 'mil', 'novecentos', 'e', 'noventa', 'e', 'nove', 'retorna', 'um', 'bilhão', 'estou', 'estudando', 'javascript', 'e', 'vi', 'algumas', 'explicações', 'que', 'me', 'deixaram', 'com', 'dúvidas', 'aqui', 'no', 'stackoverflow', 'vi', 'várias', 'perguntas', 'sobre', 'a', 'possibilidade', 'de', 'se', 'criar', 'um', 'classe', 'abstrata', 'em', 'javascript', 'porém', 'minha', 'dúvida', 'é', 'a', 'seguinte', 'é', 'possível', 'criar', 'uma', 'classe', 'em', 'javascript', 'estou', 'perguntando', 'isso', 'porque', 'estou', 'usando', 'como', 'guia', 'o', 'site', 'developermozilla', 'encontrei', 'a', 'seguinte', 'informação', 'a', 'javascript', 'é', 'uma', 'linguagem', 'dinâmica', 'orientada', 'a', 'objetos', 'tem', 'tipos', 'e', 'operadores', 'objetos', 'e', 'métodos', 'sua', 'sintaxe', 'vem', 'das', 'linguagens', 'java', 'e', 'c', 'por', 'isso', 'tantas', 'estruturas', 'dessas', 'linguagens', 'se', 'aplicam', 'a', 'javascript', 'também', 'uma', 'das', 'principais', 'diferenças', 'é', 'que', 'o', 'javascript', 'não', 'tem', 'classes', 'em', 'vez', 'disso', 'a', 'funcionalidade', 'de', 'classe', 'é', 'realizada', 'por', 'protótipos', 'de', 'objetos', 'a', 'outra', 'diferença', 'principal', 'é', 'que', 'as', 'funções', 'são', 'objetos', 'dando', 'as', 'funções', 'a', 'capacidade', 'para', 'armazenar', 'código', 'executável', 'e', 'serem', 'passadas', 'como', 'parâmetro', 'para', 'qualquer', 'outro', 'objeto', 'a', 'afirmação', 'em', 'negrito', 'me', 'deixou', 'com', 'essa', 'dúvida', 'pois', 'se', 'trata', 'de', 'uma', 'fonte', 'confiável', 'para', 'estudos', 'o', 'que', 'entendi', 'é', 'que', 'não', 'existem', 'classes', 'mas', 'existem', 'elementos', 'que', 'podem', 'ser', 'usados', 'como', 'classes', 'não', 'sei', 'se', 'essa', 'é', 'a', 'interpretação', 'correta', 'e', 'mais', 'esse', 'mesmo', 'texto', 'diz', 'que', 'o', 'javascript', 'é', 'orientado', 'a', 'objetos', 'então', 'tentei', 'entender', 'o', 'porque', 'da', 'afirmação', 'da', 'não', 'existência', 'de', 'classes', 'estaria', 'por', 'ali', 'vejo', 'muitos', 'colegas', 'de', 'trabalho', 'e', 'profissionais', 'afora', 'que', 'dizem', 'que', 'instanciaram', 'classes', 'em', 'javascript', 'usaram', 'tal', 'classe', 'para', 'tal', 'propósito', 'em', 'javascript', 'com', 'isso', 'quero', 'entender', 'é', 'correto', 'afirmar', 'que', 'existem', 'classes', 'em', 'javascript', 'ou', 'não', 'venho', 'navegando', 'em', 'vários', 'sites', 'que', 'em', 'seus', 'cabeçalhos', 'mostram', 'mensagens', 'como', 'este', 'site', 'utiliza', 'cookies', 'para', 'melhorar', 'a', 'sua', 'navegação', 'ao', 'navegar', 'no', 'site', 'estará', 'a', 'consentir', 'a', 'sua', 'utilização', 'tudo', 'bem', 'que', 'os', 'cookies', 'são', 'armazenados', 'na', 'máquina', 'do', 'usuário', 'mas', 'é', 'realmente', 'necessário', 'esses', 'avisos', 'existe', 'outro', 'motivo', 'por', 'trás', 'não', 'achei', 'quase', 'nada', 'relacionado', 'na', 'internet', 'gostaria', 'de', 'saber', 'qual', 'a', 'diferença', 'e', 'quando', 'devo', 'utilizar', 'stateful', 'stateless', 'a', 'microsoft', 'anunciou', 'um', 'novo', 'net', 'core', 'que', 'raios', 'é', 'isto', 'dizem', 'que', 'o', 'elemento', 'deve', 'ser', 'usado', 'para', 'ênfase', 'e', 'o', 'para', 'ênfases', 'ainda', 'mais', 'intensas', 'isso', 'parece', 'bastante', 'confuso', 'quando', 'e', 'por', 'que', 'usar', 'cada', 'um', 'deles', 'e', 'e', 'ainda', 'devem', 'ser', 'usados', 'em', 'alguma', 'situação', 'eles', 'foram', 'substituídos', 'por', 'e', 'estou', 'tentando', 'implementar', 'o', 'da', 'google', 'no', 'meu', 'site', 'e', 'não', 'consigo', 'fazer', 'a', 'integração', 'utilizo', 'a', 'linguagem', 'como', 'posso', 'fazer', 'para', 'que', 'o', 'funcione', 'e', 'realize', 'a', 'validação', 'antes', 'enviar', 'os', 'dados', 'do', 'meu', 'formulário', 'fonte', 'e', 'documentação', 'do', 'google', 'recaptcha', 'olá', 'busquei', 'por', 'essa', 'dúvida', 'nas', 'perguntas', 'porém', 'não', 'a', 'consegui', 'encontrar', 'pois', 'bem', 'gostaria', 'de', 'fazer', 'com', 'que', 'um', 'campo', 'tivesse', 'as', 'máscaras', 'de', 'cpf', 'e', 'cnpj', 'dependendo', 'da', 'quantidade', 'de', 'caracteres', 'digitados', 'aqui', 'não', 'dá', 'totalmente', 'certo', 'pois', 'com', 'vários', 'testes', 'que', 'fiz', 'aqui', 'esse', 'meu', 'código', 'não', 'deu', 'resultado', 'que', 'preciso', 'não', 'sei', 'se', 'devo', 'apenas', 'alterar', 'ou', 'se', 'preciso', 'fazer', 'outro', 'segue', 'o', 'código', 'obs', 'estou', 'usando', 'esse', 'plugin', 'na', 'empresa', 'onde', 'trabalho', 'atualmente', 'somos', 'fortemente', 'encorajados', 'a', 'evitar', 'programação', 'orientada', 'a', 'objetos', 'tanto', 'para', 'projetos', 'antigos', 'como', 'para', 'projetos', 'novos', 'para', 'projetos', 'antigos', 'concordo', 'que', 'seja', 'uma', 'má', 'pratica', 'começar', 'a', 'inserir', 'orientação', 'a', 'objetos', 'em', 'um', 'projeto', 'totalmente', 'estrutural', 'porém', 'para', 'projetos', 'novos', 'acredito', 'ser', 'mais', 'produtivo', 'utilizar', 'oop', 'questionando', 'a', 'situação', 'recebi', 'como', 'resposta', 'da', 'empresa', 'orientação', 'a', 'objetos', 'é', 'pesada', 'e', 'lenta', 'portanto', 'recomendamos', 'não', 'utilizar', 'qual', 'o', 'overhead', 'de', 'se', 'utilizar', 'orientação', 'a', 'objetos', 'vs', 'programação', 'procedural', 'considerando', 'que', 'boas', 'práticas', 'de', 'programação', 'são', 'seguidas', 'é', 'mais', 'produtivo', 'utilizar', 'orientação', 'a', 'objetos', 'ou', 'programação', 'procedural', 'na', 'especificação', 'do', 'protocolo', 'http', 'mais', 'precisamente', 'na', 'rfc', 'é', 'previsto', 'a', 'possibilidade', 'de', 'existir', 'entidades', 'intermediárias', 'entre', 'o', 'user', 'agent', 'ua', 'entidade', 'que', 'efetua', 'a', 'requisição', 'http', 'e', 'o', 'origin', 'server', 'o', 'entidade', 'que', 'responderá', 'à', 'requisição', 'as', 'setas', 'para', 'a', 'direita', 'indicam', 'o', 'trajeto', 'da', 'requisição', 'http', 'e', 'as', 'setas', 'para', 'a', 'esquerda', 'indicam', 'o', 'trajeto', 'da', 'resposta', 'http', 'as', 'entidades', 'a', 'b', 'e', 'c', 'são', 'as', 'entidades', 'intermediárias', 'que', 'se', 'comunicam', 'entre', 'si', 'com', 'o', 'user', 'agent', 'ou', 'origin', 'server', 'através', 'de', 'quatro', 'conexões', 'http', 'as', 'três', 'entidades', 'intermediárias', 'descritas', 'são', 'proxy', 'gateway', 'tunnel', 'sendo', 'que', 'cada', 'entidade', 'intermediária', 'pode', 'operar', 'como', 'um', 'origin', 'server', 'proxy', 'gateway', 'ou', 'tunnel', 'dependendo', 'da', 'natureza', 'da', 'requisição', 'http', 'que', 'será', 'por', 'ela', 'tratada', 'o', 'que', 'eu', 'gostaria', 'de', 'saber', 'é', 'qual', 'a', 'diferença', 'entre', 'os', 'três', 'tipos', 'de', 'entidades', 'intermediárias', 'e', 'quando', 'cada', 'um', 'é', 'utilizado', 'na', 'prática', 'também', 'se', 'é', 'possível', 'a', 'existência', 'de', 'apenas', 'uma', 'entidade', 'intermediária', 'ou', 'se', 'são', 'relacionadas', 'a', 'ponto', 'de', 'só', 'existirem', 'mutuamente', 'pergunta', 'de', 'escovação', 'de', 'bit', 'mas', 'estava', 'eu', 'lendo', 'um', 'artigo', 'sobre', 'javascript', 'em', 'que', 'diz', 'que', 'divisão', 'é', 'mais', 'lenta', 'que', 'fazer', 'multiplicações', 'e', 'por', 'exemplo', 'recomendava', 'mudar', 'o', 'código', 'abaixo', 'por', 'esse', 'que', 'seria', 'mais', 'rápido', 'isso', 'acontece', 'em', 'qualquer', 'linguagem', 'e', 'por', 'que', 'multiplicar', 'é', 'mais', 'performático', 'que', 'dividir', 'eis', 'o', 'link', 'do', 'artigo', 'em', 'inglês', 'que', 'mencionei', 'na', 'seção', 'math', 'httpjessefreemancomgamedevintrotoprogrammingforgameswithjavascript', 'estou', 'tentando', 'aplicar', 'um', 'estilo', 'ao', 'meu', 'elemento', 'e', 'definir', 'a', 'importância', 'dele', 'desta', 'maneira', 'porém', 'não', 'funciona', 'qual', 'seria', 'a', 'maneira', 'correta', 'vejam', 'esses', 'testes', 'que', 'fiz', 'no', 'console', 'do', 'navegador', 'porque', 'exatamente', 'isso', 'acontece', 'segundo', 'esta', 'definição', 'do', 'priberampt', 'um', 'número', 'capicua', 'é', 'número', 'que', 'se', 'lê', 'igualmente', 'da', 'direita', 'para', 'a', 'esquerda', 'ou', 'viceversa', 'e', 'ao', 'qual', 'se', 'atribui', 'boa', 'sorte', 'seguindo', 'esse', 'raciocínio', 'capicua', 'seriam', 'etc', 'como', 'descobrir', 'entre', 'números', 'de', 'dígitos', 'os', 'que', 'são', 'capicua', 'apenas', 'utilizando', 'cálculos', 'matemáticos', 'removendo', 'números', 'que', 'possuam', 'todos', 'os', 'dígitos', 'idênticos', 'como', 'etc', 'ps', 'não', 'importa', 'a', 'linguagem', 'somente', 'a', 'lógica', 'para', 'se', 'desenvolver', 'uma', 'forma', 'de', 'resolver', 'isso', 'qual', 'a', 'diferença', 'entre', 'e', 'ambas', 'são', 'muito', 'parecidas', 'mas', 'em', 'qual', 'caso', 'é', 'melhor', 'usar', 'uma', 'ou', 'a', 'outra', 'gostaria', 'de', 'código', 'de', 'exemplos', 'durante', 'a', 'manutenção', 'de', 'um', 'sistema', 'legado', 'reparei', 'na', 'seguinte', 'procedure', 'a', 'primeira', 'coisa', 'que', 'me', 'chamou', 'atenção', 'foi', 'a', 'condição', 'where', 'por', 'que', 'o', 'programador', 'que', 'escreveu', 'essa', 'procedure', 'usou', 'essa', 'condição', 'o', 'que', 'nos', 'ensinam', 'sobre', 'herança', 'a', 'esmagadora', 'maioria', 'dos', 'materiais', 'que', 'tratam', 'sobre', 'herança', 'de', 'classes', 'a', 'exemplificam', 'como', 'um', 'mero', 'mecanismo', 'de', 'agrupamento', 'de', 'atributos', 'ou', 'ações', 'comuns', 'no', 'máximo', 'como', 'um', 'meio', 'de', 'representar', 'uma', 'hierarquia', 'análoga', 'a', 'algo', 'que', 'observamos', 'na', 'vida', 'real', 'como', 'amostra', 'veja', 'esta', 'apostila', 'da', 'unicamp', 'e', 'esta', 'outra', 'da', 'caelum', 'o', 'mesmo', 'se', 'aplica', 'às', 'aulas', 'que', 'assisti', 'sobre', 'o', 'assunto', 'ainda', 'lembro', 'quando', 'aprendi', 'que', 'a', 'orientação', 'a', 'objetos', 'possibilita', 'representarmos', 'o', 'que', 'vemos', 'na', 'vida', 'real', 'a', 'herança', 'é', 'comumente', 'definida', 'como', 'um', 'relacionamento', 'do', 'tipo', 'é', 'um', 'exemplos', 'clássicos', 'como', 'e', 'estendem', 'ilustram', 'isso', 'o', 'problema', 'é', 'que', 'quando', 'aprendemos', 'dessa', 'forma', 'a', 'nossa', 'preocupação', 'recai', 'em', 'classificar', 'os', 'objetos', 'da', 'vida', 'real', 'para', 'agrupar', 'em', 'hierarquias', 'e', 'então', 'procurar', 'atributos', 'e', 'ações', 'comuns', 'para', 'colocarmos', 'na', 'superclasse', 'posso', 'dizer', 'que', 'passei', 'muito', 'tempo', 'usando', 'herança', 'como', 'forma', 'de', 'agrupar', 'coisas', 'parecidas', 'e', 'evitar', 'repetição', 'de', 'código', 'não', 'considerando', 'pontos', 'importantes', 'como', 'acoplamento', 'e', 'coesão', 'herança', 'na', 'prática', 'contudo', 'parece', 'que', 'na', 'prática', 'isso', 'simplesmente', 'não', 'funciona', 'tão', 'bem', 'como', 'na', 'teoria', 'como', 'exemplificado', 'na', 'questão', 'prefira', 'composição', 'em', 'vez', 'de', 'herança', 'a', 'excelente', 'resposta', 'aceita', 'diz', 'somente', 'use', 'herança', 'se', 'o', 'subtipo', 'puder', 'perfeitamente', 'substituir', 'o', 'tipo', 'base', 'essa', 'afirmação', 'que', 'considero', 'correta', 'nos', 'leva', 'à', 'consequência', 'lógica', 'que', 'de', 'que', 'o', 'exemplo', 'dos', 'bichos', 'não', 'representa', 'adequadamente', 'o', 'modo', 'como', 'devemos', 'encarar', 'a', 'herança', 'é', 'um', 'mas', 'cada', 'exibe', 'um', 'comportamento', 'muito', 'distinto', 'dos', 'demais', 'não', 'é', 'exatamente', 'uma', 'especialização', 'de', 'ou', 'seja', 'um', 'que', 'tem', 'alguma', 'coisa', 'a', 'mais', 'ele', 'é', 'um', 'tipo', 'único', 'de', 'que', 'dificilmente', 'pode', 'ser', 'substituído', 'por', 'outro', 'sem', 'impacto', 'como', 'foi', 'explicado', 'na', 'resposta', 'citada', 'usar', 'a', 'herança', 'simplesmente', 'para', 'exibir', 'um', 'comportamento', 'comum', 'ou', 'reaproveitar', 'código', 'não', 'é', 'em', 'geral', 'uma', 'solução', 'adequada', 'para', 'isso', 'existem', 'interfaces', 'e', 'delegação', 'conclusão', 'enfim', 'minha', 'dúvida', 'é', 'existem', 'situações', 'onde', 'seria', 'apropriado', 'usar', 'a', 'herança', 'simplesmente', 'para', 'agrupar', 'objetos', 'com', 'comportamentos', 'e', 'atributos', 'comuns', 'ou', 'ainda', 'para', 'criar', 'hierarquias', 'de', 'objetos', 'que', 'representam', 'a', 'vida', 'real', 'se', 'possível', 'dê', 'um', 'exemplo', 'pergunta', 'bônus', 'será', 'que', 'vale', 'a', 'pena', 'começar', 'a', 'utilizar', 'outros', 'exemplos', 'para', 'herança', 'e', 'não', 'deixar', 'que', 'as', 'pessoas', 'descubram', 'por', 'si', 'mesmas', 'que', 'na', 'prática', 'a', 'coisa', 'não', 'é', 'bem', 'assim', 'atualização', 'considere', 'apropriado', 'ou', 'certo', 'o', 'uso', 'da', 'herança', 'que', 'beneficie', 'o', 'sistema', 'a', 'longo', 'prazo', 'isto', 'é', 'evite', 'problemas', 'de', 'manutenção', 'e', 'evolução', 'do', 'produto', 'por', 'exemplo', 'usar', 'herança', 'para', 'uma', 'hierarquia', 'pode', 'causar', 'um', 'grande', 'problema', 'se', 'os', 'filhos', 'dessa', 'hierarquia', 'passarem', 'a', 'ter', 'características', 'diferentes', 'dos', 'pais', 'e', 'o', 'código', 'polimórfico', 'começar', 'a', 'quebrar', 'ou', 'ficar', 'com', 'vários', 's', 'para', 'tratar', 'casos', 'específicos', 'por', 'esmagadora', 'maioria', 'quero', 'dizer', 'quase', 'todos', 'os', 'livros', 'apostilas', 'e', 'aulas', 'que', 'conheço', 'note', 'que', 'não', 'estou', 'dizendo', 'que', 'elas', 'estão', 'totalmente', 'erradas', 'mas', 'que', 'transmitem', 'um', 'aspecto', 'de', 'forma', 'equivocada', 'observação', 'eu', 'entendo', 'que', 'muitos', 'podem', 'considerar', 'esta', 'questão', 'baseada', 'em', 'opiniões', 'se', 'acharem', 'que', 'ela', 'não', 'é', 'adequada', 'ao', 'formato', 'do', 'site', 'comentem', 'que', 'eu', 'ajustarei', 'ou', 'excluirei', 'conforme', 'o', 'caso', 'dizem', 'que', 'a', 'computação', 'quântica', 'irá', 'revolucionar', 'a', 'computação', 'caso', 'seja', 'implementada', 'de', 'maneira', 'bem', 'sucedida', 'por', 'que', 'isso', 'quais', 'as', 'principais', 'diferenças', 'entre', 'um', 'computador', 'quântico', 'e', 'um', 'computador', 'convencional', 'que', 'tornariam', 'o', 'primeiro', 'muito', 'mais', 'rápido', 'às', 'vezes', 'parece', 'que', 'estamos', 'falamos', 'da', 'mesma', 'coisa', 'claro', 'não', 'é', 'quando', 'estes', 'conceitos', 'estão', 'sendo', 'utilizados', 'qual', 'é', 'a', 'real', 'diferença', 'entre', 'eles', 'quando', 'utilizar', 'um', 'ou', 'outro', 'para', 'um', 'único', 'script', 'a', 'ordem', 'de', 'cargaexecução', 'na', 'presença', 'ou', 'não', 'dos', 'atributos', 'e', 'é', 'clara', 'sem', 'nada', 'carrega', 'e', 'executa', 'imediatamente', 'com', 'carrega', 'em', 'paralelo', 'e', 'executa', 'ao', 'final', 'da', 'carga', 'com', 'carrega', 'em', 'paralelo', 'e', 'executa', 'ao', 'final', 'da', 'renderização', 'minha', 'dúvida', 'é', 'o', 'que', 'acontece', 'quando', 'há', 'mais', 'de', 'um', 'script', 'na', 'página', 'em', 'especial', 'se', 'o', 'uso', 'ou', 'não', 'dos', 'atributos', 'acima', 'for', 'combinado', 'pelo', 'meu', 'entendimento', 'podese', 'fazer', 'algumas', 'afirmações', 'com', 'certa', 'segurança', 'corrijamme', 'se', 'eu', 'estiver', 'enganado', 'e', 'executará', 'antes', 'de', 'f', 'a', 'e', 'b', 'executarão', 'depois', 'de', 'e', 'e', 'f', 'c', 'e', 'd', 'podem', 'executar', 'antes', 'ou', 'depois', 'de', 'e', 'e', 'f', 'inclusive', 'entre', 'um', 'e', 'outro', 'd', 'pode', 'executar', 'antes', 'de', 'c', 'se', 'sua', 'carga', 'for', 'mais', 'rápida', 'mas', 'para', 'outras', 'eu', 'não', 'sei', 'a', 'resposta', 'b', 'pode', 'executar', 'antes', 'de', 'a', 'se', 'sua', 'carga', 'for', 'mais', 'rápida', 'ou', 'o', 'impõe', 'uma', 'ordem', 'aos', 'demais', 'scripts', 'também', 'com', 'se', 'd', 'for', 'carregado', 'enquanto', 'e', 'está', 'carregando', 'mas', 'não', 'executando', 'ele', 'executará', 'antes', 'de', 'e', 'ou', 'não', 'ie', 'quando', 'a', 'carga', 'de', 'um', 'script', 'síncrono', 'começou', 'é', 'preciso', 'esperar', 'sua', 'execução', 'terminar', 'para', 'executar', 'um', 'script', 'assíncrono', 'c', 'e', 'd', 'podem', 'executar', 'depois', 'de', 'a', 'e', 'b', 'em', 'outras', 'palavras', 'se', 'a', 'carga', 'de', 'c', 'por', 'exemplo', 'demorar', 'demais', 'e', 'tanto', 'a', 'renderização', 'da', 'página', 'quanto', 'a', 'carga', 'de', 'a', 'e', 'b', 'concluírem', 'primeiro', 'estes', 'podem', 'executar', 'imediatamente', 'ou', 'é', 'necessário', 'que', 'todos', 'os', 'scripts', 'executem', 'antes', 'que', 'qualquer', 'script', 'execute', 'gostaria', 'de', 'saber', 'se', 'possível', 'o', 'que', 'está', 'especificado', 'em', 'relação', 'à', 'ordem', 'de', 'execução', 'dos', 'scripts', 'e', 'o', 'que', 'pode', 'variar', 'com', 'a', 'implementação', 'sem', 'necessidade', 'de', 'fazer', 'testes', 'embora', 'estes', 'sejam', 'bemvindos', 'como', 'complemento', 'como', 'exportar', 'uma', 'página', 'html', 'para', 'um', 'ficheiro', 'pdf', 'tendo', 'um', 'documento', 'padrão', 'onde', 'possa', 'mudar', 'variáveis', 'dentro', 'desse', 'template', 'para', 'depois', 'exportar', 'essa', 'página', 'para', 'um', 'ficheiro', 'pdf', 'em', 'formato', 'a', 'sem', 'estragar', 'o', 'layout', 'exemplo', 'de', 'código', 'eu', 'estava', 'conversando', 'com', 'alguns', 'amigos', 'programadores', 'quando', 'eu', 'ouvi', 'o', 'termo', 'normalização', 'de', 'banco', 'de', 'dados', 'embora', 'eu', 'já', 'tenha', 'ouvido', 'esse', 'termo', 'algumas', 'vezes', 'antes', 'não', 'consegui', 'compreender', 'do', 'que', 'se', 'tratava', 'surgiram', 'algumas', 'dúvidas', 'o', 'que', 'significa', 'esse', 'termo', 'qualquer', 'tipo', 'de', 'banco', 'de', 'dados', 'seja', 'sql', 'ou', 'nosql', 'pode', 'usar', 'essa', 'tal', 'normalização', 'outra', 'coisa', 'é', 'que', 'ao', 'pesquisar', 'na', 'internet', 'encontrei', 'os', 'termos', 'normalização', 'de', 'dados', 'e', 'normalização', 'de', 'banco', 'dados', 'existe', 'alguma', 'diferença', 'entre', 'as', 'duas', 'coisas', 'normalização', 'de', 'dados', 'e', 'normalização', 'de', 'banco', 'dados', 'existe', 'o', 'termo', 'correto', 'ou', 'pode', 'ser', 'falado', 'das', 'duas', 'formas', 'não', 'quero', 'mais', 'passar', 'vergonha', 'ao', 'ouvir', 'um', 'termo', 'desses', 'numa', 'reunião', 'e', 'ficar', 'sem', 'entender', 'a', 'ideia', 'dos', 'microsserviços', 'é', 'boa', 'mas', 'não', 'entendo', 'bem', 'como', 'resolver', 'certos', 'problemas', 'talvez', 'o', 'problema', 'seja', 'como', 'ela', 'é', 'vendida', 'não', 'vejo', 'muito', 'se', 'falar', 'quando', 'usar', 'ou', 'quando', 'evitar', 'parece', 'que', 'tudo', 'pode', 'usar', 'a', 'tecnologia', 'sem', 'muitos', 'sobressaltos', 'mas', 'nada', 'é', 'simples', 'e', 'universal', 'assim', 'a', 'aplicação', 'em', 'si', 'é', 'tranquilo', 'entender', 'mas', 'queria', 'entender', 'sobre', 'banco', 'de', 'dados', 'em', 'leitura', 'não', 'parece', 'muito', 'complicado', 'é', 'possível', 'pedir', 'dados', 'de', 'bases', 'diferentes', 'e', 'juntar', 'tudo', 'dá', 'para', 'questionar', 'se', 'isto', 'é', 'o', 'mais', 'eficiente', 'mas', 'não', 'vejo', 'complicadores', 'muito', 'fortes', 'pelo', 'menos', 'não', 'mais', 'que', 'os', 'complicadores', 'que', 'microsserviços', 'trazem', 'eu', 'entendo', 'que', 'certas', 'atividades', 'de', 'uma', 'solução', 'são', 'isoladas', 'e', 'podem', 'ser', 'um', 'microsserviço', 'fácil', 'mas', 'outras', 'me', 'parecem', 'integradas', 'demais', 'para', 'poderem', 'ser', 'separadas', 'mais', 'ainda', 'o', 'que', 'pode', 'parecer', 'se', 'mostrar', 'ótimo', 'isoladamente', 'mas', 'depois', 'parece', 'um', 'caso', 'que', 'precisa', 'de', 'uma', 'integração', 'especificamente', 'penso', 'em', 'transações', 'qual', 'é', 'a', 'solução', 'quando', 'você', 'faz', 'uma', 'venda', 'e', 'deve', 'atualizar', 'diversas', 'tabelas', 'de', 'dados', 'tudo', 'tem', 'que', 'estar', 'em', 'um', 'microsserviço', 'único', 'mas', 'aí', 'tem', 'uma', 'série', 'de', 'tabelas', 'que', 'precisam', 'estar', 'em', 'uma', 'outra', 'transação', 'que', 'envolve', 'outras', 'tabelas', 'aí', 'me', 'parece', 'que', 'todas', 'as', 'tabelas', 'deveriam', 'estar', 'juntas', 'mesmo', 'que', 'nem', 'todas', 'se', 'relacionem', 'diretamente', 'ou', 'seja', 'você', 'quebra', 'a', 'aplicação', 'em', 'serviços', 'específicos', 'mas', 'continua', 'tendo', 'um', 'ponto', 'único', 'de', 'falha', 'e', 'manutenção', 'tem', 'suas', 'vantagens', 'mas', 'não', 'é', 'tão', 'grande', 'assim', 'uma', 'solução', 'seria', 'criar', 'um', 'sistema', 'de', 'transações', 'na', 'aplicação', 'que', 'garante', 'o', 'acid', 'em', 'diversas', 'bases', 'de', 'dados', 'mas', 'isto', 'é', 'bem', 'complicado', 'será', 'que', 'só', 'funciona', 'onde', 'o', 'cap', 'é', 'admitidamente', 'viável', 'enfim', 'tem', 'alguma', 'solução', 'para', 'micronizar', 'o', 'banco', 'de', 'dados', 'quando', 'o', 'acid', 'é', 'necessário', 'só', 'funciona', 'com', 'algumas', 'tecnologias', 'de', 'banco', 'de', 'dados', 'que', 'suportem', 'isso', 'estou', 'enganado', 'em', 'alguma', 'suposição', 'minha', 'o', 'que', 'são', 'exceções', 'quais', 'são', 'suas', 'principais', 'causas', 'que', 'métodospráticas', 'podem', 'ser', 'utilizadas', 'para', 'se', 'prevenir', 'estou', 'interessado', 'em', 'criar', 'sites', 'com', 'animação', 'comandada', 'pelo', 'scroll', 'ex', 'kano', 'onde', 'os', 'conteúdos', 'vão', 'sendo', 'animados', 'e', 'substituídos', 'conforme', 'o', 'rolamento', 'da', 'página', 'quais', 'são', 'as', 'técnicas', 'para', 'facilitar', 'esse', 'tipo', 'de', 'programação', 'quando', 'escrevo', 'código', 'em', 'java', 'e', 'tento', 'tratar', 'excepções', 'costumo', 'usar', 'simplesmente', 'a', 'superclasse', 'não', 'ligando', 'à', 'classe', 'específica', 'e', 'costuma', 'resultar', 'há', 'algum', 'inconveniente', 'em', 'fazer', 'isto', 'tenho', 'uma', 'tabela', 'por', 'exemplo', 'e', 'gostaria', 'de', 'deletar', 'todas', 'as', 'pessoas', 'acima', 'de', 'anos', 'com', 'o', 'script', 'abaixo', 'faço', 'isso', 'o', 'problema', 'que', 'existe', 'mais', 'de', 'milhões', 'de', 'registro', 'na', 'tabela', 'com', 'pessoas', 'acima', 'de', 'anos', 'e', 'como', 'o', 'banco', 'esta', 'em', 'produção', 'ao', 'fazer', 'isso', 'vou', 'travar', 'todos', 'os', 'usuários', 'existe', 'uma', 'forma', 'mais', 'eficiente', 'de', 'resolver', 'este', 'problema', 'estava', 'estudando', 'alguns', 'exemplos', 'do', 'mysql', 'com', 'php', 'e', 'me', 'deparei', 'como', 'seguinte', 'trecho', 'de', 'código', 'pelo', 'que', 'pude', 'perceber', 'ao', 'pesquisar', 'os', 'métodos', 'chamase', 'mas', 'eu', 'não', 'consegui', 'entender', 'porque', 'isto', 'é', 'utilizado', 'gostaria', 'de', 'saber', 'como', 'funciona', 'e', 'alguns', 'exemplos', 'de', 'situações', 'reais', 'em', 'que', 'isto', 'poderia', 'ser', 'útil', 'clipper', 'foi', 'uma', 'linguagem', 'muita', 'usada', 'nos', 'anos', 'e', 'até', 'boa', 'parte', 'dos', 'anos', 'especialmente', 'em', 'alguns', 'países', 'como', 'o', 'brasil', 'de', 'fato', 'muitos', 'sistemas', 'administrativos', 'ainda', 'usados', 'hoje', 'foram', 'feitos', 'nele', 'mas', 'ainda', 'é', 'possível', 'desenvolver', 'softwares', 'modernos', 'usando', 'ele', 'a', 'maioria', 'dos', 'programas', 'se', 'encaixam', 'bem', 'em', 'espaço', 'de', 'endereço', 'de', 'menor', 'que', 'gb', 'mas', 'em', 'alguns', 'casos', 'o', 'programa', 'pode', 'precisar', 'usar', 'os', 'novos', 'recursosinstruções', 'do', 'processador', 'que', 'só', 'estão', 'disponíveis', 'na', 'arquitetura', 'x', 'infelizmente', 'o', 'procedimento', 'normal', 'seria', 'gerar', 'um', 'executável', 'bits', 'e', 'ganhando', 'o', 'custo', 'dos', 'ponteiros', 'terem', 'o', 'dobro', 'do', 'tamanho', 'há', 'aplicações', 'específicas', 'em', 'que', 'a', 'maioria', 'das', 'estruturas', 'de', 'dados', 'tem', 'grande', 'parte', 'de', 'seus', 'elementos', 'compostos', 'por', 'ponteiros', 'ponteiros', 'grandes', 'produzirão', 'cache', 'missen', 'com', 'mais', 'frequência', 'e', 'se', 'você', 'não', 'vai', 'usar', 'memória', 'além', 'dos', 'gb', 'ponteiros', 'de', 'bits', 'são', 'puro', 'desperdício', 'existem', 'compiladores', 'onde', 'eu', 'possa', 'usar', 'registradores', 'e', 'instruções', 'específicas', 'x', 'mas', 'preservando', 'os', 'ponteiros', 'de', 'bits', 'para', 'economizar', 'a', 'memória', 'em', 'quais', 'plataformas', 'é', 'possível', 'fazer', 'isso', 'de', 'forma', 'transparente', 'em', 'código', 'legado', 'há', 'um', 'switchflag', 'para', 'ligar', 'isso', 'no', 'compilador', 'caso', 'não', 'seja', 'possível', 'trabalhar', 'com', 'código', 'legado', 'o', 'que', 'é', 'necessário', 'mudar', 'no', 'código', 'para', 'obter', 'os', 'recursos', 'de', 'bits', 'enquanto', 'mantêm', 'ponteiros', 'de', 'bits', 'eu', 'sei', 'que', 'isto', 'só', 'é', 'vantajoso', 'se', 'essa', 'economia', 'de', 'memória', 'realmente', 'é', 'importante', 'arquitetura', 'de', 'software', 'engenharia', 'de', 'software', 'aparentemente', 'esses', 'dois', 'conceitos', 'são', 'relacionados', 'mas', 'qual', 'a', 'diferença', 'entre', 'eles', 'tenho', 'um', 'layout', 'com', 'uma', 'barra', 'de', 'navegação', 'horizontal', 'na', 'parte', 'superior', 'do', 'site', 'ele', 'está', 'com', 'quando', 'rolar', 'a', 'página', 'o', 'menu', 'deve', 'ser', 'fixado', 'no', 'topo', 'da', 'janela', 'mas', 'com', 'qual', 'a', 'melhor', 'forma', 'de', 'realizar', 'isso', 'é', 'uma', 'questão', 'bem', 'básica', 'porém', 'que', 'me', 'intriga', 'bastante', 'vejam', 'o', 'código', 'abaixo', 'agora', 'vejam', 'o', 'mesmo', 'com', 'e', 'ou', 'seja', 'o', 'mesmo', 'fim', 'pode', 'ser', 'obtido', 'de', 'ambas', 'as', 'maneiras', 'o', 'e', 'não', 'teriam', 'apenas', 'efeito', 'semântico', 'muitos', 'sites', 'do', 'governo', 'brasileiro', 'costumam', 'não', 'ter', 'certificados', 'de', 'segurança', 'válidos', 'exemplos', 'httpswwwibamagovbr', 'validade', 'expirada', 'httpswwwibgegovbr', 'autoassinado', 'url', 'inválida', 'httpswwwfunaigovbr', 'autoassinado', 'httpswwwbrasilgovbr', 'ca', 'desconhecido', 'icpbrasil', 'httpswwwsenadogovbr', 'ca', 'desconhecido', 'icpbrasil', 'url', 'inválida', 'na', 'maioria', 'dos', 'casos', 'o', 'browser', 'diz', 'que', 'o', 'certificado', 'raiz', 'da', 'autoridade', 'de', 'certificação', 'não', 'é', 'confiável', 'e', 'outros', 'ainda', 'estão', 'simplesmente', 'com', 'a', 'validade', 'expirada', 'essa', 'situação', 'é', 'incomum', 'em', 'sites', 'comerciais', 'mas', 'de', 'vez', 'em', 'quando', 'também', 'topo', 'com', 'um', 'desses', 'e', 'naturalmente', 'eu', 'próprio', 'tenho', 'certa', 'dificuldade', 'de', 'manter', 'os', 'sites', 'que', 'gerencio', 'sempre', 'com', 'certificados', 'válidos', 'é', 'necessário', 'que', 'um', 'site', 'tenha', 'certificado', 'válido', 'para', 'que', 'a', 'comunicação', 'com', 'ele', 'seja', 'segura', 'por', 'que', 'alguns', 'desses', 'sites', 'do', 'governo', 'têm', 'funções', 'muito', 'importantes', 'ex', 'receita', 'federal', 'ministério', 'do', 'trabalho', 'siape', 'é', 'seguro', 'continuar', 'utilizandoos', 'apesar', 'do', 'alerta', 'de', 'segurança', 'apresentado', 'alguns', 'chegam', 'mesmo', 'a', 'instruir', 'o', 'usuário', 'a', 'ignorar', 'esses', 'alertas', 'já', 'me', 'foi', 'sugerido', 'pelo', 'meu', 'antigo', 'provedor', 'de', 'hospedagem', 'usar', 'certificados', 'do', 'cacertorg', 'em', 'vez', 'de', 'um', 'autoassinado', 'pois', 'eles', 'ainda', 'não', 'são', 'reconhecidos', 'pelos', 'principais', 'browsers', 'mas', 'muitos', 'sistemas', 'já', 'aceitam', 'ou', 'seja', 'ainda', 'é', 'invalido', 'seria', 'essa', 'uma', 'prática', 'aceitável', 'posso', 'simplesmente', 'dizer', 'pros', 'meus', 'usuários', 'ingnorarem', 'o', 'alerta', 'de', 'segurança', 'e', 'pronto', 'tal', 'como', 'esses', 'sites', 'do', 'governo', 'fazem', 'que', 'impactos', 'um', 'certificado', 'inválido', 'tem', 'na', 'segurança', 'de', 'um', 'site', 'atenção', 'não', 'estou', 'procurando', 'por', 'pedaços', 'de', 'código', 'prontos', 'quero', 'apenas', 'que', 'alguém', 'me', 'ajude', 'a', 'pensar', 'em', 'alguma', 'forma', 'de', 'gerar', 'esses', 'primos', 'da', 'forma', 'mais', 'eficiente', 'possível', 'em', 'python', 'estou', 'resolvendo', 'a', 'questão', 'do', 'codeabbey', 'mas', 'não', 'estou', 'conseguindo', 'pensar', 'em', 'como', 'gerar', 'os', 'primos', 'que', 'o', 'exercício', 'pede', 'o', 'enunciado', 'basicamente', 'considera', 'que', 'existe', 'uma', 'list', 'que', 'contém', 'todos', 'os', 'números', 'primos', 'do', 'mundo', 'a', 'começar', 'pelo', 'com', 'base', 'nessa', 'list', 'o', 'enunciado', 'dá', 'uma', 'série', 'de', 'índices', 'índices', 'dessa', 'list', 'e', 'o', 'programa', 'tem', 'que', 'retornar', 'o', 'primo', 'que', 'ocupa', 'esse', 'índice', 'nessa', 'list', 'imaginária', 'ex', 'na', 'list', 'o', 'índice', 'é', 'o', 'é', 'o', 'enunciado', 'garante', 'que', 'a', 'série', 'de', 'índices', 'que', 'ele', 'vai', 'fornecer', 'aleatoriamente', 'não', 'possui', 'nenhum', 'índice', 'superior', 'a', 'por', 'isso', 'primos', 'no', 'máximo', 'exemplo', 'de', 'input', 'e', 'output', 'no', 'final', 'do', 'enunciado', 'o', 'codeabbey', 'avisa', 'que', 'existe', 'uma', 'forma', 'de', 'gerar', 'o', 'resultado', 'em', 'segundo', 'eu', 'poderia', 'deixar', 'o', 'meu', 'código', 'do', 'jeito', 'que', 'está', 'agora', 'esperar', 'dois', 'dias', 'e', 'dar', 'a', 'resposta', 'hahaha', 'mas', 'isso', 'seria', 'trapaça', 'e', 'eu', 'não', 'teria', 'aprendido', 'nada', 'com', 'o', 'exercício', 'deixei', 'o', 'meu', 'programa', 'rodando', 'por', 'minutos', 'e', 'não', 'gerou', 'resultado', 'talvez', 'um', 'segundo', 'seja', 'muito', 'pouco', 'tempo', 'mas', 'com', 'certeza', 'tem', 'como', 'resolver', 'em', 'hm', 'menos', 'de', 'segundos', 'para', 'tentar', 'resolver', 'estou', 'implantando', 'o', 'sieve', 'of', 'eratosthene', 'ou', 'crivo', 'de', 'eratóstenes', 'segue', 'meu', 'código', 'atual', 'faz', 'um', 'tempo', 'estou', 'tentando', 'aprender', 'a', 'usar', 'promessas', 'e', 'programação', 'assíncrona', 'em', 'javascript', 'mas', 'até', 'agora', 'não', 'tive', 'muito', 'sucesso', 'nisso', 'já', 'entendi', 'que', 'existem', 'funções', 'que', 'retornam', 'as', 'tais', 'promessas', 'e', 'que', 'então', 'é', 'possível', 'encaixar', 'um', 'callback', 'no', 'método', 'do', 'objeto', 'retornado', 'também', 'sei', 'construir', 'funções', 'que', 'retornam', 'promessas', 'usando', 'a', 'biblioteca', 'meu', 'problema', 'é', 'que', 'não', 'sei', 'como', 'usar', 'as', 'promessas', 'na', 'prática', 'sempre', 'que', 'tento', 'vira', 'uma', 'confusão', 'e', 'acabo', 'tendo', 'um', 'monte', 'de', 's', 'aninhados', 'e', 'na', 'maioria', 'das', 'vezes', 'nada', 'funciona', 'sem', 'falar', 'que', 'é', 'extremamente', 'comum', 'que', 'eu', 'caia', 'em', 'situações', 'do', 'seguinte', 'tipo', 'preciso', 'de', 'certos', 'dados', 'que', 'são', 'carregados', 'do', 'servidor', 'essa', 'chamada', 'retorna', 'uma', 'promessa', 'mas', 'eu', 'preciso', 'dos', 'dados', 'em', 'uma', 'função', 'que', 'é', 'executada', 'logo', 'em', 'seguida', 'na', 'verdade', 'não', 'estou', 'conseguindo', 'pensar', 'do', 'jeito', 'certo', 'com', 'programação', 'assincrona', 'e', 'promessas', 'é', 'muito', 'natural', 'pensar', 'daquela', 'forma', 'primeiro', 'acontece', 'isso', 'e', 'em', 'seguida', 'tem', 'que', 'acontecer', 'aquilo', 'mas', 'parece', 'muito', 'estranho', 'pensar', 'alguma', 'hora', 'vai', 'acontecer', 'isso', 'e', 'nem', 'sabemos', 'quando', 'vai', 'acabar', 'e', 'precisa', 'acontecer', 'uma', 'outra', 'coisa', 'que', 'depende', 'da', 'primeira', 'alguém', 'poderia', 'dar', 'algumas', 'dicasreferências', 'pra', 'pegar', 'o', 'jeito', 'mesmo', 'disso', 'distinct', 'a', 'instrução', 'select', 'distinct', 'é', 'usada', 'para', 'retornar', 'apenas', 'valores', 'distintos', 'diferentes', 'dentro', 'de', 'uma', 'tabela', 'uma', 'coluna', 'geralmente', 'contém', 'muitos', 'valores', 'duplicados', 'e', 'às', 'vezes', 'você', 'só', 'deseja', 'listar', 'os', 'diferentes', 'valores', 'distintos', 'sintaxe', 'group', 'by', 'a', 'instrução', 'group', 'by', 'geralmente', 'é', 'usada', 'com', 'funções', 'agregadas', 'count', 'max', 'min', 'sum', 'avg', 'para', 'agrupar', 'o', 'conjunto', 'de', 'resultados', 'por', 'uma', 'ou', 'mais', 'colunas', 'sintaxe', 'retorna', 'valores', 'diferentes', 'valores', 'agrupados', 'também', 'ficam', 'distintosdiferentes', 'para', 'demonstrar', 'que', 'os', 'mesmo', 'resultados', 'são', 'retornados', 'usando', 'ambas', 'as', 'declarações', 'eu', 'fiz', 'um', 'teste', 'sql', 'fiddle', 'algumas', 'dúvidas', 'qual', 'a', 'diferença', 'entre', 'ambas', 'as', 'declarações', 'além', 'da', 'sintaxe', 'em', 'relação', 'ao', 'desempenho', 'existem', 'diferenças', 'existe', 'alguma', 'possibilidadeexemplo', 'na', 'prática', 'em', 'que', 'o', 'uso', 'das', 'declarações', 'é', 'necessária', 'poderiam', 'dar', 'exemplos', 'de', 'uso', 'ideal', 'de', 'cada', 'uma', 'das', 'declarações', 'pode', 'parecer', 'bobagem', 'mas', 'esses', 'tipos', 'de', 'declarações', 'confundem', 'as', 'pessoas', 'e', 'apesar', 'de', 'não', 'parecerem', 'o', 'uso', 'de', 'ambos', 'trazem', 'resultados', 'iguais', 'eu', 'preciso', 'do', 'regex', 'para', 'detectar', 'quando', 'a', 'bandeira', 'do', 'cartão', 'de', 'crédito', 'é', 'hipercard', 'aura', 'e', 'elo', 'eu', 'já', 'possuo', 'regexes', 'para', 'amex', 'martercard', 'diners', 'club', 'visa', 'discover', 'and', 'jcb', 'tem', 'um', 'jogo', 'de', 'tanque', 'd', 'usando', 'a', 'unityengine', 'em', 'c', 'em', 'que', 'é', 'jogado', 'na', 'lateral', 'da', 'tela', 'vendo', 'apenas', 'os', 'lados', 'dos', 'tanques', 'em', 'que', 'tem', 'o', 'tanque', 'verde', 'e', 'o', 'vermelho', 'o', 'verde', 'precisa', 'atirar', 'e', 'acertar', 'o', 'alvo', 'vermelho', 'o', 'jogo', 'lhe', 'dá', 'a', 'força', 'e', 'ângulo', 'ambos', 'variam', 'de', 'acordo', 'com', 'sua', 'mira', 'em', 'alguns', 'turnos', 'é', 'definido', 'um', 'tempo', 'aleatório', 'que', 'varia', 'de', 'à', 'mas', 'nesse', 'aplicativo', 'que', 'estou', 'criando', 'é', 'possível', 'manualmente', 'você', 'pode', 'definir', 'o', 'vento', 'e', 'sua', 'direção', 'não', 'querendo', 'dizer', 'que', 'é', 'alterado', 'o', 'vento', 'do', 'jogo', 'mas', 'sim', 'da', 'trajetória', 'que', 'o', 'aplicativo', 'está', 'calculando', 'nota', 'o', 'vento', 'já', 'é', 'gerado', 'de', 'uma', 'forma', 'aleatória', 'de', 'para', 'com', 'esse', 'aplicativo', 'que', 'estou', 'criando', 'você', 'apenas', 'calcula', 'a', 'trajetória', 'para', 'te', 'ajudar', 'no', 'jogo', 'notem', 'que', 'o', 'ângulo', 'é', 'espelhado', 'mas', 'já', 'implementei', 'uma', 'função', 'que', 'nos', 'dá', 'o', 'ângulo', 'exato', 'o', 'jogo', 'é', 'dividido', 'por', 'turnos', 'em', 'todo', 'turno', 'o', 'vento', 'muda', 'junto', 'com', 'sua', 'direção', 'o', 'vento', 'varia', 'de', 'para', 'na', 'direção', 'direita', 'ou', 'esquerda', 'nunca', 'maior', 'ou', 'menor', 'que', 'isso', 'a', 'trajetória', 'pontilhada', 'é', 'o', 'que', 'é', 'projetado', 'nesse', 'aplicativo', 'o', 'processo', 'está', 'pronto', 'a', 'trajetória', 'está', 'sendo', 'exibida', 'o', 'problema', 'é', 'que', 'ela', 'não', 'é', 'influenciada', 'pelo', 'vento', 'qualquer', 'mudança', 'no', 'vento', 'ela', 'irá', 'permanecer', 'sendo', 'influenciada', 'apenas', 'por', 'ângulo', 'e', 'a', 'força', 'não', 'por', 'vento', 'eis', 'o', 'problema', 'grande', 'atualização', 'da', 'pergunta', 'coloquei', 'uma', 'parte', 'importante', 'que', 'estava', 'faltando', 'na', 'pergunta', 'o', 'calculo', 'horizontal', 'resuminho', 'básico', 'o', 'valor', 'é', 'calculado', 'em', 'base', 'do', 'tempo', 'de', 'voo', 'para', 'cada', 'x', 'basicamente', 'entre', 'à', 'como', 'mostrado', 'na', 'declaração', 'do', 'lopping', 'acima', 'que', 'são', 'os', 'limites', 'horizontais', 'do', 'jogo', 'o', 'valor', 'representa', 'o', 'tempo', 'de', 'voo', 'de', 'para', 'a', 'posição', 'i', 'x', 'como', 'a', 'trajetória', 'é', 'afetada', 'com', 'o', 'vento', 'abaixo', 'está', 'a', 'minha', 'trajetória', 'a', 'linha', 'contínua', 'e', 'a', 'trajetória', 'do', 'tiro', 'a', 'linha', 'pontilhada', 'o', 'vento', 'que', 'estava', 'presente', 'no', 'jogo', 'era', 'é', 'percebível', 'que', 'além', 'da', 'altura', 'o', 'formato', 'e', 'a', 'distância', 'da', 'trajetória', 'também', 'foram', 'alterados', 'com', 'o', 'vento', 'brevemente', 'minha', 'dúvida', 'é', 'como', 'implemento', 'vento', 'nessas', 'formulas', 'o', 'seguinte', 'código', 'imprime', 'vezes', 'o', 'texto', 'mensagem', 'em', 'um', 'veja', 'o', 'exemplo', 'no', 'jsfiddle', 'eu', 'entendo', 'que', 'isso', 'ocorre', 'porque', 'o', 'valor', 'de', 'é', 'atualizado', 'na', 'função', 'externa', 'e', 'no', 'momento', 'da', 'execução', 'da', 'função', 'interna', 'a', 'referência', 'aponta', 'para', 'o', 'valor', 'atualizado', 'como', 'fazer', 'para', 'imprimir', 'o', 'valor', 'da', 'variável', 'correspondente', 'ao', 'número', 'da', 'iteração', 'ou', 'seja', 'o', 'valor', 'de', 'no', 'momento', 'em', 'que', 'a', 'função', 'interna', 'foi', 'criada', 'na', 'chamado', 'do', 'resultando', 'em', 'textos', 'de', 'mensagem', 'a', 'mensagem', 'estou', 'criando', 'meu', 'primeiro', 'aplicativo', 'na', 'plataforma', 'android', 'e', 'até', 'onde', 'eu', 'sei', 'um', 'dos', 'pontos', 'negativos', 'dessa', 'plataforma', 'é', 'que', 'os', 'dispositivos', 'existentes', 'no', 'mercado', 'possuem', 'diferentes', 'tamanhos', 'de', 'telas', 'eu', 'criei', 'um', 'projeto', 'no', 'eclipse', 'e', 'verifiquei', 'que', 'ele', 'cria', 'tipos', 'de', 'pastas', 'para', 'adicionar', 'as', 'imagens', 'e', 'a', 'minha', 'dúvida', 'é', 'a', 'seguinte', 'como', 'saber', 'qual', 'o', 'tamanho', 'das', 'imagens', 'referente', 'a', 'cada', 'tipo', 'de', 'tela', 'eu', 'tenho', 'uma', 'imagem', 'com', 'o', 'tamanho', 'de', 'x', 'e', 'funciona', 'corretamente', 'para', 'a', 'tela', 'do', 's', 'mas', 'em', 'outros', 'celulares', 'com', 'telas', 'menores', 'fica', 'bastante', 'diferente', 'o', 'que', 'tenho', 'que', 'fazer', 'para', 'deixar', 'todos', 'de', 'acordo', 'indiferente', 'do', 'tamanho', 'da', 'tela', 'qual', 'o', 'tamanho', 'das', 'imagens', 'para', 'cada', 'pasta', 'se', 'tenho', 'uma', 'imagem', 'para', 's', 'no', 'tamanho', 'x', 'vejo', 'algumas', 'perguntas', 'no', 'site', 'com', 'a', 'tag', 'ux', 'sobre', 'posicionamento', 'de', 'controles', 'cores', 'etc', 'isso', 'normalmente', 'me', 'parece', 'fazer', 'parte', 'das', 'escolhas', 'do', 'designer', 'ou', 'até', 'mesmo', 'do', 'usuário', 'o', 'que', 'é', 'ux', 'e', 'como', 'isso', 'pode', 'me', 'ajudar', 'a', 'desenvolver', 'aplicações', 'melhores', 'ou', 'mais', 'agradáveis', 'para', 'os', 'usuários', 'recebe', 'como', 'parâmetro', 'um', 'valor', 'numérico', 'por', 'exemplo', 'ou', 'e', 'tenho', 'uma', 'função', 'que', 'retorna', 'um', 'valor', 'um', 'booleano', 'se', 'todos', 'os', 'números', 'forem', 'iguais', 'ou', 'se', 'forem', 'diferentes', 'como', 'procedo', 'com', 'o', 'algoritmo', 'quando', 'se', 'lê', 'sobre', 'arquitetura', 'de', 'software', 'na', 'web', 'às', 'vezes', 'é', 'usado', 'o', 'termo', 'código', 'spaghetti', 'se', 'referindo', 'a', 'algo', 'que', 'deve', 'ser', 'evitado', 'porém', 'nunca', 'consegui', 'entender', 'com', 'clareza', 'o', 'que', 'código', 'spaghetti', 'significa', 'o', 'que', 'são', 'escopo', 'léxico', 'e', 'escopo', 'dinâmico', 'e', 'quais', 'são', 'suas', 'principais', 'diferenças', 'bom', 'eu', 'estava', 'pensando', 'como', 'sites', 'com', 'grande', 'acesso', 'usuários', 'fazem', 'testes', 'em', 'seu', 'software', 'e', 'os', 'testam', 'para', 'lançamento', 'final', 'por', 'que', 'qualquer', 'coisa', 'ou', 'erro', 'de', 'código', 'pode', 'ocasionar', 'em', 'falha', 'bruta', 'do', 'sistema', 'é', 'interrupção', 'em', 'nível', 'geral', 'o', 'que', 'ocasionaria', 'um', 'prejuízo', 'feio', 'eu', 'li', 'um', 'pouco', 'sobre', 'automação', 'de', 'testes', 'no', 'php', 'com', 'o', 'phpunit', 'entretanto', 'fiquei', 'em', 'aberto', 'com', 'a', 'seguintes', 'dúvidas', 'no', 'geral', 'qual', 'seria', 'uma', 'boa', 'forma', 'de', 'testar', 'o', 'software', 'seria', 'interessante', 'usar', 'processos', 'de', 'testes', 'manuais', 'ou', 'automáticos', 'existem', 'critérios', 'para', 'realização', 'de', 'tal', 'como', 'definir', 'que', 'aquele', 'software', 'está', 'apto', 'para', 'o', 'usuário', 'final', 'sei', 'que', 'srp', 'significa', 'princípio', 'da', 'responsabilidade', 'única', 'cada', 'classe', 'deve', 'ser', 'responsável', 'por', 'tal', 'coisa', 'o', 'que', 'devo', 'fazer', 'pra', 'detectar', 'que', 'estou', 'violando', 'o', 'srp', 'o', 'que', 'devo', 'levar', 'em', 'consideração', 'para', 'aplicálo', 'corretamente', 'uso', 'com', 'moderação', 'uma', 'dúvida', 'de', 'como', 'exemplo', 'estou', 'desenvolvendo', 'o', 'framework', 'na', 'parte', 'referente', 'à', 'biblioteca', 'da', 'sempre', 'considero', 'esses', 'fatores', 'carrega', 'um', 'arquivo', 'para', 'view', 'carrega', 'os', 'dados', 'da', 'view', 'possibilidade', 'de', 'estender', 'essa', 'view', 'possibilidade', 'de', 'criar', 'blocos', 'para', 'a', 'view', 'em', 'cada', 'um', 'desses', 'casos', 'devo', 'me', 'preocupar', 'em', 'criar', 'uma', 'classe', 'que', 'faça', 'o', 'que', 'é', 'pretendido', 'ou', 'jogo', 'tudo', 'na', 'classe', 'se', 'considerar', 'jogar', 'tudo', 'na', 'classe', 'estaria', 'violando', 'o', 'srp', 'em', 'c', 'variáveis', 'locais', 'no', 'escopo', 'de', 'um', 'método', 'podem', 'ser', 'declaradas', 'com', 'tipo', 'implícito', 'usando', 'e', 'o', 'tipo', 'é', 'resolvido', 'em', 'tempo', 'de', 'compilação', 'exemplo', 'da', 'msdn', 'casos', 'de', 'uso', 'de', 'tipos', 'anônimos', 'chegam', 'a', 'exigir', 'o', 'como', 'já', 'mencionado', 'numa', 'resposta', 'aqui', 'do', 'site', 'porém', 'nos', 'casos', 'em', 'que', 'ele', 'é', 'opcional', 'a', 'escolha', 'é', 'puramente', 'uma', 'questão', 'de', 'estilo', 'existem', 'recomendações', 'oficiais', 'ou', 'não', 'contanto', 'que', 'justificadas', 'para', 'se', 'utilizar', 'ou', 'evitar', 'o', 'em', 'determinadas', 'situações', 'como', 'eu', 'posso', 'centralizar', 'horizontalmente', 'uma', 'que', 'está', 'dentro', 'de', 'outra', 'utilizando', 'apenas', 'css', 'no', 'caso', 'podemos', 'assumir', 'que', 'externa', 'tem', 'a', 'largura', 'de', 'esses', 'dias', 'vi', 'nosso', 'colega', 'maniero', 'comentando', 'sobre', 'a', 'existência', 'do', 'net', 'native', 'em', 'uma', 'resposta', 'sobre', 'c', 'e', 'c', 'vi', 'que', 'a', 'microsoft', 'anunciou', 'em', 'abril', 'de', 'o', 'preview', 'do', 'net', 'native', 'e', 'pesquisando', 'sobre', 'o', 'assunto', 'encontrei', 'essa', 'página', 'explicando', 'httpmsdnmicrosoftcomptbrvstudiodotnetnativeaspx', 'pelo', 'o', 'que', 'entendi', 'a', 'ideia', 'é', 'permitir', 'que', 'código', 'escritos', 'em', 'c', 'sejam', 'compilados', 'para', 'código', 'nativo', 'da', 'máquina', 'isso', 'deixaria', 'os', 'aplicativos', 'mais', 'rápidos', 'e', 'usando', 'menos', 'memória', 'como', 'o', 'assunto', 'é', 'novo', 'e', 'estou', 'cheio', 'de', 'perguntas', 'eis', 'algumas', 'delas', 'por', 'que', 'a', 'microsoft', 'está', 'fazendo', 'isso', 'não', 'será', 'mais', 'necessário', 'ter', 'o', 'net', 'framework', 'instalado', 'nas', 'máquinas', 'vamos', 'ter', 'que', 'compilar', 'nossos', 'códigos', 'para', 'tipos', 'diferentes', 'de', 'arquiteturas', 'x', 'x', 'programas', 'que', 'usam', 'o', 'net', 'native', 'vão', 'poder', 'rodar', 'em', 'qualquer', 'tipo', 'de', 'dispositivo', 'e', 'sistema', 'operacional', 'vou', 'poder', 'desenvolver', 'um', 'driver', 'ou', 'um', 'sistema', 'operacional', 'com', 'isso', 'isso', 'é', 'só', 'para', 'apps', 'da', 'windows', 'store', 'terá', 'alguma', 'diferença', 'em', 'como', 'desenvolvemos', 'hoje', 'quem', 'puder', 'compartilhar', 'um', 'pouco', 'sobre', 'o', 'assunto', 'é', 'muito', 'bem', 'vindo', 'inclusive', 'se', 'quiserem', 'editar', 'algo', 'na', 'pergunta', 'afim', 'de', 'enriquecer', 'a', 'questão', 'encontrei', 'em', 'um', 'arquivo', 'minificado', 'do', 'bootstrap', 'o', 'seguinte', 'o', 'operador', 'parece', 'estar', 'sendo', 'aplicado', 'entre', 'duas', 'strings', 'o', 'que', 'significa', 'isso', 'quero', 'jogar', 'a', 'data', 'atual', 'num', 'input', 'mas', 'no', 'formato', 'brasileiro', 'ddmmyyyy', 'meu', 'código', 'estava', 'olhando', 'uns', 'códigos', 'e', 'me', 'deparei', 'com', 'o', 'operador', 'qual', 'a', 'diferença', 'do', 'primeiro', 'código', 'para', 'o', 'segundo', 'qual', 'a', 'forma', 'correta', 'de', 'se', 'fazer', 'uma', 'substituição', 'regular', 'em', 'javascript', 'para', 'todas', 'as', 'ocorrências', 'encontradas', 'a', 'forma', 'como', 'faço', 'atualmente', 'ou', 'até', 'não', 'me', 'parecem', 'ser', 'as', 'mais', 'adequadas', 'utilizar', 'validações', 'em', 'javascript', 'é', 'suficiente', 'para', 'uma', 'validação', 'eficiente', 'exemplo', 'validação', 'de', 'datas', 'é', 'necessário', 'verificar', 'também', 'no', 'código', 'quais', 'as', 'desvantagens', 'de', 'só', 'realizar', 'validações', 'via', 'clienteside', 'podem', 'causar', 'para', 'que', 'serve', 'o', 'no', 'javascript', 'ele', 'funciona', 'apenas', 'para', 'obter', 'os', 'valores', 'do', 'objeto', 'como', 'se', 'fosse', 'uma', 'variável', 'ou', 'também', 'é', 'possível', 'definir', 'ou', 'alterar', 'propriedades', 'através', 'dele', 'exemplo', 'se', 'tenho', 'uma', 'imagem', 'horizontal', 'x', 'e', 'coloco', 'a', 'regra', 'css', 'a', 'redução', 'não', 'fica', 'proporcional', 'e', 'se', 'coloco', 'dá', 'errado', 'com', 'imagens', 'horizontais', 'e', 'verticais', 'como', 'acertar', 'isso', 'eu', 'tive', 'uma', 'aula', 'na', 'faculdade', 'que', 'me', 'deixou', 'meio', 'intrigado', 'meu', 'professor', 'estava', 'falando', 'das', 'diferenças', 'das', 'linguagens', 'interpretadas', 'e', 'das', 'linguagens', 'compiladas', 'e', 'destacou', 'que', 'as', 'linguagens', 'interpretadas', 'poderiam', 'ter', 'seu', 'código', 'roubado', 'quando', 'nas', 'compiladas', 'isso', 'não', 'acontece', 'aí', 'abriu', 'uma', 'série', 'de', 'dúvidas', 'onde', 'a', 'principal', 'é', 'se', 'meu', 'código', 'é', 'compilado', 'e', 'não', 'dá', 'pra', 'saber', 'como', 'foi', 'escrito', 'como', 'os', 'antivírus', 'sabem', 'que', 'ele', 'pode', 'ser', 'perigoso', 'pelo', 'que', 'eu', 'andei', 'lendo', 'os', 'três', 'conceitos', 'são', 'bastante', 'parecidos', 'mas', 'eu', 'fiquei', 'confuso', 'quanto', 'a', 'definição', 'clara', 'e', 'exata', 'deles', 'pelo', 'que', 'eu', 'sei', 'uma', 'expressão', 'lambda', 'por', 'ser', 'entendida', 'como', 'uma', 'função', 'inline', 'ou', 'um', 'procedimento', 'que', 'se', 'passa', 'para', 'outro', 'procedimento', 'como', 'no', 'pseudocódigo', 'abaixo', 'entretanto', 'o', 'conceito', 'que', 'eu', 'tenho', 'de', 'closure', 'é', 'exatamente', 'o', 'mesmo', 'de', 'cima', 'com', 'duas', 'diferenças', 'por', 'alguma', 'razão', 'parece', 'importante', 'destacar', 'que', 'um', 'closure', 'referencia', 'uma', 'variável', 'fora', 'de', 'seu', 'escopo', 'closures', 'podem', 'ser', 'atribuídos', 'a', 'variáveis', 'e', 'manipulados', 'como', 'se', 'fossem', 'objetos', 'entretanto', 'recentemente', 'andei', 'aprendendo', 'groovy', 'que', 'me', 'apresentou', 'um', 'conceito', 'de', 'closure', 'ligeiramente', 'diferente', 'a', 'groovy', 'closure', 'is', 'like', 'a', 'code', 'block', 'or', 'a', 'method', 'pointer', 'it', 'is', 'a', 'piece', 'of', 'code', 'that', 'is', 'defined', 'and', 'then', 'executed', 'at', 'a', 'later', 'point', 'it', 'has', 'some', 'special', 'properties', 'like', 'implicit', 'variables', 'support', 'for', 'currying', 'and', 'support', 'for', 'free', 'variables', 'which', 'well', 'see', 'later', 'on', 'well', 'ignore', 'the', 'nitty', 'gritty', 'details', 'for', 'now', 'see', 'the', 'formal', 'definition', 'if', 'you', 'want', 'those', 'and', 'look', 'at', 'some', 'simple', 'examples', 'fonte', 'em', 'palavras', 'mais', 'simples', 'um', 'closure', 'é', 'um', 'objeto', 'groovy', 'aliás', 'é', 'um', 'objeto', 'java', 'que', 'se', 'comporta', 'como', 'um', 'bloco', 'de', 'código', 'e', 'um', 'cidadão', 'de', 'primeira', 'classe', 'que', 'pode', 'ser', 'passado', 'como', 'parâmetro', 'para', 'métodos', 'atribuído', 'a', 'variáveis', 'e', 'ter', 'sua', 'assinatura', 'de', 'método', 'redefinida', 'coincidentemente', 'o', 'c', 'apresenta', 'exatamente', 'o', 'mesmo', 'conceito', 'que', 'ele', 'chama', 'de', 'delegate', 'no', 'entanto', 'a', 'descrição', 'dessa', 'feature', 'destaca', 'que', 'um', 'delegate', 'pode', 'ser', 'atribuído', 'a', 'outro', 'método', 'já', 'existente', 'que', 'se', 'conforme', 'com', 'sua', 'assinatura', 'a', 'delegate', 'is', 'a', 'type', 'that', 'safely', 'encapsulates', 'a', 'method', 'similar', 'to', 'a', 'function', 'pointer', 'in', 'c', 'and', 'c', 'unlike', 'c', 'function', 'pointers', 'delegates', 'are', 'objectoriented', 'type', 'safe', 'and', 'secure', 'the', 'type', 'of', 'a', 'delegate', 'is', 'defined', 'by', 'the', 'name', 'of', 'the', 'delegate', 'the', 'following', 'example', 'declares', 'a', 'delegate', 'named', 'del', 'that', 'can', 'encapsulate', 'a', 'method', 'that', 'takes', 'a', 'string', 'as', 'an', 'argument', 'and', 'returns', 'void', 'fonte', 'quais', 'as', 'diferenças', 'entre', 'uma', 'expressão', 'lambda', 'um', 'closure', 'e', 'um', 'delegate', 'como', 'uma', 'música', 'é', 'interpretada', 'pelo', 'computador', 'entendo', 'que', 'uma', 'imagem', 'é', 'uma', 'matriz', 'de', 'pixels', 'em', 'que', 'cada', 'elemento', 'é', 'uma', 'cor', 'quando', 'abro', 'uma', 'música', 'no', 'ele', 'a', 'apresenta', 'como', 'duas', 'sequências', 'left', 'e', 'right', 'de', 'frequências', 'conforme', 'a', 'imagem', 'será', 'que', 'é', 'correto', 'afirmar', 'que', 'uma', 'música', 'é', 'uma', 'matriz', 'com', 'duas', 'colunas', 'e', 'o', 'número', 'de', 'linhas', 'sendo', 'alguma', 'unidade', 'de', 'tempo', 'como', 'realizar', 'o', 'procedimento', 'de', 'captura', 'de', 'imagem', 'da', 'webcam', 'do', 'usuário', 'em', 'um', 'formulário', 'de', 'cadastro', 'para', 'enviar', 'via', 'busco', 'por', 'uma', 'solução', 'que', 'seja', 'compatível', 'com', 'a', 'maioria', 'dos', 'navegadores', 'e', 'que', 'seja', 'de', 'simples', 'implementação', 'é', 'possível', 'fazer', 'um', 'tooltip', 'com', 'css', 'puro', 'ou', 'seja', 'sem', 'jquery', 'sem', 'javascript', 'mas', 'somente', 'com', 'css', 'por', 'exemplo', 'quero', 'fazer', 'isso', 'baseando', 'no', 'seguinte', 'elemento', 'preciso', 'mudar', 'a', 'posição', 'do', 'na', 'máscara', 'com', 'esta', 'solução', 'o', 'resultado', 'é', 'o', 'seguinte', 'para', 'celulares', 'e', 'para', 'fixos', 'porém', 'gostaria', 'de', 'deixar', 'para', 'celulares', 'e', 'enquanto', 'desenvolvia', 'vi', 'que', 'em', 'grande', 'parte', 'das', 'minhas', 'classes', 'continham', 'uma', 'certa', 'quantidade', 'de', 'que', 'não', 'estavam', 'sendo', 'utilizados', 'e', 'me', 'veio', 'a', 'dúvida', 'do', 'título', 'using', 'não', 'utilizado', 'afeta', 'o', 'desempenho', 'da', 'aplicação', 'de', 'alguma', 'forma', 'é', 'preciso', 'sempre', 'remover', 'os', 'não', 'utilizados', 'ou', 'isso', 'não', 'fará', 'diferença', 'vejo', 'grandes', 'conhecedores', 'aqui', 'do', 'sopt', 'dizerem', 'a', 'frase', 'quer', 'desempenho', 'esqueça', 'o', 'php', 'por', 'exemplo', 'perguntas', 'sobre', 'php', 'como', 'posso', 'melhorar', 'o', 'desempenho', 'disso', 'claro', 'que', 'sabemos', 'que', 'desempenho', 'vem', 'muito', 'da', 'estrutura', 'do', 'código', 'mas', 'essa', 'afirmação', 'esqueça', 'desempenho', 'no', 'php', 'não', 'seria', 'pelo', 'php', 'não', 'ter', 'desempenho', 'mas', 'sim', 'porque', 'é', 'um', 'fator', 'a', 'não', 'ser', 'considerado', 'quando', 'o', 'cenário', 'é', 'o', 'php', 'em', 'comparação', 'de', 'sua', 'tecnologia', 'com', 'uma', 'outra', 'correto', 'então', 'gostaria', 'de', 'saber', 'acredito', 'eu', 'que', 'quando', 'dizem', 'que', 'o', 'php', 'não', 'se', 'foca', 'em', 'seu', 'desempenho', 'seria', 'em', 'comparação', 'a', 'outras', 'linguagenstecnologias', 'isso', 'seria', 'sobre', 'o', 'php', 'ser', 'uma', 'linguagem', 'interpretada', 'somente', 'o', 'php', 'ou', 'todas', 'as', 'linguagens', 'interpretadas', 'ou', 'correlacionadas', 'entendendo', 'melhor', 'o', 'tipo', 'de', 'resposta', 'que', 'eu', 'gostaria', 'como', 'no', 'comentário', 'feito', 'é', 'dito', 'isso', 'porque', 'o', 'php', 'não', 'foi', 'feito', 'para', 'ser', 'rápido', 'simples', 'assim', 'php', 'foi', 'criado', 'para', 'ser', 'fácil', 'e', 'ter', 'entrega', 'rápida', 'abrindo', 'mão', 'da', 'performance', 'que', 'em', 'aplicações', 'web', 'não', 'é', 'crítica', 'se', 'precisa', 'de', 'performance', 'não', 'use', 'php', 'assim', 'como', 'se', 'precisar', 'martelar', 'um', 'prego', 'não', 'use', 'um', 'alicate', 'anderson', 'carlos', 'woss', 'antes', 'de', 'comentar', 'ou', 'responder', 'entenda', 'não', 'é', 'comparar', 'qual', 'a', 'melhor', 'linguagem', 'ou', 'opinião', 'mas', 'sim', 'sobre', 'a', 'diferença', 'entre', 'as', 'tecnologias', 'eou', 'seus', 'limites', 'estou', 'fazendo', 'um', 'pequeno', 'sistema', 'e', 'para', 'acessálo', 'o', 'usuário', 'digita', 'o', 'login', 'e', 'senha', 'qual', 'a', 'melhor', 'forma', 'segura', 'e', 'simples', 'de', 'fazer', 'o', 'sistema', 'de', 'login', 'e', 'senha', 'trabalhando', 'em', 'um', 'projeto', 'aqui', 'na', 'empresa', 'me', 'deparei', 'com', 'alguns', 'comandos', 'que', 'estão', 'agora', 'sendo', 'mais', 'utilizados', 'mas', 'até', 'que', 'entendi', 'porém', 'um', 'que', 'me', 'chamou', 'a', 'atenção', 'por', 'desconhecer', 'o', 'que', 'é', 'alguém', 'já', 'viu', 'o', 'seguinte', 'exemplo', 'quem', 'já', 'viu', 'e', 'sabe', 'a', 'respeito', 'poderia', 'passar', 'uma', 'breve', 'explicação', 'é', 'apenas', 'curiosidade', 'para', 'entender', 'melhor', 'existem', 'outros', 'similares', 'existe', 'alguma', 'diferença', 'entre', 'e', 'eu', 'sei', 'que', 'os', 'dois', 'retornam', 'o', 'mesmo', 'resultado', 'tem', 'algum', 'tipo', 'de', 'convenção', 'adotada', 'para', 'usar', 'sempre', 'o', 'desde', 'que', 'abri', 'um', 'projeto', 'online', 'estou', 'tendo', 'problemas', 'com', 'invasão', 'onde', 'alguém', 'está', 'fazendo', 'inserções', 'diretas', 'no', 'banco', 'de', 'dados', 'foi', 'o', 'que', 'me', 'deu', 'iniciativa', 'para', 'por', 'em', 'todas', 'as', 'variáveis', 'recebidas', 'através', 'do', 'método', 'e', 'as', 'funções', 'utilizei', 'dois', 'programas', 'para', 'fazer', 'scanner', 'para', 'analisar', 'o', 'site', 'acunetix', 'e', 'scrawlr', 'onde', 'na', 'primeira', 'vez', 'retornou', 'variáveis', 'vulneráveis', 'mas', 'agora', 'fiz', 'todo', 'o', 'procedimento', 'nas', 'mesma', 'e', 'agora', 'não', 'da', 'mais', 'sinal', 'de', 'problema', 'porém', 'mesmo', 'assim', 'o', 'atacante', 'ainda', 'consegue', 'invadir', 'o', 'servidor', 'mesmo', 'tendo', 'a', 'certeza', 'depois', 'de', 'ter', 'verificado', 'todas', 'as', 'linhas', 'de', 'código', 'do', 'projeto', 'um', 'heisenbug', 'é', 'um', 'bug', 'que', 'muda', 'seu', 'comportamento', 'ao', 'ser', 'estudado', 'ele', 'tem', 'seu', 'nome', 'derivado', 'devido', 'ao', 'princípio', 'que', 'heisenberg', 'detectou', 'que', 'a', 'simples', 'observação', 'passiva', 'de', 'processos', 'quânticos', 'alteram', 'o', 'resultado', 'final', 'heisenbugs', 'típicos', 'acontecem', 'com', 'condições', 'de', 'corrida', 'pois', 'qualquer', 'tipo', 'de', 'medição', 'que', 'você', 'faça', 'como', 'trace', 'debugging', 'ou', 'break', 'points', 'acaba', 'por', 'sincronizar', 'os', 'processos', 'concorrentes', 'de', 'uma', 'forma', 'ou', 'de', 'outra', 'o', 'andré', 'lfs', 'bacci', 'indicou', 'que', 'usar', 'ponto', 'flutuante', 'para', 'fins', 'monetários', 'podem', 'causar', 'heisenbugs', 'na', 'física', 'quântica', 'não', 'existem', 'observações', 'puramente', 'passivas', 'mas', 'isso', 'são', 'detalhes', 'então', 'imaginem', 'que', 'estou', 'numa', 'situação', 'complicada', 'tentando', 'resolver', 'um', 'problema', 'no', 'sistema', 'e', 'até', 'consigo', 'reproduzir', 'o', 'bug', 'mas', 'quando', 'eu', 'tento', 'ver', 'mais', 'coisas', 'sobre', 'o', 'bug', 'colocando', 'um', 'break', 'point', 'estratégico', 'esse', 'bug', 'deixa', 'de', 'acontecer', 'nesse', 'momento', 'me', 'deparo', 'com', 'aquela', 'situação', 'omg', 'um', 'heisenbug', 'o', 'phb', 'me', 'pergunta', 'o', 'que', 'está', 'acontecendo', 'o', 'suporte', 'está', 'com', 'o', 'cliente', 'na', 'linha', 'preciso', 'dar', 'uma', 'resposta', 'sobre', 'como', 'está', 'o', 'andamento', 'do', 'estudo', 'desse', 'problema', 'preciso', 'pedir', 'mais', 'tempo', 'para', 'tentar', 'sanar', 'porque', 'não', 'é', 'um', 'bug', 'simples', 'mas', 'um', 'heisenbug', 'como', 'consigo', 'explicar', 'para', 'o', 'chefe', 'e', 'para', 'o', 'suporte', 'sobre', 'o', 'heisenbug', 'eles', 'não', 'são', 'os', 'mais', 'profundos', 'conhecedores', 'da', 'programação', 'acham', 'que', 'só', 'por', 'um', 'resolve', 'o', 'problema', 'magicamente', 'de', 'preferência', 'explicações', 'que', 'não', 'resultem', 'na', 'minha', 'demissão', 'como', 'posso', 'declarar', 'uma', 'constante', 'em', 'javascript', 'procuro', 'o', 'equivalente', 'ao', 'menos', 'semanticamente', 'de', 'em', 'c', 'tenho', 'ouvido', 'falar', 'bastante', 'sobre', 'injeção', 'de', 'dependência', 'a', 'pergunta', 'é', 'como', 'quando', 'e', 'para', 'que', 'usar', 'estou', 'pensando', 'em', 'fazer', 'uma', 'aplicação', 'para', 'vender', 'gostaria', 'de', 'saber', 'como', 'proteger', 'meu', 'código', 'fonte', 'para', 'manter', 'meu', 'software', 'seguro', 'eu', 'vi', 'que', 'os', 'bytecodes', 'do', 'java', 'armazenados', 'no', 'arquivo', 'são', 'facilmente', 'convertidos', 'de', 'volta', 'para', 'usando', 'a', 'ferramenta', 'java', 'decompiler', 'os', 'podem', 'ser', 'facilmente', 'encontrados', 'dentro', 'de', 'um', 'para', 'o', 'caso', 'dos', 'desktops', 'ou', 'até', 'mesmo', 'em', 'um', 'conforme', 'mostrado', 'nesse', 'post', 'como', 'fazem', 'os', 'milhões', 'de', 'aplicativos', 'no', 'google', 'play', 'para', 'protegerem', 'seus', 'códigos', 'fontes', 'pois', 'deixálos', 'expostos', 'me', 'parece', 'meio', 'inseguro', 'ou', 'não', 'é', 'se', 'sim', 'se', 'é', 'inseguro', 'tem', 'como', 'eu', 'desenvolver', 'aplicações', 'que', 'mantenham', 'escondido', 'o', 'código', 'fonte', 'em', 'java', 'para', 'desktop', 'e', 'android', 'edição', 'a', 'resposta', 'do', 'mgibsonbr', 'me', 'convenceu', 'de', 'não', 'ser', 'paranoico', 'e', 'querer', 'proteger', 'todo', 'o', 'código', 'fonte', 'entretanto', 'existem', 'alguns', 'pontos', 'da', 'aplicação', 'que', 'não', 'podem', 'ser', 'revelados', 'por', 'motivo', 'de', 'segurança', 'dos', 'dados', 'por', 'exemplo', 'imaginem', 'o', 'estrago', 'se', 'alguém', 'tiver', 'o', 'endereço', 'o', 'usuário', 'e', 'a', 'senha', 'do', 'seu', 'banco', 'de', 'dados', 'nos', 'comentários', 'o', 'mgibsonbr', 'tentou', 'responder', 'essa', 'minha', 'dúvida', 'mas', 'eu', 'não', 'entendi', 'ou', 'talvez', 'eu', 'não', 'tenha', 'deixado', 'a', 'dúvida', 'clara', 'enfim', 'sobre', 'o', 'ofuscador', 'através', 'de', 'testes', 'pude', 'ver', 'que', 'ele', 'funciona', 'entretanto', 'tenho', 'dúvidas', 'se', 'ele', 'é', 'mesmo', 'a', 'solução', 'que', 'eu', 'procuro', 'ou', 'se', 'a', 'solução', 'na', 'verdade', 'é', 'remodelar', 'o', 'meu', 'software', 'de', 'uma', 'maneira', 'que', 'não', 'guarde', 'no', 'código', 'fonte', 'nenhum', 'tipo', 'de', 'informações', 'que', 'exijam', 'segredo', 'como', 'por', 'exemplo', 'usuário', 'senhas', 'e', 'endereços', 'de', 'bd', 'se', 'a', 'solução', 'for', 'remodelar', 'o', 'software', 'por', 'favor', 'me', 'expliquem', 'como', 'manter', 'um', 'arquivo', 'externo', 'ao', 'código', 'fonte', 'de', 'uma', 'maneira', 'que', 'não', 'seja', 'possível', 'o', 'hacker', 'copiar', 'a', 'parte', 'do', 'meu', 'código', 'fonte', 'que', 'faz', 'a', 'leitura', 'desse', 'arquivo', 'externo', 'tendo', 'então', 'o', 'código', 'que', 'consegue', 'ler', 'o', 'arquivo', 'da', 'mesma', 'maneira', 'que', 'meu', 'software', 'faz', 'é', 'comum', 'que', 'se', 'ensine', 'que', 'o', 'certo', 'é', 'deixar', 'os', 'atributos', 'da', 'classe', 'privados', 'e', 'criar', 'e', 'para', 'eles', 'tudo', 'por', 'causa', 'do', 'encapsulamento', 'isso', 'não', 'é', 'a', 'mesma', 'coisa', 'que', 'deixar', 'tudo', 'público', 'já', 'que', 'você', 'pode', 'alterar', 'e', 'obter', 'o', 'valor', 'livremente', 'isso', 'não', 'cria', 'apenas', 'uma', 'ilusão', 'de', 'encapsulamento', 'é', 'recomendado', 'ou', 'não', 'o', 'seu', 'uso', 'por', 'quê', 'li', 'em', 'alguns', 'lugares', 'que', 'não', 'é', 'recomendado', 'o', 'uso', 'exagerado', 'do', 'pois', 'ele', 'torna', 'seu', 'código', 'difícil', 'de', 'ler', 'e', 'de', 'dar', 'manutenção', 'logo', 'não', 'é', 'uma', 'boa', 'prática', 'o', 'que', 'seria', 'o', 'uso', 'exagerado', 'de', 'em', 'um', 'código', 'quais', 'são', 'as', 'boas', 'práticas', 'em', 'um', 'código', 'para', 'evitar', 'muitos', 's', 'edit', 'a', 'idéia', 'da', 'campanha', 'anti', 'if', 'na', 'verdade', 'não', 'é', 'exterminar', 'o', 'if', 'e', 'sim', 'estimular', 'o', 'uso', 'correto', 'da', 'programação', 'orientada', 'a', 'objetos', 'que', 'deixa', 'o', 'código', 'mais', 'limpo', 'e', 'de', 'fácil', 'manutenção', 'a', 'minha', 'pergunta', 'é', 'na', 'verdade', 'saber', 'como', 'eu', 'devo', 'substituir', 'os', 'zilhões', 'de', 'if', 's', 'por', 'uma', 'boa', 'diagramação', 'de', 'classes', 'que', 'conceitos', 'da', 'programação', 'orientada', 'a', 'objetos', 'são', 'utilizados', 'para', 'atingir', 'tal', 'objetivo', 'entre', 'outras', 'palavras', 'porque', 'trocar', 'o', 'condicional', 'imperativo', 'pelo', 'polimorfismo', 'ou', 'outra', 'forma', 'que', 'facilite', 'o', 'entendimento', 'e', 'organização', 'do', 'código', 'fontes', 'de', 'motivação', 'leitura', 'campanha', 'anti', 'if', 'anti', 'if', 'campaigninglês', 'eu', 'estudei', 'java', 'há', 'bastante', 'tempo', 'e', 'estou', 'bem', 'familiarizado', 'com', 'o', 'funcionamento', 'de', 'tipos', 'genéricos', 'nessa', 'linguagem', 'sei', 'que', 'só', 'existem', 'em', 'tempo', 'de', 'compilação', 'que', 'sofrem', 'type', 'erasure', 'ao', 'final', 'da', 'mesma', 'de', 'modo', 'que', 'no', 'tempo', 'de', 'execução', 'essas', 'informações', 'não', 'estão', 'disponíveis', 'e', 'tenho', 'uma', 'certa', 'noção', 'das', 'dificuldades', 'ao', 'se', 'aplicar', 'polimorfismo', 'em', 'tipos', 'genéricos', 'agora', 'estou', 'aprendendo', 'c', 'e', 'reparei', 'que', 'embora', 'essa', 'linguagem', 'use', 'notação', 'semelhante', 'a', 'semântica', 'não', 'parece', 'ser', 'a', 'mesma', 'por', 'exemplo', 'ao', 'ver', 'essa', 'pergunta', 'entendi', 'que', 'o', 'runtime', 'do', 'c', 'guarda', 'a', 'informação', 'dos', 'tipos', 'genéricos', 'em', 'vez', 'de', 'descartála', 'diferentemente', 'do', 'java', 'isso', 'está', 'correto', 'além', 'disso', 'nunca', 'vi', 'um', 'exemplo', 'em', 'c', 'que', 'utilizasse', 'coringas', 'wildcards', 'como', 'isso', 'é', 'possível', 'ou', 'mesmo', 'necessário', 'nessa', 'linguagem', 'por', 'fim', 'c', 'suporta', 'métodos', 'individuais', 'e', 'não', 'somente', 'classes', 'genéricos', 'se', 'sim', 'qual', 'a', 'sintaxe', 'equivalente', 'dessa', 'construção', 'em', 'java', 'se', 'houver', 'algum', 'detalhe', 'adicional', 'que', 'mereça', 'destaque', 'ou', 'talvez', 'algum', 'material', 'de', 'referência', 'para', 'aprender', 'mais', 'também', 'será', 'bemvindo', 'em', 'javascript', 'podemos', 'declarar', 'uma', 'matriz', 'de', 'duas', 'maneiras', 'e', 'qual', 'é', 'a', 'diferença', 'entre', 'as', 'duas', 'e', 'que', 'consequências', 'dai', 'advêm', 'esta', 'pergunta', 'está', 'a', 'ser', 'colocada', 'com', 'o', 'propósito', 'de', 'documentar', 'em', 'português', 'a', 'sua', 'versão', 'original', 'que', 'pode', 'ser', 'vista', 'no', 'soen', 'whats', 'the', 'difference', 'between', 'array', 'and', 'while', 'declaring', 'a', 'javascript', 'array', 'sempre', 'achei', 'que', 'o', 'operador', 'funcionava', 'apenas', 'como', 'uma', 'forma', 'mais', 'curta', 'para', 'o', 'incremento', 'tradicional', 'por', 'exemplo', 'ao', 'invés', 'de', 'mas', 'ao', 'realizar', 'o', 'seguinte', 'experimento', 'então', 'quando', 'executo', 'resulta', 'em', 'erro', 'enquanto', 'compila', 'normalmente', 'diante', 'disso', 'será', 'que', 'é', 'possível', 'afirmar', 'que', 'na', 'verdade', 'é', 'semelhante', 'a', 'tenho', 'essa', 'dúvida', 'qual', 'a', 'diferença', 'entre', 'e', 'e', 'entre', 'e', 'qual', 'deles', 'devo', 'usar', 'como', 'saber', 'se', 'o', 'código', 'é', 'de', 'fácil', 'leitura', 'e', 'manutenção', 'costumo', 'abstrair', 'grande', 'parte', 'dos', 'meus', 'códigos', 'tenho', 'costume', 'de', 'usar', 'muito', 'funções', 'lambda', 'no', 'c', 'como', 'essa', 'função', 'para', 'validação', 'de', 'cpf', 'nesse', 'exemplo', 'comentei', 'para', 'facilitar', 'quem', 'for', 'realizar', 'leitura', 'ou', 'alteração', 'no', 'código', 'a', 'solução', 'seria', 'comentar', 'eou', 'utilizar', 'a', 'quantidade', 'mínima', 'possível', 'de', 'funções', 'prontas', 'que', 'agilizam', 'muito', 'desenvolvimento', 'quais', 'outras', 'técnicas', 'podem', 'ser', 'usadas', 'para', 'melhorar', 'a', 'legibilidade', 'do', 'código', 'eu', 'tenho', 'duas', 'aplicações', 'em', 'domínios', 'diferentes', 'e', 'preciso', 'realizar', 'uma', 'requisição', 'ajax', 'entre', 'elas', 'via', 'ou', 'de', 'forma', 'crossdomain', 'qual', 'seria', 'a', 'maneira', 'mais', 'segura', 'de', 'implementar', 'isto', 'em', 'javascript', 'sem', 'fazer', 'uso', 'de', 'nenhuma', 'api', 'ou', 'framework', 'de', 'uma', 'forma', 'que', 'funcione', 'em', 'todos', 'os', 'navegadores', 'crossbrowser', 'quando', 'estudei', 'mvc', 'pela', 'primeira', 'vez', 'no', 'livro', 'falava', 'muito', 'sobre', 'ddd', 'domaindriven', 'design', 'pelo', 'que', 'eu', 'entendi', 'na', 'época', 'a', 'ideia', 'do', 'ddd', 'era', 'simplesmente', 'programar', 'o', 'software', 'com', 'foco', 'no', 'desenvolvimento', 'da', 'camada', 'de', 'domínio', 'depois', 'disso', 'lendo', 'sobre', 'o', 'processo', 'de', 'análise', 'e', 'projeto', 'em', 'orientação', 'a', 'objetos', 'tive', 'a', 'impressão', 'de', 'que', 'sempre', 'que', 'programamos', 'um', 'software', 'orientado', 'a', 'objetos', 'damos', 'essa', 'ênfase', 'na', 'camada', 'de', 'domínio', 'começando', 'por', 'ela', 'e', 'usando', 'os', 'requisitos', 'pra', 'montar', 'ela', 'corretamente', 'isso', 'faz', 'parecer', 'que', 'o', 'ddd', 'prega', 'basicamente', 'a', 'mesma', 'coisa', 'que', 'o', 'processo', 'de', 'análise', 'e', 'projeto', 'em', 'orientação', 'a', 'objetos', 'dessa', 'forma', 'o', 'que', 'realmente', 'é', 'o', 'ddd', 'e', 'quando', 'ele', 'se', 'aplica', 'de', 'verdade', 'quais', 'as', 'vantagens', 'de', 'se', 'usar', 'ddd', 'em', 'um', 'projeto', 'eu', 'sei', 'que', 'existe', 'um', 'livro', 'chamado', 'domaindriven', 'design', 'tackling', 'complexity', 'in', 'the', 'heart', 'of', 'software', 'mas', 'por', 'ser', 'um', 'livro', 'muito', 'extenso', 'nunca', 'consegui', 'parar', 'pra', 'ler', 'ele', 'existe', 'alguma', 'referência', 'mais', 'resumida', 'sobre', 'o', 'assunto', 'vejo', 'isso', 'em', 'várias', 'classes', 'de', 'terceiros', 'lembrando', 'que', 'o', 'fechamento', 'geralmente', 'é', 'o', 'mas', 'sem', 'é', 'muito', 'comum', 'falarse', 'sobre', 'o', 'padrão', 'mvc', 'modelviewcontroller', 'mas', 'as', 'siglas', 'mvp', 'modelviewpresenter', 'e', 'mvvm', 'modelviewviewmodel', 'são', 'bem', 'pouco', 'citadas', 'o', 'que', 'eles', 'são', 'e', 'qual', 'a', 'relação', 'deles', 'com', 'o', 'mvc', 'qual', 'a', 'melhor', 'forma', 'por', 'melhor', 'eu', 'quero', 'dizer', 'com', 'maior', 'compatibilidade', 'possível', 'entre', 'browsers', 'e', 'o', 'mais', 'simples', 'possível', 'de', 'posicionar', 'um', 'elemento', 'no', 'centro', 'da', 'página', 'vertical', 'e', 'horizontalmente', 'e', 'independentemente', 'de', 'resolução', 'utilizando', 'somente', 'css', 'é', 'comum', 'vermos', 'em', 'softwares', 'para', 'qualquer', 'plataforma', 'alguns', 'lugares', 'onde', 'o', 'usuário', 'pode', 'selecionar', 'uma', 'opção', 'e', 'para', 'identificar', 'lá', 'o', 'que', 'é', 'esta', 'opção', 'pode', 'haver', 'um', 'ícone', 'ou', 'pode', 'haver', 'um', 'texto', 'curto', 'ou', 'ainda', 'podemos', 'encontrar', 'ambos', 'imagino', 'que', 'existam', 'contextos', 'onde', 'uma', 'opção', 'é', 'mais', 'adequada', 'que', 'outra', 'ou', 'será', 'que', 'só', 'uma', 'delas', 'é', 'adequada', 'e', 'as', 'outras', 'são', 'usadas', 'erroneamente', 'por', 'contexto', 'falo', 'da', 'plataforma', 'do', 'tipo', 'de', 'aplicação', 'do', 'tipo', 'de', 'operação', 'onde', 'tem', 'esta', 'representação', 'tipo', 'de', 'audiência', 'etc', 'alguns', 'softwares', 'adotam', 'um', 'default', 'mas', 'deixam', 'escolher', 'isto', 'existe', 'alguma', 'desvantagem', 'em', 'dar', 'esta', 'escolha', 'para', 'o', 'usuário', 'obviamente', 'não', 'estou', 'buscando', 'opiniões', 'nem', 'quero', 'saber', 'o', 'que', 'você', 'usa', 'preciso', 'de', 'justificativa', 'clara', 'e', 'tão', 'fundamentada', 'quanto', 'possível', 'eu', 'sei', 'que', 'idealmente', 'testes', 'devem', 'ser', 'feitos', 'com', 'a', 'audiência', 'nem', 'sempre', 'isto', 'é', 'possível', 'por', 'um', 'motivo', 'ou', 'outro', 'você', 'encontra', 'na', 'internet', 'a', 'afirmação', 'que', 'singletons', 'são', 'ruins', 'isto', 'é', 'verdade', 'por', 'quê', 'o', 'problema', 'seria', 'generalizado', 'para', 'quaisquer', 'objetos', 'com', 'instância', 'única', 'ou', 'para', 'qualquer', 'coisa', 'que', 'tenha', 'estado', 'global', 'se', 'é', 'tão', 'ruim', 'pra', 'que', 'foi', 'inventado', 'ou', 'seja', 'que', 'problema', 'ele', 'queria', 'resolver', 'quais', 'os', 'problemas', 'que', 'terei', 'se', 'usálo', 'existe', 'alternativa', 'viável', 'recentemente', 'em', 'meus', 'estudo', 'notei', 'um', 'objeto', 'que', 'manipulava', 'o', 'dom', 'do', 'elemento', 'que', 'tinha', 'o', 'mesmo', 'nome', 'em', 'seu', 'id', 'dúvida', 'por', 'que', 'os', 'ids', 'vão', 'para', 'o', 'global', 'space', 'se', 'eu', 'posso', 'acessar', 'o', 'elemento', 'direto', 'por', 'seu', 'id', 'por', 'que', 'usar', 'getelementbyid', 'nota', 'objetos', 'de', 'nome', 'composto', 'são', 'acessíveis', 'no', 'window', 'em', 'quais', 'situações', 'devem', 'ser', 'usados', 'qual', 'a', 'diferença', 'entre', 'eles', 'para', 'aceder', 'a', 'uma', 'área', 'em', 'particular', 'do', 'site', 'tenho', 'que', 'indicar', 'de', 'um', 'a', 'três', 'parâmetros', 'no', 'url', 'url', 'normal', 'através', 'do', 'htaccess', 'estou', 'a', 'tentar', 'permitir', 'acesso', 'aos', 'módulos', 'submódulos', 'e', 'conteúdos', 'específicos', 'da', 'seguinte', 'forma', 'até', 'ao', 'momento', 'tenho', 'o', 'seguinte', 'o', 'código', 'em', 'baixo', 'permiteme', 'aceder', 'ao', 'módulo', 'mas', 'tenho', 'que', 'o', 'repetir', 'por', 'cada', 'módulo', 'existente', 'faltando', 'ainda', 'lidar', 'com', 'submódulos', 'e', 'conteúdos', 'específicos', 'pergunta', 'como', 'é', 'que', 'consigo', 'através', 'do', 'ler', 'os', 'endereços', 'para', 'que', 'possam', 'ser', 'utilizados', 'de', 'ambas', 'as', 'maneiras', 'em', 'cima', 'apresentadas', 'tendo', 'em', 'conta', 'os', 'três', 'possíveis', 'parâmetros', 'sou', 'estudante', 'em', 'sistemas', 'de', 'informação', 'e', 'estou', 'modelando', 'um', 'jogo', 'um', 'pet', 'virtual', 'que', 'tem', 'suas', 'necessidades', 'e', 'conversa', 'com', 'seu', 'dono', 'abaixo', 'segue', 'a', 'modelagem', 'das', 'classes', 'e', 'interfaces', 'mostrei', 'para', 'um', 'amigo', 'formado', 'em', 'ciência', 'da', 'computação', 'ele', 'achou', 'que', 'tem', 'muitas', 'interfaces', 'que', 'não', 'era', 'necessário', 'eu', 'argumentei', 'que', 'caso', 'no', 'futuro', 'eu', 'poderia', 'dar', 'manutenção', 'e', 'implementar', 'pets', 'da', 'forma', 'que', 'eu', 'quisesse', 'sem', 'muito', 'esforço', 'podendo', 'criar', 'um', 'pet', 'híbrido', 'entre', 'animal', 'e', 'robo', 'e', 'atribuindo', 'a', 'ele', 'seus', 'comportamentos', 'através', 'das', 'interfaces', 'mas', 'enfim', 'ele', 'veio', 'com', 'argumentos', 'de', 'desempenho', 'da', 'aplicação', 'minha', 'dúvida', 'é', 'se', 'minha', 'modelagem', 'que', 'não', 'está', 'pronta', 'apenas', 'um', 'esboço', 'com', 'tantas', 'interfaces', 'é', 'uma', 'má', 'prática', 'de', 'programação', 'quando', 'devo', 'utilizar', 'uma', 'interface', 'link', 'da', 'imagem', 'preciso', 'colocar', 'um', 'com', 'aquele', 'olho', 'do', 'revelar', 'senha', 'porém', 'tem', 'que', 'funcionar', 'da', 'seguinte', 'maneira', 'usuário', 'clica', 'no', 'olho', 'e', 'ao', 'soltar', 'esconde', 'os', 'caracteres', 'novamente', 'segue', 'uma', 'foto', 'de', 'exemplo', 'atualmente', 'temos', 'percebido', 'que', 'muita', 'gente', 'vem', 'utilizando', 'a', 'tag', 'para', 'ícones', 'e', 'não', 'para', 'itálico', 'se', 'ainda', 'estivéssemos', 'na', 'era', 'préhtml', 'isso', 'estaria', 'totalmente', 'errado', 'segundo', 'especificação', 'da', 'tag', 'do', 'html', 'agora', 'ela', 'é', 'utilizada', 'para', 'o', 'texto', 'de', 'uma', 'voz', 'alternativa', 'como', 'palavras', 'estrangeiras', 'transliteradas', 'termos', 'técnicos', 'e', 'tipografias', 'então', 'se', 'utilizarmos', 'icon', 'fonts', 'que', 'são', 'tipografias', 'de', 'imagens', 'o', 'código', 'continuará', 'semanticamente', 'correto', 'certo', 'no', 'wikipédia', 'possui', 'a', 'seguinte', 'afirmação', 'na', 'teoria', 'de', 'linguagens', 'formais', 'uma', 'linguagem', 'livre', 'de', 'contexto', 'llc', 'é', 'uma', 'linguagem', 'gerada', 'por', 'alguma', 'gramática', 'livre', 'de', 'contexto', 'glc', 'diferentes', 'gramáticas', 'livres', 'de', 'contexto', 'podem', 'gerar', 'a', 'mesma', 'linguagem', 'livre', 'de', 'contexto', 'ou', 'inversamente', 'uma', 'dada', 'linguagem', 'livre', 'de', 'contexto', 'pode', 'ser', 'gerada', 'por', 'diferentes', 'gramáticas', 'livres', 'de', 'contexto', 'oh', 'god', 'no', 'entanto', 'achei', 'a', 'explicação', 'um', 'pouco', 'confusa', 'embaralhada', 'e', 'sendo', 'assim', 'ainda', 'pergunto', 'o', 'que', 'é', 'uma', 'linguagem', 'livre', 'de', 'contexto', 'como', 'é', 'possível', 'se', 'é', 'possível', 'definir', 'se', 'uma', 'linguagem', 'é', 'livre', 'de', 'contexto', 'ou', 'não', 'comecei', 'a', 'estudar', 'aspnet', 'mvc', 'e', 'me', 'deparei', 'com', 'o', 'termo', 'scaffold', 'não', 'entendi', 'muito', 'bem', 'por', 'isso', 'as', 'perguntas', 'º', 'o', 'que', 'é', 'º', 'qual', 'sua', 'utilização', 'dentro', 'do', 'aspnet', 'mvc', 'pelo', 'que', 'sei', 'programação', 'assíncrona', 'em', 'c', 'por', 'exemplo', 'se', 'usa', 'da', 'ideia', 'de', 'threads', 'as', 'tarefas', 'a', 'serem', 'executadas', 'podem', 'ser', 'divididas', 'nas', 'threads', 'e', 'então', 'podem', 'ser', 'executadas', 'paralelamente', 'sempre', 'imaginei', 'que', 'javascript', 'fosse', 'igual', 'e', 'que', 'por', 'exemplo', 'quando', 'chamamos', 'a', 'função', 'estamos', 'instruindo', 'que', 'aquele', 'código', 'deve', 'ser', 'transferido', 'para', 'outra', 'thread', 'acontece', 'que', 'depois', 'descobri', 'que', 'javascript', 'não', 'tem', 'isso', 'ele', 'roda', 'em', 'uma', 'thread', 'só', 'e', 'não', 'tem', 'como', 'distribuir', 'as', 'tarefas', 'em', 'threads', 'mas', 'ainda', 'assim', 'a', 'programação', 'assíncrona', 'é', 'um', 'dos', 'pontos', 'principais', 'da', 'linguagem', 'como', 'que', 'isso', 'é', 'feito', 'no', 'javascript', 'e', 'qual', 'a', 'relação', 'disso', 'com', 'promessas', 'e', 'callbacks', 'pelas', 'pesquisas', 'tive', 'o', 'conhecimento', 'que', 'as', 'views', 'em', 'sql', 'são', 'como', 'tabelas', 'virtuais', 'resultados', 'de', 'pesquisas', 'armazenadas', 'de', 'acesso', 'frequente', 'a', 'ws', 'define', 'essencialmente', 'como', 'tabela', 'virtual', 'há', 'que', 'diga', 'que', 'views', 'são', 'pesquisas', 'armazenadas', 'dúvidas', 'o', 'que', 'são', 'views', 'quais', 'vantagens', 'e', 'desvantagens', 'em', 'utilizar', 'assumindo', 'que', 'são', 'tabelas', 'virtuais', 'eu', 'gostaria', 'de', 'saber', 'se', 'elas', 'são', 'sempre', 'carregadas', 'na', 'altura', 'em', 'que', 'o', 'servidor', 'de', 'base', 'de', 'dados', 'arranca', 'e', 'sempre', 'que', 'alguma', 'das', 'tabelas', 'envolvidasrelacionadas', 'a', 'esta', 'view', 'sofrer', 'uma', 'atualização', 'a', 'view', 'sofre', 'de', 'igual', 'modo', 'se', 'for', 'apenas', 'uma', 'consulta', 'que', 'diferença', 'terá', 'com', 'storedprocedure', 'se', 'eu', 'fizer', 'o', 'hash', 'de', 'senhas', 'antes', 'de', 'armazenálas', 'em', 'meu', 'banco', 'de', 'dados', 'é', 'suficiente', 'para', 'evitar', 'que', 'elas', 'sejam', 'recuperadas', 'por', 'alguém', 'estou', 'falando', 'apenas', 'da', 'recuperação', 'diretamente', 'do', 'banco', 'de', 'dados', 'e', 'não', 'qualquer', 'outro', 'tipo', 'de', 'ataque', 'como', 'força', 'bruta', 'na', 'página', 'de', 'login', 'da', 'aplicação', 'keylogger', 'no', 'cliente', 'e', 'criptoanálise', 'rubberhose', 'qualquer', 'forma', 'de', 'hash', 'não', 'vai', 'impedir', 'esses', 'ataques', 'tenho', 'preocupação', 'em', 'dificultar', 'ou', 'até', 'impossibilitar', 'a', 'obtenção', 'das', 'senhas', 'originais', 'caso', 'o', 'banco', 'de', 'dados', 'seja', 'comprometido', 'como', 'dar', 'maior', 'garantia', 'de', 'segurança', 'neste', 'aspecto', 'quais', 'preocupações', 'adicionais', 'evitariam', 'o', 'acesso', 'às', 'senhas', 'existem', 'formas', 'melhores', 'de', 'fazer', 'esse', 'hash', 'qual', 'a', 'diferença', 'entre', 'e', 'quando', 'devo', 'usar', 'cada', 'um', 'especificamente', 'vejo', 'como', 'uma', 'dúvida', 'muito', 'frequente', 'quando', 'devemos', 'usar', 'o', 'ou', 'o', 'no', 'php', 'qual', 'forma', 'é', 'mais', 'adequada', 'para', 'o', 'uso', 'e', 'qual', 'a', 'diferença', 'das', 'situações', 'sei', 'que', 'são', 'funções', 'que', 'não', 'tem', 'o', 'nome', 'especificado', 'mas', 'qual', 'a', 'finalidade', 'é', 'possível', 'recursividade', 'com', 'funções', 'anônimas', 'ex', 'sequência', 'de', 'fibonacci', 'num', 'handler', 'de', 'evento', 'do', 'jquery', 'podese', 'usar', 'e', 'ou', 'combinações', 'desses', 'para', 'cancelar', 'a', 'ação', 'do', 'evento', 'sei', 'que', 'tem', 'diferença', 'no', 'comportamento', 'deles', 'mas', 'sinceramente', 'sempre', 'que', 'preciso', 'fazer', 'algo', 'do', 'tipo', 'começo', 'com', 'e', 'vou', 'na', 'tentativa', 'e', 'erro', 'porque', 'ainda', 'não', 'compreendo', 'muito', 'bem', 'a', 'diferença', 'já', 'li', 'em', 'algum', 'lugar', 'que', 'é', 'a', 'mesma', 'coisa', 'que', 'acionar', 'e', 'ambos', 'e', 'já', 'li', 'gente', 'dizendo', 'que', 'não', 'é', 'bem', 'assim', 'alguém', 'pode', 'explicar', 'melhor', 'como', 'devo', 'fazer', 'pra', 'decidir', 'qual', 'desses', 'caras', 'eu', 'preciso', 'com', 'exemplos', 'boa', 'noite', 'estou', 'tentando', 'fazer', 'um', 'acesso', 'de', 'minha', 'máquina', 'local', 'a', 'um', 'servidor', 'e', 'estou', 'recebendo', 'esta', 'resposta', 'no', 'accesscontrolalloworigin', 'header', 'is', 'present', 'on', 'the', 'requested', 'resource', 'origin', 'httplocalhost', 'is', 'therefore', 'not', 'allowed', 'access', 'porém', 'usando', 'o', 'postman', 'eu', 'consigo', 'este', 'são', 'os', 'requisitos', 'do', 'servidor', 'meu', 'código', 'alguem', 'me', 'da', 'uma', 'luz', 'ok', 'já', 'li', 'o', 'que', 'uma', 'arquitetura', 'de', 'microservios', 'e', 'artigos', 'sobre', 'o', 'assunto', 'sei', 'o', 'que', 'é', 'e', 'como', 'funciona', 'mas', 'ainda', 'não', 'sei', 'que', 'problema', 'ele', 'tenta', 'resolver', 'quais', 'as', 'vantagens', 'de', 'usálo', 'do', 'ponto', 'de', 'vista', 'do', 'desenvolvimento', 'e', 'manutenção', 'de', 'software', 'e', 'do', 'funcionamento', 'da', 'solução', 'e', 'as', 'desvantagens', 'me', 'parece', 'que', 'ele', 'gera', 'um', 'overhead', 'dá', 'a', 'impressão', 'que', 'a', 'solução', 'se', 'torna', 'mais', 'complexa', 'e', 'quais', 'minificadores', 'posso', 'usar', 'existe', 'diferença', 'entre', 'além', 'de', 'um', 'ser', 'javascript', 'e', 'o', 'outro', 'ser', 'jquery', 'vejo', 'que', 'ambos', 'os', 'eventos', 'são', 'disparados', 'assim', 'que', 'o', 'dom', 'modelo', 'de', 'objetos', 'do', 'documento', 'é', 'carregado', 'na', 'prática', 'como', 'são', 'escritos', 'estou', 'desenvolvendo', 'um', 'projeto', 'para', 'automação', 'comercial', 'utilizando', 'pafecf', 'e', 'tudo', 'o', 'mais', 'aual', 'seria', 'o', 'melhor', 'tipo', 'de', 'dados', 'para', 'trabalhar', 'com', 'sql', 'server', 'e', 'c', 'para', 'questões', 'de', 'dinheiro', 'principalmente', 'em', 'relação', 'a', 'arredondamentos', 'e', 'truncamentos', 'imagino', 'que', 'as', 'melhores', 'opções', 'sejam', 'ou', 'mas', 'não', 'consigo', 'encontrar', 'boas', 'fontes', 'confiáveis', 'que', 'se', 'adaptam', 'ao', 'meu', 'caso', 'para', 'que', 'eu', 'possa', 'implementar', 'com', 'segurança', 'existe', 'diferença', 'de', 'performance', 'entre', 'utilizar', 'um', 'if', 'e', 'um', 'operador', 'ternário', 'em', 'c', 'utilizo', 'resharper', 'ferramenta', 'de', 'produtividade', 'para', 'o', 'vs', 'ele', 'insiste', 'que', 'o', 'operador', 'ternário', 'é', 'melhor', 'mas', 'não', 'me', 'explica', 'o', 'porque', 'código', 'antes', 'do', 'refactoring', 'depois', 'achei', 'engraçado', 'o', 'exemplo', 'mas', 'é', 'válida', 'a', 'pergunta', 'no', 'sentido', 'de', 'entender', 'o', 'porquê', 'de', 'o', 'php', 'se', 'comportar', 'dessa', 'forma', 'quando', 'fazemos', 'a', 'soma', 'exemplificada', 'abaixo', 'uma', 'inteiro', 'somado', 'a', 'uma', 'string', 'o', 'resultado', 'é', 'porém', 'nesse', 'caso', 'ele', 'retorna', 'apenas', 'por', 'que', 'o', 'interpretador', 'do', 'php', 'se', 'comporta', 'dessa', 'forma', 'como', 'busco', 'nos', 'correios', 'os', 'detalhes', 'de', 'um', 'endereço', 'utilizando', 'seu', 'cep', 'similar', 'aos', 'cadastros', 'de', 'endereço', 'que', 'vemos', 'nos', 'sites', 'de', 'ecommerce', 'até', 'o', 'java', 'tínhamos', 'as', 'classes', 'e', 'para', 'representar', 'datas', 'para', 'convertêlas', 'para', 's', 'a', 'forma', 'mais', 'fácil', 'era', 'com', 'o', 'uso', 'do', 'o', 'java', 'introduziu', 'uma', 'nova', 'api', 'de', 'datas', 'como', 'é', 'que', 'ela', 'pode', 'ser', 'usada', 'como', 'faço', 'para', 'integrar', 'ela', 'com', 'as', 'e', 'que', 'são', 'usadas', 'em', 'código', 'já', 'existente', 'e', 'legados', 'qual', 'é', 'a', 'relação', 'dele', 'com', 'o', 'jodatime', 'me', 'parece', 'que', 'o', 'conceito', 'de', 'protótipo', 'é', 'fundamental', 'em', 'javascript', 'e', 'inclusive', 'em', 'vários', 'lugares', 'tenho', 'lido', 'que', 'é', 'um', 'de', 'seus', 'pontos', 'fortes', 'entretanto', 'este', 'não', 'parece', 'um', 'conceito', 'tão', 'simples', 'de', 'entender', 'para', 'quem', 'vem', 'de', 'outras', 'linguagens', 'assim', 'pergunto', 'como', 'funcionam', 'protótipos', 'em', 'javascript', 'estou', 'começando', 'a', 'estudar', 'composer', 'e', 'estou', 'desenvolvendo', 'um', 'sistema', 'onde', 'separo', 'arquivos', 'do', 'core', 'de', 'arquivos', 'da', 'aplicação', 'da', 'seguinte', 'forma', 'root', 'src', 'app', 'dbconfig', 'controller', 'model', 'core', 'helper', 'controller', 'model', 'então', 'para', 'setar', 'esta', 'configuração', 'no', 'arquivo', 'composerjson', 'e', 'conseguir', 'ter', 'acesso', 'a', 'todas', 'as', 'classes', 'tanto', 'de', 'app', 'quanto', 'de', 'core', 'seria', 'desta', 'forma', 'autoload', 'psrx', 'app', 'src', 'core', 'src', 'ou', 'há', 'uma', 'forma', 'mais', 'correta', 'tenho', 'lido', 'também', 'sobre', 'psr', 'vs', 'psr', 'e', 'ainda', 'estou', 'um', 'pouco', 'em', 'dúvidas', 'de', 'qual', 'utilizar', 'neste', 'meu', 'caso', 'qual', 'devo', 'implementar', 'psr', 'ou', 'psr', 'por', 'que', 'é', 'obrigatório', 'implementar', 'esse', 'método', 'em', 'uma', 'aplicação', 'java', 'tenho', 'usado', 'uma', 'biblioteca', 'de', 'javascript', 'para', 'fazer', 'iconessimbolos', 'de', 'uma', 'app', 'de', 'metereologia', 'queria', 'agora', 'fazer', 'em', 'svg', 'o', 'simbolo', 'da', 'nuvem', 'céu', 'nublado', 'e', 'questionome', 'sobre', 'qual', 'a', 'melhor', 'abordagem', 'fiz', 'um', 'svg', 'com', 'a', 'linha', 'da', 'nuvem', 'estática', 'jsfiddle', 'e', 'uma', 'rotação', 'básica', 'que', 'não', 'é', 'o', 'efeito', 'pretendido', 'uma', 'vez', 'que', 'a', 'nuvem', 'original', 'na', 'animação', 'com', 'o', 'canvasjs', 'tem', 'arcos', 'que', 'expandem', 'e', 'contraem', 'à', 'medida', 'que', 'rotacionam', 'possiveis', 'abordagens', 'que', 'pensei', 'fazer', 'circulos', 'usando', 'dash', 'para', 'ter', 'só', 'arcos', 'e', 'depois', 'tentar', 'animar', 'esse', 'valor', 'e', 'fazer', 'tudo', 'rodar', 'à', 'volta', 'de', 'um', 'eixo', 'fazer', 'path', 'e', 'depois', 'tentar', 'animar', 'esse', 'valor', 'e', 'fazer', 'tudo', 'rodar', 'à', 'volta', 'de', 'um', 'eixo', 'haverá', 'uma', 'maneira', 'melhor', 'e', 'que', 'funcione', 'em', 'browsers', 'modernos', 'de', 'maneira', 'a', 'recriar', 'a', 'animação', 'mas', 'com', 'svg', 'o', 'exemplo', 'de', 'js', 'como', 'no', 'jsfiddle', 'em', 'cima', 'ao', 'criar', 'um', 'componente', 'usamos', 'para', 'identificálo', 'por', 'exemplo', 'qual', 'é', 'a', 'diferença', 'de', 'usar', 'sem', 'o', 'no', 'lugar', 'do', 'é', 'correto', 'usar', 'um', 'ou', 'outro', 'otimização', 'prematura', 'é', 'quando', 'há', 'uma', 'preocupação', 'excessiva', 'por', 'parte', 'do', 'programador', 'com', 'o', 'desempenho', 'da', 'aplicação', 'ela', 'é', 'normalmente', 'condenada', 'por', 'alguns', 'programadores', 'por', 'motivos', 'como', 'isso', 'pode', 'deixar', 'o', 'código', 'mais', 'complexo', 'sua', 'produtividade', 'cai', 'você', 'perde', 'tempo', 'há', 'uma', 'grande', 'chance', 'de', 'você', 'se', 'preocupar', 'muito', 'com', 'otimizações', 'que', 'não', 'trarão', 'uma', 'melhora', 'perceptível', 'pelo', 'usuário', 'a', 'recomendação', 'seria', 'que', 'você', 'primeiro', 'fizesse', 'funcionar', 'e', 'só', 'depois', 'identificasse', 'os', 'gargalos', 'de', 'desempenhos', 'e', 'os', 'corrigisse', 'porém', 'há', 'certas', 'otimizações', 'que', 'devem', 'ser', 'levadas', 'em', 'conta', 'desde', 'o', 'início', 'pois', 'depois', 'pode', 'se', 'tornar', 'mais', 'difícil', 'otimizar', 'até', 'que', 'ponto', 'devemos', 'nos', 'preocupar', 'com', 'o', 'desempenho', 'sem', 'que', 'isso', 'cause', 'uma', 'perda', 'considerável', 'na', 'produtividade', 'existe', 'alguma', 'situação', 'em', 'que', 'ter', 'o', 'banco', 'de', 'dados', 'desnormalizado', 'é', 'mais', 'interessante', 'que', 'têlo', 'normalizado', 'por', 'exemplo', 'normalizado', 'desnormalizado', 'em', 'algum', 'momento', 'o', 'segundo', 'caso', 'é', 'mais', 'apropriado', 'que', 'o', 'primeiro', 'qual', 'a', 'melhor', 'forma', 'de', 'se', 'representar', 'unidades', 'monetárias', 'ie', 'dinheiro', 'em', 'javascript', 'sei', 'que', 'não', 'é', 'bom', 'usar', 'ponto', 'flutuante', 'dado', 'o', 'problema', 'de', 'arredondamento', 'mas', 'não', 'sei', 'qual', 'seria', 'a', 'melhor', 'alternativa', 'outras', 'linguagens', 'têm', 'tipos', 'como', 'builtins', 'mas', 'até', 'onde', 'eu', 'saiba', 'não', 'tem', 'nada', 'padronizado', 'ou', 'amplamente', 'utilizado', 'para', 'esse', 'propósito', 'em', 'javascript', 'até', 'o', 'momento', 'tenho', 'usado', 'inteiros', 'para', 'representar', 'centavos', 'e', 'feito', 'toda', 'formataçãoconversão', 'na', 'mão', 'há', 'uma', 'maneira', 'melhor', 'ou', 'mais', 'limpa', 'detalhes', 'adicionais', 'estou', 'buscando', 'uma', 'resposta', 'canônica', 'haja', 'vista', 'que', 'esse', 'é', 'um', 'requisito', 'comum', 'com', 'o', 'qual', 'muitos', 'de', 'nós', 'precisamos', 'lidar', 'e', 'que', 'frequentemente', 'é', 'feito', 'de', 'forma', 'incorreta', 'uma', 'boa', 'resposta', 'pode', 'tanto', 'ser', 'uma', 'indicação', 'de', 'biblioteca', 'desde', 'que', 'bem', 'embasada', 'quanto', 'um', 'guideline', 'para', 'se', 'implementar', 'manualmente', 'caso', 'a', 'resposta', 'certa', 'seja', 'depende', 'ie', 'não', 'exista', 'uma', 'forma', 'canônica', 'para', 'isso', 'exemplos', 'de', 'critérios', 'a', 'serem', 'considerados', 'não', 'exaustivo', 'confiabilidade', 'essa', 'representação', 'produz', 'resultados', 'corretos', 'em', 'operações', 'matemáticas', 'envolvendo', 'unidades', 'monetárias', 'ex', 'arredondamento', 'correto', 'se', 'comporta', 'bem', 'em', 'casos', 'limite', 'interoperabilidade', 'é', 'simples', 'converter', 'de', 'e', 'para', 'um', 'formato', 'aceito', 'pelo', 'servidor', 'eou', 'sistemas', 'externos', 'em', 'geral', 'um', 'decimal', 'sem', 'separador', 'de', 'milhar', 'e', 'usando', 'o', 'ponto', 'para', 'separar', 'a', 'parte', 'inteira', 'da', 'fracionária', 'robustez', 'se', 'o', 'usuário', 'entrar', 'com', 'os', 'dados', 'incorretamente', 'ex', 'usando', 'o', 'ponto', 'ou', 'a', 'vírgula', 'de', 'forma', 'incorretainconsistente', 'colocando', 'ou', 'não', 'o', 'cifrão', 'etc', 'a', 'conversão', 'para', 'esse', 'formato', 'interpreta', 'a', 'entrada', 'corretamente', 'eou', 'falha', 'consistentemente', 'apresentação', 'é', 'simples', 'formatar', 'esse', 'tipo', 'de', 'dados', 'para', 'ser', 'apresentado', 'ao', 'usuário', 'no', 'meu', 'projeto', 'estou', 'a', 'usar', 'a', 'função', 'no', 'entanto', 'gostaria', 'que', 'fosse', 'em', 'português', 'a', 'saída', 'da', 'data', 'de', 'momento', 'é', 'gostaria', 'que', 'ficasse', 'no', 'mesmo', 'modelo', 'mas', 'em', 'português', 'este', 'é', 'o', 'meu', 'código', 'li', 'essa', 'semana', 'que', 'agora', 'existe', 'uma', 'edição', 'do', 'vs', 'chamada', 'visual', 'studio', 'community', 'já', 'tem', 'a', 'versão', 'pra', 'baixar', 'e', 'vai', 'ter', 'a', 'também', 'assim', 'que', 'sair', 'pelo', 'que', 'estava', 'lendo', 'a', 'partir', 'do', 'vs', 'não', 'vai', 'existir', 'mais', 'o', 'express', 'e', 'só', 'vai', 'ter', 'essa', 'versão', 'community', 'o', 'que', 'não', 'entendi', 'muito', 'bem', 'foi', 'a', 'limitação', 'imposta', 'nessa', 'versão', 'community', 'ela', 'é', 'muito', 'mais', 'completa', 'do', 'que', 'as', 'versões', 'express', 'antigas', 'li', 'nesse', 'artigo', 'que', 'a', 'nova', 'versão', 'community', 'pode', 'ser', 'usada', 'em', 'quaisquer', 'projetos', 'comerciais', 'e', 'não', 'comerciais', 'desde', 'que', 'não', 'seja', 'por', 'uma', 'empresa', 'e', 'seja', 'uma', 'equipe', 'de', 'no', 'máximo', 'programadores', 'já', 'no', 'site', 'da', 'microsoft', 'diz', 'isso', 'download', 'visual', 'studio', 'community', 'for', 'a', 'free', 'fullfeatured', 'ide', 'with', 'powerful', 'coding', 'productivity', 'features', 'crossplatform', 'mobile', 'development', 'tools', 'for', 'windows', 'ios', 'and', 'android', 'and', 'access', 'to', 'thousands', 'of', 'extensions', 'this', 'edition', 'of', 'visual', 'studio', 'is', 'available', 'at', 'no', 'cost', 'for', 'nonenterprise', 'application', 'development', 'mas', 'fiquei', 'em', 'dúvida', 'se', 'esse', 'nonenterprise', 'application', 'development', 'significa', 'desenvolvimento', 'fora', 'de', 'empresas', 'como', 'diz', 'no', 'artigo', 'ou', 'se', 'significa', 'desenvolvimento', 'de', 'aplicações', 'que', 'não', 'sejam', 'para', 'empresas', 'dessa', 'forma', 'minha', 'pergunta', 'é', 'a', 'seguinte', 'um', 'programador', 'que', 'trabalha', 'sozinho', 'ou', 'com', 'uma', 'equipe', 'de', 'no', 'máximo', 'programadores', 'desde', 'que', 'trabalhe', 'por', 'conta', 'própria', 'fora', 'de', 'uma', 'empresa', 'poderá', 'usar', 'o', 'vs', 'community', 'em', 'qualquer', 'projeto', 'seja', 'ele', 'comercial', 'ou', 'não', 'comercial', 'e', 'seja', 'ele', 'código', 'aberto', 'ou', 'fechado', 'estou', 'percebendo', 'a', 'adesão', 'do', 'angularjs', 'e', 'o', 'abandono', 'do', 'jquery', 'por', 'parte', 'de', 'alguns', 'desenvolvedores', 'no', 'entanto', 'não', 'conheço', 'as', 'vantagens', 'do', 'angularjs', 'pois', 'nunca', 'trabalhei', 'com', 'este', 'framework', 'visto', 'que', 'alguns', 'blogs', 'ex', 'jeremyzerr', 'paulhammant', 'encorajam', 'o', 'uso', 'do', 'angularjs', 'gostaria', 'de', 'saber', 'quais', 'as', 'diferenças', 'entre', 'esses', 'frameworks', 'e', 'se', 'vale', 'a', 'pena', 'a', 'troca', 'alguns', 'tópicos', 'tudo', 'que', 'é', 'feito', 'no', 'jquery', 'pode', 'ser', 'feito', 'no', 'angularjs', 'qual', 'utiliza', 'menos', 'código', 'qual', 'é', 'o', 'mais', 'rápido', 'no', 'processamento', 'qual', 'o', 'mais', 'leve', 'qual', 'é', 'o', 'de', 'mais', 'fácil', 'manutenção', 'como', 'é', 'a', 'curva', 'de', 'aprendizado', 'para', 'cada', 'um', 'quais', 'são', 'as', 'limitações', 'de', 'cada', 'um', 'o', 'que', 'um', 'faz', 'melhor', 'do', 'que', 'o', 'outro', 'é', 'legal', 'utilizar', 'ambos', 'ao', 'mesmo', 'tempo', 'obs', 'exemplos', 'são', 'bemvindos', 'comecei', 'em', 'a', 'usar', 'padrão', 'mvc', 'o', 'conceito', 'de', 'model', 'e', 'controller', 'entendo', 'perfeitamente', 'mas', 'a', 'questão', 'de', 'view', 'me', 'intriga', 'o', 'que', 'é', 'a', 'view', 'em', 'um', 'modelo', 'mvc', 'sei', 'que', 'é', 'o', 'que', 'o', 'cliente', 'vê', 'representação', 'dos', 'dados', 'mas', 'o', 'que', 'pode', 'ser', 'entendido', 'como', 'parte', 'de', 'uma', 'view', 'e', 'no', 'caso', 'de', 'uma', 'aplicação', 'separada', 'para', 'a', 'interface', 'do', 'cliente', 'posso', 'considerar', 'essa', 'como', 'a', 'camada', 'de', 'view', 'em', 'outras', 'palavras', 'o', 'que', 'faz', 'parte', 'da', 'view', 'no', 'lado', 'do', 'servidor', 'falando', 'em', 'desenvolvimento', 'web', 'o', 'que', 'é', 'programação', 'orientada', 'a', 'eventos', 'o', 'que', 'difere', 'entre', 'a', 'programação', 'orientada', 'a', 'eventos', 'e', 'programação', 'orientada', 'a', 'objeto', 'que', 'linguagens', 'podemos', 'citar', 'que', 'são', 'orientada', 'a', 'eventos', 'tenho', 'um', 'textbox', 'queria', 'que', 'quando', 'uma', 'pessoa', 'digitasse', 'uma', 'vírgula', 'nesse', 'textbox', 'ela', 'fosse', 'bloqueada', 'e', 'não', 'aparecesse', 'no', 'textbox', 'como', 'fazer', 'isso', 'da', 'melhor', 'maneira', 'não', 'gostaria', 'que', 'se', 'a', 'pessoa', 'mantivesse', 'pressionada', 'a', 'virgula', 'ela', 'fosse', 'aparecendo', 'no', 'textbox', 'e', 'só', 'depois', 'fosse', 'apagada', 'foi', 'o', 'máximo', 'que', 'eu', 'consegui', 'fazer', 'é', 'apenas', 'conveniência', 'digo', 'é', 'desnecessário', 'instanciar', 'um', 'objeto', 'para', 'utilizar', 'uma', 'função', 'que', 'não', 'utiliza', 'os', 'dados', 'do', 'mesmo', 'há', 'diferença', 'na', 'execução', 'memória', 'processamento', 'recursos', 'em', 'geral', 'eu', 'vejo', 'uma', 'tendência', 'cada', 'vez', 'maior', 'embora', 'isto', 'já', 'existisse', 'antes', 'de', 'criar', 'várias', 'telas', 'vários', 'passos', 'para', 'executar', 'uma', 'única', 'ação', 'claro', 'que', 'o', 'advento', 'de', 'telas', 'menores', 'incentiva', 'isto', 'mas', 'estou', 'falando', 'de', 'desktop', 'normal', 'o', 'mesmo', 'vale', 'para', 'aplicações', 'web', 'normais', 'que', 'não', 'são', 'feitas', 'para', 'rodar', 'em', 'mobile', 'também', 'entendo', 'que', 'telas', 'superpopuladas', 'de', 'informação', 'que', 'permitem', 'fazer', 'várias', 'coisas', 'muitas', 'vezes', 'não', 'relacionadas', 'não', 'fazem', 'sentido', 'mas', 'percebo', 'que', 'antes', 'o', 'que', 'você', 'fazia', 'em', 'um', 'click', 'em', 'interfaces', 'modernizadas', 'acabam', 'exigindo', 'dois', 'três', 'ou', 'mais', 'clicks', 'para', 'se', 'alcançar', 'o', 'mesmo', 'propósito', 'muitas', 'vezes', 'você', 'limpa', 'a', 'tela', 'mas', 'dificulta', 'o', 'acesso', 'à', 'operação', 'desejada', 'este', 'tipo', 'de', 'filosofia', 'me', 'parece', 'prejudica', 'a', 'descoberta', 'da', 'operação', 'realmente', 'atrapalha', 'ter', 'muita', 'informação', 'por', 'que', 'existem', 'estudos', 'ou', 'pelo', 'menos', 'informações', 'consistentes', 'que', 'mostram', 'que', 'um', 'realmente', 'é', 'melhor', 'que', 'outro', 'por', 'que', 'esconder', 'operações', 'é', 'melhor', 'e', 'se', 'não', 'é', 'por', 'que', 'estão', 'adotando', 'isto', 'seria', 'interessante', 'ver', 'um', 'comparação', 'entre', 'as', 'duas', 'situações', 'para', 'entender', 'as', 'vantagens', 'e', 'desvantagens', 'de', 'cada', 'uma', 'e', 'com', 'isto', 'ajudar', 'a', 'entender', 'quando', 'e', 'optar', 'por', 'um', 'mais', 'que', 'o', 'outro', 'existe', 'alguma', 'forma', 'de', 'facilitar', 'a', 'descoberta', 'facilitar', 'o', 'acesso', 'às', 'operações', 'sem', 'sujar', 'a', 'tela', 'há', 'exceções', 'onde', 'não', 'devemos', 'aplicar', 'uma', 'destas', 'filosofias', 'numa', 'discussão', 'com', 'experientes', 'programadores', 'aqui', 'do', 'site', 'a', 'respeito', 'de', 'controle', 'de', 'concorrência', 'surgiram', 'os', 'termos', 'semáforos', 'mutex', 'memória', 'compartilhada', 'monitor', 'e', 'ainda', 'outros', 'os', 'quais', 'estou', 'começando', 'a', 'entender', 'agora', 'toda', 'essas', 'minhas', 'dúvidas', 'começaram', 'quando', 'perguntei', 'sobre', 'processos', 'assíncronos', 'onde', 'percebi', 'que', 'eu', 'não', 'estava', 'entendendo', 'muito', 'bem', 'sobre', 'o', 'termo', 'assíncrono', 'e', 'acabei', 'aprendendo', 'sobre', 'bifurcação', 'de', 'processos', 'no', 'meio', 'disso', 'tudo', 'comecei', 'a', 'pesquisar', 'muitas', 'coisas', 'a', 'respeito', 'de', 'processos', 'de', 'sistemas', 'operacionais', 'e', 'foi', 'aí', 'que', 'aprendi', 'mais', 'um', 'termo', 'ipc', 'que', 'disseram', 'que', 'significa', 'inter', 'process', 'communication', 'mas', 'o', 'que', 'é', 'ipc', 'mais', 'detalhadamente', 'de', 'que', 'forma', 'ele', 'se', 'relaciona', 'com', 'os', 'termos', 'que', 'eu', 'citei', 'acima', 'sobre', 'os', 'quais', 'disse', 'que', 'eu', 'estava', 'discutindo', 'desde', 'que', 'foi', 'introduzida', 'a', 'palavra', 'no', 'ecmascript', 'eu', 'só', 'tenho', 'ouvido', 'falar', 'a', 'respeito', 'até', 'então', 'não', 'vi', 'nenhum', 'exemplo', 'prático', 'e', 'para', 'ser', 'sincero', 'não', 'sei', 'muito', 'bem', 'o', 'que', 'é', 'uma', 'variável', 'e', 'como', 'ela', 'se', 'comporta', 'a', 'única', 'coisa', 'que', 'entendi', 'e', 'bem', 'superficialmente', 'é', 'que', 'ela', 'serve', 'para', 'declarar', 'uma', 'variável', 'local', 'algo', 'relacionado', 'a', 'escopo', 'o', 'que', 'são', 'variáveis', 'para', 'que', 'elas', 'servem', 'quando', 'utilizálas', 'ao', 'invés', 'de', 'quais', 'as', 'vantagens', 'limitações', 'e', 'principais', 'diferenças', 'entre', 'esses', 'sistemas', 'de', 'versionamento', 'git', 'svn', 'e', 'cvs', 'eu', 'já', 'li', 'e', 'reli', 'no', 'wikipédia', 'já', 'assisti', 'uns', 'videos', 'em', 'inglês', 'e', 'em', 'português', 'sobre', 'esse', 'assunto', 'já', 'li', 'vários', 'artigos', 'no', 'google', 'mas', 'não', 'consigo', 'entender', 'por', 'que', 'ela', 'entraria', 'num', 'loop', 'infinito', 'ou', 'por', 'que', 'ela', 'pararia', 'todas', 'as', 'explicações', 'usando', 'a', 'contradição', 'não', 'fazem', 'sentido', 'na', 'minha', 'cabeça', 'por', 'favor', 'sem', 'termos', 'técnicos', 'me', 'ajude', 'com', 'lógica', 'simples', 'a', 'entender', 'estou', 'trabalhando', 'com', 'mas', 'imagino', 'que', 'isso', 'possa', 'ser', 'feito', 'só', 'com', 'quando', 'faço', 'um', 'upload', 'o', 'navegador', 'mostra', 'na', 'barra', 'de', 'status', 'a', 'porcentagem', 'eu', 'gostaria', 'de', 'pegar', 'esse', 'valor', 'e', 'criar', 'a', 'partir', 'dele', 'uma', 'barra', 'de', 'progresso', 'personalizada', 'a', 'barra', 'eu', 'sei', 'fazer', 'só', 'não', 'sei', 'como', 'pegar', 'o', 'valor', 'atual', 'da', 'porcentagem', 'como', 'obtêlo', 'no', 'java', 'o', 'conceito', 'do', 'trywithresources', 'foi', 'adicionado', 'na', 'linguagem', 'o', 'que', 'é', 'o', 'trywithresources', 'como', 'ele', 'funciona', 'para', 'que', 'ele', 'serve', 'como', 'é', 'que', 'ele', 'é', 'usado', 'que', 'problema', 'ele', 'visa', 'resolver', 'algumas', 'linguagens', 'como', 'c', 'ainda', 'possuem', 'a', 'instrução', 'sempre', 'ouvi', 'que', 'utilizála', 'não', 'é', 'uma', 'boa', 'prática', 'eu', 'gostaria', 'de', 'saber', 'quais', 'seriam', 'as', 'razões', 'para', 'evitar', 'o', 'e', 'quais', 'os', 'problemas', 'causados', 'por', 'sua', 'utilização', 'ainda', 'existe', 'por', 'compatibilidade', 'ou', 'para', 'casos', 'muito', 'restritos', 'de', 'utilização', 'quais', 'são', 'os', 'métodos', 'de', 'requisição', 'http', 'entre', 'os', 'quais', 'estão', 'e', 'para', 'que', 'se', 'deve', 'usar', 'cada', 'um', 'deles', 'e', 'qual', 'é', 'a', 'diferença', 'entre', 'eles', 'contexto', 'fui', 'educado', 'na', 'metodologia', 'do', 'processo', 'unificado', 'sei', 'que', 'agile', 'é', 'muito', 'popular', 'hoje', 'em', 'dia', 'mas', 'tenho', 'pouquíssimo', 'conhecimento', 'do', 'processo', 'entendo', 'a', 'filosofia', 'que', 'mudanças', 'são', 'inevitáveis', 'é', 'melhor', 'se', 'preparar', 'pra', 'lidar', 'bem', 'com', 'elas', 'do', 'que', 'tentar', 'evitálas', 'mas', 'isso', 'não', 'é', 'muito', 'consolo', 'quando', 'sou', 'cobrado', 'a', 'apresentar', 'um', 'orçamento', 'mesmo', 'que', 'inicial', 'para', 'um', 'projeto', 'de', 'desenvolvimento', 'pelo', 'up', 'primeiro', 'se', 'orça', 'a', 'elaboração', 'do', 'projeto', 'conceitual', 'que', 'é', 'uma', 'simples', 'questão', 'de', 'estimar', 'o', 'número', 'de', 'horas', 'necessárias', 'para', 'se', 'levantar', 'e', 'analisar', 'todos', 'os', 'requisitos', 'e', 'com', 'poucas', 'consequências', 'negativas', 'caso', 'se', 'erre', 'no', 'julgamento', 'e', 'com', 'base', 'neste', 'se', 'orça', 'o', 'projeto', 'de', 'implementação', 'na', 'teoria', 'parece', 'tudo', 'muito', 'bom', 'mas', 'me', 'falta', 'experiência', 'prática', 'para', 'corroborar', 'essa', 'afirmação', 'problema', 'sei', 'que', 'a', 'resposta', 'correta', 'para', 'como', 'orçar', 'um', 'projeto', 'de', 'software', 'é', 'depende', 'depende', 'do', 'escopo', 'depende', 'dos', 'requisitos', 'específicos', 'depende', 'do', 'cliente', 'mas', 'o', 'fato', 'é', 'que', 'clientes', 'em', 'potencial', 'demandam', 'no', 'mínimo', 'uma', 'previsão', 'preliminar', 'de', 'prazos', 'e', 'custos', 'e', 'às', 'vezes', 'plataforma', 'antes', 'mesmo', 'dos', 'requisitos', 'serem', 'detalhados', 'minha', 'dificuldade', 'é', 'em', 'estabelecer', 'esses', 'parâmetros', 'iniciais', 'ou', 'mesmo', 'ajustar', 'minhas', 'expectativas', 'sobre', 'o', 'que', 'é', 'ou', 'não', 'realizável', 'na', 'prática', 'pergunta', 'quais', 'parâmetros', 'devo', 'observar', 'para', 'fazer', 'um', 'orçamento', 'inicial', 'ou', 'preliminar', 'para', 'um', 'projeto', 'arbitrário', 'de', 'desenvolvimento', 'mais', 'especificamente', 'devo', 'cobrar', 'pelo', 'levantamento', 'inicial', 'de', 'requisitosdefinição', 'do', 'escopo', 'ou', 'esse', 'é', 'um', 'ônus', 'que', 'terei', 'de', 'assumir', 'e', 'se', 'a', 'resposta', 'for', 'não', 'cobrar', 'devo', 'insistir', 'com', 'o', 'cliente', 'que', 'não', 'é', 'possível', 'orçar', 'nada', 'antes', 'de', 'fazer', 'esse', 'levantamento', 'o', 'cliente', 'não', 'vai', 'gostar', 'uma', 'vez', 'que', 'levantar', 'requisitos', 'exige', 'envolvimento', 'de', 'sua', 'equipe', 'também', 'o', 'que', 'lhe', 'traz', 'custos', 'indiretos', 'antes', 'mesmo', 'de', 'ter', 'a', 'certeza', 'que', 'vai', 'mesmo', 'fechar', 'contrato', 'conosco', 'no', 'caso', 'de', 'um', 'projeto', 'de', 'grande', 'escopo', 'embora', 'ainda', 'bastante', 'indefinido', 'devo', 'separálo', 'em', 'um', 'projeto', 'conceitual', 'e', 'um', 'projeto', 'de', 'implementação', 'ou', 'isso', 'é', 'contraproducente', 'esclarecendo', 'projeto', 'conceitual', 'é', 'aquele', 'em', 'que', 'eu', 'faço', 'levantamento', 'e', 'análise', 'de', 'requisitos', 'sendo', 'que', 'o', 'deliverable', 'é', 'uma', 'especificação', 'mais', 'orçamento', 'para', 'a', 'fase', 'de', 'implementação', 'o', 'projeto', 'de', 'implementação', 'esse', 'já', 'feito', 'com', 'bases', 'mais', 'sólidas', 'pode', 'sim', 'ser', 'flexível', 'em', 'relação', 'a', 'mudanças', 'não', 'precisando', 'seguir', 'a', 'especificação', 'a', 'ferro', 'e', 'fogo', 'mas', 'ainda', 'precisa', 'de', 'uma', 'base', 'para', 'ser', 'orçado', 'e', 'essa', 'base', 'seria', 'conseguida', 'através', 'do', 'projeto', 'conceitual', 'por', 'que', 'seria', 'contraproducente', 'não', 'sei', 'apenas', 'é', 'o', 'que', 'sempre', 'ouço', 'dos', 'proponentes', 'do', 'agile', 'que', 'é', 'besteira', 'fazer', 'projeto', 'de', 'grande', 'escala', 'antes', 'de', 'se', 'começar', 'a', 'implementar', 'ao', 'menos', 'um', 'sprint', 'deveria', 'estar', 'previsto', 'que', 'os', 'requisitos', 'mudam', 'o', 'tempo', 'todo', 'e', 'no', 'final', 'pouco', 'do', 'que', 'foi', 'projetado', 'no', 'início', 'será', 'implementado', 'de', 'fato', 'etc', 'em', 'que', 'termos', 'deve', 'ser', 'feito', 'esse', 'orçamento', 'idealmente', 'mudanças', 'nos', 'requisitos', 'deveriam', 'refletir', 'em', 'mudanças', 'nos', 'prazos', 'e', 'custos', 'nisso', 'a', 'turma', 'do', 'up', 'e', 'a', 'turma', 'do', 'agile', 'concordam', 'mas', 'se', 'contratualmente', 'estou', 'obrigado', 'a', 'entregar', 'x', 'no', 'prazo', 'y', 'mediante', 'pagamento', 'de', 'z', 'não', 'me', 'parece', 'viável', 'haver', 'uma', 'mudança', 'contratual', 'toda', 'vez', 'que', 'se', 'fizer', 'uma', 'renegociação', 'de', 'prazos', 'e', 'custos', 'questões', 'jurídicas', 'à', 'parte', 'já', 'que', 'isso', 'está', 'obviamente', 'fora', 'do', 'escopo', 'do', 'site', 'o', 'que', 'eu', 'pergunto', 'é', 'se', 'é', 'melhor', 'fazer', 'um', 'guesstimate', 'de', 'preferência', 'por', 'cima', 'do', 'custo', 'e', 'ir', 'refinando', 'com', 'o', 'passar', 'do', 'tempo', 'porém', 'comprometido', 'com', 'a', 'conclusão', 'do', 'projeto', 'a', 'todo', 'custo', 'ou', 'se', 'devo', 'estabelecer', 'condições', 'para', 'que', 'na', 'impossibilidade', 'de', 'se', 'continuar', 'o', 'projeto', 'dentro', 'dos', 'prazos', 'e', 'custos', 'estabelecidos', 'o', 'mesmo', 'seja', 'encerrado', 'de', 'comum', 'acordo', 'por', 'ambas', 'as', 'partes', 'como', 'fazer', 'isso', 'é', 'claro', 'é', 'responsabilidade', 'do', 'nosso', 'advogado', 'de', 'preferência', 'gostaria', 'de', 'respostas', 'embasadas', 'em', 'experiência', 'pregressa', 'sei', 'que', 'nem', 'todo', 'desenvolvedor', 'está', 'diretamente', 'envolvido', 'com', 'esse', 'tipo', 'de', 'questão', 'mas', 'ao', 'menos', 'os', 'que', 'ocupam', 'uma', 'posição', 'de', 'liderança', 'já', 'devem', 'ter', 'tido', 'que', 'fazer', 'estimativas', 'sob', 'bases', 'incertas', 'e', 'para', 'não', 'ficar', 'muito', 'amplo', 'o', 'ponto', 'central', 'da', 'pergunta', 'é', 'o', 'quanto', 'eu', 'devo', 'assumir', 'de', 'ônus', 'ao', 'estabelecer', 'um', 'escopopreparar', 'uma', 'proposta', 'de', 'graça', 'e', 'quais', 'são', 'os', 'parâmetros', 'mínimos', 'que', 'eu', 'preciso', 'coletar', 'antes', 'de', 'dizer', 'a', 'partir', 'daqui', 'só', 'me', 'pagando', 'estava', 'lendo', 'as', 'respostas', 'da', 'pergunta', 'quando', 'usar', 'waterfall', 'e', 'quando', 'usar', 'scrum', 'e', 'me', 'deparei', 'com', 'algo', 'citado', 'pelo', 'usuário', 'utluiz', 'que', 'me', 'deixou', 'com', 'dúvida', 'que', 'é', 'a', 'sequência', 'de', 'desenvolvimento', 'de', 'software', 'requisito', 'análise', 'design', 'implementação', 'teste', 'integração', 'dúvida', 'eu', 'gostaria', 'de', 'uma', 'explicação', 'a', 'respeito', 'de', 'cada', 'passo', 'desta', 'sequência', 'e', 'qual', 'é', 'a', 'finalidade', 'de', 'cada', 'um', 'dos', 'passos', 'qual', 'a', 'diferença', 'entre', 'ienumerable', 'iqueryable', 'e', 'list', 'no', 'net', 'quando', 'é', 'melhor', 'usar', 'uma', 'ou', 'outra', 'por', 'que', 'o', 'resharper', 'me', 'sugere', 'modificar', 'o', 'retorno', 'dessa', 'função', 'por', 'exemplo', 'de', 'para', 'falam', 'muito', 'mal', 'do', 'mas', 'as', 'vezes', 'me', 'pergunto', 'se', 'ele', 'realmente', 'é', 'o', 'problema', 'ou', 'é', 'a', 'pessoa', 'que', 'está', 'sentada', 'na', 'frente', 'do', 'computador', 'o', 'suporto', 'programador', 'minha', 'vida', 'inteira', 'na', 'programação', 'tenho', 'ouvido', 'críticas', 'piadinhas', 'zoeiras', 'em', 'cima', 'dessa', 'função', 'mas', 'o', 'curioso', 'é', 'que', 'mesmo', 'aqueles', 'que', 'zoam', 'acabam', 'por', 'usar', 'bibliotecas', 'que', 'a', 'utilizam', 'internamente', 'sem', 'saber', 'um', 'exemplo', 'disso', 'é', 'que', 'no', 'sistema', 'de', 'views', 'utiliza', 'exemplo', 'removi', 'os', 'comentários', 'do', 'código', 'original', 'github', 'viewphp', 'linha', 'é', 'verdade', 'o', 'mesmo', 'já', 'está', 'descontinuado', 'mas', 'não', 'está', 'numa', 'era', 'tão', 'distante', 'assim', 'a', 'versão', 'dele', 'é', 'para', 'php', 'porém', 'não', 'seria', 'surpresa', 'se', 'um', 'dos', 'críticos', 'de', 'tivesse', 'utilizando', 'esse', 'framework', 'sem', 'saber', 'dessa', 'informação', 'e', 'ainda', 'eu', 'dou', 'outro', 'exemplo', 'que', 'muitos', 'programadores', 'também', 'usam', 'mas', 'sem', 'saber', 'o', 'superclosure', 'que', 'é', 'utilizado', 'no', 'laravel', 'e', 'laravel', 'essa', 'biblioteca', 'tem', 'como', 'finalidade', 'prover', 'uma', 'possibilidade', 'de', 'serializar', 'closures', 'no', 'php', 'já', 'que', 'nativamente', 'as', 'closures', 'no', 'php', 'não', 'têm', 'suporte', 'a', 'serialização', 'essa', 'biblioteca', 'se', 'torna', 'útil', 'para', 'quem', 'precisa', 'utilizar', 'sistemas', 'de', 'filas', 'como', 'o', 'beanstalkd', 'onde', 'as', 'informações', 'passadas', 'geralmente', 'são', 'uma', 'string', 'e', 'portanto', 'os', 'dados', 'em', 'php', 'precisam', 'ser', 'serializados', 'exemplo', 'github', 'serializableclosurephp', 'linha', 'pensando', 'na', 'utilidade', 'das', 'classes', 'das', 'bibliotecas', 'apresentadas', 'acima', 'lembrando', 'que', 'são', 'só', 'dois', 'exemplos', 'mas', 'deve', 'haver', 'outros', 'casos', 'fiquei', 'me', 'questionando', 'se', 'eu', 'deveria', 'ainda', 'continuar', 'falando', 'mau', 'do', 'ou', 'simplesmente', 'fazer', 'uma', 'análise', 'e', 'avaliar', 'quando', 'é', 'bom', 'ou', 'ruim', 'usálo', 'por', 'outro', 'lado', 'se', 'eu', 'pensar', 'que', 'todo', 'eval', 'independente', 'de', 'como', 'é', 'implementado', 'é', 'um', 'risco', 'provavelmente', 'vou', 'ter', 'que', 'parar', 'de', 'usar', 'as', 'bibliotecas', 'que', 'citei', 'acima', 'e', 'fazer', 'um', 'trabalho', 'todo', 'manual', 'quais', 'são', 'os', 'riscos', 'de', 'usar', 'num', 'projeto', 'devo', 'sempre', 'evitálo', 'se', 'a', 'resposta', 'for', 'sim', 'para', 'devo', 'evitálo', 'então', 'eu', 'também', 'deveria', 'deixar', 'de', 'usar', 'bibliotecas', 'que', 'o', 'implementam', 'afinal', 'de', 'contas', 'isso', 'não', 'pode', 'pôr', 'meu', 'código', 'em', 'risco', 'o', 'deve', 'ser', 'utilizado', 'em', 'alguns', 'casos', 'bem', 'específicos', 'como', 'por', 'exemplo', 'somente', 'em', 'geração', 'de', 'código', 'ou', 'posso', 'utilizálo', 'livremente', 'desde', 'que', 'eu', 'tenha', 'consciência', 'do', 'que', 'estou', 'fazendo', 'nota', 'favor', 'não', 'editar', 'e', 'colocar', 'tags', 'como', 'php', 'ou', 'laravel', 'pois', 'os', 'exemplos', 'foram', 'apenas', 'para', 'mostrar', 'casos', 'onde', 'foi', 'bem', 'recebido', 'se', 'houver', 'exemplos', 'de', 'outras', 'linguagens', 'que', 'o', 'usem', 'será', 'bemvindo', 'quais', 'as', 'diferenças', 'prós', 'e', 'contras', 'entre', 'e', 'qual', 'é', 'a', 'diferença', 'entre', 'aspas', 'simples', 'e', 'aspas', 'duplas', 'em', 'php', 'ontem', 'estava', 'a', 'trabalhar', 'com', 'uma', 'string', 'de', 'um', 'json', 'do', 'google', 'calendar', 'usei', 'para', 'separar', 'uma', 'string', 'quando', 'usei', 'o', 'explode', 'em', 'com', 'deume', 'quando', 'usei', 'o', 'explode', 'em', 'com', 'deume', 'o', 'descrito', 'em', 'cima', 'foi', 'só', 'um', 'exemplo', 'prático', 'com', 'que', 'me', 'deparei', 'seria', 'interessante', 'saber', 'quais', 'são', 'as', 'diferenças', 'em', 'php', 'entre', 'e', 'os', 'métodos', 'http', 'são', 'utilizados', 'para', 'enviar', 'e', 'receber', 'dados', 'do', 'servidor', 'tais', 'como', 'o', 'recupera', 'dados', 'e', 'o', 'envia', 'os', 'dados', 'seguindo', 'a', 'definição', 'acima', 'da', 'para', 'entender', 'muito', 'bem', 'a', 'finalidade', 'do', 'e', 'do', 'porem', 'eu', 'tenho', 'uma', 'dúvida', 'pertinente', 'a', 'respeito', 'de', 'como', 'o', 'http', 'processa', 'a', 'requisição', 'de', 'acordo', 'com', 'o', 'verbo', 'http', 'dúvida', 'como', 'o', 'protocolo', 'http', 'processa', 'por', 'baixo', 'dos', 'panos', 'as', 'requisições', 'ou', 'seja', 'como', 'ocorre', 'a', 'comunicação', 'cliente', 'e', 'servidor', 'através', 'dos', 'métodos', 'de', 'requisição', 'no', 'fim', 'das', 'contas', 'em', 'c', 'um', 'array', 'se', 'torna', 'um', 'ponteiro', 'se', 'não', 'o', 'que', 'são', 'arrays', 'quais', 'as', 'diferenças', 'entre', 'eles', 'como', 'os', 'arrays', 'funcionam', 'internamente', 'de', 'que', 'forma', 'números', 'primos', 'são', 'uma', 'parte', 'importante', 'em', 'alguns', 'sistemas', 'de', 'criptografia', 'como', 'funciona', 'esse', 'processo', 'e', 'em', 'que', 'parte', 'entram', 'os', 'números', 'primos', 'estou', 'estudando', 'javascript', 'e', 'tenho', 'dúvidas', 'quanto', 'às', 'diferentes', 'formas', 'de', 'se', 'fazer', 'um', 'por', 'exemplo', 'isto', 'como', 'exatamente', 'funciona', 'recentemente', 'estou', 'criando', 'muita', 'coisa', 'de', 'html', 'dinamicamente', 'exemplo', 'duvida', 'vendo', 'algumas', 'perguntas', 'sobre', 'js', 'vi', 'que', 'na', 'grande', 'maioria', 'o', 'pessoal', 'monta', 'por', 'string', 'quais', 'a', 'diferenças', 'entre', 'estes', 'métodos', 'tirando', 'o', 'fato', 'de', 'um', 'ser', 'por', 'objeto', 'e', 'o', 'outro', 'string', 'algum', 'deles', 'é', 'melhor', 'que', 'o', 'outro', 'ou', 'são', 'equivalentes', 'tirando', 'eu', 'prefiro', 'assim', 'pois', 'existe', 'algum', 'algoritmo', 'para', 'checar', 'a', 'validade', 'de', 'um', 'número', 'de', 'rg', 'no', 'brasil', 'usando', 'dígitos', 'verificadores', 'como', 'acontece', 'com', 'o', 'cpf', 'caso', 'afirmativo', 'como', 'é', 'esse', 'algoritmo', 'não', 'é', 'minha', 'intenção', 'trazer', 'a', 'confusão', 'dos', 'outros', 'para', 'o', 'site', 'porém', 'ficou', 'uma', 'dúvida', 'minha', 'interna', 'daquelas', 'coisas', 'que', 'se', 'tem', 'certeza', 'e', 'depois', 'vem', 'alguém', 'e', 'faz', 'uma', 'pergunta', 'que', 'mexe', 'com', 'as', 'certezas', 'antigas', 'vi', 'neste', 'site', 'a', 'classificação', 'do', 'top', 'das', 'linguagens', 'de', 'programação', 'e', 'notei', 'que', 'para', 'algumas', 'pessoas', 'html', 'é', 'uma', 'linguagem', 'de', 'programação', 'e', 'para', 'outras', 'não', 'dúvida', 'html', 'é', 'uma', 'linguagem', 'de', 'programação', 'ou', 'não', 'no', 'método', 'da', 'classe', 'eu', 'tenho', 'configurado', 'um', 'isso', 'faz', 'com', 'que', 'os', 'dados', 'recebidos', 'ou', 'enviados', 'por', 'json', 'sejam', 'convertidos', 'de', 'padrão', 'do', 'client', 'javascript', 'para', 'padrão', 'que', 'uso', 'nas', 'propriedades', 'no', 'server', 'e', 'viceversa', 'ex', 'de', 'json', 'que', 'a', 'api', 'recebe', 'num', 'método', 'normal', 'sem', 'usar', 'o', 'isso', 'é', 'traduzido', 'para', 'até', 'aí', 'tudo', 'bem', 'o', 'problema', 'é', 'que', 'eu', 'tenho', 'uma', 'em', 'um', 'que', 'faz', 'uso', 'do', 'e', 'as', 'requisições', 'que', 'são', 'enviadas', 'para', 'este', 'método', 'acabam', 'não', 'passando', 'por', 'esta', 'tradução', 'eu', 'li', 'em', 'alguns', 'lugares', 'que', 'o', 'odata', 'usa', 'um', 'serializador', 'e', 'um', 'deserializador', 'próprio', 'e', 'este', 'deve', 'ser', 'o', 'problema', 'método', 'do', 'existe', 'alguma', 'forma', 'de', 'tratar', 'o', 'casing', 'dos', 'dados', 'recebidos', 'em', 'que', 'usam', 'odata', 'eu', 'vou', 'precisar', 'escrever', 'um', 'novo', 'serializador', 'ou', 'já', 'tem', 'algo', 'pronto', 'que', 'possa', 'me', 'ajudar', 'com', 'isso', 'se', 'for', 'necessário', 'escrever', 'um', 'serializador', 'é', 'possível', 'me', 'ajudar', 'com', 'pelo', 'menos', 'a', 'implementação', 'básica', 'do', 'mesmo', 'exemplo', 'do', 'json', 'que', 'recebo', 'no', 'método', 'com', 'se', 'eu', 'enviar', 'o', 'json', 'como', 'o', 'abaixo', 'funciona', 'normal', 'obs', 'estou', 'usando', 'owin', 'mas', 'a', 'aplicação', 'está', 'sendo', 'hospedada', 'no', 'iis', 'usando', 'o', 'pacote', 'estou', 'com', 'duvidas', 'sobre', 'uma', 'certa', 'questão', 'em', 'javascript', 'suponha', 'o', 'seguinte', 'cenário', 'abaixo', 'nesse', 'caso', 'eu', 'percebi', 'que', 'o', 'meu', 'método', 'foi', 'meio', 'que', 'sobrescrito', 'não', 'sei', 'se', 'é', 'realmente', 'isso', 'que', 'acontece', 'quando', 'chamamos', 'o', 'mesmo', 'só', 'o', 'teste', 'que', 'é', 'exibido', 'agora', 'as', 'duvidas', 'em', 'relação', 'a', 'isso', 'esse', 'é', 'realmente', 'o', 'comportamento', 'esperado', 'quando', 'declaramos', 'métodos', 'com', 'o', 'mesmo', 'nome', 'e', 'parâmetros', 'no', 'js', 'ele', 'irá', 'sempre', 'sobrescrever', 'e', 'vai', 'prevalecer', 'o', 'último', 'declarado', 'existe', 'alguma', 'explicação', 'para', 'esse', 'comportamento', 'se', 'sim', 'qual', 'é', 'essa', 'explicação', 'existe', 'alguma', 'forma', 'de', 'fazer', 'que', 'gere', 'algum', 'erro', 'ou', 'algo', 'do', 'tipo', 'caso', 'alguém', 'cometa', 'esse', 'equivoco', 'e', 'declare', 'métodos', 'com', 'o', 'mesmo', 'nome', 'e', 'parâmetros', 'caso', 'a', 'tenha', 'alguma', 'maneira', 'de', 'fazer', 'o', 'que', 'fazer', 'caso', 'as', 'funções', 'estejam', 'em', 'arquivos', 'js', 'diferentes', 'é', 'comum', 'vermos', 'a', 'recomendação', 'de', 'usar', 'apenas', 'um', 'por', 'funçãométodo', 'mas', 'isso', 'parece', 'algo', 'sem', 'sentido', 'e', 'deixa', 'o', 'código', 'mais', 'confuso', 'em', 'muitos', 'casos', 'veja', 'os', 'exemplos', 'forma', 'como', 'eu', 'costumo', 'fazer', 'forma', 'como', 'é', 'recomendado', 'por', 'que', 'há', 'essa', 'recomendação', 'o', 'que', 'se', 'ganha', 'em', 'usar', 'um', 'único', 'desenvolvi', 'uma', 'página', 'em', 'php', 'para', 'uso', 'interno', 'da', 'empresa', 'que', 'trabalho', 'e', 'apenas', 'pouquíssimas', 'pessoas', 'a', 'utilizam', 'através', 'dessa', 'página', 'é', 'possível', 'fazer', 'algumas', 'consultas', 'inserções', 'alterações', 'e', 'remoções', 'de', 'dados', 'de', 'uma', 'tabela', 'em', 'um', 'banco', 'de', 'dados', 'mysql', 'porém', 'eu', 'acredito', 'que', 'meu', 'código', 'em', 'php', 'não', 'está', 'protegido', 'contra', 'injeção', 'de', 'código', 'sql', 'por', 'exemplo', 'logo', 'digamos', 'que', 'o', 'usuário', 'usar', 'a', 'sentença', 'para', 'ao', 'campo', 'o', 'comando', 'ficaria', 'ele', 'vai', 'inserir', 'um', 'novo', 'registro', 'cujo', 'o', 'campo', 'será', 'e', 'logo', 'em', 'seguida', 'ele', 'vai', 'deletar', 'a', 'tabela', 'produtos', 'como', 'posso', 'melhorar', 'meu', 'código', 'para', 'prevenir', 'essa', 'situação', 'estou', 'com', 'algumas', 'dúvidas', 'quanto', 'ao', 'li', 'em', 'algum', 'lugar', 'e', 'me', 'lembro', 'vagamente', 'sobre', 'a', 'questão', 'da', 'reescrita', 'mas', 'o', 'que', 'é', 'isso', 'e', 'para', 'que', 'serve', 'como', 'se', 'aplica', 'em', 'um', 'código', 'java', 'existe', 'em', 'alguma', 'outra', 'linguagem', 'estou', 'com', 'dúvida', 'na', 'utilização', 'do', 'e', 'atualmente', 'ao', 'criar', 'uma', 'query', 'no', 'sql', 'server', 'fiquei', 'com', 'dúvida', 'sobre', 'e', 'realizei', 'algumas', 'pesquisas', 'e', 'consegui', 'descobrir', 'a', 'diferença', 'de', 'ambos', 'só', 'que', 'me', 'surgiu', 'algumas', 'duvidas', 'que', 'não', 'consegui', 'encontrar', 'realizei', 'a', 'seguinte', 'query', 'dúvidas', 'ao', 'ler', 'em', 'alguns', 'sites', 'vi', 'que', 'o', 'ou', 'tem', 'alguma', 'diferença', 'na', 'hora', 'do', 'em', 'banco', 'só', 'que', 'não', 'consegui', 'descobrir', 'qual', 'deles', 'pois', 'os', 'dois', 'tem', 'o', 'mesmo', 'comportamento', 'ao', 'realizar', 'a', 'seguinte', 'query', 'só', 'que', 'em', 'alguns', 'sites', 'diziam', 'ou', 'quando', 'string', 'ficaria', 'da', 'seguinte', 'forma', 'ex', 'se', 'a', 'coluna', 'tiver', 'o', 'tamanho', 'foi', 'isso', 'que', 'pude', 'entender', 'mais', 'nenhum', 'site', 'mostrava', 'exemplos', 'para', 'melhor', 'entendimento', 'queria', 'saber', 'qual', 'a', 'diferença', 'de', 'ambos', 'na', 'questão', 'em', 'banco', 'ficou', 'um', 'pouco', 'difícil', 'descrever', 'minha', 'dúvida', 'como', 'há', 'uma', 'obsessão', 'por', 'perguntas', 'com', 'acentos', 'aqui', 'vai', 'a', 'minha', 'o', 'sqlite', 'permite', 'fazer', 'comparações', 'diretas', 'ou', 'através', 'do', 'com', 'qualquer', 'encodingcharset', 'desde', 'que', 'seja', 'feito', 'byte', 'a', 'byte', 'ele', 'só', 'permite', 'fazer', 'a', 'comparação', 'desconsiderando', 'a', 'sensibilidade', 'de', 'caixa', 'case', 'insensitive', 'com', 'caracteres', 'ascii', 'eu', 'tenho', 'algumas', 'situações', 'que', 'preciso', 'usar', 'o', 'sqlite', 'com', 'case', 'insensitive', 'e', 'consequentemente', 'accent', 'insensitive', 'também', 'para', 'caracteres', 'latinos', 'iso', 'ou', 'latin', 'não', 'preciso', 'e', 'não', 'uso', 'encoding', 'utf', 'ou', 'utf', 'até', 'porque', 'e', 'não', 'só', 'falta', 'implementação', 'dos', 'devidos', 'tratamentos', 'desses', 'encodings', 'no', 'sqlite', 'a', 'resposta', 'padrão', 'dos', 'desenvolvedores', 'do', 'sqlite', 'que', 'é', 'english', 'centric', 'é', 'que', 'se', 'você', 'precisa', 'de', 'tratamento', 'extra', 'ao', 'ascii', 'você', 'deve', 'providenciar', 'isso', 'eles', 'afirmam', 'que', 'você', 'já', 'terá', 'isso', 'disponível', 'na', 'sua', 'aplicação', 'o', 'que', 'não', 'é', 'verdade', 'no', 'meu', 'caso', 'muitas', 'vezes', 'uso', 'o', 'sqlite', 'em', 'linguagens', 'que', 'não', 'têm', 'o', 'tratamento', 'adequado', 'para', 'normalizar', 'a', 'caixa', 'dos', 'caracteres', 'levando', 'em', 'consideração', 'caracteres', 'latinos', 'pelo', 'menos', 'não', 'de', 'uma', 'forma', 'que', 'podem', 'ser', 'chamadas', 'pelo', 'sqlite', 'se', 'usasse', 'utf', 'ainda', 'não', 'usaria', 'a', 'icuen', 'pelo', 'seu', 'peso', 'em', 'memória', 'e', 'processamento', 'é', 'canhão', 'para', 'matar', 'passarinho', 'e', 'em', 'alguns', 'casos', 'me', 'traria', 'complicações', 'indesejáveis', 'precisaria', 'ser', 'em', 'c', 'para', 'se', 'comunicar', 'diretamente', 'com', 'a', 'api', 'do', 'sqlite', 'sem', 'overhead', 'e', 'para', 'ser', 'portável', 'para', 'qualquer', 'linguagem', 'usada', 'na', 'aplicação', 'e', 'também', 'para', 'o', 'sistema', 'operacional', 'que', 'é', 'outro', 'requisito', 'os', 'principais', 'requisitos', 'normalizar', 'o', 'case', 'tratando', 'caracteres', 'principais', 'desconsiderando', 'acentos', 'do', 'iso', 'leveza', 'memória', 'e', 'processamento', 'simplicidade', 'que', 'permite', 'fácil', 'implantação', 'e', 'manutenção', 'portabilidade', 'de', 'linguagem', 'e', 'sistema', 'operacional', 'evitar', 'duplicação', 'de', 'dados', 'nas', 'tabelas', 'criar', 'coluna', 'normalizada', 'inexistência', 'de', 'dependência', 'externa', 'ou', 'de', 'licença', 'que', 'me', 'permita', 'compilar', 'junto', 'com', 'minha', 'aplicaçãosqlite', 'pode', 'ser', 'uma', 'biblioteca', 'simples', 'ou', 'uma', 'função', 'para', 'inscrever', 'na', 'api', 'do', 'sqlite', 'preferencialmente', 'que', 'também', 'funcione', 'com', 'o', 'e', 'e', 'etc', 'já', 'pesquisei', 'e', 'não', 'resolve', 'meu', 'problema', 'httpsstackoverflowcomquestionshowtosetsqlitetobecaseinsensitivewhenstringcomparinglq', 'só', 'trata', 'ascii', 'httpsstackoverflowcomquestionslocalizedcollateonasqlitestringcomparison', 'exige', 'a', 'icu', 'httpsstackoverflowcomquestionshowdoicomparecharactersincustomsqlitecollationinobjectivec', 'exige', 'linguagem', 'não', 'disponível', 'e', 'nem', 'sei', 'se', 'resolve', 'todo', 'problema', 'httpsstackoverflowcomquestionssqlitepythonunicodeandnonutfdata', 'depende', 'do', 'python', 'httpsstackoverflowcomquestionsusingonlyutfencodinginsqlitewhatcanitrimoutoftheicudataset', 'promissor', 'mas', 'não', 'resolve', 'ou', 'não', 'funciona', 'como', 'o', 'esperado', 'referência', 'api', 'sqlite', 'estou', 'desenvolvendo', 'uma', 'ferramenta', 'para', 'reconhecimento', 'biométrico', 'usando', 'o', 'sdk', 'fornecido', 'em', 'formato', 'dll', 'desenvolvido', 'em', 'delphi', 'para', 'o', 'acesso', 'à', 'dll', 'a', 'partir', 'do', 'java', 'estou', 'usando', 'jna', 'o', 'template', 'da', 'digital', 'a', 'parte', 'mais', 'importante', 'é', 'um', 'objeto', 'que', 'se', 'refere', 'a', 'este', 'trecho', 'em', 'delphi', 'como', 'desenvolver', 'algo', 'equivalente', 'em', 'java', 'basicamente', 'preciso', 'chamar', 'as', 'seguintes', 'funções', 'da', 'dll', 'olhando', 'o', 'exemplo', 'fornecido', 'desenvolvido', 'em', 'delphi', 'vi', 'que', 'o', 'objeto', 'que', 'é', 'passado', 'nas', 'funções', 'e', 'é', 'do', 'tipo', 'declarado', 'no', 'trecho', 'de', 'código', 'mais', 'acima', 'no', 'mesmo', 'exemplo', 'antes', 'de', 'chamar', 'o', 'método', 'o', 'objeto', 'é', 'instanciado', 'e', 'vai', 'vazio', 'onde', 'então', 'é', 'preenchido', 'através', 'da', 'função', 'o', 'leitor', 'é', 'o', 'techmag', 'bioflex', 'que', 'é', 'baseado', 'nos', 'leitores', 'futronic', 'fs', 'pesquisando', 'vi', 'que', 'o', 'objeto', 'do', 'trecho', 'de', 'código', 'faz', 'acesso', 'à', 'memória', 'para', 'ler', 'as', 'informações', 'que', 'o', 'leitor', 'grava', 'nela', 'escreve', 'depois', 'de', 'muitas', 'pesquisa', 'acho', 'que', 'devo', 'desenvolver', 'algum', 'objeto', 'equivalente', 'em', 'java', 'estendendo', 'das', 'classes', 'ou', 'do', 'jna', 'atualização', 'informações', 'sobre', 'meu', 'código', 'leio', 'e', 'armazeno', 'duas', 'vezes', 'a', 'minha', 'digital', 'utilizando', 'o', 'método', 'depois', 'comparo', 'as', 'duas', 'utilizando', 'o', 'método', 'que', 'sempre', 'retorna', 'comando', 'não', 'executado', 'printei', 'os', 'objetos', 'e', 'após', 'ler', 'a', 'digital', 'retorna', 'e', 'retorna', 'interface', 'com', 'os', 'métodos', 'da', 'dll', 'classe', 'que', 'estende', 'structure', 'referente', 'ao', 'objeto', 'cis_digital', 'método', 'responsável', 'por', 'ler', 'duas', 'vezes', 'qualquer', 'digital', 'e', 'comparálas', 'tenho', 'em', 'minha', 'aplicação', 'nomes', 'próprios', 'em', 'maiúsculo', 'por', 'exemplo', 'josé', 'da', 'silva', 'gostaria', 'de', 'formatar', 'da', 'seguinte', 'maneira', 'josé', 'da', 'silva', 'como', 'fazer', 'caso', 'alguém', 'não', 'saiba', 'hoje', 'teremos', 'um', 'segundo', 'a', 'mais', 'ou', 'seja', 'hoje', 'depois', 'das', 'teremos', 'isso', 'para', 'fazer', 'a', 'correção', 'do', 'tempo', 'atômico', 'internacional', 'sei', 'que', 'existem', 'vários', 'serviços', 'que', 'são', 'sincronizados', 'com', 'relógios', 'atômicos', 'como', 'o', 'que', 'fica', 'no', 'observatório', 'nacional', 'que', 'podem', 'ter', 'problemas', 'com', 'esse', 'segundo', 'a', 'mais', 'que', 'tipos', 'de', 'problemas', 'podemos', 'esperar', 'em', 'nossos', 'sistemasservidores', 'e', 'aplicações', 'quando', 'ocorre', 'um', 'evento', 'como', 'esse', 'caso', 'você', 'não', 'esteja', 'sabendo', 'de', 'nada', 'veja', 'algumas', 'matérias', 'falando', 'disso', 'radioagência', 'nacional', 'relógios', 'terão', 'um', 'segundo', 'extra', 'por', 'alterações', 'gravitacionais', 'tecmundo', 'dia', 'de', 'junho', 'terá', 'segundo', 'a', 'mais', 'mas', 'o', 'que', 'isso', 'pode', 'causar', 'como', 'regra', 'geral', 'é', 'considerada', 'má', 'pratica', 'de', 'programação', 'usar', 'métodos', 'estáticos', 'mas', 'em', 'que', 'situações', 'ela', 'se', 'justifica', 'ou', 'não', 'se', 'justifica', 'por', 'exemplo', 'se', 'eu', 'fosse', 'criar', 'um', 'método', 'simples', 'para', 'ler', 'um', 'arquivo', 'de', 'texto', 'criando', 'esse', 'método', 'no', 'tipo', 'de', 'instância', 'eu', 'teria', 'que', 'instanciar', 'a', 'classe', 'apenas', 'para', 'poder', 'executálo', 'o', 'que', 'não', 'faz', 'muito', 'sentido', 'código', 'em', 'portugol', 'já', 'na', 'forma', 'estática', 'eu', 'chamaria', 'o', 'método', 'diretamente', 'recentemente', 'fiz', 'a', 'pergunta', 'porque', 'devemos', 'usar', 'anonymous', 'functions', 'com', 'jquery', 'ao', 'invés', 'da', 'função', 'diretamente', 'e', 'junto', 'com', 'a', 'resposta', 'aceita', 'veio', 'uma', 'segunda', 'pergunta', 'como', 'passar', 'argumentos', 'pra', 'uma', 'função', 'js', 'que', 'estamos', 'invocando', 'por', 'referência', 'como', 'seria', 'a', 'chamada', 'à', 'se', 'esta', 'função', 'recebesse', 'parâmetros', 'simples', 'como', 'um', 'número', 'ou', 'mais', 'complexos', 'como', 'um', 'objeto', 'propriamente', 'dito', 'estou', 'começando', 'a', 'ler', 'sobre', 'desenvolvimento', 'java', 'em', 'camadas', 'e', 'li', 'alguma', 'coisa', 'a', 'respeito', 'sobre', 'o', 'bean', 'uma', 'classe', 'encapsulada', 'mas', 'não', 'encontrei', 'nenhum', 'conteúdo', 'que', 'realmente', 'explicasse', 'a', 'finalidade', 'e', 'um', 'exemplo', 'então', 'o', 'que', 'é', 'e', 'para', 'que', 'serve', 'um', 'bean', 'o', 'que', 'é', 'o', 'cgi', 'common', 'gateway', 'interface', 'e', 'o', 'que', 'ele', 'faz', 'é', 'uma', 'tecnologia', 'antiga', 'existem', 'outras', 'alternativas', 'a', 'ele', 'se', 'sim', 'quais', 'geralmente', 'quando', 'precisamos', 'recorrer', 'à', 'requisições', 'ajax', 'usando', 'javascript', 'temos', 'à', 'mão', 'apis', 'que', 'nos', 'auxiliam', 'com', 'isso', 'ex', 'jquery', 'porém', 'qual', 'seria', 'a', 'maneira', 'mais', 'segura', 'e', 'crossbrowser', 'de', 'realizar', 'essas', 'requisições', 'post', 'e', 'get', 'usando', 'javascript', 'puro', 'sei', 'que', 'é', 'possível', 'executar', 'um', 'com', 'dados', 'de', 'outra', 'tabela', 'mas', 'gostaria', 'de', 'fazer', 'o', 'mesmo', 'com', 'um', 'algo', 'equivalente', 'à', 'isso', 'é', 'possível', 'como', 'hoje', 'vi', 'o', 'seguinte', 'vídeo', 'httpswwwyoutubecomwatchvjgpvqcfms', 'mostra', 'um', 'bracelete', 'que', 'projeta', 'a', 'tela', 'de', 'um', 'celular', 'android', 'pareado', 'no', 'braço', 'do', 'usuário', 'este', 'então', 'pode', 'manipular', 'o', 'celular', 'movendo', 'o', 'dedo', 'em', 'seu', 'braço', 'o', 'vídeo', 'me', 'parece', 'claramente', 'uma', 'montagem', 'em', 'vários', 'momentos', 'a', 'projeção', 'da', 'tela', 'não', 'acompanha', 'corretamente', 'o', 'movimento', 'da', 'câmera', 'e', 'o', 'aparelho', 'responde', 'excessivamente', 'rápido', 'às', 'entradas', 'mas', 'a', 'empresa', 'existe', 'e', 'está', 'arrecadando', 'fundos', 'para', 'lançar', 'um', 'protótipo', 'então', 'é', 'possível', 'que', 'meramente', 'tenham', 'feito', 'um', 'vídeo', 'promocional', 'sem', 'ter', 'o', 'protótipo', 'pronto', 'o', 'que', 'me', 'deixou', 'em', 'dúvida', 'é', 'assumindo', 'que', 'seja', 'tudo', 'real', 'como', 'eles', 'fariam', 'um', 'aplicativo', 'que', 'faz', 'streaming', 'da', 'tela', 'do', 'android', 'e', 'permite', 'disparar', 'eventos', 'de', 'gesture', 'no', 'aparelho', 'isso', 'é', 'mesmo', 'possível', 'ou', 'seria', 'uma', 'solução', 'apenas', 'para', 'aparelhos', 'com', 'root', 'e', 'que', 'tenham', 'sido', 'modificados', 'de', 'alguma', 'forma', 'se', 'isso', 'é', 'possível', 'por', 'que', 'empresas', 'como', 'o', 'teamviewer', 'ainda', 'não', 'fizeram', 'um', 'cliente', 'de', 'controle', 'remoto', 'para', 'o', 'android', 'em', 'programação', 'python', 'é', 'comum', 'ouvir', 'o', 'termo', 'pythônico', 'ou', 'pythonic', 'veja', 'sopt', 'entendendo', 'o', 'modo', 'pythônico', 'de', 'lidar', 'com', 'propriedades', 'sopt', 'passar', 'parâmetros', 'de', 'forma', 'pythônica', 'wikipedia', 'python', 'programming', 'language', 'pythonnet', 'code', 'like', 'a', 'pythonista', 'idiomatic', 'python', 'o', 'que', 'significa', 'o', 'termo', 'pythônico', 'e', 'o', 'que', 'diferencia', 'um', 'código', 'nãopythônico', 'de', 'um', 'código', 'pythônico', 'vi', 'esse', 'termo', 'sendo', 'empregado', 'diversas', 'vezes', 'muitas', 'pessoas', 'e', 'empresas', 'querem', 'que', 'seus', 'códigos', 'sejam', 'limpos', 'vi', 'também', 'o', 'livro', 'código', 'limpo', 'habilidades', 'práticas', 'do', 'agile', 'software', 'mas', 'eu', 'queria', 'saber', 'o', 'que', 'define', 'um', 'código', 'ser', 'limpo', 'ou', 'não', 'quais', 'os', 'pontos', 'são', 'avaliados', 'uma', 'vez', 'que', 'o', 'conhecimento', 'e', 'o', 'domínio', 'sobre', 'uma', 'determinada', 'linguagem', 'pode', 'influenciar', 'na', 'avaliação', 'de', 'quem', 'está', 'lendo', 'na', 'pergunta', 'como', 'escrever', 'um', 'código', 'legível', 'e', 'de', 'fácil', 'manutenção', 'temos', 'alguns', 'exemplos', 'de', 'um', 'código', 'que', 'aparentemente', 'está', 'bem', 'escrito', 'porém', 'o', 'domínio', 'da', 'linguagem', 'é', 'que', 'faz', 'bastante', 'diferença', 'na', 'hora', 'de', 'interpretálo', 'então', 'focando', 'bem', 'a', 'pergunta', 'quais', 'o', 'pontos', 'que', 'são', 'avaliados', 'qual', 'a', 'importância', 'e', 'o', 'peso', 'de', 'cada', 'um', 'desses', 'pontos', 'dentro', 'da', 'avaliação', 'gostaria', 'principalmente', 'das', 'referências', 'para', 'estudar', 'um', 'pouco', 'mais', 'a', 'fundo', 'e', 'que', 'não', 'fosse', 'limitado', 'a', 'um', 'paradigma', 'ex', 'orientação', 'a', 'objeto', 'e', 'sim', 'num', 'contexto', 'geral', 'eu', 'comecei', 'a', 'ler', 'um', 'artigo', 'sobre', 'ecmascript', 'e', 'me', 'deparei', 'com', 'o', 'termo', 'transpilation', 'que', 'em', 'português', 'seria', 'transpilação', 'além', 'desse', 'percebi', 'que', 'outros', 'artigos', 'usam', 'esse', 'termo', 'é', 'a', 'primeira', 'vez', 'na', 'minha', 'vida', 'de', 'programação', 'que', 'me', 'deparo', 'com', 'esse', 'termo', 'o', 'que', 'isso', 'significa', 'esse', 'trans', 'tem', 'a', 'ver', 'com', 'traduzir', 'código', 'ou', 'algo', 'do', 'tipo', 'tenho', 'a', 'seguinte', 'string', 'qual', 'a', 'função', 'do', 'na', 'frente', 'da', 'string', 'em', 'primeiro', 'lugar', 'peço', 'desculpas', 'pelo', 'texto', 'longo', 'e', 'pelos', 'vários', 'pontos', 'perguntados', 'achei', 'melhor', 'lançar', 'todos', 'em', 'uma', 'pergunta', 'só', 'porque', 'são', 'interrelacionados', 'e', 'porque', 'penso', 'que', 'qualquer', 'pessoa', 'com', 'experiência', 'no', 'tipo', 'de', 'aplicativo', 'descrito', 'um', 'cliente', 'android', 'que', 'mantém', 'uma', 'conexão', 'socket', 'contínua', 'recebendo', 'e', 'enviando', 'dados', 'é', 'capaz', 'de', 'dar', 'sua', 'opinião', 'a', 'respeito', 'de', 'todos', 'ou', 'maioria', 'desses', 'pontos', 'basicamente', 'estou', 'precisando', 'tomar', 'decisões', 'de', 'design', 'e', 'tenho', 'dúvidas', 'sobre', 'como', 'seria', 'a', 'maneira', 'recomendada', 'android', 'de', 'fazer', 'estou', 'tentando', 'definir', 'qual', 'seria', 'o', 'esqueleto', 'mínimo', 'necessário', 'para', 'se', 'ter', 'um', 'aplicativo', 'dsse', 'tipo', 'isto', 'é', 'que', 'se', 'conecte', 'a', 'um', 'servidor', 'via', 'socket', 'websocket', 'socketio', 'tcp', 'etc', 'e', 'possa', 'trocar', 'mensagens', 'com', 'ele', 'não', 'tenho', 'um', 'exemplo', 'de', 'uso', 'específico', 'chat', 'não', 'é', 'um', 'desses', 'exemplos', 'porque', 'nesse', 'caso', 'o', 'ideal', 'seria', 'usar', 'push', 'notification', 'essa', 'conexão', 'não', 'deve', 'estar', 'atrelada', 'às', 'do', 'aplicativo', 'isto', 'é', 'as', 'mensagens', 'podem', 'ser', 'recebidas', 'mesmo', 'depois', 'do', 'usuário', 'ter', 'saído', 'do', 'aplicativo', 'perguntas', 'que', 'estou', 'tentando', 'responder', 'é', 'recomendado', 'delegar', 'o', 'gerenciamento', 'da', 'conexão', 'conectar', 'desconectar', 'e', 'o', 'envio', 'de', 'mensagens', 'para', 'uma', 'classe', 'separada', 'por', 'exemplo', 'um', 'singleton', 'o', 'uso', 'de', 'broadcasts', 'para', 'passar', 'uma', 'mensagem', 'recebida', 'para', 'a', 'atual', 'parece', 'ser', 'a', 'escolha', 'apropriada', 'no', 'caso', 'de', 'uma', 'arquitetura', 'de', 'aplicativo', 'relativamente', 'simples', 'alguém', 'discorda', 'seria', 'preferível', 'um', 'event', 'bus', 'ou', 'então', 'acoplamento', 'bind', 'a', 'um', 'serviço', 'é', 'esperado', 'que', 'o', 'sistema', 'mate', 'o', 'processo', 'do', 'aplicativo', 'para', 'liberar', 'memória', 'mas', 'a', 'conexão', 'deve', 'ser', 'reestabelecida', 'assim', 'que', 'houver', 'memória', 'disponível', 'para', 'isso', 'qual', 'a', 'melhor', 'forma', 'de', 'fazer', 'isso', 'agendar', 'checagens', 'periódicas', 'da', 'conexão', 'via', 'não', 'me', 'parece', 'apropriado', 'e', 'nem', 'usar', 'que', 'além', 'de', 'não', 'garantir', 'que', 'o', 'processo', 'seja', 'morto', 'apenas', 'torna', 'isso', 'menos', 'provável', 'de', 'acontecer', 'ainda', 'exibe', 'ao', 'usuário', 'uma', 'incômoda', 'notificação', 'de', 'que', 'o', 'aplicativo', 'está', 'em', 'execução', 'que', 'ainda', 'por', 'cima', 'se', 'for', 'clicada', 'leva', 'a', 'uma', 'tela', 'oferecendo', 'a', 'opção', 'de', 'encerrar', 'o', 'aplicativo', 'achei', 'que', 'retornar', 'no', 'método', 'poderia', 'ajudar', 'nesse', 'sentido', 'mas', 'ele', 'não', 'parece', 'ser', 'feito', 'para', 'isso', 'não', 'estou', 'certo', 'de', 'como', 'deve', 'funcionar', 'o', 'reestabelecimento', 'de', 'conexão', 'a', 'fim', 'de', 'processar', 'a', 'fila', 'de', 'mensagens', 'a', 'enviar', 'suponho', 'que', 'envolve', 'ouvir', 'o', 'broadcast', 'ou', 'então', 'um', 'evento', 'de', 'conexão', 'reestabelecida', 'qual', 'a', 'melhor', 'forma', 'de', 'fazer', 'isso', 'garantindo', 'que', 'o', 'aplicativo', 'tente', 'enviar', 'as', 'mensagens', 'quando', 'possível', 'após', 'haver', 'consenso', 'a', 'respeito', 'da', 'modelagem', 'do', 'aplicativo', 'creio', 'que', 'será', 'necessário', 'incluir', 'wake', 'locks', 'ao', 'código', 'para', 'evitar', 'que', 'o', 'aparelho', 'entre', 'em', 'sleep', 'mode', 'enquanto', 'processa', 'mensagens', 'recebidas', 'ou', 'colocadas', 'na', 'fila', 'de', 'envio', 'porém', 'não', 'tenho', 'certeza', 'de', 'em', 'qual', 'parte', 'do', 'código', 'incluilas', 'e', 'gostaria', 'de', 'recomendações', 'para', 'isso', 'tenho', 'também', 'as', 'seguintes', 'considerações', 'adicionais', 'a', 'uma', 'vez', 'a', 'conexão', 'estabelecida', 'o', 'aparelho', 'pode', 'entrar', 'em', 'sleep', 'mode', 'tranquilamente', 'que', 'a', 'chegada', 'de', 'dados', 'irá', 'acordálo', 'porém', 'não', 'é', 'garantido', 'que', 'esses', 'dados', 'sejam', 'processados', 'em', 'sua', 'completude', 'sem', 'uma', 'wake', 'lock', 'antes', 'do', 'aparelho', 'voltar', 'a', 'dormir', 'b', 'se', 'o', 'aplicativo', 'estiver', 'adormecido', 'e', 'a', 'conexão', 'se', 'tornar', 'disponível', 'um', 'requisito', 'desejável', 'pode', 'ser', 'que', 'a', 'fila', 'de', 'mensagens', 'a', 'enviar', 'seja', 'processada', 'em', 'sua', 'completude', 'antes', 'do', 'aparelho', 'voltar', 'a', 'dormir', 'não', 'tenho', 'a', 'certeza', 'de', 'onde', 'devo', 'adicionar', 'a', 'wake', 'lock', 'nesse', 'caso', 'c', 'mesmo', 'que', 'a', 'biblioteca', 'que', 'trabalha', 'com', 'o', 'protocolo', 'de', 'comunicação', 'escolhido', 'esteja', 'preparada', 'para', 'funcionar', 'com', 'android', 'isto', 'é', 'gerencie', 'a', 'entradasaída', 'em', 'um', 'ou', 'mais', 'threads', 'secundários', 'e', 'não', 'no', 'thread', 'de', 'ui', 'pode', 'ser', 'que', 'ela', 'esteja', 'programada', 'para', 'executar', 'seus', 'callbacks', 'em', 'particular', 'o', 'callback', 'que', 'recebe', 'mensagens', 'no', 'thread', 'de', 'ui', 'isso', 'pode', 'afetar', 'a', 'maneira', 'como', 'disponho', 'as', 'wake', 'locks', 'no', 'meu', 'código', 'há', 'a', 'necessidade', 'de', 'manter', 'um', 'thread', 'ativo', 'em', 'loop', 'contínuo', 'para', 'manter', 'a', 'conexão', 'aberta', 'como', 'posso', 'evitar', 'isso', 'agradeço', 'a', 'qualquer', 'feedback', 'lancei', 'essa', 'pergunta', 'também', 'no', 'so', 'em', 'inglês', 'com', 'o', 'advento', 'dos', 'layouts', 'responsivosadaptativofluidos', 'está', 'cada', 'vez', 'menos', 'comum', 'o', 'uso', 'do', 'para', 'definir', 'espaçamentos', 'no', 'layout', 'o', 'uso', 'dele', 'não', 'é', 'recomendado', 'nesses', 'layouts', 'modernos', 'ou', 'é', 'só', 'uma', 'questão', 'de', 'prática', 'de', 'programação', 'de', 'separar', 'a', 'responsabilidade', 'para', 'o', 'css', 'estava', 'lendo', 'um', 'livro', 'sobre', 'orientação', 'a', 'objetos', 'e', 'essas', 'duas', 'entidades', 'são', 'tradadas', 'de', 'modo', 'diferente', 'qual', 'a', 'diferença', 'entre', 'ambas', 'eu', 'já', 'vi', 'muita', 'gente', 'defendendo', 'o', 'uso', 'dos', 'métodos', 'http', 'corretamente', 'ou', 'seja', 'respeitando', 'a', 'semântica', 'dos', 'métodos', 'definidos', 'na', 'especificação', 'ao', 'fazer', 'uma', 'requisição', 'só', 'deve', 'ser', 'utilizado', 'para', 'recuperar', 'dados', 'e', 'nunca', 'para', 'ações', 'que', 'causem', 'efeitos', 'colaterais', 'os', 'métodos', 'e', 'muitas', 'vezes', 'devem', 'ser', 'utilizados', 'no', 'lugar', 'do', 'porém', 'é', 'um', 'fato', 'óbvio', 'que', 'muito', 'pouca', 'gente', 'na', 'web', 'faz', 'isso', 'na', 'prática', 'e', 'são', 'utilizados', 'quase', 'que', 'exclusivamente', 'por', 'diversos', 'motivos', 'que', 'não', 'vêm', 'ao', 'caso', 'gostaria', 'de', 'saber', 'quais', 'as', 'vantagens', 'do', 'uso', 'correto', 'e', 'as', 'desvantagens', 'do', 'que', 'é', 'feito', 'na', 'prática', 'para', 'além', 'do', 'dogma', 'do', 'certo', 'e', 'errado', 'e', 'da', 'questão', 'semântica']\n"
     ]
    }
   ],
   "source": [
    "print(todas_palavras_pt)"
   ]
  },
  {
   "cell_type": "markdown",
   "id": "substantial-praise",
   "metadata": {},
   "source": [
    "Note que tokenizer transforma uma lista em um vetor onde cada elemento é uma palavra. Agora vamos adicionar um fakechar em cada uma das palavras e por fim transformar em bigramas.\n",
    "\n",
    "Para acrescentar os fakechars a gente pode criar uma função ou utilizar uma rotina já pronta no módulo nltk. Esta função recebe um vetor de palavras, adiciona um fakechar em cada elemento, cria $n$-gramas com ordem $n$ e retorna um iterator  com os ngramas (com repetição) e o vocabulario.\n",
    "\n",
    "https://www.nltk.org/api/nltk.lm.html#nltk.lm.preprocessing.padded_everygram_pipeline"
   ]
  },
  {
   "cell_type": "code",
   "execution_count": 68,
   "id": "alternate-yahoo",
   "metadata": {},
   "outputs": [],
   "source": [
    "from nltk.lm.preprocessing import padded_everygram_pipeline"
   ]
  },
  {
   "cell_type": "code",
   "execution_count": 69,
   "id": "devoted-behavior",
   "metadata": {},
   "outputs": [],
   "source": [
    "pt_treino_bigram, vocabulario_pt = padded_everygram_pipeline(order=2,text=todas_palavras_pt)"
   ]
  },
  {
   "cell_type": "code",
   "execution_count": 70,
   "id": "metric-congress",
   "metadata": {},
   "outputs": [
    {
     "name": "stdout",
     "output_type": "stream",
     "text": [
      "<class 'generator'>\n",
      "<class 'itertools.chain'>\n"
     ]
    }
   ],
   "source": [
    "print(type(pt_treino_bigram))\n",
    "print(type(vocabulario_pt))"
   ]
  },
  {
   "cell_type": "markdown",
   "id": "angry-amendment",
   "metadata": {},
   "source": [
    "Note que temos um objeto do tipo `gerator` e outro `itertools.chain`.\n",
    "\n",
    "> Objetos geradores são o que o Python usa para implementar iteradores geradores. Eles são normalmente criados por iteração sobre uma função que produz valores, em vez de invocar explicitamente. A vantagem deste tipo de objeto é quando se trabalha com grande volume de dados e assim em vez de ler todas as informações de uma vez só ele obtém os dados em tempo de execução.\n",
    "\n",
    "Para analisar o que um gerador gera, podemos usar a função `next()` builtin do python, como dentro de `pt_treino_bigram` tem um gerator dentro de um gerator, usamos o método next duas vezes:"
   ]
  },
  {
   "cell_type": "code",
   "execution_count": 71,
   "id": "endless-scoop",
   "metadata": {},
   "outputs": [
    {
     "data": {
      "text/plain": [
       "('<s>',)"
      ]
     },
     "execution_count": 71,
     "metadata": {},
     "output_type": "execute_result"
    }
   ],
   "source": [
    "next(next(pt_treino_bigram))"
   ]
  },
  {
   "cell_type": "markdown",
   "id": "committed-guess",
   "metadata": {},
   "source": [
    "## Instanciando um modelo \n",
    "\n",
    "O modelo que vamos utilizar aqui é conhecido como MLE da sigla Maximum Likelihood Estimator, é um modelo que leva em conta a máxima verosimilhança lá da estatísitca.O princípio de máxima verossimilhança é um dos procedimentos usados para se obter estimadores. Ele trata o problema de estimação baseado nos resultados obtidos pela amostra e devemos determinar qual a distribuição, dentre todas aquelas definidas pelos possíveis valores de seus parâmetros, com maior possibilidade de ter gerado tal amostra.\n",
    "\n",
    "> Fonte: http://www.portalaction.com.br/inferencia/34-estimadores-de-maxima-verossimilhanca\n",
    "\n",
    "```python\n",
    "class nltk.lm.models.MLE(order, vocabulary=None, counter=None)[source]\n",
    "```\n",
    "    Bases: nltk.lm.api.LanguageModel\n",
    "\n",
    "    Class for providing MLE ngram model scores.\n",
    "\n",
    "    Inherits initialization from BaseNgramModel."
   ]
  },
  {
   "cell_type": "code",
   "execution_count": 72,
   "id": "settled-thursday",
   "metadata": {},
   "outputs": [],
   "source": [
    "from nltk.lm import MLE "
   ]
  },
  {
   "cell_type": "code",
   "execution_count": 73,
   "id": "christian-cattle",
   "metadata": {},
   "outputs": [],
   "source": [
    "modelo_MLE_pt = MLE(2)"
   ]
  },
  {
   "cell_type": "markdown",
   "id": "handed-leader",
   "metadata": {},
   "source": [
    "agora vamos ajustar o modelo:"
   ]
  },
  {
   "cell_type": "code",
   "execution_count": 74,
   "id": "suburban-academy",
   "metadata": {},
   "outputs": [],
   "source": [
    "modelo_MLE_pt.fit(pt_treino_bigram, vocabulario_pt)"
   ]
  },
  {
   "cell_type": "markdown",
   "id": "adult-problem",
   "metadata": {},
   "source": [
    "O primeiro parâmetro passado para o `.fit()` são os *ngrams* com os fakechars do corpus textual. Já o segundo parâmetro é o vocabulário, contendo um de cada ngram formado pelo corpus.\n",
    "\n",
    "o interessante é que quando um modelo já foi treinado ele tem a capacidade de gerar algumas palavras, veja só:"
   ]
  },
  {
   "cell_type": "code",
   "execution_count": 75,
   "id": "expressed-marsh",
   "metadata": {},
   "outputs": [
    {
     "data": {
      "text/plain": [
       "['s', 'u', 'a', 'm', 'â', 'n']"
      ]
     },
     "execution_count": 75,
     "metadata": {},
     "output_type": "execute_result"
    }
   ],
   "source": [
    "modelo_MLE_pt.generate(num_words=6,random_seed=seed)"
   ]
  },
  {
   "cell_type": "markdown",
   "id": "selective-breast",
   "metadata": {},
   "source": [
    "geralmente não faz muito sentido pois o nossos bigramas são formados por letras, caso fossem formados por palavras seria possível fomar frases com 6 palavras."
   ]
  },
  {
   "cell_type": "markdown",
   "id": "guilty-denver",
   "metadata": {},
   "source": [
    "## Frequência das letras\n",
    "\n",
    "Dada uma letra aleatória, por exemplo `m`, qual o caracter mais provável de vir em seguida? Bom para isso precisamos saber a distribuição de frequências dos caracteres, podemos usar o método `counts()` do proprio modelo MLE. Aopassar a chave [['m']] o modelo retorna um dicionário com o caracter e a frequência:"
   ]
  },
  {
   "cell_type": "code",
   "execution_count": 76,
   "id": "sunrise-upper",
   "metadata": {},
   "outputs": [
    {
     "data": {
      "text/html": [
       "<div>\n",
       "<style scoped>\n",
       "    .dataframe tbody tr th:only-of-type {\n",
       "        vertical-align: middle;\n",
       "    }\n",
       "\n",
       "    .dataframe tbody tr th {\n",
       "        vertical-align: top;\n",
       "    }\n",
       "\n",
       "    .dataframe thead th {\n",
       "        text-align: right;\n",
       "    }\n",
       "</style>\n",
       "<table border=\"1\" class=\"dataframe\">\n",
       "  <thead>\n",
       "    <tr style=\"text-align: right;\">\n",
       "      <th></th>\n",
       "      <th>letra</th>\n",
       "      <th>frequencia</th>\n",
       "    </tr>\n",
       "  </thead>\n",
       "  <tbody>\n",
       "    <tr>\n",
       "      <th>1</th>\n",
       "      <td>&lt;/s&gt;</td>\n",
       "      <td>2737</td>\n",
       "    </tr>\n",
       "    <tr>\n",
       "      <th>5</th>\n",
       "      <td>a</td>\n",
       "      <td>2082</td>\n",
       "    </tr>\n",
       "    <tr>\n",
       "      <th>4</th>\n",
       "      <td>e</td>\n",
       "      <td>1477</td>\n",
       "    </tr>\n",
       "    <tr>\n",
       "      <th>3</th>\n",
       "      <td>o</td>\n",
       "      <td>842</td>\n",
       "    </tr>\n",
       "    <tr>\n",
       "      <th>7</th>\n",
       "      <td>p</td>\n",
       "      <td>685</td>\n",
       "    </tr>\n",
       "  </tbody>\n",
       "</table>\n",
       "</div>"
      ],
      "text/plain": [
       "  letra  frequencia\n",
       "1  </s>        2737\n",
       "5     a        2082\n",
       "4     e        1477\n",
       "3     o         842\n",
       "7     p         685"
      ]
     },
     "execution_count": 76,
     "metadata": {},
     "output_type": "execute_result"
    }
   ],
   "source": [
    "frequencia_letras_apos_M = modelo_MLE_pt.counts[['m']].items()\n",
    "\n",
    "frequencia_letras_apos_M = pd.DataFrame(frequencia_letras_apos_M,\n",
    "                                        columns=['letra','frequencia'])\n",
    "\n",
    "frequencia_letras_apos_M = frequencia_letras_apos_M.sort_values(by='frequencia',\n",
    "                                                                ascending=False)\n",
    "\n",
    "frequencia_letras_apos_M.head()"
   ]
  },
  {
   "cell_type": "code",
   "execution_count": 77,
   "id": "general-filter",
   "metadata": {},
   "outputs": [
    {
     "data": {
      "image/png": "[encoded data removed]",
      "text/plain": [
       "<Figure size 720x432 with 1 Axes>"
      ]
     },
     "metadata": {
      "needs_background": "light"
     },
     "output_type": "display_data"
    }
   ],
   "source": [
    "plt.figure(figsize=(10,6))\n",
    "\n",
    "ax = sns.barplot(data=frequencia_letras_apos_M, x = 'letra', y = 'frequencia')\n",
    "ax.set_xticklabels(frequencia_letras_apos_M['letra'], size = 15)\n",
    "ax;"
   ]
  },
  {
   "cell_type": "markdown",
   "id": "minus-brother",
   "metadata": {},
   "source": [
    "### Medida de Perplexidade\n",
    "\n",
    "Vamos supor que tenhamos uma frase em portguês \"*Bom Dia*\", vamos transformar esta frase em um bigrama com os fakechars. Então com os bigramas vamo calcular a probabilidade dessa frase pertencer ao modelo de linguagem."
   ]
  },
  {
   "cell_type": "code",
   "execution_count": 78,
   "id": "centered-consumption",
   "metadata": {},
   "outputs": [
    {
     "name": "stdout",
     "output_type": "stream",
     "text": [
      "palavras: ['bom', 'dia']\n",
      "palavras com fakechar: [['<s>', 'b', 'o', 'm', '</s>'], ['<s>', 'd', 'i', 'a', '</s>']]\n",
      "bigramas: [[('<s>', 'b'), ('b', 'o'), ('o', 'm'), ('m', '</s>')], [('<s>', 'd'), ('d', 'i'), ('i', 'a'), ('a', '</s>')]]\n"
     ]
    }
   ],
   "source": [
    "frase = 'bom dia'\n",
    "\n",
    "palavras = WhitespaceTokenizer().tokenize(frase)\n",
    "print(f'palavras: {palavras}')\n",
    "\n",
    "palavras_with_fakechar = [list(pad_both_ends(palavra,2)) for palavra in palavras]\n",
    "print(f'palavras com fakechar: {palavras_with_fakechar}')\n",
    "\n",
    "bigramas_frase = [list(bigrams(palavra)) for palavra in palavras_with_fakechar]\n",
    "print(f'bigramas: {bigramas_frase}')"
   ]
  },
  {
   "cell_type": "markdown",
   "id": "subjective-ownership",
   "metadata": {},
   "source": [
    "agora temos uma lista de bigramas de cada palavra que compõem a frase \"*bom dia*\". \n",
    "\n",
    "Para testar o modelo vamos usar uma medida chamada de [perplexidade](https://www.nltk.org/api/nltk.lm.html#nltk.lm.api.LanguageModel.perplexity): \n",
    "\n",
    "```python\n",
    "perplexity(text_ngrams)\n",
    "```\n",
    "\n",
    "    Calculates the perplexity of the given text.\n",
    "\n",
    "    This is simply 2 ** cross-entropy for the text, so the arguments are the same.\n",
    "\n",
    "**QUANTO MENOR A PERPLEXIDADE MAIS ADERENTE A PALAVRA É AO MODELO**"
   ]
  },
  {
   "cell_type": "code",
   "execution_count": 79,
   "id": "commercial-sheep",
   "metadata": {},
   "outputs": [
    {
     "name": "stdout",
     "output_type": "stream",
     "text": [
      "A perpexidade da palavra \"bom\" é: 14.749589148094044\n",
      "A perpexidade da palavra \"dia\" é: 7.863845619238755\n"
     ]
    }
   ],
   "source": [
    "perplexidade_palavra0 = modelo_MLE_pt.perplexity(bigramas_frase[0])\n",
    "perplexidade_palavra1 = modelo_MLE_pt.perplexity(bigramas_frase[1])\n",
    "\n",
    "print(f'A perpexidade da palavra \"{palavras[0]}\" é: {perplexidade_palavra0}')\n",
    "print(f'A perpexidade da palavra \"{palavras[1]}\" é: {perplexidade_palavra1}')"
   ]
  },
  {
   "cell_type": "markdown",
   "id": "rational-minutes",
   "metadata": {},
   "source": [
    "Note, que a palavras \"bom\" e \"dia\" tem uma perplexidade baixa, isso significa que elas não diferem tanto da lingua que o modelo foi treinado, note o que acontece com a palavra \"*good morning*\":"
   ]
  },
  {
   "cell_type": "code",
   "execution_count": 80,
   "id": "wrong-lending",
   "metadata": {},
   "outputs": [
    {
     "name": "stdout",
     "output_type": "stream",
     "text": [
      "A perpexidade da palavra \"good\" é: 58.66329704150889\n",
      "A perpexidade da palavra \"morning\" é: 20.988794145832383\n"
     ]
    }
   ],
   "source": [
    "frase = 'good morning'\n",
    "\n",
    "palavras = WhitespaceTokenizer().tokenize(frase)\n",
    "palavras_with_fakechar = [list(pad_both_ends(palavra,2)) for palavra in palavras]\n",
    "bigramas_frase = [list(bigrams(palavra)) for palavra in palavras_with_fakechar]\n",
    "\n",
    "\n",
    "perplexidade_palavra0 = modelo_MLE_pt.perplexity(bigramas_frase[0])\n",
    "perplexidade_palavra1 = modelo_MLE_pt.perplexity(bigramas_frase[1])\n",
    "\n",
    "print(f'A perpexidade da palavra \"{palavras[0]}\" é: {perplexidade_palavra0}')\n",
    "print(f'A perpexidade da palavra \"{palavras[1]}\" é: {perplexidade_palavra1}')"
   ]
  },
  {
   "cell_type": "markdown",
   "id": "certified-allocation",
   "metadata": {},
   "source": [
    "Note que a perplexidade das palavras \"good\" e \"morning\" é maior do que as palavras \"bom\" e \"dia\", ou seja, podemos dizer que algumas palavras tem mais chance de pertencer ao idioma do que outras com base na medida de perplexidade."
   ]
  },
  {
   "cell_type": "markdown",
   "id": "existing-anaheim",
   "metadata": {},
   "source": [
    "### Automatizando treino"
   ]
  },
  {
   "cell_type": "code",
   "execution_count": 81,
   "id": "organic-rebate",
   "metadata": {},
   "outputs": [],
   "source": [
    "from nltk.tokenize import WhitespaceTokenizer\n",
    "from nltk.lm.preprocessing import pad_both_ends, padded_everygram_pipeline\n",
    "from nltk.lm.models import MLE\n",
    "\n",
    "def treina_modelo_MLE(lista_textos):\n",
    "    \"\"\"\n",
    "    Esta frunção recebe uma lista de textos e \n",
    "    retorna um modelo treinado com base nas \n",
    "    palavras que contém na lista de textos.\n",
    "    \"\"\"\n",
    "    # pre processamento\n",
    "    todos_textos = ' '.join(lista_textos)\n",
    "    palavras = WhitespaceTokenizer().tokenize(todos_textos)\n",
    "    bigrams, vocabulario = padded_everygram_pipeline(2, palavras)\n",
    "    \n",
    "    # instanciando modelo\n",
    "    modelo_mle = MLE(2)\n",
    "    modelo_mle.fit(bigrams, vocabulario)\n",
    "    \n",
    "    return modelo_mle"
   ]
  },
  {
   "cell_type": "markdown",
   "id": "known-frame",
   "metadata": {},
   "source": [
    "#### Comparando os modelos criados\n",
    "\n",
    "##### Instanciando:"
   ]
  },
  {
   "cell_type": "code",
   "execution_count": 82,
   "id": "hungry-school",
   "metadata": {},
   "outputs": [],
   "source": [
    "MLE_pt = treina_modelo_MLE(pt_treino)"
   ]
  },
  {
   "cell_type": "markdown",
   "id": "incomplete-credit",
   "metadata": {},
   "source": [
    "##### Frase de teste"
   ]
  },
  {
   "cell_type": "code",
   "execution_count": 83,
   "id": "anonymous-blogger",
   "metadata": {},
   "outputs": [],
   "source": [
    "frase = 'good morning'\n",
    "\n",
    "palavras = WhitespaceTokenizer().tokenize(frase)\n",
    "palavras_with_fakechar = [list(pad_both_ends(palavra,2)) for palavra in palavras]\n",
    "bigramas_frase = [list(bigrams(palavra)) for palavra in palavras_with_fakechar]\n"
   ]
  },
  {
   "cell_type": "markdown",
   "id": "chubby-upset",
   "metadata": {},
   "source": [
    "##### Testando modelo MLE portugues:"
   ]
  },
  {
   "cell_type": "code",
   "execution_count": 84,
   "id": "convenient-marketplace",
   "metadata": {},
   "outputs": [
    {
     "name": "stdout",
     "output_type": "stream",
     "text": [
      "A perpexidade da palavra \"good\" é: 58.66329704150889\n",
      "A perpexidade da palavra \"morning\" é: 20.988794145832383\n"
     ]
    }
   ],
   "source": [
    "perplexidade_palavra0 = modelo_MLE_pt.perplexity(bigramas_frase[0])\n",
    "perplexidade_palavra1 = modelo_MLE_pt.perplexity(bigramas_frase[1])\n",
    "\n",
    "print(f'A perpexidade da palavra \"{palavras[0]}\" é: {perplexidade_palavra0}')\n",
    "print(f'A perpexidade da palavra \"{palavras[1]}\" é: {perplexidade_palavra1}')"
   ]
  },
  {
   "cell_type": "markdown",
   "id": "unlikely-network",
   "metadata": {},
   "source": [
    "##### Testando modelo MLE:"
   ]
  },
  {
   "cell_type": "code",
   "execution_count": 85,
   "id": "suited-timeline",
   "metadata": {},
   "outputs": [
    {
     "name": "stdout",
     "output_type": "stream",
     "text": [
      "A perpexidade da palavra \"good\" é: 58.66496188278276\n",
      "A perpexidade da palavra \"morning\" é: 20.98901720031048\n"
     ]
    }
   ],
   "source": [
    "perplexidade_palavra0 = MLE_pt.perplexity(bigramas_frase[0])\n",
    "perplexidade_palavra1 = MLE_pt.perplexity(bigramas_frase[1])\n",
    "\n",
    "print(f'A perpexidade da palavra \"{palavras[0]}\" é: {perplexidade_palavra0}')\n",
    "print(f'A perpexidade da palavra \"{palavras[1]}\" é: {perplexidade_palavra1}')"
   ]
  },
  {
   "cell_type": "markdown",
   "id": "committed-disco",
   "metadata": {},
   "source": [
    "### Treinando os modelos de outros idiomas"
   ]
  },
  {
   "cell_type": "code",
   "execution_count": 86,
   "id": "golden-competition",
   "metadata": {},
   "outputs": [],
   "source": [
    "MLE_in = treina_modelo_MLE(in_treino)\n",
    "MLE_es = treina_modelo_MLE(es_treino)"
   ]
  },
  {
   "cell_type": "markdown",
   "id": "charming-madison",
   "metadata": {},
   "source": [
    "#### Testando os modelos de idiomas diferentes com a frase \"*good morning*\""
   ]
  },
  {
   "cell_type": "code",
   "execution_count": 87,
   "id": "coral-wilson",
   "metadata": {},
   "outputs": [
    {
     "name": "stdout",
     "output_type": "stream",
     "text": [
      "A perpexidade da palavra \"good\" em Portguês é: 58.66496188278276\n",
      "A perpexidade da palavra \"morning\" em Portguês é: 20.98901720031048\n",
      "\n",
      "A perpexidade da palavra \"good\" em Inglês é:\t 21.202831906113154\n",
      "A perpexidade da palavra \"morning\" em Inglês é:\t 12.632399327288988\n",
      "\n",
      "A perpexidade da palavra \"good\" em Espanhol é:\t 40.726852862816976\n",
      "A perpexidade da palavra \"morning\" em Espanhol é: 22.223852482696383\n"
     ]
    }
   ],
   "source": [
    "perplexidade_palavra0 = MLE_pt.perplexity(bigramas_frase[0])\n",
    "perplexidade_palavra1 = MLE_pt.perplexity(bigramas_frase[1])\n",
    "\n",
    "print(f'A perpexidade da palavra \"{palavras[0]}\" em Portguês é: {perplexidade_palavra0}')\n",
    "print(f'A perpexidade da palavra \"{palavras[1]}\" em Portguês é: {perplexidade_palavra1}')\n",
    "\n",
    "perplexidade_palavra0 = MLE_in.perplexity(bigramas_frase[0])\n",
    "perplexidade_palavra1 = MLE_in.perplexity(bigramas_frase[1])\n",
    "\n",
    "print(f'\\nA perpexidade da palavra \"{palavras[0]}\" em Inglês é:\\t {perplexidade_palavra0}')\n",
    "print(f'A perpexidade da palavra \"{palavras[1]}\" em Inglês é:\\t {perplexidade_palavra1}')\n",
    "\n",
    "perplexidade_palavra0 = MLE_es.perplexity(bigramas_frase[0])\n",
    "perplexidade_palavra1 = MLE_es.perplexity(bigramas_frase[1])\n",
    "\n",
    "print(f'\\nA perpexidade da palavra \"{palavras[0]}\" em Espanhol é:\\t {perplexidade_palavra0}')\n",
    "print(f'A perpexidade da palavra \"{palavras[1]}\" em Espanhol é: {perplexidade_palavra1}')"
   ]
  },
  {
   "cell_type": "markdown",
   "id": "known-lunch",
   "metadata": {},
   "source": [
    "### Automatizando calculo da perplexidade"
   ]
  },
  {
   "cell_type": "code",
   "execution_count": 88,
   "id": "organized-terrain",
   "metadata": {},
   "outputs": [],
   "source": [
    "def calcula_perplexidade(modelo, texto, mean_perplexity=False):\n",
    "    perplexidade = 0\n",
    "    \n",
    "    palavras = WhitespaceTokenizer().tokenize(texto)\n",
    "    palavras_with_fakechar = [list(pad_both_ends(palavra,2)) for palavra in palavras]\n",
    "    bigramas_palavras = [list(bigrams(palavra)) for palavra in palavras_with_fakechar]\n",
    "    \n",
    "    for palavra in bigramas_palavras:\n",
    "        perplexidade += modelo.perplexity(palavra)\n",
    "        \n",
    "    if mean_perplexity: \n",
    "        media_perplexidade = perplexidade / len(bigramas_palavras)    \n",
    "        return media_perplexidade\n",
    "    else:\n",
    "        return perplexidade\n",
    "    \n",
    "    "
   ]
  },
  {
   "cell_type": "code",
   "execution_count": 89,
   "id": "composite-bumper",
   "metadata": {},
   "outputs": [
    {
     "name": "stdout",
     "output_type": "stream",
     "text": [
      "79.65397908309325\n",
      "62.950705345513356\n",
      "33.83523123340214\n"
     ]
    }
   ],
   "source": [
    "print(calcula_perplexidade(MLE_pt, 'good morning'))\n",
    "print(calcula_perplexidade(MLE_es, 'good morning'))\n",
    "print(calcula_perplexidade(MLE_in, 'good morning'))"
   ]
  },
  {
   "cell_type": "markdown",
   "id": "dominant-insertion",
   "metadata": {},
   "source": [
    "Note que pra cada modelo de MLE existe uma perplexidade associada à frase \"good morning\""
   ]
  },
  {
   "cell_type": "markdown",
   "id": "front-steering",
   "metadata": {},
   "source": [
    "### Testando a perplexidade com as questões"
   ]
  },
  {
   "cell_type": "markdown",
   "id": "approved-carolina",
   "metadata": {},
   "source": [
    "#### A questão:"
   ]
  },
  {
   "cell_type": "code",
   "execution_count": 90,
   "id": "precise-going",
   "metadata": {},
   "outputs": [
    {
     "data": {
      "text/plain": [
       "'ao modelar endereços em uma aplicação ingenuamente segui a forma normalizada ao representar no bd ie tabelas separadas para país estado cidade bairro etc joins para todo lado e na interface de usuário html coloquei um campo separado para cada parte desse endereço caixa de texto com autocompletar ou combo box no começo achava que estava bom desse jeito e não pensei muito no assunto entretanto após fazer uma pergunta no uxse relativo ao nosso padrão de usar rua x em vez de x street as respostas me levaram a questionar se valia a pena na prática exigir tamanho nível de detalhe na representação além da complexidade adicional na hora de buscaratualizar como exemplificado nessa pirâmide não sei como a performance do sistema será quando ele contiver um número elevado de endereços gostaria de saber de quem já tem experiência lidando com um grande número de endereços quais práticas seriam recomendadas deixar tudo normalizado usar um campo de texto aberto condensar algumas tabelas numa só ex e deixar outras separadas etc levando em consideração que poucos usuários entrarão com muitos endereços de outras pessoas se fosse cada usuário entrando com o próprio endereço uma vez e pronto não justificaria investir em usabilidade se uma parte do endereço já existe no banco ex uma rua previamente cadastrada o autocompletar pode ser usado para agilizar a entrada de dados isso seria mais difícil se o endereço fosse um campo aberto alguns dados são mais fáceis de encontrar e prépopular ex lista completa de cidades brasileiras outros são mais difíceis ou mais caros podendo ser melhor que o usuário entre com eles sob demanda mas ainda permitindo autocompletar se um campo é aberto fica mais sujeito a duplicação ex av foo av foo avenida foo a foo foo mas duplicação não é necessariamente um problema é mais difícil fazer agregação em um campo desnormalizado ex se quero estatísticas por estado mas agrupei num campo só terei problemas '"
      ]
     },
     "execution_count": 90,
     "metadata": {},
     "output_type": "execute_result"
    }
   ],
   "source": [
    "pt_teste.iloc[1]"
   ]
  },
  {
   "cell_type": "code",
   "execution_count": 91,
   "id": "equal-plaza",
   "metadata": {},
   "outputs": [
    {
     "name": "stdout",
     "output_type": "stream",
     "text": [
      "3786.0706120266655\n",
      "inf\n",
      "inf\n"
     ]
    }
   ],
   "source": [
    "print(calcula_perplexidade(MLE_pt, pt_teste.iloc[1]))\n",
    "print(calcula_perplexidade(MLE_es, pt_teste.iloc[1]))\n",
    "print(calcula_perplexidade(MLE_in, pt_teste.iloc[1]))\n",
    "\n"
   ]
  },
  {
   "cell_type": "markdown",
   "id": "painful-simpson",
   "metadata": {},
   "source": [
    "Note que para as linguas espanhol e inglês o modelo classificou como `inf` a perplexidade, mas por quê?"
   ]
  },
  {
   "cell_type": "markdown",
   "id": "coordinated-amber",
   "metadata": {},
   "source": [
    "### Perplexidade infinita\n",
    "\n",
    "Vamos exemplificar novamente usando o texto de Camões, qual a probabilidade de encontrar a palavra $\\text{Carambola}$ no verso: \n",
    "\n",
    "<b>\"O amor é fogo que arde sem se ver, \n",
    "\n",
    "é ferida que dói, e não se sente;\n",
    "\n",
    "é um contentamento descontente, \n",
    "\n",
    "é dor que desatina sem doer\"\n",
    "</b>\n",
    "\n",
    ">(Luíz Vaz de Camões)\n",
    "\n",
    "\n",
    "A probabilidade será: \n",
    "\n",
    "$$P(\\text{Carambola  | texto }) = \\frac{P(\\text{Carambola} \\cap\\text{texto})}{P(\\text{texto})}$$\n",
    "\n",
    "Por definição a perplexidade é o inverso da probabilidade, isto é:\n",
    "\n",
    "$$Per(X) = \\frac{1}{P(X)}.$$\n",
    "\n",
    "Então, note que necessariamente $P(X) \\ne 0$. Mas se a quantidade de palavras $\\sum{\\text{palavras}}$ disponíveis no $\\text{texto}$ for suficientemente grande, isso significa que a probabilidade $P(X)$ é muito baixa e isto implica, pela definição, uma perplexidade extremamente alta.\n",
    "\n",
    "Em outras palavras, caso uma palavra não pertença à um vocabulário, a probabilidade dela pertencer ao texto é extremamente baixa e portanto, sua perplexidade é extremamente alta. **É muito importante entender esta característica da perplexidade, pois se o modelo nunca viu a palavra mesmo ela pertencendo ao idioma a perplexidade tende ao infinito.**\n",
    "\n",
    "Para solucionar este problema existem outros modelos além do MLE, um deles é conhecido como *modelo de Laplace*. O modelo de Laplace faz com que a probabilidade seja suavizada e isso ajuda com que ela nunca seja zero efetivamente, e assim, a perplexidade não diverge."
   ]
  },
  {
   "cell_type": "markdown",
   "id": "impossible-opposition",
   "metadata": {},
   "source": [
    "### Usando o modelo de Laplace\n",
    "\n",
    "O modelo esta disponível no módulo NLTK, dentro do pacote `lm.models`: \n",
    "\n",
    "```python\n",
    "class nltk.lm.models.Laplace(*args, **kwargs)[source]¶\n",
    "```\n",
    "    Bases: nltk.lm.models.Lidstone\n",
    "\n",
    "    Implements Laplace (add one) smoothing.\n",
    "\n",
    "    Initialization identical to BaseNgramModel because gamma is always 1.\n",
    "\n",
    "https://www.nltk.org/api/nltk.lm.html#nltk.lm.models.Laplace\n",
    "\n",
    "Para fazer com que a probabilidade nunca chegue a zero usa-se a distribuição gamma de probabilidades. A distribuição gama é uma das mais gerais distribuições, pois diversas distribuições são caso particular dela como por exemplo a exponencial, a qui-quadrado, entre outras. Essa distribuição tem como suas principais aplicações à análise de tempo de vida de produtos.\n",
    "\n",
    "Uma variável aleatória $X$ tem distribuição Gama com parâmetros $\\alpha> 0$ (também denominado parâmetro de forma) e $\\beta > 0$ (parâmetro de taxa), denotando-se $X\\sim Gama(\\alpha,\\beta)$, se sua função densidade é dada por:\n",
    "\n",
    "\n",
    "$$P(x) = \\Bigg\\{\\begin{matrix} \\beta^{\\alpha}x^{\\alpha - 1}e^{-\\beta x}, \\mbox{se }x \\ge 0 \\\\ 0, \\mbox{ caso contrário} \\end{matrix}$$\n",
    "\n",
    "Os gráficos aproximados das funções de distribuição e de densidade são apresentadosnas seguintes curvas:\n",
    "\n",
    "<img src='https://upload.wikimedia.org/wikipedia/commons/e/e6/Gamma_distribution_pdf.svg' width=45%>\n",
    "\n",
    "\n",
    "<img src='https://upload.wikimedia.org/wikipedia/commons/thumb/8/8d/Gamma_distribution_cdf.svg/800px-Gamma_distribution_cdf.svg.png' width=45%>"
   ]
  },
  {
   "cell_type": "markdown",
   "id": "alive-assistant",
   "metadata": {},
   "source": [
    "### Definindo função laplace:"
   ]
  },
  {
   "cell_type": "code",
   "execution_count": 92,
   "id": "departmental-japanese",
   "metadata": {},
   "outputs": [],
   "source": [
    "from nltk.tokenize import WhitespaceTokenizer\n",
    "from nltk.lm.preprocessing import pad_both_ends, padded_everygram_pipeline\n",
    "from nltk.lm.models import Laplace\n",
    "\n",
    "def treina_modelo_Laplace(lista_textos):\n",
    "    \"\"\"\n",
    "    Esta frunção recebe uma lista de textos e \n",
    "    retorna um modelo treinado com base nas \n",
    "    palavras que contém na lista de textos.\n",
    "    \"\"\"\n",
    "    # pre processamento\n",
    "    todos_textos = ' '.join(lista_textos)\n",
    "    palavras = WhitespaceTokenizer().tokenize(todos_textos)\n",
    "    bigrams, vocabulario = padded_everygram_pipeline(2, palavras)\n",
    "    \n",
    "    # instanciando modelo\n",
    "    modelo_laplace = Laplace(2)\n",
    "    modelo_laplace.fit(bigrams, vocabulario)\n",
    "    \n",
    "    return modelo_laplace\n"
   ]
  },
  {
   "cell_type": "markdown",
   "id": "partial-greenhouse",
   "metadata": {},
   "source": [
    "#### Treinando modelo de Laplace"
   ]
  },
  {
   "cell_type": "code",
   "execution_count": 93,
   "id": "confused-software",
   "metadata": {},
   "outputs": [],
   "source": [
    "laplace_pt = treina_modelo_Laplace(pt_treino)"
   ]
  },
  {
   "cell_type": "markdown",
   "id": "square-phrase",
   "metadata": {},
   "source": [
    "#### Resultado modelo:"
   ]
  },
  {
   "cell_type": "code",
   "execution_count": 94,
   "id": "certain-reserve",
   "metadata": {},
   "outputs": [
    {
     "name": "stdout",
     "output_type": "stream",
     "text": [
      "TESTANDO MODELO LAPLACE TREINADO EM TEXTO PORTUGUÊS:\n",
      "\n",
      "Perplexidade com texto em pt:  11.692167441744372\n",
      "Perplexidade com texto em es:  16.437769591162947\n",
      "Perplexidade com texto em en:  20.216327152538252\n"
     ]
    }
   ],
   "source": [
    "print('TESTANDO MODELO LAPLACE TREINADO EM TEXTO PORTUGUÊS:\\n')\n",
    "\n",
    "print('Perplexidade com texto em pt: ',calcula_perplexidade(laplace_pt,pt_teste.iloc[1],\n",
    "                                                     mean_perplexity=True))\n",
    "\n",
    "print('Perplexidade com texto em es: ',calcula_perplexidade(laplace_pt,es_teste.iloc[1],\n",
    "                                                     mean_perplexity=True))\n",
    "\n",
    "print('Perplexidade com texto em en: ',calcula_perplexidade(laplace_pt, in_teste.iloc[1],\n",
    "                                                     mean_perplexity=True))"
   ]
  },
  {
   "cell_type": "markdown",
   "id": "governing-specialist",
   "metadata": {},
   "source": [
    "> Lembrando que essa é a perplexidade média.\n",
    "\n",
    "Perceba que, dado um texto de teste em português a menor perplexidade do modelo é para o texto em portguês, já o texto em inglês o modelo classificou como uma perplexidade alta e o espanhol uma perplexidade entre as outras duas linguas.\n",
    "\n",
    "Faz sentido o espalho estar entre o inglês e o portguês, até porque o espanhol e portguês são duas linguas bem proximas na escrita.\n",
    "\n",
    "Agora vamos construir um modelo que calcula a perplexidade para cada idioma e atribui um idioma para aquela frase."
   ]
  },
  {
   "cell_type": "markdown",
   "id": "fancy-venture",
   "metadata": {},
   "source": [
    "### Atribuindo idiomas"
   ]
  },
  {
   "cell_type": "code",
   "execution_count": 95,
   "id": "foreign-warrior",
   "metadata": {},
   "outputs": [],
   "source": [
    "# Treinando modelos\n",
    "\n",
    "laplace_pt = treina_modelo_Laplace(pt_treino)\n",
    "laplace_in = treina_modelo_Laplace(in_treino)\n",
    "laplace_es = treina_modelo_Laplace(es_treino)\n",
    "\n",
    "modelos = {\n",
    "    'portugues' : laplace_pt,\n",
    "    'ingles' : laplace_in,\n",
    "    'espanhol' : laplace_es\n",
    "}"
   ]
  },
  {
   "cell_type": "code",
   "execution_count": 96,
   "id": "efficient-specification",
   "metadata": {},
   "outputs": [],
   "source": [
    "def atribui_idioma(lista_textos):    \n",
    "    idioma = []\n",
    "    for texto in lista_textos:\n",
    "        portugues = calcula_perplexidade(laplace_pt, texto)\n",
    "        ingles = calcula_perplexidade(laplace_in, texto)\n",
    "        espanhol = calcula_perplexidade(laplace_es, texto)\n",
    "        if ingles >= portugues <= espanhol:\n",
    "            idioma.append('portugues')\n",
    "        elif portugues > ingles < espanhol:\n",
    "            idioma.append('ingles')\n",
    "        else:\n",
    "            idioma.append('espanhol')\n",
    "    return idioma\n",
    "        \n",
    "            \n",
    "        "
   ]
  },
  {
   "cell_type": "markdown",
   "id": "terminal-kazakhstan",
   "metadata": {},
   "source": [
    "#### Estimando resultados:"
   ]
  },
  {
   "cell_type": "code",
   "execution_count": 97,
   "id": "eleven-private",
   "metadata": {
    "scrolled": false
   },
   "outputs": [],
   "source": [
    "resultados_pt = atribui_idioma(pt_teste)\n",
    "resultados_es = atribui_idioma(es_teste)\n",
    "resultados_in = atribui_idioma(in_teste)"
   ]
  },
  {
   "cell_type": "code",
   "execution_count": 98,
   "id": "liked-symposium",
   "metadata": {},
   "outputs": [
    {
     "data": {
      "text/plain": [
       "100"
      ]
     },
     "execution_count": 98,
     "metadata": {},
     "output_type": "execute_result"
    }
   ],
   "source": [
    "resultados_pt.count('portugues')"
   ]
  },
  {
   "cell_type": "markdown",
   "id": "incomplete-pillow",
   "metadata": {},
   "source": [
    "Note que dos 100 dados 100 são classificados como portguês. Vamos criar uma função para cálcula de taxa."
   ]
  },
  {
   "cell_type": "code",
   "execution_count": 101,
   "id": "dried-judge",
   "metadata": {},
   "outputs": [],
   "source": [
    "taxa_pt = resultados_pt.count('portugues') / len(pt_teste) * 100\n",
    "taxa_es = resultados_es.count('espanhol') / len(es_teste) * 100\n",
    "taxa_in = resultados_in.count('ingles') / len(in_teste) * 100"
   ]
  },
  {
   "cell_type": "code",
   "execution_count": 105,
   "id": "superior-brisbane",
   "metadata": {},
   "outputs": [
    {
     "name": "stdout",
     "output_type": "stream",
     "text": [
      "Taxa portugues: 100.0%\n",
      "Taxa espanhol: \t100.0%\n",
      "Taxa ingles: \t100.0%\n"
     ]
    }
   ],
   "source": [
    "print(f\"Taxa portugues: {taxa_pt}%\")\n",
    "print(f\"Taxa espanhol: \\t{taxa_es}%\")\n",
    "print(f\"Taxa ingles: \\t{taxa_in}%\")\n"
   ]
  },
  {
   "cell_type": "markdown",
   "id": "municipal-bookmark",
   "metadata": {},
   "source": [
    "\n",
    "\n",
    "> Dado que a não utilizamos muitos dados para treinar os modelos a taxa de acerto esta relativamente alta."
   ]
  },
  {
   "cell_type": "markdown",
   "id": "honey-problem",
   "metadata": {},
   "source": [
    "# Misturando dados:"
   ]
  },
  {
   "cell_type": "code",
   "execution_count": 115,
   "id": "durable-strap",
   "metadata": {},
   "outputs": [],
   "source": [
    "questoes_e_classes_pt = stackoverflow_portugues[['questao_tratada','Idioma']]\n",
    "questoes_e_classes_es = stackoverflow_espanhol[['questao_tratada','Idioma']]\n",
    "questoes_e_classes_in = stackoverflow_ingles[['questao_tratada','Idioma']]"
   ]
  },
  {
   "cell_type": "markdown",
   "id": "buried-thirty",
   "metadata": {},
   "source": [
    "Agora vou juntar todas as questões e embaralhar os dados usando `sample(frac=1)`"
   ]
  },
  {
   "cell_type": "code",
   "execution_count": 130,
   "id": "removable-impact",
   "metadata": {},
   "outputs": [],
   "source": [
    "questoes_rotulos = pd.concat(\n",
    "    [questoes_e_classes_pt,\n",
    "     questoes_e_classes_es,\n",
    "     questoes_e_classes_in]\n",
    ").sample(frac=1, random_state=seed)"
   ]
  },
  {
   "cell_type": "code",
   "execution_count": 131,
   "id": "soviet-structure",
   "metadata": {},
   "outputs": [
    {
     "data": {
      "text/html": [
       "<div>\n",
       "<style scoped>\n",
       "    .dataframe tbody tr th:only-of-type {\n",
       "        vertical-align: middle;\n",
       "    }\n",
       "\n",
       "    .dataframe tbody tr th {\n",
       "        vertical-align: top;\n",
       "    }\n",
       "\n",
       "    .dataframe thead th {\n",
       "        text-align: right;\n",
       "    }\n",
       "</style>\n",
       "<table border=\"1\" class=\"dataframe\">\n",
       "  <thead>\n",
       "    <tr style=\"text-align: right;\">\n",
       "      <th></th>\n",
       "      <th>questao_tratada</th>\n",
       "      <th>Idioma</th>\n",
       "    </tr>\n",
       "  </thead>\n",
       "  <tbody>\n",
       "    <tr>\n",
       "      <th>219</th>\n",
       "      <td>a foto original do feijão é essa diminui a res...</td>\n",
       "      <td>portugues</td>\n",
       "    </tr>\n",
       "    <tr>\n",
       "      <th>444</th>\n",
       "      <td>cómo se hace para mostrar una vista view de ra...</td>\n",
       "      <td>espanhol</td>\n",
       "    </tr>\n",
       "    <tr>\n",
       "      <th>291</th>\n",
       "      <td>já ouvi falar sobre uma técnica assim chamada ...</td>\n",
       "      <td>portugues</td>\n",
       "    </tr>\n",
       "    <tr>\n",
       "      <th>120</th>\n",
       "      <td>buenas me gustaría saber cual es la diferencia...</td>\n",
       "      <td>espanhol</td>\n",
       "    </tr>\n",
       "    <tr>\n",
       "      <th>243</th>\n",
       "      <td>no jep vem se discutindo a definição do g garb...</td>\n",
       "      <td>portugues</td>\n",
       "    </tr>\n",
       "    <tr>\n",
       "      <th>...</th>\n",
       "      <td>...</td>\n",
       "      <td>...</td>\n",
       "    </tr>\n",
       "    <tr>\n",
       "      <th>143</th>\n",
       "      <td>tenho a seguinte string qual a função do na fr...</td>\n",
       "      <td>portugues</td>\n",
       "    </tr>\n",
       "    <tr>\n",
       "      <th>484</th>\n",
       "      <td>whilst starting to learn lisp ive come across ...</td>\n",
       "      <td>ingles</td>\n",
       "    </tr>\n",
       "    <tr>\n",
       "      <th>371</th>\n",
       "      <td>dado el siguiente código por qué razón el méto...</td>\n",
       "      <td>espanhol</td>\n",
       "    </tr>\n",
       "    <tr>\n",
       "      <th>220</th>\n",
       "      <td>estava lendo um livro sobre orientação a objet...</td>\n",
       "      <td>portugues</td>\n",
       "    </tr>\n",
       "    <tr>\n",
       "      <th>84</th>\n",
       "      <td>necesito ayuda con hikaricp al intentar config...</td>\n",
       "      <td>espanhol</td>\n",
       "    </tr>\n",
       "  </tbody>\n",
       "</table>\n",
       "<p>1500 rows × 2 columns</p>\n",
       "</div>"
      ],
      "text/plain": [
       "                                       questao_tratada     Idioma\n",
       "219  a foto original do feijão é essa diminui a res...  portugues\n",
       "444  cómo se hace para mostrar una vista view de ra...   espanhol\n",
       "291  já ouvi falar sobre uma técnica assim chamada ...  portugues\n",
       "120  buenas me gustaría saber cual es la diferencia...   espanhol\n",
       "243  no jep vem se discutindo a definição do g garb...  portugues\n",
       "..                                                 ...        ...\n",
       "143  tenho a seguinte string qual a função do na fr...  portugues\n",
       "484  whilst starting to learn lisp ive come across ...     ingles\n",
       "371  dado el siguiente código por qué razón el méto...   espanhol\n",
       "220  estava lendo um livro sobre orientação a objet...  portugues\n",
       "84   necesito ayuda con hikaricp al intentar config...   espanhol\n",
       "\n",
       "[1500 rows x 2 columns]"
      ]
     },
     "execution_count": 131,
     "metadata": {},
     "output_type": "execute_result"
    }
   ],
   "source": [
    "questoes_rotulos"
   ]
  },
  {
   "cell_type": "code",
   "execution_count": 133,
   "id": "abandoned-purpose",
   "metadata": {},
   "outputs": [],
   "source": [
    "idiomas_previstos = atribui_idioma(questoes_rotulos.questao_tratada)"
   ]
  },
  {
   "cell_type": "code",
   "execution_count": 134,
   "id": "reported-animation",
   "metadata": {},
   "outputs": [],
   "source": [
    "questoes_rotulos['idioma_previsto'] = idiomas_previstos"
   ]
  },
  {
   "cell_type": "code",
   "execution_count": 135,
   "id": "arctic-penalty",
   "metadata": {},
   "outputs": [
    {
     "data": {
      "text/html": [
       "<div>\n",
       "<style scoped>\n",
       "    .dataframe tbody tr th:only-of-type {\n",
       "        vertical-align: middle;\n",
       "    }\n",
       "\n",
       "    .dataframe tbody tr th {\n",
       "        vertical-align: top;\n",
       "    }\n",
       "\n",
       "    .dataframe thead th {\n",
       "        text-align: right;\n",
       "    }\n",
       "</style>\n",
       "<table border=\"1\" class=\"dataframe\">\n",
       "  <thead>\n",
       "    <tr style=\"text-align: right;\">\n",
       "      <th></th>\n",
       "      <th>questao_tratada</th>\n",
       "      <th>Idioma</th>\n",
       "      <th>idioma_previsto</th>\n",
       "    </tr>\n",
       "  </thead>\n",
       "  <tbody>\n",
       "    <tr>\n",
       "      <th>219</th>\n",
       "      <td>a foto original do feijão é essa diminui a res...</td>\n",
       "      <td>portugues</td>\n",
       "      <td>portugues</td>\n",
       "    </tr>\n",
       "    <tr>\n",
       "      <th>444</th>\n",
       "      <td>cómo se hace para mostrar una vista view de ra...</td>\n",
       "      <td>espanhol</td>\n",
       "      <td>espanhol</td>\n",
       "    </tr>\n",
       "    <tr>\n",
       "      <th>291</th>\n",
       "      <td>já ouvi falar sobre uma técnica assim chamada ...</td>\n",
       "      <td>portugues</td>\n",
       "      <td>portugues</td>\n",
       "    </tr>\n",
       "    <tr>\n",
       "      <th>120</th>\n",
       "      <td>buenas me gustaría saber cual es la diferencia...</td>\n",
       "      <td>espanhol</td>\n",
       "      <td>espanhol</td>\n",
       "    </tr>\n",
       "    <tr>\n",
       "      <th>243</th>\n",
       "      <td>no jep vem se discutindo a definição do g garb...</td>\n",
       "      <td>portugues</td>\n",
       "      <td>portugues</td>\n",
       "    </tr>\n",
       "    <tr>\n",
       "      <th>...</th>\n",
       "      <td>...</td>\n",
       "      <td>...</td>\n",
       "      <td>...</td>\n",
       "    </tr>\n",
       "    <tr>\n",
       "      <th>143</th>\n",
       "      <td>tenho a seguinte string qual a função do na fr...</td>\n",
       "      <td>portugues</td>\n",
       "      <td>portugues</td>\n",
       "    </tr>\n",
       "    <tr>\n",
       "      <th>484</th>\n",
       "      <td>whilst starting to learn lisp ive come across ...</td>\n",
       "      <td>ingles</td>\n",
       "      <td>ingles</td>\n",
       "    </tr>\n",
       "    <tr>\n",
       "      <th>371</th>\n",
       "      <td>dado el siguiente código por qué razón el méto...</td>\n",
       "      <td>espanhol</td>\n",
       "      <td>espanhol</td>\n",
       "    </tr>\n",
       "    <tr>\n",
       "      <th>220</th>\n",
       "      <td>estava lendo um livro sobre orientação a objet...</td>\n",
       "      <td>portugues</td>\n",
       "      <td>portugues</td>\n",
       "    </tr>\n",
       "    <tr>\n",
       "      <th>84</th>\n",
       "      <td>necesito ayuda con hikaricp al intentar config...</td>\n",
       "      <td>espanhol</td>\n",
       "      <td>espanhol</td>\n",
       "    </tr>\n",
       "  </tbody>\n",
       "</table>\n",
       "<p>1500 rows × 3 columns</p>\n",
       "</div>"
      ],
      "text/plain": [
       "                                       questao_tratada     Idioma  \\\n",
       "219  a foto original do feijão é essa diminui a res...  portugues   \n",
       "444  cómo se hace para mostrar una vista view de ra...   espanhol   \n",
       "291  já ouvi falar sobre uma técnica assim chamada ...  portugues   \n",
       "120  buenas me gustaría saber cual es la diferencia...   espanhol   \n",
       "243  no jep vem se discutindo a definição do g garb...  portugues   \n",
       "..                                                 ...        ...   \n",
       "143  tenho a seguinte string qual a função do na fr...  portugues   \n",
       "484  whilst starting to learn lisp ive come across ...     ingles   \n",
       "371  dado el siguiente código por qué razón el méto...   espanhol   \n",
       "220  estava lendo um livro sobre orientação a objet...  portugues   \n",
       "84   necesito ayuda con hikaricp al intentar config...   espanhol   \n",
       "\n",
       "    idioma_previsto  \n",
       "219       portugues  \n",
       "444        espanhol  \n",
       "291       portugues  \n",
       "120        espanhol  \n",
       "243       portugues  \n",
       "..              ...  \n",
       "143       portugues  \n",
       "484          ingles  \n",
       "371        espanhol  \n",
       "220       portugues  \n",
       "84         espanhol  \n",
       "\n",
       "[1500 rows x 3 columns]"
      ]
     },
     "execution_count": 135,
     "metadata": {},
     "output_type": "execute_result"
    }
   ],
   "source": [
    "questoes_rotulos"
   ]
  },
  {
   "cell_type": "code",
   "execution_count": 139,
   "id": "front-wages",
   "metadata": {},
   "outputs": [
    {
     "data": {
      "text/plain": [
       "219    True\n",
       "444    True\n",
       "291    True\n",
       "120    True\n",
       "243    True\n",
       "       ... \n",
       "143    True\n",
       "484    True\n",
       "371    True\n",
       "220    True\n",
       "84     True\n",
       "Length: 1500, dtype: bool"
      ]
     },
     "execution_count": 139,
     "metadata": {},
     "output_type": "execute_result"
    }
   ],
   "source": [
    "resultado = questoes_rotulos.idioma_previsto == questoes_rotulos.Idioma\n",
    "resultado"
   ]
  },
  {
   "cell_type": "markdown",
   "id": "hairy-stadium",
   "metadata": {},
   "source": [
    "temos um vetor de acerto, agora vamos somar todos os acertos e dividir pelo total de dados:"
   ]
  },
  {
   "cell_type": "code",
   "execution_count": 144,
   "id": "answering-conviction",
   "metadata": {},
   "outputs": [
    {
     "name": "stdout",
     "output_type": "stream",
     "text": [
      "A taxa de acerto do modelo é de: 99.73%\n"
     ]
    }
   ],
   "source": [
    "taxa_de_acerto = (resultado.sum()) / len(resultado) * 100\n",
    "print(f'A taxa de acerto do modelo é de: {taxa_de_acerto:.2f}%')"
   ]
  },
  {
   "cell_type": "markdown",
   "id": "mathematical-politics",
   "metadata": {},
   "source": [
    "Ou seja, apesar de não ter muitos dados, no caso 500 perguntas, o modelo de laplace é capaz de identificar com uma acurácia de 99%. Podemos testar uma frase que o modelo nunca viu:"
   ]
  },
  {
   "cell_type": "code",
   "execution_count": 155,
   "id": "herbal-rally",
   "metadata": {},
   "outputs": [
    {
     "name": "stdout",
     "output_type": "stream",
     "text": [
      "A frase: \"qual e a principal diferenca entre mle e laplace em algoritmos de natural language processing\"\n",
      "\n",
      "Tem uma chance de ser escrita no seguintes idiomas:\n"
     ]
    },
    {
     "data": {
      "text/plain": [
       "portugues    37.634409\n",
       "ingles       31.182796\n",
       "espanhol     31.182796\n",
       "dtype: float64"
      ]
     },
     "execution_count": 155,
     "metadata": {},
     "output_type": "execute_result"
    }
   ],
   "source": [
    "frase_a_ser_testada = 'qual e a principal diferenca entre mle e laplace em algoritmos de natural language processing'\n",
    "\n",
    "\n",
    "print(f'A frase: \"{frase_a_ser_testada}\"\\n', )\n",
    "\n",
    "print('Tem uma chance de ser escrita no seguintes idiomas:')\n",
    "pd.Series(atribui_idioma(frase_a_ser_testada)).value_counts(normalize=True)*100"
   ]
  },
  {
   "cell_type": "markdown",
   "id": "liberal-warehouse",
   "metadata": {},
   "source": [
    "Ou seja, note que acabei de inverntar uma nova frase, e o modelo classificou com uma chance de 37% de ser português."
   ]
  }
 ],
 "metadata": {
  "colab": {
   "name": "REGEX e Modelos de Linguagem.ipynb",
   "provenance": []
  },
  "kernelspec": {
   "display_name": "Python 3",
   "language": "python",
   "name": "python3"
  },
  "language_info": {
   "codemirror_mode": {
    "name": "ipython",
    "version": 3
   },
   "file_extension": ".py",
   "mimetype": "text/x-python",
   "name": "python",
   "nbconvert_exporter": "python",
   "pygments_lexer": "ipython3",
   "version": "3.7.6"
  }
 },
 "nbformat": 4,
 "nbformat_minor": 5
}
