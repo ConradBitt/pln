{
 "cells": [
  {
   "cell_type": "markdown",
   "id": "assumed-penny",
   "metadata": {},
   "source": [
    "# Introdução\n",
    "\n",
    "O objetivo deste notebook é estudar alguns modelos de linguagem e como usar expressões regulares no NLP. A base de dados que vou utilizar é a do [stackoverflow](https://stackoverflow.com/) com textos em português, inglês e espanhol."
   ]
  },
  {
   "cell_type": "code",
   "execution_count": null,
   "id": "potential-venture",
   "metadata": {},
   "outputs": [],
   "source": []
  }
 ],
 "metadata": {
  "kernelspec": {
   "display_name": "Python 3",
   "language": "python",
   "name": "python3"
  },
  "language_info": {
   "codemirror_mode": {
    "name": "ipython",
    "version": 3
   },
   "file_extension": ".py",
   "mimetype": "text/x-python",
   "name": "python",
   "nbconvert_exporter": "python",
   "pygments_lexer": "ipython3",
   "version": "3.7.6"
  }
 },
 "nbformat": 4,
 "nbformat_minor": 5
}
