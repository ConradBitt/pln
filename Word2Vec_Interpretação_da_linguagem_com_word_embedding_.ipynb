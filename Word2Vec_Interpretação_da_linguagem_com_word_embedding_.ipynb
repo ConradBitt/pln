{
  "nbformat": 4,
  "nbformat_minor": 5,
  "metadata": {
    "kernelspec": {
      "display_name": "Python 3",
      "language": "python",
      "name": "python3"
    },
    "language_info": {
      "codemirror_mode": {
        "name": "ipython",
        "version": 3
      },
      "file_extension": ".py",
      "mimetype": "text/x-python",
      "name": "python",
      "nbconvert_exporter": "python",
      "pygments_lexer": "ipython3",
      "version": "3.7.6"
    },
    "colab": {
      "name": "Word2Vec - Interpretação da linguagem com word embedding .ipynb",
      "provenance": [],
      "collapsed_sections": [],
      "include_colab_link": true
    }
  },
  "cells": [
    {
      "cell_type": "markdown",
      "metadata": {
        "id": "view-in-github",
        "colab_type": "text"
      },
      "source": [
        "<a href=\"https://colab.research.google.com/github/ConradBitt/processamento_linguagem_natural/blob/master/Word2Vec_Interpreta%C3%A7%C3%A3o_da_linguagem_com_word_embedding_.ipynb\" target=\"_parent\"><img src=\"https://colab.research.google.com/assets/colab-badge.svg\" alt=\"Open In Colab\"/></a>"
      ]
    },
    {
      "cell_type": "markdown",
      "metadata": {
        "id": "sixth-studio"
      },
      "source": [
        "# Introdução \n",
        "\n",
        "O objetivo deste notebook é aprender as chamadas word embedding que são basicamente transformações de textos em vetores, forma que será utilizada para a transformação é conhecida como *one-hot-encoding* que transforma em matrizes esparças de ordem $n$\n",
        "\n",
        "Além disso, será abordado alguns assuntos sobre o Word2vec que é uma forma de representar uma palavra através de um vetor denso também de tamanho fixo, a vantagem de dessa representação é que muitos modelos conseguem entender o contexto da palavra, por exemplo as palavras *Brasil, China, Peugeot, Ferrari, Bulgaria*, podem ser classificadas em países e carros.\n",
        "\n",
        "A diferença do one-hot-encoding é que as palavras são vetores independentes e não tem conexão entre elas, já em word2vec as palavras são expressas em vetores que pertencem a um espaço vetorial capaz de clusterizar grupos de palavras de um mesmo contexto.\n",
        "\n",
        "O Word2vec é extremamente poderozo, pois funciona de duas formas. A primeira é dado um contexto, por exemplo: \n",
        "\n",
        "> **Morar no país ____** \n",
        "\n",
        "ele consegue estimar soluções para  possível frase. Matematicamente a modelagem é:\n",
        "\n",
        "$$\\vec{v} = (\\text{morar, no, país})$$\n",
        "\n",
        "$$T(\\vec{v}) = \\text{europeu}.$$\n",
        "\n",
        "Existe outra forma de utilizar o Word2Vec, que é, através da palavra tentar estimar o contexto, por exemplo:\n",
        "\n",
        "> **____ __ ____ europeu**\n",
        "\n",
        "basicamente será encontrar a transformação $T$ inversa, essa técnica é chamada de skipgram ou *proximo grama*.\n"
      ],
      "id": "sixth-studio"
    },
    {
      "cell_type": "markdown",
      "metadata": {
        "id": "qXY78GC3sMNt"
      },
      "source": [
        "## Montando Drive\n",
        "\n",
        "O motivo de usar o colaboratory é porque processamento de linguagem envolve muita memoria RAM e portanto rodar localmente pode se tonar um tanto custoso.Além disso, através do calab é permitido montar uma imagem do drive onde podemos armazenar os dados. Por esses dois motivos optei pelo google colab:"
      ],
      "id": "qXY78GC3sMNt"
    },
    {
      "cell_type": "code",
      "metadata": {
        "colab": {
          "base_uri": "https://localhost:8080/"
        },
        "id": "ZeXkcLsop2WW",
        "outputId": "651a837d-3fbc-487a-9a46-7b38ae4ea11c"
      },
      "source": [
        "from google.colab import drive\n",
        "drive.mount('/content/drive')"
      ],
      "id": "ZeXkcLsop2WW",
      "execution_count": 53,
      "outputs": [
        {
          "output_type": "stream",
          "text": [
            "Drive already mounted at /content/drive; to attempt to forcibly remount, call drive.mount(\"/content/drive\", force_remount=True).\n"
          ],
          "name": "stdout"
        }
      ]
    },
    {
      "cell_type": "markdown",
      "metadata": {
        "id": "native-primary"
      },
      "source": [
        "## Importações"
      ],
      "id": "native-primary"
    },
    {
      "cell_type": "code",
      "metadata": {
        "id": "I7KfnF_Ns8I5"
      },
      "source": [
        "import pandas as pd \n",
        "import seaborn as sns \n",
        "import numpy as np\n",
        "\n",
        "from matplotlib import pyplot as plt\n",
        "\n",
        "sns.set_context('talk')\n"
      ],
      "id": "I7KfnF_Ns8I5",
      "execution_count": 54,
      "outputs": []
    },
    {
      "cell_type": "markdown",
      "metadata": {
        "id": "J8Zvt2hstBYs"
      },
      "source": [
        "## Dados \n",
        "\n",
        "Os dados são basicamente artigos de jornais"
      ],
      "id": "J8Zvt2hstBYs"
    },
    {
      "cell_type": "code",
      "metadata": {
        "id": "Pd_9rv3KqZBh"
      },
      "source": [
        "treino = pd.read_csv('/content/drive/MyDrive/Colab Notebooks/word2vec/dados/treino.csv')\n",
        "teste = pd.read_csv('/content/drive/MyDrive/Colab Notebooks/word2vec/dados/teste.csv')"
      ],
      "id": "Pd_9rv3KqZBh",
      "execution_count": 55,
      "outputs": []
    },
    {
      "cell_type": "markdown",
      "metadata": {
        "id": "qWvOjlx2qgzl"
      },
      "source": [
        ""
      ],
      "id": "qWvOjlx2qgzl"
    },
    {
      "cell_type": "code",
      "metadata": {
        "colab": {
          "base_uri": "https://localhost:8080/",
          "height": 503
        },
        "id": "c7LeNFOkr-pj",
        "outputId": "d2734114-f3b6-4fef-d982-1294e86b6ad7"
      },
      "source": [
        "display(treino.info())\n",
        "display(teste.info())"
      ],
      "id": "c7LeNFOkr-pj",
      "execution_count": 56,
      "outputs": [
        {
          "output_type": "stream",
          "text": [
            "<class 'pandas.core.frame.DataFrame'>\n",
            "RangeIndex: 90000 entries, 0 to 89999\n",
            "Data columns (total 6 columns):\n",
            " #   Column       Non-Null Count  Dtype \n",
            "---  ------       --------------  ----- \n",
            " 0   title        90000 non-null  object\n",
            " 1   text         90000 non-null  object\n",
            " 2   date         90000 non-null  object\n",
            " 3   category     90000 non-null  object\n",
            " 4   subcategory  17175 non-null  object\n",
            " 5   link         90000 non-null  object\n",
            "dtypes: object(6)\n",
            "memory usage: 4.1+ MB\n"
          ],
          "name": "stdout"
        },
        {
          "output_type": "display_data",
          "data": {
            "text/plain": [
              "None"
            ]
          },
          "metadata": {
            "tags": []
          }
        },
        {
          "output_type": "stream",
          "text": [
            "<class 'pandas.core.frame.DataFrame'>\n",
            "RangeIndex: 20513 entries, 0 to 20512\n",
            "Data columns (total 6 columns):\n",
            " #   Column       Non-Null Count  Dtype \n",
            "---  ------       --------------  ----- \n",
            " 0   title        20513 non-null  object\n",
            " 1   text         20513 non-null  object\n",
            " 2   date         20513 non-null  object\n",
            " 3   category     20513 non-null  object\n",
            " 4   subcategory  6794 non-null   object\n",
            " 5   link         20513 non-null  object\n",
            "dtypes: object(6)\n",
            "memory usage: 961.7+ KB\n"
          ],
          "name": "stdout"
        },
        {
          "output_type": "display_data",
          "data": {
            "text/plain": [
              "None"
            ]
          },
          "metadata": {
            "tags": []
          }
        }
      ]
    },
    {
      "cell_type": "markdown",
      "metadata": {
        "id": "Jpw69wYpsFJu"
      },
      "source": [
        "Temos: \n",
        "* 90000 registros nos dados de treino.\n",
        "* 20513 registros nos dados de teste.\n",
        "\n",
        "todos os dados são do tipo object, porvavelmente strings dividos em 6 variaveis, `titulo`, `text`, `date`, `category`, `subcategory`, `link`.\n",
        "\n",
        "Vamos dar uma olhada na distribuição das categorias e subcategorias: "
      ],
      "id": "Jpw69wYpsFJu"
    },
    {
      "cell_type": "code",
      "metadata": {
        "colab": {
          "base_uri": "https://localhost:8080/"
        },
        "id": "vTbW9VVNuMJA",
        "outputId": "6143c1dc-fc60-44c4-eb87-6525bdd114d4"
      },
      "source": [
        "print('Categorias:')\n",
        "treino.category.value_counts()\n"
      ],
      "id": "vTbW9VVNuMJA",
      "execution_count": 57,
      "outputs": [
        {
          "output_type": "stream",
          "text": [
            "Categorias:\n"
          ],
          "name": "stdout"
        },
        {
          "output_type": "execute_result",
          "data": {
            "text/plain": [
              "mercado      15000\n",
              "ilustrada    15000\n",
              "mundo        15000\n",
              "colunas      15000\n",
              "esporte      15000\n",
              "cotidiano    15000\n",
              "Name: category, dtype: int64"
            ]
          },
          "metadata": {
            "tags": []
          },
          "execution_count": 57
        }
      ]
    },
    {
      "cell_type": "markdown",
      "metadata": {
        "id": "zrZ9vmIMwGNv"
      },
      "source": [
        "Note que as categorias principais estar distribuidas de forma homogênea, isto é, temos 15000 amostras em cada uma. "
      ],
      "id": "zrZ9vmIMwGNv"
    },
    {
      "cell_type": "code",
      "metadata": {
        "colab": {
          "base_uri": "https://localhost:8080/"
        },
        "id": "K3vmSB7Xu8Ve",
        "outputId": "9257fc93-991a-4c69-fc82-8e63a96910bf"
      },
      "source": [
        "print('Sub Categoria:')\n",
        "treino.subcategory.value_counts()"
      ],
      "id": "K3vmSB7Xu8Ve",
      "execution_count": 58,
      "outputs": [
        {
          "output_type": "stream",
          "text": [
            "Sub Categoria:\n"
          ],
          "name": "stdout"
        },
        {
          "output_type": "execute_result",
          "data": {
            "text/plain": [
              "olimpiada-no-rio     2144\n",
              "monicabergamo        1874\n",
              "mercadoaberto         736\n",
              "josesimao             472\n",
              "helioschwartsman      455\n",
              "                     ... \n",
              "thales-de-menezes       1\n",
              "samyadguirni            1\n",
              "fabio-victor            1\n",
              "naiefhaddad             1\n",
              "ricardo-mioto           1\n",
              "Name: subcategory, Length: 227, dtype: int64"
            ]
          },
          "metadata": {
            "tags": []
          },
          "execution_count": 58
        }
      ]
    },
    {
      "cell_type": "markdown",
      "metadata": {
        "id": "bbyVG7_kvcEr"
      },
      "source": [
        "diferente das categorias, as subcategorias não estão igualmente distribuidas, tem assuntos mais citados do que outros, vamos olhar as 20 primeiras em um grafico de barras:"
      ],
      "id": "bbyVG7_kvcEr"
    },
    {
      "cell_type": "code",
      "metadata": {
        "colab": {
          "base_uri": "https://localhost:8080/",
          "height": 553
        },
        "id": "0kWJsOF1wFI7",
        "outputId": "945a84e3-5987-4853-b2f0-564931ebda7a"
      },
      "source": [
        "distribuicao_subcategorias = treino.subcategory.value_counts().to_frame()\n",
        "\n",
        "plt.figure(figsize=(10,8))\n",
        "plt.title('Quantidade de amostras nas subcategorias', fontsize=20, pad=20)\n",
        "ax = sns.barplot(data=distribuicao_subcategorias[:20], \n",
        "            x='subcategory', \n",
        "            y=distribuicao_subcategorias.index[:20], palette='gnuplot2')\n",
        "ax.set_xlabel('Elementos na categoria')\n",
        "ax;"
      ],
      "id": "0kWJsOF1wFI7",
      "execution_count": 59,
      "outputs": [
        {
          "output_type": "display_data",
          "data": {
            "image/png": "[encoded data removed]",
            "text/plain": [
              "<Figure size 720x576 with 1 Axes>"
            ]
          },
          "metadata": {
            "tags": [],
            "needs_background": "light"
          }
        }
      ]
    },
    {
      "cell_type": "markdown",
      "metadata": {
        "id": "BaWu1xewEYvG"
      },
      "source": [
        "## Pre processamento \n",
        "\n",
        "Vemos que algumas variááveis são do tipo textual, por exemplo o conteúdo de um artigo e o seu título"
      ],
      "id": "BaWu1xewEYvG"
    },
    {
      "cell_type": "code",
      "metadata": {
        "colab": {
          "base_uri": "https://localhost:8080/",
          "height": 193
        },
        "id": "ADnJmn0MwtyR",
        "outputId": "21306037-ff5f-42f5-bdc9-ef5ba8081bb4"
      },
      "source": [
        "display(treino.iloc[645]['title'])\n",
        "print('\\n')\n",
        "display(treino.iloc[645]['text'])"
      ],
      "id": "ADnJmn0MwtyR",
      "execution_count": 60,
      "outputs": [
        {
          "output_type": "display_data",
          "data": {
            "application/vnd.google.colaboratory.intrinsic+json": {
              "type": "string"
            },
            "text/plain": [
              "'Após maior derrota, Anderson Silva volta com outro modelo de preparação'"
            ]
          },
          "metadata": {
            "tags": []
          }
        },
        {
          "output_type": "stream",
          "text": [
            "\n",
            "\n"
          ],
          "name": "stdout"
        },
        {
          "output_type": "display_data",
          "data": {
            "application/vnd.google.colaboratory.intrinsic+json": {
              "type": "string"
            },
            "text/plain": [
              "'Um Anderson Silva diferente do que deixou o octógono com a perna esquerda fraturada há 13 meses retorna ao UFC, nesta madrugada de sábado para domingo, para enfrentar o norte-americano Nick Diaz, em Las Vegas, nos Estados Unidos.  Enquanto veste os apetrechos para a aula de mergulho, Anderson, 39, olha para o lado e sorri para a mulher e dois de seus filhos que se preparam para acompanhá-lo na aula, em Los Angeles.  Esse é um dos relatos do Spider aos colegas de treino sobre como esse pausa permitiu a ele, enfim, passar um tempo com a família para \"ver os filhos crescerem\".  No começo da carreira, antes de o UFC surgir, Anderson passava a maior parte do tempo fora de casa, dando aulas de artes marciais para manter, com muita dificuldade, sua família. Com a fama, os ganhos aumentaram, mas o convívio com a família, não.  \"Até então, o Anderson passava a maior parte do tempo viajando, treinando, lutando. Ou tinha de atender a outros compromissos\", conta Rodrigo \"Minotauro\" Nogueira, amigo de Anderson e colega de treinamento.  Spider, aliás, incorporou o filho mais velho, Gabriel, 17, que começou a treinar boxe, à sua rotina. Foi assim que, dias atrás, depois de completar os habituais cinco assaltos de sparring (treino com luvas), chamou o filho para fazer com ele o sexto, que serviu como recreação.  Mas as novidades não se restringem à vida pessoal.  \"Ele \\'ouve\\' mais\", afirma Cesário Bezerra, técnico de longa data de Anderson, referindo-se à capacidade do lutador de assimilar as orientações do treinador.  Anderson promoveu mudança no time ao trazer de volta o técnico de boxe Luis Carlos Dórea, que guiou Popó a um cinturão mundial.  \"Ele me ligou e disse: \\'Mestre, queria muito que o senhor estivesse aqui. Você sabe o peso que o atleta carrega...\\'\", lembra Dórea, conhecido como bom motivador.  Com período maior para se preparar, Anderson promoveu inovações, como as sessões com um psicólogo especializado em esportes.  Treinou boxe tailandês com o ex-campeão Kop Pako (por sinal, nascido na Tailândia) e jiu-jitsu por três meses com o lendário faixa-preta carioca Ricardo de la Riva.  Também aconteceram mudanças fora da academia. Deixou de ser cliente da agência 9ine, que tem entre os sócios do ex-jogador Ronaldo. Agora tem como agente Marcelo Guimarães.  Depois de 398 dias da derrota para o norte-americano Chris Weidman, é a hora de Spider colocar à prova as sementes que plantou em 2014.  Basta vencer Diaz para garantir a chance de recuperar seu cinturão contra o vencedor do duelo entre Weidman e o brasileiro Vitor Belfort, que acontece em 1º de março.  NA TV  A. Silva x N. Diaz  21h Início das lutas no canal Combate (Net); a luta de Anderson Silva não deve começar antes da 1h (de sábado para domingo). A Globo também a exibirá, mas não será ao vivo (deve entrar no ar meia hora depois).'"
            ]
          },
          "metadata": {
            "tags": []
          }
        }
      ]
    },
    {
      "cell_type": "markdown",
      "metadata": {
        "id": "BN2Hc-3oEskM"
      },
      "source": [
        "dito isso precisamos realizar um pré processamento, isto é, vetorizar estas informações e realizar alguns tratamentos na string em si, como retirar acentos, caracteres especiais, letras maiusculas e minusculas."
      ],
      "id": "BN2Hc-3oEskM"
    },
    {
      "cell_type": "markdown",
      "metadata": {
        "id": "GuUyK1Yehy8x"
      },
      "source": [
        "## Vetor de palavras\n",
        "\n",
        "Para perguntas se uma pessoa tem um carro inglês usamos a frase:\n",
        "\n",
        "> Do you have a car?\n",
        "\n",
        "E ai aprendemos como fazer uma pergunta em inglês, saimos então perguntando para todas as pessoas possíveis: *Do you have a car? Do you have a car? Do you have a car?*. Ai geralmente as pessoas pegam a \"ideia\" de como é a estrutura de uma pergunta, e agora como fazemos pra perguntar se uma mulher tem um carro? Bom usamos a frase:\n",
        "\n",
        "> Does she have a car?\n",
        "\n",
        "Então perguntamos para todas as pessoas que conhecemos: *Does she have a car? Does she have a car? Does she have a car?*. Note que só mudamos o sujeito da frase, no caso foram duas palavras, e criou-se uma nova frase a partir da *Do you have a car?*.\n",
        "\n",
        "Agora queremos saber se ela tem uma bicicleta, como faríamos?\n",
        "\n",
        "> Does she have a bike?\n",
        "\n",
        "Note que o que mudamos apenas algumas palavras da frase. Ou seja, aprendemos uma estrutura da frase e a partir dela conseguimos várias outras, isso significa que fomos capazes de generalizar a frase.\n",
        "\n",
        "### Vetorizando uma frase\n",
        "\n",
        "Vamos supor que temos as seguintes frases:\n",
        "\n",
        "> TENHA UM BOM DIA\n",
        "\n",
        "> TENHA UM ÓTIMO DIA\n",
        "\n",
        "> TENHA UM PÉSSIMO DIA\n",
        "\n",
        "É comum chamar de *corpus textual* o conjunto de todas as frases que se tem, por exemplo, a variável ``text`` dos dados de treino é o nosso corpus textual.\n",
        "\n",
        "Para vetorizar uma frase, a primeira coisa que deve ser feita é pegar as palavras do corpus textual sem repetição. Aplicando isso ao nosso corpus teríamos: \n",
        "\n",
        "> TENHA UM **BOM ÓTIMO PÉSSIMO** DIA\n",
        "\n",
        "Quando retiramos palavras repetidas de um corpus criamos um *vocabulário* e a partir do vocabulário contruimos um vetor que auxilie a não confundir as palavras *BOM* com *TENHA* ou com *ÓTIMO*. \n",
        "\n",
        "$$\\vec{v} = (\\text{TENHA, UM, BOM, ÓTIMO, PÉSSIMO, DIA})$$\n",
        "\n",
        "Aqui podemos tirar uma conclusão: o vetor da palavra terá a mesma dimensão do corpus textual.\n",
        "\n",
        "Outra forma de expressar uma frase é atraves de uma matriz:\n",
        "\n",
        "$$\n",
        "A = \\begin{pmatrix} \n",
        "  1 & 0 & 0 & 0 & 0 & 0 \\\\ \n",
        "  0 & 1 & 0 & 0 & 0 & 0 \\\\\n",
        "  0 & 0 & 1 & 0 & 0 & 0 \\\\\n",
        "  0 & 0 & 0 & 1 & 0 & 0 \\\\\n",
        "  0 & 0 & 0 & 0 & 1 & 0 \\\\\n",
        "  0 & 0 & 0 & 0 & 0 & 1 \\\\\n",
        "  \\end{pmatrix}\n",
        "$$\n",
        "\n",
        "Desse forma **as palavras estão expressas nas colunas**, e portanto são linearmente independentes. Então temos um vetor de ordem $n$ que representa uma palavra de um vocabulário, esta é a técnica chamada de *one-hot-encoding*.\n",
        "\n",
        "\n",
        "#### Exemplo: \n",
        "Vamos vetorizar uma frase, por exemplo: \n",
        "\n",
        "> O corretor de imóveis vendeus 5 casas\n",
        "\n",
        "> A corretora de imóveis vendeus 6 apartamentos"
      ],
      "id": "GuUyK1Yehy8x"
    },
    {
      "cell_type": "code",
      "metadata": {
        "colab": {
          "base_uri": "https://localhost:8080/"
        },
        "id": "ns6hByFIFN00",
        "outputId": "c9fbcd00-9719-46b8-cdd9-6c2cb81ee21d"
      },
      "source": [
        "texto = [\n",
        "    'TENHA UM BOM DIA',\n",
        "    'TENHA UM ÓTIMO DIA',\n",
        "    'TENHA UM PÉSSIMO DIA'\n",
        "]\n",
        "\n",
        "def vetoriza_frase(frases):\n",
        "  vocabulario = []\n",
        "  for frase in frases:\n",
        "    vetor_frase = frase.split(' ')\n",
        "    for palavra in vetor_frase:\n",
        "      if palavra not in vocabulario:\n",
        "        vocabulario.append(palavra)\n",
        "  return vocabulario\n",
        "\n",
        "vocabulario = vetoriza_frase(texto)\n",
        "print(vocabulario)"
      ],
      "id": "ns6hByFIFN00",
      "execution_count": 90,
      "outputs": [
        {
          "output_type": "stream",
          "text": [
            "['TENHA', 'UM', 'BOM', 'DIA', 'ÓTIMO', 'PÉSSIMO']\n"
          ],
          "name": "stdout"
        }
      ]
    },
    {
      "cell_type": "markdown",
      "metadata": {
        "id": "Q9pW9bs75NZX"
      },
      "source": [
        "Note que o vocabulário poderia esta necessariamente ordenado na ordem que desejamos. Sim, por definição um vetor é uma *$n$-upla ordenada*, entretanto quando juntamos os vetores de palavras em uma matriz, é permitido trocar linhas e colunas de lugar, assim como é permitido trocar palavras em uma frase. Então, um vocabulário é um vetor que pertence à um espaço vetorial cujo os vetores de base são as palavras vetorizadas.\n",
        "\n",
        "A implementação do código acima funciona para pequenos textos, mas para grandes volumes de dados ela pode ter um desempenho não tão eficiente. Portanto, vamos utilizar um módulo chamado Sci Kit Learning que tem uma função capaz de vetorizar corpus textuais.\n",
        "\n",
        "O SKLearn tem todo um ferramental de machine learning, em especial o módulo: [sklearn.feature_extraction.text](https://sklearn.org/modules/classes.html#module-sklearn.feature_extraction.text) é voltado exclusivamente para texto. A rotina que vou utilizar deste módulo é a ``CountVectorizer()``\n",
        "\n",
        "A descrição deste objeto é: \n",
        "\n",
        "```python\n",
        "class sklearn.feature_extraction.text.CountVectorizer(input=’content’, encoding=’utf-8’,\n",
        " decode_error=’strict’, strip_accents=None, lowercase=True, preprocessor=None, \n",
        " tokenizer=None, stop_words=None, token_pattern=’(?u)\\b\\w\\w+\\b’, ngram_range=(1, 1),\n",
        "  analyzer=’word’, max_df=1.0, min_df=1, max_features=None,\n",
        "   vocabulary=None, binary=False, dtype=<class ‘numpy.int64’>)\n",
        "```\n",
        "\n",
        "    Convert a collection of text documents to a matrix of token counts\n",
        "\n",
        "    This implementation produces a sparse representation of the counts using scipy.sparse.csr_matrix.\n",
        "\n",
        "    If you do not provide an a-priori dictionary and you do not use an analyzer that does some kind of\n",
        "    feature selectionthen the number of features will be equal to the vocabulary size found by analyzing the data.\n",
        "\n",
        "[Read more in the User Guide](https://sklearn.org/modules/feature_extraction.html#text-feature-extraction)."
      ],
      "id": "Q9pW9bs75NZX"
    },
    {
      "cell_type": "code",
      "metadata": {
        "id": "9XwM3IC8qKUE"
      },
      "source": [
        "from sklearn.feature_extraction.text import CountVectorizer"
      ],
      "id": "9XwM3IC8qKUE",
      "execution_count": 80,
      "outputs": []
    },
    {
      "cell_type": "markdown",
      "metadata": {
        "id": "9qrw-e0S7bjI"
      },
      "source": [
        "Vamos textar a função com a frase que já propomos: "
      ],
      "id": "9qrw-e0S7bjI"
    },
    {
      "cell_type": "code",
      "metadata": {
        "colab": {
          "base_uri": "https://localhost:8080/"
        },
        "id": "CL_izhkV8L1O",
        "outputId": "6ca05103-6ef1-40d6-d2e1-cfe5a14c3636"
      },
      "source": [
        "texto = [\n",
        "    'TENHA UM BOM DIA',\n",
        "    'TENHA UM ÓTIMO DIA',\n",
        "    'TENHA UM PÉSSIMO DIA'\n",
        "]\n",
        "\n",
        "# criando um vetorizador \n",
        "vetorizador = CountVectorizer()\n",
        "\n",
        "# ajustando o vetorizador ao texto\n",
        "vetorizador.fit(texto)"
      ],
      "id": "CL_izhkV8L1O",
      "execution_count": 92,
      "outputs": [
        {
          "output_type": "execute_result",
          "data": {
            "text/plain": [
              "CountVectorizer(analyzer='word', binary=False, decode_error='strict',\n",
              "                dtype=<class 'numpy.int64'>, encoding='utf-8', input='content',\n",
              "                lowercase=True, max_df=1.0, max_features=None, min_df=1,\n",
              "                ngram_range=(1, 1), preprocessor=None, stop_words=None,\n",
              "                strip_accents=None, token_pattern='(?u)\\\\b\\\\w\\\\w+\\\\b',\n",
              "                tokenizer=None, vocabulary=None)"
            ]
          },
          "metadata": {
            "tags": []
          },
          "execution_count": 92
        }
      ]
    },
    {
      "cell_type": "code",
      "metadata": {
        "colab": {
          "base_uri": "https://localhost:8080/"
        },
        "id": "RGaDpGGo8Q3x",
        "outputId": "ccfc3de2-51fd-4ed5-ea76-ac8dae32802c"
      },
      "source": [
        "print(vetorizador.vocabulary_)\n"
      ],
      "id": "RGaDpGGo8Q3x",
      "execution_count": 93,
      "outputs": [
        {
          "output_type": "stream",
          "text": [
            "{'tenha': 3, 'um': 4, 'bom': 0, 'dia': 1, 'ótimo': 5, 'péssimo': 2}\n"
          ],
          "name": "stdout"
        }
      ]
    },
    {
      "cell_type": "markdown",
      "metadata": {
        "id": "HMJPmpSg_Ea_"
      },
      "source": [
        "note que ele criou um dicionario com todas as palavras que não se repetem. Agora surge a vantagem do SK Learning, como seria o vetor da palavra ``BOM``?\n",
        "\n",
        "Para isso pegamos o objeto vetorizador:"
      ],
      "id": "HMJPmpSg_Ea_"
    },
    {
      "cell_type": "code",
      "metadata": {
        "colab": {
          "base_uri": "https://localhost:8080/"
        },
        "id": "SLTOxu-G_Yy9",
        "outputId": "2397136a-cdb1-4a52-fe52-40c49efe2ad8"
      },
      "source": [
        "vetor_bom = vetorizador.transform(['BOM'])\n",
        "vetor_bom"
      ],
      "id": "SLTOxu-G_Yy9",
      "execution_count": 96,
      "outputs": [
        {
          "output_type": "execute_result",
          "data": {
            "text/plain": [
              "<1x6 sparse matrix of type '<class 'numpy.int64'>'\n",
              "\twith 1 stored elements in Compressed Sparse Row format>"
            ]
          },
          "metadata": {
            "tags": []
          },
          "execution_count": 96
        }
      ]
    },
    {
      "cell_type": "markdown",
      "metadata": {
        "id": "V8oVE_cP_5U9"
      },
      "source": [
        "O resultado é uma matriz esparsa de ordem 1x6. Podemos transformar esta matriz em um array para visualiza-la"
      ],
      "id": "V8oVE_cP_5U9"
    },
    {
      "cell_type": "code",
      "metadata": {
        "colab": {
          "base_uri": "https://localhost:8080/"
        },
        "id": "rDPnn8dY_tC7",
        "outputId": "117647ef-4edc-40e5-a2cc-e2d05e1d13b8"
      },
      "source": [
        "print(vetor_bom.toarray())"
      ],
      "id": "rDPnn8dY_tC7",
      "execution_count": 98,
      "outputs": [
        {
          "output_type": "stream",
          "text": [
            "[[1 0 0 0 0 0]]\n"
          ],
          "name": "stdout"
        }
      ]
    },
    {
      "cell_type": "markdown",
      "metadata": {
        "id": "j7wEXV-6AJzP"
      },
      "source": [
        "A palavra ``BOM`` é expressa pelo vetor $(1,0,0, 0, 0, 0)$. Podemos saber qual o elemento não nulo do vetor apenas olhando os valores do vocabulario:"
      ],
      "id": "j7wEXV-6AJzP"
    },
    {
      "cell_type": "code",
      "metadata": {
        "colab": {
          "base_uri": "https://localhost:8080/"
        },
        "id": "yeKzrmMOAhmS",
        "outputId": "a0353d16-e58d-4880-f2b5-08e8ee7eed24"
      },
      "source": [
        "print(vetorizador.vocabulary_)"
      ],
      "id": "yeKzrmMOAhmS",
      "execution_count": 99,
      "outputs": [
        {
          "output_type": "stream",
          "text": [
            "{'tenha': 3, 'um': 4, 'bom': 0, 'dia': 1, 'ótimo': 5, 'péssimo': 2}\n"
          ],
          "name": "stdout"
        }
      ]
    },
    {
      "cell_type": "markdown",
      "metadata": {
        "id": "ITO-_9_gAzd5"
      },
      "source": [
        "Se quisermos formar as frases:\n",
        "\n",
        "> BOM DIA: $$(1,0,0,0,0,0) + (0,1,0,0,0,0) = (1,1,0,0,0,0)$$\n",
        "\n",
        "> PÉSSIMO DIA: $$(0,0,1,0,0,0) + (0,1,0,0,0,0) = (0,1,1,0,0,0)$$\n",
        "\n",
        "Note que as frases são diferentes porquê os vetores são diferente... \n",
        "\n",
        "A dimenssionalidade da frase implica diretamente na dimenssionalidade do vocabulario, pois a dimenssionalidade do vocabulário é no minimo igual ou menor que a da frases e isso pode ser um problema computacionalmente.\n",
        "\n",
        "> Um simples tweets de 240 caracteres pode gerar um vetor de ordem $(1,240)$.\n",
        "\n",
        "Ai surge uma outra forma de tentar expressar frases através de vetores, visando evitar esse problema de matrizes e vetores esparsos. "
      ],
      "id": "ITO-_9_gAzd5"
    }
  ]
}