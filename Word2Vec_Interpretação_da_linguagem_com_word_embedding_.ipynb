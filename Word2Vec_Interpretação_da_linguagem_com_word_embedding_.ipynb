{
  "nbformat": 4,
  "nbformat_minor": 5,
  "metadata": {
    "kernelspec": {
      "display_name": "Python 3",
      "language": "python",
      "name": "python3"
    },
    "language_info": {
      "codemirror_mode": {
        "name": "ipython",
        "version": 3
      },
      "file_extension": ".py",
      "mimetype": "text/x-python",
      "name": "python",
      "nbconvert_exporter": "python",
      "pygments_lexer": "ipython3",
      "version": "3.7.6"
    },
    "colab": {
      "name": "Word2Vec - Interpretação da linguagem com word embedding .ipynb",
      "provenance": [],
      "collapsed_sections": [],
      "include_colab_link": true
    }
  },
  "cells": [
    {
      "cell_type": "markdown",
      "metadata": {
        "id": "view-in-github",
        "colab_type": "text"
      },
      "source": [
        "<a href=\"https://colab.research.google.com/github/ConradBitt/processamento_linguagem_natural/blob/master/Word2Vec_Interpreta%C3%A7%C3%A3o_da_linguagem_com_word_embedding_.ipynb\" target=\"_parent\"><img src=\"https://colab.research.google.com/assets/colab-badge.svg\" alt=\"Open In Colab\"/></a>"
      ]
    },
    {
      "cell_type": "markdown",
      "metadata": {
        "id": "sixth-studio"
      },
      "source": [
        "# Introdução \n",
        "\n",
        "O objetivo deste notebook é aprender as chamadas word embedding que são basicamente transformações de textos em vetores, forma que será utilizada para a transformação é conhecida como *one-hot-encoding* que transforma em matrizes esparças de ordem $n$\n",
        "\n",
        "Além disso, será abordado alguns assuntos sobre o Word2vec que é uma forma de representar uma palavra através de um vetor denso também de tamanho fixo, a vantagem de dessa representação é que muitos modelos conseguem entender o contexto da palavra, por exemplo as palavras *Brasil, China, Peugeot, Ferrari, Bulgaria*, podem ser classificadas em países e carros.\n",
        "\n",
        "A diferença do one-hot-encoding é que as palavras são vetores independentes e não tem conexão entre elas, já em word2vec as palavras são expressas em vetores que pertencem a um espaço vetorial capaz de clusterizar grupos de palavras de um mesmo contexto.\n",
        "\n",
        "O Word2vec é extremamente poderozo, pois funciona de duas formas. A primeira é dado um contexto, por exemplo: \n",
        "\n",
        "> **Morar no país ____** \n",
        "\n",
        "ele consegue estimar soluções para  possível frase. Matematicamente a modelagem é:\n",
        "\n",
        "$$\\vec{v} = (\\text{morar, no, país})$$\n",
        "\n",
        "$$T(\\vec{v}) = \\text{europeu}.$$\n",
        "\n",
        "Existe outra forma de utilizar o Word2Vec, que é, através da palavra tentar estimar o contexto, por exemplo:\n",
        "\n",
        "> **____ __ ____ europeu**\n",
        "\n",
        "basicamente será encontrar a transformação $T$ inversa, essa técnica é chamada de skipgram ou *proximo grama*.\n"
      ],
      "id": "sixth-studio"
    },
    {
      "cell_type": "markdown",
      "metadata": {
        "id": "qXY78GC3sMNt"
      },
      "source": [
        "## Montando Drive\n",
        "\n",
        "O motivo de usar o colaboratory é porque processamento de linguagem envolve muita memoria RAM e portanto rodar localmente pode se tonar um tanto custoso.Além disso, através do calab é permitido montar uma imagem do drive onde podemos armazenar os dados. Por esses dois motivos optei pelo google colab:"
      ],
      "id": "qXY78GC3sMNt"
    },
    {
      "cell_type": "code",
      "metadata": {
        "colab": {
          "base_uri": "https://localhost:8080/"
        },
        "id": "ZeXkcLsop2WW",
        "outputId": "6e5f2d47-0ffe-41d0-e489-25747ee36236"
      },
      "source": [
        "from google.colab import drive\n",
        "drive.mount('/content/drive')"
      ],
      "id": "ZeXkcLsop2WW",
      "execution_count": 1,
      "outputs": [
        {
          "output_type": "stream",
          "text": [
            "Mounted at /content/drive\n"
          ],
          "name": "stdout"
        }
      ]
    },
    {
      "cell_type": "markdown",
      "metadata": {
        "id": "native-primary"
      },
      "source": [
        "## Importações"
      ],
      "id": "native-primary"
    },
    {
      "cell_type": "code",
      "metadata": {
        "colab": {
          "base_uri": "https://localhost:8080/"
        },
        "id": "I7KfnF_Ns8I5",
        "outputId": "fd278376-b111-4a96-e239-38b4a5719400"
      },
      "source": [
        "import pandas as pd \n",
        "import seaborn as sns \n",
        "import numpy as np\n",
        "\n",
        "from matplotlib import pyplot as plt\n",
        "\n",
        "sns.set_context('talk')\n",
        "\n",
        "!unzip '/content/drive/MyDrive/Colab Notebooks/word2vec/dados/cbow_s300.zip'\n"
      ],
      "id": "I7KfnF_Ns8I5",
      "execution_count": 2,
      "outputs": [
        {
          "output_type": "stream",
          "text": [
            "Archive:  /content/drive/MyDrive/Colab Notebooks/word2vec/dados/cbow_s300.zip\n",
            "  inflating: cbow_s300.txt           \n"
          ],
          "name": "stdout"
        }
      ]
    },
    {
      "cell_type": "markdown",
      "metadata": {
        "id": "J8Zvt2hstBYs"
      },
      "source": [
        "# Dados \n",
        "\n",
        "Os dados são basicamente artigos de jornais"
      ],
      "id": "J8Zvt2hstBYs"
    },
    {
      "cell_type": "code",
      "metadata": {
        "id": "Pd_9rv3KqZBh"
      },
      "source": [
        "treino = pd.read_csv('/content/drive/MyDrive/Colab Notebooks/word2vec/dados/treino.csv')\n",
        "teste = pd.read_csv('/content/drive/MyDrive/Colab Notebooks/word2vec/dados/teste.csv')"
      ],
      "id": "Pd_9rv3KqZBh",
      "execution_count": 3,
      "outputs": []
    },
    {
      "cell_type": "markdown",
      "metadata": {
        "id": "qWvOjlx2qgzl"
      },
      "source": [
        ""
      ],
      "id": "qWvOjlx2qgzl"
    },
    {
      "cell_type": "code",
      "metadata": {
        "colab": {
          "base_uri": "https://localhost:8080/",
          "height": 503
        },
        "id": "c7LeNFOkr-pj",
        "outputId": "ae615553-0dcd-430c-a7ad-822d8d25e5eb"
      },
      "source": [
        "display(treino.info())\n",
        "display(teste.info())"
      ],
      "id": "c7LeNFOkr-pj",
      "execution_count": 4,
      "outputs": [
        {
          "output_type": "stream",
          "text": [
            "<class 'pandas.core.frame.DataFrame'>\n",
            "RangeIndex: 90000 entries, 0 to 89999\n",
            "Data columns (total 6 columns):\n",
            " #   Column       Non-Null Count  Dtype \n",
            "---  ------       --------------  ----- \n",
            " 0   title        90000 non-null  object\n",
            " 1   text         90000 non-null  object\n",
            " 2   date         90000 non-null  object\n",
            " 3   category     90000 non-null  object\n",
            " 4   subcategory  17175 non-null  object\n",
            " 5   link         90000 non-null  object\n",
            "dtypes: object(6)\n",
            "memory usage: 4.1+ MB\n"
          ],
          "name": "stdout"
        },
        {
          "output_type": "display_data",
          "data": {
            "text/plain": [
              "None"
            ]
          },
          "metadata": {
            "tags": []
          }
        },
        {
          "output_type": "stream",
          "text": [
            "<class 'pandas.core.frame.DataFrame'>\n",
            "RangeIndex: 20513 entries, 0 to 20512\n",
            "Data columns (total 6 columns):\n",
            " #   Column       Non-Null Count  Dtype \n",
            "---  ------       --------------  ----- \n",
            " 0   title        20513 non-null  object\n",
            " 1   text         20513 non-null  object\n",
            " 2   date         20513 non-null  object\n",
            " 3   category     20513 non-null  object\n",
            " 4   subcategory  6794 non-null   object\n",
            " 5   link         20513 non-null  object\n",
            "dtypes: object(6)\n",
            "memory usage: 961.7+ KB\n"
          ],
          "name": "stdout"
        },
        {
          "output_type": "display_data",
          "data": {
            "text/plain": [
              "None"
            ]
          },
          "metadata": {
            "tags": []
          }
        }
      ]
    },
    {
      "cell_type": "markdown",
      "metadata": {
        "id": "Jpw69wYpsFJu"
      },
      "source": [
        "Temos: \n",
        "* 90000 registros nos dados de treino.\n",
        "* 20513 registros nos dados de teste.\n",
        "\n",
        "todos os dados são do tipo object, porvavelmente strings dividos em 6 variaveis, `titulo`, `text`, `date`, `category`, `subcategory`, `link`.\n",
        "\n",
        "Vamos dar uma olhada na distribuição das categorias e subcategorias: "
      ],
      "id": "Jpw69wYpsFJu"
    },
    {
      "cell_type": "code",
      "metadata": {
        "colab": {
          "base_uri": "https://localhost:8080/"
        },
        "id": "vTbW9VVNuMJA",
        "outputId": "7d64b765-78b8-4809-8288-d796e866a2a3"
      },
      "source": [
        "print('Categorias:')\n",
        "treino.category.value_counts()\n"
      ],
      "id": "vTbW9VVNuMJA",
      "execution_count": 5,
      "outputs": [
        {
          "output_type": "stream",
          "text": [
            "Categorias:\n"
          ],
          "name": "stdout"
        },
        {
          "output_type": "execute_result",
          "data": {
            "text/plain": [
              "ilustrada    15000\n",
              "esporte      15000\n",
              "mercado      15000\n",
              "mundo        15000\n",
              "colunas      15000\n",
              "cotidiano    15000\n",
              "Name: category, dtype: int64"
            ]
          },
          "metadata": {
            "tags": []
          },
          "execution_count": 5
        }
      ]
    },
    {
      "cell_type": "markdown",
      "metadata": {
        "id": "zrZ9vmIMwGNv"
      },
      "source": [
        "Note que as categorias principais estar distribuidas de forma homogênea, isto é, temos 15000 amostras em cada uma. "
      ],
      "id": "zrZ9vmIMwGNv"
    },
    {
      "cell_type": "code",
      "metadata": {
        "colab": {
          "base_uri": "https://localhost:8080/"
        },
        "id": "K3vmSB7Xu8Ve",
        "outputId": "73feaa19-7b6f-438d-eb07-f727b9f18da6"
      },
      "source": [
        "print('Sub Categoria:')\n",
        "treino.subcategory.value_counts()"
      ],
      "id": "K3vmSB7Xu8Ve",
      "execution_count": 6,
      "outputs": [
        {
          "output_type": "stream",
          "text": [
            "Sub Categoria:\n"
          ],
          "name": "stdout"
        },
        {
          "output_type": "execute_result",
          "data": {
            "text/plain": [
              "olimpiada-no-rio     2144\n",
              "monicabergamo        1874\n",
              "mercadoaberto         736\n",
              "josesimao             472\n",
              "helioschwartsman      455\n",
              "                     ... \n",
              "samyadguirni            1\n",
              "flavia-lima             1\n",
              "fabio-victor            1\n",
              "fabianomaisonnave       1\n",
              "bela-megale             1\n",
              "Name: subcategory, Length: 227, dtype: int64"
            ]
          },
          "metadata": {
            "tags": []
          },
          "execution_count": 6
        }
      ]
    },
    {
      "cell_type": "markdown",
      "metadata": {
        "id": "bbyVG7_kvcEr"
      },
      "source": [
        "diferente das categorias, as subcategorias não estão igualmente distribuidas, tem assuntos mais citados do que outros, vamos olhar as 20 primeiras em um grafico de barras:"
      ],
      "id": "bbyVG7_kvcEr"
    },
    {
      "cell_type": "code",
      "metadata": {
        "colab": {
          "base_uri": "https://localhost:8080/",
          "height": 553
        },
        "id": "0kWJsOF1wFI7",
        "outputId": "7ad22d09-3683-4a4e-d285-a6d06b922afa"
      },
      "source": [
        "distribuicao_subcategorias = treino.subcategory.value_counts().to_frame()\n",
        "\n",
        "plt.figure(figsize=(10,8))\n",
        "plt.title('Quantidade de amostras nas subcategorias', fontsize=20, pad=20)\n",
        "ax = sns.barplot(data=distribuicao_subcategorias[:20], \n",
        "            x='subcategory', \n",
        "            y=distribuicao_subcategorias.index[:20], palette='gnuplot2')\n",
        "ax.set_xlabel('Elementos na categoria')\n",
        "ax;"
      ],
      "id": "0kWJsOF1wFI7",
      "execution_count": 7,
      "outputs": [
        {
          "output_type": "display_data",
          "data": {
            "image/png": "[encoded data removed]",
            "text/plain": [
              "<Figure size 720x576 with 1 Axes>"
            ]
          },
          "metadata": {
            "tags": [],
            "needs_background": "light"
          }
        }
      ]
    },
    {
      "cell_type": "markdown",
      "metadata": {
        "id": "BaWu1xewEYvG"
      },
      "source": [
        "## Pre processamento \n",
        "\n",
        "Vemos que algumas variááveis são do tipo textual, por exemplo o conteúdo de um artigo e o seu título"
      ],
      "id": "BaWu1xewEYvG"
    },
    {
      "cell_type": "code",
      "metadata": {
        "colab": {
          "base_uri": "https://localhost:8080/",
          "height": 193
        },
        "id": "ADnJmn0MwtyR",
        "outputId": "91e90517-edb5-4fdc-9356-37e727fcddd9"
      },
      "source": [
        "display(treino.iloc[645]['title'])\n",
        "print('\\n')\n",
        "display(treino.iloc[645]['text'])"
      ],
      "id": "ADnJmn0MwtyR",
      "execution_count": 8,
      "outputs": [
        {
          "output_type": "display_data",
          "data": {
            "application/vnd.google.colaboratory.intrinsic+json": {
              "type": "string"
            },
            "text/plain": [
              "'Após maior derrota, Anderson Silva volta com outro modelo de preparação'"
            ]
          },
          "metadata": {
            "tags": []
          }
        },
        {
          "output_type": "stream",
          "text": [
            "\n",
            "\n"
          ],
          "name": "stdout"
        },
        {
          "output_type": "display_data",
          "data": {
            "application/vnd.google.colaboratory.intrinsic+json": {
              "type": "string"
            },
            "text/plain": [
              "'Um Anderson Silva diferente do que deixou o octógono com a perna esquerda fraturada há 13 meses retorna ao UFC, nesta madrugada de sábado para domingo, para enfrentar o norte-americano Nick Diaz, em Las Vegas, nos Estados Unidos.  Enquanto veste os apetrechos para a aula de mergulho, Anderson, 39, olha para o lado e sorri para a mulher e dois de seus filhos que se preparam para acompanhá-lo na aula, em Los Angeles.  Esse é um dos relatos do Spider aos colegas de treino sobre como esse pausa permitiu a ele, enfim, passar um tempo com a família para \"ver os filhos crescerem\".  No começo da carreira, antes de o UFC surgir, Anderson passava a maior parte do tempo fora de casa, dando aulas de artes marciais para manter, com muita dificuldade, sua família. Com a fama, os ganhos aumentaram, mas o convívio com a família, não.  \"Até então, o Anderson passava a maior parte do tempo viajando, treinando, lutando. Ou tinha de atender a outros compromissos\", conta Rodrigo \"Minotauro\" Nogueira, amigo de Anderson e colega de treinamento.  Spider, aliás, incorporou o filho mais velho, Gabriel, 17, que começou a treinar boxe, à sua rotina. Foi assim que, dias atrás, depois de completar os habituais cinco assaltos de sparring (treino com luvas), chamou o filho para fazer com ele o sexto, que serviu como recreação.  Mas as novidades não se restringem à vida pessoal.  \"Ele \\'ouve\\' mais\", afirma Cesário Bezerra, técnico de longa data de Anderson, referindo-se à capacidade do lutador de assimilar as orientações do treinador.  Anderson promoveu mudança no time ao trazer de volta o técnico de boxe Luis Carlos Dórea, que guiou Popó a um cinturão mundial.  \"Ele me ligou e disse: \\'Mestre, queria muito que o senhor estivesse aqui. Você sabe o peso que o atleta carrega...\\'\", lembra Dórea, conhecido como bom motivador.  Com período maior para se preparar, Anderson promoveu inovações, como as sessões com um psicólogo especializado em esportes.  Treinou boxe tailandês com o ex-campeão Kop Pako (por sinal, nascido na Tailândia) e jiu-jitsu por três meses com o lendário faixa-preta carioca Ricardo de la Riva.  Também aconteceram mudanças fora da academia. Deixou de ser cliente da agência 9ine, que tem entre os sócios do ex-jogador Ronaldo. Agora tem como agente Marcelo Guimarães.  Depois de 398 dias da derrota para o norte-americano Chris Weidman, é a hora de Spider colocar à prova as sementes que plantou em 2014.  Basta vencer Diaz para garantir a chance de recuperar seu cinturão contra o vencedor do duelo entre Weidman e o brasileiro Vitor Belfort, que acontece em 1º de março.  NA TV  A. Silva x N. Diaz  21h Início das lutas no canal Combate (Net); a luta de Anderson Silva não deve começar antes da 1h (de sábado para domingo). A Globo também a exibirá, mas não será ao vivo (deve entrar no ar meia hora depois).'"
            ]
          },
          "metadata": {
            "tags": []
          }
        }
      ]
    },
    {
      "cell_type": "markdown",
      "metadata": {
        "id": "BN2Hc-3oEskM"
      },
      "source": [
        "dito isso precisamos realizar um pré processamento, isto é, vetorizar estas informações e realizar alguns tratamentos na string em si, como retirar acentos, caracteres especiais, letras maiusculas e minusculas."
      ],
      "id": "BN2Hc-3oEskM"
    },
    {
      "cell_type": "markdown",
      "metadata": {
        "id": "GuUyK1Yehy8x"
      },
      "source": [
        "# Vetor de palavras\n",
        "\n",
        "Para perguntas se uma pessoa tem um carro inglês usamos a frase:\n",
        "\n",
        "> Do you have a car?\n",
        "\n",
        "E ai aprendemos como fazer uma pergunta em inglês, saimos então perguntando para todas as pessoas possíveis: *Do you have a car? Do you have a car? Do you have a car?*. Ai geralmente as pessoas pegam a \"ideia\" de como é a estrutura de uma pergunta, e agora como fazemos pra perguntar se uma mulher tem um carro? Bom usamos a frase:\n",
        "\n",
        "> Does she have a car?\n",
        "\n",
        "Então perguntamos para todas as pessoas que conhecemos: *Does she have a car? Does she have a car? Does she have a car?*. Note que só mudamos o sujeito da frase, no caso foram duas palavras, e criou-se uma nova frase a partir da *Do you have a car?*.\n",
        "\n",
        "Agora queremos saber se ela tem uma bicicleta, como faríamos?\n",
        "\n",
        "> Does she have a bike?\n",
        "\n",
        "Note que o que mudamos apenas algumas palavras da frase. Ou seja, aprendemos uma estrutura da frase e a partir dela conseguimos várias outras, isso significa que fomos capazes de generalizar a frase.\n",
        "\n",
        "### Vetorizando uma frase\n",
        "\n",
        "Vamos supor que temos as seguintes frases:\n",
        "\n",
        "> TENHA UM BOM DIA\n",
        "\n",
        "> TENHA UM ÓTIMO DIA\n",
        "\n",
        "> TENHA UM PÉSSIMO DIA\n",
        "\n",
        "É comum chamar de *corpus textual* o conjunto de todas as frases que se tem, por exemplo, a variável ``text`` dos dados de treino é o nosso corpus textual.\n",
        "\n",
        "Para vetorizar uma frase, a primeira coisa que deve ser feita é pegar as palavras do corpus textual sem repetição. Aplicando isso ao nosso corpus teríamos: \n",
        "\n",
        "> TENHA UM **BOM ÓTIMO PÉSSIMO** DIA\n",
        "\n",
        "Quando retiramos palavras repetidas de um corpus criamos um *vocabulário* e a partir do vocabulário contruimos um vetor que auxilie a não confundir as palavras *BOM* com *TENHA* ou com *ÓTIMO*. \n",
        "\n",
        "$$\\vec{v} = (\\text{TENHA, UM, BOM, ÓTIMO, PÉSSIMO, DIA})$$\n",
        "\n",
        "Aqui podemos tirar uma conclusão: o vetor da palavra terá a mesma dimensão do corpus textual.\n",
        "\n",
        "Outra forma de expressar uma frase é atraves de uma matriz:\n",
        "\n",
        "$$\n",
        "A = \\begin{pmatrix} \n",
        "  1 & 0 & 0 & 0 & 0 & 0 \\\\ \n",
        "  0 & 1 & 0 & 0 & 0 & 0 \\\\\n",
        "  0 & 0 & 1 & 0 & 0 & 0 \\\\\n",
        "  0 & 0 & 0 & 1 & 0 & 0 \\\\\n",
        "  0 & 0 & 0 & 0 & 1 & 0 \\\\\n",
        "  0 & 0 & 0 & 0 & 0 & 1 \\\\\n",
        "  \\end{pmatrix}\n",
        "$$\n",
        "\n",
        "Desse forma **as palavras estão expressas nas colunas**, e portanto são linearmente independentes. Então temos um vetor de ordem $n$ que representa uma palavra de um vocabulário, esta é a técnica chamada de *one-hot-encoding*.\n",
        "\n",
        "\n",
        "#### Exemplo: \n",
        "Vamos vetorizar uma frase, por exemplo: \n",
        "\n",
        "> O corretor de imóveis vendeus 5 casas\n",
        "\n",
        "> A corretora de imóveis vendeus 6 apartamentos"
      ],
      "id": "GuUyK1Yehy8x"
    },
    {
      "cell_type": "code",
      "metadata": {
        "colab": {
          "base_uri": "https://localhost:8080/"
        },
        "id": "ns6hByFIFN00",
        "outputId": "db884fa5-eeaf-4ff0-bac6-056940ba9457"
      },
      "source": [
        "texto = [\n",
        "    'TENHA UM BOM DIA',\n",
        "    'TENHA UM ÓTIMO DIA',\n",
        "    'TENHA UM PÉSSIMO DIA'\n",
        "]\n",
        "\n",
        "def vetoriza_frase(frases):\n",
        "  vocabulario = []\n",
        "  for frase in frases:\n",
        "    vetor_frase = frase.split(' ')\n",
        "    for palavra in vetor_frase:\n",
        "      if palavra not in vocabulario:\n",
        "        vocabulario.append(palavra)\n",
        "  return vocabulario\n",
        "\n",
        "vocabulario = vetoriza_frase(texto)\n",
        "print(vocabulario)"
      ],
      "id": "ns6hByFIFN00",
      "execution_count": 9,
      "outputs": [
        {
          "output_type": "stream",
          "text": [
            "['TENHA', 'UM', 'BOM', 'DIA', 'ÓTIMO', 'PÉSSIMO']\n"
          ],
          "name": "stdout"
        }
      ]
    },
    {
      "cell_type": "markdown",
      "metadata": {
        "id": "Q9pW9bs75NZX"
      },
      "source": [
        "Note que o vocabulário poderia esta necessariamente ordenado na ordem que desejamos. Sim, por definição um vetor é uma *$n$-upla ordenada*, entretanto quando juntamos os vetores de palavras em uma matriz, é permitido trocar linhas e colunas de lugar, assim como é permitido trocar palavras em uma frase. Então, um vocabulário é um vetor que pertence à um espaço vetorial cujo os vetores de base são as palavras vetorizadas.\n",
        "\n",
        "A implementação do código acima funciona para pequenos textos, mas para grandes volumes de dados ela pode ter um desempenho não tão eficiente. Portanto, vamos utilizar um módulo chamado Sci Kit Learning que tem uma função capaz de vetorizar corpus textuais.\n",
        "\n",
        "O SKLearn tem todo um ferramental de machine learning, em especial o módulo: [sklearn.feature_extraction.text](https://sklearn.org/modules/classes.html#module-sklearn.feature_extraction.text) é voltado exclusivamente para texto. A rotina que vou utilizar deste módulo é a ``CountVectorizer()``\n",
        "\n",
        "A descrição deste objeto é: \n",
        "\n",
        "```python\n",
        "class sklearn.feature_extraction.text.CountVectorizer(input=’content’, encoding=’utf-8’,\n",
        " decode_error=’strict’, strip_accents=None, lowercase=True, preprocessor=None, \n",
        " tokenizer=None, stop_words=None, token_pattern=’(?u)\\b\\w\\w+\\b’, ngram_range=(1, 1),\n",
        "  analyzer=’word’, max_df=1.0, min_df=1, max_features=None,\n",
        "   vocabulary=None, binary=False, dtype=<class ‘numpy.int64’>)\n",
        "```\n",
        "\n",
        "    Convert a collection of text documents to a matrix of token counts\n",
        "\n",
        "    This implementation produces a sparse representation of the counts using scipy.sparse.csr_matrix.\n",
        "\n",
        "    If you do not provide an a-priori dictionary and you do not use an analyzer that does some kind of\n",
        "    feature selectionthen the number of features will be equal to the vocabulary size found by analyzing the data.\n",
        "\n",
        "[Read more in the User Guide](https://sklearn.org/modules/feature_extraction.html#text-feature-extraction)."
      ],
      "id": "Q9pW9bs75NZX"
    },
    {
      "cell_type": "code",
      "metadata": {
        "id": "9XwM3IC8qKUE"
      },
      "source": [
        "from sklearn.feature_extraction.text import CountVectorizer"
      ],
      "id": "9XwM3IC8qKUE",
      "execution_count": 10,
      "outputs": []
    },
    {
      "cell_type": "markdown",
      "metadata": {
        "id": "9qrw-e0S7bjI"
      },
      "source": [
        "Vamos textar a função com a frase que já propomos: "
      ],
      "id": "9qrw-e0S7bjI"
    },
    {
      "cell_type": "code",
      "metadata": {
        "colab": {
          "base_uri": "https://localhost:8080/"
        },
        "id": "CL_izhkV8L1O",
        "outputId": "784c640a-d1b2-4e35-c190-77fbee443085"
      },
      "source": [
        "texto = [\n",
        "    'TENHA UM BOM DIA',\n",
        "    'TENHA UM ÓTIMO DIA',\n",
        "    'TENHA UM PÉSSIMO DIA'\n",
        "]\n",
        "\n",
        "# criando um vetorizador \n",
        "vetorizador = CountVectorizer()\n",
        "\n",
        "# ajustando o vetorizador ao texto\n",
        "vetorizador.fit(texto)"
      ],
      "id": "CL_izhkV8L1O",
      "execution_count": 11,
      "outputs": [
        {
          "output_type": "execute_result",
          "data": {
            "text/plain": [
              "CountVectorizer(analyzer='word', binary=False, decode_error='strict',\n",
              "                dtype=<class 'numpy.int64'>, encoding='utf-8', input='content',\n",
              "                lowercase=True, max_df=1.0, max_features=None, min_df=1,\n",
              "                ngram_range=(1, 1), preprocessor=None, stop_words=None,\n",
              "                strip_accents=None, token_pattern='(?u)\\\\b\\\\w\\\\w+\\\\b',\n",
              "                tokenizer=None, vocabulary=None)"
            ]
          },
          "metadata": {
            "tags": []
          },
          "execution_count": 11
        }
      ]
    },
    {
      "cell_type": "code",
      "metadata": {
        "colab": {
          "base_uri": "https://localhost:8080/"
        },
        "id": "RGaDpGGo8Q3x",
        "outputId": "c0fbaea7-5f94-48d0-95c4-55d9b61418e2"
      },
      "source": [
        "print(vetorizador.vocabulary_)\n"
      ],
      "id": "RGaDpGGo8Q3x",
      "execution_count": 12,
      "outputs": [
        {
          "output_type": "stream",
          "text": [
            "{'tenha': 3, 'um': 4, 'bom': 0, 'dia': 1, 'ótimo': 5, 'péssimo': 2}\n"
          ],
          "name": "stdout"
        }
      ]
    },
    {
      "cell_type": "markdown",
      "metadata": {
        "id": "HMJPmpSg_Ea_"
      },
      "source": [
        "note que ele criou um dicionario com todas as palavras que não se repetem. Agora surge a vantagem do SK Learning, como seria o vetor da palavra ``BOM``?\n",
        "\n",
        "Para isso pegamos o objeto vetorizador:"
      ],
      "id": "HMJPmpSg_Ea_"
    },
    {
      "cell_type": "code",
      "metadata": {
        "colab": {
          "base_uri": "https://localhost:8080/"
        },
        "id": "SLTOxu-G_Yy9",
        "outputId": "1b119fc7-c9b2-4bde-e1fc-d988f62e5d57"
      },
      "source": [
        "vetor_bom = vetorizador.transform(['BOM'])\n",
        "vetor_bom"
      ],
      "id": "SLTOxu-G_Yy9",
      "execution_count": 13,
      "outputs": [
        {
          "output_type": "execute_result",
          "data": {
            "text/plain": [
              "<1x6 sparse matrix of type '<class 'numpy.int64'>'\n",
              "\twith 1 stored elements in Compressed Sparse Row format>"
            ]
          },
          "metadata": {
            "tags": []
          },
          "execution_count": 13
        }
      ]
    },
    {
      "cell_type": "markdown",
      "metadata": {
        "id": "V8oVE_cP_5U9"
      },
      "source": [
        "O resultado é uma matriz esparsa de ordem 1x6. Podemos transformar esta matriz em um array para visualiza-la"
      ],
      "id": "V8oVE_cP_5U9"
    },
    {
      "cell_type": "code",
      "metadata": {
        "colab": {
          "base_uri": "https://localhost:8080/"
        },
        "id": "rDPnn8dY_tC7",
        "outputId": "6ecbf858-de3b-4691-9970-51cfc4156868"
      },
      "source": [
        "print(vetor_bom.toarray())"
      ],
      "id": "rDPnn8dY_tC7",
      "execution_count": 14,
      "outputs": [
        {
          "output_type": "stream",
          "text": [
            "[[1 0 0 0 0 0]]\n"
          ],
          "name": "stdout"
        }
      ]
    },
    {
      "cell_type": "markdown",
      "metadata": {
        "id": "j7wEXV-6AJzP"
      },
      "source": [
        "A palavra ``BOM`` é expressa pelo vetor $(1,0,0, 0, 0, 0)$. Podemos saber qual o elemento não nulo do vetor apenas olhando os valores do vocabulario:"
      ],
      "id": "j7wEXV-6AJzP"
    },
    {
      "cell_type": "code",
      "metadata": {
        "colab": {
          "base_uri": "https://localhost:8080/"
        },
        "id": "yeKzrmMOAhmS",
        "outputId": "95111b2c-cb4f-48db-b9fb-05b2d0417412"
      },
      "source": [
        "print(vetorizador.vocabulary_)"
      ],
      "id": "yeKzrmMOAhmS",
      "execution_count": 15,
      "outputs": [
        {
          "output_type": "stream",
          "text": [
            "{'tenha': 3, 'um': 4, 'bom': 0, 'dia': 1, 'ótimo': 5, 'péssimo': 2}\n"
          ],
          "name": "stdout"
        }
      ]
    },
    {
      "cell_type": "markdown",
      "metadata": {
        "id": "ITO-_9_gAzd5"
      },
      "source": [
        "Se quisermos formar as frases:\n",
        "\n",
        "> BOM DIA: $$(1,0,0,0,0,0) + (0,1,0,0,0,0) = (1,1,0,0,0,0)$$\n",
        "\n",
        "> PÉSSIMO DIA: $$(0,0,1,0,0,0) + (0,1,0,0,0,0) = (0,1,1,0,0,0)$$\n",
        "\n",
        "Note que as frases são diferentes porquê os vetores são diferente... \n",
        "\n",
        "A dimenssionalidade da frase implica diretamente na dimenssionalidade do vocabulario, pois a dimenssionalidade do vocabulário é no minimo igual ou menor que a da frases e isso pode ser um problema computacionalmente.\n",
        "\n",
        "> Um simples tweets de 240 caracteres pode gerar um vetor de ordem $(1,240)$.\n",
        "\n",
        "Ai surge uma outra forma de tentar expressar frases através de vetores, visando evitar esse problema de matrizes e vetores esparsos. \n",
        "\n"
      ],
      "id": "ITO-_9_gAzd5"
    },
    {
      "cell_type": "markdown",
      "metadata": {
        "id": "OL0ZYF5grN8F"
      },
      "source": [
        "## Word2vec \n",
        "\n",
        "Suponha que temos as palavras:\n",
        "\n",
        "> Itália, Rússia, Ferrari, China, Peugeot, França\n",
        "\n",
        "e precisamos organiza-las. Como isso pode ser feito? Poderiamos tentar organizar em dois grupos *carros* e *países* e tentar dispor em um plano cartesiano, onde o eixo X indica se é um carro ou não, e o eixo Y se é um paíse ou não. É basicamente isso o que é feito em uma tecnica de one-hot-encoding, dispor cada variável em um vetor independente. Mas e se primeiro colocassemos os dados e depois ajustamos o plano?\n",
        "\n",
        "Eu faria desta forma, colocaria os dados das marcas de carro na parte superior direita e os paises na inferior esquerda:\n",
        "\n",
        "<img src='https://raw.githubusercontent.com/ConradBitt/processamento_linguagem_natural/master/images/clusters.png' width=80%>\n",
        "\n",
        "Além disso, note que os paises asiáticos estão mais próximos da origem do plano e os paises europeus em um pouco distante. O mesmo acontece com os veículos, a marca itaiana esta acima da francesa, seguindo o padrão do grupo anterior.\n",
        "\n",
        "Desta forma conseguimos representar informações em um plano carteziano, apesar de varias informações diferentes, este problema tem apenas **dois graus de liberdade $(x,y)$**, esse é o conceito fundamental do word2vec.\n",
        "\n",
        "Vamos supor que temos a seguinte frase:\n",
        "\n",
        "> **Eu moro na _____, um país lindo**\n",
        "\n",
        "As possíeis soluções são: *Rússia, China, Italia, França ou qualquer outro país*. Mas como sabemos disso? Bom, sabemos das possíveis soluções porque durante anos, estudamos geografia, assistimos filmes, consumimos livros, e várias outras fontes de informações que possibilitam estimar que a possivel solução é um país\n",
        "\n",
        "Outra frase seria:\n",
        "\n",
        "> **Eu dirijo um(a) _____ azul**\n",
        "\n",
        "As possíveis soluções são *Ferrari, Peugeot, Jeep, Ford ou quaqluer automóvel* e a forma de solucionar é a mesma, sabemos o contexto da pergunta e por isso estimamos possíveis soluções. A grande questão é: **Como ensiar o contexto pra uma máquina?**"
      ],
      "id": "OL0ZYF5grN8F"
    },
    {
      "cell_type": "markdown",
      "metadata": {
        "id": "CaBXSV1rzCQE"
      },
      "source": [
        "# Como ensinar contexto?\n",
        "\n",
        "Assim como uma criança um computador não sabe o que é contexto. A crianças aprendem muito mais repetindo ações dos adultos do que por si só e para ensinar contexto para a maquina precisamos mostrar o que é um contexto e isso é feito através de dados.\n",
        "\n",
        "> Não são um, nem duas amostras. Para ensinar um contexto é necessário dezenas de milhares de amostras, assim como acontece com crianças apesar de nem percebemos que fornecemos este tanto de informação à elas.\n",
        "\n",
        "Já que conseguimos transformar frases em vetores densos podemos usar todo o aparato da álgebra vetorial para resolver esse problema. Note que no problema de estimar uma solução de:\n",
        "\n",
        " >**moro _____ país**\n",
        "\n",
        " As possíveis soluções são varios paises, note que pra um mesmo vetor de contextos existem varios outros vetores que solucionam o problema. \n",
        " \n",
        "> Esta tecnica de tentar estimar uma palavra através de um contexto se chama **CBOW** (*Continous Bag Of Words*). Outra tecnica se chama **Skip Gram** e consiste em estimar o contexto através da palavra.\n",
        "\n",
        "O artigo desses modelos foi escrito por Tomas Mikolov, Kai Chen, Greg Corrado, Jeffrey Dean, do Google, sob o título de [Efficient Estimation of Word Representations inVector Space](https://arxiv.org/pdf/1301.3781.pdf). A principal diferença entre CBOW e SkipGram é que, através do SkipGram o volume de dados é menor e este algorítmo é capaz de gerar vetores que contextualizam melhor a frase, em contra partida o CBOW tem um processo de treinamento mais rápido."
      ],
      "id": "CaBXSV1rzCQE"
    },
    {
      "cell_type": "markdown",
      "metadata": {
        "id": "SjmFnt0Nx1rG"
      },
      "source": [
        "# Resumo de como funciona o Word2vec\n",
        "\n",
        "Como já foi motrado anteriormente o word2vec é diferente do one-hot-encoding por conseguir representar uma frase através de um vetor num espaço vetorial de dimensão fixa, por exemplo, ordem $10, 100, 200, 300,$ etc.\n",
        "\n",
        "Não vamos treinar necessariamente uma rede word2vec, vamos utilizar um modelo treinado do NILC ([núcleo institucional de linguistica computacional](http://www.nilc.icmc.usp.br/nilc/index.php)), laboratório da USP. O NILC tem um repositório só para word embeddings \n",
        "\n",
        "> http://nilc.icmc.usp.br/nilc/index.php/repositorio-de-word-embeddings-do-nilc\n",
        "\n",
        "Apesar de já ser um modelo pré treinado ainda sim é necessario um volume bem grande de dados. O NILC já fornece vetores de palavras pre treinados, o que vou utilizar aqui é ``CBOW_s300``, basicamente um um CBOW com vetores de ordem $300$.\n",
        "\n",
        "Temos as CBOW's no arquivo ``cbow_s300.txt`` na raiz da maquina virtual do colab. vamos visualizar as 5 primeiras linhas deste arquivo:\n",
        "\n",
        "\n"
      ],
      "id": "SjmFnt0Nx1rG"
    },
    {
      "cell_type": "code",
      "metadata": {
        "colab": {
          "base_uri": "https://localhost:8080/"
        },
        "id": "LcluYZksaCZk",
        "outputId": "2e4dc876-62e1-4a99-84b1-3860f238c84b"
      },
      "source": [
        "with open('cbow_s300.txt') as f: \n",
        "  for linha in range(5):\n",
        "    print(next(f))"
      ],
      "id": "LcluYZksaCZk",
      "execution_count": 16,
      "outputs": [
        {
          "output_type": "stream",
          "text": [
            "929606 300\n",
            "\n",
            "</s> -0.001667 -0.000158 -0.000026 0.001300 -0.000796 0.001527 0.000046 0.000584 0.000449 -0.000100 0.000353 0.001251 0.001069 0.000506 0.000574 0.000838 -0.000930 -0.001220 0.000317 0.001315 -0.001120 0.001373 -0.000040 -0.001580 0.000421 -0.000667 -0.001556 -0.000746 0.001604 0.001157 -0.000027 0.000354 0.000358 -0.000527 -0.000573 -0.001512 -0.001557 -0.001637 0.001617 -0.001511 -0.001022 -0.001426 0.001086 -0.001033 0.000593 0.000724 0.000627 -0.000450 -0.001140 0.000333 0.000524 0.001541 0.000284 0.000617 -0.000807 -0.000088 -0.000364 0.001126 -0.001230 -0.001138 -0.001280 0.001330 0.001257 0.000576 0.000764 0.000684 0.001008 -0.000215 -0.000629 -0.001228 -0.001557 -0.000311 -0.000246 0.000045 0.001136 -0.000645 -0.000549 0.001099 0.000858 -0.000886 0.000553 0.000303 0.001433 0.000732 0.001321 -0.000894 -0.000700 -0.000661 -0.001484 -0.000950 -0.001556 -0.000809 0.000348 -0.000068 0.000724 -0.000569 -0.000161 -0.001628 -0.001437 -0.000259 -0.000296 -0.001571 0.000149 0.000847 0.000613 0.000802 0.001507 0.001015 0.000377 0.000255 -0.000458 -0.000777 -0.001561 0.001601 -0.001520 -0.001210 0.000106 0.000714 0.000392 0.001311 -0.001192 -0.000090 -0.001097 0.000424 -0.000954 -0.001272 -0.001178 0.000036 -0.000181 0.000331 -0.001453 -0.001488 -0.001033 -0.000377 0.000257 -0.001418 0.001109 0.000722 0.000936 -0.000113 0.001215 -0.000263 0.000652 0.001190 -0.000258 0.001391 0.001213 0.000783 -0.001202 0.000470 -0.000879 0.000688 -0.001163 -0.001105 0.001497 0.001304 -0.001322 -0.001501 0.001377 0.001439 0.000884 0.000484 0.001239 -0.001578 0.000981 -0.000318 -0.001180 -0.001375 -0.001491 0.001057 -0.001028 0.000893 0.001028 0.000772 0.001636 -0.000331 -0.000247 -0.001006 -0.000329 0.000837 0.000605 -0.000959 0.001410 0.000488 0.001167 -0.000293 -0.001188 -0.000001 0.001135 0.001141 0.001504 0.000198 -0.001060 0.001551 -0.000003 -0.001474 -0.000391 -0.000880 0.000433 -0.000976 -0.001417 0.000563 -0.001188 0.000593 0.001584 -0.001602 -0.000439 -0.001148 -0.001256 0.001185 -0.000738 0.001543 -0.000846 -0.001029 -0.000641 -0.001587 0.001439 -0.001251 0.000942 -0.001414 -0.001106 0.001087 -0.000027 0.000757 -0.000159 -0.001014 -0.000891 0.000024 -0.000238 0.000157 -0.001067 0.000902 -0.001050 -0.000428 -0.001606 -0.000988 0.001391 0.001165 -0.000113 -0.001000 -0.000055 -0.001369 0.000684 0.000715 0.001407 0.000613 0.001389 0.001315 -0.000130 -0.001044 0.000175 -0.000035 0.000959 -0.000345 0.001209 -0.001251 -0.001219 0.001231 -0.000996 -0.001388 0.001038 0.001336 -0.001066 -0.000881 -0.001066 -0.001466 -0.000274 0.000201 0.000401 0.000132 0.000588 0.000589 -0.000128 0.001073 0.001197 0.000109 0.000770 0.001221 0.000996 -0.001174 0.000135 -0.001134 -0.001385 -0.000311 -0.001631 -0.000564 0.001162 -0.000322 -0.000469 0.001312 -0.001402 0.000239 0.000184 0.001300 0.000021 -0.001065 0.000047 -0.000301 0.001336 0.000332\n",
            "\n",
            ", -0.061483 -0.094368 -0.008557 -0.034702 0.021108 -0.011873 -0.041133 -0.095925 0.034668 -0.085286 0.076174 0.003314 0.019222 -0.038695 -0.008963 0.053399 0.162935 0.050372 -0.020163 -0.027230 0.061531 0.060840 0.074610 -0.056173 0.007621 -0.055220 0.018008 0.026096 0.033154 -0.082612 -0.081761 0.164978 -0.034423 0.003094 -0.018217 -0.087445 -0.074446 -0.000142 0.004218 0.036585 0.016095 -0.129141 -0.119698 -0.053717 0.005053 -0.114520 -0.017219 0.023693 -0.024115 0.053125 0.024658 -0.037689 0.012078 0.112701 0.028037 0.047618 -0.024196 0.050112 -0.073095 -0.090859 -0.030613 -0.109599 0.037756 0.063827 0.022537 -0.029640 -0.016311 0.021875 0.064882 0.039002 -0.082970 -0.043166 0.013695 -0.043153 -0.082203 -0.020087 -0.100360 0.007033 -0.074208 -0.067789 -0.024897 -0.020358 0.041731 0.101332 0.020217 -0.032473 0.087827 -0.033611 -0.150526 -0.016615 0.021147 -0.025058 0.097833 0.065067 0.051287 -0.079191 0.089563 -0.008436 -0.038352 0.019787 -0.058452 -0.009696 -0.051077 -0.112245 0.024886 -0.015172 -0.129670 0.068672 0.068483 0.009049 0.007055 -0.032763 0.001527 0.054264 0.029924 -0.023482 0.047470 0.008044 0.014534 0.071155 0.016700 -0.027491 -0.155782 0.039370 0.116605 -0.001262 -0.026638 -0.067078 0.078015 -0.066153 -0.039303 0.009535 -0.055698 -0.022250 0.046948 0.053810 0.038096 0.032157 -0.075257 0.008125 -0.034598 -0.020667 -0.003153 0.032491 -0.031064 0.030744 -0.049023 -0.046149 0.000792 0.010385 -0.057119 -0.122554 0.003210 -0.054363 -0.100899 0.069873 -0.009758 0.055455 0.049243 0.008346 -0.016087 0.093572 0.024125 0.058736 0.037243 -0.007478 0.032175 -0.054205 0.008798 0.032326 0.028384 -0.032259 -0.041842 -0.058281 -0.025145 0.011097 0.023598 -0.033376 0.026204 0.032505 -0.009283 0.041076 0.055565 -0.081757 -0.010077 0.058251 -0.014379 -0.040951 0.006938 -0.004179 0.052006 -0.063725 0.035674 -0.066554 0.030910 -0.004032 0.077445 0.029495 -0.064931 0.040263 -0.055423 -0.021571 0.086767 -0.003583 0.073308 -0.043991 0.022503 -0.028692 -0.063626 -0.048238 0.013439 -0.043673 -0.101352 -0.004321 0.125507 0.088486 0.042756 -0.014497 -0.053445 0.021800 0.038406 -0.034023 -0.074428 -0.132825 0.082152 -0.068497 0.004738 0.047527 -0.073890 0.051089 -0.055886 -0.047786 0.040247 -0.053966 -0.015752 0.099451 0.008218 -0.010716 -0.031540 0.036168 0.054244 0.051809 0.035158 0.043006 -0.027902 0.000130 0.103397 -0.114831 -0.036648 -0.036143 0.024432 0.084740 0.001801 0.044475 -0.035746 -0.024109 0.051210 -0.025769 0.016073 -0.000351 -0.029183 -0.075292 0.042163 0.025010 -0.041439 -0.059192 0.026617 -0.040852 0.034697 0.014691 -0.057382 0.046141 0.070360 0.045274 0.065880 0.011023 -0.031292 -0.015784 -0.023421 -0.042788 0.019669 0.035010 0.036188 -0.058060 -0.093562 0.030321 -0.054753 0.097162 0.001134 0.018939 -0.150218 -0.009928 0.051118 0.105212 -0.055051 -0.047959 -0.136800 -0.003198 0.068969 -0.022456\n",
            "\n",
            "de -0.232068 0.066729 0.103946 -0.072608 0.126237 -0.004782 -0.025139 -0.141489 -0.069438 -0.071078 0.175772 -0.017257 0.094824 0.011020 0.029226 -0.010670 0.144973 0.105333 -0.088273 -0.070952 0.054747 -0.048955 -0.047809 -0.030763 -0.052293 -0.003596 0.078465 0.144430 0.129697 -0.078427 -0.025080 0.212887 0.119806 0.101703 -0.142488 -0.031272 -0.026594 -0.109429 -0.154688 -0.121492 -0.103781 -0.177948 -0.125544 -0.120136 0.031658 0.054160 0.060493 -0.115676 0.132511 -0.001668 -0.125569 -0.124120 0.029025 0.006200 -0.007915 0.058489 0.122710 0.004660 -0.082200 0.123740 0.052747 -0.065657 0.154747 0.155071 0.003547 -0.154675 -0.035110 0.119117 0.080579 0.044262 0.048753 0.054975 -0.064624 -0.046866 0.028242 0.144197 0.029916 -0.024569 0.195781 -0.028608 -0.008233 -0.032542 0.012042 0.011934 -0.068173 0.037028 0.018363 -0.038244 -0.091176 -0.019795 0.051640 -0.008025 -0.025825 -0.001686 -0.069845 -0.039987 0.066244 0.088229 -0.171358 -0.030783 0.082344 0.059267 0.000550 -0.216285 -0.201356 -0.131063 -0.033069 -0.057126 -0.127576 -0.099251 -0.044669 0.035363 -0.119503 -0.090019 -0.006226 -0.000546 0.020731 0.016140 -0.007438 0.032885 -0.161048 0.105681 -0.115705 -0.078013 0.102293 -0.107958 -0.025926 -0.067986 0.017502 -0.054865 -0.007930 -0.006999 -0.000949 -0.026097 0.106295 0.115368 -0.033742 -0.046025 0.009641 -0.065890 0.198822 0.078333 0.062547 0.044947 -0.098424 0.140951 0.109045 -0.004204 -0.174950 0.034234 0.040793 -0.210289 0.104861 0.083616 -0.042511 -0.031439 -0.113108 0.000401 -0.171665 0.097890 0.008065 0.080684 -0.009576 -0.042125 0.177337 -0.005585 -0.004165 0.069755 -0.100323 -0.023289 0.039458 -0.089292 0.069543 -0.009576 0.011562 -0.076654 0.009681 -0.018808 -0.047881 0.026709 -0.021200 -0.032544 0.100362 0.037157 0.005169 -0.001280 -0.064330 -0.049024 -0.002354 0.004443 0.049129 0.026813 0.034249 0.068827 -0.038583 -0.116914 -0.107378 0.046983 0.038218 -0.082186 -0.124208 0.066872 -0.081745 -0.016516 0.016110 0.046844 0.176223 0.083604 -0.086893 -0.114739 -0.159588 0.007700 0.004887 0.006024 -0.020026 0.045816 0.033604 0.054474 0.089348 -0.024353 0.104835 0.084334 0.052662 -0.041422 -0.027877 0.002816 0.150068 -0.052310 0.017154 -0.152326 0.067753 -0.082644 0.119430 -0.012345 0.082965 -0.005791 -0.082770 -0.030068 -0.037331 -0.075347 0.035060 -0.092023 -0.001051 0.012675 0.128757 -0.048579 -0.078527 -0.134126 -0.060009 0.096834 -0.045947 0.132404 -0.030576 -0.006618 -0.088179 -0.124597 -0.095311 -0.086943 0.007010 0.059925 -0.077005 -0.035458 -0.017957 0.081104 0.060141 0.152996 0.083737 -0.025909 0.005420 -0.006300 -0.075839 -0.012399 -0.001624 0.039090 -0.040755 -0.013051 -0.072733 -0.048062 -0.082573 -0.013851 -0.120222 0.011452 -0.083538 0.015996 -0.110800 0.012405 0.045823 0.026705 -0.040789 0.064309 0.007381 -0.037854 0.076050 0.104702 0.010307 -0.103478 0.085227 0.064233 -0.015908 -0.047998\n",
            "\n",
            ". 0.027867 0.077901 -0.054738 -0.095938 -0.010536 0.015269 -0.005752 -0.048440 -0.104021 0.054583 0.050108 0.054979 0.071112 -0.056665 -0.140868 0.203626 0.211330 0.137270 -0.038069 -0.108607 0.060027 0.052436 0.126758 -0.078212 0.008864 -0.028087 0.029884 0.114899 -0.058657 -0.166441 -0.188866 0.294844 -0.147703 -0.095883 -0.104021 -0.097608 -0.172317 0.035795 -0.019025 0.057503 -0.030564 -0.125182 -0.257359 -0.106566 -0.002708 -0.035769 -0.072053 -0.005640 0.016920 0.155101 -0.226088 -0.070904 -0.110280 -0.075773 -0.190123 0.197397 -0.108603 0.155954 0.096544 -0.183301 0.008154 -0.195997 0.035284 -0.025561 0.159142 -0.141005 0.140643 -0.160588 0.140709 0.059974 -0.012396 -0.074953 -0.038325 -0.165941 -0.226005 -0.043738 0.052905 0.085072 -0.165731 0.016894 -0.136569 0.088165 -0.032044 0.022789 0.051207 0.015907 0.093662 0.037576 -0.286139 -0.107587 0.165001 0.095293 0.181427 0.038072 0.078180 -0.116599 0.138464 0.138386 0.020201 -0.028087 0.038829 -0.040074 -0.044944 -0.179895 0.035044 0.090347 -0.036088 0.154828 0.090421 0.172175 -0.127294 0.060227 0.164694 0.141367 0.049326 -0.136940 0.060633 -0.089581 -0.069639 0.043680 0.141455 -0.060588 -0.118859 0.181506 -0.051302 0.165763 0.151366 -0.191232 -0.103888 -0.077344 -0.016534 0.073607 -0.008464 0.216368 0.038251 0.002552 -0.112613 -0.049596 0.018040 -0.032907 -0.131335 -0.049530 0.057485 0.129446 -0.017884 0.075667 -0.061577 -0.015305 0.007649 0.116636 -0.132568 -0.244250 -0.048748 0.003139 -0.123311 0.018462 0.126955 0.079116 -0.067653 0.019126 0.044182 0.037610 0.199809 -0.118487 0.011276 -0.061652 -0.034426 -0.120148 -0.171490 0.009182 0.182921 -0.165212 0.149898 0.062080 -0.129040 0.051808 -0.075070 -0.068688 0.018707 -0.008050 0.108429 -0.111089 0.021230 -0.125982 0.077740 0.140251 -0.051900 0.036107 0.019580 -0.084050 0.065747 0.015718 -0.016900 -0.026964 0.126565 -0.087491 0.069504 0.108362 -0.006355 0.118521 -0.002510 0.060457 0.082848 0.000294 -0.037938 -0.026097 0.084446 0.015568 -0.050540 -0.117080 0.100227 -0.046050 -0.059615 0.086632 0.097266 0.084578 -0.036891 -0.033246 0.021302 -0.149581 -0.006353 -0.035713 -0.177163 -0.016629 -0.028634 -0.147015 -0.017861 0.009931 -0.181849 0.065564 -0.007616 0.094861 0.089787 0.005743 -0.127185 0.093027 -0.107247 -0.019161 -0.201082 -0.008504 0.126500 0.034318 0.011876 0.012696 -0.090981 0.012814 0.038388 -0.274763 -0.123303 -0.073078 0.027702 0.035841 -0.080954 0.091305 0.029009 -0.006000 0.121087 0.016678 -0.070181 -0.080839 -0.016332 -0.081390 -0.059594 0.131390 0.039603 -0.222503 -0.039382 -0.071041 0.267399 -0.010011 -0.077326 -0.044107 0.052901 0.023623 -0.087243 0.011539 -0.006381 -0.074194 -0.041591 -0.061872 -0.098552 -0.094357 -0.062879 -0.150341 -0.087596 0.330078 0.028435 0.087784 0.034434 -0.008122 -0.258485 -0.109828 0.013279 0.043340 0.136803 -0.081573 -0.136733 -0.081884 0.306241 0.093106\n",
            "\n"
          ],
          "name": "stdout"
        }
      ]
    },
    {
      "cell_type": "markdown",
      "metadata": {
        "id": "Vqmx3b8YbfXY"
      },
      "source": [
        "As cinco primeiras linhas do arquivo são expressas em chave-valor, onde a chave é o caracter/palavra e o valor é a sua representação num espaço vetorial de ordem $300$, note que a primeira representação é fakechar ``</s>`` usado pra criar *ngrams*. Esses dados estão em formato texto, precisamos transforma-los em vetores. "
      ],
      "id": "Vqmx3b8YbfXY"
    },
    {
      "cell_type": "markdown",
      "metadata": {
        "id": "rbe_XYGtT8Ma"
      },
      "source": [
        "## Modelos do NILC \n",
        "\n",
        "### Como Utilizar\n",
        "Os modelos do NILC estão corrigidos para serem carregados somente utilizando o ``KeyedVectors`` do ``gensim``. Além disso, todas as embeddings estão sendo carregadas como unicode.\n",
        "\n",
        "Para executar os modelos e utilizar os vetores pré-treinados, siga os passos abaixo.\n",
        "\n",
        "### Instalar\n",
        "```python\n",
        "pip install gensim==2.0.0\n",
        "```\n",
        "### Rodar\n",
        "```python\n",
        "from gensim.models import KeyedVectors\n",
        "model = KeyedVectors.load_word2vec_format(‘model.txt’)\n",
        "```\n"
      ],
      "id": "rbe_XYGtT8Ma"
    },
    {
      "cell_type": "code",
      "metadata": {
        "colab": {
          "base_uri": "https://localhost:8080/",
          "height": 35
        },
        "id": "ERlZTky_qTTp",
        "outputId": "a3b110b9-f9aa-4191-d137-bf5c796a95a0"
      },
      "source": [
        "import gensim\n",
        "\n",
        "gensim.__version__"
      ],
      "id": "ERlZTky_qTTp",
      "execution_count": 17,
      "outputs": [
        {
          "output_type": "execute_result",
          "data": {
            "application/vnd.google.colaboratory.intrinsic+json": {
              "type": "string"
            },
            "text/plain": [
              "'3.6.0'"
            ]
          },
          "metadata": {
            "tags": []
          },
          "execution_count": 17
        }
      ]
    },
    {
      "cell_type": "markdown",
      "metadata": {
        "id": "9iNfE1vNco1J"
      },
      "source": [
        "vamos usar esta versão mesmo."
      ],
      "id": "9iNfE1vNco1J"
    },
    {
      "cell_type": "code",
      "metadata": {
        "id": "LNjbJMG4TRQq"
      },
      "source": [
        "from gensim.models import KeyedVectors"
      ],
      "id": "LNjbJMG4TRQq",
      "execution_count": 18,
      "outputs": []
    },
    {
      "cell_type": "markdown",
      "metadata": {
        "id": "dVXmin3khgeD"
      },
      "source": [
        "### Modelo treinado\n",
        "\n",
        "<font color='red'><b>Lembrando: Os dados do NILC tem mais de um milhão de amostras, portanto ao executar esta célula pode levar algum tempo.</b></font>"
      ],
      "id": "dVXmin3khgeD"
    },
    {
      "cell_type": "code",
      "metadata": {
        "id": "poBTeWz-UIXg"
      },
      "source": [
        "modelo = KeyedVectors.load_word2vec_format('cbow_s300.txt')"
      ],
      "id": "poBTeWz-UIXg",
      "execution_count": 19,
      "outputs": []
    },
    {
      "cell_type": "markdown",
      "metadata": {
        "id": "vIItTQCTdD1A"
      },
      "source": [
        "Com o modelo treinado podemos analisar o vetor de algumas palavras que ele contem: "
      ],
      "id": "vIItTQCTdD1A"
    },
    {
      "cell_type": "code",
      "metadata": {
        "colab": {
          "base_uri": "https://localhost:8080/"
        },
        "id": "XJXzPuMjc-Kv",
        "outputId": "4128fdd9-7924-42ec-9f47-a6a379ad0c45"
      },
      "source": [
        "modelo.get_vector('china')"
      ],
      "id": "XJXzPuMjc-Kv",
      "execution_count": 20,
      "outputs": [
        {
          "output_type": "execute_result",
          "data": {
            "text/plain": [
              "array([-1.49033e-01,  1.26020e-01,  2.17628e-01,  1.82684e-01,\n",
              "        1.65151e-01, -1.59660e-01, -2.34411e-01,  6.00570e-02,\n",
              "        8.03680e-02,  2.87578e-01, -4.81100e-03, -5.68800e-02,\n",
              "        2.15676e-01,  8.65540e-02,  1.25983e-01,  3.36157e-01,\n",
              "       -1.83254e-01, -1.18499e-01,  1.13010e-02,  1.03814e-01,\n",
              "        9.37640e-02,  2.90178e-01, -1.64395e-01, -1.13300e-02,\n",
              "       -1.80676e-01, -1.15820e-02,  1.08728e-01,  1.65898e-01,\n",
              "        9.37900e-02,  2.66767e-01, -1.29890e-02,  9.16030e-02,\n",
              "        2.21292e-01, -1.36497e-01, -4.26350e-02, -1.30038e-01,\n",
              "        2.17067e-01, -1.01963e-01, -3.70960e-02,  1.42155e-01,\n",
              "        3.41109e-01,  2.46560e-01,  1.27458e-01,  5.72360e-02,\n",
              "       -1.47962e-01, -1.60290e-02,  1.86533e-01,  7.71550e-02,\n",
              "       -3.50024e-01, -4.06085e-01,  1.67131e-01, -4.75230e-02,\n",
              "        5.13780e-02, -1.28224e-01,  1.06580e-02, -2.92652e-01,\n",
              "        1.40540e-01, -4.57049e-01,  1.31094e-01,  2.03234e-01,\n",
              "        2.94019e-01,  7.38370e-02,  1.11554e-01, -1.64204e-01,\n",
              "       -3.62020e-02,  1.29522e-01, -1.28321e-01,  1.37502e-01,\n",
              "       -7.99200e-03, -5.07100e-03, -2.86010e-02, -8.99040e-02,\n",
              "        8.82800e-03, -8.27730e-02,  6.91940e-02, -2.70182e-01,\n",
              "        5.47610e-02, -3.06060e-02,  6.89880e-02,  2.38759e-01,\n",
              "       -1.41775e-01,  2.34763e-01, -2.23853e-01, -2.84994e-01,\n",
              "        2.53245e-01,  6.77170e-02, -4.39663e-01, -7.00270e-02,\n",
              "        6.39150e-02, -9.67100e-02, -2.18950e-01, -5.77910e-02,\n",
              "       -1.82689e-01, -3.32202e-01, -7.83070e-02,  7.74620e-02,\n",
              "        8.82920e-02, -4.83618e-01, -1.77812e-01,  5.64040e-02,\n",
              "        1.50339e-01,  8.73000e-02, -1.03121e-01,  1.62065e-01,\n",
              "        4.57940e-02,  9.73590e-02,  1.67230e-02,  3.00791e-01,\n",
              "       -6.49640e-02, -1.95840e-01, -4.33790e-02, -9.46810e-02,\n",
              "        3.73222e-01, -1.65359e-01,  5.58780e-02,  1.72660e-02,\n",
              "       -3.16048e-01,  9.24430e-02, -6.84540e-02, -3.57085e-01,\n",
              "       -1.69469e-01, -1.14090e-01,  9.47230e-02,  3.14999e-01,\n",
              "        2.12717e-01, -2.21540e-02,  1.76870e-02,  1.58473e-01,\n",
              "       -1.39150e-02,  1.23610e-02, -4.13190e-02, -1.47159e-01,\n",
              "       -1.00070e-02,  3.41884e-01,  1.16999e-01, -5.01590e-02,\n",
              "        7.88740e-02,  6.27940e-02,  2.73643e-01,  1.46823e-01,\n",
              "       -1.68857e-01, -1.00014e-01, -5.41060e-02, -3.06130e-02,\n",
              "       -8.85920e-02, -6.19840e-02,  1.21595e-01,  1.13775e-01,\n",
              "        3.97190e-02, -8.54000e-03,  1.05670e-02,  1.12375e-01,\n",
              "        9.70000e-02,  9.05850e-02,  1.25026e-01, -2.92209e-01,\n",
              "        6.81330e-02,  4.06070e-02,  1.33042e-01, -9.77780e-02,\n",
              "       -3.26378e-01,  9.71420e-02, -5.13600e-02,  2.01450e-02,\n",
              "        1.20182e-01, -2.14210e-02, -1.30884e-01,  9.52800e-02,\n",
              "       -5.65320e-02, -8.35370e-02, -2.53035e-01,  9.18650e-02,\n",
              "        7.89190e-02, -6.30710e-02, -1.64057e-01,  8.31660e-02,\n",
              "        1.42698e-01, -2.77053e-01,  7.05810e-02, -1.37800e-02,\n",
              "       -2.74883e-01,  3.02011e-01, -8.34330e-02, -1.14381e-01,\n",
              "       -2.88826e-01,  9.03960e-02,  1.94704e-01, -1.57261e-01,\n",
              "       -2.58910e-02,  1.41321e-01, -1.67231e-01, -2.91540e-02,\n",
              "        8.03650e-02,  1.27378e-01, -1.48120e-01,  2.83291e-01,\n",
              "       -2.65930e-02,  2.15319e-01,  3.35030e-02,  6.47140e-02,\n",
              "        4.20010e-02, -3.85537e-01, -2.67068e-01, -2.77017e-01,\n",
              "       -1.82289e-01, -1.18735e-01, -2.51480e-01, -1.83783e-01,\n",
              "       -2.12362e-01,  2.50214e-01,  3.96240e-02,  2.64830e-02,\n",
              "        1.30810e-01, -1.38478e-01, -1.63040e-02, -2.55850e-02,\n",
              "        2.35141e-01, -8.80540e-02, -9.40650e-02,  1.31790e-01,\n",
              "       -8.33330e-02, -2.40020e-02, -3.38183e-01,  8.10370e-02,\n",
              "       -1.68933e-01,  1.92200e-03,  9.34870e-02,  6.58130e-02,\n",
              "       -1.11925e-01,  1.83907e-01, -6.54900e-03,  4.27730e-02,\n",
              "        3.71566e-01, -3.08570e-02,  1.99647e-01,  1.25516e-01,\n",
              "        1.38471e-01, -9.17400e-02, -2.27814e-01,  8.27690e-02,\n",
              "       -2.94581e-01,  9.56830e-02, -3.48070e-01,  1.02342e-01,\n",
              "       -8.05350e-02,  2.34290e-02, -4.19860e-02,  2.44763e-01,\n",
              "        2.37160e-02, -2.23548e-01, -9.26800e-03, -4.33650e-02,\n",
              "       -1.12413e-01, -4.19178e-01,  1.81267e-01,  1.03648e-01,\n",
              "        2.74945e-01, -9.23560e-02, -4.63300e-02, -2.06314e-01,\n",
              "        4.81410e-02,  2.64603e-01, -1.17113e-01,  1.80097e-01,\n",
              "        5.54220e-02, -1.27460e-01, -1.60328e-01,  1.02289e-01,\n",
              "        4.09530e-02,  1.25305e-01,  1.53398e-01, -2.36950e-02,\n",
              "        2.33967e-01,  2.30250e-02, -1.40227e-01,  3.16349e-01,\n",
              "       -1.99592e-01,  1.25398e-01,  2.72858e-01,  1.09793e-01,\n",
              "       -1.64379e-01,  8.63630e-02,  1.97445e-01, -2.18180e-02,\n",
              "       -1.49784e-01, -3.34461e-01, -4.61000e-04,  1.92640e-02,\n",
              "        2.11149e-01, -2.93349e-01,  5.90160e-02,  1.25044e-01,\n",
              "        7.75570e-02, -2.82863e-01, -3.38890e-02, -9.19950e-02,\n",
              "       -1.43850e-01,  1.45775e-01,  1.04246e-01, -2.60548e-01],\n",
              "      dtype=float32)"
            ]
          },
          "metadata": {
            "tags": []
          },
          "execution_count": 20
        }
      ]
    },
    {
      "cell_type": "markdown",
      "metadata": {
        "id": "wYqGCLuKhY7M"
      },
      "source": [
        "podemos ver a ordem deste vetor:\n"
      ],
      "id": "wYqGCLuKhY7M"
    },
    {
      "cell_type": "code",
      "metadata": {
        "colab": {
          "base_uri": "https://localhost:8080/"
        },
        "id": "zAKXt0uviAgf",
        "outputId": "1652bfd3-cf2a-470c-d048-d978cefc2555"
      },
      "source": [
        "modelo.get_vector('china').shape"
      ],
      "id": "zAKXt0uviAgf",
      "execution_count": 21,
      "outputs": [
        {
          "output_type": "execute_result",
          "data": {
            "text/plain": [
              "(300,)"
            ]
          },
          "metadata": {
            "tags": []
          },
          "execution_count": 21
        }
      ]
    },
    {
      "cell_type": "markdown",
      "metadata": {
        "id": "k8km5tKJiBId"
      },
      "source": [
        "o vetor tem ordem 300, como já era de se esperar. "
      ],
      "id": "k8km5tKJiBId"
    },
    {
      "cell_type": "markdown",
      "metadata": {
        "id": "agNK28HdiL-u"
      },
      "source": [
        "### Contexto\n",
        "\n",
        " Dado que conseguimos obter o vetor das palavras, como fazemos para analisar se duas palavras estão proximas? Bom, da geometria analítica podemos calcular a distância entre pontos... Entretanto vetores não fazem muito sentido para nós, então vamos pedir para o modelo retornar os dados mais similares à palavra china:"
      ],
      "id": "agNK28HdiL-u"
    },
    {
      "cell_type": "code",
      "metadata": {
        "colab": {
          "base_uri": "https://localhost:8080/"
        },
        "id": "v6EEneJziaiW",
        "outputId": "f05be0f1-f75a-4573-bd07-2d96405be58c"
      },
      "source": [
        "modelo.most_similar('china')"
      ],
      "id": "v6EEneJziaiW",
      "execution_count": 22,
      "outputs": [
        {
          "output_type": "execute_result",
          "data": {
            "text/plain": [
              "[('rússia', 0.7320704460144043),\n",
              " ('índia', 0.7241617441177368),\n",
              " ('tailândia', 0.701935887336731),\n",
              " ('indonésia', 0.6860769987106323),\n",
              " ('turquia', 0.6741335988044739),\n",
              " ('malásia', 0.6665689945220947),\n",
              " ('mongólia', 0.6593616008758545),\n",
              " ('manchúria', 0.6581847667694092),\n",
              " ('urss', 0.6581669449806213),\n",
              " ('grã-bretanha', 0.6568098068237305)]"
            ]
          },
          "metadata": {
            "tags": []
          },
          "execution_count": 22
        }
      ]
    },
    {
      "cell_type": "markdown",
      "metadata": {
        "id": "pU1kPBjWiqOD"
      },
      "source": [
        "perceba que todos são países! Além disso a ordem em que os países estão são similares à proximidade entre as nações. \n",
        "\n",
        "Vamos testar com a itália"
      ],
      "id": "pU1kPBjWiqOD"
    },
    {
      "cell_type": "code",
      "metadata": {
        "colab": {
          "base_uri": "https://localhost:8080/"
        },
        "id": "0BgYiRNWiyk3",
        "outputId": "117a0b1e-7b94-4481-d0e8-7dd80e970cd2"
      },
      "source": [
        "modelo.most_similar('itália')"
      ],
      "id": "0BgYiRNWiyk3",
      "execution_count": 23,
      "outputs": [
        {
          "output_type": "execute_result",
          "data": {
            "text/plain": [
              "[('frança', 0.7983609437942505),\n",
              " ('grécia', 0.7547340989112854),\n",
              " ('espanha', 0.7417078018188477),\n",
              " ('holanda', 0.7343162298202515),\n",
              " ('grã-bretanha', 0.7281740307807922),\n",
              " ('inglaterra', 0.7172061204910278),\n",
              " ('bélgica', 0.7155542373657227),\n",
              " ('alemanha', 0.7135661840438843),\n",
              " ('suécia', 0.6831519603729248),\n",
              " ('áustria', 0.6822685599327087)]"
            ]
          },
          "metadata": {
            "tags": []
          },
          "execution_count": 23
        }
      ]
    },
    {
      "cell_type": "markdown",
      "metadata": {
        "id": "5WrwVnMzjJfi"
      },
      "source": [
        "o resultado é similar, exceto pelo fato em que os países mais próximos são os europeus!\n",
        "\n",
        "Podemos testar com a palavra peugeot:"
      ],
      "id": "5WrwVnMzjJfi"
    },
    {
      "cell_type": "code",
      "metadata": {
        "colab": {
          "base_uri": "https://localhost:8080/"
        },
        "id": "0qFEEZpDjPe8",
        "outputId": "1745279f-d002-43a6-9b93-a6a80034effc"
      },
      "source": [
        "modelo.most_similar('peugeot')"
      ],
      "id": "0qFEEZpDjPe8",
      "execution_count": 24,
      "outputs": [
        {
          "output_type": "execute_result",
          "data": {
            "text/plain": [
              "[('porsche', 0.6261278390884399),\n",
              " ('fiat', 0.6126313209533691),\n",
              " ('mazda', 0.550723671913147),\n",
              " ('boeing', 0.5501567125320435),\n",
              " ('volvo', 0.5446159839630127),\n",
              " ('mercedes-benz', 0.5393132567405701),\n",
              " ('toyota', 0.5379929542541504),\n",
              " ('gtb', 0.5309687852859497),\n",
              " ('ferrari', 0.5242953300476074),\n",
              " ('honda', 0.5188493728637695)]"
            ]
          },
          "metadata": {
            "tags": []
          },
          "execution_count": 24
        }
      ]
    },
    {
      "cell_type": "markdown",
      "metadata": {
        "id": "34XlfJSvjdnA"
      },
      "source": [
        "Como estamos representando palavras num espaço vetorial, uma das operações que podemos fazer é somar palavras, ou compor duas delas. Por exemplo, quando usamos as palavras ``chile`` e ``argentina`` as palavras mais provaveis que estão neste grupo são espanhol, america, brasil, etc. Vamos verificar quais são as palavras mais próximas dos grupos ``brasil + argentina``"
      ],
      "id": "34XlfJSvjdnA"
    },
    {
      "cell_type": "code",
      "metadata": {
        "colab": {
          "base_uri": "https://localhost:8080/"
        },
        "id": "siAKD83Do-TV",
        "outputId": "4c4c517c-8300-4873-f9b5-5a0dcae603e7"
      },
      "source": [
        "modelo.most_similar(positive=['brasil','argentina'])"
      ],
      "id": "siAKD83Do-TV",
      "execution_count": 25,
      "outputs": [
        {
          "output_type": "execute_result",
          "data": {
            "text/plain": [
              "[('chile', 0.6781662702560425),\n",
              " ('peru', 0.6348033547401428),\n",
              " ('venezuela', 0.6273865103721619),\n",
              " ('equador', 0.6037014722824097),\n",
              " ('bolívia', 0.6017140746116638),\n",
              " ('haiti', 0.5993807315826416),\n",
              " ('méxico', 0.5962306261062622),\n",
              " ('paraguai', 0.5957703590393066),\n",
              " ('uruguai', 0.5903672575950623),\n",
              " ('japão', 0.5893509984016418)]"
            ]
          },
          "metadata": {
            "tags": []
          },
          "execution_count": 25
        }
      ]
    },
    {
      "cell_type": "markdown",
      "metadata": {
        "id": "crwuysT7pYaf"
      },
      "source": [
        "### Plural\n",
        "\n",
        "Um ponto interessante do word2vec é que em tese é possível identificar o plural de algumas palavras, por exemplo, digamos que temos a palavra *NUVEM* o plural é *NUVENS*, ou até mesmo *ESTRELA* o plural é *ESTRELAS*. De certa forma deveria ser possível realizar algumas operações do tipo \n",
        "\n",
        "> $\\text{NUVENS + ESTRELA - NUVEM = ESTRELAS}$"
      ],
      "id": "crwuysT7pYaf"
    },
    {
      "cell_type": "code",
      "metadata": {
        "colab": {
          "base_uri": "https://localhost:8080/"
        },
        "id": "DcEa_skxwkms",
        "outputId": "024901e4-3369-492f-9085-c4fe6d032f5a"
      },
      "source": [
        "modelo.most_similar(positive=['nuvens','estrela'], negative=['nuvem'])"
      ],
      "id": "DcEa_skxwkms",
      "execution_count": 26,
      "outputs": [
        {
          "output_type": "execute_result",
          "data": {
            "text/plain": [
              "[('estrelas', 0.5497429966926575),\n",
              " ('plêiades', 0.379197895526886),\n",
              " ('colinas', 0.3746805191040039),\n",
              " ('trovoadas', 0.373703271150589),\n",
              " ('sombras', 0.3734194040298462),\n",
              " ('pombas', 0.3726757764816284),\n",
              " ('corredoras', 0.3640727698802948),\n",
              " ('cigarras', 0.36065393686294556),\n",
              " ('galáxias', 0.35754913091659546),\n",
              " ('luas', 0.3575345277786255)]"
            ]
          },
          "metadata": {
            "tags": []
          },
          "execution_count": 26
        }
      ]
    },
    {
      "cell_type": "markdown",
      "metadata": {
        "id": "U6OXXWVvxdYn"
      },
      "source": [
        "Outra possibilidade é tentar realizar operações com as palavras e tentar descobrir outras, por exemplo, tentar descobrir o feminino de alguma palavra em português, por exemplo:\n",
        "\n",
        "> $\\text{PROFESSOR + MULHER - HOMEM = PROFESSORA}$"
      ],
      "id": "U6OXXWVvxdYn"
    },
    {
      "cell_type": "code",
      "metadata": {
        "colab": {
          "base_uri": "https://localhost:8080/"
        },
        "id": "NVsRlRW4yBOr",
        "outputId": "9739a8c8-dde6-428b-eef9-44dd72314b8c"
      },
      "source": [
        "modelo.most_similar(positive=['professor','mulher'], negative=['homem'])[0]"
      ],
      "id": "NVsRlRW4yBOr",
      "execution_count": 27,
      "outputs": [
        {
          "output_type": "execute_result",
          "data": {
            "text/plain": [
              "('professora', 0.6192208528518677)"
            ]
          },
          "metadata": {
            "tags": []
          },
          "execution_count": 27
        }
      ]
    },
    {
      "cell_type": "markdown",
      "metadata": {
        "id": "NMNz9VNRy1dI"
      },
      "source": [
        "Apesar de fazer todo sentido estas operações precisamos ficar muito atentos com algumas coisas que precedem os dados. Vamos tentar adivinhar qual o feminino da palavra \"médico\", a operação esperada é: \n",
        "\n",
        "> $MEDICO + MULHER - HOMEM = MEDICA$\n",
        "\n",
        "mas o resultado é:"
      ],
      "id": "NMNz9VNRy1dI"
    },
    {
      "cell_type": "code",
      "metadata": {
        "colab": {
          "base_uri": "https://localhost:8080/"
        },
        "id": "C8xm0i8PzYe7",
        "outputId": "34bfc345-e02f-4ab9-9afd-57e77896f56e"
      },
      "source": [
        "modelo.most_similar(positive=['medico','mulher'], negative=['homem'])[0]"
      ],
      "id": "C8xm0i8PzYe7",
      "execution_count": 28,
      "outputs": [
        {
          "output_type": "execute_result",
          "data": {
            "text/plain": [
              "('enfermeira', 0.5567789673805237)"
            ]
          },
          "metadata": {
            "tags": []
          },
          "execution_count": 28
        }
      ]
    },
    {
      "cell_type": "markdown",
      "metadata": {
        "id": "TDZq75nkzcgp"
      },
      "source": [
        "note que **o resultado do modelo não associa a palavra \"médica\" como pertencente ao mesmo grupo de \"médico\". Não tem nada de errado com o modelo em si, pois ele acertou quando se tratava da palavra \"professora\", o problema esta na forma em que os dados foram alimentados.** Tem mais de milhão de palavras que compõem esta base de dados, elas foram retiradas de livros, artigos de jornais, posts na internet e servem de base para o modelo extrair algum padrão de contexto destas palavras. O modelo não cria nada novo, ele só reproduz um padrão que já esta contido nos dados, por exemplo, **achar que o feminino de médico é enfermeira**.\n",
        "\n",
        "**Aqui vai um ponto extremamente importante, quando utilizamos dados do passado para estimar o futuro devemos tomar muito cuidado, pois alguns eventos do passado não devem ser aceitos. Temos uma obrigação moral de não reproduzir alguns padrões já presentes na sociedade.**\n"
      ],
      "id": "TDZq75nkzcgp"
    },
    {
      "cell_type": "markdown",
      "metadata": {
        "id": "QuJWZ6oIb-KV"
      },
      "source": [
        "### Alguns pontos sobre etica dem IA \n",
        "\n",
        "O fato de se ter modelos extremamente promissores em áreas da interligência artificial foi fundamental para a disponibilidade de alguns serviços. Por outro lado, devemos tomar muito cuidado para não reproduzir preconceitos, problemas estruturais em nossa sociedade e impulsionar ainda mais desigualdade social.\n",
        "\n",
        "Em 2019, o cientista Richard Socher da Salesforce, no fórum economico internacional apresentou um artigo interessante com o título [*AI isn’t dangerous, but human bias is*](https://www.weforum.org/agenda/2019/01/ai-isn-t-dangerous-but-human-bias-is/) sobre o tema do quão perigoso modelos de IA podem ser para sociedade moderna dado que os dados dos modelos são alimentados com dados reais e isso inclui nossos problemas estruturais.\n",
        "\n",
        "Outra referência sobre o assunto é abordada no [capítulo 6 seção 6.11 - *Bias and embeddings*](https://web.stanford.edu/~jurafsky/slp3/6.pdf) do livro [*Speech an Language Processing*](https://web.stanford.edu/~jurafsky/slp3/old_oct19/edbook_oct162019.pdf) escrito por Dan Jurafsky e James H. Martin. Nesta seção eles abordam o tema **viés** que vai além de uma mera tendência e trás outras referências para reduzir este problema de embedding de palavras. "
      ],
      "id": "QuJWZ6oIb-KV"
    },
    {
      "cell_type": "markdown",
      "metadata": {
        "id": "MGFuh7Nw0Dt6"
      },
      "source": [
        "# Vetorizando dados necessarios para classificação\n",
        "\n",
        "Ateriormente mostrei como funciona brevemente a importação de um conjunto de vetores em word2vec do NILC e ajustar à um modelo já treinado do módulo [Gensim](https://radimrehurek.com/gensim/auto_examples/index.html#documentation). Acontece que nossos dados de treino são textos brutos, veja:"
      ],
      "id": "MGFuh7Nw0Dt6"
    },
    {
      "cell_type": "code",
      "metadata": {
        "colab": {
          "base_uri": "https://localhost:8080/",
          "height": 228
        },
        "id": "SuGteDKpz13Y",
        "outputId": "361c9a3e-6fb5-4041-d822-09b77f96923c"
      },
      "source": [
        "for texto in treino[['title','text']].iloc[-10]:\n",
        "  display(texto)\n",
        "  print('\\n')"
      ],
      "id": "SuGteDKpz13Y",
      "execution_count": 29,
      "outputs": [
        {
          "output_type": "display_data",
          "data": {
            "application/vnd.google.colaboratory.intrinsic+json": {
              "type": "string"
            },
            "text/plain": [
              "'Pagamento de propina pode chegar a R$ 50 mil por carga'"
            ]
          },
          "metadata": {
            "tags": []
          }
        },
        {
          "output_type": "stream",
          "text": [
            "\n",
            "\n"
          ],
          "name": "stdout"
        },
        {
          "output_type": "display_data",
          "data": {
            "application/vnd.google.colaboratory.intrinsic+json": {
              "type": "string"
            },
            "text/plain": [
              "'A corrupção é um dos principais fatores que contribuem para o alto índice de produtos contrabandeados no país, de acordo com estudo realizado pelo Idesf (Instituto de Desenvolvimento Econômico e Social de Fronteiras), antecipado para a Folha e que está sendo apresentado na manhã desta terça-feira (3).  O pagamento de propina pode chegar a R$ 50 mil, afirma a pesquisa, que mostra que a corrupção para liberação de cargas ilegais ocorre em vários níveis operacionais e é dividida em quatro momentos.  O primeiro momento ocorre próximo à barranca do Rio Paraná e às margens do Lago de Itaipu, em Foz do Iguaçu. Nesse ponto, diz o estudo, o contrabandista paga cerca de R$ 100 ao dia por agente público para que fique indiferente à ilegalidade.  O segundo momento é quando o ente público faz um acordo com o contrabandista para o acompanhamento da carga até o limite da sua jurisdição. Isso evita que a carga seja apreendida nos postos de fiscalização e, para isso, o contrabandista paga entre R$ 1.000 e R$ 1.500, afirma o estudo.  Já o terceiro momento, diz o estudo, ocorre nos postos de fiscalização, caso o veículo utilizado para transportar a carga seja parado. Nesse caso, pode ocorrer ou não um acordo prévio, e o valor do repasse gira entre R$ 3.000 e R$ 10.000.  Por fim, o quarto momento ocorre quando o ente público forja a apreensão, afirma o estudo, tendo como objetivo proporcionar ao contrabandista a oportunidade de negociação para a liberação da carga. O valor pago de propina para a liberação da mercadoria nesse momento varia entre R$ 15 mil e R$ 50 mil, podendo chegar a 50% do valor da carga, que normalmente é pago com a própria mercadoria.  A Receita Federal e a Polícia Federal foram procuradas pela reportagem, mas não responderam até o momento.'"
            ]
          },
          "metadata": {
            "tags": []
          }
        },
        {
          "output_type": "stream",
          "text": [
            "\n",
            "\n"
          ],
          "name": "stdout"
        }
      ]
    },
    {
      "cell_type": "markdown",
      "metadata": {
        "id": "gEuBU3Hm0FQl"
      },
      "source": [
        "precisamos de alguma forma vetorizar o nosso texto através da tecnica word2vec, e isso será feito através de algumas etapas."
      ],
      "id": "gEuBU3Hm0FQl"
    },
    {
      "cell_type": "markdown",
      "metadata": {
        "id": "lJa_fgu7e3b4"
      },
      "source": [
        "## Tokenização dos dados"
      ],
      "id": "lJa_fgu7e3b4"
    },
    {
      "cell_type": "markdown",
      "metadata": {
        "id": "D1Ff40lY2P6q"
      },
      "source": [
        "O processo de tokenização é simplesmente seprar cada palavra de uma frase, por exemplo\n",
        "\n",
        "> Tokenizando a frase: \"Ola Mundo\"\n",
        "\n",
        "A frase acima tokenizada seria: \n",
        "\n",
        "```python\n",
        ">>frase = 'Tokenizando a: frase \"Ola Mundo\"'\n",
        ">>frase.split()\n",
        "['Tokenizando', 'a:', 'frase', '\"Ola', 'Mundo\"']\n",
        "```\n",
        "\n",
        "O método ``split()`` pode ser útil, entretanto ele não remove aspas, dois pontos e nem caracteres especiais, podemos usar o módulo ``unidecode`` para remover estes caracteres, entretanto existe um módulo chamado [NLTK](https://www.nltk.org/_modules/nltk/stem/wordnet.html) que já tem uma rotina de tokenização implementada. A função se chama [``word_tokenize()``](https://www.nltk.org/api/nltk.tokenize.html#nltk.tokenize.punkt.PunktLanguageVars.word_tokenize) que tokeniza frases retirando pontos e outros caracteres especiais.\n",
        "\n",
        "Vamos então criar uma função que vai tokenizar as palavras e criar uma representação word2vec para cada palavra:"
      ],
      "id": "D1Ff40lY2P6q"
    },
    {
      "cell_type": "code",
      "metadata": {
        "colab": {
          "base_uri": "https://localhost:8080/"
        },
        "id": "XSpHyL_a2Qyj",
        "outputId": "2c5cdd97-1362-4477-c970-6a9aa041082a"
      },
      "source": [
        "import nltk\n",
        "nltk.download('punkt')"
      ],
      "id": "XSpHyL_a2Qyj",
      "execution_count": 30,
      "outputs": [
        {
          "output_type": "stream",
          "text": [
            "[nltk_data] Downloading package punkt to /root/nltk_data...\n",
            "[nltk_data]   Unzipping tokenizers/punkt.zip.\n"
          ],
          "name": "stdout"
        },
        {
          "output_type": "execute_result",
          "data": {
            "text/plain": [
              "True"
            ]
          },
          "metadata": {
            "tags": []
          },
          "execution_count": 30
        }
      ]
    },
    {
      "cell_type": "code",
      "metadata": {
        "id": "tWYXsoD0yZgi"
      },
      "source": [
        "import string\n",
        "\n",
        "def tokezinador(texto):\n",
        "\n",
        "  texto = texto.lower()\n",
        "  lista_alphanumerica = []\n",
        "\n",
        "  tokens_do_texto = nltk.tokenize.word_tokenize(texto)\n",
        "\n",
        "  for token in tokens_do_texto:\n",
        "    if token in string.punctuation: continue\n",
        "    lista_alphanumerica.append(token)\n",
        "\n",
        "  return lista_alphanumerica"
      ],
      "id": "tWYXsoD0yZgi",
      "execution_count": 31,
      "outputs": []
    },
    {
      "cell_type": "markdown",
      "metadata": {
        "id": "e6Tenn51XrB_"
      },
      "source": [
        "Vamos testar a função em um titulo:\n"
      ],
      "id": "e6Tenn51XrB_"
    },
    {
      "cell_type": "code",
      "metadata": {
        "colab": {
          "base_uri": "https://localhost:8080/"
        },
        "id": "ZNQKxDlv5-ZT",
        "outputId": "887b498b-8c53-4664-a0a5-ea488b366012"
      },
      "source": [
        "print(f'Titulo original: {treino.title.iloc[30]}')\n",
        "print(f'Titulo tokenizado: {tokezinador(treino.title.iloc[30])}')"
      ],
      "id": "ZNQKxDlv5-ZT",
      "execution_count": 35,
      "outputs": [
        {
          "output_type": "stream",
          "text": [
            "Titulo original: Embaixador da 'Emolândia', Morrissey faz show sentimental em SP\n",
            "Titulo tokenizado: ['embaixador', 'da', \"'emolândia\", 'morrissey', 'faz', 'show', 'sentimental', 'em', 'sp']\n"
          ],
          "name": "stdout"
        }
      ]
    },
    {
      "cell_type": "markdown",
      "metadata": {
        "id": "ylKwqFlgzHIU"
      },
      "source": [
        "Agora precisamos representar os tokens em um espaço vetorial. Lembrando que a representação em word2vec é fixa, isto é, a palavra depende de um espaço vetorial, no nosso caso a dimensão é de $300$.\n",
        "\n",
        "Dado que uma frase é composta por palavras pertencentes à um espaço vetorial então ela pode ser expressa como uma combinação linear de varios vetores, então vamos somar todos os vetores dos tokens que compõem a frase para vetoriza-la"
      ],
      "id": "ylKwqFlgzHIU"
    },
    {
      "cell_type": "code",
      "metadata": {
        "id": "mSk4u5T3fFvp"
      },
      "source": [
        "def vetorizar_tokens(tokens):\n",
        "  token_vetorizado = np.zeros(300)\n",
        "\n",
        "  for token in tokens:\n",
        "    # soma os vetores de cada token pra construir um vetor da frase.\n",
        "    token_vetorizado += modelo.get_vector(token)\n",
        "\n",
        "  return token_vetorizado \n"
      ],
      "id": "mSk4u5T3fFvp",
      "execution_count": 38,
      "outputs": []
    },
    {
      "cell_type": "markdown",
      "metadata": {
        "id": "NG-9rzmTgeji"
      },
      "source": [
        "Vamos testar:"
      ],
      "id": "NG-9rzmTgeji"
    },
    {
      "cell_type": "code",
      "metadata": {
        "colab": {
          "base_uri": "https://localhost:8080/"
        },
        "id": "SRhT8arMfsoD",
        "outputId": "4b709997-f1dd-47a7-d921-0a3eaad67450"
      },
      "source": [
        "print(f'frase: {treino.title.iloc[0]}')\n",
        "\n",
        "print(f'\\nfrase vetorizada: {vetorizar_tokens(tokezinador(treino.title.iloc[0]))}')"
      ],
      "id": "SRhT8arMfsoD",
      "execution_count": 46,
      "outputs": [
        {
          "output_type": "stream",
          "text": [
            "frase: Após polêmica, Marine Le Pen diz que abomina negacionistas do Holocausto\n",
            "\n",
            "frase vetorizada: [ 0.52357099  1.00529201  0.26381801  0.55167001  1.29887401 -0.300037\n",
            "  0.89378801  0.11975599 -1.45775002 -0.452488    0.458223   -0.21807001\n",
            "  0.65952699  0.57539101  0.57576102  0.05649301 -1.28612098  0.74008099\n",
            "  0.26500801 -0.77916699 -1.012431    0.140885   -0.555113    0.71819499\n",
            " -0.20966199  0.64139499 -0.96246603  0.13343704  0.38299598  0.83808199\n",
            "  0.12288502 -1.115068   -0.00647301 -0.57349899 -0.78776202 -0.24487801\n",
            " -0.10404397 -1.67126699 -0.08068499 -0.51521898  0.04381603  0.68886297\n",
            "  1.045672   -0.23395702 -0.62220401  0.98942098  0.43884596  1.37832599\n",
            " -0.183351   -0.36253401  0.35007997 -0.75641701 -1.36119601  0.143518\n",
            "  0.00893804  0.49978199  0.069786   -0.513827   -0.49270102  0.86613399\n",
            " -0.27306198  0.228851    0.12569697 -0.23421999 -0.20668898 -0.07144199\n",
            " -1.13684901  0.74301703 -0.15537495  0.16737801 -0.26599302 -0.32244399\n",
            " -0.4586     -0.55695101 -0.40938401 -0.81748699 -0.66862201 -0.07216502\n",
            " -0.44141797  0.24551399  0.068979   -0.73147901 -0.38973701  0.45652699\n",
            " -0.85513303  0.584598   -0.87265899 -0.32530599 -0.61205298  0.82195199\n",
            " -0.55980601  0.149703   -0.126987    0.48916601 -0.687582   -0.132848\n",
            " -0.32872301 -1.09678699  0.509032   -0.58177099  1.55592299  0.09057198\n",
            "  0.80985001 -0.256162    1.04478799  0.23986501 -0.702458    0.27091401\n",
            " -1.21671701 -0.885602   -0.24228    -0.15859299  0.097735   -0.05279702\n",
            " -0.44079498  0.138917    0.14013299  0.25265801  0.70067604  0.012048\n",
            "  0.33653299 -0.95202299 -0.64074602  0.48337203 -0.19100299  0.367282\n",
            " -0.21992799  0.11430101  0.58179298  1.13985902 -0.02254602  0.928958\n",
            " -0.17897399 -0.51686199 -0.01986698 -0.45679001 -0.67135799 -0.15633301\n",
            "  0.86553201  0.42948302 -0.280657   -0.010624   -0.199618   -0.260354\n",
            " -0.15055199 -0.20828902 -0.50230499 -0.19077102  1.151954   -0.72274601\n",
            "  0.48594799  0.40863903 -0.708719   -0.44239602  0.23992399 -0.33462703\n",
            " -0.04561601 -0.07753295  0.68536701  0.29241399 -0.44281401 -0.17286999\n",
            " -0.228812    0.25649601  0.75337702 -0.493812    0.10178503 -1.61696599\n",
            "  0.42017299 -0.47151702  0.395183   -0.507418   -0.71153797  0.27695299\n",
            " -0.442187    0.13449999  0.065592   -0.17892001  0.18020201 -0.55684003\n",
            "  0.37161202 -0.22614699 -0.66433799  0.469644   -0.74038799 -0.68302301\n",
            "  0.12273101 -0.155346   -0.120688   -0.135375   -0.25607999  0.01113099\n",
            " -0.12008901  0.48782299 -0.446102   -0.06364999 -0.400148   -0.227375\n",
            "  0.57061599 -1.60692397  0.66040799 -0.281954   -0.04787599 -0.13420899\n",
            " -0.45828996  0.56910301 -0.21898799 -0.05955301  0.044383    0.21575798\n",
            " -0.46714798  0.408052    0.64580799 -0.812993   -0.32361801  0.40792201\n",
            "  2.326033    0.80411299  0.53480298  0.11107701  0.18698001 -0.10990801\n",
            " -0.04847499  0.36679599  0.65713703  0.79721     0.093056   -0.54069601\n",
            "  0.36470501  0.03096598  0.44370001  0.15469401 -0.52987101  0.06958801\n",
            "  0.55563197 -0.35508001 -0.92907302 -0.43656399 -0.04584399  0.38642502\n",
            "  0.856273   -0.82691399 -0.158832    0.34742501  0.04472601 -0.62290598\n",
            " -0.722268   -0.409217    0.19961499  0.71964902 -0.091035   -0.70253399\n",
            " -0.06629701  0.26154    -0.22917899 -0.821531   -0.16808201  0.21580996\n",
            " -0.43994202  0.170879   -0.69552499  0.38967901  0.88689099  0.49874901\n",
            "  0.26643402 -0.241595    0.701123    0.50368899  0.20559299  0.57624799\n",
            "  0.23957698 -0.44731001  0.245827   -1.35982903  0.80485501 -0.010276\n",
            "  0.06499797  0.49871599 -0.277177    0.032921   -0.092207   -0.32241401\n",
            " -1.36030599  0.29398001  0.04733601  0.24439599 -0.506858   -0.58694102\n",
            " -0.57482699  0.22564799  0.460606   -0.80701201 -0.65453104 -1.21641301\n",
            " -0.68294701 -0.32719002  0.207949    0.43726099  0.187696    0.15216099]\n"
          ],
          "name": "stdout"
        }
      ]
    },
    {
      "cell_type": "markdown",
      "metadata": {
        "id": "U0PhynMehCrk"
      },
      "source": [
        "Note que conseguimos vetorizar o título, entretanto note o que acontece quando tentamos vetorizar uma palavra cujo um vetor não pertence aquele espaço vetorial:"
      ],
      "id": "U0PhynMehCrk"
    },
    {
      "cell_type": "code",
      "metadata": {
        "colab": {
          "base_uri": "https://localhost:8080/",
          "height": 365
        },
        "id": "c7Xv0O4yfynb",
        "outputId": "62df4116-8a0e-4525-df6f-624cc7e485dd"
      },
      "source": [
        "print(f'frase: {treino.title.iloc[30]}')\n",
        "\n",
        "print(f'\\nfrase vetorizada: {vetorizar_tokens(tokezinador(treino.title.iloc[30]))}')"
      ],
      "id": "c7Xv0O4yfynb",
      "execution_count": 47,
      "outputs": [
        {
          "output_type": "stream",
          "text": [
            "frase: Embaixador da 'Emolândia', Morrissey faz show sentimental em SP\n"
          ],
          "name": "stdout"
        },
        {
          "output_type": "error",
          "ename": "KeyError",
          "evalue": "ignored",
          "traceback": [
            "\u001b[0;31m---------------------------------------------------------------------------\u001b[0m",
            "\u001b[0;31mKeyError\u001b[0m                                  Traceback (most recent call last)",
            "\u001b[0;32m<ipython-input-47-80443faa88fd>\u001b[0m in \u001b[0;36m<module>\u001b[0;34m()\u001b[0m\n\u001b[1;32m      1\u001b[0m \u001b[0mprint\u001b[0m\u001b[0;34m(\u001b[0m\u001b[0;34mf'frase: {treino.title.iloc[30]}'\u001b[0m\u001b[0;34m)\u001b[0m\u001b[0;34m\u001b[0m\u001b[0;34m\u001b[0m\u001b[0m\n\u001b[1;32m      2\u001b[0m \u001b[0;34m\u001b[0m\u001b[0m\n\u001b[0;32m----> 3\u001b[0;31m \u001b[0mprint\u001b[0m\u001b[0;34m(\u001b[0m\u001b[0;34mf'\\nfrase vetorizada: {vetorizar_tokens(tokezinador(treino.title.iloc[30]))}'\u001b[0m\u001b[0;34m)\u001b[0m\u001b[0;34m\u001b[0m\u001b[0;34m\u001b[0m\u001b[0m\n\u001b[0m",
            "\u001b[0;32m<ipython-input-38-5dd76634270e>\u001b[0m in \u001b[0;36mvetorizar_tokens\u001b[0;34m(tokens)\u001b[0m\n\u001b[1;32m      4\u001b[0m   \u001b[0;32mfor\u001b[0m \u001b[0mtoken\u001b[0m \u001b[0;32min\u001b[0m \u001b[0mtokens\u001b[0m\u001b[0;34m:\u001b[0m\u001b[0;34m\u001b[0m\u001b[0;34m\u001b[0m\u001b[0m\n\u001b[1;32m      5\u001b[0m     \u001b[0;31m# soma os vetores de cada token pra construir um vetor da frase.\u001b[0m\u001b[0;34m\u001b[0m\u001b[0;34m\u001b[0m\u001b[0;34m\u001b[0m\u001b[0m\n\u001b[0;32m----> 6\u001b[0;31m     \u001b[0mtoken_vetorizado\u001b[0m \u001b[0;34m+=\u001b[0m \u001b[0mmodelo\u001b[0m\u001b[0;34m.\u001b[0m\u001b[0mget_vector\u001b[0m\u001b[0;34m(\u001b[0m\u001b[0mtoken\u001b[0m\u001b[0;34m)\u001b[0m\u001b[0;34m\u001b[0m\u001b[0;34m\u001b[0m\u001b[0m\n\u001b[0m\u001b[1;32m      7\u001b[0m \u001b[0;34m\u001b[0m\u001b[0m\n\u001b[1;32m      8\u001b[0m   \u001b[0;32mreturn\u001b[0m \u001b[0mtoken_vetorizado\u001b[0m\u001b[0;34m\u001b[0m\u001b[0;34m\u001b[0m\u001b[0m\n",
            "\u001b[0;32m/usr/local/lib/python3.7/dist-packages/gensim/models/keyedvectors.py\u001b[0m in \u001b[0;36mget_vector\u001b[0;34m(self, word)\u001b[0m\n\u001b[1;32m    453\u001b[0m \u001b[0;34m\u001b[0m\u001b[0m\n\u001b[1;32m    454\u001b[0m     \u001b[0;32mdef\u001b[0m \u001b[0mget_vector\u001b[0m\u001b[0;34m(\u001b[0m\u001b[0mself\u001b[0m\u001b[0;34m,\u001b[0m \u001b[0mword\u001b[0m\u001b[0;34m)\u001b[0m\u001b[0;34m:\u001b[0m\u001b[0;34m\u001b[0m\u001b[0;34m\u001b[0m\u001b[0m\n\u001b[0;32m--> 455\u001b[0;31m         \u001b[0;32mreturn\u001b[0m \u001b[0mself\u001b[0m\u001b[0;34m.\u001b[0m\u001b[0mword_vec\u001b[0m\u001b[0;34m(\u001b[0m\u001b[0mword\u001b[0m\u001b[0;34m)\u001b[0m\u001b[0;34m\u001b[0m\u001b[0;34m\u001b[0m\u001b[0m\n\u001b[0m\u001b[1;32m    456\u001b[0m \u001b[0;34m\u001b[0m\u001b[0m\n\u001b[1;32m    457\u001b[0m     \u001b[0;32mdef\u001b[0m \u001b[0mwords_closer_than\u001b[0m\u001b[0;34m(\u001b[0m\u001b[0mself\u001b[0m\u001b[0;34m,\u001b[0m \u001b[0mw1\u001b[0m\u001b[0;34m,\u001b[0m \u001b[0mw2\u001b[0m\u001b[0;34m)\u001b[0m\u001b[0;34m:\u001b[0m\u001b[0;34m\u001b[0m\u001b[0;34m\u001b[0m\u001b[0m\n",
            "\u001b[0;32m/usr/local/lib/python3.7/dist-packages/gensim/models/keyedvectors.py\u001b[0m in \u001b[0;36mword_vec\u001b[0;34m(self, word, use_norm)\u001b[0m\n\u001b[1;32m    450\u001b[0m             \u001b[0;32mreturn\u001b[0m \u001b[0mresult\u001b[0m\u001b[0;34m\u001b[0m\u001b[0;34m\u001b[0m\u001b[0m\n\u001b[1;32m    451\u001b[0m         \u001b[0;32melse\u001b[0m\u001b[0;34m:\u001b[0m\u001b[0;34m\u001b[0m\u001b[0;34m\u001b[0m\u001b[0m\n\u001b[0;32m--> 452\u001b[0;31m             \u001b[0;32mraise\u001b[0m \u001b[0mKeyError\u001b[0m\u001b[0;34m(\u001b[0m\u001b[0;34m\"word '%s' not in vocabulary\"\u001b[0m \u001b[0;34m%\u001b[0m \u001b[0mword\u001b[0m\u001b[0;34m)\u001b[0m\u001b[0;34m\u001b[0m\u001b[0;34m\u001b[0m\u001b[0m\n\u001b[0m\u001b[1;32m    453\u001b[0m \u001b[0;34m\u001b[0m\u001b[0m\n\u001b[1;32m    454\u001b[0m     \u001b[0;32mdef\u001b[0m \u001b[0mget_vector\u001b[0m\u001b[0;34m(\u001b[0m\u001b[0mself\u001b[0m\u001b[0;34m,\u001b[0m \u001b[0mword\u001b[0m\u001b[0;34m)\u001b[0m\u001b[0;34m:\u001b[0m\u001b[0;34m\u001b[0m\u001b[0;34m\u001b[0m\u001b[0m\n",
            "\u001b[0;31mKeyError\u001b[0m: \"word ''emolândia' not in vocabulary\""
          ]
        }
      ]
    },
    {
      "cell_type": "markdown",
      "metadata": {
        "id": "f1OR2QsZhWY8"
      },
      "source": [
        "Ou seja, dado que a palavra *\"emolândia\"* não pode ser expressa no espaço vetorial, isto é não esta presente no vocabulario. Mas não acontece só com palavras não existentes, as vezes, só o fato da palavra ter sido digitada incorretamente pode ocasionar num erro deste tipo. Portanto precisamos tratar isso de alguma maneira."
      ],
      "id": "f1OR2QsZhWY8"
    },
    {
      "cell_type": "markdown",
      "metadata": {
        "id": "xRZNTzt-hVIL"
      },
      "source": [
        ""
      ],
      "id": "xRZNTzt-hVIL"
    }
  ]
}