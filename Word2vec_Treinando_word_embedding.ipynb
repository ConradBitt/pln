{
  "nbformat": 4,
  "nbformat_minor": 0,
  "metadata": {
    "colab": {
      "name": "Word2vec_Treinando_word_embedding.ipynb",
      "provenance": [],
      "collapsed_sections": [],
      "authorship_tag": "ABX9TyOsKvEoCc9f/EqqeftuaLMH",
      "include_colab_link": true
    },
    "kernelspec": {
      "name": "python3",
      "display_name": "Python 3"
    },
    "language_info": {
      "name": "python"
    }
  },
  "cells": [
    {
      "cell_type": "markdown",
      "metadata": {
        "id": "view-in-github",
        "colab_type": "text"
      },
      "source": [
        "<a href=\"https://colab.research.google.com/github/ConradBitt/processamento_linguagem_natural/blob/master/Word2vec_Treinando_word_embedding.ipynb\" target=\"_parent\"><img src=\"https://colab.research.google.com/assets/colab-badge.svg\" alt=\"Open In Colab\"/></a>"
      ]
    },
    {
      "cell_type": "markdown",
      "metadata": {
        "id": "zj4JCcaXABY7"
      },
      "source": [
        "# Introdução \n",
        "\n",
        "Este notebook tem como objetivo criar representações textuais através de **word2vec**, um classificador de títulos de reportagens de jornal. Posteriormente, após a representação, treino e teste do modelo, será disponibilizado através de uma aplicação web visando simular um ambiente de produção."
      ]
    },
    {
      "cell_type": "markdown",
      "metadata": {
        "id": "T0SgmcDmbM-U"
      },
      "source": [
        "## Montando Drive\n",
        "\n",
        "O motivo de usar o colaboratory é porque processamento de linguagem envolve muita memoria RAM e portanto rodar localmente pode se tonar um tanto custoso.Além disso, através do calab é permitido montar uma imagem do drive onde podemos armazenar os dados. Por esses dois motivos optei pelo google colab:\n"
      ]
    },
    {
      "cell_type": "code",
      "metadata": {
        "colab": {
          "base_uri": "https://localhost:8080/"
        },
        "id": "9SOvvisDnK3a",
        "outputId": "824be471-1f0c-4904-82ee-53b59a00b24c"
      },
      "source": [
        "\n",
        "from google.colab import drive\n",
        "drive.mount('/content/drive')"
      ],
      "execution_count": 1,
      "outputs": [
        {
          "output_type": "stream",
          "text": [
            "Drive already mounted at /content/drive; to attempt to forcibly remount, call drive.mount(\"/content/drive\", force_remount=True).\n"
          ],
          "name": "stdout"
        }
      ]
    },
    {
      "cell_type": "code",
      "metadata": {
        "colab": {
          "base_uri": "https://localhost:8080/"
        },
        "id": "DXV3bkNN_4QT",
        "outputId": "37b04725-a676-4a44-c2bf-0a447e7d3cb1"
      },
      "source": [
        "import pandas as pd \n",
        "import seaborn as sns \n",
        "import numpy as np\n",
        "import matplotlib as mpl\n",
        "import spacy\n",
        "\n",
        "\n",
        "from matplotlib import pyplot as plt\n",
        "\n",
        "sns.set_context('talk')\n",
        "\n",
        "# Executar apenas uma vez e depois reiniciar o ambiente de execução.\n",
        "!python -m spacy download pt_core_news_sm\n",
        "\n",
        "print('~ Versões dos Módulos ~')\n",
        "print(f'Pandas: {pd.__version__}')\n",
        "print(f'Seaborn: {sns.__version__}')\n",
        "print(f'Numpy: {np.__version__}')\n",
        "print(f'Matplotlib: {mpl.__version__}')\n",
        "print(f'Spacy: {spacy.__version__}')"
      ],
      "execution_count": 2,
      "outputs": [
        {
          "output_type": "stream",
          "text": [
            "Requirement already satisfied: pt_core_news_sm==2.2.5 from https://github.com/explosion/spacy-models/releases/download/pt_core_news_sm-2.2.5/pt_core_news_sm-2.2.5.tar.gz#egg=pt_core_news_sm==2.2.5 in /usr/local/lib/python3.7/dist-packages (2.2.5)\n",
            "Requirement already satisfied: spacy>=2.2.2 in /usr/local/lib/python3.7/dist-packages (from pt_core_news_sm==2.2.5) (2.2.4)\n",
            "Requirement already satisfied: tqdm<5.0.0,>=4.38.0 in /usr/local/lib/python3.7/dist-packages (from spacy>=2.2.2->pt_core_news_sm==2.2.5) (4.41.1)\n",
            "Requirement already satisfied: numpy>=1.15.0 in /usr/local/lib/python3.7/dist-packages (from spacy>=2.2.2->pt_core_news_sm==2.2.5) (1.19.5)\n",
            "Requirement already satisfied: preshed<3.1.0,>=3.0.2 in /usr/local/lib/python3.7/dist-packages (from spacy>=2.2.2->pt_core_news_sm==2.2.5) (3.0.5)\n",
            "Requirement already satisfied: murmurhash<1.1.0,>=0.28.0 in /usr/local/lib/python3.7/dist-packages (from spacy>=2.2.2->pt_core_news_sm==2.2.5) (1.0.5)\n",
            "Requirement already satisfied: wasabi<1.1.0,>=0.4.0 in /usr/local/lib/python3.7/dist-packages (from spacy>=2.2.2->pt_core_news_sm==2.2.5) (0.8.2)\n",
            "Requirement already satisfied: srsly<1.1.0,>=1.0.2 in /usr/local/lib/python3.7/dist-packages (from spacy>=2.2.2->pt_core_news_sm==2.2.5) (1.0.5)\n",
            "Requirement already satisfied: cymem<2.1.0,>=2.0.2 in /usr/local/lib/python3.7/dist-packages (from spacy>=2.2.2->pt_core_news_sm==2.2.5) (2.0.5)\n",
            "Requirement already satisfied: blis<0.5.0,>=0.4.0 in /usr/local/lib/python3.7/dist-packages (from spacy>=2.2.2->pt_core_news_sm==2.2.5) (0.4.1)\n",
            "Requirement already satisfied: requests<3.0.0,>=2.13.0 in /usr/local/lib/python3.7/dist-packages (from spacy>=2.2.2->pt_core_news_sm==2.2.5) (2.23.0)\n",
            "Requirement already satisfied: catalogue<1.1.0,>=0.0.7 in /usr/local/lib/python3.7/dist-packages (from spacy>=2.2.2->pt_core_news_sm==2.2.5) (1.0.0)\n",
            "Requirement already satisfied: thinc==7.4.0 in /usr/local/lib/python3.7/dist-packages (from spacy>=2.2.2->pt_core_news_sm==2.2.5) (7.4.0)\n",
            "Requirement already satisfied: plac<1.2.0,>=0.9.6 in /usr/local/lib/python3.7/dist-packages (from spacy>=2.2.2->pt_core_news_sm==2.2.5) (1.1.3)\n",
            "Requirement already satisfied: setuptools in /usr/local/lib/python3.7/dist-packages (from spacy>=2.2.2->pt_core_news_sm==2.2.5) (56.1.0)\n",
            "Requirement already satisfied: certifi>=2017.4.17 in /usr/local/lib/python3.7/dist-packages (from requests<3.0.0,>=2.13.0->spacy>=2.2.2->pt_core_news_sm==2.2.5) (2020.12.5)\n",
            "Requirement already satisfied: chardet<4,>=3.0.2 in /usr/local/lib/python3.7/dist-packages (from requests<3.0.0,>=2.13.0->spacy>=2.2.2->pt_core_news_sm==2.2.5) (3.0.4)\n",
            "Requirement already satisfied: urllib3!=1.25.0,!=1.25.1,<1.26,>=1.21.1 in /usr/local/lib/python3.7/dist-packages (from requests<3.0.0,>=2.13.0->spacy>=2.2.2->pt_core_news_sm==2.2.5) (1.24.3)\n",
            "Requirement already satisfied: idna<3,>=2.5 in /usr/local/lib/python3.7/dist-packages (from requests<3.0.0,>=2.13.0->spacy>=2.2.2->pt_core_news_sm==2.2.5) (2.10)\n",
            "Requirement already satisfied: importlib-metadata>=0.20; python_version < \"3.8\" in /usr/local/lib/python3.7/dist-packages (from catalogue<1.1.0,>=0.0.7->spacy>=2.2.2->pt_core_news_sm==2.2.5) (3.10.1)\n",
            "Requirement already satisfied: typing-extensions>=3.6.4; python_version < \"3.8\" in /usr/local/lib/python3.7/dist-packages (from importlib-metadata>=0.20; python_version < \"3.8\"->catalogue<1.1.0,>=0.0.7->spacy>=2.2.2->pt_core_news_sm==2.2.5) (3.7.4.3)\n",
            "Requirement already satisfied: zipp>=0.5 in /usr/local/lib/python3.7/dist-packages (from importlib-metadata>=0.20; python_version < \"3.8\"->catalogue<1.1.0,>=0.0.7->spacy>=2.2.2->pt_core_news_sm==2.2.5) (3.4.1)\n",
            "\u001b[38;5;2m✔ Download and installation successful\u001b[0m\n",
            "You can now load the model via spacy.load('pt_core_news_sm')\n",
            "~ Versões dos Módulos ~\n",
            "Pandas: 1.1.5\n",
            "Seaborn: 0.11.1\n",
            "Numpy: 1.19.5\n",
            "Matplotlib: 3.2.2\n",
            "Spacy: 2.2.4\n"
          ],
          "name": "stdout"
        }
      ]
    },
    {
      "cell_type": "markdown",
      "metadata": {
        "id": "aNYVUjemnXNl"
      },
      "source": [
        "# Lendo os dados"
      ]
    },
    {
      "cell_type": "code",
      "metadata": {
        "id": "KZaArhCRncYy"
      },
      "source": [
        "treino = pd.read_csv('/content/drive/MyDrive/Colab Notebooks/word2vec/dados/treino.csv')\n",
        "teste = pd.read_csv('/content/drive/MyDrive/Colab Notebooks/word2vec/dados/teste.csv')"
      ],
      "execution_count": 3,
      "outputs": []
    },
    {
      "cell_type": "markdown",
      "metadata": {
        "id": "i4EqTpwtnfhw"
      },
      "source": [
        "## Informações datasets"
      ]
    },
    {
      "cell_type": "code",
      "metadata": {
        "colab": {
          "base_uri": "https://localhost:8080/",
          "height": 503
        },
        "id": "sFTpZiRqnkJr",
        "outputId": "90050265-22fc-4955-c99b-a320668d0c24"
      },
      "source": [
        "display(treino.info())\n",
        "display(teste.info())"
      ],
      "execution_count": 4,
      "outputs": [
        {
          "output_type": "stream",
          "text": [
            "<class 'pandas.core.frame.DataFrame'>\n",
            "RangeIndex: 90000 entries, 0 to 89999\n",
            "Data columns (total 6 columns):\n",
            " #   Column       Non-Null Count  Dtype \n",
            "---  ------       --------------  ----- \n",
            " 0   title        90000 non-null  object\n",
            " 1   text         90000 non-null  object\n",
            " 2   date         90000 non-null  object\n",
            " 3   category     90000 non-null  object\n",
            " 4   subcategory  17175 non-null  object\n",
            " 5   link         90000 non-null  object\n",
            "dtypes: object(6)\n",
            "memory usage: 4.1+ MB\n"
          ],
          "name": "stdout"
        },
        {
          "output_type": "display_data",
          "data": {
            "text/plain": [
              "None"
            ]
          },
          "metadata": {
            "tags": []
          }
        },
        {
          "output_type": "stream",
          "text": [
            "<class 'pandas.core.frame.DataFrame'>\n",
            "RangeIndex: 20513 entries, 0 to 20512\n",
            "Data columns (total 6 columns):\n",
            " #   Column       Non-Null Count  Dtype \n",
            "---  ------       --------------  ----- \n",
            " 0   title        20513 non-null  object\n",
            " 1   text         20513 non-null  object\n",
            " 2   date         20513 non-null  object\n",
            " 3   category     20513 non-null  object\n",
            " 4   subcategory  6794 non-null   object\n",
            " 5   link         20513 non-null  object\n",
            "dtypes: object(6)\n",
            "memory usage: 961.7+ KB\n"
          ],
          "name": "stdout"
        },
        {
          "output_type": "display_data",
          "data": {
            "text/plain": [
              "None"
            ]
          },
          "metadata": {
            "tags": []
          }
        }
      ]
    },
    {
      "cell_type": "markdown",
      "metadata": {
        "id": "S80bUTTAnnhY"
      },
      "source": [
        "Temos: \n",
        "* 90000 observações nos dados de treino, totalizando 4.1MB.\n",
        "* 20513 observações nos dados de teste, totalizando 961KB\n",
        "\n",
        "todos os dados são do tipo object, porvavelmente strings dividos em 6 variaveis, `titulo`, `text`, `date`, `category`, `subcategory`, `link`."
      ]
    },
    {
      "cell_type": "markdown",
      "metadata": {
        "id": "S2BVwskinkXa"
      },
      "source": [
        "## Exibindo alguns dados"
      ]
    },
    {
      "cell_type": "code",
      "metadata": {
        "colab": {
          "base_uri": "https://localhost:8080/",
          "height": 293
        },
        "id": "2L6CHKddp_i5",
        "outputId": "403e97ba-9c1f-46f1-d5c1-b8c9bfa3c3c8"
      },
      "source": [
        "treino.head()"
      ],
      "execution_count": 5,
      "outputs": [
        {
          "output_type": "execute_result",
          "data": {
            "text/html": [
              "<div>\n",
              "<style scoped>\n",
              "    .dataframe tbody tr th:only-of-type {\n",
              "        vertical-align: middle;\n",
              "    }\n",
              "\n",
              "    .dataframe tbody tr th {\n",
              "        vertical-align: top;\n",
              "    }\n",
              "\n",
              "    .dataframe thead th {\n",
              "        text-align: right;\n",
              "    }\n",
              "</style>\n",
              "<table border=\"1\" class=\"dataframe\">\n",
              "  <thead>\n",
              "    <tr style=\"text-align: right;\">\n",
              "      <th></th>\n",
              "      <th>title</th>\n",
              "      <th>text</th>\n",
              "      <th>date</th>\n",
              "      <th>category</th>\n",
              "      <th>subcategory</th>\n",
              "      <th>link</th>\n",
              "    </tr>\n",
              "  </thead>\n",
              "  <tbody>\n",
              "    <tr>\n",
              "      <th>0</th>\n",
              "      <td>Após polêmica, Marine Le Pen diz que abomina n...</td>\n",
              "      <td>A candidata da direita nacionalista à Presidên...</td>\n",
              "      <td>2017-04-28</td>\n",
              "      <td>mundo</td>\n",
              "      <td>NaN</td>\n",
              "      <td>http://www1.folha.uol.com.br/mundo/2017/04/187...</td>\n",
              "    </tr>\n",
              "    <tr>\n",
              "      <th>1</th>\n",
              "      <td>Macron e Le Pen vão ao 2º turno na França, em ...</td>\n",
              "      <td>O centrista independente Emmanuel Macron e a d...</td>\n",
              "      <td>2017-04-23</td>\n",
              "      <td>mundo</td>\n",
              "      <td>NaN</td>\n",
              "      <td>http://www1.folha.uol.com.br/mundo/2017/04/187...</td>\n",
              "    </tr>\n",
              "    <tr>\n",
              "      <th>2</th>\n",
              "      <td>Apesar de larga vitória nas legislativas, Macr...</td>\n",
              "      <td>As eleições legislativas deste domingo (19) na...</td>\n",
              "      <td>2017-06-19</td>\n",
              "      <td>mundo</td>\n",
              "      <td>NaN</td>\n",
              "      <td>http://www1.folha.uol.com.br/mundo/2017/06/189...</td>\n",
              "    </tr>\n",
              "    <tr>\n",
              "      <th>3</th>\n",
              "      <td>Governo antecipa balanço, e Alckmin anuncia qu...</td>\n",
              "      <td>O número de ocorrências de homicídios dolosos ...</td>\n",
              "      <td>2015-07-24</td>\n",
              "      <td>cotidiano</td>\n",
              "      <td>NaN</td>\n",
              "      <td>http://www1.folha.uol.com.br/cotidiano/2015/07...</td>\n",
              "    </tr>\n",
              "    <tr>\n",
              "      <th>4</th>\n",
              "      <td>Após queda em maio, a atividade econômica sobe...</td>\n",
              "      <td>A economia cresceu 0,25% no segundo trimestre,...</td>\n",
              "      <td>2017-08-17</td>\n",
              "      <td>mercado</td>\n",
              "      <td>NaN</td>\n",
              "      <td>http://www1.folha.uol.com.br/mercado/2017/08/1...</td>\n",
              "    </tr>\n",
              "  </tbody>\n",
              "</table>\n",
              "</div>"
            ],
            "text/plain": [
              "                                               title  ...                                               link\n",
              "0  Após polêmica, Marine Le Pen diz que abomina n...  ...  http://www1.folha.uol.com.br/mundo/2017/04/187...\n",
              "1  Macron e Le Pen vão ao 2º turno na França, em ...  ...  http://www1.folha.uol.com.br/mundo/2017/04/187...\n",
              "2  Apesar de larga vitória nas legislativas, Macr...  ...  http://www1.folha.uol.com.br/mundo/2017/06/189...\n",
              "3  Governo antecipa balanço, e Alckmin anuncia qu...  ...  http://www1.folha.uol.com.br/cotidiano/2015/07...\n",
              "4  Após queda em maio, a atividade econômica sobe...  ...  http://www1.folha.uol.com.br/mercado/2017/08/1...\n",
              "\n",
              "[5 rows x 6 columns]"
            ]
          },
          "metadata": {
            "tags": []
          },
          "execution_count": 5
        }
      ]
    },
    {
      "cell_type": "markdown",
      "metadata": {
        "id": "fmPvwfIGqCUj"
      },
      "source": [
        "Usaremos a variável ``title`` para tentar estimar a variável ``category``. Entretanto, vamos analisar como é apresentada uma observação:\n"
      ]
    },
    {
      "cell_type": "code",
      "metadata": {
        "colab": {
          "base_uri": "https://localhost:8080/",
          "height": 35
        },
        "id": "95etqPL2qW09",
        "outputId": "45b4ef94-1798-4482-f928-cf63ff05fc6d"
      },
      "source": [
        "treino.title.iloc[-10]"
      ],
      "execution_count": 6,
      "outputs": [
        {
          "output_type": "execute_result",
          "data": {
            "application/vnd.google.colaboratory.intrinsic+json": {
              "type": "string"
            },
            "text/plain": [
              "'Pagamento de propina pode chegar a R$ 50 mil por carga'"
            ]
          },
          "metadata": {
            "tags": []
          },
          "execution_count": 6
        }
      ]
    },
    {
      "cell_type": "markdown",
      "metadata": {
        "id": "YKkY_yOFqb1l"
      },
      "source": [
        "perceba que temos palavras, números e caracteres especiais \"\\$\", então é necessário um pré processamento."
      ]
    },
    {
      "cell_type": "markdown",
      "metadata": {
        "id": "JeMB9SLcqAcH"
      },
      "source": [
        "# Pre processamento \n",
        "\n",
        "Geralmente se utiliza o NLTK para fazer a filtragem de caracteres e tokenização. Neste notebook vou utilizar o [spaCy](https://spacy.io/) um módulo escrito em  Python e Cython para processamento de linguagem natural.\n",
        "\n",
        "A documentação esta disponível em: \n",
        "\n",
        "> https://spacy.io/api\n",
        "\n"
      ]
    },
    {
      "cell_type": "markdown",
      "metadata": {
        "id": "Sl30vGajsjGO"
      },
      "source": [
        "## Instalando SpaCy\n",
        "\n",
        "Para instalar o SpaCy segue-se as instruções no site:\n",
        "\n",
        "> https://spacy.io/usage\n",
        "\n",
        "Entretanto no colab ele já vem instalado por padrão"
      ]
    },
    {
      "cell_type": "markdown",
      "metadata": {
        "id": "GDcJgwrRs1xl"
      },
      "source": [
        "O que precisamo fazer é baixar a lingua cujo os nossos dados foram escritos, no mesmo site tem as linhas que devem ser executadas para instalar o idioma portguês:"
      ]
    },
    {
      "cell_type": "code",
      "metadata": {
        "id": "dood_GD8tM-O"
      },
      "source": [
        "# Executar apenas uma vez e depois reiniciar o ambiente de execução.\n",
        "#!python -m spacy download pt_core_news_sm"
      ],
      "execution_count": 7,
      "outputs": []
    },
    {
      "cell_type": "markdown",
      "metadata": {
        "id": "2wBKBLMKtmpy"
      },
      "source": [
        "Para testar se o idioma desejado foi instalado executamos o comando. **Depois de baixar os dados é necessário reiniciar o ambiente de execução.**"
      ]
    },
    {
      "cell_type": "code",
      "metadata": {
        "id": "D4h48HIHtqUG"
      },
      "source": [
        "nlp = spacy.load('pt_core_news_sm')"
      ],
      "execution_count": 8,
      "outputs": []
    },
    {
      "cell_type": "markdown",
      "metadata": {
        "id": "MIOnijovwoTq"
      },
      "source": [
        "### Exemplo de uso"
      ]
    },
    {
      "cell_type": "code",
      "metadata": {
        "colab": {
          "base_uri": "https://localhost:8080/"
        },
        "id": "wqL2dl5sxL-V",
        "outputId": "a63a0ea6-7826-4039-efe4-e9c3896da8a8"
      },
      "source": [
        "meu_texto = treino.title.iloc[22]\n",
        "print(meu_texto)\n",
        "\n",
        "doc = nlp(meu_texto)\n",
        "print(type(doc))"
      ],
      "execution_count": 9,
      "outputs": [
        {
          "output_type": "stream",
          "text": [
            "Jon Snow volta aos holofotes em vídeo da 6ª temporada de 'Game of Thrones'\n",
            "<class 'spacy.tokens.doc.Doc'>\n"
          ],
          "name": "stdout"
        }
      ]
    },
    {
      "cell_type": "markdown",
      "metadata": {
        "id": "TErZMGqgweEW"
      },
      "source": [
        "Note que o nlp tem objetos do tipo ``Doc``, para saber o que esse objeto contém, podemos analisar a documentação:\n",
        "\n",
        "> https://spacy.io/usage/spacy-101#pipelines\n",
        "\n",
        "A descrição do Doc é: \n",
        "\n",
        "> A Doc is a sequence of Token objects. Access sentences and named entities, export annotations to numpy arrays, losslessly serialize to compressed binary strings. The Doc object holds an array of TokenC structs. The Python-level Token and Span objects are views of this array, i.e. they don’t own the data themselves. Fonte: [https://spacy.io/api/doc](https://spacy.io/api/doc)\n",
        "\n",
        "Basicamente quando instanciamos um objeto ``Doc`` o ``nlp`` faz uma série de processamentos, como tokenização, targge, parser, entre outros, até criar o objeto.\n",
        "\n",
        "<img src='https://spacy.io/pipeline-fde48da9b43661abcdf62ab70a546d71.svg' width=80%>\n",
        "\n",
        "> Fonte: https://spacy.io/usage/spacy-101#pipelines\n",
        "\n",
        "Os objetos ``Doc`` tem atributos muito uteis, podemos consultar em\n",
        "\n",
        "> https://spacy.io/api/doc\n"
      ]
    },
    {
      "cell_type": "code",
      "metadata": {
        "colab": {
          "base_uri": "https://localhost:8080/"
        },
        "id": "k5Htzsm5xxqe",
        "outputId": "b205f97e-3b8e-4ddf-8338-dec7229dc4dd"
      },
      "source": [
        "print('Meu Doc: ', doc)\n",
        "print('Entidades de doc: ', doc.ents)\n"
      ],
      "execution_count": 10,
      "outputs": [
        {
          "output_type": "stream",
          "text": [
            "Meu Doc:  Jon Snow volta aos holofotes em vídeo da 6ª temporada de 'Game of Thrones'\n",
            "Entidades de doc:  (Jon Snow, Game of Thrones)\n"
          ],
          "name": "stdout"
        }
      ]
    },
    {
      "cell_type": "markdown",
      "metadata": {
        "id": "kbM4Y4qezj6K"
      },
      "source": [
        "O objeto consegue identificar varias classificações dos elementos que compõem a frase"
      ]
    },
    {
      "cell_type": "code",
      "metadata": {
        "colab": {
          "base_uri": "https://localhost:8080/"
        },
        "id": "Q2irt4eL0viF",
        "outputId": "d4840579-e6d5-4523-dce8-49a9aa049ab1"
      },
      "source": [
        "print(doc.text, '\\n')\n",
        "for token in doc:\n",
        "    print(token.text, token.pos_, token.dep_)"
      ],
      "execution_count": 11,
      "outputs": [
        {
          "output_type": "stream",
          "text": [
            "Jon Snow volta aos holofotes em vídeo da 6ª temporada de 'Game of Thrones' \n",
            "\n",
            "Jon PROPN nsubj\n",
            "Snow PROPN flat:name\n",
            "volta VERB ROOT\n",
            "a ADP case\n",
            "os DET det\n",
            "holofotes PROPN obl\n",
            "em ADP case\n",
            "vídeo NOUN obl\n",
            "da ADP case\n",
            "6ª ADJ amod\n",
            "temporada NOUN nmod\n",
            "de ADP case\n",
            "' PUNCT punct\n",
            "Game PROPN nmod\n",
            "of PROPN flat:name\n",
            "Thrones PROPN flat:name\n",
            "' PUNCT punct\n"
          ],
          "name": "stdout"
        }
      ]
    },
    {
      "cell_type": "markdown",
      "metadata": {
        "id": "lpAInrqhQVyZ"
      },
      "source": [
        "é possível utilizar varios métodos dos tokens, por exemplo a representação da palavra em um espaço vetorial:"
      ]
    },
    {
      "cell_type": "code",
      "metadata": {
        "colab": {
          "base_uri": "https://localhost:8080/"
        },
        "id": "WYoH3FrdQZ6V",
        "outputId": "609e745c-2569-4be2-dc6c-c5b8a45a4b74"
      },
      "source": [
        "print(doc[1], '=', doc[1].vector)\n",
        "\n",
        "print('\\nNorma do vetor')\n",
        "print(doc[1], '=', doc[1].vector_norm)"
      ],
      "execution_count": 12,
      "outputs": [
        {
          "output_type": "stream",
          "text": [
            "Snow = [  2.7633104    7.462899     0.63145417   0.7640705    1.4044249\n",
            "   1.0847819   -5.712425    -2.5970128    3.591257     6.957478\n",
            "  11.282299     1.5133985   -5.667033    -1.6723096   -0.7537353\n",
            "  -1.4369892   -2.0909038    0.29047918   4.8055325   -4.069366\n",
            "  -3.749087    -1.4293463   -2.5723786    0.60486764  -4.8334146\n",
            "  -7.603295     0.38302672  -3.394683    -1.864464    -7.2505016\n",
            "  -2.334701    -5.8551       7.2367682    3.8455513    1.262495\n",
            " -10.394055     3.4092844   -4.875017     0.09814078   5.481478\n",
            "   1.432259    -1.1912625   -7.294257    -2.0385437   -1.3923185\n",
            "  -0.9888474   -4.113654     2.6139627   -1.9440972    3.370472\n",
            "  -3.3382788   -8.765093     0.6188494    2.0189853   -7.73819\n",
            "   9.392529     0.10228646   2.750429     1.814964    -2.7373686\n",
            "  -1.5277661   -2.0538282    9.940031    -1.2688947    6.332727\n",
            "  -8.138163     2.3974452   -0.10324526  -2.9152355   -0.81570804\n",
            "   2.6807451   -5.3069367    4.2606955   -7.808796    -0.45525482\n",
            "   2.3871043    1.4407995    5.228157     1.3777741    3.0054917\n",
            "   3.0935416    2.7068386    5.017227     4.783826     0.9116301\n",
            "   7.0248013   -7.414099    -0.49483967   7.6248903    2.488573\n",
            "   2.4533658   -7.1282387    1.0999506    3.819768     1.076453\n",
            "   3.3711514 ]\n",
            "\n",
            "Norma do vetor\n",
            "Snow = 43.630646\n"
          ],
          "name": "stdout"
        }
      ]
    },
    {
      "cell_type": "markdown",
      "metadata": {
        "id": "uLKcwRQ_SZvq"
      },
      "source": [
        "Podemos fazer análise de sentimento em relação ao ``token``:\n",
        "\n",
        "> ``sentiment``\tA scalar value indicating the positivity or negativity of the token. ``float``"
      ]
    },
    {
      "cell_type": "code",
      "metadata": {
        "colab": {
          "base_uri": "https://localhost:8080/"
        },
        "id": "6F1Rm5_CSvjf",
        "outputId": "c25ba99a-2054-461f-bd63-a68db9d38cb3"
      },
      "source": [
        "for token in doc:\n",
        "  print(token.sentiment)\n"
      ],
      "execution_count": 13,
      "outputs": [
        {
          "output_type": "stream",
          "text": [
            "0.0\n",
            "0.0\n",
            "0.0\n",
            "0.0\n",
            "0.0\n",
            "0.0\n",
            "0.0\n",
            "0.0\n",
            "0.0\n",
            "0.0\n",
            "0.0\n",
            "0.0\n",
            "0.0\n",
            "0.0\n",
            "0.0\n",
            "0.0\n",
            "0.0\n"
          ],
          "name": "stdout"
        }
      ]
    },
    {
      "cell_type": "markdown",
      "metadata": {
        "id": "By24571N0x6t"
      },
      "source": [
        "existem varios outros atributos e métodos disponíveis para tokens, disponíveis na documentação:\n",
        "\n",
        "> https://spacy.io/api/token\n",
        "  "
      ]
    },
    {
      "cell_type": "markdown",
      "metadata": {
        "id": "93B7G8J8RXiw"
      },
      "source": [
        "## Algumas modificações e Generator Expression\n",
        "\n",
        "Precisamos dos títulos tratados adequadamente para ser utilizados em modelos. Para isso é necessario uma função que faça essa modificação.\n",
        "\n",
        "Antes disso vou deixar todos os dados em minusculo pois não faz diferença entre \"comissão\" e \"Comissão\".\n",
        "\n",
        "> **Em vez de usar list comprehensions utilizarei um gerador criado através do generator expression. Basicamente cria um gerador para ser utilizado em tempo de execução. Para saber mais: [List Comprehension vs Generator Expressions in Python](https://code-maven.com/list-comprehension-vs-generator-expression)**"
      ]
    },
    {
      "cell_type": "code",
      "metadata": {
        "colab": {
          "base_uri": "https://localhost:8080/"
        },
        "id": "AUG_Qt0I35ie",
        "outputId": "1790eb4f-01b5-479c-af5a-41c5d62d2ce7"
      },
      "source": [
        "\n",
        "texto_para_tratamento = (titulo.lower() for titulo in treino.title)\n",
        "print(f'O gerador: {texto_para_tratamento}')"
      ],
      "execution_count": 14,
      "outputs": [
        {
          "output_type": "stream",
          "text": [
            "O gerador: <generator object <genexpr> at 0x7f629f24c9d0>\n"
          ],
          "name": "stdout"
        }
      ]
    },
    {
      "cell_type": "markdown",
      "metadata": {
        "id": "UyOYZLcZ5LeT"
      },
      "source": [
        "em vez de receber um gerador a função para tratar os textos vai receber um ``Doc`` para conseguirmos realizar as seguintas rotinas:\n",
        "\n",
        "* Remover stopwords \"O, A, do, da, na, se, aqueles\", palavras irrelevantes para entender o contexto.\n",
        "\n",
        "* Ter apenas caracteres alphabeticos \n",
        "\n",
        "* Título com no mínomo três palavras."
      ]
    },
    {
      "cell_type": "code",
      "metadata": {
        "id": "3aTjRBHU3GHB"
      },
      "source": [
        "def trata_textos(doc):\n",
        "  \"\"\"\n",
        "  Esta função trata os textos recebidos,\n",
        "  remove stopwords, retorna alphanumericos\n",
        "  maior que três palavras.\n",
        "  \"\"\"\n",
        "  tokens_validos = []\n",
        "  for token in doc: \n",
        "    # variável de validação\n",
        "    # garante que o token não é stopword e é alphanumerico\n",
        "    e_valido = not token.is_stop and token.is_alpha\n",
        "    if e_valido:\n",
        "      tokens_validos.append(token.text)\n",
        "      \n",
        "  if len(tokens_validos) > 2:\n",
        "    return \" \".join(tokens_validos)"
      ],
      "execution_count": 15,
      "outputs": []
    },
    {
      "cell_type": "markdown",
      "metadata": {
        "id": "UtbmGkef7-4M"
      },
      "source": [
        "Testando a função:"
      ]
    },
    {
      "cell_type": "code",
      "metadata": {
        "colab": {
          "base_uri": "https://localhost:8080/",
          "height": 53
        },
        "id": "vQJjHNGs3QEY",
        "outputId": "3f956496-65fe-451d-bf05-ffa907b0ffb6"
      },
      "source": [
        "print(doc)\n",
        "trata_textos(doc)"
      ],
      "execution_count": 16,
      "outputs": [
        {
          "output_type": "stream",
          "text": [
            "Jon Snow volta aos holofotes em vídeo da 6ª temporada de 'Game of Thrones'\n"
          ],
          "name": "stdout"
        },
        {
          "output_type": "execute_result",
          "data": {
            "application/vnd.google.colaboratory.intrinsic+json": {
              "type": "string"
            },
            "text/plain": [
              "'Jon Snow volta a holofotes vídeo temporada Game of Thrones'"
            ]
          },
          "metadata": {
            "tags": []
          },
          "execution_count": 16
        }
      ]
    },
    {
      "cell_type": "markdown",
      "metadata": {
        "id": "N1MiqvqJJf8W"
      },
      "source": [
        "Um ponto importante é que o ``doc`` que criamos recebeu uma ``string``, mas precisamos passar uma estrtura de dados para ``nlp``, para saber como fazer isso precisamos entender como funciona a classe ``nlp``:"
      ]
    },
    {
      "cell_type": "code",
      "metadata": {
        "colab": {
          "base_uri": "https://localhost:8080/"
        },
        "id": "ZDyBwbd6J50S",
        "outputId": "087af7cb-a646-41b7-b9e5-4130ea2659e7"
      },
      "source": [
        "type(nlp)"
      ],
      "execution_count": 17,
      "outputs": [
        {
          "output_type": "execute_result",
          "data": {
            "text/plain": [
              "spacy.lang.pt.Portuguese"
            ]
          },
          "metadata": {
            "tags": []
          },
          "execution_count": 17
        }
      ]
    },
    {
      "cell_type": "markdown",
      "metadata": {
        "id": "saLfk-_QLqBK"
      },
      "source": [
        "Olhando a [documentação do ``spacy.lang``](https://spacy.io/api/language#init) um dos parâmetros utilizados pelo ``__init__()`` é o ``batch_size`` e para passar uma estrutura de dados com textos para o ``nlp`` utiliza-se um \"pipeline\" uma linha de processos, o seguinte exemplo ilustra como fazer isso: \n",
        "\n",
        "```python\n",
        "texts = [\"One document.\", \"...\", \"Lots of documents\"]\n",
        "for doc in nlp.pipe(texts, batch_size=50):\n",
        "    assert doc.has_annotation(\"DEP\")\n",
        "```\n",
        "\n",
        "Além do ``batch_size`` passado ao  ``nlp.pipe``, podemos dizer quantos batchs serão processados por cada núcleo através do parâmetro ``n_processor`` descrito na documentação do pipe:\n",
        "\n",
        "> https://spacy.io/api/language#pipe\n",
        "\n",
        "> ``n_process`` \tNumber of processors to use. Defaults to 1.\n",
        "int\n",
        "\n",
        "para ver quantos núcleos de processamento a máquina virtual do colab basta usar o comando\n",
        "> ``lscpu | grep -E '^Thread|^Core|^Socket|^CPU\\('``"
      ]
    },
    {
      "cell_type": "code",
      "metadata": {
        "colab": {
          "base_uri": "https://localhost:8080/"
        },
        "id": "NcfTp0RBLq2g",
        "outputId": "eea6ffc7-2646-4836-8f32-df9819e1709e"
      },
      "source": [
        "!lscpu | grep -E '^Thread|^Core|^Socket|^CPU\\('"
      ],
      "execution_count": 18,
      "outputs": [
        {
          "output_type": "stream",
          "text": [
            "CPU(s):              2\n",
            "Thread(s) per core:  2\n",
            "Core(s) per socket:  1\n",
            "Socket(s):           1\n"
          ],
          "name": "stdout"
        }
      ]
    },
    {
      "cell_type": "markdown",
      "metadata": {
        "id": "o6vQSvC5PymK"
      },
      "source": [
        "caso não saiba quantos núcleos de processamento tem, é possível passar ``n_process=-1`` ai o spacy irá utilizar todos os disponíveis.\n",
        "\n",
        "### <font color=red ><b>Lembrando que esse processo pode demorar!</b></font>"
      ]
    },
    {
      "cell_type": "markdown",
      "metadata": {
        "id": "nBgg1PV2Hsm3"
      },
      "source": [
        "```python\n",
        ">>> texto_tratado = [trata_textos(doc) for doc in nlp.pipe(texto_para_tratamento,batch_size=1000,n_process = -1)]\n",
        "\n",
        "CPU times: user 1h 54min 5s, sys: 1min 22s, total: 1h 55min 28s\n",
        "Wall time: 2h 1min 1s\n",
        "```"
      ]
    },
    {
      "cell_type": "code",
      "metadata": {
        "id": "iRnjtPfJ7gVt"
      },
      "source": [
        "#texto_tratado = [trata_textos(doc) for doc in nlp.pipe(texto_para_tratamento,batch_size=1000,n_process = -1)]"
      ],
      "execution_count": 19,
      "outputs": []
    },
    {
      "cell_type": "markdown",
      "metadata": {
        "id": "DIOvjCDMy6u1"
      },
      "source": [
        "\n",
        "### Salvando objeto\n",
        "vou salvar est objeto para evitar que demore todo este tempo toda vez que for necessario executar este notebook:\n"
      ]
    },
    {
      "cell_type": "markdown",
      "metadata": {
        "id": "-p1Pd4ghzBID"
      },
      "source": [
        "```python\n",
        "import pickle\n",
        "\n",
        "file_texto_tratado = open(b'texto_tratado.obj','wb')\n",
        "pickle.dump(texto_tratado, file_texto_tratado)\n",
        "\n",
        "```"
      ]
    },
    {
      "cell_type": "markdown",
      "metadata": {
        "id": "3YjpuicFz6Gv"
      },
      "source": [
        "### Lendo objeto salvo\n",
        "\n",
        "para ler o objeto salvo através do pickle, usamos a seguinte sintaxe, depois de baixar o arquivo:\n",
        "\n",
        "https://github.com/ConradBitt/processamento_linguagem_natural/blob/master/texto_tratado.obj\n"
      ]
    },
    {
      "cell_type": "code",
      "metadata": {
        "id": "XtgqKH470nlV"
      },
      "source": [
        "import pickle\n",
        "\n",
        "texto_tratado_objeto = open(b'/content/drive/MyDrive/Colab Notebooks/word2vec/dados/texto_tratado.obj',\n",
        "                            'rb')\n",
        "titulos_tratados = pickle.load(texto_tratado_objeto)"
      ],
      "execution_count": 20,
      "outputs": []
    },
    {
      "cell_type": "code",
      "metadata": {
        "colab": {
          "base_uri": "https://localhost:8080/"
        },
        "id": "KT5grfrB1D7I",
        "outputId": "1922e429-84fc-452b-ff8b-1fb5d1c98223"
      },
      "source": [
        "titulos_tratados[:15]"
      ],
      "execution_count": 21,
      "outputs": [
        {
          "output_type": "execute_result",
          "data": {
            "text/plain": [
              "['ataques multiplicam israel e cisjordânia morrem gaza',\n",
              " 'dutra trânsito lento chegada a paulo',\n",
              " 'alta chicago bulls felício destaque brasil nba',\n",
              " 'sábato influenciou críticos hoje questionado',\n",
              " 'diretor israelense humor superar a dor perda shivá',\n",
              " 'continuação universidade columbia analisa erros rolling stone reportagem',\n",
              " 'el niño trará impactos enormes alertam cientistas',\n",
              " 'folha lança aplicativo realidade virtual filme percorre sp',\n",
              " 'platini suspensão fraude e promete recorrer uefa francês',\n",
              " 'premiê israel pressionado a cancelar visita donald trump',\n",
              " None,\n",
              " 'grêmio chega a acordo barrios e espera liberação palmeiras',\n",
              " 'perspectivas abrem o mercosul',\n",
              " 'governo campanha prevenção a hiv aplicativo gay',\n",
              " 'brilho eterno mente lembranças terá série tv site']"
            ]
          },
          "metadata": {
            "tags": []
          },
          "execution_count": 21
        }
      ]
    },
    {
      "cell_type": "markdown",
      "metadata": {
        "id": "iZhYckXv23ez"
      },
      "source": [
        "> **Referência**: https://www.greelane.com/pt/ci%C3%AAncia-tecnologia-matem%C3%A1tica/ci%C3%AAncia-da-computa%C3%A7%C3%A3o/using-pickle-to-save-objects-2813661"
      ]
    },
    {
      "cell_type": "markdown",
      "metadata": {
        "id": "EScUVC2B2AX2"
      },
      "source": [
        "## Tratando entradas "
      ]
    },
    {
      "cell_type": "code",
      "metadata": {
        "colab": {
          "base_uri": "https://localhost:8080/",
          "height": 520
        },
        "id": "kqcl7PlMQHpo",
        "outputId": "7f8dac83-8570-4b4b-fe21-45790020fb57"
      },
      "source": [
        "titulos_tratados = pd.DataFrame(\n",
        "    {'titulo':titulos_tratados}\n",
        ")\n",
        "\n",
        "titulos_tratados.head(15)"
      ],
      "execution_count": 22,
      "outputs": [
        {
          "output_type": "execute_result",
          "data": {
            "text/html": [
              "<div>\n",
              "<style scoped>\n",
              "    .dataframe tbody tr th:only-of-type {\n",
              "        vertical-align: middle;\n",
              "    }\n",
              "\n",
              "    .dataframe tbody tr th {\n",
              "        vertical-align: top;\n",
              "    }\n",
              "\n",
              "    .dataframe thead th {\n",
              "        text-align: right;\n",
              "    }\n",
              "</style>\n",
              "<table border=\"1\" class=\"dataframe\">\n",
              "  <thead>\n",
              "    <tr style=\"text-align: right;\">\n",
              "      <th></th>\n",
              "      <th>titulo</th>\n",
              "    </tr>\n",
              "  </thead>\n",
              "  <tbody>\n",
              "    <tr>\n",
              "      <th>0</th>\n",
              "      <td>ataques multiplicam israel e cisjordânia morre...</td>\n",
              "    </tr>\n",
              "    <tr>\n",
              "      <th>1</th>\n",
              "      <td>dutra trânsito lento chegada a paulo</td>\n",
              "    </tr>\n",
              "    <tr>\n",
              "      <th>2</th>\n",
              "      <td>alta chicago bulls felício destaque brasil nba</td>\n",
              "    </tr>\n",
              "    <tr>\n",
              "      <th>3</th>\n",
              "      <td>sábato influenciou críticos hoje questionado</td>\n",
              "    </tr>\n",
              "    <tr>\n",
              "      <th>4</th>\n",
              "      <td>diretor israelense humor superar a dor perda s...</td>\n",
              "    </tr>\n",
              "    <tr>\n",
              "      <th>5</th>\n",
              "      <td>continuação universidade columbia analisa erro...</td>\n",
              "    </tr>\n",
              "    <tr>\n",
              "      <th>6</th>\n",
              "      <td>el niño trará impactos enormes alertam cientistas</td>\n",
              "    </tr>\n",
              "    <tr>\n",
              "      <th>7</th>\n",
              "      <td>folha lança aplicativo realidade virtual filme...</td>\n",
              "    </tr>\n",
              "    <tr>\n",
              "      <th>8</th>\n",
              "      <td>platini suspensão fraude e promete recorrer ue...</td>\n",
              "    </tr>\n",
              "    <tr>\n",
              "      <th>9</th>\n",
              "      <td>premiê israel pressionado a cancelar visita do...</td>\n",
              "    </tr>\n",
              "    <tr>\n",
              "      <th>10</th>\n",
              "      <td>None</td>\n",
              "    </tr>\n",
              "    <tr>\n",
              "      <th>11</th>\n",
              "      <td>grêmio chega a acordo barrios e espera liberaç...</td>\n",
              "    </tr>\n",
              "    <tr>\n",
              "      <th>12</th>\n",
              "      <td>perspectivas abrem o mercosul</td>\n",
              "    </tr>\n",
              "    <tr>\n",
              "      <th>13</th>\n",
              "      <td>governo campanha prevenção a hiv aplicativo gay</td>\n",
              "    </tr>\n",
              "    <tr>\n",
              "      <th>14</th>\n",
              "      <td>brilho eterno mente lembranças terá série tv site</td>\n",
              "    </tr>\n",
              "  </tbody>\n",
              "</table>\n",
              "</div>"
            ],
            "text/plain": [
              "                                               titulo\n",
              "0   ataques multiplicam israel e cisjordânia morre...\n",
              "1                dutra trânsito lento chegada a paulo\n",
              "2      alta chicago bulls felício destaque brasil nba\n",
              "3        sábato influenciou críticos hoje questionado\n",
              "4   diretor israelense humor superar a dor perda s...\n",
              "5   continuação universidade columbia analisa erro...\n",
              "6   el niño trará impactos enormes alertam cientistas\n",
              "7   folha lança aplicativo realidade virtual filme...\n",
              "8   platini suspensão fraude e promete recorrer ue...\n",
              "9   premiê israel pressionado a cancelar visita do...\n",
              "10                                               None\n",
              "11  grêmio chega a acordo barrios e espera liberaç...\n",
              "12                      perspectivas abrem o mercosul\n",
              "13    governo campanha prevenção a hiv aplicativo gay\n",
              "14  brilho eterno mente lembranças terá série tv site"
            ]
          },
          "metadata": {
            "tags": []
          },
          "execution_count": 22
        }
      ]
    },
    {
      "cell_type": "markdown",
      "metadata": {
        "id": "Z7-i74OTS7u_"
      },
      "source": [
        "# Treinando modelo Gensim\n",
        "\n",
        "Gensim é uma biblioteca com vários modelos já treinados onde só precisamos importar. A utilidade dela é que, assim só o fato de demorar 1h 50m pra seprar os dados, treinar o modelo também demora, então o gesim oferecendo modelos treinados onde só precisamos ajustar os nossos dados facilita muito.\n",
        "\n",
        "> https://radimrehurek.com/gensim/\n",
        "\n",
        "Sobre o modelo que vamos utilizar o Word2Vec o google tem um resumo de como ele funciona: \n",
        "\n",
        "> https://code.google.com/archive/p/word2vec/\n",
        "\n",
        "mas basicamente ele representa palavras como vetores pertencentes à um espaço vetorial de dimensão finita.\n",
        "\n",
        "Na documentação do Gensim podemos ver como esta classe funciona:\n",
        "\n",
        "> https://radimrehurek.com/gensim/models/word2vec.html"
      ]
    },
    {
      "cell_type": "code",
      "metadata": {
        "id": "cpAuMI233oJS"
      },
      "source": [
        "from gensim.models import Word2Vec"
      ],
      "execution_count": 23,
      "outputs": []
    },
    {
      "cell_type": "markdown",
      "metadata": {
        "id": "_xty9fII8hCY"
      },
      "source": [
        "Existem duas formas de resolver problemas de NLP com o Word2vec, através das CBOW e do SG. O Continous Bag Of Words (CBOW) tenta estimar uma palavra através do contexto, já o SkipGram (SG) tenta estimar o contexto através de uma palavra.\n",
        "\n",
        "Para utilizar o SkipGram o parâmetro  ``sg = 1``, caso precisemos utilizar o CBOW ``sg = 0``.\n",
        "\n",
        "Além disso, o fato dos algorítmos baseados em word2vec trabalhar com contexto precisamos dizer a \"janela\" de palavras utilizadas, ou ``window``.\n",
        "\n",
        "Por fim, precisamos especificar o tamanho do vetor, isto é, o espaço vetorial em que o modelo irá trabalhar. Fazemos isso através do parâmetro ``size``.\n",
        "\n",
        "Outro problema que podemos solucionar já na definição de hiperparâmetros são erros de digitação, por exemplo \"escols\"/\"escoka\"/\"escolq\", essas palavras são bem rara, então podemos definir uma frequência minima para que a palavra seja considerada pelo modelo. Por exemplo, ao settar ``min_count=5`` palavras que foram escritas menos de 5 vezes não serão consideradas. \n",
        "\n",
        "Outro parâmetro importante é o ``ALPHA``. Word2vec não é um modelo de rede profunda, mas tem um parâmetro de taxa de aprendizagem indicado por ``alpha``. Basicamente queremos minimizar a função de custo e o alpha é o coeficiente angular do gradiente desse campo que queremos minimizar. Mas pode acontecer desta função nunca atingir um minimo global, para ajudar neste problema é comum adicionar um decaimento no parâmetro alpha, através do ``min_alpha``"
      ]
    },
    {
      "cell_type": "code",
      "metadata": {
        "id": "i_ICUbR37g7f"
      },
      "source": [
        "w2v_modelo = Word2Vec(sg = 0, window = 2,\n",
        "                      size = 300, min_count=3,\n",
        "                      alpha=0.03, min_alpha=0.007)"
      ],
      "execution_count": 24,
      "outputs": []
    },
    {
      "cell_type": "markdown",
      "metadata": {
        "id": "XsSwF-7w99Wm"
      },
      "source": [
        "podemos salvar o modelo através do método: ``save()``:"
      ]
    },
    {
      "cell_type": "code",
      "metadata": {
        "id": "IcSwAyW75whc"
      },
      "source": [
        "#w2v_modelo.save(\"word2vec.model\")"
      ],
      "execution_count": 25,
      "outputs": []
    },
    {
      "cell_type": "markdown",
      "metadata": {
        "id": "-XXT0fczBqWy"
      },
      "source": [
        "Instanciado o modelo precisamos criar um vocabulário e pra isso usamos uma [função do proprio word2vec para criar um vocabulario, chamada ``build_vocab``](https://radimrehurek.com/gensim/models/word2vec.html#gensim.models.word2vec.Word2Vec.build_vocab)"
      ]
    },
    {
      "cell_type": "markdown",
      "metadata": {
        "id": "Hm19LBq3C78A"
      },
      "source": [
        "Mas pra isso é preciso garantir que não tenha palavras duplicadas e nem campos do tipo ``None``"
      ]
    },
    {
      "cell_type": "code",
      "metadata": {
        "colab": {
          "base_uri": "https://localhost:8080/"
        },
        "id": "zOeqy8HaDjyZ",
        "outputId": "1cca1f54-a374-45a6-ba85-efd60e29cc3a"
      },
      "source": [
        "print(titulos_tratados.shape)\n",
        "\n",
        "titulos_tratados = titulos_tratados.dropna().drop_duplicates()\n",
        "\n",
        "print(titulos_tratados.shape)"
      ],
      "execution_count": 26,
      "outputs": [
        {
          "output_type": "stream",
          "text": [
            "(86000, 1)\n",
            "(82296, 1)\n"
          ],
          "name": "stdout"
        }
      ]
    },
    {
      "cell_type": "code",
      "metadata": {
        "colab": {
          "base_uri": "https://localhost:8080/"
        },
        "id": "U4VEPQzhCT6k",
        "outputId": "ab56404b-51ea-4a50-df86-35cd9a5ecf7c"
      },
      "source": [
        "%%time\n",
        "lista_de_lista_de_tokens = [titulo.split(' ') for titulo in titulos_tratados.titulo]"
      ],
      "execution_count": 27,
      "outputs": [
        {
          "output_type": "stream",
          "text": [
            "CPU times: user 300 ms, sys: 56.9 ms, total: 357 ms\n",
            "Wall time: 380 ms\n"
          ],
          "name": "stdout"
        }
      ]
    },
    {
      "cell_type": "code",
      "metadata": {
        "colab": {
          "base_uri": "https://localhost:8080/"
        },
        "id": "9YcHGZQfD28d",
        "outputId": "0dac1ca8-8a8b-4dab-f226-371dbc9fd53e"
      },
      "source": [
        "lista_de_lista_de_tokens[:5]"
      ],
      "execution_count": 28,
      "outputs": [
        {
          "output_type": "execute_result",
          "data": {
            "text/plain": [
              "[['ataques', 'multiplicam', 'israel', 'e', 'cisjordânia', 'morrem', 'gaza'],\n",
              " ['dutra', 'trânsito', 'lento', 'chegada', 'a', 'paulo'],\n",
              " ['alta', 'chicago', 'bulls', 'felício', 'destaque', 'brasil', 'nba'],\n",
              " ['sábato', 'influenciou', 'críticos', 'hoje', 'questionado'],\n",
              " ['diretor', 'israelense', 'humor', 'superar', 'a', 'dor', 'perda', 'shivá']]"
            ]
          },
          "metadata": {
            "tags": []
          },
          "execution_count": 28
        }
      ]
    },
    {
      "cell_type": "markdown",
      "metadata": {
        "id": "rqpgZMbkCg20"
      },
      "source": [
        "Dado que temos nossa lista com a lista de tokens de cada frase podemos fornecer ao modelo para que ele tenha um vocabulário:"
      ]
    },
    {
      "cell_type": "code",
      "metadata": {
        "colab": {
          "base_uri": "https://localhost:8080/"
        },
        "id": "lRAh9xCY-GG7",
        "outputId": "e7715fb5-f0ab-4e10-9b3b-3a1d1de9c67d"
      },
      "source": [
        "import logging\n",
        "\n",
        "logging.basicConfig(format='%(asctime)s : - %(message)s', level = logging.INFO)\n",
        "w2v_modelo.build_vocab(lista_de_lista_de_tokens, progress_per=5000)"
      ],
      "execution_count": 29,
      "outputs": [
        {
          "output_type": "stream",
          "text": [
            "2021-05-09 16:40:46,618 : - collecting all words and their counts\n",
            "2021-05-09 16:40:46,621 : - PROGRESS: at sentence #0, processed 0 words, keeping 0 word types\n",
            "2021-05-09 16:40:46,651 : - PROGRESS: at sentence #5000, processed 34585 words, keeping 10280 word types\n",
            "2021-05-09 16:40:46,668 : - PROGRESS: at sentence #10000, processed 69086 words, keeping 14900 word types\n",
            "2021-05-09 16:40:46,694 : - PROGRESS: at sentence #15000, processed 103768 words, keeping 18253 word types\n",
            "2021-05-09 16:40:46,715 : - PROGRESS: at sentence #20000, processed 138486 words, keeping 21018 word types\n",
            "2021-05-09 16:40:46,732 : - PROGRESS: at sentence #25000, processed 173220 words, keeping 23413 word types\n",
            "2021-05-09 16:40:46,753 : - PROGRESS: at sentence #30000, processed 207734 words, keeping 25392 word types\n",
            "2021-05-09 16:40:46,778 : - PROGRESS: at sentence #35000, processed 242400 words, keeping 27279 word types\n",
            "2021-05-09 16:40:46,802 : - PROGRESS: at sentence #40000, processed 277127 words, keeping 28984 word types\n",
            "2021-05-09 16:40:46,832 : - PROGRESS: at sentence #45000, processed 311878 words, keeping 30500 word types\n",
            "2021-05-09 16:40:46,872 : - PROGRESS: at sentence #50000, processed 346751 words, keeping 31870 word types\n",
            "2021-05-09 16:40:46,899 : - PROGRESS: at sentence #55000, processed 381480 words, keeping 33213 word types\n",
            "2021-05-09 16:40:46,935 : - PROGRESS: at sentence #60000, processed 416332 words, keeping 34386 word types\n",
            "2021-05-09 16:40:46,961 : - PROGRESS: at sentence #65000, processed 451043 words, keeping 35512 word types\n",
            "2021-05-09 16:40:46,988 : - PROGRESS: at sentence #70000, processed 485786 words, keeping 36669 word types\n",
            "2021-05-09 16:40:47,008 : - PROGRESS: at sentence #75000, processed 520749 words, keeping 37726 word types\n",
            "2021-05-09 16:40:47,031 : - PROGRESS: at sentence #80000, processed 555386 words, keeping 38732 word types\n",
            "2021-05-09 16:40:47,045 : - collected 39198 word types from a corpus of 571354 raw words and 82296 sentences\n",
            "2021-05-09 16:40:47,048 : - Loading a fresh vocabulary\n",
            "2021-05-09 16:40:47,110 : - effective_min_count=3 retains 17867 unique words (45% of original 39198, drops 21331)\n",
            "2021-05-09 16:40:47,112 : - effective_min_count=3 leaves 544403 word corpus (95% of original 571354, drops 26951)\n",
            "2021-05-09 16:40:47,195 : - deleting the raw counts dictionary of 39198 items\n",
            "2021-05-09 16:40:47,198 : - sample=0.001 downsamples 11 most-common words\n",
            "2021-05-09 16:40:47,213 : - downsampling leaves estimated 497351 word corpus (91.4% of prior 544403)\n",
            "2021-05-09 16:40:47,319 : - estimated required memory for 17867 words and 300 dimensions: 51814300 bytes\n",
            "2021-05-09 16:40:47,321 : - resetting layer weights\n"
          ],
          "name": "stderr"
        }
      ]
    },
    {
      "cell_type": "markdown",
      "metadata": {
        "id": "jToVOogkIyJR"
      },
      "source": [
        "### Comentario sobre Word2vec\n",
        "\n",
        "Os modelos de representações de palavras em espaços vetoriais que, de certa forma, capturam o contexto das frases proporcionaram um grande avanço na área de processamento de linguagem natural.\n",
        "\n",
        "O artigo original de Tomas Mikolov, Kai Chen, Greg Corrado e Jeffrey Dean é o que descreveu como funciona o word2vec nas formas de CBOW e SG, [Efficient Estimation of Word Representations inVector Space](https://arxiv.org/pdf/1301.3781.pdf).\n",
        "\n",
        "Existe também uma representação de word embedding feita pelo [Word Embedding Project Tensor Flow](https://projector.tensorflow.org/) onde ele representa em três dimensões essas palavras representadas em milhares de dimensões."
      ]
    },
    {
      "cell_type": "markdown",
      "metadata": {
        "id": "XDzEpUrgBj2V"
      },
      "source": [
        "# Treinando modelo com word2vec\n",
        "\n",
        "O nosso modelo em ``w2v_modelo`` tem vários atributos, podemos verificar quais são na documentação do Gensim, ou utilizar o método ``dir(w2v_modelo)``, ele vai indicar todos os atributos e métodos do objeto.\n",
        "\n",
        "Vamos fazer um filtro para que sejam exibidos apenas os métodos e atributos publicos:"
      ]
    },
    {
      "cell_type": "code",
      "metadata": {
        "colab": {
          "base_uri": "https://localhost:8080/"
        },
        "id": "8PHRdqAPEU43",
        "outputId": "a5d0c610-fb50-4126-80e5-4377d35bacad"
      },
      "source": [
        "i = 1\n",
        "for atributo in dir(w2v_modelo):\n",
        "  if '_' not in atributo:\n",
        "    print(f'{i} - {atributo}')\n",
        "    i += 1\n",
        "    \n",
        "  \n",
        "    "
      ],
      "execution_count": 44,
      "outputs": [
        {
          "output_type": "stream",
          "text": [
            "1 - accuracy\n",
            "2 - alpha\n",
            "3 - callbacks\n",
            "4 - epochs\n",
            "5 - hashfxn\n",
            "6 - hs\n",
            "7 - iter\n",
            "8 - load\n",
            "9 - negative\n",
            "10 - random\n",
            "11 - sample\n",
            "12 - save\n",
            "13 - score\n",
            "14 - sg\n",
            "15 - similarity\n",
            "16 - syn1\n",
            "17 - syn1neg\n",
            "18 - train\n",
            "19 - trainables\n",
            "20 - vocabulary\n",
            "21 - window\n",
            "22 - wmdistance\n",
            "23 - workers\n",
            "24 - wv\n"
          ],
          "name": "stdout"
        }
      ]
    },
    {
      "cell_type": "markdown",
      "metadata": {
        "id": "j9tyMlNTDPRj"
      },
      "source": [
        "note que o atributo nº 18 é ``train``, vamos utiliza-lo para treinar o modelo."
      ]
    },
    {
      "cell_type": "markdown",
      "metadata": {
        "id": "y9BCmQuaB8rT"
      },
      "source": [
        "## Usando método ``train``:\n",
        "\n",
        "```python \n",
        "Word2Vec.train(sentences=None, corpus_file=None, total_examples=None, total_words=None, \n",
        "  epochs=None, start_alpha=None, end_alpha=None, \n",
        "  word_count=0, queue_factor=2, report_delay=1.0, \n",
        "  compute_loss=False, callbacks=())\n",
        "```\n",
        "\n",
        "precisamos fornecer as sentenças/textos para o modelo e também a quantidade de amostras, mas sem dúvidas o parâmetro mais importante é o ``epochs``. Epocas é quando ocorre o foward e o backpropagation na rede para ajustar o peso da loss escolhida."
      ]
    },
    {
      "cell_type": "code",
      "metadata": {
        "colab": {
          "base_uri": "https://localhost:8080/"
        },
        "id": "zAYSgfLhEK_8",
        "outputId": "555cbba8-b57a-4ed7-c172-7c8748d75d3d"
      },
      "source": [
        "total_amostras = w2v_modelo.corpus_count\n",
        "total_amostras"
      ],
      "execution_count": 47,
      "outputs": [
        {
          "output_type": "execute_result",
          "data": {
            "text/plain": [
              "82296"
            ]
          },
          "metadata": {
            "tags": []
          },
          "execution_count": 47
        }
      ]
    },
    {
      "cell_type": "code",
      "metadata": {
        "colab": {
          "base_uri": "https://localhost:8080/"
        },
        "id": "RXyodW4UDkTH",
        "outputId": "4316fcf6-f61c-4596-d978-6940feea7630"
      },
      "source": [
        "%%time\n",
        "\n",
        "w2v_modelo.train(sentences = lista_de_lista_de_tokens,\n",
        "                 total_examples = total_amostras, \n",
        "                 epochs = 30)"
      ],
      "execution_count": 49,
      "outputs": [
        {
          "output_type": "stream",
          "text": [
            "2021-05-09 17:02:22,468 : - training model with 3 workers on 17867 vocabulary and 300 features, using sg=0 hs=0 sample=0.001 negative=5 window=2\n",
            "2021-05-09 17:02:23,492 : - EPOCH 1 - PROGRESS: at 63.05% examples, 310753 words/s, in_qsize 5, out_qsize 0\n",
            "2021-05-09 17:02:23,977 : - worker thread finished; awaiting finish of 2 more threads\n",
            "2021-05-09 17:02:23,989 : - worker thread finished; awaiting finish of 1 more threads\n",
            "2021-05-09 17:02:24,000 : - worker thread finished; awaiting finish of 0 more threads\n",
            "2021-05-09 17:02:24,003 : - EPOCH - 1 : training on 571354 raw words (497533 effective words) took 1.5s, 327472 effective words/s\n",
            "2021-05-09 17:02:25,033 : - EPOCH 2 - PROGRESS: at 59.58% examples, 291707 words/s, in_qsize 4, out_qsize 1\n",
            "2021-05-09 17:02:25,611 : - worker thread finished; awaiting finish of 2 more threads\n",
            "2021-05-09 17:02:25,628 : - worker thread finished; awaiting finish of 1 more threads\n",
            "2021-05-09 17:02:25,645 : - worker thread finished; awaiting finish of 0 more threads\n",
            "2021-05-09 17:02:25,646 : - EPOCH - 2 : training on 571354 raw words (497366 effective words) took 1.6s, 305620 effective words/s\n",
            "2021-05-09 17:02:26,661 : - EPOCH 3 - PROGRESS: at 68.29% examples, 337962 words/s, in_qsize 5, out_qsize 0\n",
            "2021-05-09 17:02:27,079 : - worker thread finished; awaiting finish of 2 more threads\n",
            "2021-05-09 17:02:27,090 : - worker thread finished; awaiting finish of 1 more threads\n",
            "2021-05-09 17:02:27,103 : - worker thread finished; awaiting finish of 0 more threads\n",
            "2021-05-09 17:02:27,104 : - EPOCH - 3 : training on 571354 raw words (497386 effective words) took 1.4s, 343693 effective words/s\n",
            "2021-05-09 17:02:28,151 : - EPOCH 4 - PROGRESS: at 70.02% examples, 336727 words/s, in_qsize 5, out_qsize 0\n",
            "2021-05-09 17:02:28,498 : - worker thread finished; awaiting finish of 2 more threads\n",
            "2021-05-09 17:02:28,515 : - worker thread finished; awaiting finish of 1 more threads\n",
            "2021-05-09 17:02:28,529 : - worker thread finished; awaiting finish of 0 more threads\n",
            "2021-05-09 17:02:28,530 : - EPOCH - 4 : training on 571354 raw words (497256 effective words) took 1.4s, 352111 effective words/s\n",
            "2021-05-09 17:02:29,544 : - EPOCH 5 - PROGRESS: at 66.55% examples, 330009 words/s, in_qsize 5, out_qsize 0\n",
            "2021-05-09 17:02:29,929 : - worker thread finished; awaiting finish of 2 more threads\n",
            "2021-05-09 17:02:29,965 : - worker thread finished; awaiting finish of 1 more threads\n",
            "2021-05-09 17:02:29,971 : - worker thread finished; awaiting finish of 0 more threads\n",
            "2021-05-09 17:02:29,972 : - EPOCH - 5 : training on 571354 raw words (497308 effective words) took 1.4s, 347701 effective words/s\n",
            "2021-05-09 17:02:30,989 : - EPOCH 6 - PROGRESS: at 68.28% examples, 337167 words/s, in_qsize 5, out_qsize 0\n",
            "2021-05-09 17:02:31,374 : - worker thread finished; awaiting finish of 2 more threads\n",
            "2021-05-09 17:02:31,382 : - worker thread finished; awaiting finish of 1 more threads\n",
            "2021-05-09 17:02:31,408 : - worker thread finished; awaiting finish of 0 more threads\n",
            "2021-05-09 17:02:31,410 : - EPOCH - 6 : training on 571354 raw words (497328 effective words) took 1.4s, 348322 effective words/s\n",
            "2021-05-09 17:02:32,436 : - EPOCH 7 - PROGRESS: at 70.02% examples, 344108 words/s, in_qsize 5, out_qsize 0\n",
            "2021-05-09 17:02:32,800 : - worker thread finished; awaiting finish of 2 more threads\n",
            "2021-05-09 17:02:32,819 : - worker thread finished; awaiting finish of 1 more threads\n",
            "2021-05-09 17:02:32,834 : - worker thread finished; awaiting finish of 0 more threads\n",
            "2021-05-09 17:02:32,836 : - EPOCH - 7 : training on 571354 raw words (497258 effective words) took 1.4s, 352587 effective words/s\n",
            "2021-05-09 17:02:33,870 : - EPOCH 8 - PROGRESS: at 68.29% examples, 331857 words/s, in_qsize 5, out_qsize 0\n",
            "2021-05-09 17:02:34,353 : - worker thread finished; awaiting finish of 2 more threads\n",
            "2021-05-09 17:02:34,366 : - worker thread finished; awaiting finish of 1 more threads\n",
            "2021-05-09 17:02:34,392 : - worker thread finished; awaiting finish of 0 more threads\n",
            "2021-05-09 17:02:34,394 : - EPOCH - 8 : training on 571354 raw words (497462 effective words) took 1.5s, 321639 effective words/s\n",
            "2021-05-09 17:02:35,462 : - EPOCH 9 - PROGRESS: at 57.85% examples, 271903 words/s, in_qsize 5, out_qsize 0\n",
            "2021-05-09 17:02:36,132 : - worker thread finished; awaiting finish of 2 more threads\n",
            "2021-05-09 17:02:36,156 : - worker thread finished; awaiting finish of 1 more threads\n",
            "2021-05-09 17:02:36,171 : - worker thread finished; awaiting finish of 0 more threads\n",
            "2021-05-09 17:02:36,173 : - EPOCH - 9 : training on 571354 raw words (497453 effective words) took 1.8s, 281358 effective words/s\n",
            "2021-05-09 17:02:37,229 : - EPOCH 10 - PROGRESS: at 56.09% examples, 267208 words/s, in_qsize 4, out_qsize 1\n",
            "2021-05-09 17:02:37,913 : - worker thread finished; awaiting finish of 2 more threads\n",
            "2021-05-09 17:02:37,916 : - worker thread finished; awaiting finish of 1 more threads\n",
            "2021-05-09 17:02:37,927 : - worker thread finished; awaiting finish of 0 more threads\n",
            "2021-05-09 17:02:37,930 : - EPOCH - 10 : training on 571354 raw words (497435 effective words) took 1.7s, 285424 effective words/s\n",
            "2021-05-09 17:02:38,962 : - EPOCH 11 - PROGRESS: at 59.58% examples, 290640 words/s, in_qsize 5, out_qsize 0\n",
            "2021-05-09 17:02:39,470 : - worker thread finished; awaiting finish of 2 more threads\n",
            "2021-05-09 17:02:39,493 : - worker thread finished; awaiting finish of 1 more threads\n",
            "2021-05-09 17:02:39,523 : - worker thread finished; awaiting finish of 0 more threads\n",
            "2021-05-09 17:02:39,525 : - EPOCH - 11 : training on 571354 raw words (497306 effective words) took 1.6s, 314656 effective words/s\n",
            "2021-05-09 17:02:40,578 : - EPOCH 12 - PROGRESS: at 70.04% examples, 333298 words/s, in_qsize 5, out_qsize 0\n",
            "2021-05-09 17:02:40,914 : - worker thread finished; awaiting finish of 2 more threads\n",
            "2021-05-09 17:02:40,934 : - worker thread finished; awaiting finish of 1 more threads\n",
            "2021-05-09 17:02:40,958 : - worker thread finished; awaiting finish of 0 more threads\n",
            "2021-05-09 17:02:40,960 : - EPOCH - 12 : training on 571354 raw words (497306 effective words) took 1.4s, 348583 effective words/s\n",
            "2021-05-09 17:02:41,979 : - EPOCH 13 - PROGRESS: at 68.29% examples, 338180 words/s, in_qsize 6, out_qsize 0\n",
            "2021-05-09 17:02:42,345 : - worker thread finished; awaiting finish of 2 more threads\n",
            "2021-05-09 17:02:42,375 : - worker thread finished; awaiting finish of 1 more threads\n",
            "2021-05-09 17:02:42,382 : - worker thread finished; awaiting finish of 0 more threads\n",
            "2021-05-09 17:02:42,383 : - EPOCH - 13 : training on 571354 raw words (497590 effective words) took 1.4s, 353394 effective words/s\n",
            "2021-05-09 17:02:43,419 : - EPOCH 14 - PROGRESS: at 70.02% examples, 341742 words/s, in_qsize 5, out_qsize 1\n",
            "2021-05-09 17:02:43,759 : - worker thread finished; awaiting finish of 2 more threads\n",
            "2021-05-09 17:02:43,788 : - worker thread finished; awaiting finish of 1 more threads\n",
            "2021-05-09 17:02:43,791 : - worker thread finished; awaiting finish of 0 more threads\n",
            "2021-05-09 17:02:43,792 : - EPOCH - 14 : training on 571354 raw words (497244 effective words) took 1.4s, 356751 effective words/s\n",
            "2021-05-09 17:02:44,811 : - EPOCH 15 - PROGRESS: at 70.02% examples, 346998 words/s, in_qsize 5, out_qsize 0\n",
            "2021-05-09 17:02:45,187 : - worker thread finished; awaiting finish of 2 more threads\n",
            "2021-05-09 17:02:45,194 : - worker thread finished; awaiting finish of 1 more threads\n",
            "2021-05-09 17:02:45,202 : - worker thread finished; awaiting finish of 0 more threads\n",
            "2021-05-09 17:02:45,203 : - EPOCH - 15 : training on 571354 raw words (497461 effective words) took 1.4s, 356453 effective words/s\n",
            "2021-05-09 17:02:46,235 : - EPOCH 16 - PROGRESS: at 70.02% examples, 342392 words/s, in_qsize 5, out_qsize 0\n",
            "2021-05-09 17:02:46,602 : - worker thread finished; awaiting finish of 2 more threads\n",
            "2021-05-09 17:02:46,617 : - worker thread finished; awaiting finish of 1 more threads\n",
            "2021-05-09 17:02:46,632 : - worker thread finished; awaiting finish of 0 more threads\n",
            "2021-05-09 17:02:46,634 : - EPOCH - 16 : training on 571354 raw words (497406 effective words) took 1.4s, 351569 effective words/s\n",
            "2021-05-09 17:02:47,658 : - EPOCH 17 - PROGRESS: at 61.31% examples, 301338 words/s, in_qsize 5, out_qsize 0\n",
            "2021-05-09 17:02:48,199 : - worker thread finished; awaiting finish of 2 more threads\n",
            "2021-05-09 17:02:48,214 : - worker thread finished; awaiting finish of 1 more threads\n",
            "2021-05-09 17:02:48,225 : - worker thread finished; awaiting finish of 0 more threads\n",
            "2021-05-09 17:02:48,226 : - EPOCH - 17 : training on 571354 raw words (497523 effective words) took 1.6s, 315025 effective words/s\n",
            "2021-05-09 17:02:49,254 : - EPOCH 18 - PROGRESS: at 70.02% examples, 343676 words/s, in_qsize 5, out_qsize 0\n",
            "2021-05-09 17:02:49,605 : - worker thread finished; awaiting finish of 2 more threads\n",
            "2021-05-09 17:02:49,614 : - worker thread finished; awaiting finish of 1 more threads\n",
            "2021-05-09 17:02:49,630 : - worker thread finished; awaiting finish of 0 more threads\n",
            "2021-05-09 17:02:49,631 : - EPOCH - 18 : training on 571354 raw words (497292 effective words) took 1.4s, 357935 effective words/s\n",
            "2021-05-09 17:02:50,672 : - EPOCH 19 - PROGRESS: at 70.04% examples, 339560 words/s, in_qsize 5, out_qsize 0\n",
            "2021-05-09 17:02:51,024 : - worker thread finished; awaiting finish of 2 more threads\n",
            "2021-05-09 17:02:51,027 : - worker thread finished; awaiting finish of 1 more threads\n",
            "2021-05-09 17:02:51,058 : - worker thread finished; awaiting finish of 0 more threads\n",
            "2021-05-09 17:02:51,060 : - EPOCH - 19 : training on 571354 raw words (497307 effective words) took 1.4s, 352064 effective words/s\n",
            "2021-05-09 17:02:52,103 : - EPOCH 20 - PROGRESS: at 57.85% examples, 280187 words/s, in_qsize 5, out_qsize 0\n",
            "2021-05-09 17:02:52,758 : - worker thread finished; awaiting finish of 2 more threads\n",
            "2021-05-09 17:02:52,769 : - worker thread finished; awaiting finish of 1 more threads\n",
            "2021-05-09 17:02:52,775 : - worker thread finished; awaiting finish of 0 more threads\n",
            "2021-05-09 17:02:52,778 : - EPOCH - 20 : training on 571354 raw words (497470 effective words) took 1.7s, 292579 effective words/s\n",
            "2021-05-09 17:02:53,819 : - EPOCH 21 - PROGRESS: at 64.82% examples, 314122 words/s, in_qsize 4, out_qsize 1\n",
            "2021-05-09 17:02:54,226 : - worker thread finished; awaiting finish of 2 more threads\n",
            "2021-05-09 17:02:54,250 : - worker thread finished; awaiting finish of 1 more threads\n",
            "2021-05-09 17:02:54,259 : - worker thread finished; awaiting finish of 0 more threads\n",
            "2021-05-09 17:02:54,261 : - EPOCH - 21 : training on 571354 raw words (497139 effective words) took 1.5s, 339087 effective words/s\n",
            "2021-05-09 17:02:55,279 : - EPOCH 22 - PROGRESS: at 68.29% examples, 337526 words/s, in_qsize 6, out_qsize 1\n",
            "2021-05-09 17:02:55,661 : - worker thread finished; awaiting finish of 2 more threads\n",
            "2021-05-09 17:02:55,668 : - worker thread finished; awaiting finish of 1 more threads\n",
            "2021-05-09 17:02:55,676 : - worker thread finished; awaiting finish of 0 more threads\n",
            "2021-05-09 17:02:55,678 : - EPOCH - 22 : training on 571354 raw words (497238 effective words) took 1.4s, 354167 effective words/s\n",
            "2021-05-09 17:02:56,689 : - EPOCH 23 - PROGRESS: at 70.02% examples, 347586 words/s, in_qsize 6, out_qsize 0\n",
            "2021-05-09 17:02:57,063 : - worker thread finished; awaiting finish of 2 more threads\n",
            "2021-05-09 17:02:57,074 : - worker thread finished; awaiting finish of 1 more threads\n",
            "2021-05-09 17:02:57,076 : - worker thread finished; awaiting finish of 0 more threads\n",
            "2021-05-09 17:02:57,078 : - EPOCH - 23 : training on 571354 raw words (497315 effective words) took 1.4s, 357840 effective words/s\n",
            "2021-05-09 17:02:58,120 : - EPOCH 24 - PROGRESS: at 54.35% examples, 262550 words/s, in_qsize 6, out_qsize 1\n",
            "2021-05-09 17:02:58,709 : - worker thread finished; awaiting finish of 2 more threads\n",
            "2021-05-09 17:02:58,721 : - worker thread finished; awaiting finish of 1 more threads\n",
            "2021-05-09 17:02:58,739 : - worker thread finished; awaiting finish of 0 more threads\n",
            "2021-05-09 17:02:58,740 : - EPOCH - 24 : training on 571354 raw words (497541 effective words) took 1.6s, 301754 effective words/s\n",
            "2021-05-09 17:02:59,756 : - EPOCH 25 - PROGRESS: at 68.29% examples, 339113 words/s, in_qsize 5, out_qsize 0\n",
            "2021-05-09 17:03:00,127 : - worker thread finished; awaiting finish of 2 more threads\n",
            "2021-05-09 17:03:00,139 : - worker thread finished; awaiting finish of 1 more threads\n",
            "2021-05-09 17:03:00,152 : - worker thread finished; awaiting finish of 0 more threads\n",
            "2021-05-09 17:03:00,153 : - EPOCH - 25 : training on 571354 raw words (497399 effective words) took 1.4s, 355843 effective words/s\n",
            "2021-05-09 17:03:01,191 : - EPOCH 26 - PROGRESS: at 68.29% examples, 332384 words/s, in_qsize 4, out_qsize 1\n",
            "2021-05-09 17:03:01,571 : - worker thread finished; awaiting finish of 2 more threads\n",
            "2021-05-09 17:03:01,578 : - worker thread finished; awaiting finish of 1 more threads\n",
            "2021-05-09 17:03:01,596 : - worker thread finished; awaiting finish of 0 more threads\n",
            "2021-05-09 17:03:01,597 : - EPOCH - 26 : training on 571354 raw words (497398 effective words) took 1.4s, 348533 effective words/s\n",
            "2021-05-09 17:03:02,609 : - EPOCH 27 - PROGRESS: at 70.02% examples, 347562 words/s, in_qsize 5, out_qsize 0\n",
            "2021-05-09 17:03:02,991 : - worker thread finished; awaiting finish of 2 more threads\n",
            "2021-05-09 17:03:03,011 : - worker thread finished; awaiting finish of 1 more threads\n",
            "2021-05-09 17:03:03,022 : - worker thread finished; awaiting finish of 0 more threads\n",
            "2021-05-09 17:03:03,023 : - EPOCH - 27 : training on 571354 raw words (497266 effective words) took 1.4s, 351389 effective words/s\n",
            "2021-05-09 17:03:04,060 : - EPOCH 28 - PROGRESS: at 61.31% examples, 298905 words/s, in_qsize 5, out_qsize 0\n",
            "2021-05-09 17:03:04,649 : - worker thread finished; awaiting finish of 2 more threads\n",
            "2021-05-09 17:03:04,686 : - worker thread finished; awaiting finish of 1 more threads\n",
            "2021-05-09 17:03:04,697 : - worker thread finished; awaiting finish of 0 more threads\n",
            "2021-05-09 17:03:04,699 : - EPOCH - 28 : training on 571354 raw words (497390 effective words) took 1.7s, 299988 effective words/s\n",
            "2021-05-09 17:03:05,722 : - EPOCH 29 - PROGRESS: at 59.58% examples, 294139 words/s, in_qsize 5, out_qsize 0\n",
            "2021-05-09 17:03:06,248 : - worker thread finished; awaiting finish of 2 more threads\n",
            "2021-05-09 17:03:06,253 : - worker thread finished; awaiting finish of 1 more threads\n",
            "2021-05-09 17:03:06,275 : - worker thread finished; awaiting finish of 0 more threads\n",
            "2021-05-09 17:03:06,277 : - EPOCH - 29 : training on 571354 raw words (497338 effective words) took 1.6s, 318673 effective words/s\n",
            "2021-05-09 17:03:07,328 : - EPOCH 30 - PROGRESS: at 57.85% examples, 276056 words/s, in_qsize 5, out_qsize 0\n",
            "2021-05-09 17:03:07,861 : - worker thread finished; awaiting finish of 2 more threads\n",
            "2021-05-09 17:03:07,887 : - worker thread finished; awaiting finish of 1 more threads\n",
            "2021-05-09 17:03:07,909 : - worker thread finished; awaiting finish of 0 more threads\n",
            "2021-05-09 17:03:07,911 : - EPOCH - 30 : training on 571354 raw words (497406 effective words) took 1.6s, 306391 effective words/s\n",
            "2021-05-09 17:03:07,913 : - training on a 17140620 raw words (14921120 effective words) took 45.4s, 328355 effective words/s\n"
          ],
          "name": "stderr"
        },
        {
          "output_type": "stream",
          "text": [
            "CPU times: user 1min 23s, sys: 458 ms, total: 1min 24s\n",
            "Wall time: 45.4 s\n"
          ],
          "name": "stdout"
        },
        {
          "output_type": "execute_result",
          "data": {
            "text/plain": [
              "(14921120, 17140620)"
            ]
          },
          "metadata": {
            "tags": []
          },
          "execution_count": 49
        }
      ]
    },
    {
      "cell_type": "markdown",
      "metadata": {
        "id": "fSOGzWfMF4kH"
      },
      "source": [
        "# Analise dos resultados\n",
        "\n",
        "Uma forma qualitativa de analisar o quanto um modelo consegue retornar palavras dado um contexto, por exemplo, executar a função ``most_similar`` que vai retornar palavras similares, outras [funções relacionadas ao modelo Word2Vec podem ser consultadas aqui.](https://radimrehurek.com/gensim/models/word2vec.html)\n",
        "\n",
        "> ```word2vec.wv.most_similar(self, positive=None, negative=None, topn=10, restrict_vocab=None, indexer=None)```"
      ]
    },
    {
      "cell_type": "code",
      "metadata": {
        "colab": {
          "base_uri": "https://localhost:8080/"
        },
        "id": "q3TlfaDtE_nj",
        "outputId": "4bd9001f-9a59-4d56-f0b2-4103b06966f4"
      },
      "source": [
        "w2v_modelo.wv.most_similar('google')"
      ],
      "execution_count": 54,
      "outputs": [
        {
          "output_type": "execute_result",
          "data": {
            "text/plain": [
              "[('apple', 0.5987163782119751),\n",
              " ('facebook', 0.5933940410614014),\n",
              " ('software', 0.5381422638893127),\n",
              " ('uber', 0.5240345597267151),\n",
              " ('fbi', 0.5056719779968262),\n",
              " ('walmart', 0.5000754594802856),\n",
              " ('amazon', 0.48762497305870056),\n",
              " ('pfizer', 0.47581690549850464),\n",
              " ('waze', 0.46921342611312866),\n",
              " ('web', 0.46909794211387634)]"
            ]
          },
          "metadata": {
            "tags": []
          },
          "execution_count": 54
        }
      ]
    },
    {
      "cell_type": "markdown",
      "metadata": {
        "id": "gLOhR6BaGHA9"
      },
      "source": [
        "Note que dado uma empresa de tecnologia o modelo informa outras similares... \n"
      ]
    },
    {
      "cell_type": "code",
      "metadata": {
        "colab": {
          "base_uri": "https://localhost:8080/"
        },
        "id": "fnO75StsM0LR",
        "outputId": "d396101b-4f74-4160-e5ed-9539ef4d4232"
      },
      "source": [
        "w2v_modelo.wv.most_similar('microsoft',topn=20)"
      ],
      "execution_count": 58,
      "outputs": [
        {
          "output_type": "execute_result",
          "data": {
            "text/plain": [
              "[('unilever', 0.6181350946426392),\n",
              " ('tesla', 0.6087472438812256),\n",
              " ('sky', 0.569259524345398),\n",
              " ('amazon', 0.5667519569396973),\n",
              " ('xiaomi', 0.565727949142456),\n",
              " ('lego', 0.5621176958084106),\n",
              " ('ikea', 0.5618140697479248),\n",
              " ('macy', 0.5590704679489136),\n",
              " ('editora', 0.5585172772407532),\n",
              " ('braskem', 0.5517585277557373),\n",
              " ('samsung', 0.5458100438117981),\n",
              " ('mastercard', 0.5451661348342896),\n",
              " ('canais', 0.5381833910942078),\n",
              " ('rangers', 0.5374184846878052),\n",
              " ('walmart', 0.5355345010757446),\n",
              " ('pfizer', 0.5349343419075012),\n",
              " ('disney', 0.534634530544281),\n",
              " ('rowling', 0.5330201983451843),\n",
              " ('inbev', 0.5292022228240967),\n",
              " ('sony', 0.5270721912384033)]"
            ]
          },
          "metadata": {
            "tags": []
          },
          "execution_count": 58
        }
      ]
    },
    {
      "cell_type": "markdown",
      "metadata": {
        "id": "4MewBNPGNj1p"
      },
      "source": [
        "\n",
        "Note que por exemplo se usamos a palavra ``microsoft``, as palavras de contexto similar são empresas que compõem o [S&P 500](https://blog.clear.com.br/sp-500/). Podemos testar a palvra cujo contexto seja, um jogador de futebol específico, por exemplo *Messi*:"
      ]
    },
    {
      "cell_type": "code",
      "metadata": {
        "colab": {
          "base_uri": "https://localhost:8080/"
        },
        "id": "3lhOwtaXNCec",
        "outputId": "02a62462-727a-4aac-de5b-e9a9be00aa6a"
      },
      "source": [
        "w2v_modelo.wv.most_similar('messi',topn=20)"
      ],
      "execution_count": 59,
      "outputs": [
        {
          "output_type": "execute_result",
          "data": {
            "text/plain": [
              "[('suárez', 0.6332441568374634),\n",
              " ('cristiano', 0.5682059526443481),\n",
              " ('cavani', 0.5486650466918945),\n",
              " ('neymar', 0.5426616668701172),\n",
              " ('tevez', 0.538060188293457),\n",
              " ('enrique', 0.5369131565093994),\n",
              " ('barça', 0.5304419994354248),\n",
              " ('mordida', 0.5143275260925293),\n",
              " ('ronaldo', 0.504108726978302),\n",
              " ('benzema', 0.5031008720397949),\n",
              " ('psg', 0.501209020614624),\n",
              " ('maradona', 0.49990254640579224),\n",
              " ('pelé', 0.49308621883392334),\n",
              " ('chuteiras', 0.49238651990890503),\n",
              " ('buffarini', 0.47682374715805054),\n",
              " ('felipão', 0.47681134939193726),\n",
              " ('barcelona', 0.4688522219657898),\n",
              " ('inglaterra', 0.46605291962623596),\n",
              " ('chelsea', 0.4641041159629822),\n",
              " ('mourinho', 0.4588797092437744)]"
            ]
          },
          "metadata": {
            "tags": []
          },
          "execution_count": 59
        }
      ]
    },
    {
      "cell_type": "markdown",
      "metadata": {
        "id": "7ABeLZ9ImdCB"
      },
      "source": [
        "as palavras relacionadas a messi realmente estão dentro do contexto de futebol internacional."
      ]
    },
    {
      "cell_type": "code",
      "metadata": {
        "colab": {
          "base_uri": "https://localhost:8080/"
        },
        "id": "TmmZTYv0OKUs",
        "outputId": "9da94f15-f7d7-4bf7-dedd-a73d609c8697"
      },
      "source": [
        "w2v_modelo.wv.most_similar('conrado')"
      ],
      "execution_count": 199,
      "outputs": [
        {
          "output_type": "execute_result",
          "data": {
            "text/plain": [
              "[('amarrado', 0.6163891553878784),\n",
              " ('envelheço', 0.6146823167800903),\n",
              " ('samurai', 0.6025504469871521),\n",
              " ('itaim', 0.6022329330444336),\n",
              " ('camões', 0.596960186958313),\n",
              " ('miliciano', 0.5942776203155518),\n",
              " ('personal', 0.5924962162971497),\n",
              " ('pichar', 0.5875481367111206),\n",
              " ('diarista', 0.5863578915596008),\n",
              " ('palace', 0.5837728977203369)]"
            ]
          },
          "metadata": {
            "tags": []
          },
          "execution_count": 199
        }
      ]
    },
    {
      "cell_type": "markdown",
      "metadata": {
        "id": "rVS7ZziBO0Bb"
      },
      "source": [
        "É importante salientar que as informações decorrem diretamente das caracteristicas do modelo que foi instanciado, logo caso sejam instanciados novos hiperparâmetros os resultados podem ser diferentes.\n",
        "\n",
        "```python \n",
        "w2v_modelo = Word2Vec(sg = 0, window = 2,\n",
        "                      size = 300, min_count=3,\n",
        "                      alpha=0.03, min_alpha=0.007)\n",
        "```\n",
        "\n",
        "Vamos alterar alguns desses hiperparâmetros, por exemplo, em vez de usar o CBOW vamos usar o SG:"
      ]
    },
    {
      "cell_type": "code",
      "metadata": {
        "colab": {
          "base_uri": "https://localhost:8080/"
        },
        "id": "7t8FH9JSOzv-",
        "outputId": "adb96ad1-69a0-4a99-8414-1f265287b9d0"
      },
      "source": [
        "w2v_modelo = Word2Vec(sg = 1, window = 2,\n",
        "                      size = 300, min_count=3,\n",
        "                      alpha=0.03, min_alpha=0.007)\n",
        "\n",
        "import logging\n",
        "logging.basicConfig(format='%(asctime)s : - %(message)s', level = logging.INFO)\n",
        "w2v_modelo.build_vocab(lista_de_lista_de_tokens, progress_per=5000)"
      ],
      "execution_count": 214,
      "outputs": [
        {
          "output_type": "stream",
          "text": [
            "2021-05-09 19:36:04,137 : - collecting all words and their counts\n",
            "2021-05-09 19:36:04,139 : - PROGRESS: at sentence #0, processed 0 words, keeping 0 word types\n",
            "2021-05-09 19:36:04,152 : - PROGRESS: at sentence #5000, processed 34585 words, keeping 10280 word types\n",
            "2021-05-09 19:36:04,166 : - PROGRESS: at sentence #10000, processed 69086 words, keeping 14900 word types\n",
            "2021-05-09 19:36:04,180 : - PROGRESS: at sentence #15000, processed 103768 words, keeping 18253 word types\n",
            "2021-05-09 19:36:04,196 : - PROGRESS: at sentence #20000, processed 138486 words, keeping 21018 word types\n",
            "2021-05-09 19:36:04,209 : - PROGRESS: at sentence #25000, processed 173220 words, keeping 23413 word types\n",
            "2021-05-09 19:36:04,227 : - PROGRESS: at sentence #30000, processed 207734 words, keeping 25392 word types\n",
            "2021-05-09 19:36:04,243 : - PROGRESS: at sentence #35000, processed 242400 words, keeping 27279 word types\n",
            "2021-05-09 19:36:04,261 : - PROGRESS: at sentence #40000, processed 277127 words, keeping 28984 word types\n",
            "2021-05-09 19:36:04,274 : - PROGRESS: at sentence #45000, processed 311878 words, keeping 30500 word types\n",
            "2021-05-09 19:36:04,296 : - PROGRESS: at sentence #50000, processed 346751 words, keeping 31870 word types\n",
            "2021-05-09 19:36:04,311 : - PROGRESS: at sentence #55000, processed 381480 words, keeping 33213 word types\n",
            "2021-05-09 19:36:04,322 : - PROGRESS: at sentence #60000, processed 416332 words, keeping 34386 word types\n",
            "2021-05-09 19:36:04,336 : - PROGRESS: at sentence #65000, processed 451043 words, keeping 35512 word types\n",
            "2021-05-09 19:36:04,350 : - PROGRESS: at sentence #70000, processed 485786 words, keeping 36669 word types\n",
            "2021-05-09 19:36:04,365 : - PROGRESS: at sentence #75000, processed 520749 words, keeping 37726 word types\n",
            "2021-05-09 19:36:04,378 : - PROGRESS: at sentence #80000, processed 555386 words, keeping 38732 word types\n",
            "2021-05-09 19:36:04,386 : - collected 39198 word types from a corpus of 571354 raw words and 82296 sentences\n",
            "2021-05-09 19:36:04,388 : - Loading a fresh vocabulary\n",
            "2021-05-09 19:36:04,442 : - effective_min_count=3 retains 17867 unique words (45% of original 39198, drops 21331)\n",
            "2021-05-09 19:36:04,444 : - effective_min_count=3 leaves 544403 word corpus (95% of original 571354, drops 26951)\n",
            "2021-05-09 19:36:04,511 : - deleting the raw counts dictionary of 39198 items\n",
            "2021-05-09 19:36:04,513 : - sample=0.001 downsamples 11 most-common words\n",
            "2021-05-09 19:36:04,514 : - downsampling leaves estimated 497351 word corpus (91.4% of prior 544403)\n",
            "2021-05-09 19:36:04,589 : - estimated required memory for 17867 words and 300 dimensions: 51814300 bytes\n",
            "2021-05-09 19:36:04,591 : - resetting layer weights\n"
          ],
          "name": "stderr"
        }
      ]
    },
    {
      "cell_type": "code",
      "metadata": {
        "colab": {
          "base_uri": "https://localhost:8080/"
        },
        "id": "jB09nkn3PUFZ",
        "outputId": "55140ae1-6225-4f6e-b974-df6cc36b88df"
      },
      "source": [
        "%%time\n",
        "w2v_modelo.train(sentences = lista_de_lista_de_tokens,\n",
        "                 total_examples = total_amostras, \n",
        "                 epochs = 30)"
      ],
      "execution_count": 215,
      "outputs": [
        {
          "output_type": "stream",
          "text": [
            "2021-05-09 19:36:08,209 : - training model with 3 workers on 17867 vocabulary and 300 features, using sg=1 hs=0 sample=0.001 negative=5 window=2\n",
            "2021-05-09 19:36:09,229 : - EPOCH 1 - PROGRESS: at 33.29% examples, 163856 words/s, in_qsize 6, out_qsize 0\n",
            "2021-05-09 19:36:10,244 : - EPOCH 1 - PROGRESS: at 75.27% examples, 184801 words/s, in_qsize 5, out_qsize 0\n",
            "2021-05-09 19:36:10,694 : - worker thread finished; awaiting finish of 2 more threads\n",
            "2021-05-09 19:36:10,733 : - worker thread finished; awaiting finish of 1 more threads\n",
            "2021-05-09 19:36:10,743 : - worker thread finished; awaiting finish of 0 more threads\n",
            "2021-05-09 19:36:10,745 : - EPOCH - 1 : training on 571354 raw words (497268 effective words) took 2.5s, 196936 effective words/s\n",
            "2021-05-09 19:36:11,770 : - EPOCH 2 - PROGRESS: at 35.06% examples, 173429 words/s, in_qsize 5, out_qsize 0\n",
            "2021-05-09 19:36:12,807 : - EPOCH 2 - PROGRESS: at 73.52% examples, 179121 words/s, in_qsize 5, out_qsize 0\n",
            "2021-05-09 19:36:13,402 : - worker thread finished; awaiting finish of 2 more threads\n",
            "2021-05-09 19:36:13,429 : - worker thread finished; awaiting finish of 1 more threads\n",
            "2021-05-09 19:36:13,447 : - worker thread finished; awaiting finish of 0 more threads\n",
            "2021-05-09 19:36:13,448 : - EPOCH - 2 : training on 571354 raw words (497194 effective words) took 2.7s, 185472 effective words/s\n",
            "2021-05-09 19:36:14,534 : - EPOCH 3 - PROGRESS: at 42.10% examples, 197736 words/s, in_qsize 5, out_qsize 0\n",
            "2021-05-09 19:36:15,575 : - EPOCH 3 - PROGRESS: at 82.26% examples, 194952 words/s, in_qsize 6, out_qsize 1\n",
            "2021-05-09 19:36:15,929 : - worker thread finished; awaiting finish of 2 more threads\n",
            "2021-05-09 19:36:15,936 : - worker thread finished; awaiting finish of 1 more threads\n",
            "2021-05-09 19:36:15,972 : - worker thread finished; awaiting finish of 0 more threads\n",
            "2021-05-09 19:36:15,974 : - EPOCH - 3 : training on 571354 raw words (497367 effective words) took 2.5s, 199258 effective words/s\n",
            "2021-05-09 19:36:17,015 : - EPOCH 4 - PROGRESS: at 36.80% examples, 177209 words/s, in_qsize 5, out_qsize 0\n",
            "2021-05-09 19:36:18,023 : - EPOCH 4 - PROGRESS: at 80.52% examples, 196263 words/s, in_qsize 5, out_qsize 0\n",
            "2021-05-09 19:36:18,367 : - worker thread finished; awaiting finish of 2 more threads\n",
            "2021-05-09 19:36:18,378 : - worker thread finished; awaiting finish of 1 more threads\n",
            "2021-05-09 19:36:18,423 : - worker thread finished; awaiting finish of 0 more threads\n",
            "2021-05-09 19:36:18,425 : - EPOCH - 4 : training on 571354 raw words (497287 effective words) took 2.4s, 203767 effective words/s\n",
            "2021-05-09 19:36:19,461 : - EPOCH 5 - PROGRESS: at 40.34% examples, 195324 words/s, in_qsize 5, out_qsize 0\n",
            "2021-05-09 19:36:20,480 : - EPOCH 5 - PROGRESS: at 80.52% examples, 195749 words/s, in_qsize 5, out_qsize 0\n",
            "2021-05-09 19:36:20,818 : - worker thread finished; awaiting finish of 2 more threads\n",
            "2021-05-09 19:36:20,827 : - worker thread finished; awaiting finish of 1 more threads\n",
            "2021-05-09 19:36:20,864 : - worker thread finished; awaiting finish of 0 more threads\n",
            "2021-05-09 19:36:20,865 : - EPOCH - 5 : training on 571354 raw words (497300 effective words) took 2.4s, 204719 effective words/s\n",
            "2021-05-09 19:36:21,965 : - EPOCH 6 - PROGRESS: at 45.59% examples, 208820 words/s, in_qsize 5, out_qsize 0\n",
            "2021-05-09 19:36:23,042 : - EPOCH 6 - PROGRESS: at 85.76% examples, 197263 words/s, in_qsize 5, out_qsize 0\n",
            "2021-05-09 19:36:23,252 : - worker thread finished; awaiting finish of 2 more threads\n",
            "2021-05-09 19:36:23,278 : - worker thread finished; awaiting finish of 1 more threads\n",
            "2021-05-09 19:36:23,300 : - worker thread finished; awaiting finish of 0 more threads\n",
            "2021-05-09 19:36:23,301 : - EPOCH - 6 : training on 571354 raw words (497360 effective words) took 2.4s, 205506 effective words/s\n",
            "2021-05-09 19:36:24,323 : - EPOCH 7 - PROGRESS: at 42.10% examples, 207108 words/s, in_qsize 5, out_qsize 0\n",
            "2021-05-09 19:36:25,328 : - EPOCH 7 - PROGRESS: at 87.49% examples, 215984 words/s, in_qsize 5, out_qsize 0\n",
            "2021-05-09 19:36:25,531 : - worker thread finished; awaiting finish of 2 more threads\n",
            "2021-05-09 19:36:25,555 : - worker thread finished; awaiting finish of 1 more threads\n",
            "2021-05-09 19:36:25,565 : - worker thread finished; awaiting finish of 0 more threads\n",
            "2021-05-09 19:36:25,566 : - EPOCH - 7 : training on 571354 raw words (497547 effective words) took 2.3s, 220912 effective words/s\n",
            "2021-05-09 19:36:26,624 : - EPOCH 8 - PROGRESS: at 40.34% examples, 192226 words/s, in_qsize 5, out_qsize 0\n",
            "2021-05-09 19:36:27,625 : - EPOCH 8 - PROGRESS: at 82.26% examples, 200225 words/s, in_qsize 5, out_qsize 0\n",
            "2021-05-09 19:36:27,933 : - worker thread finished; awaiting finish of 2 more threads\n",
            "2021-05-09 19:36:27,952 : - worker thread finished; awaiting finish of 1 more threads\n",
            "2021-05-09 19:36:27,989 : - worker thread finished; awaiting finish of 0 more threads\n",
            "2021-05-09 19:36:27,990 : - EPOCH - 8 : training on 571354 raw words (497141 effective words) took 2.4s, 206548 effective words/s\n",
            "2021-05-09 19:36:29,073 : - EPOCH 9 - PROGRESS: at 43.84% examples, 203451 words/s, in_qsize 5, out_qsize 0\n",
            "2021-05-09 19:36:30,141 : - EPOCH 9 - PROGRESS: at 92.72% examples, 215784 words/s, in_qsize 5, out_qsize 0\n",
            "2021-05-09 19:36:30,213 : - worker thread finished; awaiting finish of 2 more threads\n",
            "2021-05-09 19:36:30,227 : - worker thread finished; awaiting finish of 1 more threads\n",
            "2021-05-09 19:36:30,266 : - worker thread finished; awaiting finish of 0 more threads\n",
            "2021-05-09 19:36:30,267 : - EPOCH - 9 : training on 571354 raw words (497468 effective words) took 2.3s, 219774 effective words/s\n",
            "2021-05-09 19:36:31,295 : - EPOCH 10 - PROGRESS: at 35.06% examples, 171338 words/s, in_qsize 5, out_qsize 0\n",
            "2021-05-09 19:36:32,333 : - EPOCH 10 - PROGRESS: at 73.52% examples, 177833 words/s, in_qsize 4, out_qsize 1\n",
            "2021-05-09 19:36:32,803 : - worker thread finished; awaiting finish of 2 more threads\n",
            "2021-05-09 19:36:32,840 : - worker thread finished; awaiting finish of 1 more threads\n",
            "2021-05-09 19:36:32,860 : - worker thread finished; awaiting finish of 0 more threads\n",
            "2021-05-09 19:36:32,861 : - EPOCH - 10 : training on 571354 raw words (497338 effective words) took 2.6s, 192557 effective words/s\n",
            "2021-05-09 19:36:33,934 : - EPOCH 11 - PROGRESS: at 40.34% examples, 189579 words/s, in_qsize 5, out_qsize 0\n",
            "2021-05-09 19:36:34,961 : - EPOCH 11 - PROGRESS: at 84.02% examples, 200460 words/s, in_qsize 6, out_qsize 1\n",
            "2021-05-09 19:36:35,196 : - worker thread finished; awaiting finish of 2 more threads\n",
            "2021-05-09 19:36:35,217 : - worker thread finished; awaiting finish of 1 more threads\n",
            "2021-05-09 19:36:35,245 : - worker thread finished; awaiting finish of 0 more threads\n",
            "2021-05-09 19:36:35,247 : - EPOCH - 11 : training on 571354 raw words (497536 effective words) took 2.4s, 209953 effective words/s\n",
            "2021-05-09 19:36:36,272 : - EPOCH 12 - PROGRESS: at 42.10% examples, 207420 words/s, in_qsize 5, out_qsize 0\n",
            "2021-05-09 19:36:37,311 : - EPOCH 12 - PROGRESS: at 89.23% examples, 216913 words/s, in_qsize 5, out_qsize 0\n",
            "2021-05-09 19:36:37,482 : - worker thread finished; awaiting finish of 2 more threads\n",
            "2021-05-09 19:36:37,486 : - worker thread finished; awaiting finish of 1 more threads\n",
            "2021-05-09 19:36:37,534 : - worker thread finished; awaiting finish of 0 more threads\n",
            "2021-05-09 19:36:37,535 : - EPOCH - 12 : training on 571354 raw words (497363 effective words) took 2.3s, 219107 effective words/s\n",
            "2021-05-09 19:36:38,564 : - EPOCH 13 - PROGRESS: at 36.84% examples, 180080 words/s, in_qsize 5, out_qsize 0\n",
            "2021-05-09 19:36:39,592 : - EPOCH 13 - PROGRESS: at 75.27% examples, 183064 words/s, in_qsize 5, out_qsize 0\n",
            "2021-05-09 19:36:40,014 : - worker thread finished; awaiting finish of 2 more threads\n",
            "2021-05-09 19:36:40,060 : - worker thread finished; awaiting finish of 1 more threads\n",
            "2021-05-09 19:36:40,068 : - worker thread finished; awaiting finish of 0 more threads\n",
            "2021-05-09 19:36:40,070 : - EPOCH - 13 : training on 571354 raw words (497267 effective words) took 2.5s, 197235 effective words/s\n",
            "2021-05-09 19:36:41,118 : - EPOCH 14 - PROGRESS: at 38.58% examples, 185005 words/s, in_qsize 5, out_qsize 0\n",
            "2021-05-09 19:36:42,131 : - EPOCH 14 - PROGRESS: at 82.28% examples, 199647 words/s, in_qsize 5, out_qsize 0\n",
            "2021-05-09 19:36:42,446 : - worker thread finished; awaiting finish of 2 more threads\n",
            "2021-05-09 19:36:42,458 : - worker thread finished; awaiting finish of 1 more threads\n",
            "2021-05-09 19:36:42,478 : - worker thread finished; awaiting finish of 0 more threads\n",
            "2021-05-09 19:36:42,480 : - EPOCH - 14 : training on 571354 raw words (497295 effective words) took 2.4s, 207444 effective words/s\n",
            "2021-05-09 19:36:43,542 : - EPOCH 15 - PROGRESS: at 43.86% examples, 207768 words/s, in_qsize 5, out_qsize 0\n",
            "2021-05-09 19:36:44,573 : - EPOCH 15 - PROGRESS: at 82.26% examples, 196830 words/s, in_qsize 5, out_qsize 0\n",
            "2021-05-09 19:36:44,904 : - worker thread finished; awaiting finish of 2 more threads\n",
            "2021-05-09 19:36:44,949 : - worker thread finished; awaiting finish of 1 more threads\n",
            "2021-05-09 19:36:44,982 : - worker thread finished; awaiting finish of 0 more threads\n",
            "2021-05-09 19:36:44,985 : - EPOCH - 15 : training on 571354 raw words (497444 effective words) took 2.5s, 199796 effective words/s\n",
            "2021-05-09 19:36:46,071 : - EPOCH 16 - PROGRESS: at 36.84% examples, 173230 words/s, in_qsize 5, out_qsize 0\n",
            "2021-05-09 19:36:47,141 : - EPOCH 16 - PROGRESS: at 78.77% examples, 184125 words/s, in_qsize 5, out_qsize 0\n",
            "2021-05-09 19:36:47,601 : - worker thread finished; awaiting finish of 2 more threads\n",
            "2021-05-09 19:36:47,607 : - worker thread finished; awaiting finish of 1 more threads\n",
            "2021-05-09 19:36:47,619 : - worker thread finished; awaiting finish of 0 more threads\n",
            "2021-05-09 19:36:47,621 : - EPOCH - 16 : training on 571354 raw words (497245 effective words) took 2.6s, 190816 effective words/s\n",
            "2021-05-09 19:36:48,673 : - EPOCH 17 - PROGRESS: at 43.84% examples, 209662 words/s, in_qsize 5, out_qsize 0\n",
            "2021-05-09 19:36:49,750 : - EPOCH 17 - PROGRESS: at 83.99% examples, 197448 words/s, in_qsize 5, out_qsize 0\n",
            "2021-05-09 19:36:49,998 : - worker thread finished; awaiting finish of 2 more threads\n",
            "2021-05-09 19:36:50,008 : - worker thread finished; awaiting finish of 1 more threads\n",
            "2021-05-09 19:36:50,045 : - worker thread finished; awaiting finish of 0 more threads\n",
            "2021-05-09 19:36:50,046 : - EPOCH - 17 : training on 571354 raw words (497251 effective words) took 2.4s, 206244 effective words/s\n",
            "2021-05-09 19:36:51,103 : - EPOCH 18 - PROGRESS: at 42.08% examples, 200667 words/s, in_qsize 4, out_qsize 1\n",
            "2021-05-09 19:36:52,118 : - EPOCH 18 - PROGRESS: at 84.02% examples, 203159 words/s, in_qsize 6, out_qsize 0\n",
            "2021-05-09 19:36:52,494 : - worker thread finished; awaiting finish of 2 more threads\n",
            "2021-05-09 19:36:52,510 : - worker thread finished; awaiting finish of 1 more threads\n",
            "2021-05-09 19:36:52,515 : - worker thread finished; awaiting finish of 0 more threads\n",
            "2021-05-09 19:36:52,517 : - EPOCH - 18 : training on 571354 raw words (497045 effective words) took 2.5s, 202564 effective words/s\n",
            "2021-05-09 19:36:53,629 : - EPOCH 19 - PROGRESS: at 38.58% examples, 174078 words/s, in_qsize 4, out_qsize 1\n",
            "2021-05-09 19:36:54,633 : - EPOCH 19 - PROGRESS: at 80.52% examples, 190292 words/s, in_qsize 5, out_qsize 0\n",
            "2021-05-09 19:36:55,055 : - worker thread finished; awaiting finish of 2 more threads\n",
            "2021-05-09 19:36:55,071 : - worker thread finished; awaiting finish of 1 more threads\n",
            "2021-05-09 19:36:55,095 : - worker thread finished; awaiting finish of 0 more threads\n",
            "2021-05-09 19:36:55,097 : - EPOCH - 19 : training on 571354 raw words (497471 effective words) took 2.6s, 193723 effective words/s\n",
            "2021-05-09 19:36:56,138 : - EPOCH 20 - PROGRESS: at 36.84% examples, 177844 words/s, in_qsize 5, out_qsize 0\n",
            "2021-05-09 19:36:57,140 : - EPOCH 20 - PROGRESS: at 75.27% examples, 184293 words/s, in_qsize 5, out_qsize 0\n",
            "2021-05-09 19:36:57,681 : - worker thread finished; awaiting finish of 2 more threads\n",
            "2021-05-09 19:36:57,737 : - worker thread finished; awaiting finish of 1 more threads\n",
            "2021-05-09 19:36:57,750 : - worker thread finished; awaiting finish of 0 more threads\n",
            "2021-05-09 19:36:57,751 : - EPOCH - 20 : training on 571354 raw words (497201 effective words) took 2.6s, 188252 effective words/s\n",
            "2021-05-09 19:36:58,806 : - EPOCH 21 - PROGRESS: at 38.61% examples, 186135 words/s, in_qsize 5, out_qsize 0\n",
            "2021-05-09 19:36:59,875 : - EPOCH 21 - PROGRESS: at 78.77% examples, 186577 words/s, in_qsize 4, out_qsize 1\n",
            "2021-05-09 19:37:00,220 : - worker thread finished; awaiting finish of 2 more threads\n",
            "2021-05-09 19:37:00,236 : - worker thread finished; awaiting finish of 1 more threads\n",
            "2021-05-09 19:37:00,270 : - worker thread finished; awaiting finish of 0 more threads\n",
            "2021-05-09 19:37:00,271 : - EPOCH - 21 : training on 571354 raw words (497352 effective words) took 2.5s, 199365 effective words/s\n",
            "2021-05-09 19:37:01,297 : - EPOCH 22 - PROGRESS: at 45.60% examples, 225091 words/s, in_qsize 6, out_qsize 0\n",
            "2021-05-09 19:37:02,302 : - EPOCH 22 - PROGRESS: at 90.97% examples, 224998 words/s, in_qsize 5, out_qsize 0\n",
            "2021-05-09 19:37:02,405 : - worker thread finished; awaiting finish of 2 more threads\n",
            "2021-05-09 19:37:02,444 : - worker thread finished; awaiting finish of 1 more threads\n",
            "2021-05-09 19:37:02,452 : - worker thread finished; awaiting finish of 0 more threads\n",
            "2021-05-09 19:37:02,453 : - EPOCH - 22 : training on 571354 raw words (497274 effective words) took 2.2s, 230047 effective words/s\n",
            "2021-05-09 19:37:03,482 : - EPOCH 23 - PROGRESS: at 43.84% examples, 215349 words/s, in_qsize 5, out_qsize 0\n",
            "2021-05-09 19:37:04,489 : - EPOCH 23 - PROGRESS: at 90.99% examples, 224211 words/s, in_qsize 5, out_qsize 0\n",
            "2021-05-09 19:37:04,602 : - worker thread finished; awaiting finish of 2 more threads\n",
            "2021-05-09 19:37:04,613 : - worker thread finished; awaiting finish of 1 more threads\n",
            "2021-05-09 19:37:04,622 : - worker thread finished; awaiting finish of 0 more threads\n",
            "2021-05-09 19:37:04,624 : - EPOCH - 23 : training on 571354 raw words (497432 effective words) took 2.2s, 231083 effective words/s\n",
            "2021-05-09 19:37:05,641 : - EPOCH 24 - PROGRESS: at 45.60% examples, 225432 words/s, in_qsize 5, out_qsize 0\n",
            "2021-05-09 19:37:06,695 : - EPOCH 24 - PROGRESS: at 92.72% examples, 224184 words/s, in_qsize 5, out_qsize 0\n",
            "2021-05-09 19:37:06,773 : - worker thread finished; awaiting finish of 2 more threads\n",
            "2021-05-09 19:37:06,779 : - worker thread finished; awaiting finish of 1 more threads\n",
            "2021-05-09 19:37:06,798 : - worker thread finished; awaiting finish of 0 more threads\n",
            "2021-05-09 19:37:06,799 : - EPOCH - 24 : training on 571354 raw words (497423 effective words) took 2.2s, 230091 effective words/s\n",
            "2021-05-09 19:37:07,832 : - EPOCH 25 - PROGRESS: at 38.58% examples, 187147 words/s, in_qsize 4, out_qsize 1\n",
            "2021-05-09 19:37:08,895 : - EPOCH 25 - PROGRESS: at 85.75% examples, 204215 words/s, in_qsize 5, out_qsize 0\n",
            "2021-05-09 19:37:09,099 : - worker thread finished; awaiting finish of 2 more threads\n",
            "2021-05-09 19:37:09,111 : - worker thread finished; awaiting finish of 1 more threads\n",
            "2021-05-09 19:37:09,144 : - worker thread finished; awaiting finish of 0 more threads\n",
            "2021-05-09 19:37:09,150 : - EPOCH - 25 : training on 571354 raw words (497254 effective words) took 2.3s, 212393 effective words/s\n",
            "2021-05-09 19:37:10,247 : - EPOCH 26 - PROGRESS: at 36.81% examples, 169552 words/s, in_qsize 5, out_qsize 0\n",
            "2021-05-09 19:37:11,295 : - EPOCH 26 - PROGRESS: at 78.77% examples, 184127 words/s, in_qsize 5, out_qsize 0\n",
            "2021-05-09 19:37:11,743 : - worker thread finished; awaiting finish of 2 more threads\n",
            "2021-05-09 19:37:11,751 : - worker thread finished; awaiting finish of 1 more threads\n",
            "2021-05-09 19:37:11,779 : - worker thread finished; awaiting finish of 0 more threads\n",
            "2021-05-09 19:37:11,780 : - EPOCH - 26 : training on 571354 raw words (497440 effective words) took 2.6s, 190471 effective words/s\n",
            "2021-05-09 19:37:12,793 : - EPOCH 27 - PROGRESS: at 40.34% examples, 200181 words/s, in_qsize 5, out_qsize 0\n",
            "2021-05-09 19:37:13,845 : - EPOCH 27 - PROGRESS: at 89.23% examples, 216261 words/s, in_qsize 5, out_qsize 0\n",
            "2021-05-09 19:37:13,969 : - worker thread finished; awaiting finish of 2 more threads\n",
            "2021-05-09 19:37:13,974 : - worker thread finished; awaiting finish of 1 more threads\n",
            "2021-05-09 19:37:14,017 : - worker thread finished; awaiting finish of 0 more threads\n",
            "2021-05-09 19:37:14,022 : - EPOCH - 27 : training on 571354 raw words (497465 effective words) took 2.2s, 223169 effective words/s\n",
            "2021-05-09 19:37:15,070 : - EPOCH 28 - PROGRESS: at 40.34% examples, 193379 words/s, in_qsize 5, out_qsize 0\n",
            "2021-05-09 19:37:16,072 : - EPOCH 28 - PROGRESS: at 82.26% examples, 200693 words/s, in_qsize 5, out_qsize 0\n",
            "2021-05-09 19:37:16,433 : - worker thread finished; awaiting finish of 2 more threads\n",
            "2021-05-09 19:37:16,443 : - worker thread finished; awaiting finish of 1 more threads\n",
            "2021-05-09 19:37:16,487 : - worker thread finished; awaiting finish of 0 more threads\n",
            "2021-05-09 19:37:16,489 : - EPOCH - 28 : training on 571354 raw words (497364 effective words) took 2.5s, 202566 effective words/s\n",
            "2021-05-09 19:37:17,537 : - EPOCH 29 - PROGRESS: at 38.58% examples, 187586 words/s, in_qsize 4, out_qsize 1\n",
            "2021-05-09 19:37:18,540 : - EPOCH 29 - PROGRESS: at 78.77% examples, 193469 words/s, in_qsize 5, out_qsize 0\n",
            "2021-05-09 19:37:19,021 : - worker thread finished; awaiting finish of 2 more threads\n",
            "2021-05-09 19:37:19,029 : - worker thread finished; awaiting finish of 1 more threads\n",
            "2021-05-09 19:37:19,033 : - worker thread finished; awaiting finish of 0 more threads\n",
            "2021-05-09 19:37:19,034 : - EPOCH - 29 : training on 571354 raw words (497363 effective words) took 2.5s, 197466 effective words/s\n",
            "2021-05-09 19:37:20,125 : - EPOCH 30 - PROGRESS: at 45.60% examples, 210649 words/s, in_qsize 5, out_qsize 0\n",
            "2021-05-09 19:37:21,128 : - EPOCH 30 - PROGRESS: at 90.97% examples, 217806 words/s, in_qsize 5, out_qsize 0\n",
            "2021-05-09 19:37:21,236 : - worker thread finished; awaiting finish of 2 more threads\n",
            "2021-05-09 19:37:21,240 : - worker thread finished; awaiting finish of 1 more threads\n",
            "2021-05-09 19:37:21,264 : - worker thread finished; awaiting finish of 0 more threads\n",
            "2021-05-09 19:37:21,265 : - EPOCH - 30 : training on 571354 raw words (497476 effective words) took 2.2s, 224614 effective words/s\n",
            "2021-05-09 19:37:21,268 : - training on a 17140620 raw words (14920231 effective words) took 73.1s, 204229 effective words/s\n"
          ],
          "name": "stderr"
        },
        {
          "output_type": "stream",
          "text": [
            "CPU times: user 2min 17s, sys: 600 ms, total: 2min 18s\n",
            "Wall time: 1min 13s\n"
          ],
          "name": "stdout"
        },
        {
          "output_type": "execute_result",
          "data": {
            "text/plain": [
              "(14920231, 17140620)"
            ]
          },
          "metadata": {
            "tags": []
          },
          "execution_count": 215
        }
      ]
    },
    {
      "cell_type": "code",
      "metadata": {
        "colab": {
          "base_uri": "https://localhost:8080/"
        },
        "id": "ZtCTgr4wOPbn",
        "outputId": "b6d7ffd3-4dd6-4777-846d-be515051500e"
      },
      "source": [
        "w2v_modelo.wv.most_similar('google', topn=20)"
      ],
      "execution_count": 216,
      "outputs": [
        {
          "output_type": "stream",
          "text": [
            "2021-05-09 19:37:21,279 : - precomputing L2-norms of word weight vectors\n"
          ],
          "name": "stderr"
        },
        {
          "output_type": "execute_result",
          "data": {
            "text/plain": [
              "[('alphabet', 0.4810846447944641),\n",
              " ('apple', 0.46528828144073486),\n",
              " ('reguladores', 0.46264079213142395),\n",
              " ('foxconn', 0.44449615478515625),\n",
              " ('iphones', 0.43887168169021606),\n",
              " ('snapchat', 0.434112548828125),\n",
              " ('paypal', 0.4293990135192871),\n",
              " ('facebook', 0.42262017726898193),\n",
              " ('panasonic', 0.4197351038455963),\n",
              " ('antitruste', 0.41785094141960144),\n",
              " ('construindo', 0.41772693395614624),\n",
              " ('waze', 0.41756200790405273),\n",
              " ('nbcuniversal', 0.41362670063972473),\n",
              " ('software', 0.40977776050567627),\n",
              " ('espionar', 0.4091970920562744),\n",
              " ('lyft', 0.40716320276260376),\n",
              " ('verizon', 0.3982401490211487),\n",
              " ('alibaba', 0.39656442403793335),\n",
              " ('monsanto', 0.3939242959022522),\n",
              " ('cetip', 0.3937779664993286)]"
            ]
          },
          "metadata": {
            "tags": []
          },
          "execution_count": 216
        }
      ]
    },
    {
      "cell_type": "code",
      "metadata": {
        "colab": {
          "base_uri": "https://localhost:8080/"
        },
        "id": "n8_s-FZ4QhqY",
        "outputId": "fbb86f62-78f6-4491-9eb0-c4ca9166878d"
      },
      "source": [
        "w2v_modelo.wv.most_similar('messi', topn=20)"
      ],
      "execution_count": 217,
      "outputs": [
        {
          "output_type": "execute_result",
          "data": {
            "text/plain": [
              "[('chuteiras', 0.532110869884491),\n",
              " ('tevez', 0.5296798944473267),\n",
              " ('suárez', 0.5275701284408569),\n",
              " ('barça', 0.5252012014389038),\n",
              " ('goiano', 0.5157375335693359),\n",
              " ('cristiano', 0.5155342221260071),\n",
              " ('benzema', 0.5078092217445374),\n",
              " ('mordida', 0.4935854971408844),\n",
              " ('cavani', 0.49244338274002075),\n",
              " ('espanyol', 0.4910869300365448),\n",
              " ('entendo', 0.48958808183670044),\n",
              " ('lionel', 0.4881048798561096),\n",
              " ('calleri', 0.4876407980918884),\n",
              " ('maría', 0.4816652536392212),\n",
              " ('maradona', 0.48059946298599243),\n",
              " ('griezmann', 0.4732281267642975),\n",
              " ('ronaldo', 0.4687436521053314),\n",
              " ('buffarini', 0.4657873809337616),\n",
              " ('abusar', 0.4620271325111389),\n",
              " ('homofóbicos', 0.46098631620407104)]"
            ]
          },
          "metadata": {
            "tags": []
          },
          "execution_count": 217
        }
      ]
    },
    {
      "cell_type": "code",
      "metadata": {
        "id": "Cn5RJ5w0QZrh"
      },
      "source": [
        "google = {}\n",
        "i = 0\n",
        "for palavra, valor in w2v_modelo.wv.most_similar('google', topn=25):\n",
        "  google[i] = [palavra, valor]\n",
        "  i += 1\n",
        "\n",
        "google = pd.DataFrame(google, index=['palavra','valor']).T"
      ],
      "execution_count": 218,
      "outputs": []
    },
    {
      "cell_type": "code",
      "metadata": {
        "colab": {
          "base_uri": "https://localhost:8080/",
          "height": 553
        },
        "id": "nYMmg7gegtKH",
        "outputId": "75d2a3dc-fa42-4bed-dafc-9ebcd0f58e96"
      },
      "source": [
        "\n",
        "plt.figure(figsize=(12,8))\n",
        "ax = sns.barplot(x='valor', y='palavra', data=google, palette='viridis')\n",
        "#ax.set_xticklabels(google['palavra'], rotation=90)\n",
        "plt.title(f'Palavra similar à \"GOOGLE\"', fontsize=20, pad=20)\n",
        "ax;"
      ],
      "execution_count": 219,
      "outputs": [
        {
          "output_type": "display_data",
          "data": {
            "image/png": "[encoded data removed]",
            "text/plain": [
              "<Figure size 864x576 with 1 Axes>"
            ]
          },
          "metadata": {
            "tags": [],
            "needs_background": "light"
          }
        }
      ]
    },
    {
      "cell_type": "markdown",
      "metadata": {
        "id": "ZNv56qHYiYPG"
      },
      "source": [
        "## Fazendo operações com palavras\n",
        "\n",
        "Dado que os parâmetros da função ``most_similar(self, positive=None, negative=None, topn=10, restrict_vocab=None, indexer=None)`` podemos passar uma lista de palavras \"positivos\" e uma lista de palavras \"negativas\", onde ele somará o contexto das positivas e retirará o contexto das negativas, por exemplo:\n",
        "\n",
        "$$\\text{PROFESSOR + MULHER - HOMEM = PROFESSORA},$$\n",
        "\n",
        "acima foi somado o contexto da palavra professor mais o contexto da palavra mulher tirado o contexto da palavra homem."
      ]
    },
    {
      "cell_type": "code",
      "metadata": {
        "colab": {
          "base_uri": "https://localhost:8080/"
        },
        "id": "tnTfIKkjias8",
        "outputId": "f9fc2c37-f7e9-4c50-f9a3-51e7b999c30a"
      },
      "source": [
        "w2v_modelo.wv.most_similar(positive=['professor', 'mulher'], negative=['homem'], topn=5)"
      ],
      "execution_count": 220,
      "outputs": [
        {
          "output_type": "execute_result",
          "data": {
            "text/plain": [
              "[('girafales', 0.30833277106285095),\n",
              " ('professora', 0.2940760850906372),\n",
              " ('anunciada', 0.2938944399356842),\n",
              " ('vocação', 0.2888733148574829),\n",
              " ('referência', 0.2862910032272339)]"
            ]
          },
          "metadata": {
            "tags": []
          },
          "execution_count": 220
        }
      ]
    },
    {
      "cell_type": "code",
      "metadata": {
        "id": "SBFyBtzikKZF"
      },
      "source": [
        ""
      ],
      "execution_count": 221,
      "outputs": []
    }
  ]
}